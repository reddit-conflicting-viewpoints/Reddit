{
 "cells": [
  {
   "cell_type": "code",
   "execution_count": 307,
   "metadata": {},
   "outputs": [
    {
     "name": "stderr",
     "output_type": "stream",
     "text": [
      "[nltk_data] Downloading package punkt to\n",
      "[nltk_data]     /Users/saimuktevi/nltk_data...\n",
      "[nltk_data]   Package punkt is already up-to-date!\n",
      "[nltk_data] Downloading package stopwords to\n",
      "[nltk_data]     /Users/saimuktevi/nltk_data...\n",
      "[nltk_data]   Package stopwords is already up-to-date!\n"
     ]
    }
   ],
   "source": [
    "import pandas as pd\n",
    "import nltk\n",
    "from bertopic import BERTopic\n",
    "\n",
    "import numpy as np\n",
    "import pandas as pd\n",
    "import matplotlib.pyplot as plt\n",
    "import matplotlib.colors as mcolors\n",
    "%matplotlib inline\n",
    "\n",
    "import itertools\n",
    "from wordcloud import WordCloud, STOPWORDS\n",
    "\n",
    "from src.features.preprocess_old import PreProcess\n",
    "\n",
    "import nltk\n",
    "nltk.download('punkt')\n",
    "nltk.download('stopwords')\n",
    "from nltk.tokenize import sent_tokenize, word_tokenize\n",
    "from nltk.probability import FreqDist\n",
    "from nltk.corpus import stopwords, wordnet\n",
    "from nltk.stem import WordNetLemmatizer, PorterStemmer\n",
    "import re\n",
    "\n",
    "from gensim import corpora, models\n",
    "import gensim"
   ]
  },
  {
   "cell_type": "markdown",
   "metadata": {},
   "source": [
    "# Iteration 1 - Understanding the Data"
   ]
  },
  {
   "cell_type": "code",
   "execution_count": 261,
   "metadata": {},
   "outputs": [],
   "source": [
    "def remove_escape_chars(s):\n",
    "    \"\"\"\n",
    "    Helper function used to replace hashtags with empty string\n",
    "    \"\"\"\n",
    "    if isinstance(s, str):\n",
    "        return re.sub(r'\\n', '', s)\n",
    "    else:\n",
    "        return s\n",
    "def filter_urls(s):\n",
    "    \"\"\"\n",
    "    Helper function used to replace URLs with empty string\n",
    "    \"\"\"\n",
    "    if isinstance(s, str):\n",
    "        return re.sub(r'(https|http)?:\\/\\/(\\w|\\.|\\/|\\?|\\=|\\&|\\%)*\\b', '', s, flags=re.MULTILINE)\n",
    "    else:\n",
    "        return s"
   ]
  },
  {
   "cell_type": "code",
   "execution_count": 262,
   "metadata": {},
   "outputs": [],
   "source": [
    "subreddit = \"computerscience\""
   ]
  },
  {
   "cell_type": "markdown",
   "metadata": {},
   "source": [
    "## EDA Posts"
   ]
  },
  {
   "cell_type": "code",
   "execution_count": 263,
   "metadata": {},
   "outputs": [],
   "source": [
    "world_posts = pd.read_csv('../data/raw/{}_posts.csv'.format(subreddit))\n",
    "world_comments = pd.read_csv('../data/raw/{}_comments.csv'.format(subreddit))"
   ]
  },
  {
   "cell_type": "code",
   "execution_count": 264,
   "metadata": {},
   "outputs": [
    {
     "data": {
      "text/html": [
       "<div>\n",
       "<style scoped>\n",
       "    .dataframe tbody tr th:only-of-type {\n",
       "        vertical-align: middle;\n",
       "    }\n",
       "\n",
       "    .dataframe tbody tr th {\n",
       "        vertical-align: top;\n",
       "    }\n",
       "\n",
       "    .dataframe thead th {\n",
       "        text-align: right;\n",
       "    }\n",
       "</style>\n",
       "<table border=\"1\" class=\"dataframe\">\n",
       "  <thead>\n",
       "    <tr style=\"text-align: right;\">\n",
       "      <th></th>\n",
       "      <th>post_id</th>\n",
       "      <th>title</th>\n",
       "      <th>score</th>\n",
       "      <th>upvote_ratio</th>\n",
       "      <th>subreddit</th>\n",
       "      <th>url</th>\n",
       "      <th>num_comments</th>\n",
       "      <th>body</th>\n",
       "      <th>created</th>\n",
       "    </tr>\n",
       "  </thead>\n",
       "  <tbody>\n",
       "    <tr>\n",
       "      <th>0</th>\n",
       "      <td>n2n0ax</td>\n",
       "      <td>New to programming or computer science? Want a...</td>\n",
       "      <td>375</td>\n",
       "      <td>1.00</td>\n",
       "      <td>computerscience</td>\n",
       "      <td>https://www.reddit.com/r/computerscience/comme...</td>\n",
       "      <td>1037</td>\n",
       "      <td>The previous thread was finally archived with ...</td>\n",
       "      <td>1.619890e+09</td>\n",
       "    </tr>\n",
       "    <tr>\n",
       "      <th>1</th>\n",
       "      <td>qb4bof</td>\n",
       "      <td>THIS IS NOT A TECH SUPPORT SUB OR A COMPUTER R...</td>\n",
       "      <td>404</td>\n",
       "      <td>0.97</td>\n",
       "      <td>computerscience</td>\n",
       "      <td>https://www.reddit.com/r/computerscience/comme...</td>\n",
       "      <td>54</td>\n",
       "      <td>Tech Support: /r/techsupport\\n\\nComputer Recom...</td>\n",
       "      <td>1.634619e+09</td>\n",
       "    </tr>\n",
       "    <tr>\n",
       "      <th>2</th>\n",
       "      <td>s8afrp</td>\n",
       "      <td>Ways to learn higher level math through CS?</td>\n",
       "      <td>12</td>\n",
       "      <td>0.88</td>\n",
       "      <td>computerscience</td>\n",
       "      <td>https://www.reddit.com/r/computerscience/comme...</td>\n",
       "      <td>3</td>\n",
       "      <td>I'm a university student, and while I've taken...</td>\n",
       "      <td>1.642654e+09</td>\n",
       "    </tr>\n",
       "    <tr>\n",
       "      <th>3</th>\n",
       "      <td>s7yrsa</td>\n",
       "      <td>Why is there nothing between 8bit and 16bit?</td>\n",
       "      <td>23</td>\n",
       "      <td>0.82</td>\n",
       "      <td>computerscience</td>\n",
       "      <td>https://www.reddit.com/r/computerscience/comme...</td>\n",
       "      <td>19</td>\n",
       "      <td>For example, if i want to change the image spe...</td>\n",
       "      <td>1.642622e+09</td>\n",
       "    </tr>\n",
       "    <tr>\n",
       "      <th>4</th>\n",
       "      <td>s7li8v</td>\n",
       "      <td>Why is Internet/transmission speed in Bit and ...</td>\n",
       "      <td>59</td>\n",
       "      <td>0.95</td>\n",
       "      <td>computerscience</td>\n",
       "      <td>https://www.reddit.com/r/computerscience/comme...</td>\n",
       "      <td>41</td>\n",
       "      <td>I am always wondering about this. Why Internet...</td>\n",
       "      <td>1.642581e+09</td>\n",
       "    </tr>\n",
       "  </tbody>\n",
       "</table>\n",
       "</div>"
      ],
      "text/plain": [
       "  post_id                                              title  score  \\\n",
       "0  n2n0ax  New to programming or computer science? Want a...    375   \n",
       "1  qb4bof  THIS IS NOT A TECH SUPPORT SUB OR A COMPUTER R...    404   \n",
       "2  s8afrp        Ways to learn higher level math through CS?     12   \n",
       "3  s7yrsa       Why is there nothing between 8bit and 16bit?     23   \n",
       "4  s7li8v  Why is Internet/transmission speed in Bit and ...     59   \n",
       "\n",
       "   upvote_ratio        subreddit  \\\n",
       "0          1.00  computerscience   \n",
       "1          0.97  computerscience   \n",
       "2          0.88  computerscience   \n",
       "3          0.82  computerscience   \n",
       "4          0.95  computerscience   \n",
       "\n",
       "                                                 url  num_comments  \\\n",
       "0  https://www.reddit.com/r/computerscience/comme...          1037   \n",
       "1  https://www.reddit.com/r/computerscience/comme...            54   \n",
       "2  https://www.reddit.com/r/computerscience/comme...             3   \n",
       "3  https://www.reddit.com/r/computerscience/comme...            19   \n",
       "4  https://www.reddit.com/r/computerscience/comme...            41   \n",
       "\n",
       "                                                body       created  \n",
       "0  The previous thread was finally archived with ...  1.619890e+09  \n",
       "1  Tech Support: /r/techsupport\\n\\nComputer Recom...  1.634619e+09  \n",
       "2  I'm a university student, and while I've taken...  1.642654e+09  \n",
       "3  For example, if i want to change the image spe...  1.642622e+09  \n",
       "4  I am always wondering about this. Why Internet...  1.642581e+09  "
      ]
     },
     "execution_count": 264,
     "metadata": {},
     "output_type": "execute_result"
    }
   ],
   "source": [
    "world_posts.head()"
   ]
  },
  {
   "cell_type": "code",
   "execution_count": 265,
   "metadata": {},
   "outputs": [],
   "source": [
    "preprocessed_df = PreProcess.preprocess(world_posts, 'body')\n",
    "for i in range(len(preprocessed_df.index)):\n",
    "    preprocessed_df.at[i, 'body_string'] = ' '.join([str(elem) for elem in preprocessed_df.at[i, 'body_stem']])\n",
    "preprocessed_df['body'] = preprocessed_df['body'].apply(remove_escape_chars)\n",
    "preprocessed_df['body'] = preprocessed_df['body'].apply(filter_urls)"
   ]
  },
  {
   "cell_type": "code",
   "execution_count": 266,
   "metadata": {},
   "outputs": [
    {
     "data": {
      "text/html": [
       "<div>\n",
       "<style scoped>\n",
       "    .dataframe tbody tr th:only-of-type {\n",
       "        vertical-align: middle;\n",
       "    }\n",
       "\n",
       "    .dataframe tbody tr th {\n",
       "        vertical-align: top;\n",
       "    }\n",
       "\n",
       "    .dataframe thead th {\n",
       "        text-align: right;\n",
       "    }\n",
       "</style>\n",
       "<table border=\"1\" class=\"dataframe\">\n",
       "  <thead>\n",
       "    <tr style=\"text-align: right;\">\n",
       "      <th></th>\n",
       "      <th>post_id</th>\n",
       "      <th>title</th>\n",
       "      <th>score</th>\n",
       "      <th>upvote_ratio</th>\n",
       "      <th>subreddit</th>\n",
       "      <th>url</th>\n",
       "      <th>num_comments</th>\n",
       "      <th>body</th>\n",
       "      <th>created</th>\n",
       "      <th>body_word_token</th>\n",
       "      <th>body_filtered</th>\n",
       "      <th>body_stem</th>\n",
       "      <th>body_string</th>\n",
       "    </tr>\n",
       "  </thead>\n",
       "  <tbody>\n",
       "    <tr>\n",
       "      <th>0</th>\n",
       "      <td>n2n0ax</td>\n",
       "      <td>New to programming or computer science? Want a...</td>\n",
       "      <td>375</td>\n",
       "      <td>1.00</td>\n",
       "      <td>computerscience</td>\n",
       "      <td>https://www.reddit.com/r/computerscience/comme...</td>\n",
       "      <td>1037</td>\n",
       "      <td>The previous thread was finally archived with ...</td>\n",
       "      <td>1.619890e+09</td>\n",
       "      <td>[The, previous, thread, was, finally, archived...</td>\n",
       "      <td>[previous, thread, finally, archived, 500, com...</td>\n",
       "      <td>[previou, thread, final, archiv, 500, comment,...</td>\n",
       "      <td>previou thread final archiv 500 comment repli</td>\n",
       "    </tr>\n",
       "    <tr>\n",
       "      <th>1</th>\n",
       "      <td>qb4bof</td>\n",
       "      <td>THIS IS NOT A TECH SUPPORT SUB OR A COMPUTER R...</td>\n",
       "      <td>404</td>\n",
       "      <td>0.97</td>\n",
       "      <td>computerscience</td>\n",
       "      <td>https://www.reddit.com/r/computerscience/comme...</td>\n",
       "      <td>54</td>\n",
       "      <td>Tech Support: /r/techsupportComputer Recommend...</td>\n",
       "      <td>1.634619e+09</td>\n",
       "      <td>[Tech, Support, :, /r/techsupport, Computer, R...</td>\n",
       "      <td>[tech, support, rtechsupport, computer, recomm...</td>\n",
       "      <td>[tech, support, rtechsupport, comput, recommen...</td>\n",
       "      <td>tech support rtechsupport comput recommend rsu...</td>\n",
       "    </tr>\n",
       "    <tr>\n",
       "      <th>2</th>\n",
       "      <td>s8afrp</td>\n",
       "      <td>Ways to learn higher level math through CS?</td>\n",
       "      <td>12</td>\n",
       "      <td>0.88</td>\n",
       "      <td>computerscience</td>\n",
       "      <td>https://www.reddit.com/r/computerscience/comme...</td>\n",
       "      <td>3</td>\n",
       "      <td>I'm a university student, and while I've taken...</td>\n",
       "      <td>1.642654e+09</td>\n",
       "      <td>[I, 'm, a, university, student, ,, and, while,...</td>\n",
       "      <td>[university, student, taken, math, classes, la...</td>\n",
       "      <td>[univers, student, taken, math, class, la, mul...</td>\n",
       "      <td>univers student taken math class la multivari ...</td>\n",
       "    </tr>\n",
       "    <tr>\n",
       "      <th>3</th>\n",
       "      <td>s7yrsa</td>\n",
       "      <td>Why is there nothing between 8bit and 16bit?</td>\n",
       "      <td>23</td>\n",
       "      <td>0.82</td>\n",
       "      <td>computerscience</td>\n",
       "      <td>https://www.reddit.com/r/computerscience/comme...</td>\n",
       "      <td>19</td>\n",
       "      <td>For example, if i want to change the image spe...</td>\n",
       "      <td>1.642622e+09</td>\n",
       "      <td>[For, example, ,, if, i, want, to, change, the...</td>\n",
       "      <td>[example, want, change, image, specifications,...</td>\n",
       "      <td>[exampl, want, chang, imag, specif, photoshop,...</td>\n",
       "      <td>exampl want chang imag specif photoshop choos ...</td>\n",
       "    </tr>\n",
       "    <tr>\n",
       "      <th>4</th>\n",
       "      <td>s7li8v</td>\n",
       "      <td>Why is Internet/transmission speed in Bit and ...</td>\n",
       "      <td>59</td>\n",
       "      <td>0.95</td>\n",
       "      <td>computerscience</td>\n",
       "      <td>https://www.reddit.com/r/computerscience/comme...</td>\n",
       "      <td>41</td>\n",
       "      <td>I am always wondering about this. Why Internet...</td>\n",
       "      <td>1.642581e+09</td>\n",
       "      <td>[I, am, always, wondering, about, this, .]</td>\n",
       "      <td>[always, wondering]</td>\n",
       "      <td>[alway, wonder]</td>\n",
       "      <td>alway wonder</td>\n",
       "    </tr>\n",
       "  </tbody>\n",
       "</table>\n",
       "</div>"
      ],
      "text/plain": [
       "  post_id                                              title  score  \\\n",
       "0  n2n0ax  New to programming or computer science? Want a...    375   \n",
       "1  qb4bof  THIS IS NOT A TECH SUPPORT SUB OR A COMPUTER R...    404   \n",
       "2  s8afrp        Ways to learn higher level math through CS?     12   \n",
       "3  s7yrsa       Why is there nothing between 8bit and 16bit?     23   \n",
       "4  s7li8v  Why is Internet/transmission speed in Bit and ...     59   \n",
       "\n",
       "   upvote_ratio        subreddit  \\\n",
       "0          1.00  computerscience   \n",
       "1          0.97  computerscience   \n",
       "2          0.88  computerscience   \n",
       "3          0.82  computerscience   \n",
       "4          0.95  computerscience   \n",
       "\n",
       "                                                 url  num_comments  \\\n",
       "0  https://www.reddit.com/r/computerscience/comme...          1037   \n",
       "1  https://www.reddit.com/r/computerscience/comme...            54   \n",
       "2  https://www.reddit.com/r/computerscience/comme...             3   \n",
       "3  https://www.reddit.com/r/computerscience/comme...            19   \n",
       "4  https://www.reddit.com/r/computerscience/comme...            41   \n",
       "\n",
       "                                                body       created  \\\n",
       "0  The previous thread was finally archived with ...  1.619890e+09   \n",
       "1  Tech Support: /r/techsupportComputer Recommend...  1.634619e+09   \n",
       "2  I'm a university student, and while I've taken...  1.642654e+09   \n",
       "3  For example, if i want to change the image spe...  1.642622e+09   \n",
       "4  I am always wondering about this. Why Internet...  1.642581e+09   \n",
       "\n",
       "                                     body_word_token  \\\n",
       "0  [The, previous, thread, was, finally, archived...   \n",
       "1  [Tech, Support, :, /r/techsupport, Computer, R...   \n",
       "2  [I, 'm, a, university, student, ,, and, while,...   \n",
       "3  [For, example, ,, if, i, want, to, change, the...   \n",
       "4         [I, am, always, wondering, about, this, .]   \n",
       "\n",
       "                                       body_filtered  \\\n",
       "0  [previous, thread, finally, archived, 500, com...   \n",
       "1  [tech, support, rtechsupport, computer, recomm...   \n",
       "2  [university, student, taken, math, classes, la...   \n",
       "3  [example, want, change, image, specifications,...   \n",
       "4                                [always, wondering]   \n",
       "\n",
       "                                           body_stem  \\\n",
       "0  [previou, thread, final, archiv, 500, comment,...   \n",
       "1  [tech, support, rtechsupport, comput, recommen...   \n",
       "2  [univers, student, taken, math, class, la, mul...   \n",
       "3  [exampl, want, chang, imag, specif, photoshop,...   \n",
       "4                                    [alway, wonder]   \n",
       "\n",
       "                                         body_string  \n",
       "0      previou thread final archiv 500 comment repli  \n",
       "1  tech support rtechsupport comput recommend rsu...  \n",
       "2  univers student taken math class la multivari ...  \n",
       "3  exampl want chang imag specif photoshop choos ...  \n",
       "4                                       alway wonder  "
      ]
     },
     "execution_count": 266,
     "metadata": {},
     "output_type": "execute_result"
    }
   ],
   "source": [
    "preprocessed_df.head()"
   ]
  },
  {
   "cell_type": "code",
   "execution_count": 267,
   "metadata": {},
   "outputs": [],
   "source": [
    "def eda(df, pre='body'):\n",
    "    print(\"Number of Posts:\",df.shape[0])\n",
    "    \n",
    "    all_words = [word for tokens in df[pre + '_filtered'] for word in tokens]\n",
    "    post_lengths = [len(tokens) for tokens in df[pre + '_filtered']]\n",
    "    vocab = sorted(list(set(all_words)))\n",
    "\n",
    "    print('{} words total (after preprocessing), with a vocabulary size of {}'.format(len(all_words), len(vocab)))\n",
    "    print('Max post length is {}'.format(max(post_lengths)))\n",
    "    \n",
    "    flat_words = [item for sublist in df[pre + '_filtered'] for item in sublist]\n",
    "    word_freq = FreqDist(flat_words)\n",
    "    fdf = pd.DataFrame(word_freq.most_common(20), columns=['word', 'frequency'])\n",
    "    fdf.plot(kind='bar', x='word', rot=70)"
   ]
  },
  {
   "cell_type": "code",
   "execution_count": 268,
   "metadata": {},
   "outputs": [
    {
     "name": "stdout",
     "output_type": "stream",
     "text": [
      "Number of Posts: 492\n",
      "4425 words total (after preprocessing), with a vocabulary size of 1944\n",
      "Max post length is 72\n"
     ]
    },
    {
     "data": {
      "image/png": "[encoded data removed]",
      "text/plain": [
       "<Figure size 432x288 with 1 Axes>"
      ]
     },
     "metadata": {
      "needs_background": "light"
     },
     "output_type": "display_data"
    }
   ],
   "source": [
    "eda(preprocessed_df)"
   ]
  },
  {
   "cell_type": "markdown",
   "metadata": {},
   "source": [
    "## EDA Comments "
   ]
  },
  {
   "cell_type": "code",
   "execution_count": 269,
   "metadata": {},
   "outputs": [
    {
     "data": {
      "text/html": [
       "<div>\n",
       "<style scoped>\n",
       "    .dataframe tbody tr th:only-of-type {\n",
       "        vertical-align: middle;\n",
       "    }\n",
       "\n",
       "    .dataframe tbody tr th {\n",
       "        vertical-align: top;\n",
       "    }\n",
       "\n",
       "    .dataframe thead th {\n",
       "        text-align: right;\n",
       "    }\n",
       "</style>\n",
       "<table border=\"1\" class=\"dataframe\">\n",
       "  <thead>\n",
       "    <tr style=\"text-align: right;\">\n",
       "      <th></th>\n",
       "      <th>post_id</th>\n",
       "      <th>comment</th>\n",
       "    </tr>\n",
       "  </thead>\n",
       "  <tbody>\n",
       "    <tr>\n",
       "      <th>0</th>\n",
       "      <td>n2n0ax</td>\n",
       "      <td>How late is too late to start a career in prog...</td>\n",
       "    </tr>\n",
       "    <tr>\n",
       "      <th>1</th>\n",
       "      <td>n2n0ax</td>\n",
       "      <td>I am a freshman at a university and haven't be...</td>\n",
       "    </tr>\n",
       "    <tr>\n",
       "      <th>2</th>\n",
       "      <td>n2n0ax</td>\n",
       "      <td>I'm still in highschool but really interested ...</td>\n",
       "    </tr>\n",
       "    <tr>\n",
       "      <th>3</th>\n",
       "      <td>n2n0ax</td>\n",
       "      <td>This is probably a common question, but how we...</td>\n",
       "    </tr>\n",
       "    <tr>\n",
       "      <th>4</th>\n",
       "      <td>n2n0ax</td>\n",
       "      <td>I am planning on starting a CS major this fall...</td>\n",
       "    </tr>\n",
       "  </tbody>\n",
       "</table>\n",
       "</div>"
      ],
      "text/plain": [
       "  post_id                                            comment\n",
       "0  n2n0ax  How late is too late to start a career in prog...\n",
       "1  n2n0ax  I am a freshman at a university and haven't be...\n",
       "2  n2n0ax  I'm still in highschool but really interested ...\n",
       "3  n2n0ax  This is probably a common question, but how we...\n",
       "4  n2n0ax  I am planning on starting a CS major this fall..."
      ]
     },
     "execution_count": 269,
     "metadata": {},
     "output_type": "execute_result"
    }
   ],
   "source": [
    "world_comments.head()"
   ]
  },
  {
   "cell_type": "code",
   "execution_count": 270,
   "metadata": {},
   "outputs": [
    {
     "data": {
      "text/html": [
       "<div>\n",
       "<style scoped>\n",
       "    .dataframe tbody tr th:only-of-type {\n",
       "        vertical-align: middle;\n",
       "    }\n",
       "\n",
       "    .dataframe tbody tr th {\n",
       "        vertical-align: top;\n",
       "    }\n",
       "\n",
       "    .dataframe thead th {\n",
       "        text-align: right;\n",
       "    }\n",
       "</style>\n",
       "<table border=\"1\" class=\"dataframe\">\n",
       "  <thead>\n",
       "    <tr style=\"text-align: right;\">\n",
       "      <th></th>\n",
       "      <th>post_id</th>\n",
       "      <th>comment</th>\n",
       "      <th>comment_word_token</th>\n",
       "      <th>comment_filtered</th>\n",
       "      <th>comment_stem</th>\n",
       "      <th>comment_string</th>\n",
       "    </tr>\n",
       "  </thead>\n",
       "  <tbody>\n",
       "    <tr>\n",
       "      <th>0</th>\n",
       "      <td>n2n0ax</td>\n",
       "      <td>How late is too late to start a career in prog...</td>\n",
       "      <td>[How, late, is, too, late, to, start, a, caree...</td>\n",
       "      <td>[late, late, start, career, programming]</td>\n",
       "      <td>[late, late, start, career, program]</td>\n",
       "      <td>late late start career program</td>\n",
       "    </tr>\n",
       "    <tr>\n",
       "      <th>1</th>\n",
       "      <td>n2n0ax</td>\n",
       "      <td>I am a freshman at a university and haven't be...</td>\n",
       "      <td>[I, am, a, freshman, at, a, university, and, h...</td>\n",
       "      <td>[freshman, university, nt, able, work, side, p...</td>\n",
       "      <td>[freshman, univers, nt, abl, work, side, proje...</td>\n",
       "      <td>freshman univers nt abl work side project lear...</td>\n",
       "    </tr>\n",
       "    <tr>\n",
       "      <th>2</th>\n",
       "      <td>n2n0ax</td>\n",
       "      <td>I'm still in highschool but really interested ...</td>\n",
       "      <td>[I, 'm, still, in, highschool, but, really, in...</td>\n",
       "      <td>[still, highschool, really, interested, comput...</td>\n",
       "      <td>[still, highschool, realli, interest, comput, ...</td>\n",
       "      <td>still highschool realli interest comput scienc</td>\n",
       "    </tr>\n",
       "    <tr>\n",
       "      <th>3</th>\n",
       "      <td>n2n0ax</td>\n",
       "      <td>This is probably a common question, but how we...</td>\n",
       "      <td>[This, is, probably, a, common, question, ,, b...</td>\n",
       "      <td>[probably, common, question, well, coding, boo...</td>\n",
       "      <td>[probabl, common, question, well, code, bootca...</td>\n",
       "      <td>probabl common question well code bootcamp wor...</td>\n",
       "    </tr>\n",
       "    <tr>\n",
       "      <th>4</th>\n",
       "      <td>n2n0ax</td>\n",
       "      <td>I am planning on starting a CS major this fall...</td>\n",
       "      <td>[I, am, planning, on, starting, a, CS, major, ...</td>\n",
       "      <td>[planning, starting, cs, major, fall]</td>\n",
       "      <td>[plan, start, cs, major, fall]</td>\n",
       "      <td>plan start cs major fall</td>\n",
       "    </tr>\n",
       "  </tbody>\n",
       "</table>\n",
       "</div>"
      ],
      "text/plain": [
       "  post_id                                            comment  \\\n",
       "0  n2n0ax  How late is too late to start a career in prog...   \n",
       "1  n2n0ax  I am a freshman at a university and haven't be...   \n",
       "2  n2n0ax  I'm still in highschool but really interested ...   \n",
       "3  n2n0ax  This is probably a common question, but how we...   \n",
       "4  n2n0ax  I am planning on starting a CS major this fall...   \n",
       "\n",
       "                                  comment_word_token  \\\n",
       "0  [How, late, is, too, late, to, start, a, caree...   \n",
       "1  [I, am, a, freshman, at, a, university, and, h...   \n",
       "2  [I, 'm, still, in, highschool, but, really, in...   \n",
       "3  [This, is, probably, a, common, question, ,, b...   \n",
       "4  [I, am, planning, on, starting, a, CS, major, ...   \n",
       "\n",
       "                                    comment_filtered  \\\n",
       "0           [late, late, start, career, programming]   \n",
       "1  [freshman, university, nt, able, work, side, p...   \n",
       "2  [still, highschool, really, interested, comput...   \n",
       "3  [probably, common, question, well, coding, boo...   \n",
       "4              [planning, starting, cs, major, fall]   \n",
       "\n",
       "                                        comment_stem  \\\n",
       "0               [late, late, start, career, program]   \n",
       "1  [freshman, univers, nt, abl, work, side, proje...   \n",
       "2  [still, highschool, realli, interest, comput, ...   \n",
       "3  [probabl, common, question, well, code, bootca...   \n",
       "4                     [plan, start, cs, major, fall]   \n",
       "\n",
       "                                      comment_string  \n",
       "0                     late late start career program  \n",
       "1  freshman univers nt abl work side project lear...  \n",
       "2     still highschool realli interest comput scienc  \n",
       "3  probabl common question well code bootcamp wor...  \n",
       "4                           plan start cs major fall  "
      ]
     },
     "execution_count": 270,
     "metadata": {},
     "output_type": "execute_result"
    }
   ],
   "source": [
    "preprocessed_df_comments = PreProcess.preprocess(world_comments, 'comment')\n",
    "for i in range(len(preprocessed_df_comments.index)):\n",
    "    preprocessed_df_comments.at[i, 'comment_string'] = ' '.join([str(elem) for elem in preprocessed_df_comments.at[i, 'comment_stem']])\n",
    "preprocessed_df_comments.head()    "
   ]
  },
  {
   "cell_type": "code",
   "execution_count": 271,
   "metadata": {},
   "outputs": [],
   "source": [
    "# print(\"For post_id = n2n0ax:\")\n",
    "# eda(preprocessed_df_comments[preprocessed_df_comments.post_id == 'n2n0ax'], \"comment\")"
   ]
  },
  {
   "cell_type": "code",
   "execution_count": 272,
   "metadata": {},
   "outputs": [],
   "source": [
    "# display(preprocessed_df[preprocessed_df.post_id == 'n2n0ax'])\n",
    "# print(\"\\n>>>>Title: \\n\", preprocessed_df[preprocessed_df.post_id == 'n2n0ax'].title[0])\n",
    "# print(\"\\n>>>>Body: \\n\",preprocessed_df[preprocessed_df.post_id == 'n2n0ax'].body[0])"
   ]
  },
  {
   "cell_type": "markdown",
   "metadata": {},
   "source": [
    "## BERTopic on Posts Text (Body)"
   ]
  },
  {
   "cell_type": "code",
   "execution_count": 273,
   "metadata": {},
   "outputs": [
    {
     "data": {
      "text/html": [
       "<div>\n",
       "<style scoped>\n",
       "    .dataframe tbody tr th:only-of-type {\n",
       "        vertical-align: middle;\n",
       "    }\n",
       "\n",
       "    .dataframe tbody tr th {\n",
       "        vertical-align: top;\n",
       "    }\n",
       "\n",
       "    .dataframe thead th {\n",
       "        text-align: right;\n",
       "    }\n",
       "</style>\n",
       "<table border=\"1\" class=\"dataframe\">\n",
       "  <thead>\n",
       "    <tr style=\"text-align: right;\">\n",
       "      <th></th>\n",
       "      <th>post_id</th>\n",
       "      <th>title</th>\n",
       "      <th>score</th>\n",
       "      <th>upvote_ratio</th>\n",
       "      <th>subreddit</th>\n",
       "      <th>url</th>\n",
       "      <th>num_comments</th>\n",
       "      <th>body</th>\n",
       "      <th>created</th>\n",
       "      <th>body_word_token</th>\n",
       "      <th>body_filtered</th>\n",
       "      <th>body_stem</th>\n",
       "      <th>body_string</th>\n",
       "    </tr>\n",
       "  </thead>\n",
       "  <tbody>\n",
       "    <tr>\n",
       "      <th>0</th>\n",
       "      <td>n2n0ax</td>\n",
       "      <td>New to programming or computer science? Want a...</td>\n",
       "      <td>375</td>\n",
       "      <td>1.00</td>\n",
       "      <td>computerscience</td>\n",
       "      <td>https://www.reddit.com/r/computerscience/comme...</td>\n",
       "      <td>1037</td>\n",
       "      <td>The previous thread was finally archived with ...</td>\n",
       "      <td>1.619890e+09</td>\n",
       "      <td>[The, previous, thread, was, finally, archived...</td>\n",
       "      <td>[previous, thread, finally, archived, 500, com...</td>\n",
       "      <td>[previou, thread, final, archiv, 500, comment,...</td>\n",
       "      <td>previou thread final archiv 500 comment repli</td>\n",
       "    </tr>\n",
       "    <tr>\n",
       "      <th>1</th>\n",
       "      <td>qb4bof</td>\n",
       "      <td>THIS IS NOT A TECH SUPPORT SUB OR A COMPUTER R...</td>\n",
       "      <td>404</td>\n",
       "      <td>0.97</td>\n",
       "      <td>computerscience</td>\n",
       "      <td>https://www.reddit.com/r/computerscience/comme...</td>\n",
       "      <td>54</td>\n",
       "      <td>Tech Support: /r/techsupportComputer Recommend...</td>\n",
       "      <td>1.634619e+09</td>\n",
       "      <td>[Tech, Support, :, /r/techsupport, Computer, R...</td>\n",
       "      <td>[tech, support, rtechsupport, computer, recomm...</td>\n",
       "      <td>[tech, support, rtechsupport, comput, recommen...</td>\n",
       "      <td>tech support rtechsupport comput recommend rsu...</td>\n",
       "    </tr>\n",
       "    <tr>\n",
       "      <th>2</th>\n",
       "      <td>s8afrp</td>\n",
       "      <td>Ways to learn higher level math through CS?</td>\n",
       "      <td>12</td>\n",
       "      <td>0.88</td>\n",
       "      <td>computerscience</td>\n",
       "      <td>https://www.reddit.com/r/computerscience/comme...</td>\n",
       "      <td>3</td>\n",
       "      <td>I'm a university student, and while I've taken...</td>\n",
       "      <td>1.642654e+09</td>\n",
       "      <td>[I, 'm, a, university, student, ,, and, while,...</td>\n",
       "      <td>[university, student, taken, math, classes, la...</td>\n",
       "      <td>[univers, student, taken, math, class, la, mul...</td>\n",
       "      <td>univers student taken math class la multivari ...</td>\n",
       "    </tr>\n",
       "    <tr>\n",
       "      <th>3</th>\n",
       "      <td>s7yrsa</td>\n",
       "      <td>Why is there nothing between 8bit and 16bit?</td>\n",
       "      <td>23</td>\n",
       "      <td>0.82</td>\n",
       "      <td>computerscience</td>\n",
       "      <td>https://www.reddit.com/r/computerscience/comme...</td>\n",
       "      <td>19</td>\n",
       "      <td>For example, if i want to change the image spe...</td>\n",
       "      <td>1.642622e+09</td>\n",
       "      <td>[For, example, ,, if, i, want, to, change, the...</td>\n",
       "      <td>[example, want, change, image, specifications,...</td>\n",
       "      <td>[exampl, want, chang, imag, specif, photoshop,...</td>\n",
       "      <td>exampl want chang imag specif photoshop choos ...</td>\n",
       "    </tr>\n",
       "    <tr>\n",
       "      <th>4</th>\n",
       "      <td>s7li8v</td>\n",
       "      <td>Why is Internet/transmission speed in Bit and ...</td>\n",
       "      <td>59</td>\n",
       "      <td>0.95</td>\n",
       "      <td>computerscience</td>\n",
       "      <td>https://www.reddit.com/r/computerscience/comme...</td>\n",
       "      <td>41</td>\n",
       "      <td>I am always wondering about this. Why Internet...</td>\n",
       "      <td>1.642581e+09</td>\n",
       "      <td>[I, am, always, wondering, about, this, .]</td>\n",
       "      <td>[always, wondering]</td>\n",
       "      <td>[alway, wonder]</td>\n",
       "      <td>alway wonder</td>\n",
       "    </tr>\n",
       "  </tbody>\n",
       "</table>\n",
       "</div>"
      ],
      "text/plain": [
       "  post_id                                              title  score  \\\n",
       "0  n2n0ax  New to programming or computer science? Want a...    375   \n",
       "1  qb4bof  THIS IS NOT A TECH SUPPORT SUB OR A COMPUTER R...    404   \n",
       "2  s8afrp        Ways to learn higher level math through CS?     12   \n",
       "3  s7yrsa       Why is there nothing between 8bit and 16bit?     23   \n",
       "4  s7li8v  Why is Internet/transmission speed in Bit and ...     59   \n",
       "\n",
       "   upvote_ratio        subreddit  \\\n",
       "0          1.00  computerscience   \n",
       "1          0.97  computerscience   \n",
       "2          0.88  computerscience   \n",
       "3          0.82  computerscience   \n",
       "4          0.95  computerscience   \n",
       "\n",
       "                                                 url  num_comments  \\\n",
       "0  https://www.reddit.com/r/computerscience/comme...          1037   \n",
       "1  https://www.reddit.com/r/computerscience/comme...            54   \n",
       "2  https://www.reddit.com/r/computerscience/comme...             3   \n",
       "3  https://www.reddit.com/r/computerscience/comme...            19   \n",
       "4  https://www.reddit.com/r/computerscience/comme...            41   \n",
       "\n",
       "                                                body       created  \\\n",
       "0  The previous thread was finally archived with ...  1.619890e+09   \n",
       "1  Tech Support: /r/techsupportComputer Recommend...  1.634619e+09   \n",
       "2  I'm a university student, and while I've taken...  1.642654e+09   \n",
       "3  For example, if i want to change the image spe...  1.642622e+09   \n",
       "4  I am always wondering about this. Why Internet...  1.642581e+09   \n",
       "\n",
       "                                     body_word_token  \\\n",
       "0  [The, previous, thread, was, finally, archived...   \n",
       "1  [Tech, Support, :, /r/techsupport, Computer, R...   \n",
       "2  [I, 'm, a, university, student, ,, and, while,...   \n",
       "3  [For, example, ,, if, i, want, to, change, the...   \n",
       "4         [I, am, always, wondering, about, this, .]   \n",
       "\n",
       "                                       body_filtered  \\\n",
       "0  [previous, thread, finally, archived, 500, com...   \n",
       "1  [tech, support, rtechsupport, computer, recomm...   \n",
       "2  [university, student, taken, math, classes, la...   \n",
       "3  [example, want, change, image, specifications,...   \n",
       "4                                [always, wondering]   \n",
       "\n",
       "                                           body_stem  \\\n",
       "0  [previou, thread, final, archiv, 500, comment,...   \n",
       "1  [tech, support, rtechsupport, comput, recommen...   \n",
       "2  [univers, student, taken, math, class, la, mul...   \n",
       "3  [exampl, want, chang, imag, specif, photoshop,...   \n",
       "4                                    [alway, wonder]   \n",
       "\n",
       "                                         body_string  \n",
       "0      previou thread final archiv 500 comment repli  \n",
       "1  tech support rtechsupport comput recommend rsu...  \n",
       "2  univers student taken math class la multivari ...  \n",
       "3  exampl want chang imag specif photoshop choos ...  \n",
       "4                                       alway wonder  "
      ]
     },
     "execution_count": 273,
     "metadata": {},
     "output_type": "execute_result"
    }
   ],
   "source": [
    "preprocessed_df.head()"
   ]
  },
  {
   "cell_type": "code",
   "execution_count": 274,
   "metadata": {},
   "outputs": [
    {
     "data": {
      "text/plain": [
       "['The previous thread was finally archived with over 500 comments and replies! As well, it helped to *massively* cut down on the number of off topic posts on this subreddit, so that was awesome!This is the only place where college, career, and programming questions are allowed. They will be removed if they\\'re posted anywhere else.HOMEWORK HELP, TECH SUPPORT, AND PC PURCHASE ADVICE ARE STILL NOT ALLOWED!There are numerous subreddits more suited to those posts such as:/r/techsupport  /r/learnprogramming  /r/buildapc  /r/cscareerquestions  /r/csMajors Note: this thread is in \"contest mode\" so all questions have a chance at being at the top',\n",
       " \"Tech Support: /r/techsupportComputer Recommendations: /r/SuggestALaptop or /r/buildapcSorry if this comes off as rude, but despite the previous stickied post people keep making posts asking for tech support or asking which Mac Book they should buy for college. This isn't the subreddit for those posts. Computer Science != IT ~~despite what all my relatives think~~. This thread also is not the place for those questions. Use one of the above subreddits.\",\n",
       " \"I'm a university student, and while I've taken a few math classes (LA, multivariable calc, discrete math, probability), I've found that I really struggle with conventional math classes. Reading the textbook just doesn't click with me, and I often get lost in lectures. I think a big problem is that it all seems very abstract to me, and I don't really start to understand it until I put it to practical use. With that said, whenever I've had to learn mathematical concepts for a CS project, I've been able to understand it much better, as I really get to interact with it.Does anyone know of any good resources that teaches math in this way? I know the obvious answer is to try to work on a project using math and learn as I go, but I was hoping there would be a more structured resource I could use.\"]"
      ]
     },
     "execution_count": 274,
     "metadata": {},
     "output_type": "execute_result"
    }
   ],
   "source": [
    "docs = list(preprocessed_df['body'])\n",
    "docs[:3]"
   ]
  },
  {
   "cell_type": "code",
   "execution_count": 275,
   "metadata": {},
   "outputs": [
    {
     "data": {
      "text/plain": [
       "['The previous thread was finally archived with over 500 comments and replies! As well, it helped to *massively* cut down on the number of off topic posts on this subreddit, so that was awesome!This is the only place where college, career, and programming questions are allowed. They will be removed if they\\'re posted anywhere else.HOMEWORK HELP, TECH SUPPORT, AND PC PURCHASE ADVICE ARE STILL NOT ALLOWED!There are numerous subreddits more suited to those posts such as:/r/techsupport  /r/learnprogramming  /r/buildapc  /r/cscareerquestions  /r/csMajors Note: this thread is in \"contest mode\" so all questions have a chance at being at the top',\n",
       " \"Tech Support: /r/techsupportComputer Recommendations: /r/SuggestALaptop or /r/buildapcSorry if this comes off as rude, but despite the previous stickied post people keep making posts asking for tech support or asking which Mac Book they should buy for college. This isn't the subreddit for those posts. Computer Science != IT ~~despite what all my relatives think~~. This thread also is not the place for those questions. Use one of the above subreddits.\",\n",
       " \"I'm a university student, and while I've taken a few math classes (LA, multivariable calc, discrete math, probability), I've found that I really struggle with conventional math classes. Reading the textbook just doesn't click with me, and I often get lost in lectures. I think a big problem is that it all seems very abstract to me, and I don't really start to understand it until I put it to practical use. With that said, whenever I've had to learn mathematical concepts for a CS project, I've been able to understand it much better, as I really get to interact with it.Does anyone know of any good resources that teaches math in this way? I know the obvious answer is to try to work on a project using math and learn as I go, but I was hoping there would be a more structured resource I could use.\",\n",
       " 'For example, if i want to change the image specifications in photoshop, i can choose between 8 and 16 bit. But why is there nothing inbetween 8 and 16 bit? Since the difference between those to options is that high, 8 bits are sometimes too less and 16 bits are sometimes too high.',\n",
       " \"I am always wondering about this. Why Internet/transmission speed is always in Bits (Kbits, Mbits...) and storage capacity/file size is always in Bytes (Kbytes, Mbytes...)? Can't we just have the same unit for both of them (to reduce the confusion of some people)? Is there a reason for the convention like this?\",\n",
       " 'I graduated college with a business degree. Do you think you need a computer science degree to get a job in the tech industry? I want to get into coding and learning more about compsci. Any recommendations for beginners? Thanks.',\n",
       " 'I always wonderd, how people can write programs, that interact with the web like its their harddrive, I always get confused what, how an why the different protocols do. My biggest problem is finding a good resource to learn about the stuff, often I find myself on websites, that are glossing over details and leaving out things. So my question is where did you start and where did you learn it ? Good book recommendations related to the subject are appreciated',\n",
       " 'I’m a college student and I have a startup focusing on software and cloud. So far, we’ve been bodyshopping for clients (just to gain capital) before we start focusing on cloud services. I’m applying for internships, do i include my company in my resume or not? Grateful for any advice!',\n",
       " 'I am a current high school senior looking to go into computer science with a focus on game development. I currently own a 2018 MacBook Pro, but I would assume that I would need a device with a stronger GPU in order to program (and also game on) in college. Should I get a gaming laptop (sacrificing specs for portability) or would a gaming pc (sacrificing portability for better specs) for college? Would I need a strong laptop in order to study game development or would a MacBook suffice?',\n",
       " '[/@berginator/moores-law-is-driven-by-lithography-67dbd2c5d23e](/@berginator/moores-law-is-driven-by-lithography-67dbd2c5d23e)',\n",
       " \"I've learnt it today in Java but can't seem to wrap my head around it. How can I learn to use it?\",\n",
       " 'This is a little bit out there, but I think this is an interesting way to think about / apply the question of P=NP. Think about cellular life. Biologically, for many organisms (think simple multi cellular; plants, things that don’t have super complex brains) we understand the structure and function of literally every single atom and cell that they are made of. But we are unable to synthesize these organisms we know so much about ourselves in a lab despite knowing how to perfectly verify nearly every piece of their structure by looking at them. Translating to the P=NP problem, the “verification” of a problem can be thought of as examining every single piece of an organism and confirming that it is what we think it is. The “solving” of the problem would consist of creating such an organism from scratch, from non-living material. Despite knowing how every single piece of a multi cellular organism works and being able to verify them, humans cannot solve them by creating them in a lab. What is the only current known way to “create” life? By waiting for nature’s random iteration to try and fail over billions of years and trillions of “guess and check” iterations. If evolution can be thought of as the only way to achieve the “solution”, until we can figure out a way to synthesize complex multi cellular organisms from scratch, nature’s answer to the P=NP problem is that verifying a solution does not imply that it can be solved. Only guessed and checked over trillions of years.This may not make sense but I think it’s an interesting way to think of how nature sort of answers one of humanity’s biggest questions.',\n",
       " ' What are some good ways to practice the following, my main focus is in C++ \\\\- Qt / QML\\\\- Embedded Linux systems\\\\- Data Acquisition systems\\\\- User interface design\\\\- JSON\\\\- TCP/IP',\n",
       " \"Horray for quantum computing picking up more traction for the past few years. I've done a fair bit of reading and tinkered with things like qiskit  but algorithm implementation on a per qubit level seems a little 😬&#x200B;What does a RISC-like instruction set look like for QC, is it even viable? Are circuit construction implementations here to stay?\",\n",
       " \"Here's what [wikipedia]() says:> Even if P≠NP, the O(nW) complexity does not contradict the fact that the knapsack problem is NP-complete, since W, unlike n, is not polynomial in the length of the input to the problem.`W` is the max weight capacity.`n` is the number of items.Why is `n` polynomial in the length of the input? If the input is binary, `n` is definitely exponential in the bit length.Also, for problems in NP, we can verify them in polynomial time. However, here for a polynomial time algorithm in the numeric values `n` and `W` for knapsack, we still call knapsack NP-complete because of the length of the input. By the same logic, wouldn't the algorithm to verify a solution to knapsack **not** be polynomial (pseudo-polynomial) - and so, it's not even in NP?  Could you please clarify this?\",\n",
       " 'I have a question, which I believe is fairly well defined, but I don\\'t have the knowledge to approach it.  If anyone has an idea of a better place that I can ask this question that would be excellent.The problem :  I\\'m playing a game called Scam \\\\*cough\\\\* I mean Star Citizen and there are many large 3d worlds to explore but no coordinate system yet.  It does, however, give you the distance in kilometers you are from given hubs on said world as well as the center of the planet itself.The hair brained scheme:  Step 1 - take screenshots of the planet from X km away at each pole and then again from a few angles around the equator.  Step 2 - stitch those together onto a 3d sphere to create a mapped globe  Step 3 - take screenshots of interesting locations by flying to a certain altitude and looking straight down.  Then try to find software that can look at the screenshot and match it with a given location on the globeSome problems I\\'ll face:  \\\\- the screenshot will be a 2d image of a sphere and so will need to be reshaped as it cant just be put on as a skin ( there is a better mathy way of saying this right? something something projection? but im making sense yeah? )  \\\\- The planet will have lighting and cloud cover which change and could be confusing to any ML Algo.  \\\\- Mapping locations to the planet might be difficult as the planet may be too \\'samey\\'.  A second option is to record the distance one is from several WP on the planet and use that information to, i believe the word would be, \"triangulate\" the position? yeah? Does that sound right?This sounds very possible to me but might require some specialized ML magic that I\\'m not educated on? If anyone has any advice for how to better approach or frame the problem, or potential solutions for software or math that can be used to solve this, I would be stoked :)In case it\\'s relevant I\\'m fairly competent with JS and NodeExample Images&#x200B;',\n",
       " \"I'm joining a Web Dev bootcamp very soon that has a reputation of moving really fast and requiring long hours to be able to keep up with the program. The program entails learning to build full stack apps from scratch with an emphasis on OOP.Are there any theoretical / central concepts / fundamentals that would make it easier to grasp what I'm going to be taught?Should I spend my time learning more about Recursion, watch some condensed lectures on SICP [6.037 - Structure and Interpretation of Computer Programs (mit.edu)](/) ,  go through this [Developer Roadmaps](/)?Anyone have any good ideas?  Edit: Added some more specifics on what I will be learning.\",\n",
       " '',\n",
       " '',\n",
       " 'Arjan Scherpenisse gave an amazing talk with title \"Creating a scalable intent classifier with Elixir, Python and Tensorflow\" for the #ElixirConfEU conference in Warsow.   Watch the video & learn more about the QnA ninja, a classifier service that recognizes text  \\\\_hsWC2jE',\n",
       " 'Having finished a masters a couple years ago,  I miss having access to journals and articles that my university library provided. Is there a free/inexpensive source of similar materials that I may be overlooking?Thank you!',\n",
       " '',\n",
       " \"&#x200B;🔵 Singular Value Decomposition 🔵\\U0001fa84 Remember from the [post on eigenvectors](/): eigenvectors of a matrix are special vectors that only get scaled when the matrix is applied to them. While EVD (eigenvalue decomposition) can only be applied to special matrices (diagonalizable matrices) SVD is a generalization of EVD and can be applied to any rectangular matrix.🧩 Like prime factorization where a number is broken down to its prime factors (simpler pieces = prime numbers in this case); SVD factorizes the matrix into simpler pieces i.e. simpler matrices. This factorization or decomposition comes in handy for many applications some of which I briefly touch upon later.🏥🦴 Time for (somewhat of) an analogy: You can think of SVD as an x-ray of a matrix. It provides us with simpler pieces that constitute the matrix and by looking at these simpler pieces i.e. simpler matrices we can say a lot about the matrix in question. Things like its (pseudo-) inverse, rank, null-space, range among other things can be easily determined the same way a doctor can say a lot with an x-ray scan of your body.🔨 The Singular Value decomposition breaks the original matrix into 3 pieces: 2 unitary matrices and a rectangular diagonal matrix. You can draw a parallel with the Eigenvalue decomposition equation and see exactly how SVD has a more general form.🔄 With the help of the Singular Value decomposition we can explain what happens to an arbitrary vector when a matrix M is applied to it. Since M can be broken down into simpler pieces, we can represent the matrix M by a rotation, followed by scaling (by the singular values) and another rotation. So if you had a circle it would first be rotated then stretched by the singular values (becoming an ellipse) and finally be rotated to end up as a rotated ellipse.🗜️ There are numerous applications of SVD. Perhaps you could comment on the ones that I missed but you know about. One of the nicest things you can get is the pseudo-inverse of a matrix without doing crazy matrix inversion. This is because the simple pieces that SVD provides are extremely easy to invert making inversion of the original matrix child's play. SVD is heavily applied in solving numerical problems such as solving linear equations that so frequently pop up in engineering.🎥 Data compression and computing low-rank approximations make it handy for compressing images and videos so you can watch cat videos without buffering. And of course, SVD has also been used for ranking web pages like Google's Pagerank algorithm does so you can find your favorite recipe with a quick search.\\\\---------------------------------------------------------------------------------I have been studying and practicing Machine Learning and Computer Vision for 7+ years. As time has passed I have realized more and more the power of data-driven decision-making. Seeing firsthand what ML is capable of I have personally felt that it can be a great inter-disciplinary tool to automate workflows. I will bring up different topics of ML in the form of short notes which can be of interest to existing practitioners and fresh enthusiasts alike.The posts will cover topics like statistics, linear algebra, probability, data representation, modeling, computer vision among other things. I want this to be an incremental journey, starting from the basics and building up to more complex ideas.If you like such content and would like to steer the topics I cover, feel free to suggest topics you would like to know more about in the comments.\",\n",
       " \"Hello, I was reading [this](-the-ways-to-reach-nth-step-using-step-1-2-and-3-but-take-step-3-only-k-tim) SO question and the given answer.This is basically the juice of the problem statement:> Count the ways to reach nth step using step 1,2 and 3 but take step 3 only k times.OP had the following recursive solution and asked for a top-down iterative approach:```int countstep(int n,int k){    if(n<0)        return 0;    if(n==0)        return 1;    int total_step=countstep(n-1,k)+countstep(n-2,k);    if(k>0)        total_step+=countstep(n-3,k-1);    return total_step;}```Someone posted an iterative approche using an `n*k` table. I was thinking that this problem is a modified version of the tribonacci numbers where after `k=0` it reduces to the fibonacci numbers for the rest, where `n1=1`, `n2=2`, `n3=4 (if k > 0)` and for each `T(ni)` we calculate `T(ni-1)+T(ni-2)+ T(ni-3) if k > 0` else just `T(ni-1)+T(ni-2)`. This would reduce the problem to constant space, since we just need to keep track of the last 3 steps at most, and `n` time complexity. I'm not sure about my thinking. Can anyone advise if this is correct or I'm missing something?What makes me doubt my thinking is this: We could use our `k`s at different points of the path. They don't need to be exhausted all at the beginning.Thank you in advance.\",\n",
       " '',\n",
       " \"Hello,I am looking for other students to join me in learning [Erik Demaine's algorithms course](/).The course is mathematically matured and requires a background in discrete math, logic and proof techniques.If you are already familiar with algorithms, Then you might focus more on advanced lectures. If you lack background in math, Then you might focus more on early lectures. Students coming from non-CS background are highly welcomed, including engineering, physics, and pure-math. Especially if they were interested in computational methods. We hope they contribute to CS students a new perspective about computation.We hope to initiate a community, Where you can mutually contribute and benefit from others' experiences, skills, and backgrounds. You are welcome to ask questions, share your solutions to be reviewed by others, and even suggest further problems/topics.We plan to complete two weeks of the course on one month, and have 1 hour meeting per week. There is no obligation to attend all meetings, solve the whole course's problem-set, or to respond to every question posed. Learn and engage with other members at your own suitable pace.My availability is limited to 2 weeks per month, but other students are welcomed to collaborate at any time.Join by submitting [this]() google form.\",\n",
       " \"Bit of background, I come form the social sciences and very little computer science knowledge but I'm researching how the integration of AI will impact my field of study. One potentially large problem I've found is that AI can be overconfident when faced with information outside of what it has been taught to recognize. I've read that bayesian neural networks can mitigate this problem but my lack of computer science knowledge making me run into a wall when it comes to understanding exactly why it fixes this problem. I'm doing other readings on this topics but I thought I farm this out to Reddit and use this site for more than just watching people argue about literally anything. Thanks for any assistance or sources you can provide!\",\n",
       " \"**Problem statement:**>Write a function, which creates a random graph of a certain size as follows. The function takes two parameters. The first parameter is the number of vertices n. The second parameter p (1 >= p >= 0) is the probability that an edge exists between a pair of nodes. In particular, after instantiating a graph with n vertices and 0 edges, go over all possible vertex pairs one by one, and for each such pair, put an edge between the vertices with probability p. The graph representation is an adjacency matrix.**Proposed algorithm:**    1- Create a bool matrix (2d nested array) of size n*n initialized with false.    2- Run a loop over the rows:      - Run an inner loop over the columns:        - if row_index != col_index do:            - curr_p = random() // random() returns a number between 0 and 1 inclusive            - if curr_p <= p: set matrix[row_index][col_index] = true              - For an undirected graph, also set matrix[col_index][row_index] = true        **Note:**    Since we are setting both cells (both directions) in the matrix    in case of a probability hit, we could potentially set an edge 2 times.    This doesn't corrupt the correctnes of the probability    and isn't much additional work. It helps to keep the code clean.        If you want to optimize this solution, you could run the loop    such that you only visit the lower-left triangle (excluding the diagonal)    and just mirror the results you get for those cells to the upper-right triangle.Now, someone told me that without the optimization the algorithm is wrong since it calculates the propability of edge existence twice.  In their words:>With the current code in the undirected case, the probability that matrix\\\\[0\\\\]\\\\[1\\\\] will be set is the probability that the random number in the iteration with col=0/row=1 or in the iteration with col=1/row=0 is smaller than p. That probability is 1-(1-p)\\\\^2.&#x200B;At first I thought they were right, but thinking more about it it occured to me that since the random number generations are independent of each other and since we don't need 2 false (or 2 trues) to set or unset an edge, the probability calculation of the algorithm is correct. If their argument was correct, it would be like saying when you throw a 6 on a 6 sided dice, your chances of getting a 6 next time are less than 1/6. In other words, it looks like the [Gambler's fallacy]('s_fallacy) on their part.&#x200B;I hope I've managed to convey the problem and arguments in full. If not, please ask.What I'm looking for is feedback on which argument is correct. Thank you very much in advance.\",\n",
       " 'I am interested in browsing new and exciting areas on computer science like programming, diy instructions on software, and reading informative articles on software or blogs. What are some sites every new techie should be on to read such material?',\n",
       " 'I watched a video on how computers work and how it uses binary instead of base 10. But if computers had a way to use base 10 or like distinguish 10 different types of charges in a transistor or something wouldn’t that computer be like ultra super fast???',\n",
       " \"I understand that neural networks have been trained to play games like chess pretty effectively. I've also seen some neural networks able to generate photographs based on a text description.But has anyone tried training an AI to be a video game? In my mind it seems feasible because you could theoretically automate the training by making a bot play an existing game like Doom Eternal and then treat the bot's commands as input and use the resultant game state as the output that the neural network needs to fit to. And then if your network learned the game correctly, a human could give it input with their controller and it would return a close approximation of whatever game state the original game would have given. And then you'd only need a computer powerful enough to run the NN instead of the full game.I'm curious because I'm 100% certain someone smarter and more experienced than me has thought of this before but Google isn't giving me any good articles on the subject\",\n",
       " '',\n",
       " 'I\\'ll try to clarify. A software (like an OS), to exist, needs a hardware (memory). All the software information is stored in the hardware, which means it is a physical thing (like circuits). So, if we define a hardware as \"the associated physical equipment of a computer, directly involved in the performance of data-processing or communications functions\", turns out software is hardware.The difference is a practical approach, where software is a set of instructions (programs), and hardware is the PC parts (CPU, GPU...).It is like your brain and your thoughts (technically, thoughts exist inside the brain)I\\'m totally a layman on the subject, so don\\'t judge me if I\\'m saying bullshit lol',\n",
       " 'I am a high school senior who has a lot of free time and loves studying comp sci. I have read an introductory Java book, SICP(chaps 1 and 2), and the C programming language or K&R. I am interested in continuing with chap 3 of SICP but I am also looking for another challenge: think comp sci essentials. All suggestions are appreciated.',\n",
       " \"(Brand new to CS so bear with me) I can't find anywhere online so far about what an implementer is and how that is different from a programmer. (My question comes from a C language book that talks about how part of the book is meant for programmers, not implementers.)Thanks!\",\n",
       " 'I recently realized that making websites/apps isn’t very stimulating or interesting to me. So I want try my hand at ai/machine learning for game development.I understand that it’s a hard field and that it requires more math than I think. Any resources that you can point me to would be appreciated! I’ve made a few games in Unity already, so game dev isn’t something I’m brand new to(although I have been avoiding implementing anything math heavy because I lack the knowledge).Languages: C# (preferred), but I’m pretty quick at learning/understanding other languages Game Engine: Unity',\n",
       " 'Recently have been struck by the fact that the two most powerful machine learning methods, neural networks and genetic algorithms, are partly just copied from nature (in concept at least, obviously was a ton of work by a lot of brilliant people). I guess there is a lot of machine learning that is basically just memorization or math but are there any other deep learning algorithm paradigms out there? Do you think there could be someday?',\n",
       " \"I have been wanting to find some good videos that I can watch in my free time that are about cool computer science projects so I can learn more about new algorithms, and programs in a more leisure way instead of solely doing projects and reading documentation. &#x200B;I'm interested in most anything related to Python, Data science, or back end development, but I'd really love to learn more about Machine learning algorithms if there are any good series about people working on machine learning algorithms.\",\n",
       " 'By integrating buildroot, BEAM and erlang/elixir ecosystem into a comprehensive toolkit, Nerves has become a major framework in the IoT field. Watch the video and see Jean Parapaillon  talking about \"Nerves - An industrialization journey\"  ',\n",
       " '',\n",
       " '',\n",
       " \"I'm looking for some resource clearly explaining how this solver for the tsp works.I read that it uses the Lin-Kerighan heuristic and the branch and bound algorithm, but I didn't find a full explanation of how it works. The closest thing I read was [in the answers of this post]() , but it's not a full answer.If you have the knowledge or any link/paper available online or on scihub that explains how it works in detail / in summary, that would be awesome\",\n",
       " \"I've been doing research on computational models, but I can't find anything on cyclic tag systems and their proof of universality. I want to know because it's supposedly what rule 110 can emulate (more specifically that's the proof that rule 110 is universal), however the fact that rule 110 can emulate a cyclic tag system means nothing to me if I can't find proof that cyclic tag systems are universal, let alone an implementation of rule 110 running a cyclic tag system. Does anyone know where I can find a cyclic tag system's proof of universality?\",\n",
       " \"Recently I have begun learning about how computers actually know to execute your programs, and I was hoping somebody could verify if I generally have the idea correct. - computers come preset with instructions on how to boot the OS located in the ROM. Once this takes place the OS controls the remainder of operations. - when you plug your computer into the wall, electrical signals are sent in clock cycles that run at some frequency all the time, either idle or active. These signals are always looking for data to transfer via the bus to read, but they are essentially always running (this is the part I'm shaky on I think) - when you write and compile a program say hello world, you have organized some high level code into what can be translated into machine code and binary. When you executed this is sent to the ram, where the clock frequency (always looking) activates logic gates based on what was sent, and tells you what the output it.- if you wanted to use an embedded controller to run a motor the same applies where the programmer writes readable code which can be converted to binary, and is sent to the pinouts in such a way that causes some actuation to happen (such as alternate pulses to a stepper motor) Am I on the right track here ? Thanks Also, who sits around and actually designs computer architecture, I feel like that has to be one of the most complicated jobs on the planet. You've got millions of transistors to manage controls? Or is it more abstract than that.\",\n",
       " 'Sorry if my question sounds dumb but I am a beginner to coding and have started with Python. Python is an interpreter-based language and not a compiler based language ( I know the difference between the two) As I was going through my online lectures, it is stated that python is interpreted with Cpython, a software written in C. Similarly, they have Jython (written in Java) and PyPy (written in Python). My question is is these interpreters break down the language into low level code like Assembly and machine code, then who helps interpret the software of these interpreters so that they run in the computer? Again sorry for the dumb question',\n",
       " 'By \"8Bit\" i mean a CPU that uses registers that are 8 bits wide and with an ALU that takes two 8 bit binary numbers and performs operations on them, for the sake of this post, lets say the ALU is capable of bit shifting, NANDing and Adding.So just how capable this CPU will be, Will it be able to run a very simple version of tetris? or pong?',\n",
       " \"By how is created I do not refer to a general theory like what's CPU/GPU or motherboard, but as if how they are physically designed and produced, when I was getting my degree they explained to us the basics (been years since then) but never the exact process.I also saw some youtube videos but they seem more of hype inducers and they seem to be divided into scientists wearing anti-dust suits and working on the nano-world and people doing mechanical tasks. I'm looking for a more pragmatic and practical procedure about how hardware is truly created, anyone has any leads?\",\n",
       " \"I've gone about my life for a while thinking that even 'digital' things have some physical correspondence. i.e. binary numbers are just surges of voltage and things of the such. My real concern for this idea turned up when I was learning about actuators and learned that to get it to receive some electrical charge it needed to pass through a DAC. Implying that the charge isn't a digital element and my correlation may have been wrong.Are digital things not physical things? I'm pretty sure that's not true but I have absolutely no idea what to make of the idea now...\",\n",
       " \"hey guys, basically the question. and forgive it is a noob question. I'm relatively new to computer science but have really started taking a passion to programming. I also have a deep love for studying for foreign languages. Is there any obvious / not so obvious overlap between the two?\",\n",
       " '',\n",
       " 'Livebook enabled a new level of interactivity with a running BEAM VM. Michal Slaski presented his talk \"Love Your Crash Dumps\" at #ElixirConfEU, describing the techniques for live analysis of VM performance.Watch the video and learn more: []()',\n",
       " '&#x200B;[EDIT: Thank you to u\\\\/antiogu for pointing out the error. The y-intercept should be 2 in my sketch.]()🔵 Gradient descent 🔵💾 A more detailed post this time but I wanted to make sure I touch upon some basics first before diving into gradient descent itself. This is mainly so that it is more inclusive and no one feels left behind if they have missed what gradient is and if you already know what it is you get to brush up on the concept.🏃 Although a relatively simple optimization algorithm, gradient descent (and its variants) has found an irreplaceable place in the heart of machine learning. This is majorly due to the fact that it has shown itself to be quite handy when optimizing deep neural networks and other models. The models behind the latest advances in ML and computer vision are majorly optimized using gradient descent and its variants like Adam and gradient descent with momentum.⛰️ The gradient of a function is a vector that points to the direction of the steepest ascent. The length or the magnitude of this vector gives you the rate of this increase.🔦 Time for an analogy: it is nightfall and you are on top of a hill and want to get to the village down low in the valley. Fortunately, you have a trusty flashlight that helps you see the steepest direction locally around you despite the darkness. You take each step in the direction of the steepest descent using the flashlight and reach the village at the bottom fairly quickly.📐 Gradient descent is an optimization algorithm that iteratively updates the parameters of a function. It uses 3 critical pieces of information: your current position (x\\\\_i), the direction in which you want to step (gradient of f at x\\\\_i), and the size of your step.🧗The gradient gives the direction of the steepest ascent but because we need to minimize we reverse the direction by multiplication with -1.🎮 This toy example illustrates how gradient descent works in practice. We compute the gradient of the function that needs to be optimized i.e. the differentiation of the function with respect to the parameters. This gradient gives us the information we need about the landscape of the function i.e. the steepest direction where we should move in order to minimize the function. A point to keep in mind: gamma the step size (also called the learning rate) is a hyperparameter.\\\\---------------------------------------------------------------------------------I have been studying and practicing Machine Learning and Computer Vision for 7+ years. As time has passed I have realized more and more the power of data-driven decision-making. Seeing firsthand what ML is capable of I have personally felt that it can be a great inter-disciplinary tool to automate workflows. I will bring up different topics of ML in the form of short notes which can be of interest to existing practitioners and fresh enthusiasts alike.The posts will cover topics like statistics, linear algebra, probability, data representation, modeling, computer vision among other things. I want this to be an incremental journey, starting from the basics and building up to more complex ideas.If you like such content and would like to steer the topics I cover, feel free to suggest topics you would like to know more about in the comments.',\n",
       " '',\n",
       " 'Not sure if this is the right subreddit for this, but im looking for a few subredditd and youtube channels for staying up to date and just general knowledge of the software development industry. Can anyone help?',\n",
       " 'Basically title. I\\'ve been searching for some good CS books, but can\\'t find much other than 1) the mainstream novels about \"AI\" that are of no use to someone who\\'s studied CS and 2) the tutorial type books titled \"How to \\\\[do something\\\\] with \\\\[insert popular technologies\\\\]\". Looking for recs.',\n",
       " '',\n",
       " \"Hello everyone,I've been stuck in the classic problem of applying mathematics in the context of data science. However, I am much stronger in my math-side than in computer science. If you gave me a homework sheet of problems in stats, multivariable calc or linear, I'm happy. If you ask me to apply mathematics for machine learning, I'm drawing blanks.Has anyone else struggled with this disconnect? If so, were there classes or concepts that helped build that bridge? Is this data structures with extra steps?Thank you in advance\",\n",
       " ' This paper presents an inexpensive, high-precision, but at the same time, easy-to-maintain PIEEG board to convert a RaspberryPI to a Brain-computer interface. This shield allows measuring and processing eight real-time EEG(Electroencephalography) signals. We used the most popular programming languages-C, C++ and Python to read the signals, recorded by the device. The process of reading EEG signals was demonstrated as completely and clearly as possible. This device can be easily used for machine learning enthusiasts to create projects for controlling robots and mechanical limbs using the power of thought. We will post use cases on GitHub () for controlling a robotic machine, unmanned aerial vehicle, and more just using the power of thought.',\n",
       " 'I have not learnt much electronics but I do kinda know how the CPU works and how logic gates and all the higher level more abstract things work in a CPU.I‘m really confused by this, some say 1 and 0 is the state of the transistor but that doesn’t make sense to me. I‘ve also read that it’s a high vs low voltage, but than isn’t voltage the electric tension between two points, which points would that be? I have always imagined the 1s and 0s or asserted and deasserted signals as high and low amperage, is that wrong?',\n",
       " \"Hello! I'm a high school computer science teacher, and teach a course on computer ethics. One of my units is on A.I. and I want to conclude the unit with student debates on topics in AI. I'm struggling to come up with topic statements however. I know for sure I want one of the topics to be centered on whether A.I. at an advanced level should be afforded the same rights as humans.  Any other topic statement ideas? Thanks!\",\n",
       " 'I am an undergrad studying computer science. While I enjoy coding (it is ludic) I can’t quite grasp its purpose/use in the bigger meaning of life.Why do you study computer science and how do you find purpose in it?',\n",
       " \"I searched and searched and still haven't been able to really figure out how NFTs are working behind the scenes. There is sooo much hype. Could a developer please explain. I'd like to know - 1. How are they created? Using which popular frameworks (any code snippets appreciated)2. Where is the media hosted? My understanding is that NFTs are really a record that your wallet owns this unique hash. But then how is that has linked to an image? And where is this image hosted? Follow up - can't anyone take this image host down and then that link between the hash and the image is lost.Appreciate any elightenment without the hype. I am tired of 100th video about an influencer explaining NFTs as if they are the next gold with no context.\",\n",
       " \"Forgive any and all ignorance as I ask this question please. As I understand it, Linux was the first open source UNIX-like OS, correct? And UNIX itself has been around since 1969!My question is, if the robust stability and security features like protected memory, preemptive multitasking, secure user accounts/admin stuff and all that have existed for so long... why did Mac OS and Windows both lack any of that robustness until a full decade after Linux was created?In other words, if we had a way to make an OS that would virtually never crash and had orderly memory management and security and the rest, why did Apple and Microsoft both ship such fragile OS's that could be toppled by a single rogue app and were generally terrible at security and for *SO* long?Apple even had [it's own UNIX implementation]() for the early Mac computers complete with the System 7 GUI laid over top. Anyone care to speculate why THAT wasn't just the Mac OS everyone got? Microsoft also [licensed a UNIX version]() from AT&T in the early days. So it's not as if no one knew computers didn't have to suck. Why did it take so long to reach the average PC user?   Thoughts?\",\n",
       " 'I am new to coding. I have a math background (up to Diff EQ and LA). I want to learn the basic idea behind all programming languages. The idea of Syntax, how things operate, the different types of programs. Just a review of how programming works.I know nothing. I need to understand it for my physics major. I learn best by theory and having a foundation of the most basic principles and abstract terms (nothing specific or applied at first).Do any of you know any good websites or videos that describe the idea of programming? (I would prefer relation to math terms like “function” or “linear” or “transformation” or a set of axioms or system that can be diagramed).I want to understand the process  and the terms before learning code.',\n",
       " \"Hi!I'm a data analyst intern who loves math and databases and I'm pretty sure that in the future I want to do something that uses both of these things.For that reason, I've become very curious about where database research is going these days. I don't have much interest in software development per se but databases are just such mathematical marvels that I can't help but lean towards them.So, what is currently being researched? User centered design?( i love this and it's very overlooked by companies)New database paradigms? Graph databases? Etc...?So what else is there?\",\n",
       " \"A career counsellor said that I should teach math (my other possible career goal) rather than go into software development, since the rise of no code tools and machine learning code generation will mean that I won't have a job in 10-15 years. There is so much hype about this that I thought I'd ask the opinions of those here that know what they're talking about.&#x200B;Thank you\",\n",
       " \"say you picked a really large number at random and wanted to find it by repeated guessing, what would be the most efficient way to do that? i've been trying (really just out of curiosity) this and so far the fastest outcomes are usually from just incrementing the number one by one until it gets it but i don't feel like that's the most efficient solution. what would be a better way?\",\n",
       " '&#x200B;🔵 Parametric and non-parametric statistics 🔵  🧑\\u200d💻 If you have written code before you have heard of a parameter. It is what a function takes as input to do some computation on and return an output. Similarly, probability distributions have parameters. These define the properties of the distribution.  🔔 In the case of a normal distribution, the mean and standard deviation are its parameters. The mean controls the position of the distribution while the standard deviation controls the spread or \"peakiness\" of the bell curve.  ⛷️ In the parametric approach, the model consists of a finite set of parameters that characterize it. The big assumption that a parametric model makes is that the model will do well on the task if the underlying distribution from which your data is sampled matches the model. If that is not the case the model and data mismatch will hurt the performance on the task you care about.  🤸 A non-parametric model does not rely on parametric assumptions and is generally more flexible. It is a good choice if you don\\'t have any prior knowledge about what could be a good model that reflects your data distribution. A histogram is a good example that can model points sampled from an arbitrary distribution.  🧐 However, there is no free lunch: you will need enough data points to get a good approximation otherwise the histogram will look nothing like the underlying distribution.  \\\\---------------------------------------------------------------------------------  If you like such content and would like to steer the topics I cover, feel free to suggest topics you would like to know more about in the comments.',\n",
       " 'The castle clock of al-Jazari is said to be the first programmable analog computer. Now I get why it’s analog and also what makes it programmable (accounting for the length of day and night), but what makes it a computer? It gives the time, does that make all clocks computers?',\n",
       " 'I have been trying to wrap my head around it, but i dont get how the publick and private key are combined.Like, if i only i know the key, and i use it, the receiver wont be able to decript it, or will it?And if we both have it, it means it was shared before being aplied, and i sent it to the receiver through simetric enciption, thus defeating the purpose of it existing since everyone with the public key (wich i am assuming is public) can decript the message and find what the private key is?...What am i missing here? I cant seem to find any explanations that made me understand it, if you know any good explanations plz share!Edit: The problem is that i thought that the public key was  some preexisting key, when in fact it is generated by me at the same time I generate the private one, I share the public one, te receiver uses it to encrypt stuff, and only the private key can decrypt what was encrypted with the public key, and, it is very hard (close to impossible rn) to get the private key by looking at the public one!',\n",
       " 'Not homework, just math.Suppose there is an arrangement of X mines on an M x N grid. A player enters a sequence of clicks, which each \"flood fill\" outwards until adjacent mines are hit. They make logical deductions/inferences whenever possible, and if they need to guess, they will take any guess that is 50-50 or better. They don\\'t have any intuition - i.e. they won\\'t visually analyze the grid to see if one safe click is \"better\" than another.What is the upper bound for the number of guesses such a player may need to take?',\n",
       " '',\n",
       " \"&#x200B;🔵 k-means Clustering 🔵🔱 The k-means algorithm divides N data points into K disjoint clusters. It is a well-known unsupervised learning model. This means that the k-means algorithm only requires the data points and does not need the corresponding cluster that each point belongs to as this is what the algorithm figures out.✨ The clusters are found by allocating points in such a way that the total variance of the points within each cluster (intra-cluster variance) is reduced or minimized. Although it iterates quite fast, the k-means algorithm can have varying cluster formations based on the initialization. It has been widely implemented in many software packages. The scikit-learn package for python is the one that I have used most often.🔁 The most common method to perform the clustering is iterative. It alternates between two steps: (1) assigning each point to a cluster based on the point's closeness (or distance) to the cluster center and (2) updating the cluster center (called mean or centroid; hence the name k-means one for each of the k clusters) based on all the points that belong to this particular cluster. The iterations are usually performed until the centroids stabilize (converge) between consecutive iterations.🤓 K-means is popular in scenarios where the data is known to consist of multiple groups (distributions) but it is unknown which point belongs to which group (cluster). It can be used for data analysis and splitting data that comes from multiple distributions, image segmentation, color quantization among other things.\\\\---------------------------------------------------------------------------------I have been studying and practicing Machine Learning and Computer Vision for 7+ years. As time has passed I have realized more and more the power of data-driven decision-making. Seeing firsthand what ML is capable of I have personally felt that it can be a great inter-disciplinary tool to automate workflows. I will bring up different topics of ML in the form of short notes which can be of interest to existing practitioners and fresh enthusiasts alike.The posts will cover topics like statistics, linear algebra, probability, data representation, modeling, computer vision among other things. I want this to be an incremental journey, starting from the basics and building up to more complex ideas.If you like such content and would like to steer the topics I cover, feel free to suggest topics you would like to know more about in the comments.\",\n",
       " 'Hello redditors, I humbly ask for your assistance...Here\\'s the elaboration: I\\'m a computer science undergraduate with a relatively decent amount of pre-existing background knowledge in computer systems and some programming, and I have an interest and some supplemental education in astronomy as well as a semi-professional observatory which I use actively. In my future academic career (I intend on pursuing a M.Sc. and Ph.D.) I\\'d like to focus my research and studies around theoretical systems which could help humans and machines travel, explore, and survive in space. The question is... What would actually be the best way to start tackling this in order to one day be worthy and knowledgeable enough to pursue this? There is no subject such as \"astrotechnology\" so I am a bit at a loss. Also, how do \"theoretical\" papers consisting more of science/evidence-backed ideas (rather than experimental results) even get accepted and published by journals???I would be grateful for any pointers. <3  P.S. - Not sure if it matters, but I doing a degree in health science alongside computer science. Also - due to where I live and financial constraints - my resources are limited; I have only my mind, my computer, and the internet.',\n",
       " \"**Brief: looking for more ideas on exercises for TM - share please if you had some in your CS course or seen somewhere.**Always been fascinated by Turing Machine concept, decided to collect some puzzles to be solved with it on my site. However after adding first three ([these]()) feel lack of good ideas:1st and 2nd are about making copy of a line of characters and incrementing binary value. There could be combinations and variations (copying line of different characters and incrementing ternary, octal, decimal value... or count characters in a line making result a binary value) - but after grasping principle these do not make additional fun (unless I'm missing some whimsical approach).3rd is about implementing [Rule 30]() one-dimensional cellular automaton with TM, I'm somewhat glad with it (since I managed to solve it).Have in mind something like checking bracket balance or wiping out comments in C++ / Python source. However these seem to be more about general sense of state automaton rather specifically TM...So would be really glad for any suggestions! Perhaps you have come across something in university or played with TM for personal fun etc... thanks in advance!\",\n",
       " 'Im wondering if there is a name for 256 bytes, like how ~1000 bytes is a kilobyte, or ~1000000 bytes is a gigabyte?',\n",
       " '&#x200B;🔵 Eigenvectors 🔵🚀 An eigenvector is a special vector associated with a linear transform. It\\'s special in the sense that after applying the said transform it does not change direction but only gets scaled (multiplied by a scalar value) by the eigenvalue.🔨 Each eigenvector comes with a corresponding scalar called the eigenvalue. Breaking a matrix M into its eigenvalues and corresponding eigenvectors is called eigendecomposition.🔭 The word \"Eigenvector\" comes from \"eigen\" in German where it means \"its own\". It was originally used to study rigid body motion and in the discovery of principal axes. However, nowadays it has found its way into a wide array of applications from my favorite: principal component analysis, differential equations, and problems in physics and chemistry relating to wave transport and molecular orbitals.🎭 Another one of the classical applications is the Eigenfaces project for facial recognition. Eigenfaces decompose a face as a composition of face templates (basis) called eigenfaces. Imagine N eigenfaces E\\\\_1, ..., E\\\\_n when given a new face F it can be written as a composition of each of these N eigenfaces for example: F = (10% of E\\\\_1 + 55% of E\\\\_2 + 35% of E\\\\_3). Each eigenface would represent a meaningful feature in the high-dimensional space of faces.\\\\---------------------------------------------------------------------------------I have been studying and practicing Machine Learning and Computer Vision for 7+ years. As time has passed I have realized more and more the power of data-driven decision-making. Seeing firsthand what ML is capable of I have personally felt that it can be a great inter-disciplinary tool to automate workflows. I will bring up different topics of ML in the form of short notes which can be of interest to existing practitioners and fresh enthusiasts alike.The posts will cover topics like statistics, linear algebra, probability, data representation, modeling, computer vision among other things. I want this to be an incremental journey, starting from the basics and building up to more complex ideas.If you like such content and would like to steer the topics I cover, feel free to suggest topics you would like to know more about in the comments.',\n",
       " \"I've been on the lookout for a UTM description, and I've found a machine with only 2 states and 3 symbols. I thought, how neat, it's so simple! I put the description into a TM simulator, realized I had no idea how to use the rule set, and took to the internet again to figure out why. Turns out, it simulates a 1D CA, which I know to be terribly time and space inefficient, and very hard to understand. It makes me wonder if there's a larger, synthetic ruleset, one with more internal states but only 3 symbols (1, 0, and empty symbol), one that can reasonably be experimented with, one that can be programmed more easily?\",\n",
       " \"This is a follow-up to my question of how many states and symbols a TM would need to simulate a TM with an arbitrarily large number of states and symbols, that was answered for me, the answer is 2 states and 3 symbols. But I can't find a proof for this, or even better, an example. Also, is there a proof that a 2-state 3-letter TM is the simplest universal TM? Could a 2-state 2-symbol simulate bigger TM's, or could a 1-state 2-symbol TM work?Edit: I found a [source]() for the description of the (2,3) UTM, as well as some larger UTM's. However, the description of the Turing Machine does not prove anything to me, because it's only half the story. I'd also need to know what the tape looks like while it operates to gather anything.E2: I've now learned that the (2,3) TM is universal because it simulates a specific 1D CA that has already been proven to be universal, however this pushed the question out for me, so I looked up a proof that 1D CA are universal, and I found that it can simulate some other thing that's been proven to be universal, and soon enough the question was put back onto the UTM and why it is universal. Either I'm stupid or the internet is.\",\n",
       " '?',\n",
       " 'My current understanding is that Python does not support pointers because it is against the \"Zen of Python\" but it does have id(my\\\\_obj), which returns \"the object\\'s address in memory.\"  How is that not a pointer and what is the difference between the Python id() function and a pointer in C++?  Are both not just an integer representing the object\\'s location in memory?',\n",
       " 'So Apparently Microsoft was trying to store date in a 32 bit signed integer. But the max value of that is 2147483647, so why can’t January 1 2022 be stored?',\n",
       " 'Hey guys I just thought about teaching Classes, Inheritence, Dependency Injection etc. (you get my point) with Minecraft. Nearly everyone knows the game and a block serves as a great example for a class. It has specific attributes like texture etc. and there are lots of subclasses. Additionally you could discuss how those blocks could be stored, which sort of database would be suitable etc. What do you think about this?',\n",
       " 'When, say, in C++, we say `void* ptr = &my_var`, we set ptr equal to the memory location of my\\\\_var.  Okay.  But where does this memory location number come from, and why/how do we actually access it?  Say we have our memory as 5000 bytes of data, in 1D.  My understanding is that each byte in memory has its own address, but I don\\'t understand the mechanism for how.   I understand that it\\'s like a \"house address\" and we need it in order to find a value stored at a given location.  But at the most basic level, where are these addresses coming from? The hardware? Or is this just something we are adding to that byte of memory (sort of like metadata in Numpy arrays)? If that\\'s the case, then does this not take up some of the memory? E.g. we have a memory location of 13413241 let\\'s say.  Where is this value stored? I would assume that all the memory locations, all these integers, are inherent to the computer we are working on, and thus always exist.  Is this entirely separate from \"memory\" in terms of how big our program is (if they always exist anyways)?  It just seems like we can pull these memory addresses out of thin air.  If I define say `x = 5`, is it always the case that I have also implicitly defined `some_pointer = &x`, and is this now in my program\\'s \"memory\"?   Unless the memory location is not \"bundled\" to that 5, I don\\'t see how the pointer \"knows\" the memory location.  Maybe all of this is happening at the hardware level and I\\'m too focused on the software level.  I haven\\'t found any articles that explain what I\\'m looking for, only what a pointer is.  Maybe this is more of a question about what the `*` and `&` operators are actually doing.It might be evident already, but I almost exclusively use Python.  In Python, we can define a variable, which will always be equal to some object, and then we can set that variable equal to other things, namely we are just telling that variable to now \"point\" at a new object: but the previous object still exists in memory, it just isn\\'t referenced.  However, my understanding is that Python doesn\\'t actually have pointers, so my understanding may be tainted pretty heavily by the Python id() function which returns the location in memory, and also by how variables and objects interact in Python.',\n",
       " '',\n",
       " 'When I studied algorithm, people talked about time complexity and bigO notation. What I want to know is that if given an algorithm whose running time is O(n\\\\^2), if I run the algorithm on a quantum computer, does it necessarily reduce the running time to O(n), that is, the sqare root of n\\\\^2?And if given an algorithm whose running time is O(n\\\\^3), does a quantum computer reduce it to O(n\\\\^(3/2)), that is, the square root of n\\\\^3 ?',\n",
       " '',\n",
       " 'I read some articles about memory alignment and while I was reading about the advantages of memory alignment I read about caching. It was not very clearly explained that how memory alignment helps in caching. I would be delighted if someone could explain this to me.This [Stack Overflow answer]() mentions that memory alignment is helpful for caching. I know that aligned memory makes the fetching of the data faster because the CPU does not need to shift the bits in two reads and then combine the results in the register. I got to know about this from this [IBM Developer article](-dalign/).Thanks!',\n",
       " 'Pretty much title, i know that CPU fetches a unit from memory and then it decodes it, but i dont know what exactly that means or how it works',\n",
       " \"Bit of background: I am a Computer Science student and a software developer, have been programming for several years now.I have been wondering about this for a while now, but how come the Installer of a software is sometimes much much lighter than the software itself? As I understand it, the concept of an installer generally is to compress the necessary files for a software, and then distribute the files in the PC + configure whatever settings required to operate the software (add registry records etc.).But sometimes the weight difference between the installer and the software is really big, like several GBs big, and for games it's sometimes up to a couple dozen GBs even when the installer is an offline one (as in does not have to download extra data in order to finish).I don't see how these variations can be achieved using conventional compression, especially when the compressed files are not simple textual data.Am I missing some key point in how installers work? Is it really just simple compression and decompression? Am I just exaggerating the weight differences? (I really don't have a concrete example of an installer that behaves that way at the moment, but if memory serves me right that was the case with many of them)\",\n",
       " \"In **JS**, array.push() is always O(1) since even if need to 'extend' the current array as the reference to the last item is simply removed.In **Java**, there's no array.push() and O(n) as need to shift all the elements to a the new array.Is there any resources available that show different time complexities for different programming languages?   Happy 2022!\",\n",
       " \"Someone was talking about the y2k bug, whrich reminded me of the 2038 bug and I pulled up the Wikipedia page to read up on it again.  I was under the impression that it would flip down to all 0s and move us back to 12/31/69 but I found out I was wrong and that it will just flip the sign when that happens and move us back to 12/13/1901.But why was time stored as a signed integer anyway?  Was there an expected need to work with negative time?  If it was unsigned wouldn't that buy us a few more decades to procrastinate before needing to fix it?\",\n",
       " \"I haven't personally experimented with a Turing Machine implementation myself - mainly because building my own implementations makes learning about the concept easier and more fun - but I know enough to know that TM's can simulate TM's, even if at a slower and smaller scale, which makes me wonder.If a Turing program exists that simulates the entirety of a Turing machine inside a Turing machine, how many internal states would it need to run such a program? Would this number vary depending on the size of the tape's alphabet, or the number of states the simulated Turing Machine can be in?EDIT: I found the answer, though I don't yet understand it. a 2-state, 3-letter Turing Machine can do this. I'm searching the internet for proof that that's true.\",\n",
       " 'So before I start I literally had the idea 5 minutes ago and I hope to explore it more thoroughly with you guys by finding possible problems and possible solutions. So I encourage you to have a think before you comment so we all get the maximum benefit. Let‘s get started!So knowledge is something that people love. Rightly so! Knowledge helps solve all sorts of problems. In fact, it is a very valuable resource in any given arena. However knowledge also has its own statistical topology. There’s ways in which you can get to the next theory quicker and more fundamentally. So why don’t we try and teach the AI this!?We define a computable theoretical topology with a small amount of variables. Mathematics itself would be preferable because it is relatively data minimal. Then we define the axioms of our current understanding of mathematics. Then we let the AI invent knew theories and check it against our current ones. Where am I dreaming?',\n",
       " \"Hello, I understand a database containing passwords should be hashed using some sort of key, but I understand that each entry should be encrypted again in some other way. What I can't understand is how that works. I'd love a few pointers to some resources if anyone knows of any. Thanks :).\",\n",
       " \"how can computers with different systems that have different data type representation communicate properly? what's the concept behind it, any links or articles would be appreciated.\",\n",
       " \"Good day everyoneRecovering sz here, on meds and in therapyIv been researching the incidences you hear about where, social media,google or the internet seems to read peoples minds. I think its quite common and alarming.You often hear folk say they don't mention aloud what their thinking let alone have it in their search history or have any record of it, they simply thought it and received an ad or a search suggestion.My question is this ;How is this possible? Iv heard its a predictive algorithm but how does it do it exactly? Is it really an algorithm if its right time after timeIv heard of confirmation bias as well but i don't believe thats what this isAny help appreciatedHave a good day\",\n",
       " 'I\\'m playing around with manually operated mechanical computers (think the abacus, crank calculator, etc.) and I\\'m wondering if there\\'s other deterministic architectures exactly as powerful as the Turing Machine?&#x200B;Edit: I\\'ve done some hours of research and discovered an online copy of Stephen Wolfram\\'s \"[A New Kind of Science](/)\" that includes some mechanisms that match closely what I was looking for, such as [tag systems](--tag-systems/), [register machines](--register-machines/), and [substitution systems](--substitution-systems/). I don\\'t know if any one of them are Turing complete yet, but something tells me at least some of them are.',\n",
       " \"Good day!I've been wondering, what's so random about memory?\",\n",
       " \"I'm thinking some sort of website that automatically plots released processors vs their number of transistors or transistors per dollar against time.It feels obvious enough that either someone's already done it, or it wouldn't work, but all I've been able to find is a [static graph on the Wikipedia page](#/media/File:Moore's_Law_Transistor_Count_1970-2020.png).\",\n",
       " 'I’ve been following a YouTube channel called Two Minute Papers for some time now and it’s awesome stuff. I’m a computer science major currently in college (senior) and I was wondering how I could get started or have some fun learning and training my own algorithm based AIs?Also, I have done research online with regards to this but I have not found what I’m looking for. My real question is, how do AI “scientists” get their start? Are they all geniuses that are self taught or is there actually a major/education route you can take to become one?',\n",
       " '',\n",
       " \"Hi, I am trying to make a genetic algorithm to play chess. My problem is with finding the fitness value for each model. Currently, I just pair each agent with a random agent and the winner adds to his score while the loser subtracts from his score. But I find it not very effective because while having a generation of 10 I only play 10 games and it's not enough to evaluate which agents are best. Moreover, I can't match every agent with every other agent since it will take fo ages to complete training. What do you think is the best way to know which agents are the best with minimum games between them?\",\n",
       " '',\n",
       " 'I came across the following logic problem:&#x200B;&#x200B;In this problem, you are required to match the real names of basketball players to their nicknames, and sort the basketball players by their heights. Normally, this problem would require you to manually enumerate different combinations of names-nicknames and names-heights, until there are no contradictions according to the conditions below.&#x200B;I was wondering if these kinds of problems can be solved by brute force using programming languages such as R.&#x200B;For example, the code below lists every possible combination of basketball players by height:        my_list = c(\"Bill\", \"Ernie\", \"Oscar\", \"Sammy\", \"Tony\")        d = permn(my_list)        all_combinations  = as.data.frame(matrix(unlist(d), ncol = 120)) |>      setNames(paste0(\"col\", 1:120))            data_frame_version = data.frame(matrix(unlist(d), ncol = length(d))        matrix_version = matrix(unlist(d), ncol = length(d))         #first 20 rows of matrix version:             [,1]    [,2]    [,3]    [,4]    [,5]    [,6]    [,7]    [,8]    [,9]    [,10]   [,11]   [,12]   [,13]   [,14]   [,15]   [,16]   [,17]   [,18]   [,19]      [1,] \"Bill\"  \"Bill\"  \"Bill\"  \"Bill\"  \"Tony\"  \"Tony\"  \"Bill\"  \"Bill\"  \"Bill\"  \"Bill\"  \"Bill\"  \"Bill\"  \"Bill\"  \"Bill\"  \"Tony\"  \"Tony\"  \"Sammy\" \"Sammy\" \"Sammy\"    [2,] \"Ernie\" \"Ernie\" \"Ernie\" \"Tony\"  \"Bill\"  \"Bill\"  \"Tony\"  \"Ernie\" \"Ernie\" \"Ernie\" \"Sammy\" \"Sammy\" \"Sammy\" \"Tony\"  \"Bill\"  \"Sammy\" \"Tony\"  \"Bill\"  \"Bill\"     [3,] \"Oscar\" \"Oscar\" \"Tony\"  \"Ernie\" \"Ernie\" \"Ernie\" \"Ernie\" \"Tony\"  \"Sammy\" \"Sammy\" \"Ernie\" \"Ernie\" \"Tony\"  \"Sammy\" \"Sammy\" \"Bill\"  \"Bill\"  \"Tony\"  \"Ernie\"    [4,] \"Sammy\" \"Tony\"  \"Oscar\" \"Oscar\" \"Oscar\" \"Sammy\" \"Sammy\" \"Sammy\" \"Tony\"  \"Oscar\" \"Oscar\" \"Tony\"  \"Ernie\" \"Ernie\" \"Ernie\" \"Ernie\" \"Ernie\" \"Ernie\" \"Tony\"     [5,] \"Tony\"  \"Sammy\" \"Sammy\" \"Sammy\" \"Sammy\" \"Oscar\" \"Oscar\" \"Oscar\" \"Oscar\" \"Tony\"  \"Tony\"  \"Oscar\" \"Oscar\" \"Oscar\" \"Oscar\" \"Oscar\" \"Oscar\" \"Oscar\" \"Oscar\"And this code below records every possible combination of name-nickname:        list.a <- as.list(c(\"Bill\", \"Ernie\", \"Oscar\", \"Sammy\", \"Tony\"))        list.b <- as.list(c(\"Slats\", \"Stretch\", \"Tiny\", \"Tower\", \"Tree\"))        result.df <- expand.grid(list.a, list.b)    result.list <- lapply(apply(result.df, 1, identity), unlist)    result.list <- result.list[order(sapply(result.list, head, 1))]         head(result.list)    [[1]]       Var1    Var2      \"Bill\" \"Slats\"         [[2]]         Var1      Var2        \"Bill\" \"Stretch\"         [[3]]      Var1   Var2     \"Bill\" \"Tiny\"         [[4]]       Var1    Var2      \"Bill\" \"Tower\"         [[5]]      Var1   Var2     \"Bill\" \"Tree\"         [[6]]       Var1    Var2     \"Ernie\" \"Slats\" The way I see it, the two objects (\"matrix\\\\_version\" and \"result.list\") should contain the right answer to this logic puzzle - I just don\\'t know how to extract the correct combination from these two objects such that the logical conditions are respected.Can someone please show me how to do this?Thanks!',\n",
       " 'Hello,I have a hard time picturing how the CPU instructions, the operating system, and applications work together.What I mean by that is the following, we have an application that is compiled, now it\\'s converted to CPU instruction (I guess ??), but then this app is using system calls to interact with some I/O devices, how does this system calls go through the OS? And if it\\'s just an instruction that invokes an OS function that makes that system call, what prevents the application from calling the I/O directly or \"hacking\" that function by pretending it\\'s another process ( as an example a process reading data from a socket owned by another process).Thanks',\n",
       " 'Rob Pike\\'s 5 Rules of Programming&#x200B;\\\\#Rule 1.\\\\*You can\\'t tell where a program is going to spend its time.Bottlenecks occur in surprising places, so don\\'t try to second guess andput in a speed hack until you\\'ve proven that\\'s where the bottleneck is.\\\\*&#x200B;\\\\#Rule 2.\\\\*Measure. Don\\'t tune for speed until you\\'ve measured, and eventhen don\\'t unless one part of the code overwhelms the rest.\\\\*&#x200B;\\\\#Rule 3.\\\\*Fancy algorithms are slow when n is small, and n isusually small. Fancy algorithms have big constants. Until you knowthat n is frequently going to be big, don\\'t get fancy. (Even if ndoes get big, use Rule 2 first.)\\\\*&#x200B;\\\\#Rule 4.\\\\*Fancy algorithms are buggier than simple ones, andthey\\'re much harder to implement. Use simple algorithms aswell as simple data structures.\\\\*&#x200B;\\\\#Rule 5.\\\\*Data dominates. If you\\'ve chosen the right datastructures and organized things well, the algorithms willalmost always be self-evident. Data structures, notalgorithms, are central to programming.\\\\*&#x200B;\\\\*Pike\\'s rules 1 and 2 restate Tony Hoare\\'s famous maxim\"Premature optimization is the root of all evil.\" KenThompson rephrased Pike\\'s rules 3 and 4 as \"When in doubt,use brute force.\". Rules 3 and 4 are instances of thedesign philosophy KISS. Rule 5 was previously stated byFred Brooks in The Mythical Man-Month. Rule 5 is oftenshortened to \"write stupid code that uses smart objects\".\\\\*',\n",
       " 'I see all kinds of marketing about machine learning and AI but I don’t think any of it passes the Turing test. Are there other tests that are used to determine when artificial intelligence is achieved? Maybe I am missing something but I don’t think AI exists yet, thought?',\n",
       " \"Lets say i declare int x and x's adress is 1 for example. Since x is an integer it will take adesses 1-4. Then lets say i declare a float and its adresses are 5-8 How does the computer know that the data type of adress 1-4 is int and 5-8 is float? Does it also have another memory address that points to those 4 memory adresses that says that those are integer and float types? I know ints and floats are represented differently in binary but in the end its all 32 bits so the computer could read it however it pleases. 32 bits can be read as an integer or as a completely different float. Thats why i dont know if the computer leaves another address just to say what data types are on certain adresses or does it work differently?\",\n",
       " 'Hello! I am somewhat new to programming. I am wondering what you\\'re recommendations are for resources (books/YouTube videos/websites etc.) that explain theoretical concepts behind programming and programs. One example of what I mean by \"theoretical concepts\" would be explaining what data structures are, from their smallest components to abstract ideas. The goal is to understand what exactly is happening when programming, not just learning which statements and syntax to use for any particular language. Thanks a lot!',\n",
       " 'I’ve recently taken an interest in chess engines.  I’m looking for seminal books that discuss the algorithms used in modern chess programming. There are lots of algorithm books out there. Recommendations?',\n",
       " 'Hello everyone,We all know how Computer Science is such a fast moving and evolving field, but where do you even find out what the next big thing is in the field? Youtube/TikTok tech influencers? Blogs? News? And say you find out that X, Y and Z are three new things in Computer Science. Does this mean we should learn all of X, Y and Z if they relate to our field of interest?Thank you!',\n",
       " 'Impl in referring to is here:/I can\\'t find any intuitive explanation online that motivates or proves the correctness of this algorithm.  It doesn\\'t appear to be the \"clever\" triple reverse method for implementing rotate with O(1) extra space.',\n",
       " \"I'm just now, starting to learn about security as a full stack engineer.In terms of security, does it make sense to separate the database for user authentication w/ the db that stores user data? My approach for a project I'm doing is to salt and hash raw passwords (unique salt per password) server-side, and compare that hash output with the stored pre-computed hash output, to do user authentication.What happens after? I feel like if you can protect the integrity of user->pass and therefore user->userData, it doesn't matter whether userAuth db and userData db are separate or not, b/c it would be a pain for a hacker to determine data ownership (assuming data does not hold identifying info). Is there a principle I can follow about separating data/processes into different databases?Also, are there any resources one would recommend for application-focused security practices? I don't want to be the security guy, I just want to learn some basic high-level understanding.\",\n",
       " '',\n",
       " 'I’m new to this stuff so maybe my question is not phrased correctly...',\n",
       " 'Hello,Is there any latest research going on in OS? I find OS specifically very interesting and wish to do research on it.',\n",
       " '',\n",
       " \"Hi everyone,I want to read some books related to mathematics and computer science. I am not looking for a book to learn a topic I don't understand; I am just trying to find a book about computer science and/or maths to read to have fun with and to learn something new.To clarify, I will give an example, although the math is more basic than what I am looking for: The book of numbers by John ConwayThanks in advance\",\n",
       " \"Who can submit papers to NeurIPS? Are there any specific requirements or qualifications for authors?I looked in their website and couldn't find an answer.Thanks!\",\n",
       " \"So, I know that a compiler takes the code that you write and processes it into machine code. But what's the role of assembler/assembly language here?\",\n",
       " '',\n",
       " 'public static int recursiveFunction (int n ) {     if (n==100) return 606;   if (n == 99) return 600;   return recursiveFunction(n+2) -12; }&#x200B;it seems in the worst case scenario this runs forever so I thought it is O(infinity) but my Prof put O(n) in the exam as the answer. can someone tell me if my answer is acceptable?',\n",
       " \"I'm doing a personal project where I will steel man the arguments for AND against a decentralized blockchain led future, and then write a formal dialogue between the two perspectives with citations.I've done a fair bit of research thus far and have found it much easier to find pro-blockchain future articles/resources (this is not surprising to me), but am still looking for more of both. However, I would be really happy with some solid bear arguments because the ones I've found aren't especially convincing. They do more to explain the limitations of blockchains and call out the flaws in maximalist thinking.Can anyone link some really interesting/compelling content for either side? I would really appreciate it, and will absolutely share my work here when it's done!\",\n",
       " ' Part One: [-elf](-elf) Part Two: [-elf-2](-elf-2)',\n",
       " 'Recently, I\\'ve started looking into search engines and some algorithms that get used for crawling and ranking the pages on certain factors.I wanted to understand different perspectives on ideal ethics we should adopt while creating something similar of our own. I very much know that the combination of keywords generate different results but my question is how to go about some of these keywords which can be borderline non acceptable. For example, someone recently pointed this out to me. The word voyeur is not shown in search recommendation although some movie with same name recently came out and is available on Prime. So this got me curious and i searched for the actors in the movie with that movie\\'s keywords and results were not according to my expectation to say the least. (search for Sydney Sweeney voyeur and go to images/videos tab and you\\'ll understand my point)This also leads to another question regarding the most popular search engines that we use everyday...so suppose some particular word is not \"acceptable\" according to societal norms but gets very popular due to certain pop culture catalyst. How does these search engines work around that to handle these cases ?  [Because any 12 year old who uses Amazon prime will see the movie Voyeurs there on the home page and will go to Google to search for actor etc and my good it can be daunting]P.S. I hope i haven\\'t derailed too much in the description but the title should give away the gist. And sorry for the typos, typing from mobile.',\n",
       " 'id love a book thats like a history lesson but also showing the technical details that the founders struggled with and eventually solved. basically a book where, if i was teleported in time and space to the lunch room of the inventors i would understand the conversation they have about what theyre trying to figure out. I know it sounds a bit vague since its a very big topic but im interested in both the hardware and the software, like anything from 1930s to 1970s.',\n",
       " ' The background of this question comes from me the fact that in Skiena\\'s book \"The Algorithm Design Manual: Second Edition\" page 85:He claims that the delete-minimum operation for the priority queue when implemented with a balanced search tree will have O(log n) time complexity. But, I disagree with that statement IF the nodes in a balanced search tree have a parent node field. Because since we have a pointer to the minimum it takes constant time pointer manipulation to unlink the minimum node and since the new minimum node will be the parent node, setting the pointer to the new minimum also takes constant time. Unless my assumptions on how a balanced search tree is misguided (I assume a balanced search tree is functionally equivalent to a binary tree, except its self-balancing process), then the delete-minimum operation should have O(1) time complexity. Where have I gone wrong?',\n",
       " \"Hi , I am a bit confused about the ways in which an ALU is designed , So and ALU has mainly 2 operations: Arithmetic And Logic , The Arithmetic part is mostly achieved through Adders but what about the logic part?I saw an online article and they used AND , NOR , XOR gates , but why those gates specifically? , Wouldn't it make more sense to use AND , OR , NOT gates as they are the basic logical gates? I am extremely new to this stuff , Am i missing out on something?\",\n",
       " \"I know that data structure alignment is done to prevent a data structure being stored across two memory blocks. This was explained by u/AuntieSauce in another post I created regarding [the internal working of structs](/).> Now, why does the second rule ensure we don’t have one element of a struct stretched across two blocks? Here is an example: lets say we have a struct that an 8 byte element and a 1 byte element:> > | 8 bytes | 1 byte> > Now, lets say we want to make an array of structs. Each struct is 8 bytes in size, and arrays are stored contiguously in memory, so we have>> 8+1 bytes | 8+1 bytes | 8+1 bytes | etc…> > If our array is large enough we will eventually approach the end of a block. Will a block size ever be divisible by 9? Like, almost definitely not. So you’ll get the end of the block with less than 9 bytes of space left, and the struct will get chopped!In the Wikipedia article about [data structure alignment](), it is written that CPU can efficiently read memory when it is data structure aligned.> The CPU in modern computer hardware performs reads and writes to memory most efficiently when the data is naturally aligned, which generally means that the data's memory address is a multiple of the data sizeSo my question is that how does data structure alignment actually help in the efficient memory reads by the CPU.Thanks!\",\n",
       " ' I just started learning networking and I was playing with tracert.One  of the outputs got me wondering. Im in Europe and trying to access New  York server. &#x200B;    Tracing route to 104.21.24.154 over a maximum of 30 hops          1     4 ms     1 ms     3 ms  192.168.0.1    ...      5     9 ms     5 ms     6 ms  xe-8-1-3-3180.bar1.Sofia1.Level3.net [212.162.46.177]      6     *        *       33 ms  ae-2-3216.ear4.Frankfurt1.Level3.net [4.69.210.66]      7    41 ms    33 ms    36 ms  195.122.183.210      8    33 ms    30 ms    38 ms  104.21.24.154 The 7-th address is in  Germany  and  the 8-th (destination) is in New York. So how is the communication  between the two routers performed?Are  there routers between the last two points that tracert cannot find  information for or a satellite communication or a really long cable?',\n",
       " 'Hi,I am trying to understand the concept of delayed abstraction from the following paper at:[VerX](-verx.pdf)     To verify a Past LTL specification of a bundle of contracts C    we apply abstract interpretation over a symbolic domain.    We employ predicate abstraction [35] but without the usual    conversion to boolean programs. Our approach is similar to    that of Flanagan and Qadeer [32] where two transformers are    alternated: precise symbolic transformers to handle individual    commands, and an imprecise transformer to ensure convergence.    In contrast, classic abstraction applies an imprecise    transformer at every step. Hence, we call the precise/imprecise    approach delayed abstraction.Somebody please guide me.Zulfi.',\n",
       " \"Hello, I have gone through Tanenbaum's books on OS. They are very informative and interesting. So much that I googled about the author and his. In his wiki I came to know that he has got degrees in physics and astrophysics from MIT and Berkeley. I'm curious as to how he got the expertise to write books and do research on OS? He has other books also like Structured Computer Organization, computer networks etc. It seems like he has studied CS in his physics courses. I dig into his career but couldn't find any info related to when and where he learned CS. Kindly address me the missing link if anyone knows, as his wiki says he's a established physicist while his books and his career speaks he's a computer scientist.\",\n",
       " 'I am aware this is not an easy task but I don’t care. I want to do it. I am an electronic engineer and have experience with electricity, testing and troubleshooting pcbs. I have never designed anything besides simple circuits with lights and switches.. lol. Currently studying software development for a bachelors and I’m comptia a+ certified.To be able to design an SBC I definitely need to improve in designing pcbs. I need to improve my understanding of computers so I can have a better comprehension of how some of the components on an sbc will go together.I feel a bit overwhelmed to be honest and wanted to consult you guys so I can define a learning path for me so I can actually start considering designs.If you have ideas or specific resources that’d be helpful for me and my intentions I’d appreciate it.',\n",
       " \"Any recommendations? Looking for a book that will go through the analysis of algorithms, giving proofs by induction/contradiction etc. Is there well known go-to resource for what I'm looking for? Or any suggestions that you just found to be great in general?Thanks in advance.\",\n",
       " \"I dont mean a coin toss or such thing, as its technically determined as soon as you flip the coin ( gravity, wind etc.), but rather a totally unpredictable event like a programmed coin toss, but I'm not sure wether its actually totally random. (sorry for bad my bad english)\",\n",
       " \"My thought is that even if the DB leaked and even if they got the salt by hacking into the server they would still have to deal with the md5 they wouldn't be able to decode it without knowing the original value is because first, they would have the guess the md5 hashed value that bcrypt generated then decode it with the salt.What do you guys think? I hope that hacking won't be an issue though as my production environment will be locked down pretty well.\",\n",
       " 'Hello, I have been reading on randomized/approximative algorithms books, and while Math is aesthetically pleasing, I wish to get my hands dirty with practical coding challenges or projects.Any recommendations?',\n",
       " \"Hello everyone! I've been reading up on SSH and am trying to figure out why SSH uses symmetric encryption for communication when asymmetric encryption is used for authentication and key exchange.The only reason I can think of is symmetric cryptography allows for fast encryption and decryption. Is there any other reason?\",\n",
       " '  I was reading the detection of same function reentrancy by Zeus as discussed in \\\\[[Zeus: reentrancy detection](/~joel.reardon/blockchain/readings/ndss2018_09-1_Kalra_paper.pdf)\\\\]. They have done cloning. I can’t understand this method. Is this a valid method of testing a SC because we are modifying the SC. Can we modify the SC during testing?The paper says:    Reentrancy in Solidity can happen via the call method. send only invokes the default function with limited gas for logging purposes. ZEUS handles same-function reentrancy by first cloning the function under consideration, and inserting a call to the clone before the invocation to call. Fig. 14 shows the patched function for the example in Fig. 2. Note that ZEUS ensures that the patch is done within the same basic block so as to ensure that if the cloned function is called, then the invocation to call is also made. Further, we also assert false before the call code. If the verifier finds a path leading to this assert, it indicates a bug.Somebody please help me to understand .Zulfi.',\n",
       " 'How do structs work internally in memory. I know that an instance of a struct is a pointer to the first field of the struct. I also know that all the fields of a struct are contiguous to each other in memory so the memory address of the second field of a struct can be accessed by adding the size of the first field to the memory address address of the first field.I am failing to understand that how do we access the consequent fields of a struct with just the memory address of the first field. We can do it in arrays by jumping x bits ahead according to the data type of the array, we can only do this in arrays because the values in a certain array have the same data type. My question is that how do we navigate through the fields of a struct by only knowing the memory address of the first field of the struct.Thanks!',\n",
       " \"    specifiedItem = 'item6'    lists = [['item1', 'item2'],                  ['item3', 'item4'],                  ['item5', 'item6']]        wasItemFound = False        for list in lists:            for item in list:                if item == specifiedItem:                    freeFromIngredient = True                    breakPlease don't just give me the answer, if you could explain how I would calculate it that would be great! Thanks :)\",\n",
       " '',\n",
       " 'I was curious about the differences in how we treat servers and computers. So for example, if my computer is on for several weeks, it starts to get slow and weird things start happening until I eventually shut down or restart and it comes back up peforming normally. Why is it that servers can stay up for months or even years and not experience the same flakeyness as regular computers. I imagine it has some to do with the OS and some to do with the hardware, but wanted to see if anyone could enlighten me. Thank you.',\n",
       " 'Does anyone know how far a one terabyte file can be compressed? What’s the limit of today’s technology compared to 2000 and 2010? Regarding the compression of a file. If one terabyte holds 1,000,000,000,000 bytes, what is the utmost limit of compression?If data loss will occur, tell me the limit for both. With and without data loss.Edit: Let’s say the data is an entire computer full of word files, photos, and videos. I know it’s basically impossible to state an exact amount of word files, photos, and videos, however, I’m stating an example. One terabyte of your entire computer. Going off the assumption that your computer is exactly one terabyte of data.Edit 2: If someone has an exact example, let me know. For example, your own computer. How much would you be capable of compressing? Let me know the beginning size and then the compressed size.',\n",
       " \"Hey all, I'm looking for some software architecture design books or websites that can help me devlop and understand large and scalable projects. It's difficult trying to find readings that aren't aimed at newbies. Really just looking to advance my skills. Java is my primary language if it matters.\",\n",
       " 'A question: Alan Turing’s approach to Decidability problem(Can we know beforehand if certain numbers and theorems are calculable and provable) was that if there existed a decidable program D that takes another program as input and decides if it will finish, We can encode the program itself and there should exist a decidability program that decides on the program D. So is Decidability Decidable. Well now my question is can’t the answer be yes. That would make an infinite chain of decidability programs but that doesn’t mean it is logically incoherent as suggested by the analogy used that this problem reduces to logical problem that arise from:“this statement is false”.Why is the answer No?',\n",
       " \"Hello everyone, I'm learning about the Wired Equivalent Privacy (WEP) protocol. I thought about a possible attack and wanted to know if it is possible:An adversary intercepts a packet/frame that has the initialisation vector (in plaintext) and the ciphertext. They then replace the ciphertext with some other data, and send it to the intended recipient.Is it possible to perform this attack without the recipient detecting that this has happened and without finding the value of the secret shared key? Thanks in advance!\",\n",
       " '',\n",
       " \"I was watching a youtube video about coding interviews and after looking in the comments, someone was claiming that [this]() algorithm had a time complexity of O(n) where n is the size of the array.I have more of a technical background rather than a CS one so this is my thinking when approaching this:Because he's taking each integer in the array and brute force testing it against all other integers in that array and then moving onto the next integer if there is no match, the algorithm will take exponentially more time as the array size increases and therefore has a time complexity of O(n^2).For example, an array with 2 integers will have 4 (2^2) total pairs: 00, 01, 10, 11,While an array with 4 integers will have 16 (4^2) pairs: 0000, 0001, 0010, 0011, 0100, 0101, 0110, 0111, 1000, 1001, 1010, 1011, 1100, 1101, 1110, 1111So which one is it? O(n) or O(n^2)?\",\n",
       " 'I’m not sure if this is the right place to ask, however, I’m gonna ask anyways. I’m pretty sure one byte equals eight bits. If that’s correct, am I correct in assuming that one byte equals one character? Are all characters the same amount of bytes? Like, numbers and letters. Example being; 7 compared to H. They’d both equal one byte? Separately, of course. Not together. Also, is a space considered a character byte? Lastly, is there a difference between a email message versus a text message? Pertaining to byte size per character. If this isn’t the right place for this question, could someone point me to the correct area? If this is the right area, mind answering these questions?',\n",
       " '',\n",
       " 'Will downloading files wear on a computer? The processes of downloading files, storing information, sending information, etc.Does the process destroy wires, chips the memory drive, etc?Does a file physically imprint itself in such a way that it can never be completely erased?Is there a field of study that relates to my specific interest?Thank you',\n",
       " \"So if asked to prove that f(x) = y is surjective, we check if all the elements in the co-domain(y) have an element in the domain(x), so does this mean that we can have an element in x that doesn't map onto any value in y. i.efor the domain {x1, x2, x3} and the codomain {y1, y2}f(x1) > y1f(x2) > y2f(x3) > blankIs this Surjective? Since I've heard that when mapping, all elements in x are used, but when we check if a function is surjective we only use elements in y to check for x, so there might be some elements in x that don't map to y\",\n",
       " \"I've been working as a software developer for 6 months and during this time I had to write a certain query and did it in the absolute stupidest and unnecessarily complex way that I thought was genius and was very proud of.Meanwhile a coworker had to solve the same problem and I came across his solution. I was embarrassed by it's simplicity and now I feel like a moron.Has anybody had similar experiences?\",\n",
       " 'Forgive me if this is the wrong sub for this, but I\\'m kinda getting desperate at this point.Can anyone explain in a dumbed down manner how the following lines from [Bresenham\\'s Line Drawing Algorithm](-line-drawing-algorithm-2e0e953901b3) make sense? Essentially, this is used to calculate where the next pixel should be drawn when attempting to draw a line between two points in a 2D space:>We use dx and dy values to calculate the initial decision variable (d). value of the decision variable is changed on each step.  >  >d=2dy-dx  >  >Similarly, we need to calculate △E and △NE values. After the first initiation, these values are not changed.  >  >...Like, where does the multiplication come from and why is it arbitrarily on dy and not dx? Not only that, most of this method seems to only account for positive increases, and although it does mention them, it doesn\\'t give a proper solution to other cases.Also, a \"slope error\" doesn\\'t seem to be something google wants to tell me about. So, what\\'s the deal with that?',\n",
       " '',\n",
       " 'When watching tutorials I often notice them sometimes saying one way is better due to compiler optimizations. I know they treat it as a black box for time reasons but it would be nice to have a compilation that lists what these optimizations are and when the compiler does them. Even without looking at the assembly or atleast an explained version of it.',\n",
       " 'Hello everybody! I am a 4th year Computer Science student. My fiancé’s 10 year old sister has expressed some interest to me about the work I do and said she wants to learn how to code. Does anybody have any resources or advice on how to introduce kids at this age to programming? She’s interested in games like Roblox. I just feel like the approach I took to start learning might not be appropriate since I started as an adult.',\n",
       " 'So seeing as various types of colds and viruses can autonomously mutate- is it possible for a computer virus to mutate by itself?',\n",
       " '',\n",
       " 'Can you share a good website, book or other resources where the ideas related to np complete and np hard complexity classes are explained intuitively?I read Cormen and Wikipedia but feel like I want something more. Thanks.',\n",
       " '',\n",
       " '',\n",
       " 'Will there ever be a point were every possible malware type will be detected by antivirus software, making malware nonexistent?',\n",
       " 'Hey, I am not from a computer science background but I do software dev. I was trying to understand VDF and how it works - Verifiable delay function. I came across \\'Modular square root\\' in [=\\\\_-feyaZZjEw](-feyaZZjEw). I was not able to interpret how \"mod\" was being used here. Tried this link: [\\\\_square\\\\_root](), its even confusing. Any resources or material to understand the background will help. Thanks in advance.',\n",
       " 'Sorry if this post doesn’t quite fit this sub but this has been bothering me for ages and I’ve recently hit a breaking point for my frustration. It just pisses me off that there are 26 letters in the alphabet and 325 pairs of letters you can choose and for some reason the pair that we all seem to use is (i,j).  There are literally no two letters that look more alike and that could get more easily mixed up but for some reason whether it be in code are in my case here in proofs and papers these two letters are always used together.  Why should I have to use a magnifying glass to read a damn proof from a paper that couldn’t have the decency to at least use a better font?And it doesn’t stop at (i,j). We also love to use (m,n), (p,q), (u,v). Like I get it, it’s more clear that the variables are related when they look alike, but it should certainly be more important that people don’t mix them up???',\n",
       " \"There is a monkey and 10 cages.Each cage has a door and there is a passage between each adjacent cage, not including 1 and 10.The monkey starts at a random cage. Your goal is to find him. You may open and close as many cage doors as you want, but each time you close a cage the monkey must go through a passages to a different adjacent cage. The monkey can enter a previously opened cage (for example, he was in cage 5, you looked inside cage 4 and once you closed it he moved into cage 4).Example:Monkey at 6, you opened 8, you closed 8, monkey went from 6 to 5. You opened 4, you closed 4, monkey went from 5 to 4. Repeating.The goal is to find a method that ensures you'll find the monkey in the least amount of doors opened.Me and my friends had a go on this one for about 2 hours, we came up with a 17 moves solution that's I'll describe below in the first comment.The person who told us about it said there is a better solution with less doors to open.I hope you can help me find it. Good luck!\",\n",
       " 'Hi, I have 0 experience in coding (went to school for Finance), and my end goal is to learn solidity. I want to start with JavaScript but should I learn about Data Structures and Algorithms first or first learn the basics of JavaScript. I also saw that there are courses of Data Strucutres and Algorithms specific to JavaScript. Any guidance would be helpful.',\n",
       " \"&#x200B;So in an adder-subtractor circuit the output for addition will be as an unsigned integer while the output for subtraction will be in two's complement form right?  If so does the circuit not work when the difference is less than minimum two's complement value? For example in two's complement a 4-bit integer can range from -8 to 7 in decimal. But you can input 0000 - 1001 for example. The difference of those two terms would be -9 in decimal which is less than -8 the lowest possible value. So are adder-subtractors unable to work when the difference of the input is less than minimum two's complement value?  Sorry if this makes no sense. I am very confused.\",\n",
       " \"Seems like everyone is talking about NFTs in some capacity but I haven't seen a lot of opinions about them from tech literate people, just wondering what the general consensus on them is from a comp sci perspective.\",\n",
       " \"Do you think that it's better to teach it with an emphasis on applying calculus to actual problems instead of the conventional way of integrating this ugly monstrous function? If you were to teach it to undergraduates doing CS, then how would you do it?\",\n",
       " 'I have this question where it asks what the time complexity of this piece of code is. I know that the solution is O(n), but I can\\'t wrap my head around the \"why\" of it. I was wondering if someone could help explain it to me.',\n",
       " \"I'm taking computer science in school and I'll admit, I'm not the best at it and I want to change that, I want to get better at coding but I'm not sure how I should go about it because I've heard that practise is the best way of getting better at it but I'm not sure where I should practise (We're studying python btw)thanks in advance!\",\n",
       " \"Perhaps this isn't quite the right subreddit. I'm doing some research for a bit of fiction I'm working on. Let's say it's built using current or very-near-future tech. The group making it has the resources of a large nation. Their aim is to preserve human knowledge even if we get knocked back into the stone age, and for the device to remain operational for long enough to be used to help rebuild society.What sort of information would it store? What sort of hardware would be able to store and retrieve data for a very long time? What kind of software would run on it? What can be done to make sure it's stable? What kind of software would be most useful for this purpose? What and how do we teach a user who might not even know how to write? How would we power it?How long, realistically, could we make such a device remain operational? What kind of peripherals could this device use? (communicate with a paired satellite in a geostationary orbit, antenna on top of a mountain, etc)\",\n",
       " \"ML experiments often get split between Git for code and experiment tracking tools for meta-information - because Git can't manage or compare all that experiment meta-information, but it is still better for code.The following guide explains how to apply DVC for ML experiment versioning that combines experiment tracking and version control: [Don't Just Track Your ML Experiments, Version Them](-experiment-versioning) - Instead of managing these separately, keep everything in one place and get the benefits of both, like:* Experiments as code: Track meta-information in the repository and version it like code.* Versioned reproducibility: Save and restore experiment state, and track changes to only execute what's new.* Distributed experiments: Organize locally and choose what to share, reusing your existing repo setup.Experiment versioning treats experiments as code. It saves all metrics, hyperparameters, and artifact information in text files that can be versioned by Git, which becomes a store for experiment meta-information. The article above shows how with DVC tool, you can push experiments just like Git branches, giving you flexibility to share experiment you choose.\",\n",
       " \"I heard about something turning on and off, I don't know anything more\",\n",
       " \"What is the difference between data type, structure, schema and model? And what's the relationship between each? Any examples?New to CS and would love to learn more. Thanks!\",\n",
       " \"The previous company I worked at and the current company I work at both have implemented some sort of permission system so that end-users or even different organizations could not access data that they were not allowed to.   This sort of feature is actually really important when selling a product. Both implementations have also been absolute cluster-fucks, with a ton of spagetti, edge cases, weird states, un-flexible for future feature requests, etc. &#x200B;In both cases I believe this is due to the original implementors, while smart people, were trying to design a complex system from scratch using their own intellect without taking a look at the problem from a foundational or theoretical perspective.   I might have an opportunity to right some wrongs in the coming year, and I was wondering if there's any material/information out there on how to properly design security/privileges. If i model a proven solution, i think we might end up in a better place.\",\n",
       " 'Imagine you have an neural network system, and its a classifier. It takes in some code and spits out whether or not it will halt or not. You could imagine in a simple case that you train the neural network with code that has a while (true) loop. It clearly halts and the AI can report that it halts with some trivial training examples, probably easily, without the need to do an infinite amount of computation.So theoretically as you expand the sophistication of the AI system and incorporate more training and more examples it should be able to determine whether code halts more and more. It seems obvious, at minimum, that the AI should be able to determine whether a much larger range of code either halts or not without doing any traditional computation. Have there been any cs papers exploring whether AI could expand the reach of solvable verifiable problems traditionally thought to have been out of computational reach e.g. in the np space?',\n",
       " \"Tell us about some cool projects that you've worked on.\",\n",
       " \"I'm posting here because internet is for once proving useless in answering this question, what is the etymology of screen dump?Over the years the word, screenshot, has taken over for the use of 'dump', but in my native language the word still carries this legacy meaning. I've got a master in informatics and currently doing my phd in information systems research, but can't for the life of me find the answer. The old-school 70s and 80s professors in my research group, who lived through the nascent computer science days, doesn't have the answer either.  any old school computer scientists here that might know the reasoning behind this naming? What is the reason for using dump? I've been speculating that it has something to do with how computers back in the day had to dump the memory and not make a screen photograph, but something else. Would love to hear your speculations, or possible answer!\",\n",
       " '\\\\^',\n",
       " '',\n",
       " \"I am really struggling with the first course on linear algebra and matrices and I find it hard to motivate myself, as I don't know many real-life applications to the things I am learning, or am trying to learn.I know these things have many applications in cs, but since I don't have a clear vision on what I'd like to do in this field yet (so far I've enjoyed web deving and I am interested in audio programming and graphics, although I haven't gotten into them yet), I don't really know why these things are relevant for me.Any pragmatic examples on why I really should learn this stuff? Thank you.edit: thanks to everyone who has responded, it is greatly appreciated!\",\n",
       " '',\n",
       " '',\n",
       " 'I just recently finished studying Automata. I found it very interesting and enjoyed the intuitive process, even though I struggled a bit.I was wondering what topics or subject matters would be best to study next?',\n",
       " ' How is it that malware can run on computers that dont have programs that run the language installed? or even certain libraries?Like if i dont have python installed and i get a python virus, how does it run?or if i did have it, but didnt have the right libraries, how could it function?sorry if this is a stupid question, i am relatively new.&#x200B;I just really dont understand how code can even run without the right stuff installed.',\n",
       " 'Was watching presentation by The Guy Steele[]()He describes computation as computation tree.I\\'m trying to find if there are research (books) that focuses on computation trees specifically?Take code -> unfold its execution into computation tree Found this: [\\\\_tree\\\\_logic]()This is close but I was wondering is there something that applies \"computation tree\" in compiler/JIT/interpreter optimization...?Thanks!',\n",
       " \"I showed a junior engineer that you can reduce dependencies by using inheritance and only using the parts of the interface you need.For example,class Circle : Shape, UIElement {}And later, if all you need is shape properties, then use a Shape ref to point to a circle, don't require circles.But instead, he's now broken *everything* down into single field classes/structures. E.g.class NameProvider { string name; }class AddressProvider { string address; }class AgeProvider { int age; }class TitleProvider { string title; }class RankProvider { int rank; }class HeightProvider { int height; }...class Thing : NameProvider, AddressProvider, AgeProvider, TitleProvider, RankProvider, HeightProvider, ...I find this level of breaking things ridiculous, and it's become impossible to work with his code. It takes forever to figure out what anything is and where it is defined. But he's in love with this new approach and won't compromise. Is there a formal reason to not break things out so much? Or better yet, is there a test for when you've broken things out the right amount?\",\n",
       " \"Hi. I'm a self-taught developer who studied CS50 and full-stack web development and is solving coding challenges daily. I'm trying to become a better developer by deeply understanding the fundamentals of CS but I'm not really sure if I'll become a better developer by doing so. I came across that website: [/](/)And I found it has old books and 2007 MIT courses. I want to know from more experienced developers out there if it is worth it to study these old heavy textbooks and courses? I'm not trying to learn the theoretical side of computer science or something I'm just trying to become a better developer who can provide better value for businesses.\",\n",
       " '',\n",
       " \"Alright, to give some background on myself, I'm a junior in High School who has been learning to code and programming for the past 2 years in just one language. Anyways, this year, I decided to join my school's CS club where they said they were taking applicants for team leads. I didn't really know what a team lead was and they left it pretty vague so I decided to sign up because I felt like why not and that this would probably be a good opportunity for me to learn some leadership skills. This being said, I really didn't know what I was getting into. For one thing, I assumed that we would be having team meetings during the club at lunch on Friday when we usually meet, however, in reality I'm supposed to schedule meetings on my own. Anyways, this isn't really too much of an issue for me however, my largest issue is the fact that 9 people signed up to be in my group, most of them arguably better programmers than me, and others, quite beginner. This is an issue for me because I've never actually coded something not by myself so I really have no idea how to divide up the work into 9 parts given how interrelated everything is in the project. In the same sense, I really have no idea how often I should meet with my group. I feel like the project is fairly simple and I'm afraid if we meet even just an hour a week we'd probably finish within a month. If you want more details on what the project is, feel free to dm me, however, if anyone could give me advice on how I should proceed given how lost I am that would be great.\",\n",
       " 'I don\\'t know if this is the right place to ask but I couldn\\'t think of any other subs that might be appropriate. Basically, how does the computer take an svg image, and create a perfect circle that is perfectly circular no matter how \"zoomed in\" you are. It seems like its either a lot less complicated than I\\'m assuming or a lot more complicated than I\\'m assuming, but it seemed like an interesting topic.',\n",
       " \"I'm really interested in creating software like game-engines or 3d modeling software, mainly i like to deal with the graphical aspects of the software like reflections or lighting. What would be the name of the course that i will study?\",\n",
       " 'I\\'m working on an iOS application for my portfolio. I\\'m a frontend guy so I\\'m using an open API as the backend. It\\'s free to use but strictly mentions that the data must not be \"commercialized\". 1. Does this mean I can only use the API as a personal project, and not publish? 2. Or does it mean I can publish my application - I just can\\'t monetize it?',\n",
       " 'I know they used punch cards and ASCII, but without programming languages like we have nowadays how did the computers understand what was on the cards? How can a machine understand input without a language allowing it to do so? It would be like talking to a rock and expecting it to do something. I’m really curious about how this worked, how the first communication with machines began. Can’t seem to find an answer on google',\n",
       " \"So if firmware is on an ROM chip soldered to the motherboard, this should mean it is impossible to change what is on the chip because it's read only. But firmware updates happen over the internet, so how is that possible?\",\n",
       " 'Pointers are obviously very useful when they point to values across function calls but are they actually useful while pointing to values in the same scope. For example if a variable `age` stores the value `114`, I can update the the value of `age` by creating a pointer to that memory address, but why would I do that? I can simply change the value of `age` directly because I have access to it as I am changing from the same scope.A reason I could think of for creating a pointer to a variable in the same scope is that it might be useful to have pointers point to a variable in the same scope because it would make the naming easy and referencing to the value in huge codebases would be made easier, but I do not think that this is a good use case. The main purpose of pointers is to stop the wastage of memory by copying of the values stored in a variable to another variable but if we are creating pointers, we are of course storing them in a variable which is taking memory so we are back to square one. This might not be the case where variables store a lot of data, this is true for variables that store less data than the memory address itself.My question is that is there any use for creating pointers that point to variables in the same scope or they are never used like that. Stating any examples would be very helpful!',\n",
       " 'As in title, I would appreciate any reccomendation.',\n",
       " \"I've my exams in a few days and I need to learn about Boolean algebras and logic gates. Can you guys please help me with some resources?\",\n",
       " \"I'm currently an UG student in Comp sci and want to PG in a field that contributes more to scientific research. The fields I've found that do this are AI and computational science. They seem pretty close to me so what's the difference between them and which is better wrt to my goal?\",\n",
       " '',\n",
       " \"EDIT: For people asking the same question as me, I have found an INCREDIBLY useful video that explains Asymptotic Growth and Asymptotic Bounding. Please watch this here: []()Hello. This post is very simple: I am struggling to understand Asymptotic Growth. It just seems like this pointless silly abstract mathematical concept that doesn't even make sense when its applied to things like computational complexity. I can write down definitions of what it means for f to equal O(g), but I don't understand the problem, I don't understand how this is the solution, and I don't understand how the solution couldn't be something else. Basically, I need a resource that can really comprehensively teach what this thing is in a way that makes sense for it to exist.&#x200B;RANT-- Skip to TL;DR if uninterestedLike if you already have a function that perfectly describes your algorithms time complexity, what's the point in simplifying it in a weird way that breaks algebra rules? If you're trying to compare it to another algorithm, then why not just... compare it to another algorithm? Grab two functions, from two different algorithms, come up with some reasonable input sizes, and evaluate. Simple as that. But then there's this best case worst case thing? And I don't get how what comes out of the definitions is the best or worst case... The way that O(n) was defined to me just made it seem like any arbitrary function that was larger than f(n) could suffice in defining the worst case scenario...&#x200B;TL;DR please give me resources on Asymptotic Growth that go deeper into explaining why its a thing and how its actually useful\",\n",
       " \"Is there a way I can have a client send something like a hash of it's executable to confirm the client has not been modified to a server?\",\n",
       " \"I want to make a dead man's switch to release all my code publicly and my master password to my family, but I want it to be encrypted beforehand, and have a low chance of being cracked or destroyed before deployment, I don't have anyone trusted to maintain it and I might end up in a psyc ward for long periods of timeany way set up a dead man's switch with these conditions?\",\n",
       " \"I was given a function T(N) = 5N + T(N-1)My understanding is the algorithm will always have a Big O time complexity of of O(N) because there isn't any multiplication to increase N's power, but the answer that was expected from me was O(N\\\\^2). Even in words, I could say that the function calls itself 5N times plus another N minus 1 times, so the time complexity should still be linear with respect to N inputs. Why is this O(N\\\\^2)?\",\n",
       " 'Sometimes when trying to run a VM, you need to enable virtualization in the BIOS. I always presumed this meant that the hypervisor was sending machine code directly to the CPU, which in turn interacts with all the peripherals for the VM, and that the host OS was \"allowing\" the VM\\'s machine code to pass by.However, I just watched [this video](-4MEoM) where he says that the hypervisor (or at least a type 2 hypervisor) is making a virtual representation of the hardware. When I use something like VMware (type 1) desktop, is it actually interacting with bare metal? Whereas something like Virtual Box (type 2) goes through the host kernel?  Any insight is appreciated.',\n",
       " 'Hey guys I wanted to know. If someone knows C and wanted to get into the world of operating systems and know all the round robin, multiprocessing stuff should they:a) Read an entire book on OS first, before getting their hands dirty with real code                                                  ORb)Should read books, alongside getting their hands dirty while following the documentation of the OS they have chosen.I wanna know you all thoughts and opinions.',\n",
       " \"Hi guys, I'm an undergrad cognitive psychology student and recently I came across the existence of the use of computational models to study phenomena.Since I've always been pretty keen on computer science I wanted to dive more into it but I couldn't find much material on the web about what knowledge you need to start developing these programs.I'm particularly interested in computational linguistics and computational biology.Do you guys have any suggestions on what mathematical and CS knowledge is needed in order to have a solid background for starting to build these models ? I have some programming skills but only with Python and Java and i don't know what language is used for models (C++ maybe?)I've already asked some professors but i still have some doubts about it.\",\n",
       " \"Hi all, IT professional here. Recently I have become interested in learning more about how the components inside computers work. For example, I know what CPU, GPU, RAM, etc are...but how do they actually operate?  I'm talking at an extremely technical level. Does this fall under computer science? Thanks all.\",\n",
       " \"I'm fully aware that controlling the many variables that go into genetics is a difficult task. Previously i had the computers that controlled the nanites linked to a massive, planet-wide supercomputer, but realized this connection would be impossible to maintain on earth (the cyborgs are also aliens). Is there a way I can fit the needed processing power into a small package? \",\n",
       " 'In Uni are currently using Modeler of riverbed, which was created by opnet in case you know it. I basically hate that tool to the core, it makes our lives misserable! ..mostly due to the lack of documentation.  It is basically a tool where you can create Logical or Physical networks to simulate, with many choices for mediums, settings, protocols, profiles e.t.c.   I was wondering, what are the similar alternatives out there for IT in big companies?',\n",
       " 'This is kind of a specific question but, I formulated it in the most general way possible so anyone can benefit from any answers.I have a very lightweight visual novel video game called *Shiny Days*. For some reason, the game runs just fine with minimal bugs in windowed mode. However, when in fullscreen mode, the game will freeze at a very specific moment in the game every time without fail.The fix for this endorsed by the community is to change the process priority to \"Above Normal\" and change the processor affinity to only \"CPU 0\" or \"CPU 1.\" This is to force the program to only use a single thread.&#x200B;The question I am asking here is, why does that fix work? Why would increasing process priority and limiting the program to a single thread help anything? I know what the fix does but, I don\\'t get why it stops the freezing of the program in such an effective way. What do you guys think is going on here? I\\'m curious to hear any insights computer science experts would have to say on WHY this fix actually works.',\n",
       " 'Recently, I played around with Concorde algorithm [available here]().It should return an optimal solution, however some choice he made in his optimal path are counterintuitive.For example, I would have thought that green path would be more optimized than the red one proposed by Concord :[Red path is suboptimal ?]()&#x200B;Is this caused by some rounding approximation ?',\n",
       " 'Hello, I\\'m trying to get a deeper understanding of networking, specially low level network programming. I\\'ve been reading about sockets and how to write server programs using socket libraries like winsock or socket.h, but I am kind of confused about how the server then talks with other programs. I think the best way to explain it, is for me to lay out what I THINK is happening when a simple GET request hits an HTTP server.Assume a client and server socket are already connected using TCP.Data Arrives to the network interface for the machine, the driver for network interface card tells the OS that it has data (through an interrupt?). The OS then looks at the IP:Port# and if there is a connected socket listening with that IP and Port, it then (through the socket library) passes the data to the process that is the \"server\". The server has the payload with the HTTP headers, metadata, body, etc. Now lets say I have written an API using C# using the webapi framework in dotnet. Does the server open a socket with the process running the API in order to pass the HTTP request info to the correct endpoint? Is the server and the API the same process, and the dotnet framework (or any API framework) is baking in the socket code and acting as a server as well? or is it something I\\'m completely missing?&#x200B;Let me know if this makes sense at all. Please correct and incorrect assumptions or missing steps in my walkthrough. I\\'m trying to remove as much abstraction as possible and understand how something like this works at a low level.Thanks for your time!',\n",
       " 'Hi guys, This semester I am taking a course named \"virtualization techniques\". It is very interesting and also daunting to me when it involves a huge amount of low-level understanding of the system. I don\\'t have a good background in this and I think I can get some good advice from Redditors :D Like good textbooks to read, basic articles to grasp the idea, ... I think it would be very helpful to refresh my computer architecture knowledge, but it would be nice if I could get a list of worth-studying contents :D As of now, I am trying my best but kinda lost in the lecture (I feel the professor is quite bad at eli5)Don\\'t tell me to quit, I picked this course because I found it fun to learn, and also I intentionally spent this semester studying shit I have almost zero knowledge of. I don\\'t care about my grade at all.Thanks in advance!',\n",
       " 'Hey guys, i just wanted to see if any of you know any good resource because so far i have read many books but none of them helped me (Head first, Cisco , Comptia)  i know those are good books but i need something that explains EVERYTHING, im a complete beginner.. for example they start talking about protocols without explaining what  a protocol is and a lot of things like that they just say words without explainingi need a book or course that gives a deep introduction.',\n",
       " '',\n",
       " 'Hi everyone, I have recently been doing some personal research on data structures and algorithms, one of the things I want to look into is a memory stack. I have already written about how a Stack data structure works in C# (what is does, what the operations are and some examples) but I also need to talk about a memory stack.Would anyone be able to explain to me in simple terms what a memory stack is and if there is any different between a Stack in C# and a memory stack and also how it is used to implement function calls in a computer?Everything I have found online is either too complicated or is just telling me you can Push and Pop like you can in the C# stack so I don’t understand the difference.Thanks :)',\n",
       " \"My question is about why LSP requires contravariance in the parameters of the subtype's inherited methods.And more to that, if following LSP means that I can pass in a subtype wherever a parent type is expected, then why couldn't the inherited methods of the subtype be covariant in the parameters?Does the fact that you can't be more specific when passing parameters to a subtype's inherited methods itself violate LSP?Edit: Thanks to u/Probablynotabadguy I think I understand this.If you have a type T and a subtype S, then for all intents and purposes, S IS a T.And so of course the substitution portion holds that if you have a function `foo(T)` that you should be able to pass in an S - because we just said an S IS a T, right?That part I understood. However, because anything provable of type T should be provable for type S, that includes it's methods. And so the contravariance of the subtypes methods is precisely because it's trying to preserve the provability of the subtype relationship.My apologies, I know that's probably a lot of the same words.[Code](+184%2C+195%2C+1%29&t=vscode&wt=none&l=text%2Fx-php&ds=true&dsyoff=42px&dsblur=68px&wc=true&wa=true&pv=56px&ph=56px&ln=false&fl=1&fm=Hack&fs=14px&lh=133%25&si=false&es=2x&wm=false&code=class%2520Speaker%2520%257B%250A%2509public%2520function%2520speak%28string%2520%2524word%29%2520%257B%250A%2509%2509return%2520%2524word%253B%250A%2509%257D%250A%257D%250A%250Aclass%2520LoudSpeaker%2520extends%2520Speaker%2520%257B%250A%2520%2509public%2520function%2520speak%28string%2520%2524word%29%2520%257B%250A%2509%2509return%2520strtoupper%28%2524word%29%253B%250A%2509%257D%250A%257D%250A%250Aclass%2520ScreamingSpeaker%2520extends%2520LoudSpeaker%2520%257B%250A%2520%2509public%2520function%2520speak%28string%2520%2524word%29%2520%257B%250A%2509%2509return%2520strtoupper%28%2524word%29%2520.%2520%27%21%21%21%27%253B%250A%2509%257D%250A%257D%250A%250Aclass%2520Animal%2520%257B%250A%2520%2520%2520%2520public%2520function%2520speak%28LoudSpeaker%2520%2524speaker%29%253A%2520string%2520%257B%250A%2520%2520%2520%2520%2520%2520%2520%2520return%2520%2524speaker-%253Espeak%28self%253A%253Aclass%29%253B%250A%2520%2520%2520%2520%257D%250A%257D%250A%250Aclass%2520Cat%2520extends%2520Animal%2520%257B%250A%2520%2520%2520%2520%250A%2520%2520%2520%2520%252F%252F%2520Why%2520am%2520I%2520not%2520allowed%2520to%2520accept%2520ScreamingSpeaker%2520here%253F%250A%2520%2520%2520%2520%252F%252F%2520According%2520to%2520LSP%2520I%2520can%2520only%2520accept%2520either%2520LoudSpeaker%2520or%250A%2520%2520%2520%2520%252F%252F%2520it%27s%2520parent%2520class%2520Speaker.%250A%2520%2520%2520%2520public%2520function%2520speak%28LoudSpeaker%2520%2524speaker%29%253A%2520string%2520%257B%250A%2520%2520%2520%2520%2520%2520%2520%2520return%2520%2524speaker-%253Espeak%28self%253A%253Aclass%29%253B%250A%2520%2520%2520%2520%257D%250A%257D%250A%250Afunction%2520makeAnimalSpeak%28Animal%2520%2524animal%29%2520%257B%250A%250A%2520%2520%2520%2520%252F%252F%2520According%2520to%2520LSP%2520I%2520shouldn%27t%2520pass%2520in%2520LoudSpeaker%2520here%253F%250A%2509return%2520%2524animal-%253Espeak%28new%2520Speaker%29%253B%250A%257D%250A%250AmakeAnimalSpeak%28new%2520Cat%29)\",\n",
       " '',\n",
       " \"Hi geeks,How do we verify whether a link or a github profile that was provided in Resume belongs to the same person as the Resume? I am thinking of having a hash based addressing to solve such problem. Any leads? &#x200B;For detailed explanation: Let's say in my resume I put []() and no one knows If I am the random user and github user names are strange most times. What can be a possible solution to the problem?\",\n",
       " 'Basically, question is in the title  UPD: found a great book on the topic:  Fluid Simulation for Computer Graphics by  Robert Bridson ',\n",
       " \"-vm/index.html#1:3> The LC-3 has 65,536 memory locations (the maximum that is addressable by a 16-bit unsigned integer 2^16), each of which stores a 16-bit value. This means it can store a total of only 128kb, which is a lot smaller than you may be used to! In our program, this memory will be stored in a simple arrayCan someone help me to understand why and how the size of the memory is 128kb (kilobits)? I really might be this dense, but I don't get it.Sorry in advance if not correct sub, I thought this would be the closest one. This is not my home-work, I'm old dude just doing this on my freetime.\",\n",
       " \"If it's all in ram already then it shouldn't add any additional time to skip around for textures, right? And even if it's some buffer shit then isn't that openGLs job?\",\n",
       " 'In your opinion what is the most widesbread stack used in software development feild today? I’m cs student and am trying to get an idea of how people build software in the real world.',\n",
       " \"When we open a video in any video player, it opens it almost instantly and plays in full resolution with 30fps. We can also skip to a particular section (time) and player instantly jumps both frame and audio to that section.But when we open it in video editor, it does operation like caching frames or drop frame rate while playing inside editor. Also when we zoom a particular length inside editor it takes time to make thumbnails for that section while in video player it resizes to resolution of windows in real time.It seems video player can decode the video file instantly but not video editor.So whats different between how a video player handles a file and how a video editor handles a file. Also why it takes 5 minutes to export (write) the video while it can read it instantly.I'm not a computer science student. Sorry if question is poorly phased.Thanks.\",\n",
       " \"When there are the components of a computer assembled into an otherwise perfectly functional PC, how is the operating system loaded onto the computer? It's not like they can code the computer by just typing on it because with no software it can't interpret the text and it wouldn't even know how to make the text because Unicode is software too.\",\n",
       " 'My only exposure to NP is a very well written stack overflow answer and I want to see if I understand it. If X is in NP-Complete (so all NP problems reduce to X), and X reduces to Y, then Y is also NP-complete right? Or is it not transitive?',\n",
       " \"Any letter here is used to represent a binary input (1 or 0) and then you just follow the basic of principles of maths, oh and work in **DENARY.** The idea is that you could punch one these formula into a standard school calculator without changing any settings and have it working.Heres the basic ones:1. NOT = 1-x2. AND = xy3. NAND 1-xy4. OR x+y-xy5. NOR 1-x-y+xy6. XOR x+y-2xy7. XNOR 1-x-y+2xyHeres an adder that takes a carry and 2 bits and outputs the binary in:* x+y+z+8xy+8xz+8yz-16xyzSorry I didn't create a half adder as my main source for logic gates was a video series by Sebastian Lague so I just followed that along .Anyway just for fun and to prove how utterly useless this whole thing is here is an untested 4 bit adder:z+a+b-2ab-2az-2bz+4abz+10((ab+az+bz-2abz)+c+d-2c(ab+az+bz-2abz)-2d(ab+az+bz-2abz)-2cd+4cd(ab+az+bz-2abz))+100(e+f+(cd+c(ab+az+bz-2abz)+d(ab+az+bz-2abz)-2cd(ab+az+bz-2abz))-2ef-2e(cd+c(ab+az+bz-2abz)+d(ab+az+bz-2abz)-2cd(ab+az+bz-2abz)-2f(cd+c(ab+az+bz-2abz)+d(ab+az+bz-2abz)-2cd(ab+az+bz-2abz)+4ef(cd+c(ab+az+bz-2abz)+d(ab+az+bz-2abz)-2cd(ab+az+bz-2abz))+1000(g+h+(ef+e(cd+c(ab+az+bz-2abz)+d(ab+az+bz-2abz)-2cd(ab+az+bz-2abz))+f(cd+c(ab+az+bz-2abz)+d(ab+az+bz-2abz)-2cd(ab+az+bz-2abz))-2ef(cd+c(ab+az+bz-2abz)+d(ab+az+bz-2abz)-2cd(ab+az+bz-2abz))-2gh-2g(ef+e(cd+c(ab+az+bz-2abz)+d(ab+az+bz-2abz)-2cd(ab+az+bz-2abz))+f(cd+c(ab+az+bz-2abz)+d(ab+az+bz-2abz)-2cd(ab+az+bz-2abz))-2ef(cd+c(ab+az+bz-2abz)+d(ab+az+bz-2abz)-2cd(ab+az+bz-2abz))-2h(ef+e(cd+c(ab+az+bz-2abz)+d(ab+az+bz-2abz)-2cd(ab+az+bz-2abz))+f(cd+c(ab+az+bz-2abz)+d(ab+az+bz-2abz)-2cd(ab+az+bz-2abz))-2ef(cd+c(ab+az+bz-2abz)+d(ab+az+bz-2abz)-2cd(ab+az+bz-2abz))+4gh(ef+e(cd+c(ab+az+bz-2abz)+d(ab+az+bz-2abz)-2cd(ab+az+bz-2abz))+f(cd+c(ab+az+bz-2abz)+d(ab+az+bz-2abz)-2cd(ab+az+bz-2abz))-2ef(cd+c(ab+az+bz-2abz)+d(ab+az+bz-2abz)-2cd(ab+az+bz-2abz)))+10000(gh+g(ef+e(cd+c(ab+az+bz-2abz)+d(ab+az+bz-2abz)-2cd(ab+az+bz-2abz))+f(cd+c(ab+az+bz-2abz)+d(ab+az+bz-2abz)-2cd(ab+az+bz-2abz))-2ef(cd+c(ab+az+bz-2abz)+d(ab+az+bz-2abz)-2cd(ab+az+bz-2abz))+h(ef+e(cd+c(ab+az+bz-2abz)+d(ab+az+bz-2abz)-2cd(ab+az+bz-2abz))+f(cd+c(ab+az+bz-2abz)+d(ab+az+bz-2abz)-2cd(ab+az+bz-2abz))-2ef(cd+c(ab+az+bz-2abz)+d(ab+az+bz-2abz)-2cd(ab+az+bz-2abz))-2gh(ef+e(cd+c(ab+az+bz-2abz)+d(ab+az+bz-2abz)-2cd(ab+az+bz-2abz))+f(cd+c(ab+az+bz-2abz)+d(ab+az+bz-2abz)-2cd(ab+az+bz-2abz))-2ef(cd+c(ab+az+bz-2abz)+d(ab+az+bz-2abz)-2cd(ab+az+bz-2abz)))z is a carry value (if you want to string together multiple adders) and a adds to b c adds to d etcHeres an interesting question, how far can we take this? Could we write a Turing Machine like this?Mistakes have now been corrected Thanks everyone who pointed them out and suggested solutions\",\n",
       " 'hii studied computer science and worked in security for 20 years, but now I have changed and work in communications ( datacenters architecture, Ironport, bluecoat, Cisco, F5, infoblock, dns, firewalls, mpls, wan, etc) does anybody know of a good book to refresh my knowledge in communications in general. not too basic as i have good background but a good digest. thanks',\n",
       " \"Good day everybody,insight here (worried)1.The supercomputer aurora21 is nearly finished and been used to map the human brain/connectome, they say it could only take three years to map itSource:-mapping-supercomputer/2. Im also worried about artificial super intelligence and artificial general intelligence already been usedMy delusions are now furthered thinking Aurora21 and ASI already exists and are been used to read/implant thoughts (and making people hear voices)Can someone in the know tell me this isn't possible or the details on how it works/or doesn'tI dont know anything about computers so im turning to you for insight againAgain,on meds,in therapy. Just want to know your insights which i struggle with due to schizophrenia\",\n",
       " 'There’s work being done on a diamond nuclear battery that can last hundreds of years, but it’s only 100 microwatts. How many of these would you need to read a basic text file? It could be as simple as having an LED light up above a set of printed alphanumerical stickers, but the easier it is to read, the better. The idea here is to be able to download Wikipedia and access it at any time without recharging.',\n",
       " 'Are \"Data Width\" and \"Bandwidth\" interchangeable phrases? This assignment I\\'ve been tasked with uses the term \"data *width*\" in the context of data transmission and I don\\'t think that it\\'s really commonplace. I\\'m just curious if it has any other probable/possible meanings. Thanks.',\n",
       " 'As the title says, I want to find out if I can implement an algorithm described in a research paper, or one research paper out of a specific family of research. I think a great achievement would be to understand a more basic paper in this family of research, implement a basic working form of the algorithms presented, and have them working together.The parts of any of these papers I am unfamiliar with is the more complex math and symbols, and how these different described algorithms should fit together. Most of my relevant experience is as a software engineer, if that matters at all.What are the steps I can take to move towards this goal, as someone unfamiliar with the research and language. Who can I reach out to?',\n",
       " 'I have an algorithm which will check if any given number is prime. I\\'ve included it at the bottom of the post. It makes use of a few optimizations, mainly the 6n+-1 optimization, where numbers which are not modulus of 6 + 1 or 5 are not considered prime.I can analyze the complexity of the algorithm to be ``O(sqrt(n))`` if n % 6 === (1 or 5) and ``O(1)`` otherwise, but I am not quite sure how to assess the \\'overall\\' complexity.My first though is to average them out, such as: ``(4 * O(1) + 2 * O(sqrt(n)))/6``, but I believe that would still equal ``O(sqrt(n))``. Is that correct, or have I taken the wrong approach?```javascript/** * Check if a number is prime * 1. Check if number is a base case * 2. If not, check if num is of the form 6n +- 1 * 3. If it is, then call helper method */function isPrime(num) {    //handle special base cases    switch (num) {        case 1:            return false;        case 2:        case 3:            return true;    }    //primes are never even (except for 2)    if (num % 2 === 0) {        return false;    }    //determine if num is of the form 6n - 1 or 6n + 1    const sixMod = num % 6;    if (sixMod !== 1 && sixMod !== 5) {        return false;    }    return _determineIsPrime(num);}/** * Helper method to determine if a number is prime * If the \"isPrime\" method is inconclusive, this will be called */function _determineIsPrime(num) {    //optimize by only searching up to sqrt of num    const limit = Math.sqrt(num);    //iterate over numbers    //return false if any divides    for (let i=3; i<=limit; i+=2) {        if (num % i === 0) {            return false;        }    }    //if nothing was divisible, return true    return true;}```',\n",
       " '',\n",
       " \"I've seen mention of the supposedly backdoored  Dual\\\\_EC\\\\_DRBG  a few times.I'm interested in reading more about the background and known facts, any other relevant cloak and dagger shenanigans would be appreciated also.I am not a mathematician, so I'm looking for a pop-sci book, or something digestible for someone technologically literate but non-expert.Books are preferred, but good quality articles also appreciated.Thanks&#x200B;EDIT: Any good books on encryption and randomness would be great actually, too.\",\n",
       " 'Friend is asking me if I know any program where you can drag and drop nodes in order to visualize Trees/Graphs.  Additionally, is there any program that could diagram your code ? ( like graphviz, but for algorithms instead of structures  )',\n",
       " 'Why? Isnt rosetta essentially a CPU emulator? How can it run apps at normal speed, but running Windows or Linux (the real versions, not the \"M1\" versions) is unusable? Dont even know if this is the correct sub to ask.',\n",
       " 'Publishing research results is Computer Science is a process with no simple solutions. In this blog post I try to present some common strategies and learn from recent insights into the random effects that are present in the review process. [-cacm/256994-publishing-the-choice-and-the-luck/fulltext](-cacm/256994-publishing-the-choice-and-the-luck/fulltext)',\n",
       " '',\n",
       " \"So I have a DS course and they want a project that deals with big data. I am fascinated by Google and want to know how it works so I thought it would be a good idea to build a toy version of Google to learn more.Any resources or advice would be appreciated as my Google search mostly yields stuff that relies heavily on libraries or talks about the front end only.Let's get a few things out of the way:1) I am not trying to drive google out of business. Don't bother explaining how they have large team or billions of dollars so my search engine wouldn't be as good. It's not meant to be.2) I haven't chosen this project yet so let me know if you think it would be too difficult; considering I have a month to do it. 3) I have not been asked me to do this, so you would not be doing my homework if you give some advice.\",\n",
       " 'Before you ask me to create project, I am asking for questions to practice the individual concepts like linked lists, stacks, sorting algos etc. so I can get comfortable with their implementation and the various problems they can solve, before moving on to building projects and integrating them together.',\n",
       " 'Does there exist a resource for exercises of the form \"design a program with the following specifications in time/space O(f(n))\"?I am aware of competitive programming websites but i can\\'t currently program due to migraines. I can\\'t practice off these websites because often the best solution is some exponential time algorithm which i will have no way of knowing whether it will work without implementing it.CLRS is a good resource for problems but there aren\\'t enough to regularly practice on. I would like a resource preferably of the computer contest flavor but where i can practice on pen and paper rather than programming it.edit: why is this getting downvoted',\n",
       " 'I am not sure if software architecture or design patterns are the right terms. But I am looking for resources to read up on or practice problems for ways to approach coding problems and implement solutions in an optimal way. Like how to break down a problem in smaller chunks and modularize it. Or even when you should use procedural vs functional vs oop approach.The reason is that for smaller projects I tend to just do what works, which is manageable, but as it gets bigger I quickly get spaghetti code. Then I start to have analysis paralysis on how to solve certain problems, because it feels like there are so many different ways. I want to practice scalability so that I can keep my projects manageable. Likewise, something that bothers me is that a lot of basic online examples (particularly in OOP) give very trivial problems (e.g. squares being a type of shape, or cats being animals), which is easy to visualize, but the problems I am dealing the objects are very ambiguous (for my feeling). To the point where it is even the question if objects are relevant, with the exception of being able to separate code/data from each other.',\n",
       " \"Specifically with PATA data cables, I've been looking through their specifications and noticed they have 16 data lines but only 3 address lines. Hard drives that support PATA seem to be able to support hundreds of gigabytes, but directly addressing even just 4 GB would require 4 bytes. How does a computer send data to the hard drive about which data it wants read/written?My hypothesis would be that either it has something to do with paging and lookup tables, or the data lines are repurposed to tell the microcontroller within the hard drive the area in memory to be accessed, or the computer tells the hard drive which block to start at and it copies over the entire block, one word at a time, or the 3 address lines control the read/write head directly and reading the correct block is timing based, similar to how DVI doesn't use coordinates for pixels.\",\n",
       " 'I recently got interested in IoT. My background is computer software and programming. My interest has always been on the different mediums for  communication between human and computers. I would appreciate if you can suggest books that covers the basic concepts of IoT and their application on communication and collecting data.',\n",
       " 'The New York Times: Jay Last, One of the Rebels Who Founded Silicon Valley, Dies at 92.-last-dead.html',\n",
       " 'I have so many questions to ask about kernels and this is one of them.',\n",
       " \"Hello all,I'm interested in learning more about Genetic algorithms and Bayesian optimization in the context of Hyperparameter tuning in Machine Learning and Operations Research. Not interested in medium articles, I want to dive and understand the Math. I am also intested to get a good introduction to Reinforcement Learning.Could you suggest good books/ pedagogical articles about these three subjects?\",\n",
       " \"I am looking for a good introductory book on formal specifications. This is a new field for me so I haven't the slightest clue where to begin. Any help is greatly appreciated.Thanks\",\n",
       " \"I'm writing an algorithm to predict global average temperatures. I read an academic paper that used tree GP to solve the same problem. I already have a linear GP algorithm I wrote for something else that I'd like to recycle, but I'd also like to get the best performance possible out of the temperature algorithm.Is there an advantage to using tree GP vs. linear GP and vise versa? Are there certain types of problems that are better suited to one representation over the other?\",\n",
       " 'Okay, Another memory related question, I wish I thought of this with my previous post to save a bit of time, but anyway. Another thing I have thought of is how does a computer calculate how full Memory is? Is it fully software based, or does hardware handle it? If its hardware based is it in the CPU Memory controller, or the RAM Sticks themselves?',\n",
       " 'Basically what the title says. There are podcasts about space that aerospace engineers can listen to, for example, so I was wondering if anyone knows of any comp sci podcasts',\n",
       " 'I wonder if computer vision consider for computer science or engineering or bothAs my knowledge that Computer vision is  An Ai but many ppl tell mostly for engineering than science',\n",
       " \"So I've been doing some past papers recently and this format or something amounting to the same thing keeps cropping up.The only problem is, if your stages dont divide neatly into your instructions and leaves a remainder.For example a 3 stage piplined CPU with 8 instructions, will initilise as such:You subtract the triangular number of 3 from the instructions: 8 - 6 = 2And that is how many instructions will be carried out while the program is operating at full efficiency, so you can divide the 2 by the number of stages you're operating at any given time so 2 / 3 = ...Oh... rem. 2?Trying to visualise what happens this is my best guess at the answer: []()As you can see you would just have a wind down stage which last 1 cycle? But that doesnt make sense, because on the x axis the third stage of one of the instructions doesn't get carried out?I think I just fundamentally dont understand.Thanks a million in advance for any assistance c:\",\n",
       " \"I'd like to train/practice on IPv4 tasks, such as:\\\\- what number of addresses there in this address and mask?\\\\- which range does this address belong to?\\\\- calculate this, find out thatWhere to find such? Thanks!\",\n",
       " '',\n",
       " '',\n",
       " 'Hi! I am designing a computer just for fun, I learned the basics and what not, and I am building one in Logisim (I know, not the best software, but works for now) And it is a decently complicated CPU and stuff. (Still trying to work out how the stack works, and a couple of other things before it can technically be deemed a proper computer) And this thought crossed my mind: \"How do computers calculate how many bytes of Memory it has?\" I have a working prototype of the whole computer and am working on a simple BIOS for it. And while I was making a prototype of the BIOS I thought of ways the computer detects memory and how much there is, but cant think of any. I tried looking it up but cant find any good explanations. Anyone know how this is done? And my apologies if I picked the wrong flair and if this breaks any rules, I have read them and it doesn\\'t seem to break any. Any help is appreciated!Edit: Thanks to raedr7n and NamelessVegetable for the help! Found out how it works',\n",
       " '',\n",
       " '',\n",
       " \"Hi, I programmed a small computer based on von Neumann architecture with a few set of instructions on binary and now I'm asking to design and implement an ad hoc network with some of this emulated computers, so, do you have any advice or documentation for this purpose? Thanks\",\n",
       " \"So I am very new to coding, so apologies if this is completely impossible or even incorrect.But I do believe that current systems run off CPUs measuring the amount of 0s and 1s through voltage.However if we were to change this process to fibre optic where the process is still assigned to an on or off process.However if we introduced colour into fibre optics we could expand the possibilities. For example if white was 0-1 blue 1-2 yellow 2-3 and so on so forth we could expand the possibilities.We can't expand so far, on the 0 being off and 1 being on, so to introduce colours into fibre optic we could essentially assign colours a number to achieve different out comes.We know fibre is faster than conventional powered connections. So this could increase performance also.\",\n",
       " 'Hi I am making a game with a high-level scripting language that has pretty minimal support for bitwise-manipulation (if any). Think something like Lua. And I am making a game where the game has a secret message that is defined as a string literal, \"secret message\". This script can be scraped by data miners, string literals are not obfuscated at all, so if they got a hold of of the sourcecode, they would be able to read \"secret message\". What is a basic obfuscation algorithm I can use here to store the string literal in a scrambled-up format so that dataminers will have a harder time interpreting this message? I\\'m sort of looking for something one step above a caesar cipher. Any algorithms come to mind?',\n",
       " '',\n",
       " 'Here\\'s an example. If a folder is encrypted, it\\'s obviously protected from outsiders trying to get in. But let\\'s say there was a virus inside of an encrypted container, would it be able to escape this container or does the encryption keep it \"imprisoned\"? My understanding is that encryption garbles all of the data so surely protection DOES work both ways?',\n",
       " 'It seems like FP can be good at certain things, but I don’t understand how it could work for more complex systems. The languages that FP is generally used in are annoying to write software in, as well. Why do some people like it so much and act like it’s the greatest?',\n",
       " 'I understand how it currently works, and subsequently why it cannot write twice the speed. My question more specifically, is why doesnt it work a different way where that is possible. For example, if there is a 100mb file, instead of writing the 100mb to both drives simultaneously, why doesnt it write 50MB (different halves of the data) at the same time, and then virtually treat it as one complete file as it then continues to write the full file on both drives in the background after done? Does writing 1 bit take up 1 bit of potential reading or something? Even then, the background writing can resume after reading is done at a later time if that is the reason. The only downside I see to this is that you risk losing that particular file if one drive fails before the completed write takes place, but that seems like a minor sacrifice for the improved performance.',\n",
       " 'Hi all, I’ve recently been looking a bit into networking and trying to understand it a bit more but routing tables have me a bit stuck. I think that I understand how they work by I don’t have the faintest idea why.So as I understand it, a packet comes into a router and the destination IP address is AND’ed with each of the subnet masks in the table and the result of each of these is compared with the destination IP address of each entry in the table. If there are any matches between the result of this AND calculation and destination IP addresses then the packet is forwarded to this destination. If there are no matches the packet goes to the default destination and if there is more than one matches then the packet goes to the destination with the highest subnet mask.My question is, why does this work? How does this form of selecting destinations make sure packets make it to their destination. How does this stop data packets going round in circles and taking ages to make it to their destination.I hope that I’ve been clear, but please let me know if I should clarify anything.Thank you so much for any help here :)',\n",
       " \"I have learned C previously from Dennis Ritchie book. But as now I have learned the concepts of Compiler Design  ( and other theoretical CS subjects ) I again want to learn C but with some compiler design concepts( and or other CS concepts ). Like when I am doing something I want to know whole thing behind it relating to compiler design concepts. I don't know whether I have asked clearly or not. But if you get it please tell the resources for it. I want to know whole process that follows running a code.\",\n",
       " '',\n",
       " 'I’ve been learning about DHTs (distributed hash tables), and I understand that data is distributed across many nodes (or peers in p2p networks). I can’t seem to find any information on how data is stored in each node though. Is data stored in blob stores in each node? Or SQL databases? Am I understanding this correctly?',\n",
       " 'I have done my fair share of LeetCode and cannot help but notice that \"easy\" questions are sometimes quite difficult. Medium questions are generally more difficult but many of them just use slightly more advanced data structures and the actual concept behind the question is very straightforward. I had never even attempted a hard question since many mediums rack my brain for an hour or two, most of the time I need to look solutions up because there is a new approach to learn. I tried my first \"hard\" question the other day and I swear it was mis-labeled and could definitely be placed in \"easy\"I just solved this graph-ish question and it was labeled as easy but I had to use an iterative breadth-first search approach? That seems slightly more advanced than inverting a binary tree or reversing a string.The hard question I am referencing is [Median of Two Sorted Arrays](-of-two-sorted-arrays/).This was my solution for the \"easy\" question, IMO far more complex than the median of two arrays.    class Solution {        public int[][] floodFill(int[][] image, int sr, int sc, int newColor) {            int row = image.length, col = image[0].length; // STORE GRAPH BOUNDS            int target = image[sr][sc];                    // STORE VALUE WE ARE AFTER            Queue<int[]> traverse = new LinkedList<>();            boolean[][] visited = new boolean[row][col];   // VISITED NODES            int[][] directions = new int[][]{                {0,1},{1,0},{0,-1},{-1,0}                  // TRAVERSAL DIRECTIONS            };                   int[] tmp = {sr,sc};            traverse.offer(tmp);                           // PUT START NODE IN TRAVERSAL QUEUE                        while(traverse.size()>0){                int[] node = traverse.poll();              // GRAB NEXT NODE                int m = node[0], n = node[1];                visited[m][n] = true;                      // VISITED = TRUE                image[m][n] = -1;                          // SET VALUE TO CHANGE COLOR                                for(int[] dir : directions){                    int a=m+dir[0]; int b=n+dir[1];                                        if(   a<0 || a>=row                       || b<0 || b>=col                       || visited[a][b]==true                       || image[a][b] != target )          // DISQUALIFY NODE FOR TRAVERSAL                        continue;                    else{                        int[] add = {a,b};                        traverse.offer(add);              // SATISFIES CONDITIONS PUT IN TRAVERSE QUEUE                    }                }            }                        for(int i = 0; i < image.length; i++){                for(int j = 0; j < image[0].length; j++){                    if(image[i][j]==-1)                        image[i][j]=newColor;                }            }                        return image;        }    }',\n",
       " \"So this topic that might be a little closer to computer science, but could someone explain to me what happens on a computer/server when a database is created? Like a high-level overview of the computer science behind the creation of a database and it's properties(how to interact with it)? Secondly, if you could also briefly talk about the computer science of database management systems?Please, also let me know if I'm thinking about this incorrectly. I am a self taught person with a lot of black boxes.\",\n",
       " '',\n",
       " \"What's the difference between a deadlock and deadly embrace in concurrent programming?\",\n",
       " \"Currently studying Object Oriented Programming which is a course of the 3rd semester in my uni. Im pretty sure I have a good understanding of the concepts but I'd like to confirm that somewhere somehow. There are many times where I wish I had something like that in courses like data bases, networks, data structures. Any help is appreciated!\",\n",
       " 'I was thinking about RNG algorithms. And most of them are pretty complicated, using math. Middle-square, Mersenne Twister, etc.But has anybody come up with an algorithm that just randomly flips binary bits of a variable you want to randomize? What would be the advantages and drawbacks of this method? I guess it would depend on the implementation. Anyway, I just wanted to get opinions of people smarter than me.',\n",
       " \"I am trying to find what additional features IDEs provide for statically typed languages that it doesn't for dynamically typed ones for a project. I've tried researching it online, but couldn't come up with anything clear. So, I would appreciate if someone could help with this.\",\n",
       " \"Hello I'm having trouble reading the optimal makespan of job scheduling algorithm. In particular, what does it mean for max to have index i here?\",\n",
       " 'Type checking insted of hints, and force you to use types',\n",
       " 'Recently started working on a large project which requires I document my code.Feel free to share which part about writing documentation (writing comments, official documentation, things like that) you find the most annoying or difficult.',\n",
       " 'Hi,While revising for my mock, I have unexpectedly became confused about the difference between multi-tasking and parallel processing.At first, I though multi-tasking is the simultaneous processing of multiple tasks, while parallel processing is the simultaneous processing of the same task but broken down in chunks.However, after reading about SIMD and MIMD, I realised that parallel processing could also process multiple task at the same time, just like multi-tasking.Thanks in advance :)',\n",
       " 'I would like to learn a bit more about firmwares and their interactions with operating systems, especially on everyday computers.After reading, I would like to have a good overview of what types of firmwares are common on the market, how they interact with with the OS and how they are structured. Ideally without reading all the specs, I just want go get an overview at first :) Any recommendations?',\n",
       " '',\n",
       " \"I just started studying computer science and have trouble understanding code. We've started with java and python and even though I have some experience with java I still have a hard time reading and understanding the code. Every time I look for tutorials they always go directly into coding and creating an algorithm (which is understandable - learning by doing) but I'd like to understand how to learn how to read and understand an algorithm first. Does anyone know a good platform on how to learn exactly that?\",\n",
       " \"Bit manipulations is one of the most interesting subjects I ever studied. It really blows my mind.I'm wondering if you use those occasionally, and if so what are your favorite tricks?\",\n",
       " \"I have an interview tomorrow. This question was recently asked to one of my friend who interviewed at the same company. I searched really hard but couldn't find the answer to the latter part of the question. Even for the first part, I need a simple answer and not a wiki kinda definition. Any help is appreciated.\",\n",
       " \"I would like to get a Raspberry Pi in the near future and a receiver and transmitter for electromagnetic waves. I have to connect the receiver and the transmitter to the Raspberry Pi with cables, but now I'm wondering how exactly this works, for example how the transmitter knows what data I want to send?\",\n",
       " \"Hi everybody, for my enflish class, I need to read 7 articles over data structure (it was imposed to me) with a restriction of 500/600 words and  should be published after may 2021. I don't know where to search, the most part of articles that I found on internet is over neural structure in the brain or is too old or too long (+-4500 words). Thank you for reading.\",\n",
       " 'Watching the xponential rise of technological development, I havent heard about quantum computing for quite a while. What is the progress atm? And are just the big companies working on it? Wondering if there are small startups as well?',\n",
       " '',\n",
       " '',\n",
       " \"He programs everything using the text editor and he doesn't even prepare the code before the lectures. He just quickly programs it all on the spot in front of us. And not just a few lines but often around 20 for each example. And even if a student asks him to show a very specific example that guy just immediately knows what to do and starts typing without mistakes. He also opens every document and application over the terminal instead of clicking on it. &#x200B;He honestly inspires me to actually take my assignments seriously. It seems like he always immediately knows the solution to any coding task in his head. That guy must be a genius.\",\n",
       " 'I\\'m currently reading \"The Art of Doing Science and Engineering: Learning to Learn\" by Richard Hamming. It\\'s a great book about computer history and programming in general.One thing that strikes me is the omnipresent status quo bias.  Early programmers were reluctant to switch from binary programming to an assembly language:The same happened during the transition from assembly to FORTRAN, one of the first high-level, compiled programming languages:Have you experienced a similar thing when new frameworks, tools, or languages were introduced?&#x200B;>Source: [\\\\_adrian/status/1459909375427059715]()&#x200B;',\n",
       " \"Does anyone have a good resource to learn about time complexity? I am struggling with the material and can't wrap my hear around anything besides O(1) and O(n).\",\n",
       " \"One of the things that fascinated me the most in the Cyberpunk genre, was the ability to have instant learning, such as when Neo learns how to fight in Matrix, or when in Neuromancer you had those chips in the back of your ear, that made you a instant fluent Chinese speaker. Knowing the existence of biocomputing, and those biomechanical arms that responds to brain impulses, I started asking myself if there wouldn't be any papers that could help me grasp an idea of real life applications between computing, the human body and the learning process... Is there any book or paper recommendation where I could follow?\",\n",
       " 'Can you recomend papers about reinforcement learning applied to games?',\n",
       " 'are there any differences between computer science, programming, software engineering, and software developing? i’ve been using google and doing my own research, but each website i look at gives me a different answer and leaves me more confused',\n",
       " 'I can understand the usage of it for the time it was created, but surely in recent years with the introduction of many other word processors IE Word and Gdocs, it would be made redundant? The inclusion of both equation and formatting tools in Gdocs is really good, so why do academics still use LaTeX?',\n",
       " '',\n",
       " \"Based on what I've read to get the closed form of the Recursive Fibonacci Algorithm, you have to approximate `T(n-2)` to `T(n-1)` from `T(n) = T(n-2) + T(n-1) + c` and vice versa to eventually reach O(2^(n)).The thing that's confusing me is **why** we should approximate it. The only thing I know so far is that T(n-2) will take lesser time than T(n-1), but I'm just not sure of the mathematical explanation behind approximating both times to make them somewhat equal.\",\n",
       " \"Hi!   I'm looking get a strong grip on the inner workings of CPUs, threading, concurrency, instructions , SIMDs and etc..  Right now I have a shallow understanding of the matter, Im looking for a new intro book into the whole thing, nothing very very technical - as I am starting to program with RUST and get to grips with Assembly language.  Basically, how does programming gets executed on the physical level, and how it all comes together to create these fascinating machines. Thank you!\",\n",
       " \"We know that a float will lose precision as it's value increases. But is there a way to calculate when floats will be come, for example, at least one whole unit off? For example this algorithm would tell me that numbers of magnitude of 10\\\\^9 will likely be off by a magnitude of 10\\\\^-2.\",\n",
       " '',\n",
       " '**So for the context:**If i\\'m assuming right the \"n\" stands for input or size of the array and when one says O(n) it means the statment will take \"**n\"** number of times to complete it....but what does \"**k\"** mean?[here]() op said this ⬇️&#x200B;[https:\\\\/\\\\/stackoverflow.com\\\\/q\\\\/27301287\\\\/5630533]()Does that mean \"**k\"** is just an another (secondary) notation for \"**n\"**&#x200B;&#x200B;[sorry, couldn\\'t find the original link]()&#x200B;Referencing the above table, how much would be the difference between cubic and polynomial if n is 10 and k is 0(can we even assume 0 for \"**k**\" value)?',\n",
       " \"As the title suggests, as an undergraduate CS student, I'd like to really improve my knowledge on the ongoing research, hardware improvement, Linux news, security, etc. by reading more articles. I was wondering if some fellow redditors had anything to share?I may also consider creating an RSS stream.\",\n",
       " \"In computer science, we learn that computers only understand base 2, essentially binary. But how do computers actually know which numbers are which? For example, the number 00000011. How does the computer know the the 1st '1'(from the right to left) represents 1(in denary), and the second '1' represents 2, which adds up to 3? I'm hoping for a low level explanation. Thank you!\",\n",
       " \"Hi everyone! First of all, I'm sorry if this post can be a little bit confusing, I'm trying to gather all I have understood so far to make it as clear as possible.So, I am attending a Logical Networks class, and we started some days ago talking about sequential circuits. Today, our professor introduced us to synchronous and asynchronous circuits, but not in the same way I found online.He introduced them by saying this:Basically an asynchronous circuit is a circuit that whatever the state and the input (q1,I) you consider, will always end up in a steady state (qn, I), where if you keep I as an input you'll keep staying in the qn state.And, contrary to this, he told us that synchronous circuits are circuits where not all states and inputs have this property.So what does that specifically mean? I struggle to understand the concept, as some of the example he gave us for synchronous circuits (one of them was a machine that was able to recognise if there was a 101 sequence in the input) seemed to have the steady state property I talked about before, so I think I might be missing something.That said, he then explained us that for that reason (not every state with an input I will end up in a steady state) we need an external synching (a clock) and a memory to make a state steady. Why is that? And why don't we need that for asynchronous circuits?Lastly, he talked about how some of these machines need just an impulse or a longer signal to work (and for example an asynchronous machine cannot recognise a '00' input as it operates when an input changes, so it can only tell that the last input was a (for example) 1 and this one is a 0). How do you tell that? Hope this was clear, thank you for everyone who chooses to spend their time to help me understand :)Oh and, don't take my words for something so accurate of what our professor told us, since I am trying to rephrase these things from what i have understood.\",\n",
       " 'I’m going to take introductory classes at my uni and there’s two diff options',\n",
       " \"I've been in a development capacity at my job for about 4 years. I work on the bulk of the SQL and c# interactions on our flagship products. So I have a pretty good understanding of what a supercomputer is and what they are good at. (Not saying my job gives me that knowledge, just saying I work in the industry and pay pretty close attention to these topics for fun) So, what I'm most curious about are the NVIDIA, INTEL, IBM, etc companies that build these things and how they decide what application the machine is used for. Like radio telescopes, for example, I know universities, companies, really any organization can apply for dedicated time with the telescopes. Is it similar to that? Can someone submit a proof of concept to these corporations and then get approved or denied? Or do all projects that use the computers just come from their internal teams? I recently saw a future growth model of earth coming out NVIDIA's supercomputer. It showed weather patterns, climate shifts, all sorts of really cool things. So I just kind of got to thinking about the origins of these projects and the process. I checked the rules out and I think this is an okay question for this sub, if not, I can post it elsewhere. Thanks!\",\n",
       " 'Cs has a lot of great material, so i thought of figuring out a strategy to learn it better, do you read a book like a novel for the first time, and then take notes? How often do you repeat your material etc',\n",
       " 'I have a very superficial understanding of how DNS works. If you type \"[google.com]()\" into the browser input, the computer asks a server in the DNS for google\\'s IP address, the server either answers or asks another server for help, and eventually tells your computer where to go. So in my mind, these servers have a sort of ledger like \"[google.com]() : [216.58.223.255]() \" But what about my own public IP, for example? Is that stored in there as well? If so, what information is associated with it? In other words, how the server be asked to look it up?',\n",
       " \"In particular, is there a journal analogous to ACM Transactions on Graphics (which publishes cutting-edge discoveries in the field of computer graphics), which publishes articles related to more portable, robust, efficient file formats for viewable documents like pdfs? Is there any chance new discoveries are made (e.g. more efficient algorithms to compress documents), or is this only a purview of companies like Adobe? I hope I'm making sense.\",\n",
       " \"I am working with a cheap EEG sensor that outputs attention levels. This data has some noise (fluctuations). I want to turn a LED on and off using this data. I am currently considering taking a mean of x values and if the mean is higher than a threshold, it's a 1 else 0. This is kind of naive and I was wondering if there are better algorithms out there for such problems?\",\n",
       " 'Does anyone know if the SocProS conference is a respectable conference?I know that the submitted papers are published by Springer.',\n",
       " 'I’ve been self teaching over a year, typical front end shit, but I do a lot or reading from programmers about AI tech replacing the future of coding jobs-makes me almost wish I chose a field that is not stable like plumbing or health.',\n",
       " 'Who are the some social media influencers/pages (could be a meme page even) for SWE? Or maybe some of your favorite influencers for SWE that you follow?Could be IG/TikTok/Youtube/LinkedIn/etc.Thanks!',\n",
       " '',\n",
       " \"I'm curious as to how CPUs actually communicate with the outside world.I know it's electric currents flowing through transistors at the lowest level.I know you can run compiled programs.But where is the transition layer from one to the other ?For example, Intel creates a CPU and I write a program for it, let's say in Assembly. I write the command: mov eax, \\\\[ebx\\\\] .Who translates 'mov' into what it actually does and who knows how to interpret that command ? Is there a dictionary somewhere that says mov in binary is 0011010010011 (made up obv) and when you encounter that string of binary code you perform this function ?Even more, how can this be hardwired onto a CPU ? Is mov a physical circuit that gets called whenever that command string is encountered ?Sorry for the avalanche of questions but this particular topic is very hazy to me. I can't picture how a written command can direct electric current down in the CPU to do certain things.\",\n",
       " 'Can anyone provide me with some examples of the impact computational science has had on science and research? How many advancements have been made with direct help from CS in thr past decade?',\n",
       " '',\n",
       " 'Basically I found this vulnerability and I want to perform it on my system. I installed this virtual machine (64-bit for VirtualBox):    -kali/#kali-virtual-machines      and here is the vulnerability: -DEBIAN11-POSTGRESQL13-1292197         I’m really confused how is even do this, so far I know how to start postgresql and I can create a table in a database. If anyone could assist me in anyway I’d really appreciate it.',\n",
       " \"I am an IT student, but [I'm watching this video]() for fun and he explains the way developers can end a string (if that's the proper verbage). He explains a couple of different ways, the first being that the developer tells the computer how many characters they're looking for. He also explains that this is not efficient use of memory and then explains the second method, where developers would simply stick a \\\\[NULL\\\\] character at the end of the string. He also says that there are debates as to which method is better to use, but to someone with a pretty solid education with computers, I don't see why we don't just use a \\\\[NULL\\\\] character at the end of every string if it's so much more efficient than the alternative.\",\n",
       " 'Hello!I have been trying to research standard ways to perform sampling (MCMC) high density regions of multidimensional probability distributions using computer programs. As far as I can find, there do not seem to be any standardized ways of performing this sampling - and often requires the user to translate the mathematical algorithm into computer code.I tried to attempt the implement this algorithm over : [-standard-method-for-mcmc-monte-carlo-markov-chain-sampling](-standard-method-for-mcmc-monte-carlo-markov-chain-sampling)Can someone please take a look at it and let me know if this is correct?Thanks!',\n",
       " \"Hello, people. English is not my first language, so, sorry for any grammatical mistake.&#x200B;Have you ever saw any tv show, or movie, or video game, with any direct reference to a subject from computer science?&#x200B;I see a lot of references to Artificial Intelligence and Hacking, but few to other areas of CS. I'm curious to see if there are references to other areas as well.\",\n",
       " \"I've been thinking about starting a project to repurpose old RAM from previously upgraded laptops and desktops. I'd like to see if I can create an enclosure for holding multiple RAM chips to be connected to a computer via USB or thunderbolt, and configuring them as an external disk. Using software similar or even the very same as this below. []()Can anyone point out the burdens and obstacles that I may have to cope with and overcome in order to make a idea like this a reality. Note: If your going to tell me this isn't possible please don't bother, I need constructive ideas here only, the fact that this software exist is proof that a ram disk is possible, I just want to make it external.\",\n",
       " 'So for instance if I wanted to encrypt one of the above or multiple based on a specific location so it would only be unlocked if the password was entered while at a specific location such as let’s say altitude, so the PC would have to be at a certain height to then be able to be unlocked with the password, is this possible?Because if it is, this would mean that essentially you can completely insure that even if they got the password right it still would not work, because they are not at the location which would be required. I’ve tried to find out by doing a quick internet search but no results show. Any information would be helpful. (This is just for my personal curiosity.)',\n",
       " \"Are there any resources on what are non-computable processes or functions and how do they look like. I am trying to search for them, but more often than not, something on the topic of Consciousness or Roger Penrose comes up.I want to understand what is not a computation and I'm pretty sure there is a huge amount of research on such a topic.Thanks.\",\n",
       " \"Hello there!Could someone tell me which algorithm should I use in order to do the following:I have X groups with different number of elements in them and I want to find the best combination of n chosen groups in order to maximize the number of unique elements (alternative version maybe even choosing which elements).Should I use some optimization algorithm or something or is it easier than that?Thanks in advance!**Edit (to add maybe a more accurate description of what I'm searching for):**Parameters:I) collection of setsII) n - size of group to considerIII) (Optional) - list of elementsOutput: which n sets from collection should be selected in order to maximize unique elements (if parameter III is given, consider only elements from that list) considering all sets from collection.**An interesting case I think worth mentioning** (made me wonder it might be optimization problem and not a brute force that would check for set with more unique elements and go next for  set with more unique elements disconsidering previous added):Set 1: {A,B,C,D,E,F}Set 2: {A,B,C,G,H}Set 3: {D,E,F,I,J}for n = 2, optimal collection here would be sets 2 and 3.\",\n",
       " '',\n",
       " 'Has anyone ever heard of \"evolutionary computing\" and \"genetic algorithms\"? They are computer algorithms used in optimization that were inspired by phenomena occurring in nature.I posted a detailed question on stackoverflow relating to their theoretical justifications : [-the-following-computer-science-optimization-theorem-have-a-proof](-the-following-computer-science-optimization-theorem-have-a-proof)Can someone please take a look at it? Thanks!',\n",
       " \"I know how Bluetooth works. It is completely wireless. In the case of the internet, let's say we are talking about Google servers. They have an IP address and some information stored in them. My PC has an IP address. Can it somehow get the information from the Google servers without any wired communication between intermediary devices?\",\n",
       " 'Video: -TwWhy do we initialize the table to 0 in the knapsack problem at the start?',\n",
       " '',\n",
       " 'Is \"memoization\" also called \"memorization\" in computer programming?',\n",
       " 'With the Applr M1 processor using integrated DRAM on the SoC, with affords faster memory access, do you think this will be adopted by other cpu companies? Is it likely x86 cpus will be manufactured with embedded dram in the next few years?',\n",
       " '',\n",
       " 'Most of people will become engineers tbh. Few people will invent a new algorithm or prove a computing theory. Most people will deal with writing simple CRUD code in certain business. Why do we keep calling CS not CE?',\n",
       " \"Is the go-to language C? or has it been upped? and do you think this will change in the future? or does it even matter what language is used? Can we build an OS from Python?I guess I'm asking programming languages that best communicate with modern hardware architectures\",\n",
       " 'I’m curious what actually happens when I open a connection from a client to something like a backend or database. Like, what is a connection actually? I’ve been struggling finding out how to understand the nitty gritty details of how a connection actually works. Thanks',\n",
       " '&#x200B;[This uses the simulated annealing algorithm - source code in comments]()',\n",
       " 'Are all machine laguages the same on a single computer architecture even when written in different programming languages?Like is the instruction of if (x==2) then print(x) the same machine language for C and python?',\n",
       " \"As the title says, i've read some chapters of a book called **Computer Organization and Design: The Hardware/Software Interface,** finished the part about variables, registers and memory interactions. But this sentence completely staggers me, can someone elaborate/explain(english is my 2nd language  )  The sentence:  **Many times a program will use a constant in an operation—for example, incrementing an index to point to the next element of an array**\",\n",
       " 'When you install an operating system from a USB. Am I correct that it installs it from the USB then copies itself over to the harddrive? Or does it copy itself to the harddrive first then install the operating system from there?Second question is, when the OS is copies over to the harddrive is that piece of hardware essentially your whole computer? Like if I swapped out two laptops harddrives from one to another, would they both just boot up as if they were switched?',\n",
       " \"Let's say I have a newsletter people can sign up to. When a user signs up, I hash their email and store it in the database. What I don't understand is how I would then use the hash (I no longer have access to the actual email as I've hashed it) to send my newsletter to them.Also sorry if this is the wrong sub, I'm not entirely sure where else to post this. Thanks!\",\n",
       " \"It's almost time for me to select a master's program within Computer Engineering/Computer Science. I want to do something valuable and so I've been thinking of going into high performance computing and doing research on applying analog computing to AI hardware. Does anyone have any similar experiences or thoughts on the subject?Edit: For those that have never heard about the concept before, [here's]() a good introductory video\",\n",
       " 'I am a second year CS major and the language I have the most experience with is C++. How do I begin making stuff with visuals? Are there any online courses that can help me?',\n",
       " \"Does 1 sequence bit really suffice for a reliable transfer?  Are there still no scenarios of endless loops or corrupted( and accepted ) packages?  I'm confused because my intuition tells me it reduces the risk of failure but does not eliminate it.Edit: Adding reference images.&#x200B;\",\n",
       " \"A few years ago I worked on a project with a friend of mine and I remember we used a language based off futurama, I believe the language was some kind of fork of Ruby. Not sure though. Can't seem to find it anywhere, anyone know what that could be? Thanks! (It was a web app if that is of any use!)\",\n",
       " \"Any tips about needed math or study methods that can help me to finish this book faster, and get as much as possible of the content? And for those who've already read, what is your opinion about the book?\",\n",
       " \"    def f(n):        c = 0        for i in range(n):            j = i             while j < n:                  j = 2*j                  c = c + 1 My professor tells me this is O(n), but his explanation did not make sense to me. The way I see it, the complexity boils down to log(n) + log(n-1) + log(n-2) + ... log(n-n) and I don't see how that is asymptotically n rather than nlog(n).\",\n",
       " \"Hello computer sciences lovers,Let me join your community by presenting to you a project I've always wanted to make (or simply have) since my young age but never tried until now. I am currently designing an\\xa0**8-bit computer**\\xa0with Zilog\\xa0**Z80 CPU**.\\xa0**It is not an emulation, and not powered by MCU**. I hope that it will be both entertaining and educational: ideally it would be used to learn\\xa0**hardware, programming in assembly, Basic and even play 2D games**\\xa0etc.[Zeal 8 bit computer prototype]()**Now the key features already working:**· Native OS fully written in Z80 assembly· ROM and RAM support with banking (both internal and external)· Support external extension card (for adding RAM, ROM, Flash, EEPROM, and so on...)· PS/2 keyboard support (targeting a full 104-key keyboards support)· 16 GPIO pins (some used by the system)· Software I2C· Software UART· VGA graphics support (powered by an\\xa0**FPGA**)· Sound support (powered by the FPGA)Here is my video showing the design process:[\\\\_eEDAQWMdY&t=25s]()Feel free to give me your feedback or remarks\",\n",
       " \"Any good YouTube channels for new people learning coding and coding fundamentals. I watch lots of math videos on YT and if anyone where to recommend me for math channels I would say 1blue3brown, Veritasium (sometimes). I was wondering If anyone knows any good channels that doesn't sticky teach how to learn a certain langue step by step but more deep understandings and good advice that I will keep back in my head as I keep learning to code. Interesting topics as well, like those math channels. Thanks\",\n",
       " '',\n",
       " 'Are there any websites like hackthebox for Machine learning which make it fun and challenging? I want to constantly do projects and get my hands dirty in it while having fun.',\n",
       " 'Imagine you have a List or Array like this:`[1,1,1,1,9,9,9,9,9,5,5,5,6,6,7,7,7,7,7,7,7,0,0,0,12,12]`Then it may be beneficial to display it like this, e.g. for compression purposes:`[(1,4),(9,5),(5,3),(6,2),(7,7),(0,3),(12,2)]`or even like this:`[1,4,9,5,5,3,6,2,7,7,0,3,12,2]`On the left side of the tuple you put the element on the right side how many times it occurs in a row. What is this structure called?',\n",
       " 'Title says it all.',\n",
       " \"     M ← ∅        ▷ Initialize with an empty matching P ← getAugmentingPath(G,M)     while P is not empty do     M ← M ⊕ P     P ← getAugmentingPath(G, M) This is an algorithm for maximum  matching. however, what I don't understand is that before the iteration  loop starts, what exactly is P getting intialized with? Since M is set  to nil and we are passing that as a parameter.Also can someone give an example output of what kind of return value we expect from the getAugmentingPath function?&#x200B;For example:&#x200B;What would be the output of the augmentingPath function in the first few iterations? Someone please help as I can not understand this at all.\",\n",
       " '',\n",
       " \"Was reading the CLRS book section regarding insertion sort, and it gives the following code for insertion sort:    INSERTION-SORT(A)    for j = 2 to A.length{        key = A[j]        i = j-1        while i > 0 and A[i] > key{            A[i+1] = A[i]            i = i-1        }    A[i+1] = key    }CLRS gives the first loop invariant saying that A\\\\[1..j-1\\\\] are in sorted order.  But I'm not entirely convinced that's the case from a mathematical standpoint.  Intuitively looking at an example it is pretty clear that A\\\\[1...j-1\\\\] is in sorted order, but I'm wondering what could be the loop invariant for the inner while loop, since I'd assume its why the loop invariant CLRS gave holds.  Not the most useful question from a practical standpoint but I really like math and am curious what the loop invariant is for the inner loop.  Also not sure why CLRS would leave it out.EDIT: formatting\",\n",
       " 'I have recently passed my algorithm course where I learned about 15 algorithms. My professor has suggested me to solve problems in online judges. Now that\\'s where the problem begins.When I was in the course, the processor would provide exercise related to a topic he had just taught. So every time exercises were given, I knew which algorithm it is relevant to. But now when I pick a random problem from an online judge I\\'m lost. I don\\'t know what algorithm might it be relevant to, I can\\'t write a single line.I was kind of ahead of my class in some of the programming courses but now I\\'m losing interest in programming because I can\\'t identify the algorithms needed to solve problems. Should I give up programming(which will be a disaster)? Any suggestion on getting out of this situation? Sometimes people say \"keep practicing\" but it\\'s not helping. How can I even keep practicing if I have to look up the answer of every problem I pick?',\n",
       " \"Almost every OS we use today was conceived and it's development started in the 80's or the 90's and since the 2000's no significant new OS's pop-ed up. Obviously the major OS's were developed and upgraded further while new technologies were incorporated in them, but yet again those OS's are based on 90's concepts and technologies. So why no brand new OS's were created since then? Were those OS's designed to be future-proof? For example was Linux/Unix so advanced that it could support every breakthrough in computer science with just minor updates ,or nowadays every company/organisation has figured out that it's not worth to write something new from scratch?\",\n",
       " 'Found my Play station 2 recently and remembered it had a 8 MB memory card for all my games. God of War used the most space in the memory card with 550 KB. How could such detailed game files could be stored in an 8 MB chip (other than the CD) but now everything needs 50-100 GB, for only slight improvement in graphics?',\n",
       " 'What software process model uses component-based development? What software process model can be used for developing a new software using some components that already exists?',\n",
       " 'I have been thinking about this from a long-long time and thought of sharing this here. Programming Languages are given a lot of importance than they deserve in the programmer community. I have seen a lot of people flexing that they know x number of languages which is incredibly shameful. Most of the programmers(90%+) would always give programming languages a lot of importance. Programming languages do not matter much. The core concepts of programming matter a lot more than programming languages but still a lot of people want to learn more and more programming languages. Senior software engineers know this that programming languages don\\'t matter as you can learn a programming language thoroughly well in a night if you know the concepts well. By concepts I mean all the things that are applied while making a product(e.g. a web app), if you know compiler design, it would be incredibly easy to grasp a language, that is where concepts pay off.This problem\\'s cause is bad platforms and bootcamps but I would not name them. They teach the programming language and nothing else. That does not pay off as you might get a freelance job for 10$/hour but you won\\'t be able to land a good 100k+ job at a good company. And I won\\'t even like to call you a programmer if you just know the programming language.You actually get the taste of core concepts when you go to get a CS degree from a formal college. Yea, I hear you saying that \"Duh, I can\\'t go to college\", then learn it yourself. I myself am 14, started to program seriously since 13 and I can\\'t go to college too. So I started learning the concepts myself. I do not know a lot of programming languages and I just know JavaScript that too not to a great level but I have come to learn system design and databases pretty well and I can make a web app easily. Programming Languages are just a way to implementing our programming thoughts, it is just a tool. Just like english is a language to express our thoughts about philosophy, science, etc. Do tell me your thoughts about this, I would love to read them. I have been writing and encouraging this on other platforms to like YT and dev.to.',\n",
       " \"And doesn't make sense to measure the recursivity of a function?\",\n",
       " '',\n",
       " 'Like how mathematicians have the convention that \"2 + 4 x 2\" means \"2 + (4 x 2)\" and not \"(2 + 4) x 2\". If I had \"A and B or C\" does that mean \"(A and B) or C\" or \"A and (B or C)\"? Does it change with NOR, NAND, XOR, NOT etc?',\n",
       " 'Does the head node store a value, or only the address?',\n",
       " 'From an IDE’s perspective, does and expression with an equation, that requires order of operations, take longer to process than code that has the order written separately to its own defined register?e=y’+(y’-y)+x’+(x’-x),Vs.ey=y’-y,ex=x’-x,e=y’+ey+x’+exE: Carriage return did not function; insert commas.',\n",
       " \"What exactly are they? I know that they're AI's that take information and create new text similar to it, but if I wanted to code one in Python, how would I do it? Some help would be appreciated.\",\n",
       " 'As an computer science student with an programming apprenticeship done, some topics seem very hard to get motivated on, since I know half of the lectures but am not an Expert. Where does one take the motivation from to do for example Javascript / Html exercises, when you already worked 4 years in Web development?',\n",
       " 'Does anyone know the name of the first break-through search algorithm for classical computing was? I’ve done some research on it but nothing seems very definite. Any ideas?',\n",
       " \"I haven't touched math in 12 years. I am starting from the bottom at basic algebra.Can anyone recommend a path starting from algebra to be successful in the AI field?I am not looking for a job in tech, I'm doing this for me because AI fascinates me. So time is no obstacle for me, I could spend the next 5 years learning all this math If have to. Thank you for any help yall can give!\",\n",
       " '',\n",
       " \"Hi allIn an effort to became a better programmer I wanted to check what actually makes a given algorithm 'good'. e.g. quicksort is considered a good algorithm - is that only because of average-case performance? Is there a community-approved checklist or something like that when it comes to algorithm evaluation? I tried looking on my own, but the deeper I dig the more questions I have instead of answers.P.S. If you know any papers or articles that go in depth about the topic that would be great\",\n",
       " 'Of course form factor is a big deal for the raspberry pi. Desktop CPUs really aren’t very big and for a slightly larger raspberry pi it could have it. The only restriction on that is the power demand. Newer CPUs consume 65W whereas the RPi4 consumes 4-5W. The heat dissipation required as a result of the power demand could be an issue without added cooling.Is there another reason why a better CPU isn’t used in a raspberry pi?',\n",
       " '',\n",
       " 'Ok, so, knowing that AI is a series of logic gates, I theorize that programming is going to go extinct, and be replaced with AI training.Instead of writing a program, the program writes itself over time, based on your needs. The logic gates assemble themselves after getting a base neutral network from a trainer.Building off of that theory, processors can be much more like the human brain, taking input data, and learning to route the output to the appropriate place, while learning what output is to be expected.In this scenario, a single piece of hardware could theoretically become whatever it was needed to be, in the same way software defined radio works. The processor would be a hardware neural net, with variable values. External hardware would automatically train the net when it was plugged into a processor port.Are there any known concepts like this?',\n",
       " \"I have a lot of ideas for personal projects I would like to work on. The problem I keep running into is that I need data from various places that either don't offer it up or using their APIs are extremely expensive (i.e. various MLS APIs). What is the best approach to obtaining data you need? How do you guys get data for your personal projects?\",\n",
       " '',\n",
       " 'I read this in some book, \" Instead of focusing first on programming, we can learn how to model and design. We can also learn how to use different modeling and design approaches together and in context to determine what a system will do and how it will do it. \"What does model and design mean computer science and software engineering in general?',\n",
       " \"Hi folks. In short, the Euclidean method of calculating GCD says that;    suppose a>= b and rem = remainder, gcd(a, b) = gcd(rem(a,b), b)Implementing this method is also easy. However, I do wonder what its algorithmic complexity is. Or does it exist in terms of known notations? I know some basic ideas behind categorizing algorithms such as recursivity, loops, binary searches, etc, but I couldn't categorize that. Thanks in advance.\",\n",
       " '',\n",
       " \"I can't find the answer anywhere to this question, but I've been looking into the circuit diagram for a bit-shifter and I can't figure out what the purpose of the OR gates are. I've tried putting in sample values for the inputs and working it through for left and right shift, with and without the OR gates at the bottom and I get the same values with or without the OR gates. If that's the case, then why are they in the circuit?You can see a diagram of the circuit I'm talking about here: [-shifters-using-logic-gates/](-shifters-using-logic-gates/)\",\n",
       " \"I understand sending and receiving letters is similiar but I'm just curious if there is a similiar process in daily life ?\",\n",
       " '',\n",
       " 'Lets say we have a arbitrary grammar for which we would like to know how many syntax trees does it generate.We know that there are two always two derivations and 2021 leafs.How to start?',\n",
       " \"Hello,I understand what a stack is as a data structure; it's like a stack of plates at a buffet, where you only have access to the top plate. However, people seem to talk about THE stack of a computer, and the stack overflowing. For example, I think I've heard that it's bad to write recursive functions, because it can cause the stack to overflow.Can someone please explain what this is?Thanks!\",\n",
       " 'Hi guys, I wanted to know a brief difference among these four fields in computer science.so please any kind of link to the difference or giving a brief difference in this post will be very helpful. Thanks in advance',\n",
       " \"Is it a data base that uses the observer design pattern to refresh and post new entries into the database? That's what I'm thinking in my head but I'm not quite sure. Just trying to learn on Xamarin got a good bit of experience with C#. Thank you so much for your time and I'm sorry if this isn't the proper way to ask.\",\n",
       " '',\n",
       " 'Just a bit of background information: I\\'m currently in high school, and I\\'m taking a course about algorithms on Coursera. I do have previous programming experience.I\\'m able to understand the concept behind algorithms and why and how they work, how efficient they are etc... However, when I try to implement or code those algorithms, I get stuck. I know that to solve this problem I should practice more, and I do try, but for some reason, I just can\\'t seem to \"translate\" the algorithm into code. This is really affecting me cause I really enjoy computer science in general, and I understand the concepts, but I just can\\'t seem to find a way to transfer my thoughts into code, and it kinda discourages me. However, I\\'m not gonna give up anytime soon. What can I do to solve this problem? Any advice is greatly appreciated! Thank you so much :)Sorry if this post doesn\\'t belong here, I\\'m not sure where to post it.',\n",
       " \"Hi all, I remember using a site that allowed you to wire logic gates to construct more advanced ones - it was really helpful for me but I can't remember the name of it for the life of me.I am almost certain that you only started out with a NOT gate and I think it there was an AND gate. I think you could choose the number of inputs to create the gate and had to wire them to enable the truth table to operate in the correct way, allowing you to use the gate - for example, after an AND and NOT gate you you could make an NAND, OR gate, then an XOR ... If anyone can knows the name of that website I would be really grateful !\",\n",
       " \" I'm donating a couple of computers to an elementary school in El Salvador and Mexico. I was hoping to also pack them with useful educational software that the kids can utilize (typing games, English learning games, match games, etc.) Anyone have good recommendations for this? I'm anticipating that the place won't have internet connection, so I want to make sure they can use them without an internet connection.\",\n",
       " '',\n",
       " 'Hello everybody may I ask on why is while(1) an endless loop?',\n",
       " \"Here is what we want:    s = 0;    for(int i = 0; i < n; i++){    // n could be any number        s = s + x       }With this digital logic diagram, it is impossible:&#x200B;[No Register]()The above digital logic diagram is a logical circuit with feedback. The combination logic unit is an accumulator (with the '+' on it).Using this diagram Suppose we feed a 1 into the accumulator (assuming we are working with 2 bits). This is the progression.1. We begin with the circuit above. With the inputs of the accumulator being x and y&#x200B;2. We feed 01 (assuming we are working with two bits of data) into x&#x200B;3. 01 is fed into the accumulator, and the output is 01 because we added nothing to 013, We begin the feedback. x still remains 01 because it had not been updated. y is now 01 because we fed the output into y. Sowe feed 01 and 01 into the accumulator&#x200B;4.  We add 01 and 01 into the accumulator. So we add 01 + 01, which is 10&#x200B;5. 10 is the output. We then want to feed 10 into the accumulator.&#x200B;6. x still remains 01 because nothing has updated it. y is the previous output of x and y.7. (this continues infinitely)So I understand that this loops forever and thus, an incomplete solution.This problem is completed with the addition of a register.&#x200B;This fixes the problem. To preface, I am familiar with registers on a software level and had an internship doing reverse engineering so I conceptually understand how registers work. In this example, how does a register help? How does it add the control? How does it make it so that s is initialized to 0?I would appreciate this a lot.EDIT: SolvedSummary as to why the registerI understand registers on a software level. I've interacted with them a lot when I had an internship doing reverse engineering. But, I've wanted to up my knowledge so I'm resisting the digital logic implementations of them. I digress, but it was to illustrate I have somewhat of an idea of what I'm doing.The reset signal from the register is sent indicates the end of the loop.As for the initialization, the load signal indicates to replace the state of S. In other words, initialize S.So, to recap:The register does the following ( slight over simplification):1. CLK = State Change2. LD = Initializes3. Reset = Control\",\n",
       " 'I have searched in on google. The reason they say is 1. It is too slow.2. It is not byte addressable.Lets keep that slow factor aside , why cant they make it byte addressable?',\n",
       " 'Whats the difference between them? Also, is an array a data structure or a data type.',\n",
       " \"I have read that HDD/SSD's are secondary memory and they are not counted in either RAM or ROM. So Is there any ROM in my laptop or not? If it is then how to check? Unlike in mobile phones we are provided with 32/64 GBs of RAM.\",\n",
       " 'HI there, as I have studied Operating System subject more than 20 years ago with amazing [Operating System from Andrew S Tanenbaum](-Systems-Implementation-Andrew-Tanenbaum/dp/0136374069/ref=sr_1_29?dchild=1&qid=1634753181&refinements=p_27%3AAndrew+Tanenbaum&s=books&sr=1-29&ufe=app_do%3Aamzn1.fos.25548f35-0de7-44b3-b28e-0f56f3f96147)What are the current Textbooks used in USA universities ?Best Regards',\n",
       " 'Almost every single time I see a question I don’t know where to start from to solve it. But every time I see the answer I understand every line of the code made and why it was this way to solve the problem.My only concern is how can I improve my self and look at the question then solve it immediately without seeing the answer and realizing that I overthinks?Is it the lack of practice or understanding or problem solving skills (which is also practice)?',\n",
       " 'Hello there. Today in class, my professor began going over datapaths, and there was one example he didn\\'t have time to finish that I was curious about. The example was suppose to be a multiplier (64 bits) that used a 64 bit adder. He went over 32 bits, and said he would get to this one in the next lecture, but \"in the meantime, try and figure it out\". I can\\'t figure it out, but want to know how to make one like this. Can anyone help? Thanks.',\n",
       " \"Title. When I mean by specialized binary trees, I mean like heaps, segment trees, etc.I feel like major cloud providers would have this kind of thing, but I'm not sure if I'm looking in the right direction because I can't find any results. If there isn't, can it be explained why? Thanks.\",\n",
       " \"Recently, I watched this video [here]() about  algorithms using to match regular expressions. I learned that the string `.*a.{n}`  produce number of DFA states proportional to the exponential of n.Since GNU Flex tool using DFA for its search engine, I tried a simple code as below:    %{    %}    %%    .*a.{16}  { return 0; }    .         { return 1; }    %%At n = 16, Flex produce more than 100K states. At n = 20, my computer run out of memory and kill the process. It's really  nice to see theory work in real code.Anyone know any simple grammars which break Bison?\",\n",
       " 'Hello, is there any resources out there that teach data structures and algorithms (books,Ecourses,etc.) I feel like it’s really important to understand this topic. Any suggestions?',\n",
       " '',\n",
       " \"In math for cs lab, the instructor stated that there are 2 types of induction. However, if I grasp correctly, they must be equivalent.    Strong induction: (P(0) ∧ P(1) ...\\xa0∧ P(n))   ==> P(n+1)    Induction: P(n) ==> P(n + 1). So how do they differ? If I just make all logical operations from 0 to n in induction, don't I reach the exact same statement with the strong induction? Thanks in advance.Edit: Thanks, everyone!\",\n",
       " 'It seems related to metaprogramming , was wondering if someone could break this down for me ?',\n",
       " \"I've been learning C.S and quite confused about binary and how it's processed in CPU and hardware and turned into software. I mean entirety of it and I am quite confused where to start. Anyone experienced willing to help me out?\",\n",
       " \"I lost my wallet recently, containing my debit and credit cards. I locked my credit card directly from the banking app. But I have to call or come to a branch to lock my debit card. It's not like there'll be a whole different implementation for it, right? Credit cards usually have more security than debit cards so won't the code (or methods) used be almost identical?Is there a (programming) related reason why both cards can't be locked from the app?\",\n",
       " 'Hey I’m kind of new to computer science learning, one thing that I keep on hearing though is the use of heavy mathematics in it such as calculus. To people who have a knowledge beyond mine can someone please give me a summary of what that’s all about as I’m just learning calculus right now too and I’m not the biggest fan so far…',\n",
       " '',\n",
       " '',\n",
       " 'I’d like to propose a modified version of the Turing test that I believe no computer program could be written to pass. I believe this modification makes the test only passable by humans because it makes purpose-driven seeking of information the independent variable and not the provision of answers to pre-defined questions. This lack of having a pre-defined nature is the heart of the claim because, though artificial intelligence (hereafter “A.I.”) can be self-aware, it cannot be self-defined.In the modified Turing test, there are two (2) apparent Turing tests taking place in two separate rooms. Finally, there is a third room that will be explained at the end. In the first room, a typical Turing test is run. This means there are two humans and a computer in the first room. The “investigator” human asks the questions and receives the answers, thus, we can generate two transcripts that have identical questions and are only different in their answers. This is standard. In the second room, there are two computers and one human. The “investigator” is itself a computer that has already passed the standard Turing test. Thus, in this second room, it is the computer program that is actually serving the role of trying to distinguish between the answers of a computer and human. Again, we can receive two transcripts of the Q & A.The human investigator and the A.I. investigator In both of the first two rooms must be provided sufficient time for their questions and interactions with the computer and the human that they will end up judging. They must feel satisfied that they can make an intelligent guess in their own Turing test attempts. Finally, in the third room, we have our real investigator, This investigator will compare the four (4) transcripts and judge which of the two rooms had a human questioner and which of the two rooms had a computer program questioner. Thus, the true object of the examination is to see whether a computer program could match a human in asking the questions in a Turing test as opposed to answering them. Assuming a large enough amount of data, i.e., sufficient questioning and a long enough time given for the “interview process,” I do not believe a computer program can be designed that could pass this modified Turing test. My hypothesis is that because the “investigator” side of the traditional Turing test will be filled with questions that will make it apparent that a human is doing the asking. Importantly, the human investigator and the computer investigator in the first two rooms must NOT know that they are actually the subsections of the third room test. This means that the A.I. Investigator (who already passed the traditional Turing test) will now know that it should be trying to imitate a human.The point of the modified Turing test proposal, in summation, is to show that the A.I that passed the Turing test can only do so when it is, knowingly, the object of the study. Providing the second layer into the experiment would turn the A.I. into the apparent “studier” and, yet, unbeknownst to the computer, still actually the object of the study.This proposed modified Turing test will allow for a better barrier to defining humanity from computer programs should the hypothesis hold true that artificial intelligence will not be able to pass this modified version of the Traditional Turing test.Please feel free to consider how this modified Turing test would work should the experiment ever take place.',\n",
       " '',\n",
       " 'Can anyone explain to me how exactly that works? Yes, it’s an assignment but I somehow keep getting the wrong results over and over again. Sorry if this isn’t the right sub for this. The question is as follows: Subtract the number 1100011101011011 from the number 0010010001100101. The format is F(2, 11, -14, 15, true) IEEE 754-2008 with half precision (16 bits). Use „round to nearest- round to even“.My result : 0100100000010001Their result : 0100011101011111What I did first was make the exponents the same and adjusted the value to the right (mantissa we say, not sure in english). I then added the two numbers since we have a -(-number) which should be the same as +. At the end I rounded using the guard, round and sticky bits. I really don’t see the problem and this is an example in a long series I’ve tried solving , getting none correct. If someone can explain what I’m doing wrong, I’d be very thankful.',\n",
       " 'Hi, it would be great if people could suggest some books on the subject of computational methods. Our lecturer gave a list but I didn\\'t find them simple to understand. I want a book that explains the theory like the reader is coming out of school.Edit : I think I gave the wrong idea, computational methods doesn\\'t mean DSA. It means mathematical methods for solving differential equations (time, space equations) in computers using approximationThe list  :  K.A. Hoffmann, S.T. Chiang, Computational Fluid Dynamics,Volume I, 4thEdition, 2000P. Moin, Fundamentals of Engineering Numerical Analysis, CUP,2001C.A.J. Fletcher, Computational Techniques for Fluid Dynamics 1:Fundamental and General Techniques, Springer-Verlag, 1991P.K. Kundu and I.M. Cohen, Fluid Mechanics 2ndedition,Academic Press, 2002J. Glyn, \"Advanced modern engineering mathematics\", PrenticeHall, 2004J.D. Anderson, Computational Fluid Dynamics: the basics withapplications, McGraw-Hill, 1995E.F. Toro, “Riemann Solvers and Numerical Methods for FluidDynamics. A Practical Introduction”, Springer 1997 ',\n",
       " \"What is the state of the art of peer-to-peer networking on the internet? Hosts behind (possibly carrier-grade NAT, ideally no hosts involved other than the peers. How close are we these days? Will IP6 make a big difference or are too many deployments still done in a way that doesn't give each device a routable IP address?\",\n",
       " \"There is too much noise and sensationalism on traditional social media. So I want to curate the best podcasts, videos, and articles in computer science into one place. The goal is to improve the signal-to-noise ratio, You can visit the feed as it is [here]().Here are the people I have found so far whose content I'm curating:**Jeremy Kun, John D. Cook, Scott Aaronson, Lex Friedman, Donald Knuth, Dick Lipton, Jelani Nelson, and Andrew Ng.**I'm sure I'm missing a ton. Who are those people?\",\n",
       " '',\n",
       " 'Hello,I am currently struggling to find a book that goes in-depth in the explanations of digital modulation techniques like BPSK, FSK, Differential PSK signals, QAMs, Spread Sprectrum and so forth. Are there any books you guys recommend for digital modulation techniques? Thanks!',\n",
       " \"Hello. So as of now I have zero experience with programming. I have just decided I am going to start learning how. Currently I'm working as a tutor at a school through an AmeriCorps service program. I noticed during the last staff meeting when they were talking about compiling data to determine which students need the most extra help (basically where they want to send me and the other support staff) that a lot of the teachers were pretty frustrated with the amount of effort it takes to get all that information organized. I'm supposed to be doing a project for AmeriCorps to help the school and system out, and I was thinking it would be a good idea to try to develop a program that could streamline this process of data collection/analysis. I would have until the end of summer 2022. From zero experience with coding other than a little bit of HTML in high school, which I don't really remember, do you think I'd be able to get the knowledge and experience in order a write a program to do this? Assuming I don't get terribly bored with it or burnt out, I plan on spending a few hours a day learning. Also, if this does seem feasible, what language should I be primarily focusing on? And lastly, if anyone has any advice for someone starting to learn to program, that would also be welcome. I am most interested in the interactive online classes like [freecodecamp.com](), as I tend to get distracted during lectures. I can definitely see myself sitting in on lectures and paying attention/enjoying them once I start getting the basics down. Thanks :)\",\n",
       " 'At what point does a simulator become an emulator / What are the absolute requirements for something to be considered an emulator, and would the following program (little man computer)  be considered an emulator?/',\n",
       " '',\n",
       " 'In current times there are compilers that exist for every language. This helps automate the process of writing code for many programs. What kinds of programs require completely original compilers? Is this for mainly academic purposes or are there other reasons to consider a new compiler? Such as a program made for a specific purpose. Thanks',\n",
       " 'The Art of Computer Programming by Donald Knuth is famed artwork of a literature on Computer Science.What are some other books in Computer Science which goes to similar depths and breadths like Donald Knuth??(Could be in any field or domain relating to Computer Science)',\n",
       " 'Hello,I am interested in the stats of the coding time / testing time ratio. If you are working as a professional developer and you are using tests (unit, component, contract, etc.) what is the time spent on coding / time spent on the development of the various tests.Example: 1 day coding 2 days testing (unit, integration)',\n",
       " 'Does a solution exist to what I will term the \"3 party transaction problem\"?Let the problem be defined as follows...There are three people: A, B, and CIt is common knowledge among all parties that A starts with $100. This $100 is in a vault and cannot be shown to B nor C.Let\\'s say that C is approached by A who offers C a $100 IOY (I owe you) in exchange for some widgets that C owns.At the time of the transaction, how does C know that A hasn\\'t already given B a $100 IOY?What evidence might A be able to provide to C to prove that A has not already given B a $100 IOY?note: C does not know how to contact B so cannot ask B any questions directly.',\n",
       " \"So right now, high end (and soon enough low-mid ends as well) video cards come with AI accelerators, like nvidia's tensor cores.But as we've seen in the past, whenever a technology emerges in one hardware component (like graphics in CPU in the older days), it eventually gets it's own dedicated hardware, like graphics splitting from CPU.Do you think this will happen to AI acceleration in the near future too? Like have a dedicated AI card?\",\n",
       " '**Corresponding paper:**  []()**Abstract**Question and answer (Q&A) websites are a medium where people can communicate and help each other. Stack Overflow is one of the most popular Q&A websites about programming, where millions of developers seek help or provide valuable assistance. Activity on the Stack Overflow website is moderated by the user community, utilizing a voting system to promote high quality content. The website was created on 2008 and has accumulated a large amount of crowd wisdom about the software development industry. Here we analyse this data to examine trends in the grouping of technologies and their users into different subcommunities. In our work we analysed all questions, answers, votes and tags from Stack Overflow between 2008 and 2020. We generated a series of user-technology interaction graphs and applied community detection algorithms to identify the biggest user communities for each year, to examine which technologies those communities incorporate, how they are interconnected and how they evolve through time. The biggest and most persistent commu-nities were related to web development. In general, there is little movement between communities; users tend to either stay within the same community or not acquire any score at all. Community evolution reveals the popularity of different programming languages and frameworks on Stack Overflow over time. These findings give insight into the user community on Stack Overflow and reveal long-term trends on the software development industry.',\n",
       " \"Hello,I'm taking an intro class to Fuzzy Logic, and I know nothing about the subject. I'm supposed to read some articles on the subject and explain them in paper for the mid-terms but since the subject is wide, I'm afraid I might end up trying to understand rather complex and upper-level articles. This is not my native language either so that might be double the problem. Could I ask for some suggestions on the articles to read, please? Thank you in advance.\",\n",
       " '',\n",
       " '',\n",
       " \"Even though coding fascinates me, computer science just doesn't come naturally to me. The only reason why I did well in my introductory computer science class was that I kept bugging the person next to me for help. I'm frustrated because being a software engineer interested me (in fact, I loved going on Scratch and looking at peoples' programs on Khan Academy when I was a kid), but now I'm not sure anymore.\",\n",
       " '',\n",
       " \"It'd be great if you could point how/where in particular do you use the following:1.  Discrete Structures2. Linear Algebra3. Calculus\",\n",
       " \"There seem to be many factors that counteract the hardware and computing advances of recent decades: bloat, inefficiency, etc? Are there any people or projects working on this? From outside the field it seems things such as software quality have been a wet blanket on Moore's Law. I mean, even as a layperson, Windows seems like poo.  Any insight or thoughts on what's going on here or solutions? I'm technical enough to have a dual boot and use terminal on ubuntu if that means anything. Please be as detailed and technical as you like.Edit: hardware has become way better and software has become worse. I can't help but wonder how much the latter is negating the former and if there is anything currently being worked on or explored to help.\",\n",
       " 'The code is as follows:    while z.p.color == RED        if z.p == z.p.p.left            y = z.p.p.right            if y.color == RED                z.p.color = BLACK                         //case 1                y.color = BLACK                           //case 1                z.p.p.color = RED                         //case 1                z = z.p.p                                 //case 1            else if z == z.p.right                    z = z.p                    LEFT-ROTATE(T,z)                      //case 2                z.p.color = BLACK                         //case 3                z.p.p.color = RED                         //case 3                RIGHT-ROTATE(T,z.p.p)                     //case 3         else (same as then clause                      with \"right\" and \"left\" exchanged)    T.root.color = BLACKMy problem is this:Case 2 and 3 are given within the same else if statement, with the difference being that, for case 3, only the last 3 lines run, but for case 2, all of the lines run.  But if I were implementing this code, all 5 lines would run all the time.To correct this, I would change the \\'else if\\' statement to an \\'else\\', then use another if statement inside, such as `if z == z.p.right`, where I would have the two case 2 statements therein.I just feel as though the pseudocode is not *difficult to understand* as others have stated, but rather that it is either incorrect, incomplete, or badly written.Why would you include every other if-else and while structure only to leave out another?',\n",
       " '',\n",
       " \"I'm working on a group project at school for a software development class. We're developing an app that a person on the team pitched.Problem #1: There's barely any communication within the team, just the bare minimum. If I ask the team for feedback via Slack for the design of a page in the app:  there's no response. I ask the team if we should meet in person to prep for our presentation: 0 response.Problem #2: One person is taking it upon themselves to do all the work. They've assigned themself as the project manager, but hasn't done any PM work of creating detailed stories, making sure there's 1 person per story, and facilitating communication across the team. There's 3 people per story, and for the ones they assigned themself to, they did literally all the work after ignoring message I sent asking how we should split up the work. To top it off, they didn't meaningfully respond to my messages but sent a message to the channel that includes the professor to say hey guys I finished the design and code for all three of these pages, I'll be ready to demo them during our presentation. To add on, I messaged to say I researched some things and I have some code so I can help with integration (I spent two full days researching this stuff) Again, 0 response so now it'll look like I did literally nothing for the project.Problem #3: We grade each other for coding and general business development. I'm obviously going to be scored lower and they'll justify themselves getting the highest score.I'm completely lost. This is my first semester as a grad student and was excited to work with a team having heard how fun it can be. Has anyone experienced something similar? How did you get through it?\",\n",
       " \"If we know in advance the exact set of keys, it is possible to construct a perfect hash function. If the same vein, let's suppose that we wanted to build a key-value store to act as a cache. If we knew in advance the classes of objects that we want to store, the distribution of their sizes and of the read requests, is it possible to build an optimal data store that minimizes read latency and variance, as well as storage overhead ? Is there research to this effect ?This question was vaguely inspired by the article referenced [here](/), comparing Memcached to Redis.\",\n",
       " \"Let's say you have a maximum integer flow function in a network with 7 edges. The capacity of each edge is increased by one. The capacity of all edges is always an integer. Is there an algorithm that can find a maximum flow in this new network with complexity O(|E|), where E is the set of edges? If so, what would this algorithm look like?\",\n",
       " 'I\\'m reading Richard Feynman\\'s book \"Surely You\\'re Joking, Mr. Feynman!\". There is a chapter on working on the first atomic bomb (The Manhattan Project) and how the first computers hit the scene. I was amazed that despite the past 80 years, the attitude towards computers has not changed at all.>Well, Mr. Frankel, who started this program, began to suffer from the computer disease that anybody who works with computers now knows about. It’s a very serious disease and it interferes completely with the work.  >  >The trouble with computers is you play with them. They are so wonderful. You have these switches—if it’s an even number you do this, if it’s an odd number you do that—and pretty soon you can do more and more elaborate things if you are clever enough, on one machine.  >  >But if you’ve ever worked with computers, you understand the disease—the delight in being able to see how much you can do. But he got the disease for the first time, the poor fellow who invented the thing.[computers were like that at the time]()',\n",
       " \"If I want a certain result to appear n% of the time, how would I apply this in a program? The research I've done only leads me to what probability is, rather than how it's applied in, let's say, games and the percent chance a certain item can appear.I assume the computer has to generate some sort of random number and then based on that make the calculation to determine if the desired result will appear.    let chance = 0.5;    calculateChance(chance);        function calculateChance(chance) {        let x;            // probability code using the chance value            if (x == true) {            print('true');        } else {            print('false');        }    }*Javascript, why not?*\",\n",
       " '',\n",
       " \"Link: [-backtracking-7/](-backtracking-7/)Here, it is given that it is 9\\\\^(n \\\\* n). But we are always using the same 9 x 9 board. Shouldn't the time complexity be O(1). It doesn't depend on the input size. Please clarify.\",\n",
       " 'Hello everyone, I\\'m currently a 3rd year EE student. I got very interested in Computer Architecture and other Systems topics in my 2nd year. I\\'m decently comfortable with C and can do some basic stuff in systems using it. I\\'ve gone through the \"Computer Systems: A Programmers Perspective\" book and completed most of the labs using C. I got to know that most of the Computer Architecture Research is done using simulators that primarily use C++, and profeciency in this language is a must. Can you suggest books relevant to this, which can teach me C++ with the Object Oriented Programming Concepts, programming using threads and other Systems related things which can help me with what I have mentioned above ? Any help would be appreciated.Thanks In Advance!',\n",
       " \"Ok, so I understand that storing passwords in plaintext is bad, and encrypting passwords just means that now we have to keep a secret safe, and that isn't ideal either.So the answer is to hash password values to some fixed-length value using a hashing algorithm. A frequently cited problem with just hashing a password is that a hacker could use common passwords and employ the same hashing algorithm and essentially dictionary attack a resource. But something I don't understand is this: if hashing algorithms are deterministic, that is, given the same input they always produce the same output, and the algorithms themselves are known, then couldn't a hacker essentially reverse the steps taken to hash values and produce the original input? Why is the rainbow attack method even necessary?That's my first question.I also know that salting hashes introduces randomness into the hashed values. I get how this means that an attacker can't carry out a rainbow attack using common hashes to guess passwords - but then how the heck is the password later verified? If I've randomized the hashed password, how can I check it against credentials I get from the user which will also be salted randomly and hashed?\",\n",
       " 'I get that it produces a hash value for a password, but, what inputs does it take in?if it takes no inputs other than the password itself (e.g. another word to make the hash unique for a set of data), isn\\'t it completely useless?what I was wondering is, does it do this:md5(\"password\")or something like this:md5(\"password1\",\"dog\")md5(\"password2\",\"dog\")where \"dog is a unique key that whoever in charge has decided to use in this specific case?',\n",
       " 'Hello everyone,I want to get better at object oriented design and system design. In order to get better at designing software, I would love to read book/ take a course to get better at designing systems. Please suggest me any books or any good practice which can make me better at designing',\n",
       " 'As it statea',\n",
       " 'Coding isnt just about learning a language like many people say. You need to have actual analytical and problem solving skills.You can definitely develop your thinking skills but not everyone can learn above basic logical programs. I believe the best coders are born with analytical skills.When people struggle with coding others always tell them to grind it out and to keep practicing. Some people simply arent smart enough or arent wired for coding.If you\\'re a comp sci major because you like spending time on your computer and want a \"guaranteed\" nice paying job, maybe you should reconsider. If you notice a majority of students in your class are a lot smarter than you, reconsider. If you\\'re already struggling early on then reconsider.I\\'m not saying this to depress people or discourage them. I\\'m just trying to save people time and stress. As a failed comp sci major I knew the cards were never in my favor to begin with.',\n",
       " 'Im a first year computer science student and i was watching someone win a google kickstarter and attempted to complete the problem myself but the whole thing was completely foreign to me. I understand these problems are probably very advanced but i was wondering what approach you guys think would be best to try and learn how to solve problems like this one.&#x200B;There are **N** houses for sale. The i-th house costs **Ai** dollars to buy. You have a budget of **B** dollars to spend.What is the maximum number of houses you can buy?### InputThe first line of the input gives the number of test cases, **T**. **T** test cases follow. Each test case begins with a single line containing the two integers **N** and **B**. The second line contains **N** integers. The i-th integer is **Ai**, the cost of the i-th house.### OutputFor each test case, output one line containing Case #x: y, where xis the test case number (starting from 1) and y is the maximum number of houses you can buy.',\n",
       " \"Firstly, I'd like to admit that I'm not at all techie, hence the newb question. Basically, I'm looking for a term that implies 'first', or perhaps a more computing appropriate wording, 'zeroth'. Like the first block in a chain or the first file on a database. The terms in my head are along the lines of root, core, etc. But that's as far as I can get as a non techie. Throw at me any term that suggests 'first' in a computer sciencey way.Thanks!!\",\n",
       " '',\n",
       " \"I have been doing small web development projects for the last couple of years and have been wondering how I could create a decentralized dynamic webpage.I am wanting to have nodes that contain the website source code and has a signature of the source with it that then gets compared to other nodes source signatures to prevent unwanted modifications just like how a cryptocurrency would work, but instead of transactions it's the source. I'm not sure how possible this would be with a dynamic website.I am wondering if there are any places that have information on creating this type of node network. I can't seem to find anything as I don't exactly know where to look or what to search for, this is very new to me.I am trying to learn more about decentralization so I can eventually move to working on more advanced projects, I know I am probably talking straight gibberish right now.Edit: I unfortunately don't have the time to reply to everyone, but thanks for all of the info about this, you've all bet a major help!\",\n",
       " 'It\\'s stated in my algorithm lecture that\"An operating system can be taught of as an online algorithm that never terminates, rather than a  finite algorithm with input and output.\"  Every time I try to wrap my head around this statement my brain goes blank with a static noise screen, Can someone bother to explain this?&#x200B;',\n",
       " 'We just started learning about this in my programming class and I am sooo confused. Does anyone have any resources or recommendations to better conceptualize this topic? Thank you!!',\n",
       " 'I know for sure zero-sum game trees in minimax can be, but for games which are not zero-sum games, (e.g. utility is represented by A,B, player a maximizes utility A, b maximizes B), what conditions are necessary to make alpha-beta pruning possible?',\n",
       " 'Why we do not use centralized inhouse&public computing centers that would support smart fridges, tvs, laptops and other electronic devices that is using software and ton of unnecessary hardware?Majority of inhouse electronics could run with an assitance of inhouse computing center. Additionally it would boost up computing power of other devices. Laptops, tablets would still need some internal hardware to be mobile but it could boost their capacity in home while playing videogames or at work while working on ie. Video editing. Wouldn\\'t such solution save a ton of materials in manufacturing and a lot of energy while using? It will keep one device complicated (central station) so \"upgrading\" your fridge would be no longer necessary. If you need more power- you simply upgrade your station. All \"go green\" tech companies are blind for such solution or is it more complicated than I am thinking?I run few small/medium companies in chemical industry and I am always looking to optimize certain processes and this just hit me while day dreaming. TLDR- Why we do not use one computing center for many devices?',\n",
       " \"When i tell my program to print a text after 5 seconds how can it know when 5 seconds have passed and what's happening in the cpu.\",\n",
       " 'Title, i was always interested in art, mainly paintings, but i dont how to draw for shit. Dont know anything about the theory either. Is programming enough for this? I dont want it for anything professional, just some fun projects, but with certain decency',\n",
       " '-game-of-che/I was reading this article where it says that computers have memorized every possible game of checkers that could ever be played. Does this mean that is impossible to beat a computer at checkers? Thus, you can only \"tie a game\" of checkers with a computer? Thanks!',\n",
       " 'Does anyone know of any tools that can do union find.  Looking for something that will also do percolation.',\n",
       " 'I read somewhere that exponential functions grow much faster than polynomial ones. But when I plot these two on Desmos, it seems that after a certain value, n\\\\^15 grows steeper than 15\\\\^n. So can we say that O(n\\\\^15) > O(15\\\\^n)? Or am I doing something wrong here?',\n",
       " '',\n",
       " 'Where can i find exam style questions answers for a level cambridge computer science, i am studying privately and figuring out these answers without help is a pain. So if any knows the source to these answers would be great help. :)',\n",
       " 'Anyone know of a good book or tutorial on YouTube to learn computer organization, in my case computer arithmetic and number representation???',\n",
       " '',\n",
       " \"So I was thinking the other day, if could computing can be just as fast if not faster compared to most personally owned hardware, will there eventually be a day where almost everything would be cloud based?For example, there wouldn't be a need to download apps on your phone, instead you just have a browser or have a customized browser for each app, eliminating the need for downloading apps.\",\n",
       " '',\n",
       " 'Behind the rhetorical question, do you have examples of algorithms with a non-trivial (heap-)space complexity? For instance, algorithms heavily relying on a GC to achieve a particular bound, or with a smart amortized analysis?Classical algorithms (like sorting, or simple graph algorithms) are often either in-place or clearly linear in the size of the input. Analyses of more refined algorithms seem simply not to take into consideration heap space complexity and focus on time.Where is the Union-Find of space complexity?',\n",
       " 'I am studying address mapping in cache. In direct mapping( or in general any ) when they divide physical address space into blocks and cache into blocks and each block in cache can have any of the block from physical address space. So if PAS = 2\\\\^8B, cache is 2\\\\^4B and block size is 2\\\\^2B.no of blocks in cache = 4( 0 to 3)no of blocks in PAS = 64(0 to 63)I want to ask is there each memory location assigned a number or what? Or its just how we refer to some memory location? I am totally confused. How memory location is pointed even in the case without being divided into blocks. What is the role of word size? Like if a memory is byte addressable then if we have some data at 0000 0000 ( assume PAS = 8 bits ) then when we are going to read the data at 0000 0000 then we read all the data from 0000 0000 to 0000 0111 i.e., 1 byte?',\n",
       " 'Is there are a known way by knowing my ip address and geolocation, to calculate to what destination ip address packet must be sent to pass specific route and to what addresses to send packet to be sure my packet will pass trough real target, but end up on \"fake\" target?For example:Having 5 devices/modem connected in network.device number 4 is my real target, but I am sending packet from device 1 to device 5 in a way so device 4 will need to forward packet to device 5, like router will do. But packet will contain interesting information only meaning to device 4, but rest of the network will think that device 1 is communicating with device 5 instead of 4, because in ip header destination is ip of device 5.&#x200B;EDIT:   I am aware how hard is to gain access directly to internet at 0 hops ( being router instead of router)  Hypothetically speaking, assuming \"real target\" is a router a like device with modified firmware to look into rest of a packet to see if packet has content of specific format...  Important:   By knowing own ip, own geo location  and \"real\" target ip, calculate \"fake\" target ip?  Is that even possible mathematically?  ',\n",
       " \"How is mod(10,-4)=-2?I get that 10/-4 gives you a remainder of -2 if you take the quotient as -3.But when you take the quotient as -2, mod(10,-4)=2So I'm so fucking confused here.Is there some sort of rules for mod calculations that I didn't understand?\",\n",
       " 'Can someone explain these to me in a way that makes sense. I have to combine all of these examples into one. I understand that ECDH makes the secure connection and ECDSA is what looks at the secure connection and makes sure it is from Bob or Alice. I just want to create a discussion on how these go about. Thanks!',\n",
       " 'I know there are various ports used in computer networking, and they have their own protocols. Is there a good system to study each port individually to learn in greater detail how to access or use each port for specific uses. Thanks for any information.',\n",
       " '',\n",
       " \"𝗤𝗨𝗘𝗦𝗧𝗜𝗢𝗡 𝗦𝗨𝗠𝗠𝗔𝗥𝗬:If your RAM uses 256 bit memory modules wouldn’t you need more than 8 bits for your data? Because if you only have 8 digits wouldn’t they all have to be used for the 256 addresses leaving no digits left to use as the opcode? This question stems from confusion on two Crash Course YouTube video.-------------------------------------------------------------------------------------------------------------𝗙𝗨𝗟𝗟 𝗤𝗨𝗘𝗦𝗧𝗜𝗢𝗡:I am confused by two crash course videos. In the first video they created the RAM using 8 256-bit memory modules (16 latches x 16 latches). So an 8 bit number can be broken up into one bit in each memory module allowing for 256 memory addresses for 256 bytes.In the second video they break the 8 bit number at an address into 4 bits for an opcode and the other 4 bits for an address. They reduced the number of addresses to 16 which makes sense since 4 bits can only produce 16 numbers.This is why I am asking how it would work if you wanted 256 addresses. If you still want 16 instructions you would still need a 4-bit opcode, but wouldn't you also need 8 more bits for the 256 addresses bringing your data at each address to 12 bits? Wouldn't this mean you need 12 memory modules instead of 8?-------------------------------------------------------------------------------------------------------------𝗟𝗜𝗡𝗞𝗦:-KewFLBC1D0l6XRfye&index=7-KewFLBC1D0l6XRfye&index=8-------------------------------------------------------------------------------------------------------------𝗗𝗜𝗦𝗖𝗟𝗔𝗜𝗠𝗘𝗥:Sorry if this question makes no sense. I am a beginner and I may not understand the concepts or know proper terminology.\",\n",
       " 'Let’s say we have two clocks that turn on for a certain amount of time then turn off for a certain amount of time and they cycle through these ons and offs. I am able to set the on and off time for each of these clocks.Is it possible for me to set the on and off times for the two clocks such that they have random looking periods in which both clocks are on at once?Of course it’s timed so it random at all, but just so it looks kind of random.',\n",
       " '',\n",
       " 'I hear lots of people think that Computer Science contains the field of, say, web development. I believe everything related to scripting, HTML, industry-related coding practices etcetera should have their own term, independent from \"Computer Science.\"Computer Science, by default, is the mathematical study of computation. The tools used in the industry derive from it. To me, industry-related coding labeled as \\'Computer Science\\' is like, say, labeling nursing as \\'medicine.\\'What do you think? I may be wrong in the real meaning \"Computer Science\" bears. Let me know your thoughts!',\n",
       " '',\n",
       " '',\n",
       " \"Hey guys.   I've programmed for a few years without really understanding what goes under the hood most of the time. I'd like to understand a bit more about how computers actually work. How does the CPU work? How does RAM work? How does all the stuff I'm writing in C# actually turn into colored pixels on a screen. Let me know if you know of any books, youtube channels or any other kind of resource that might be of use :)\"]"
      ]
     },
     "execution_count": 275,
     "metadata": {},
     "output_type": "execute_result"
    }
   ],
   "source": [
    "docs"
   ]
  },
  {
   "cell_type": "code",
   "execution_count": 276,
   "metadata": {
    "scrolled": true
   },
   "outputs": [
    {
     "data": {
      "application/vnd.jupyter.widget-view+json": {
       "model_id": "20df4d8972f24ce699de7b6d9ca1b821",
       "version_major": 2,
       "version_minor": 0
      },
      "text/plain": [
       "HBox(children=(HTML(value='Batches'), FloatProgress(value=0.0, max=16.0), HTML(value='')))"
      ]
     },
     "metadata": {},
     "output_type": "display_data"
    },
    {
     "name": "stderr",
     "output_type": "stream",
     "text": [
      "2022-02-01 12:23:11,380 - BERTopic - Transformed documents to Embeddings\n"
     ]
    },
    {
     "name": "stdout",
     "output_type": "stream",
     "text": [
      "\n"
     ]
    },
    {
     "name": "stderr",
     "output_type": "stream",
     "text": [
      "2022-02-01 12:23:13,796 - BERTopic - Reduced dimensionality with UMAP\n",
      "2022-02-01 12:23:13,844 - BERTopic - Clustered UMAP embeddings with HDBSCAN\n"
     ]
    }
   ],
   "source": [
    "#Run BERTopic\n",
    "topic_model = BERTopic(language=\"english\", embedding_model=\"paraphrase-multilingual-mpnet-base-v2\", min_topic_size=3, calculate_probabilities=True, verbose=True)\n",
    "# topic_model = BERTopic(language=\"english\", min_topic_size=3, calculate_probabilities=True, verbose=True)\n",
    "# topic_model = BERTopic(language=\"english\", embedding_model=\"all-mpnet-base-v2\", min_topic_size=3, calculate_probabilities=True, verbose=True)\n",
    "topics, probs = topic_model.fit_transform(docs)"
   ]
  },
  {
   "cell_type": "code",
   "execution_count": 277,
   "metadata": {},
   "outputs": [
    {
     "data": {
      "text/plain": [
       "['The previous thread was finally archived with over 500 comments and replies! As well, it helped to *massively* cut down on the number of off topic posts on this subreddit, so that was awesome!This is the only place where college, career, and programming questions are allowed. They will be removed if they\\'re posted anywhere else.HOMEWORK HELP, TECH SUPPORT, AND PC PURCHASE ADVICE ARE STILL NOT ALLOWED!There are numerous subreddits more suited to those posts such as:/r/techsupport  /r/learnprogramming  /r/buildapc  /r/cscareerquestions  /r/csMajors Note: this thread is in \"contest mode\" so all questions have a chance at being at the top',\n",
       " \"Tech Support: /r/techsupportComputer Recommendations: /r/SuggestALaptop or /r/buildapcSorry if this comes off as rude, but despite the previous stickied post people keep making posts asking for tech support or asking which Mac Book they should buy for college. This isn't the subreddit for those posts. Computer Science != IT ~~despite what all my relatives think~~. This thread also is not the place for those questions. Use one of the above subreddits.\",\n",
       " \"I'm a university student, and while I've taken a few math classes (LA, multivariable calc, discrete math, probability), I've found that I really struggle with conventional math classes. Reading the textbook just doesn't click with me, and I often get lost in lectures. I think a big problem is that it all seems very abstract to me, and I don't really start to understand it until I put it to practical use. With that said, whenever I've had to learn mathematical concepts for a CS project, I've been able to understand it much better, as I really get to interact with it.Does anyone know of any good resources that teaches math in this way? I know the obvious answer is to try to work on a project using math and learn as I go, but I was hoping there would be a more structured resource I could use.\"]"
      ]
     },
     "execution_count": 277,
     "metadata": {},
     "output_type": "execute_result"
    }
   ],
   "source": [
    "docs[:3]"
   ]
  },
  {
   "cell_type": "code",
   "execution_count": 278,
   "metadata": {},
   "outputs": [
    {
     "data": {
      "text/html": [
       "<div>\n",
       "<style scoped>\n",
       "    .dataframe tbody tr th:only-of-type {\n",
       "        vertical-align: middle;\n",
       "    }\n",
       "\n",
       "    .dataframe tbody tr th {\n",
       "        vertical-align: top;\n",
       "    }\n",
       "\n",
       "    .dataframe thead th {\n",
       "        text-align: right;\n",
       "    }\n",
       "</style>\n",
       "<table border=\"1\" class=\"dataframe\">\n",
       "  <thead>\n",
       "    <tr style=\"text-align: right;\">\n",
       "      <th></th>\n",
       "      <th>Topic</th>\n",
       "      <th>Count</th>\n",
       "      <th>Name</th>\n",
       "    </tr>\n",
       "  </thead>\n",
       "  <tbody>\n",
       "    <tr>\n",
       "      <th>0</th>\n",
       "      <td>-1</td>\n",
       "      <td>112</td>\n",
       "      <td>-1_and_to_the_it</td>\n",
       "    </tr>\n",
       "    <tr>\n",
       "      <th>1</th>\n",
       "      <td>0</td>\n",
       "      <td>80</td>\n",
       "      <td>0____</td>\n",
       "    </tr>\n",
       "    <tr>\n",
       "      <th>2</th>\n",
       "      <td>1</td>\n",
       "      <td>48</td>\n",
       "      <td>1_the_is_of_if</td>\n",
       "    </tr>\n",
       "    <tr>\n",
       "      <th>3</th>\n",
       "      <td>2</td>\n",
       "      <td>28</td>\n",
       "      <td>2_memory_the_is_in</td>\n",
       "    </tr>\n",
       "    <tr>\n",
       "      <th>4</th>\n",
       "      <td>3</td>\n",
       "      <td>18</td>\n",
       "      <td>3_turing_the_test_tm</td>\n",
       "    </tr>\n",
       "    <tr>\n",
       "      <th>5</th>\n",
       "      <td>4</td>\n",
       "      <td>17</td>\n",
       "      <td>4_key_password_hash_it</td>\n",
       "    </tr>\n",
       "    <tr>\n",
       "      <th>6</th>\n",
       "      <td>5</td>\n",
       "      <td>17</td>\n",
       "      <td>5_to_math_book_you</td>\n",
       "    </tr>\n",
       "    <tr>\n",
       "      <th>7</th>\n",
       "      <td>6</td>\n",
       "      <td>16</td>\n",
       "      <td>6_coding_to_learn_you</td>\n",
       "    </tr>\n",
       "    <tr>\n",
       "      <th>8</th>\n",
       "      <td>7</td>\n",
       "      <td>15</td>\n",
       "      <td>7_are_computer_science_posts</td>\n",
       "    </tr>\n",
       "    <tr>\n",
       "      <th>9</th>\n",
       "      <td>8</td>\n",
       "      <td>14</td>\n",
       "      <td>8_ip_server_ms_packet</td>\n",
       "    </tr>\n",
       "    <tr>\n",
       "      <th>10</th>\n",
       "      <td>9</td>\n",
       "      <td>10</td>\n",
       "      <td>9_stack_overflow_data_community</td>\n",
       "    </tr>\n",
       "    <tr>\n",
       "      <th>11</th>\n",
       "      <td>10</td>\n",
       "      <td>10</td>\n",
       "      <td>10_2520_250a_29_257d</td>\n",
       "    </tr>\n",
       "    <tr>\n",
       "      <th>12</th>\n",
       "      <td>11</td>\n",
       "      <td>10</td>\n",
       "      <td>11_science_computer_software_difference</td>\n",
       "    </tr>\n",
       "    <tr>\n",
       "      <th>13</th>\n",
       "      <td>12</td>\n",
       "      <td>10</td>\n",
       "      <td>12_language_languages_programming_concepts</td>\n",
       "    </tr>\n",
       "    <tr>\n",
       "      <th>14</th>\n",
       "      <td>13</td>\n",
       "      <td>9</td>\n",
       "      <td>13_algorithms_algorithm_research_to</td>\n",
       "    </tr>\n",
       "    <tr>\n",
       "      <th>16</th>\n",
       "      <td>14</td>\n",
       "      <td>8</td>\n",
       "      <td>14_bz_2abz_az_ab</td>\n",
       "    </tr>\n",
       "    <tr>\n",
       "      <th>15</th>\n",
       "      <td>15</td>\n",
       "      <td>8</td>\n",
       "      <td>15_the_it_is_system</td>\n",
       "    </tr>\n",
       "    <tr>\n",
       "      <th>17</th>\n",
       "      <td>16</td>\n",
       "      <td>7</td>\n",
       "      <td>16_int_image_traverse_team</td>\n",
       "    </tr>\n",
       "    <tr>\n",
       "      <th>18</th>\n",
       "      <td>17</td>\n",
       "      <td>7</td>\n",
       "      <td>17_planet_be_it_of</td>\n",
       "    </tr>\n",
       "    <tr>\n",
       "      <th>19</th>\n",
       "      <td>18</td>\n",
       "      <td>6</td>\n",
       "      <td>18_os_emulator_firmwares_overview</td>\n",
       "    </tr>\n",
       "    <tr>\n",
       "      <th>20</th>\n",
       "      <td>19</td>\n",
       "      <td>6</td>\n",
       "      <td>19_dump_answer_first_question</td>\n",
       "    </tr>\n",
       "    <tr>\n",
       "      <th>21</th>\n",
       "      <td>20</td>\n",
       "      <td>6</td>\n",
       "      <td>20_gradient_the_cluster_descent</td>\n",
       "    </tr>\n",
       "    <tr>\n",
       "      <th>22</th>\n",
       "      <td>21</td>\n",
       "      <td>4</td>\n",
       "      <td>21_raspberry_pi_cpus_on</td>\n",
       "    </tr>\n",
       "    <tr>\n",
       "      <th>23</th>\n",
       "      <td>22</td>\n",
       "      <td>4</td>\n",
       "      <td>22_computation_trees_tree_there</td>\n",
       "    </tr>\n",
       "    <tr>\n",
       "      <th>24</th>\n",
       "      <td>23</td>\n",
       "      <td>4</td>\n",
       "      <td>23_fibre_expand_we_so</td>\n",
       "    </tr>\n",
       "    <tr>\n",
       "      <th>25</th>\n",
       "      <td>24</td>\n",
       "      <td>4</td>\n",
       "      <td>24_statea_says_title_all</td>\n",
       "    </tr>\n",
       "    <tr>\n",
       "      <th>26</th>\n",
       "      <td>25</td>\n",
       "      <td>4</td>\n",
       "      <td>25_gates_state_circuits_input</td>\n",
       "    </tr>\n",
       "    <tr>\n",
       "      <th>27</th>\n",
       "      <td>26</td>\n",
       "      <td>4</td>\n",
       "      <td>26_source_have_both_to</td>\n",
       "    </tr>\n",
       "    <tr>\n",
       "      <th>28</th>\n",
       "      <td>27</td>\n",
       "      <td>3</td>\n",
       "      <td>27_matrix_svd_simpler_pieces</td>\n",
       "    </tr>\n",
       "    <tr>\n",
       "      <th>29</th>\n",
       "      <td>28</td>\n",
       "      <td>3</td>\n",
       "      <td>28_dont_mainly_software_interested</td>\n",
       "    </tr>\n",
       "  </tbody>\n",
       "</table>\n",
       "</div>"
      ],
      "text/plain": [
       "    Topic  Count                                        Name\n",
       "0      -1    112                            -1_and_to_the_it\n",
       "1       0     80                                       0____\n",
       "2       1     48                              1_the_is_of_if\n",
       "3       2     28                          2_memory_the_is_in\n",
       "4       3     18                        3_turing_the_test_tm\n",
       "5       4     17                      4_key_password_hash_it\n",
       "6       5     17                          5_to_math_book_you\n",
       "7       6     16                       6_coding_to_learn_you\n",
       "8       7     15                7_are_computer_science_posts\n",
       "9       8     14                       8_ip_server_ms_packet\n",
       "10      9     10             9_stack_overflow_data_community\n",
       "11     10     10                        10_2520_250a_29_257d\n",
       "12     11     10     11_science_computer_software_difference\n",
       "13     12     10  12_language_languages_programming_concepts\n",
       "14     13      9         13_algorithms_algorithm_research_to\n",
       "16     14      8                            14_bz_2abz_az_ab\n",
       "15     15      8                         15_the_it_is_system\n",
       "17     16      7                  16_int_image_traverse_team\n",
       "18     17      7                          17_planet_be_it_of\n",
       "19     18      6           18_os_emulator_firmwares_overview\n",
       "20     19      6               19_dump_answer_first_question\n",
       "21     20      6             20_gradient_the_cluster_descent\n",
       "22     21      4                     21_raspberry_pi_cpus_on\n",
       "23     22      4             22_computation_trees_tree_there\n",
       "24     23      4                       23_fibre_expand_we_so\n",
       "25     24      4                    24_statea_says_title_all\n",
       "26     25      4               25_gates_state_circuits_input\n",
       "27     26      4                      26_source_have_both_to\n",
       "28     27      3                27_matrix_svd_simpler_pieces\n",
       "29     28      3          28_dont_mainly_software_interested"
      ]
     },
     "execution_count": 278,
     "metadata": {},
     "output_type": "execute_result"
    }
   ],
   "source": [
    "#Get freq distb of topics\n",
    "freq = topic_model.get_topic_info()\n",
    "freq"
   ]
  },
  {
   "cell_type": "code",
   "execution_count": 279,
   "metadata": {},
   "outputs": [
    {
     "data": {
      "text/plain": [
       "[('the', 0.02800521712701248),\n",
       " ('is', 0.02485250928985895),\n",
       " ('of', 0.023200779292127337),\n",
       " ('if', 0.02274212790603),\n",
       " ('to', 0.021487791032515552),\n",
       " ('bill', 0.020204259347583187),\n",
       " ('case', 0.01856241900465138),\n",
       " ('that', 0.018054613305503495),\n",
       " ('ernie', 0.017810673372110022),\n",
       " ('tony', 0.017810673372110022)]"
      ]
     },
     "execution_count": 279,
     "metadata": {},
     "output_type": "execute_result"
    }
   ],
   "source": [
    "topic_nr = freq.iloc[2][\"Topic\"]\n",
    "topic_model.get_topic(topic_nr)"
   ]
  },
  {
   "cell_type": "code",
   "execution_count": 280,
   "metadata": {},
   "outputs": [
    {
     "data": {
      "application/vnd.plotly.v1+json": {
       "config": {
        "plotlyServerURL": "https://plot.ly"
       },
       "data": [
        {
         "customdata": [
          [
           0,
           " |  |  |  | ",
           80
          ],
          [
           1,
           "the | is | of | if | to",
           48
          ],
          [
           2,
           "memory | the | is | in | data",
           28
          ],
          [
           3,
           "turing | the | test | tm | of",
           18
          ],
          [
           4,
           "key | password | hash | it | the",
           17
          ],
          [
           5,
           "to | math | book | you | and",
           17
          ],
          [
           6,
           "coding | to | learn | you | people",
           16
          ],
          [
           7,
           "are | computer | science | posts | those",
           15
          ],
          [
           8,
           "ip | server | ms | packet | destination",
           14
          ],
          [
           9,
           "stack | overflow | data | community | and",
           10
          ],
          [
           10,
           "2520 | 250a | 29 | 257d | 257b",
           10
          ],
          [
           11,
           "science | computer | software | difference | industry",
           10
          ],
          [
           12,
           "language | languages | programming | concepts | python",
           10
          ],
          [
           13,
           "algorithms | algorithm | research | to | in",
           9
          ],
          [
           14,
           "bz | 2abz | az | ab | 2cd",
           8
          ],
          [
           15,
           "the | it | is | system | cpu",
           8
          ],
          [
           16,
           "int | image | traverse | team | visited",
           7
          ],
          [
           17,
           "planet | be | it | of | the",
           7
          ],
          [
           18,
           "os | emulator | firmwares | overview | dirty",
           6
          ],
          [
           19,
           "dump | answer | first | question | my",
           6
          ],
          [
           20,
           "gradient | the | cluster | descent | direction",
           6
          ],
          [
           21,
           "raspberry | pi | cpus | on | demand",
           4
          ],
          [
           22,
           "computation | trees | tree | there | topic",
           4
          ],
          [
           23,
           "fibre | expand | we | so | could",
           4
          ],
          [
           24,
           "statea | says | title | all | it",
           4
          ],
          [
           25,
           "gates | state | circuits | input | circuit",
           4
          ],
          [
           26,
           "source | have | both | to | future",
           4
          ],
          [
           27,
           "matrix | svd | simpler | pieces | decomposition",
           3
          ],
          [
           28,
           "dont | mainly | software | interested | anything",
           3
          ]
         ],
         "hovertemplate": "<b>Topic %{customdata[0]}</b><br>Words: %{customdata[1]}<br>Size: %{customdata[2]}",
         "legendgroup": "",
         "marker": {
          "color": "#B0BEC5",
          "line": {
           "color": "DarkSlateGrey",
           "width": 2
          },
          "size": [
           80,
           48,
           28,
           18,
           17,
           17,
           16,
           15,
           14,
           10,
           10,
           10,
           10,
           9,
           8,
           8,
           7,
           7,
           6,
           6,
           6,
           4,
           4,
           4,
           4,
           4,
           4,
           3,
           3
          ],
          "sizemode": "area",
          "sizeref": 0.05,
          "symbol": "circle"
         },
         "mode": "markers",
         "name": "",
         "orientation": "v",
         "showlegend": false,
         "type": "scatter",
         "x": [
          null,
          1.8184906244277954,
          1.9157018661499023,
          6.178870677947998,
          1.993294596672058,
          5.325093746185303,
          5.245549201965332,
          5.540647983551025,
          2.2093896865844727,
          6.427199840545654,
          7.516688823699951,
          6.553568363189697,
          1.5696340799331665,
          6.555420875549316,
          7.495145320892334,
          1.1595333814620972,
          4.858843803405762,
          1.6663142442703247,
          6.317140102386475,
          5.966763496398926,
          -7.552313804626465,
          2.1387641429901123,
          7.157547473907471,
          1.7827565670013428,
          0.9857377409934998,
          7.197548866271973,
          1.896321177482605,
          -7.641238212585449,
          7.317554473876953
         ],
         "xaxis": "x",
         "y": [
          null,
          6.124508380889893,
          5.872456073760986,
          0.9009472727775574,
          5.341028213500977,
          4.622622966766357,
          4.220766544342041,
          4.9578857421875,
          5.428216934204102,
          2.0158848762512207,
          1.6573811769485474,
          2.1862335205078125,
          4.352076053619385,
          1.3808398246765137,
          2.082209587097168,
          4.13718843460083,
          4.659663200378418,
          4.45098352432251,
          1.4011725187301636,
          1.6576871871948242,
          -3.19506573677063,
          3.4144856929779053,
          0.36703863739967346,
          3.2609288692474365,
          3.903388500213623,
          1.62534761428833,
          3.549943685531616,
          -3.2839648723602295,
          0.20265546441078186
         ],
         "yaxis": "y"
        }
       ],
       "layout": {
        "annotations": [
         {
          "showarrow": false,
          "text": "D1",
          "x": -8.787423944473266,
          "y": 1.6333125174045562,
          "yshift": 10
         },
         {
          "showarrow": false,
          "text": "D2",
          "x": -0.07161589860916084,
          "xshift": 10,
          "y": 7.0431846380233765
         }
        ],
        "height": 650,
        "hoverlabel": {
         "bgcolor": "white",
         "font": {
          "family": "Rockwell",
          "size": 16
         }
        },
        "legend": {
         "itemsizing": "constant",
         "tracegroupgap": 0
        },
        "margin": {
         "t": 60
        },
        "shapes": [
         {
          "line": {
           "color": "#CFD8DC",
           "width": 2
          },
          "type": "line",
          "x0": -0.07161589860916084,
          "x1": -0.07161589860916084,
          "y0": -3.776559603214264,
          "y1": 7.0431846380233765
         },
         {
          "line": {
           "color": "#9E9E9E",
           "width": 2
          },
          "type": "line",
          "x0": -8.787423944473266,
          "x1": 8.644192147254945,
          "y0": 1.6333125174045562,
          "y1": 1.6333125174045562
         }
        ],
        "sliders": [
         {
          "active": 0,
          "pad": {
           "t": 50
          },
          "steps": [
           {
            "args": [
             {
              "marker.color": [
               [
                "red",
                "#B0BEC5",
                "#B0BEC5",
                "#B0BEC5",
                "#B0BEC5",
                "#B0BEC5",
                "#B0BEC5",
                "#B0BEC5",
                "#B0BEC5",
                "#B0BEC5",
                "#B0BEC5",
                "#B0BEC5",
                "#B0BEC5",
                "#B0BEC5",
                "#B0BEC5",
                "#B0BEC5",
                "#B0BEC5",
                "#B0BEC5",
                "#B0BEC5",
                "#B0BEC5",
                "#B0BEC5",
                "#B0BEC5",
                "#B0BEC5",
                "#B0BEC5",
                "#B0BEC5",
                "#B0BEC5",
                "#B0BEC5",
                "#B0BEC5",
                "#B0BEC5"
               ]
              ]
             }
            ],
            "label": "Topic 0",
            "method": "update"
           },
           {
            "args": [
             {
              "marker.color": [
               [
                "#B0BEC5",
                "red",
                "#B0BEC5",
                "#B0BEC5",
                "#B0BEC5",
                "#B0BEC5",
                "#B0BEC5",
                "#B0BEC5",
                "#B0BEC5",
                "#B0BEC5",
                "#B0BEC5",
                "#B0BEC5",
                "#B0BEC5",
                "#B0BEC5",
                "#B0BEC5",
                "#B0BEC5",
                "#B0BEC5",
                "#B0BEC5",
                "#B0BEC5",
                "#B0BEC5",
                "#B0BEC5",
                "#B0BEC5",
                "#B0BEC5",
                "#B0BEC5",
                "#B0BEC5",
                "#B0BEC5",
                "#B0BEC5",
                "#B0BEC5",
                "#B0BEC5"
               ]
              ]
             }
            ],
            "label": "Topic 1",
            "method": "update"
           },
           {
            "args": [
             {
              "marker.color": [
               [
                "#B0BEC5",
                "#B0BEC5",
                "red",
                "#B0BEC5",
                "#B0BEC5",
                "#B0BEC5",
                "#B0BEC5",
                "#B0BEC5",
                "#B0BEC5",
                "#B0BEC5",
                "#B0BEC5",
                "#B0BEC5",
                "#B0BEC5",
                "#B0BEC5",
                "#B0BEC5",
                "#B0BEC5",
                "#B0BEC5",
                "#B0BEC5",
                "#B0BEC5",
                "#B0BEC5",
                "#B0BEC5",
                "#B0BEC5",
                "#B0BEC5",
                "#B0BEC5",
                "#B0BEC5",
                "#B0BEC5",
                "#B0BEC5",
                "#B0BEC5",
                "#B0BEC5"
               ]
              ]
             }
            ],
            "label": "Topic 2",
            "method": "update"
           },
           {
            "args": [
             {
              "marker.color": [
               [
                "#B0BEC5",
                "#B0BEC5",
                "#B0BEC5",
                "red",
                "#B0BEC5",
                "#B0BEC5",
                "#B0BEC5",
                "#B0BEC5",
                "#B0BEC5",
                "#B0BEC5",
                "#B0BEC5",
                "#B0BEC5",
                "#B0BEC5",
                "#B0BEC5",
                "#B0BEC5",
                "#B0BEC5",
                "#B0BEC5",
                "#B0BEC5",
                "#B0BEC5",
                "#B0BEC5",
                "#B0BEC5",
                "#B0BEC5",
                "#B0BEC5",
                "#B0BEC5",
                "#B0BEC5",
                "#B0BEC5",
                "#B0BEC5",
                "#B0BEC5",
                "#B0BEC5"
               ]
              ]
             }
            ],
            "label": "Topic 3",
            "method": "update"
           },
           {
            "args": [
             {
              "marker.color": [
               [
                "#B0BEC5",
                "#B0BEC5",
                "#B0BEC5",
                "#B0BEC5",
                "red",
                "#B0BEC5",
                "#B0BEC5",
                "#B0BEC5",
                "#B0BEC5",
                "#B0BEC5",
                "#B0BEC5",
                "#B0BEC5",
                "#B0BEC5",
                "#B0BEC5",
                "#B0BEC5",
                "#B0BEC5",
                "#B0BEC5",
                "#B0BEC5",
                "#B0BEC5",
                "#B0BEC5",
                "#B0BEC5",
                "#B0BEC5",
                "#B0BEC5",
                "#B0BEC5",
                "#B0BEC5",
                "#B0BEC5",
                "#B0BEC5",
                "#B0BEC5",
                "#B0BEC5"
               ]
              ]
             }
            ],
            "label": "Topic 4",
            "method": "update"
           },
           {
            "args": [
             {
              "marker.color": [
               [
                "#B0BEC5",
                "#B0BEC5",
                "#B0BEC5",
                "#B0BEC5",
                "#B0BEC5",
                "red",
                "#B0BEC5",
                "#B0BEC5",
                "#B0BEC5",
                "#B0BEC5",
                "#B0BEC5",
                "#B0BEC5",
                "#B0BEC5",
                "#B0BEC5",
                "#B0BEC5",
                "#B0BEC5",
                "#B0BEC5",
                "#B0BEC5",
                "#B0BEC5",
                "#B0BEC5",
                "#B0BEC5",
                "#B0BEC5",
                "#B0BEC5",
                "#B0BEC5",
                "#B0BEC5",
                "#B0BEC5",
                "#B0BEC5",
                "#B0BEC5",
                "#B0BEC5"
               ]
              ]
             }
            ],
            "label": "Topic 5",
            "method": "update"
           },
           {
            "args": [
             {
              "marker.color": [
               [
                "#B0BEC5",
                "#B0BEC5",
                "#B0BEC5",
                "#B0BEC5",
                "#B0BEC5",
                "#B0BEC5",
                "red",
                "#B0BEC5",
                "#B0BEC5",
                "#B0BEC5",
                "#B0BEC5",
                "#B0BEC5",
                "#B0BEC5",
                "#B0BEC5",
                "#B0BEC5",
                "#B0BEC5",
                "#B0BEC5",
                "#B0BEC5",
                "#B0BEC5",
                "#B0BEC5",
                "#B0BEC5",
                "#B0BEC5",
                "#B0BEC5",
                "#B0BEC5",
                "#B0BEC5",
                "#B0BEC5",
                "#B0BEC5",
                "#B0BEC5",
                "#B0BEC5"
               ]
              ]
             }
            ],
            "label": "Topic 6",
            "method": "update"
           },
           {
            "args": [
             {
              "marker.color": [
               [
                "#B0BEC5",
                "#B0BEC5",
                "#B0BEC5",
                "#B0BEC5",
                "#B0BEC5",
                "#B0BEC5",
                "#B0BEC5",
                "red",
                "#B0BEC5",
                "#B0BEC5",
                "#B0BEC5",
                "#B0BEC5",
                "#B0BEC5",
                "#B0BEC5",
                "#B0BEC5",
                "#B0BEC5",
                "#B0BEC5",
                "#B0BEC5",
                "#B0BEC5",
                "#B0BEC5",
                "#B0BEC5",
                "#B0BEC5",
                "#B0BEC5",
                "#B0BEC5",
                "#B0BEC5",
                "#B0BEC5",
                "#B0BEC5",
                "#B0BEC5",
                "#B0BEC5"
               ]
              ]
             }
            ],
            "label": "Topic 7",
            "method": "update"
           },
           {
            "args": [
             {
              "marker.color": [
               [
                "#B0BEC5",
                "#B0BEC5",
                "#B0BEC5",
                "#B0BEC5",
                "#B0BEC5",
                "#B0BEC5",
                "#B0BEC5",
                "#B0BEC5",
                "red",
                "#B0BEC5",
                "#B0BEC5",
                "#B0BEC5",
                "#B0BEC5",
                "#B0BEC5",
                "#B0BEC5",
                "#B0BEC5",
                "#B0BEC5",
                "#B0BEC5",
                "#B0BEC5",
                "#B0BEC5",
                "#B0BEC5",
                "#B0BEC5",
                "#B0BEC5",
                "#B0BEC5",
                "#B0BEC5",
                "#B0BEC5",
                "#B0BEC5",
                "#B0BEC5",
                "#B0BEC5"
               ]
              ]
             }
            ],
            "label": "Topic 8",
            "method": "update"
           },
           {
            "args": [
             {
              "marker.color": [
               [
                "#B0BEC5",
                "#B0BEC5",
                "#B0BEC5",
                "#B0BEC5",
                "#B0BEC5",
                "#B0BEC5",
                "#B0BEC5",
                "#B0BEC5",
                "#B0BEC5",
                "red",
                "#B0BEC5",
                "#B0BEC5",
                "#B0BEC5",
                "#B0BEC5",
                "#B0BEC5",
                "#B0BEC5",
                "#B0BEC5",
                "#B0BEC5",
                "#B0BEC5",
                "#B0BEC5",
                "#B0BEC5",
                "#B0BEC5",
                "#B0BEC5",
                "#B0BEC5",
                "#B0BEC5",
                "#B0BEC5",
                "#B0BEC5",
                "#B0BEC5",
                "#B0BEC5"
               ]
              ]
             }
            ],
            "label": "Topic 9",
            "method": "update"
           },
           {
            "args": [
             {
              "marker.color": [
               [
                "#B0BEC5",
                "#B0BEC5",
                "#B0BEC5",
                "#B0BEC5",
                "#B0BEC5",
                "#B0BEC5",
                "#B0BEC5",
                "#B0BEC5",
                "#B0BEC5",
                "#B0BEC5",
                "red",
                "#B0BEC5",
                "#B0BEC5",
                "#B0BEC5",
                "#B0BEC5",
                "#B0BEC5",
                "#B0BEC5",
                "#B0BEC5",
                "#B0BEC5",
                "#B0BEC5",
                "#B0BEC5",
                "#B0BEC5",
                "#B0BEC5",
                "#B0BEC5",
                "#B0BEC5",
                "#B0BEC5",
                "#B0BEC5",
                "#B0BEC5",
                "#B0BEC5"
               ]
              ]
             }
            ],
            "label": "Topic 10",
            "method": "update"
           },
           {
            "args": [
             {
              "marker.color": [
               [
                "#B0BEC5",
                "#B0BEC5",
                "#B0BEC5",
                "#B0BEC5",
                "#B0BEC5",
                "#B0BEC5",
                "#B0BEC5",
                "#B0BEC5",
                "#B0BEC5",
                "#B0BEC5",
                "#B0BEC5",
                "red",
                "#B0BEC5",
                "#B0BEC5",
                "#B0BEC5",
                "#B0BEC5",
                "#B0BEC5",
                "#B0BEC5",
                "#B0BEC5",
                "#B0BEC5",
                "#B0BEC5",
                "#B0BEC5",
                "#B0BEC5",
                "#B0BEC5",
                "#B0BEC5",
                "#B0BEC5",
                "#B0BEC5",
                "#B0BEC5",
                "#B0BEC5"
               ]
              ]
             }
            ],
            "label": "Topic 11",
            "method": "update"
           },
           {
            "args": [
             {
              "marker.color": [
               [
                "#B0BEC5",
                "#B0BEC5",
                "#B0BEC5",
                "#B0BEC5",
                "#B0BEC5",
                "#B0BEC5",
                "#B0BEC5",
                "#B0BEC5",
                "#B0BEC5",
                "#B0BEC5",
                "#B0BEC5",
                "#B0BEC5",
                "red",
                "#B0BEC5",
                "#B0BEC5",
                "#B0BEC5",
                "#B0BEC5",
                "#B0BEC5",
                "#B0BEC5",
                "#B0BEC5",
                "#B0BEC5",
                "#B0BEC5",
                "#B0BEC5",
                "#B0BEC5",
                "#B0BEC5",
                "#B0BEC5",
                "#B0BEC5",
                "#B0BEC5",
                "#B0BEC5"
               ]
              ]
             }
            ],
            "label": "Topic 12",
            "method": "update"
           },
           {
            "args": [
             {
              "marker.color": [
               [
                "#B0BEC5",
                "#B0BEC5",
                "#B0BEC5",
                "#B0BEC5",
                "#B0BEC5",
                "#B0BEC5",
                "#B0BEC5",
                "#B0BEC5",
                "#B0BEC5",
                "#B0BEC5",
                "#B0BEC5",
                "#B0BEC5",
                "#B0BEC5",
                "red",
                "#B0BEC5",
                "#B0BEC5",
                "#B0BEC5",
                "#B0BEC5",
                "#B0BEC5",
                "#B0BEC5",
                "#B0BEC5",
                "#B0BEC5",
                "#B0BEC5",
                "#B0BEC5",
                "#B0BEC5",
                "#B0BEC5",
                "#B0BEC5",
                "#B0BEC5",
                "#B0BEC5"
               ]
              ]
             }
            ],
            "label": "Topic 13",
            "method": "update"
           },
           {
            "args": [
             {
              "marker.color": [
               [
                "#B0BEC5",
                "#B0BEC5",
                "#B0BEC5",
                "#B0BEC5",
                "#B0BEC5",
                "#B0BEC5",
                "#B0BEC5",
                "#B0BEC5",
                "#B0BEC5",
                "#B0BEC5",
                "#B0BEC5",
                "#B0BEC5",
                "#B0BEC5",
                "#B0BEC5",
                "red",
                "#B0BEC5",
                "#B0BEC5",
                "#B0BEC5",
                "#B0BEC5",
                "#B0BEC5",
                "#B0BEC5",
                "#B0BEC5",
                "#B0BEC5",
                "#B0BEC5",
                "#B0BEC5",
                "#B0BEC5",
                "#B0BEC5",
                "#B0BEC5",
                "#B0BEC5"
               ]
              ]
             }
            ],
            "label": "Topic 14",
            "method": "update"
           },
           {
            "args": [
             {
              "marker.color": [
               [
                "#B0BEC5",
                "#B0BEC5",
                "#B0BEC5",
                "#B0BEC5",
                "#B0BEC5",
                "#B0BEC5",
                "#B0BEC5",
                "#B0BEC5",
                "#B0BEC5",
                "#B0BEC5",
                "#B0BEC5",
                "#B0BEC5",
                "#B0BEC5",
                "#B0BEC5",
                "#B0BEC5",
                "red",
                "#B0BEC5",
                "#B0BEC5",
                "#B0BEC5",
                "#B0BEC5",
                "#B0BEC5",
                "#B0BEC5",
                "#B0BEC5",
                "#B0BEC5",
                "#B0BEC5",
                "#B0BEC5",
                "#B0BEC5",
                "#B0BEC5",
                "#B0BEC5"
               ]
              ]
             }
            ],
            "label": "Topic 15",
            "method": "update"
           },
           {
            "args": [
             {
              "marker.color": [
               [
                "#B0BEC5",
                "#B0BEC5",
                "#B0BEC5",
                "#B0BEC5",
                "#B0BEC5",
                "#B0BEC5",
                "#B0BEC5",
                "#B0BEC5",
                "#B0BEC5",
                "#B0BEC5",
                "#B0BEC5",
                "#B0BEC5",
                "#B0BEC5",
                "#B0BEC5",
                "#B0BEC5",
                "#B0BEC5",
                "red",
                "#B0BEC5",
                "#B0BEC5",
                "#B0BEC5",
                "#B0BEC5",
                "#B0BEC5",
                "#B0BEC5",
                "#B0BEC5",
                "#B0BEC5",
                "#B0BEC5",
                "#B0BEC5",
                "#B0BEC5",
                "#B0BEC5"
               ]
              ]
             }
            ],
            "label": "Topic 16",
            "method": "update"
           },
           {
            "args": [
             {
              "marker.color": [
               [
                "#B0BEC5",
                "#B0BEC5",
                "#B0BEC5",
                "#B0BEC5",
                "#B0BEC5",
                "#B0BEC5",
                "#B0BEC5",
                "#B0BEC5",
                "#B0BEC5",
                "#B0BEC5",
                "#B0BEC5",
                "#B0BEC5",
                "#B0BEC5",
                "#B0BEC5",
                "#B0BEC5",
                "#B0BEC5",
                "#B0BEC5",
                "red",
                "#B0BEC5",
                "#B0BEC5",
                "#B0BEC5",
                "#B0BEC5",
                "#B0BEC5",
                "#B0BEC5",
                "#B0BEC5",
                "#B0BEC5",
                "#B0BEC5",
                "#B0BEC5",
                "#B0BEC5"
               ]
              ]
             }
            ],
            "label": "Topic 17",
            "method": "update"
           },
           {
            "args": [
             {
              "marker.color": [
               [
                "#B0BEC5",
                "#B0BEC5",
                "#B0BEC5",
                "#B0BEC5",
                "#B0BEC5",
                "#B0BEC5",
                "#B0BEC5",
                "#B0BEC5",
                "#B0BEC5",
                "#B0BEC5",
                "#B0BEC5",
                "#B0BEC5",
                "#B0BEC5",
                "#B0BEC5",
                "#B0BEC5",
                "#B0BEC5",
                "#B0BEC5",
                "#B0BEC5",
                "red",
                "#B0BEC5",
                "#B0BEC5",
                "#B0BEC5",
                "#B0BEC5",
                "#B0BEC5",
                "#B0BEC5",
                "#B0BEC5",
                "#B0BEC5",
                "#B0BEC5",
                "#B0BEC5"
               ]
              ]
             }
            ],
            "label": "Topic 18",
            "method": "update"
           },
           {
            "args": [
             {
              "marker.color": [
               [
                "#B0BEC5",
                "#B0BEC5",
                "#B0BEC5",
                "#B0BEC5",
                "#B0BEC5",
                "#B0BEC5",
                "#B0BEC5",
                "#B0BEC5",
                "#B0BEC5",
                "#B0BEC5",
                "#B0BEC5",
                "#B0BEC5",
                "#B0BEC5",
                "#B0BEC5",
                "#B0BEC5",
                "#B0BEC5",
                "#B0BEC5",
                "#B0BEC5",
                "#B0BEC5",
                "red",
                "#B0BEC5",
                "#B0BEC5",
                "#B0BEC5",
                "#B0BEC5",
                "#B0BEC5",
                "#B0BEC5",
                "#B0BEC5",
                "#B0BEC5",
                "#B0BEC5"
               ]
              ]
             }
            ],
            "label": "Topic 19",
            "method": "update"
           },
           {
            "args": [
             {
              "marker.color": [
               [
                "#B0BEC5",
                "#B0BEC5",
                "#B0BEC5",
                "#B0BEC5",
                "#B0BEC5",
                "#B0BEC5",
                "#B0BEC5",
                "#B0BEC5",
                "#B0BEC5",
                "#B0BEC5",
                "#B0BEC5",
                "#B0BEC5",
                "#B0BEC5",
                "#B0BEC5",
                "#B0BEC5",
                "#B0BEC5",
                "#B0BEC5",
                "#B0BEC5",
                "#B0BEC5",
                "#B0BEC5",
                "red",
                "#B0BEC5",
                "#B0BEC5",
                "#B0BEC5",
                "#B0BEC5",
                "#B0BEC5",
                "#B0BEC5",
                "#B0BEC5",
                "#B0BEC5"
               ]
              ]
             }
            ],
            "label": "Topic 20",
            "method": "update"
           },
           {
            "args": [
             {
              "marker.color": [
               [
                "#B0BEC5",
                "#B0BEC5",
                "#B0BEC5",
                "#B0BEC5",
                "#B0BEC5",
                "#B0BEC5",
                "#B0BEC5",
                "#B0BEC5",
                "#B0BEC5",
                "#B0BEC5",
                "#B0BEC5",
                "#B0BEC5",
                "#B0BEC5",
                "#B0BEC5",
                "#B0BEC5",
                "#B0BEC5",
                "#B0BEC5",
                "#B0BEC5",
                "#B0BEC5",
                "#B0BEC5",
                "#B0BEC5",
                "red",
                "#B0BEC5",
                "#B0BEC5",
                "#B0BEC5",
                "#B0BEC5",
                "#B0BEC5",
                "#B0BEC5",
                "#B0BEC5"
               ]
              ]
             }
            ],
            "label": "Topic 21",
            "method": "update"
           },
           {
            "args": [
             {
              "marker.color": [
               [
                "#B0BEC5",
                "#B0BEC5",
                "#B0BEC5",
                "#B0BEC5",
                "#B0BEC5",
                "#B0BEC5",
                "#B0BEC5",
                "#B0BEC5",
                "#B0BEC5",
                "#B0BEC5",
                "#B0BEC5",
                "#B0BEC5",
                "#B0BEC5",
                "#B0BEC5",
                "#B0BEC5",
                "#B0BEC5",
                "#B0BEC5",
                "#B0BEC5",
                "#B0BEC5",
                "#B0BEC5",
                "#B0BEC5",
                "#B0BEC5",
                "red",
                "#B0BEC5",
                "#B0BEC5",
                "#B0BEC5",
                "#B0BEC5",
                "#B0BEC5",
                "#B0BEC5"
               ]
              ]
             }
            ],
            "label": "Topic 22",
            "method": "update"
           },
           {
            "args": [
             {
              "marker.color": [
               [
                "#B0BEC5",
                "#B0BEC5",
                "#B0BEC5",
                "#B0BEC5",
                "#B0BEC5",
                "#B0BEC5",
                "#B0BEC5",
                "#B0BEC5",
                "#B0BEC5",
                "#B0BEC5",
                "#B0BEC5",
                "#B0BEC5",
                "#B0BEC5",
                "#B0BEC5",
                "#B0BEC5",
                "#B0BEC5",
                "#B0BEC5",
                "#B0BEC5",
                "#B0BEC5",
                "#B0BEC5",
                "#B0BEC5",
                "#B0BEC5",
                "#B0BEC5",
                "red",
                "#B0BEC5",
                "#B0BEC5",
                "#B0BEC5",
                "#B0BEC5",
                "#B0BEC5"
               ]
              ]
             }
            ],
            "label": "Topic 23",
            "method": "update"
           },
           {
            "args": [
             {
              "marker.color": [
               [
                "#B0BEC5",
                "#B0BEC5",
                "#B0BEC5",
                "#B0BEC5",
                "#B0BEC5",
                "#B0BEC5",
                "#B0BEC5",
                "#B0BEC5",
                "#B0BEC5",
                "#B0BEC5",
                "#B0BEC5",
                "#B0BEC5",
                "#B0BEC5",
                "#B0BEC5",
                "#B0BEC5",
                "#B0BEC5",
                "#B0BEC5",
                "#B0BEC5",
                "#B0BEC5",
                "#B0BEC5",
                "#B0BEC5",
                "#B0BEC5",
                "#B0BEC5",
                "#B0BEC5",
                "red",
                "#B0BEC5",
                "#B0BEC5",
                "#B0BEC5",
                "#B0BEC5"
               ]
              ]
             }
            ],
            "label": "Topic 24",
            "method": "update"
           },
           {
            "args": [
             {
              "marker.color": [
               [
                "#B0BEC5",
                "#B0BEC5",
                "#B0BEC5",
                "#B0BEC5",
                "#B0BEC5",
                "#B0BEC5",
                "#B0BEC5",
                "#B0BEC5",
                "#B0BEC5",
                "#B0BEC5",
                "#B0BEC5",
                "#B0BEC5",
                "#B0BEC5",
                "#B0BEC5",
                "#B0BEC5",
                "#B0BEC5",
                "#B0BEC5",
                "#B0BEC5",
                "#B0BEC5",
                "#B0BEC5",
                "#B0BEC5",
                "#B0BEC5",
                "#B0BEC5",
                "#B0BEC5",
                "#B0BEC5",
                "red",
                "#B0BEC5",
                "#B0BEC5",
                "#B0BEC5"
               ]
              ]
             }
            ],
            "label": "Topic 25",
            "method": "update"
           },
           {
            "args": [
             {
              "marker.color": [
               [
                "#B0BEC5",
                "#B0BEC5",
                "#B0BEC5",
                "#B0BEC5",
                "#B0BEC5",
                "#B0BEC5",
                "#B0BEC5",
                "#B0BEC5",
                "#B0BEC5",
                "#B0BEC5",
                "#B0BEC5",
                "#B0BEC5",
                "#B0BEC5",
                "#B0BEC5",
                "#B0BEC5",
                "#B0BEC5",
                "#B0BEC5",
                "#B0BEC5",
                "#B0BEC5",
                "#B0BEC5",
                "#B0BEC5",
                "#B0BEC5",
                "#B0BEC5",
                "#B0BEC5",
                "#B0BEC5",
                "#B0BEC5",
                "red",
                "#B0BEC5",
                "#B0BEC5"
               ]
              ]
             }
            ],
            "label": "Topic 26",
            "method": "update"
           },
           {
            "args": [
             {
              "marker.color": [
               [
                "#B0BEC5",
                "#B0BEC5",
                "#B0BEC5",
                "#B0BEC5",
                "#B0BEC5",
                "#B0BEC5",
                "#B0BEC5",
                "#B0BEC5",
                "#B0BEC5",
                "#B0BEC5",
                "#B0BEC5",
                "#B0BEC5",
                "#B0BEC5",
                "#B0BEC5",
                "#B0BEC5",
                "#B0BEC5",
                "#B0BEC5",
                "#B0BEC5",
                "#B0BEC5",
                "#B0BEC5",
                "#B0BEC5",
                "#B0BEC5",
                "#B0BEC5",
                "#B0BEC5",
                "#B0BEC5",
                "#B0BEC5",
                "#B0BEC5",
                "red",
                "#B0BEC5"
               ]
              ]
             }
            ],
            "label": "Topic 27",
            "method": "update"
           },
           {
            "args": [
             {
              "marker.color": [
               [
                "#B0BEC5",
                "#B0BEC5",
                "#B0BEC5",
                "#B0BEC5",
                "#B0BEC5",
                "#B0BEC5",
                "#B0BEC5",
                "#B0BEC5",
                "#B0BEC5",
                "#B0BEC5",
                "#B0BEC5",
                "#B0BEC5",
                "#B0BEC5",
                "#B0BEC5",
                "#B0BEC5",
                "#B0BEC5",
                "#B0BEC5",
                "#B0BEC5",
                "#B0BEC5",
                "#B0BEC5",
                "#B0BEC5",
                "#B0BEC5",
                "#B0BEC5",
                "#B0BEC5",
                "#B0BEC5",
                "#B0BEC5",
                "#B0BEC5",
                "#B0BEC5",
                "red"
               ]
              ]
             }
            ],
            "label": "Topic 28",
            "method": "update"
           }
          ]
         }
        ],
        "template": {
         "data": {
          "bar": [
           {
            "error_x": {
             "color": "rgb(36,36,36)"
            },
            "error_y": {
             "color": "rgb(36,36,36)"
            },
            "marker": {
             "line": {
              "color": "white",
              "width": 0.5
             },
             "pattern": {
              "fillmode": "overlay",
              "size": 10,
              "solidity": 0.2
             }
            },
            "type": "bar"
           }
          ],
          "barpolar": [
           {
            "marker": {
             "line": {
              "color": "white",
              "width": 0.5
             },
             "pattern": {
              "fillmode": "overlay",
              "size": 10,
              "solidity": 0.2
             }
            },
            "type": "barpolar"
           }
          ],
          "carpet": [
           {
            "aaxis": {
             "endlinecolor": "rgb(36,36,36)",
             "gridcolor": "white",
             "linecolor": "white",
             "minorgridcolor": "white",
             "startlinecolor": "rgb(36,36,36)"
            },
            "baxis": {
             "endlinecolor": "rgb(36,36,36)",
             "gridcolor": "white",
             "linecolor": "white",
             "minorgridcolor": "white",
             "startlinecolor": "rgb(36,36,36)"
            },
            "type": "carpet"
           }
          ],
          "choropleth": [
           {
            "colorbar": {
             "outlinewidth": 1,
             "tickcolor": "rgb(36,36,36)",
             "ticks": "outside"
            },
            "type": "choropleth"
           }
          ],
          "contour": [
           {
            "colorbar": {
             "outlinewidth": 1,
             "tickcolor": "rgb(36,36,36)",
             "ticks": "outside"
            },
            "colorscale": [
             [
              0,
              "#440154"
             ],
             [
              0.1111111111111111,
              "#482878"
             ],
             [
              0.2222222222222222,
              "#3e4989"
             ],
             [
              0.3333333333333333,
              "#31688e"
             ],
             [
              0.4444444444444444,
              "#26828e"
             ],
             [
              0.5555555555555556,
              "#1f9e89"
             ],
             [
              0.6666666666666666,
              "#35b779"
             ],
             [
              0.7777777777777778,
              "#6ece58"
             ],
             [
              0.8888888888888888,
              "#b5de2b"
             ],
             [
              1,
              "#fde725"
             ]
            ],
            "type": "contour"
           }
          ],
          "contourcarpet": [
           {
            "colorbar": {
             "outlinewidth": 1,
             "tickcolor": "rgb(36,36,36)",
             "ticks": "outside"
            },
            "type": "contourcarpet"
           }
          ],
          "heatmap": [
           {
            "colorbar": {
             "outlinewidth": 1,
             "tickcolor": "rgb(36,36,36)",
             "ticks": "outside"
            },
            "colorscale": [
             [
              0,
              "#440154"
             ],
             [
              0.1111111111111111,
              "#482878"
             ],
             [
              0.2222222222222222,
              "#3e4989"
             ],
             [
              0.3333333333333333,
              "#31688e"
             ],
             [
              0.4444444444444444,
              "#26828e"
             ],
             [
              0.5555555555555556,
              "#1f9e89"
             ],
             [
              0.6666666666666666,
              "#35b779"
             ],
             [
              0.7777777777777778,
              "#6ece58"
             ],
             [
              0.8888888888888888,
              "#b5de2b"
             ],
             [
              1,
              "#fde725"
             ]
            ],
            "type": "heatmap"
           }
          ],
          "heatmapgl": [
           {
            "colorbar": {
             "outlinewidth": 1,
             "tickcolor": "rgb(36,36,36)",
             "ticks": "outside"
            },
            "colorscale": [
             [
              0,
              "#440154"
             ],
             [
              0.1111111111111111,
              "#482878"
             ],
             [
              0.2222222222222222,
              "#3e4989"
             ],
             [
              0.3333333333333333,
              "#31688e"
             ],
             [
              0.4444444444444444,
              "#26828e"
             ],
             [
              0.5555555555555556,
              "#1f9e89"
             ],
             [
              0.6666666666666666,
              "#35b779"
             ],
             [
              0.7777777777777778,
              "#6ece58"
             ],
             [
              0.8888888888888888,
              "#b5de2b"
             ],
             [
              1,
              "#fde725"
             ]
            ],
            "type": "heatmapgl"
           }
          ],
          "histogram": [
           {
            "marker": {
             "line": {
              "color": "white",
              "width": 0.6
             }
            },
            "type": "histogram"
           }
          ],
          "histogram2d": [
           {
            "colorbar": {
             "outlinewidth": 1,
             "tickcolor": "rgb(36,36,36)",
             "ticks": "outside"
            },
            "colorscale": [
             [
              0,
              "#440154"
             ],
             [
              0.1111111111111111,
              "#482878"
             ],
             [
              0.2222222222222222,
              "#3e4989"
             ],
             [
              0.3333333333333333,
              "#31688e"
             ],
             [
              0.4444444444444444,
              "#26828e"
             ],
             [
              0.5555555555555556,
              "#1f9e89"
             ],
             [
              0.6666666666666666,
              "#35b779"
             ],
             [
              0.7777777777777778,
              "#6ece58"
             ],
             [
              0.8888888888888888,
              "#b5de2b"
             ],
             [
              1,
              "#fde725"
             ]
            ],
            "type": "histogram2d"
           }
          ],
          "histogram2dcontour": [
           {
            "colorbar": {
             "outlinewidth": 1,
             "tickcolor": "rgb(36,36,36)",
             "ticks": "outside"
            },
            "colorscale": [
             [
              0,
              "#440154"
             ],
             [
              0.1111111111111111,
              "#482878"
             ],
             [
              0.2222222222222222,
              "#3e4989"
             ],
             [
              0.3333333333333333,
              "#31688e"
             ],
             [
              0.4444444444444444,
              "#26828e"
             ],
             [
              0.5555555555555556,
              "#1f9e89"
             ],
             [
              0.6666666666666666,
              "#35b779"
             ],
             [
              0.7777777777777778,
              "#6ece58"
             ],
             [
              0.8888888888888888,
              "#b5de2b"
             ],
             [
              1,
              "#fde725"
             ]
            ],
            "type": "histogram2dcontour"
           }
          ],
          "mesh3d": [
           {
            "colorbar": {
             "outlinewidth": 1,
             "tickcolor": "rgb(36,36,36)",
             "ticks": "outside"
            },
            "type": "mesh3d"
           }
          ],
          "parcoords": [
           {
            "line": {
             "colorbar": {
              "outlinewidth": 1,
              "tickcolor": "rgb(36,36,36)",
              "ticks": "outside"
             }
            },
            "type": "parcoords"
           }
          ],
          "pie": [
           {
            "automargin": true,
            "type": "pie"
           }
          ],
          "scatter": [
           {
            "marker": {
             "colorbar": {
              "outlinewidth": 1,
              "tickcolor": "rgb(36,36,36)",
              "ticks": "outside"
             }
            },
            "type": "scatter"
           }
          ],
          "scatter3d": [
           {
            "line": {
             "colorbar": {
              "outlinewidth": 1,
              "tickcolor": "rgb(36,36,36)",
              "ticks": "outside"
             }
            },
            "marker": {
             "colorbar": {
              "outlinewidth": 1,
              "tickcolor": "rgb(36,36,36)",
              "ticks": "outside"
             }
            },
            "type": "scatter3d"
           }
          ],
          "scattercarpet": [
           {
            "marker": {
             "colorbar": {
              "outlinewidth": 1,
              "tickcolor": "rgb(36,36,36)",
              "ticks": "outside"
             }
            },
            "type": "scattercarpet"
           }
          ],
          "scattergeo": [
           {
            "marker": {
             "colorbar": {
              "outlinewidth": 1,
              "tickcolor": "rgb(36,36,36)",
              "ticks": "outside"
             }
            },
            "type": "scattergeo"
           }
          ],
          "scattergl": [
           {
            "marker": {
             "colorbar": {
              "outlinewidth": 1,
              "tickcolor": "rgb(36,36,36)",
              "ticks": "outside"
             }
            },
            "type": "scattergl"
           }
          ],
          "scattermapbox": [
           {
            "marker": {
             "colorbar": {
              "outlinewidth": 1,
              "tickcolor": "rgb(36,36,36)",
              "ticks": "outside"
             }
            },
            "type": "scattermapbox"
           }
          ],
          "scatterpolar": [
           {
            "marker": {
             "colorbar": {
              "outlinewidth": 1,
              "tickcolor": "rgb(36,36,36)",
              "ticks": "outside"
             }
            },
            "type": "scatterpolar"
           }
          ],
          "scatterpolargl": [
           {
            "marker": {
             "colorbar": {
              "outlinewidth": 1,
              "tickcolor": "rgb(36,36,36)",
              "ticks": "outside"
             }
            },
            "type": "scatterpolargl"
           }
          ],
          "scatterternary": [
           {
            "marker": {
             "colorbar": {
              "outlinewidth": 1,
              "tickcolor": "rgb(36,36,36)",
              "ticks": "outside"
             }
            },
            "type": "scatterternary"
           }
          ],
          "surface": [
           {
            "colorbar": {
             "outlinewidth": 1,
             "tickcolor": "rgb(36,36,36)",
             "ticks": "outside"
            },
            "colorscale": [
             [
              0,
              "#440154"
             ],
             [
              0.1111111111111111,
              "#482878"
             ],
             [
              0.2222222222222222,
              "#3e4989"
             ],
             [
              0.3333333333333333,
              "#31688e"
             ],
             [
              0.4444444444444444,
              "#26828e"
             ],
             [
              0.5555555555555556,
              "#1f9e89"
             ],
             [
              0.6666666666666666,
              "#35b779"
             ],
             [
              0.7777777777777778,
              "#6ece58"
             ],
             [
              0.8888888888888888,
              "#b5de2b"
             ],
             [
              1,
              "#fde725"
             ]
            ],
            "type": "surface"
           }
          ],
          "table": [
           {
            "cells": {
             "fill": {
              "color": "rgb(237,237,237)"
             },
             "line": {
              "color": "white"
             }
            },
            "header": {
             "fill": {
              "color": "rgb(217,217,217)"
             },
             "line": {
              "color": "white"
             }
            },
            "type": "table"
           }
          ]
         },
         "layout": {
          "annotationdefaults": {
           "arrowhead": 0,
           "arrowwidth": 1
          },
          "autotypenumbers": "strict",
          "coloraxis": {
           "colorbar": {
            "outlinewidth": 1,
            "tickcolor": "rgb(36,36,36)",
            "ticks": "outside"
           }
          },
          "colorscale": {
           "diverging": [
            [
             0,
             "rgb(103,0,31)"
            ],
            [
             0.1,
             "rgb(178,24,43)"
            ],
            [
             0.2,
             "rgb(214,96,77)"
            ],
            [
             0.3,
             "rgb(244,165,130)"
            ],
            [
             0.4,
             "rgb(253,219,199)"
            ],
            [
             0.5,
             "rgb(247,247,247)"
            ],
            [
             0.6,
             "rgb(209,229,240)"
            ],
            [
             0.7,
             "rgb(146,197,222)"
            ],
            [
             0.8,
             "rgb(67,147,195)"
            ],
            [
             0.9,
             "rgb(33,102,172)"
            ],
            [
             1,
             "rgb(5,48,97)"
            ]
           ],
           "sequential": [
            [
             0,
             "#440154"
            ],
            [
             0.1111111111111111,
             "#482878"
            ],
            [
             0.2222222222222222,
             "#3e4989"
            ],
            [
             0.3333333333333333,
             "#31688e"
            ],
            [
             0.4444444444444444,
             "#26828e"
            ],
            [
             0.5555555555555556,
             "#1f9e89"
            ],
            [
             0.6666666666666666,
             "#35b779"
            ],
            [
             0.7777777777777778,
             "#6ece58"
            ],
            [
             0.8888888888888888,
             "#b5de2b"
            ],
            [
             1,
             "#fde725"
            ]
           ],
           "sequentialminus": [
            [
             0,
             "#440154"
            ],
            [
             0.1111111111111111,
             "#482878"
            ],
            [
             0.2222222222222222,
             "#3e4989"
            ],
            [
             0.3333333333333333,
             "#31688e"
            ],
            [
             0.4444444444444444,
             "#26828e"
            ],
            [
             0.5555555555555556,
             "#1f9e89"
            ],
            [
             0.6666666666666666,
             "#35b779"
            ],
            [
             0.7777777777777778,
             "#6ece58"
            ],
            [
             0.8888888888888888,
             "#b5de2b"
            ],
            [
             1,
             "#fde725"
            ]
           ]
          },
          "colorway": [
           "#1F77B4",
           "#FF7F0E",
           "#2CA02C",
           "#D62728",
           "#9467BD",
           "#8C564B",
           "#E377C2",
           "#7F7F7F",
           "#BCBD22",
           "#17BECF"
          ],
          "font": {
           "color": "rgb(36,36,36)"
          },
          "geo": {
           "bgcolor": "white",
           "lakecolor": "white",
           "landcolor": "white",
           "showlakes": true,
           "showland": true,
           "subunitcolor": "white"
          },
          "hoverlabel": {
           "align": "left"
          },
          "hovermode": "closest",
          "mapbox": {
           "style": "light"
          },
          "paper_bgcolor": "white",
          "plot_bgcolor": "white",
          "polar": {
           "angularaxis": {
            "gridcolor": "rgb(232,232,232)",
            "linecolor": "rgb(36,36,36)",
            "showgrid": false,
            "showline": true,
            "ticks": "outside"
           },
           "bgcolor": "white",
           "radialaxis": {
            "gridcolor": "rgb(232,232,232)",
            "linecolor": "rgb(36,36,36)",
            "showgrid": false,
            "showline": true,
            "ticks": "outside"
           }
          },
          "scene": {
           "xaxis": {
            "backgroundcolor": "white",
            "gridcolor": "rgb(232,232,232)",
            "gridwidth": 2,
            "linecolor": "rgb(36,36,36)",
            "showbackground": true,
            "showgrid": false,
            "showline": true,
            "ticks": "outside",
            "zeroline": false,
            "zerolinecolor": "rgb(36,36,36)"
           },
           "yaxis": {
            "backgroundcolor": "white",
            "gridcolor": "rgb(232,232,232)",
            "gridwidth": 2,
            "linecolor": "rgb(36,36,36)",
            "showbackground": true,
            "showgrid": false,
            "showline": true,
            "ticks": "outside",
            "zeroline": false,
            "zerolinecolor": "rgb(36,36,36)"
           },
           "zaxis": {
            "backgroundcolor": "white",
            "gridcolor": "rgb(232,232,232)",
            "gridwidth": 2,
            "linecolor": "rgb(36,36,36)",
            "showbackground": true,
            "showgrid": false,
            "showline": true,
            "ticks": "outside",
            "zeroline": false,
            "zerolinecolor": "rgb(36,36,36)"
           }
          },
          "shapedefaults": {
           "fillcolor": "black",
           "line": {
            "width": 0
           },
           "opacity": 0.3
          },
          "ternary": {
           "aaxis": {
            "gridcolor": "rgb(232,232,232)",
            "linecolor": "rgb(36,36,36)",
            "showgrid": false,
            "showline": true,
            "ticks": "outside"
           },
           "baxis": {
            "gridcolor": "rgb(232,232,232)",
            "linecolor": "rgb(36,36,36)",
            "showgrid": false,
            "showline": true,
            "ticks": "outside"
           },
           "bgcolor": "white",
           "caxis": {
            "gridcolor": "rgb(232,232,232)",
            "linecolor": "rgb(36,36,36)",
            "showgrid": false,
            "showline": true,
            "ticks": "outside"
           }
          },
          "title": {
           "x": 0.05
          },
          "xaxis": {
           "automargin": true,
           "gridcolor": "rgb(232,232,232)",
           "linecolor": "rgb(36,36,36)",
           "showgrid": false,
           "showline": true,
           "ticks": "outside",
           "title": {
            "standoff": 15
           },
           "zeroline": false,
           "zerolinecolor": "rgb(36,36,36)"
          },
          "yaxis": {
           "automargin": true,
           "gridcolor": "rgb(232,232,232)",
           "linecolor": "rgb(36,36,36)",
           "showgrid": false,
           "showline": true,
           "ticks": "outside",
           "title": {
            "standoff": 15
           },
           "zeroline": false,
           "zerolinecolor": "rgb(36,36,36)"
          }
         }
        },
        "title": {
         "font": {
          "color": "Black",
          "size": 22
         },
         "text": "<b>Intertopic Distance Map",
         "x": 0.5,
         "xanchor": "center",
         "y": 0.95,
         "yanchor": "top"
        },
        "width": 650,
        "xaxis": {
         "anchor": "y",
         "domain": [
          0,
          1
         ],
         "range": [
          -8.787423944473266,
          8.644192147254945
         ],
         "title": {
          "text": ""
         },
         "visible": false
        },
        "yaxis": {
         "anchor": "x",
         "domain": [
          0,
          1
         ],
         "range": [
          -3.776559603214264,
          7.0431846380233765
         ],
         "title": {
          "text": ""
         },
         "visible": false
        }
       }
      },
      "text/html": [
       "<div>                            <div id=\"4815b660-04ff-410f-bcc3-edd09162921a\" class=\"plotly-graph-div\" style=\"height:650px; width:650px;\"></div>            <script type=\"text/javascript\">                require([\"plotly\"], function(Plotly) {                    window.PLOTLYENV=window.PLOTLYENV || {};                                    if (document.getElementById(\"4815b660-04ff-410f-bcc3-edd09162921a\")) {                    Plotly.newPlot(                        \"4815b660-04ff-410f-bcc3-edd09162921a\",                        [{\"customdata\":[[0,\" |  |  |  | \",80],[1,\"the | is | of | if | to\",48],[2,\"memory | the | is | in | data\",28],[3,\"turing | the | test | tm | of\",18],[4,\"key | password | hash | it | the\",17],[5,\"to | math | book | you | and\",17],[6,\"coding | to | learn | you | people\",16],[7,\"are | computer | science | posts | those\",15],[8,\"ip | server | ms | packet | destination\",14],[9,\"stack | overflow | data | community | and\",10],[10,\"2520 | 250a | 29 | 257d | 257b\",10],[11,\"science | computer | software | difference | industry\",10],[12,\"language | languages | programming | concepts | python\",10],[13,\"algorithms | algorithm | research | to | in\",9],[14,\"bz | 2abz | az | ab | 2cd\",8],[15,\"the | it | is | system | cpu\",8],[16,\"int | image | traverse | team | visited\",7],[17,\"planet | be | it | of | the\",7],[18,\"os | emulator | firmwares | overview | dirty\",6],[19,\"dump | answer | first | question | my\",6],[20,\"gradient | the | cluster | descent | direction\",6],[21,\"raspberry | pi | cpus | on | demand\",4],[22,\"computation | trees | tree | there | topic\",4],[23,\"fibre | expand | we | so | could\",4],[24,\"statea | says | title | all | it\",4],[25,\"gates | state | circuits | input | circuit\",4],[26,\"source | have | both | to | future\",4],[27,\"matrix | svd | simpler | pieces | decomposition\",3],[28,\"dont | mainly | software | interested | anything\",3]],\"hovertemplate\":\"<b>Topic %{customdata[0]}</b><br>Words: %{customdata[1]}<br>Size: %{customdata[2]}\",\"legendgroup\":\"\",\"marker\":{\"color\":\"#B0BEC5\",\"size\":[80,48,28,18,17,17,16,15,14,10,10,10,10,9,8,8,7,7,6,6,6,4,4,4,4,4,4,3,3],\"sizemode\":\"area\",\"sizeref\":0.05,\"symbol\":\"circle\",\"line\":{\"color\":\"DarkSlateGrey\",\"width\":2}},\"mode\":\"markers\",\"name\":\"\",\"orientation\":\"v\",\"showlegend\":false,\"x\":[null,1.8184906244277954,1.9157018661499023,6.178870677947998,1.993294596672058,5.325093746185303,5.245549201965332,5.540647983551025,2.2093896865844727,6.427199840545654,7.516688823699951,6.553568363189697,1.5696340799331665,6.555420875549316,7.495145320892334,1.1595333814620972,4.858843803405762,1.6663142442703247,6.317140102386475,5.966763496398926,-7.552313804626465,2.1387641429901123,7.157547473907471,1.7827565670013428,0.9857377409934998,7.197548866271973,1.896321177482605,-7.641238212585449,7.317554473876953],\"xaxis\":\"x\",\"y\":[null,6.124508380889893,5.872456073760986,0.9009472727775574,5.341028213500977,4.622622966766357,4.220766544342041,4.9578857421875,5.428216934204102,2.0158848762512207,1.6573811769485474,2.1862335205078125,4.352076053619385,1.3808398246765137,2.082209587097168,4.13718843460083,4.659663200378418,4.45098352432251,1.4011725187301636,1.6576871871948242,-3.19506573677063,3.4144856929779053,0.36703863739967346,3.2609288692474365,3.903388500213623,1.62534761428833,3.549943685531616,-3.2839648723602295,0.20265546441078186],\"yaxis\":\"y\",\"type\":\"scatter\"}],                        {\"template\":{\"data\":{\"barpolar\":[{\"marker\":{\"line\":{\"color\":\"white\",\"width\":0.5},\"pattern\":{\"fillmode\":\"overlay\",\"size\":10,\"solidity\":0.2}},\"type\":\"barpolar\"}],\"bar\":[{\"error_x\":{\"color\":\"rgb(36,36,36)\"},\"error_y\":{\"color\":\"rgb(36,36,36)\"},\"marker\":{\"line\":{\"color\":\"white\",\"width\":0.5},\"pattern\":{\"fillmode\":\"overlay\",\"size\":10,\"solidity\":0.2}},\"type\":\"bar\"}],\"carpet\":[{\"aaxis\":{\"endlinecolor\":\"rgb(36,36,36)\",\"gridcolor\":\"white\",\"linecolor\":\"white\",\"minorgridcolor\":\"white\",\"startlinecolor\":\"rgb(36,36,36)\"},\"baxis\":{\"endlinecolor\":\"rgb(36,36,36)\",\"gridcolor\":\"white\",\"linecolor\":\"white\",\"minorgridcolor\":\"white\",\"startlinecolor\":\"rgb(36,36,36)\"},\"type\":\"carpet\"}],\"choropleth\":[{\"colorbar\":{\"outlinewidth\":1,\"tickcolor\":\"rgb(36,36,36)\",\"ticks\":\"outside\"},\"type\":\"choropleth\"}],\"contourcarpet\":[{\"colorbar\":{\"outlinewidth\":1,\"tickcolor\":\"rgb(36,36,36)\",\"ticks\":\"outside\"},\"type\":\"contourcarpet\"}],\"contour\":[{\"colorbar\":{\"outlinewidth\":1,\"tickcolor\":\"rgb(36,36,36)\",\"ticks\":\"outside\"},\"colorscale\":[[0.0,\"#440154\"],[0.1111111111111111,\"#482878\"],[0.2222222222222222,\"#3e4989\"],[0.3333333333333333,\"#31688e\"],[0.4444444444444444,\"#26828e\"],[0.5555555555555556,\"#1f9e89\"],[0.6666666666666666,\"#35b779\"],[0.7777777777777778,\"#6ece58\"],[0.8888888888888888,\"#b5de2b\"],[1.0,\"#fde725\"]],\"type\":\"contour\"}],\"heatmapgl\":[{\"colorbar\":{\"outlinewidth\":1,\"tickcolor\":\"rgb(36,36,36)\",\"ticks\":\"outside\"},\"colorscale\":[[0.0,\"#440154\"],[0.1111111111111111,\"#482878\"],[0.2222222222222222,\"#3e4989\"],[0.3333333333333333,\"#31688e\"],[0.4444444444444444,\"#26828e\"],[0.5555555555555556,\"#1f9e89\"],[0.6666666666666666,\"#35b779\"],[0.7777777777777778,\"#6ece58\"],[0.8888888888888888,\"#b5de2b\"],[1.0,\"#fde725\"]],\"type\":\"heatmapgl\"}],\"heatmap\":[{\"colorbar\":{\"outlinewidth\":1,\"tickcolor\":\"rgb(36,36,36)\",\"ticks\":\"outside\"},\"colorscale\":[[0.0,\"#440154\"],[0.1111111111111111,\"#482878\"],[0.2222222222222222,\"#3e4989\"],[0.3333333333333333,\"#31688e\"],[0.4444444444444444,\"#26828e\"],[0.5555555555555556,\"#1f9e89\"],[0.6666666666666666,\"#35b779\"],[0.7777777777777778,\"#6ece58\"],[0.8888888888888888,\"#b5de2b\"],[1.0,\"#fde725\"]],\"type\":\"heatmap\"}],\"histogram2dcontour\":[{\"colorbar\":{\"outlinewidth\":1,\"tickcolor\":\"rgb(36,36,36)\",\"ticks\":\"outside\"},\"colorscale\":[[0.0,\"#440154\"],[0.1111111111111111,\"#482878\"],[0.2222222222222222,\"#3e4989\"],[0.3333333333333333,\"#31688e\"],[0.4444444444444444,\"#26828e\"],[0.5555555555555556,\"#1f9e89\"],[0.6666666666666666,\"#35b779\"],[0.7777777777777778,\"#6ece58\"],[0.8888888888888888,\"#b5de2b\"],[1.0,\"#fde725\"]],\"type\":\"histogram2dcontour\"}],\"histogram2d\":[{\"colorbar\":{\"outlinewidth\":1,\"tickcolor\":\"rgb(36,36,36)\",\"ticks\":\"outside\"},\"colorscale\":[[0.0,\"#440154\"],[0.1111111111111111,\"#482878\"],[0.2222222222222222,\"#3e4989\"],[0.3333333333333333,\"#31688e\"],[0.4444444444444444,\"#26828e\"],[0.5555555555555556,\"#1f9e89\"],[0.6666666666666666,\"#35b779\"],[0.7777777777777778,\"#6ece58\"],[0.8888888888888888,\"#b5de2b\"],[1.0,\"#fde725\"]],\"type\":\"histogram2d\"}],\"histogram\":[{\"marker\":{\"line\":{\"color\":\"white\",\"width\":0.6}},\"type\":\"histogram\"}],\"mesh3d\":[{\"colorbar\":{\"outlinewidth\":1,\"tickcolor\":\"rgb(36,36,36)\",\"ticks\":\"outside\"},\"type\":\"mesh3d\"}],\"parcoords\":[{\"line\":{\"colorbar\":{\"outlinewidth\":1,\"tickcolor\":\"rgb(36,36,36)\",\"ticks\":\"outside\"}},\"type\":\"parcoords\"}],\"pie\":[{\"automargin\":true,\"type\":\"pie\"}],\"scatter3d\":[{\"line\":{\"colorbar\":{\"outlinewidth\":1,\"tickcolor\":\"rgb(36,36,36)\",\"ticks\":\"outside\"}},\"marker\":{\"colorbar\":{\"outlinewidth\":1,\"tickcolor\":\"rgb(36,36,36)\",\"ticks\":\"outside\"}},\"type\":\"scatter3d\"}],\"scattercarpet\":[{\"marker\":{\"colorbar\":{\"outlinewidth\":1,\"tickcolor\":\"rgb(36,36,36)\",\"ticks\":\"outside\"}},\"type\":\"scattercarpet\"}],\"scattergeo\":[{\"marker\":{\"colorbar\":{\"outlinewidth\":1,\"tickcolor\":\"rgb(36,36,36)\",\"ticks\":\"outside\"}},\"type\":\"scattergeo\"}],\"scattergl\":[{\"marker\":{\"colorbar\":{\"outlinewidth\":1,\"tickcolor\":\"rgb(36,36,36)\",\"ticks\":\"outside\"}},\"type\":\"scattergl\"}],\"scattermapbox\":[{\"marker\":{\"colorbar\":{\"outlinewidth\":1,\"tickcolor\":\"rgb(36,36,36)\",\"ticks\":\"outside\"}},\"type\":\"scattermapbox\"}],\"scatterpolargl\":[{\"marker\":{\"colorbar\":{\"outlinewidth\":1,\"tickcolor\":\"rgb(36,36,36)\",\"ticks\":\"outside\"}},\"type\":\"scatterpolargl\"}],\"scatterpolar\":[{\"marker\":{\"colorbar\":{\"outlinewidth\":1,\"tickcolor\":\"rgb(36,36,36)\",\"ticks\":\"outside\"}},\"type\":\"scatterpolar\"}],\"scatter\":[{\"marker\":{\"colorbar\":{\"outlinewidth\":1,\"tickcolor\":\"rgb(36,36,36)\",\"ticks\":\"outside\"}},\"type\":\"scatter\"}],\"scatterternary\":[{\"marker\":{\"colorbar\":{\"outlinewidth\":1,\"tickcolor\":\"rgb(36,36,36)\",\"ticks\":\"outside\"}},\"type\":\"scatterternary\"}],\"surface\":[{\"colorbar\":{\"outlinewidth\":1,\"tickcolor\":\"rgb(36,36,36)\",\"ticks\":\"outside\"},\"colorscale\":[[0.0,\"#440154\"],[0.1111111111111111,\"#482878\"],[0.2222222222222222,\"#3e4989\"],[0.3333333333333333,\"#31688e\"],[0.4444444444444444,\"#26828e\"],[0.5555555555555556,\"#1f9e89\"],[0.6666666666666666,\"#35b779\"],[0.7777777777777778,\"#6ece58\"],[0.8888888888888888,\"#b5de2b\"],[1.0,\"#fde725\"]],\"type\":\"surface\"}],\"table\":[{\"cells\":{\"fill\":{\"color\":\"rgb(237,237,237)\"},\"line\":{\"color\":\"white\"}},\"header\":{\"fill\":{\"color\":\"rgb(217,217,217)\"},\"line\":{\"color\":\"white\"}},\"type\":\"table\"}]},\"layout\":{\"annotationdefaults\":{\"arrowhead\":0,\"arrowwidth\":1},\"autotypenumbers\":\"strict\",\"coloraxis\":{\"colorbar\":{\"outlinewidth\":1,\"tickcolor\":\"rgb(36,36,36)\",\"ticks\":\"outside\"}},\"colorscale\":{\"diverging\":[[0.0,\"rgb(103,0,31)\"],[0.1,\"rgb(178,24,43)\"],[0.2,\"rgb(214,96,77)\"],[0.3,\"rgb(244,165,130)\"],[0.4,\"rgb(253,219,199)\"],[0.5,\"rgb(247,247,247)\"],[0.6,\"rgb(209,229,240)\"],[0.7,\"rgb(146,197,222)\"],[0.8,\"rgb(67,147,195)\"],[0.9,\"rgb(33,102,172)\"],[1.0,\"rgb(5,48,97)\"]],\"sequential\":[[0.0,\"#440154\"],[0.1111111111111111,\"#482878\"],[0.2222222222222222,\"#3e4989\"],[0.3333333333333333,\"#31688e\"],[0.4444444444444444,\"#26828e\"],[0.5555555555555556,\"#1f9e89\"],[0.6666666666666666,\"#35b779\"],[0.7777777777777778,\"#6ece58\"],[0.8888888888888888,\"#b5de2b\"],[1.0,\"#fde725\"]],\"sequentialminus\":[[0.0,\"#440154\"],[0.1111111111111111,\"#482878\"],[0.2222222222222222,\"#3e4989\"],[0.3333333333333333,\"#31688e\"],[0.4444444444444444,\"#26828e\"],[0.5555555555555556,\"#1f9e89\"],[0.6666666666666666,\"#35b779\"],[0.7777777777777778,\"#6ece58\"],[0.8888888888888888,\"#b5de2b\"],[1.0,\"#fde725\"]]},\"colorway\":[\"#1F77B4\",\"#FF7F0E\",\"#2CA02C\",\"#D62728\",\"#9467BD\",\"#8C564B\",\"#E377C2\",\"#7F7F7F\",\"#BCBD22\",\"#17BECF\"],\"font\":{\"color\":\"rgb(36,36,36)\"},\"geo\":{\"bgcolor\":\"white\",\"lakecolor\":\"white\",\"landcolor\":\"white\",\"showlakes\":true,\"showland\":true,\"subunitcolor\":\"white\"},\"hoverlabel\":{\"align\":\"left\"},\"hovermode\":\"closest\",\"mapbox\":{\"style\":\"light\"},\"paper_bgcolor\":\"white\",\"plot_bgcolor\":\"white\",\"polar\":{\"angularaxis\":{\"gridcolor\":\"rgb(232,232,232)\",\"linecolor\":\"rgb(36,36,36)\",\"showgrid\":false,\"showline\":true,\"ticks\":\"outside\"},\"bgcolor\":\"white\",\"radialaxis\":{\"gridcolor\":\"rgb(232,232,232)\",\"linecolor\":\"rgb(36,36,36)\",\"showgrid\":false,\"showline\":true,\"ticks\":\"outside\"}},\"scene\":{\"xaxis\":{\"backgroundcolor\":\"white\",\"gridcolor\":\"rgb(232,232,232)\",\"gridwidth\":2,\"linecolor\":\"rgb(36,36,36)\",\"showbackground\":true,\"showgrid\":false,\"showline\":true,\"ticks\":\"outside\",\"zeroline\":false,\"zerolinecolor\":\"rgb(36,36,36)\"},\"yaxis\":{\"backgroundcolor\":\"white\",\"gridcolor\":\"rgb(232,232,232)\",\"gridwidth\":2,\"linecolor\":\"rgb(36,36,36)\",\"showbackground\":true,\"showgrid\":false,\"showline\":true,\"ticks\":\"outside\",\"zeroline\":false,\"zerolinecolor\":\"rgb(36,36,36)\"},\"zaxis\":{\"backgroundcolor\":\"white\",\"gridcolor\":\"rgb(232,232,232)\",\"gridwidth\":2,\"linecolor\":\"rgb(36,36,36)\",\"showbackground\":true,\"showgrid\":false,\"showline\":true,\"ticks\":\"outside\",\"zeroline\":false,\"zerolinecolor\":\"rgb(36,36,36)\"}},\"shapedefaults\":{\"fillcolor\":\"black\",\"line\":{\"width\":0},\"opacity\":0.3},\"ternary\":{\"aaxis\":{\"gridcolor\":\"rgb(232,232,232)\",\"linecolor\":\"rgb(36,36,36)\",\"showgrid\":false,\"showline\":true,\"ticks\":\"outside\"},\"baxis\":{\"gridcolor\":\"rgb(232,232,232)\",\"linecolor\":\"rgb(36,36,36)\",\"showgrid\":false,\"showline\":true,\"ticks\":\"outside\"},\"bgcolor\":\"white\",\"caxis\":{\"gridcolor\":\"rgb(232,232,232)\",\"linecolor\":\"rgb(36,36,36)\",\"showgrid\":false,\"showline\":true,\"ticks\":\"outside\"}},\"title\":{\"x\":0.05},\"xaxis\":{\"automargin\":true,\"gridcolor\":\"rgb(232,232,232)\",\"linecolor\":\"rgb(36,36,36)\",\"showgrid\":false,\"showline\":true,\"ticks\":\"outside\",\"title\":{\"standoff\":15},\"zeroline\":false,\"zerolinecolor\":\"rgb(36,36,36)\"},\"yaxis\":{\"automargin\":true,\"gridcolor\":\"rgb(232,232,232)\",\"linecolor\":\"rgb(36,36,36)\",\"showgrid\":false,\"showline\":true,\"ticks\":\"outside\",\"title\":{\"standoff\":15},\"zeroline\":false,\"zerolinecolor\":\"rgb(36,36,36)\"}}},\"xaxis\":{\"anchor\":\"y\",\"domain\":[0.0,1.0],\"title\":{\"text\":\"\"},\"visible\":false,\"range\":[-8.787423944473266,8.644192147254945]},\"yaxis\":{\"anchor\":\"x\",\"domain\":[0.0,1.0],\"title\":{\"text\":\"\"},\"visible\":false,\"range\":[-3.776559603214264,7.0431846380233765]},\"legend\":{\"tracegroupgap\":0,\"itemsizing\":\"constant\"},\"margin\":{\"t\":60},\"title\":{\"font\":{\"size\":22,\"color\":\"Black\"},\"text\":\"<b>Intertopic Distance Map\",\"y\":0.95,\"x\":0.5,\"xanchor\":\"center\",\"yanchor\":\"top\"},\"hoverlabel\":{\"font\":{\"size\":16,\"family\":\"Rockwell\"},\"bgcolor\":\"white\"},\"width\":650,\"height\":650,\"sliders\":[{\"active\":0,\"pad\":{\"t\":50},\"steps\":[{\"args\":[{\"marker.color\":[[\"red\",\"#B0BEC5\",\"#B0BEC5\",\"#B0BEC5\",\"#B0BEC5\",\"#B0BEC5\",\"#B0BEC5\",\"#B0BEC5\",\"#B0BEC5\",\"#B0BEC5\",\"#B0BEC5\",\"#B0BEC5\",\"#B0BEC5\",\"#B0BEC5\",\"#B0BEC5\",\"#B0BEC5\",\"#B0BEC5\",\"#B0BEC5\",\"#B0BEC5\",\"#B0BEC5\",\"#B0BEC5\",\"#B0BEC5\",\"#B0BEC5\",\"#B0BEC5\",\"#B0BEC5\",\"#B0BEC5\",\"#B0BEC5\",\"#B0BEC5\",\"#B0BEC5\"]]}],\"label\":\"Topic 0\",\"method\":\"update\"},{\"args\":[{\"marker.color\":[[\"#B0BEC5\",\"red\",\"#B0BEC5\",\"#B0BEC5\",\"#B0BEC5\",\"#B0BEC5\",\"#B0BEC5\",\"#B0BEC5\",\"#B0BEC5\",\"#B0BEC5\",\"#B0BEC5\",\"#B0BEC5\",\"#B0BEC5\",\"#B0BEC5\",\"#B0BEC5\",\"#B0BEC5\",\"#B0BEC5\",\"#B0BEC5\",\"#B0BEC5\",\"#B0BEC5\",\"#B0BEC5\",\"#B0BEC5\",\"#B0BEC5\",\"#B0BEC5\",\"#B0BEC5\",\"#B0BEC5\",\"#B0BEC5\",\"#B0BEC5\",\"#B0BEC5\"]]}],\"label\":\"Topic 1\",\"method\":\"update\"},{\"args\":[{\"marker.color\":[[\"#B0BEC5\",\"#B0BEC5\",\"red\",\"#B0BEC5\",\"#B0BEC5\",\"#B0BEC5\",\"#B0BEC5\",\"#B0BEC5\",\"#B0BEC5\",\"#B0BEC5\",\"#B0BEC5\",\"#B0BEC5\",\"#B0BEC5\",\"#B0BEC5\",\"#B0BEC5\",\"#B0BEC5\",\"#B0BEC5\",\"#B0BEC5\",\"#B0BEC5\",\"#B0BEC5\",\"#B0BEC5\",\"#B0BEC5\",\"#B0BEC5\",\"#B0BEC5\",\"#B0BEC5\",\"#B0BEC5\",\"#B0BEC5\",\"#B0BEC5\",\"#B0BEC5\"]]}],\"label\":\"Topic 2\",\"method\":\"update\"},{\"args\":[{\"marker.color\":[[\"#B0BEC5\",\"#B0BEC5\",\"#B0BEC5\",\"red\",\"#B0BEC5\",\"#B0BEC5\",\"#B0BEC5\",\"#B0BEC5\",\"#B0BEC5\",\"#B0BEC5\",\"#B0BEC5\",\"#B0BEC5\",\"#B0BEC5\",\"#B0BEC5\",\"#B0BEC5\",\"#B0BEC5\",\"#B0BEC5\",\"#B0BEC5\",\"#B0BEC5\",\"#B0BEC5\",\"#B0BEC5\",\"#B0BEC5\",\"#B0BEC5\",\"#B0BEC5\",\"#B0BEC5\",\"#B0BEC5\",\"#B0BEC5\",\"#B0BEC5\",\"#B0BEC5\"]]}],\"label\":\"Topic 3\",\"method\":\"update\"},{\"args\":[{\"marker.color\":[[\"#B0BEC5\",\"#B0BEC5\",\"#B0BEC5\",\"#B0BEC5\",\"red\",\"#B0BEC5\",\"#B0BEC5\",\"#B0BEC5\",\"#B0BEC5\",\"#B0BEC5\",\"#B0BEC5\",\"#B0BEC5\",\"#B0BEC5\",\"#B0BEC5\",\"#B0BEC5\",\"#B0BEC5\",\"#B0BEC5\",\"#B0BEC5\",\"#B0BEC5\",\"#B0BEC5\",\"#B0BEC5\",\"#B0BEC5\",\"#B0BEC5\",\"#B0BEC5\",\"#B0BEC5\",\"#B0BEC5\",\"#B0BEC5\",\"#B0BEC5\",\"#B0BEC5\"]]}],\"label\":\"Topic 4\",\"method\":\"update\"},{\"args\":[{\"marker.color\":[[\"#B0BEC5\",\"#B0BEC5\",\"#B0BEC5\",\"#B0BEC5\",\"#B0BEC5\",\"red\",\"#B0BEC5\",\"#B0BEC5\",\"#B0BEC5\",\"#B0BEC5\",\"#B0BEC5\",\"#B0BEC5\",\"#B0BEC5\",\"#B0BEC5\",\"#B0BEC5\",\"#B0BEC5\",\"#B0BEC5\",\"#B0BEC5\",\"#B0BEC5\",\"#B0BEC5\",\"#B0BEC5\",\"#B0BEC5\",\"#B0BEC5\",\"#B0BEC5\",\"#B0BEC5\",\"#B0BEC5\",\"#B0BEC5\",\"#B0BEC5\",\"#B0BEC5\"]]}],\"label\":\"Topic 5\",\"method\":\"update\"},{\"args\":[{\"marker.color\":[[\"#B0BEC5\",\"#B0BEC5\",\"#B0BEC5\",\"#B0BEC5\",\"#B0BEC5\",\"#B0BEC5\",\"red\",\"#B0BEC5\",\"#B0BEC5\",\"#B0BEC5\",\"#B0BEC5\",\"#B0BEC5\",\"#B0BEC5\",\"#B0BEC5\",\"#B0BEC5\",\"#B0BEC5\",\"#B0BEC5\",\"#B0BEC5\",\"#B0BEC5\",\"#B0BEC5\",\"#B0BEC5\",\"#B0BEC5\",\"#B0BEC5\",\"#B0BEC5\",\"#B0BEC5\",\"#B0BEC5\",\"#B0BEC5\",\"#B0BEC5\",\"#B0BEC5\"]]}],\"label\":\"Topic 6\",\"method\":\"update\"},{\"args\":[{\"marker.color\":[[\"#B0BEC5\",\"#B0BEC5\",\"#B0BEC5\",\"#B0BEC5\",\"#B0BEC5\",\"#B0BEC5\",\"#B0BEC5\",\"red\",\"#B0BEC5\",\"#B0BEC5\",\"#B0BEC5\",\"#B0BEC5\",\"#B0BEC5\",\"#B0BEC5\",\"#B0BEC5\",\"#B0BEC5\",\"#B0BEC5\",\"#B0BEC5\",\"#B0BEC5\",\"#B0BEC5\",\"#B0BEC5\",\"#B0BEC5\",\"#B0BEC5\",\"#B0BEC5\",\"#B0BEC5\",\"#B0BEC5\",\"#B0BEC5\",\"#B0BEC5\",\"#B0BEC5\"]]}],\"label\":\"Topic 7\",\"method\":\"update\"},{\"args\":[{\"marker.color\":[[\"#B0BEC5\",\"#B0BEC5\",\"#B0BEC5\",\"#B0BEC5\",\"#B0BEC5\",\"#B0BEC5\",\"#B0BEC5\",\"#B0BEC5\",\"red\",\"#B0BEC5\",\"#B0BEC5\",\"#B0BEC5\",\"#B0BEC5\",\"#B0BEC5\",\"#B0BEC5\",\"#B0BEC5\",\"#B0BEC5\",\"#B0BEC5\",\"#B0BEC5\",\"#B0BEC5\",\"#B0BEC5\",\"#B0BEC5\",\"#B0BEC5\",\"#B0BEC5\",\"#B0BEC5\",\"#B0BEC5\",\"#B0BEC5\",\"#B0BEC5\",\"#B0BEC5\"]]}],\"label\":\"Topic 8\",\"method\":\"update\"},{\"args\":[{\"marker.color\":[[\"#B0BEC5\",\"#B0BEC5\",\"#B0BEC5\",\"#B0BEC5\",\"#B0BEC5\",\"#B0BEC5\",\"#B0BEC5\",\"#B0BEC5\",\"#B0BEC5\",\"red\",\"#B0BEC5\",\"#B0BEC5\",\"#B0BEC5\",\"#B0BEC5\",\"#B0BEC5\",\"#B0BEC5\",\"#B0BEC5\",\"#B0BEC5\",\"#B0BEC5\",\"#B0BEC5\",\"#B0BEC5\",\"#B0BEC5\",\"#B0BEC5\",\"#B0BEC5\",\"#B0BEC5\",\"#B0BEC5\",\"#B0BEC5\",\"#B0BEC5\",\"#B0BEC5\"]]}],\"label\":\"Topic 9\",\"method\":\"update\"},{\"args\":[{\"marker.color\":[[\"#B0BEC5\",\"#B0BEC5\",\"#B0BEC5\",\"#B0BEC5\",\"#B0BEC5\",\"#B0BEC5\",\"#B0BEC5\",\"#B0BEC5\",\"#B0BEC5\",\"#B0BEC5\",\"red\",\"#B0BEC5\",\"#B0BEC5\",\"#B0BEC5\",\"#B0BEC5\",\"#B0BEC5\",\"#B0BEC5\",\"#B0BEC5\",\"#B0BEC5\",\"#B0BEC5\",\"#B0BEC5\",\"#B0BEC5\",\"#B0BEC5\",\"#B0BEC5\",\"#B0BEC5\",\"#B0BEC5\",\"#B0BEC5\",\"#B0BEC5\",\"#B0BEC5\"]]}],\"label\":\"Topic 10\",\"method\":\"update\"},{\"args\":[{\"marker.color\":[[\"#B0BEC5\",\"#B0BEC5\",\"#B0BEC5\",\"#B0BEC5\",\"#B0BEC5\",\"#B0BEC5\",\"#B0BEC5\",\"#B0BEC5\",\"#B0BEC5\",\"#B0BEC5\",\"#B0BEC5\",\"red\",\"#B0BEC5\",\"#B0BEC5\",\"#B0BEC5\",\"#B0BEC5\",\"#B0BEC5\",\"#B0BEC5\",\"#B0BEC5\",\"#B0BEC5\",\"#B0BEC5\",\"#B0BEC5\",\"#B0BEC5\",\"#B0BEC5\",\"#B0BEC5\",\"#B0BEC5\",\"#B0BEC5\",\"#B0BEC5\",\"#B0BEC5\"]]}],\"label\":\"Topic 11\",\"method\":\"update\"},{\"args\":[{\"marker.color\":[[\"#B0BEC5\",\"#B0BEC5\",\"#B0BEC5\",\"#B0BEC5\",\"#B0BEC5\",\"#B0BEC5\",\"#B0BEC5\",\"#B0BEC5\",\"#B0BEC5\",\"#B0BEC5\",\"#B0BEC5\",\"#B0BEC5\",\"red\",\"#B0BEC5\",\"#B0BEC5\",\"#B0BEC5\",\"#B0BEC5\",\"#B0BEC5\",\"#B0BEC5\",\"#B0BEC5\",\"#B0BEC5\",\"#B0BEC5\",\"#B0BEC5\",\"#B0BEC5\",\"#B0BEC5\",\"#B0BEC5\",\"#B0BEC5\",\"#B0BEC5\",\"#B0BEC5\"]]}],\"label\":\"Topic 12\",\"method\":\"update\"},{\"args\":[{\"marker.color\":[[\"#B0BEC5\",\"#B0BEC5\",\"#B0BEC5\",\"#B0BEC5\",\"#B0BEC5\",\"#B0BEC5\",\"#B0BEC5\",\"#B0BEC5\",\"#B0BEC5\",\"#B0BEC5\",\"#B0BEC5\",\"#B0BEC5\",\"#B0BEC5\",\"red\",\"#B0BEC5\",\"#B0BEC5\",\"#B0BEC5\",\"#B0BEC5\",\"#B0BEC5\",\"#B0BEC5\",\"#B0BEC5\",\"#B0BEC5\",\"#B0BEC5\",\"#B0BEC5\",\"#B0BEC5\",\"#B0BEC5\",\"#B0BEC5\",\"#B0BEC5\",\"#B0BEC5\"]]}],\"label\":\"Topic 13\",\"method\":\"update\"},{\"args\":[{\"marker.color\":[[\"#B0BEC5\",\"#B0BEC5\",\"#B0BEC5\",\"#B0BEC5\",\"#B0BEC5\",\"#B0BEC5\",\"#B0BEC5\",\"#B0BEC5\",\"#B0BEC5\",\"#B0BEC5\",\"#B0BEC5\",\"#B0BEC5\",\"#B0BEC5\",\"#B0BEC5\",\"red\",\"#B0BEC5\",\"#B0BEC5\",\"#B0BEC5\",\"#B0BEC5\",\"#B0BEC5\",\"#B0BEC5\",\"#B0BEC5\",\"#B0BEC5\",\"#B0BEC5\",\"#B0BEC5\",\"#B0BEC5\",\"#B0BEC5\",\"#B0BEC5\",\"#B0BEC5\"]]}],\"label\":\"Topic 14\",\"method\":\"update\"},{\"args\":[{\"marker.color\":[[\"#B0BEC5\",\"#B0BEC5\",\"#B0BEC5\",\"#B0BEC5\",\"#B0BEC5\",\"#B0BEC5\",\"#B0BEC5\",\"#B0BEC5\",\"#B0BEC5\",\"#B0BEC5\",\"#B0BEC5\",\"#B0BEC5\",\"#B0BEC5\",\"#B0BEC5\",\"#B0BEC5\",\"red\",\"#B0BEC5\",\"#B0BEC5\",\"#B0BEC5\",\"#B0BEC5\",\"#B0BEC5\",\"#B0BEC5\",\"#B0BEC5\",\"#B0BEC5\",\"#B0BEC5\",\"#B0BEC5\",\"#B0BEC5\",\"#B0BEC5\",\"#B0BEC5\"]]}],\"label\":\"Topic 15\",\"method\":\"update\"},{\"args\":[{\"marker.color\":[[\"#B0BEC5\",\"#B0BEC5\",\"#B0BEC5\",\"#B0BEC5\",\"#B0BEC5\",\"#B0BEC5\",\"#B0BEC5\",\"#B0BEC5\",\"#B0BEC5\",\"#B0BEC5\",\"#B0BEC5\",\"#B0BEC5\",\"#B0BEC5\",\"#B0BEC5\",\"#B0BEC5\",\"#B0BEC5\",\"red\",\"#B0BEC5\",\"#B0BEC5\",\"#B0BEC5\",\"#B0BEC5\",\"#B0BEC5\",\"#B0BEC5\",\"#B0BEC5\",\"#B0BEC5\",\"#B0BEC5\",\"#B0BEC5\",\"#B0BEC5\",\"#B0BEC5\"]]}],\"label\":\"Topic 16\",\"method\":\"update\"},{\"args\":[{\"marker.color\":[[\"#B0BEC5\",\"#B0BEC5\",\"#B0BEC5\",\"#B0BEC5\",\"#B0BEC5\",\"#B0BEC5\",\"#B0BEC5\",\"#B0BEC5\",\"#B0BEC5\",\"#B0BEC5\",\"#B0BEC5\",\"#B0BEC5\",\"#B0BEC5\",\"#B0BEC5\",\"#B0BEC5\",\"#B0BEC5\",\"#B0BEC5\",\"red\",\"#B0BEC5\",\"#B0BEC5\",\"#B0BEC5\",\"#B0BEC5\",\"#B0BEC5\",\"#B0BEC5\",\"#B0BEC5\",\"#B0BEC5\",\"#B0BEC5\",\"#B0BEC5\",\"#B0BEC5\"]]}],\"label\":\"Topic 17\",\"method\":\"update\"},{\"args\":[{\"marker.color\":[[\"#B0BEC5\",\"#B0BEC5\",\"#B0BEC5\",\"#B0BEC5\",\"#B0BEC5\",\"#B0BEC5\",\"#B0BEC5\",\"#B0BEC5\",\"#B0BEC5\",\"#B0BEC5\",\"#B0BEC5\",\"#B0BEC5\",\"#B0BEC5\",\"#B0BEC5\",\"#B0BEC5\",\"#B0BEC5\",\"#B0BEC5\",\"#B0BEC5\",\"red\",\"#B0BEC5\",\"#B0BEC5\",\"#B0BEC5\",\"#B0BEC5\",\"#B0BEC5\",\"#B0BEC5\",\"#B0BEC5\",\"#B0BEC5\",\"#B0BEC5\",\"#B0BEC5\"]]}],\"label\":\"Topic 18\",\"method\":\"update\"},{\"args\":[{\"marker.color\":[[\"#B0BEC5\",\"#B0BEC5\",\"#B0BEC5\",\"#B0BEC5\",\"#B0BEC5\",\"#B0BEC5\",\"#B0BEC5\",\"#B0BEC5\",\"#B0BEC5\",\"#B0BEC5\",\"#B0BEC5\",\"#B0BEC5\",\"#B0BEC5\",\"#B0BEC5\",\"#B0BEC5\",\"#B0BEC5\",\"#B0BEC5\",\"#B0BEC5\",\"#B0BEC5\",\"red\",\"#B0BEC5\",\"#B0BEC5\",\"#B0BEC5\",\"#B0BEC5\",\"#B0BEC5\",\"#B0BEC5\",\"#B0BEC5\",\"#B0BEC5\",\"#B0BEC5\"]]}],\"label\":\"Topic 19\",\"method\":\"update\"},{\"args\":[{\"marker.color\":[[\"#B0BEC5\",\"#B0BEC5\",\"#B0BEC5\",\"#B0BEC5\",\"#B0BEC5\",\"#B0BEC5\",\"#B0BEC5\",\"#B0BEC5\",\"#B0BEC5\",\"#B0BEC5\",\"#B0BEC5\",\"#B0BEC5\",\"#B0BEC5\",\"#B0BEC5\",\"#B0BEC5\",\"#B0BEC5\",\"#B0BEC5\",\"#B0BEC5\",\"#B0BEC5\",\"#B0BEC5\",\"red\",\"#B0BEC5\",\"#B0BEC5\",\"#B0BEC5\",\"#B0BEC5\",\"#B0BEC5\",\"#B0BEC5\",\"#B0BEC5\",\"#B0BEC5\"]]}],\"label\":\"Topic 20\",\"method\":\"update\"},{\"args\":[{\"marker.color\":[[\"#B0BEC5\",\"#B0BEC5\",\"#B0BEC5\",\"#B0BEC5\",\"#B0BEC5\",\"#B0BEC5\",\"#B0BEC5\",\"#B0BEC5\",\"#B0BEC5\",\"#B0BEC5\",\"#B0BEC5\",\"#B0BEC5\",\"#B0BEC5\",\"#B0BEC5\",\"#B0BEC5\",\"#B0BEC5\",\"#B0BEC5\",\"#B0BEC5\",\"#B0BEC5\",\"#B0BEC5\",\"#B0BEC5\",\"red\",\"#B0BEC5\",\"#B0BEC5\",\"#B0BEC5\",\"#B0BEC5\",\"#B0BEC5\",\"#B0BEC5\",\"#B0BEC5\"]]}],\"label\":\"Topic 21\",\"method\":\"update\"},{\"args\":[{\"marker.color\":[[\"#B0BEC5\",\"#B0BEC5\",\"#B0BEC5\",\"#B0BEC5\",\"#B0BEC5\",\"#B0BEC5\",\"#B0BEC5\",\"#B0BEC5\",\"#B0BEC5\",\"#B0BEC5\",\"#B0BEC5\",\"#B0BEC5\",\"#B0BEC5\",\"#B0BEC5\",\"#B0BEC5\",\"#B0BEC5\",\"#B0BEC5\",\"#B0BEC5\",\"#B0BEC5\",\"#B0BEC5\",\"#B0BEC5\",\"#B0BEC5\",\"red\",\"#B0BEC5\",\"#B0BEC5\",\"#B0BEC5\",\"#B0BEC5\",\"#B0BEC5\",\"#B0BEC5\"]]}],\"label\":\"Topic 22\",\"method\":\"update\"},{\"args\":[{\"marker.color\":[[\"#B0BEC5\",\"#B0BEC5\",\"#B0BEC5\",\"#B0BEC5\",\"#B0BEC5\",\"#B0BEC5\",\"#B0BEC5\",\"#B0BEC5\",\"#B0BEC5\",\"#B0BEC5\",\"#B0BEC5\",\"#B0BEC5\",\"#B0BEC5\",\"#B0BEC5\",\"#B0BEC5\",\"#B0BEC5\",\"#B0BEC5\",\"#B0BEC5\",\"#B0BEC5\",\"#B0BEC5\",\"#B0BEC5\",\"#B0BEC5\",\"#B0BEC5\",\"red\",\"#B0BEC5\",\"#B0BEC5\",\"#B0BEC5\",\"#B0BEC5\",\"#B0BEC5\"]]}],\"label\":\"Topic 23\",\"method\":\"update\"},{\"args\":[{\"marker.color\":[[\"#B0BEC5\",\"#B0BEC5\",\"#B0BEC5\",\"#B0BEC5\",\"#B0BEC5\",\"#B0BEC5\",\"#B0BEC5\",\"#B0BEC5\",\"#B0BEC5\",\"#B0BEC5\",\"#B0BEC5\",\"#B0BEC5\",\"#B0BEC5\",\"#B0BEC5\",\"#B0BEC5\",\"#B0BEC5\",\"#B0BEC5\",\"#B0BEC5\",\"#B0BEC5\",\"#B0BEC5\",\"#B0BEC5\",\"#B0BEC5\",\"#B0BEC5\",\"#B0BEC5\",\"red\",\"#B0BEC5\",\"#B0BEC5\",\"#B0BEC5\",\"#B0BEC5\"]]}],\"label\":\"Topic 24\",\"method\":\"update\"},{\"args\":[{\"marker.color\":[[\"#B0BEC5\",\"#B0BEC5\",\"#B0BEC5\",\"#B0BEC5\",\"#B0BEC5\",\"#B0BEC5\",\"#B0BEC5\",\"#B0BEC5\",\"#B0BEC5\",\"#B0BEC5\",\"#B0BEC5\",\"#B0BEC5\",\"#B0BEC5\",\"#B0BEC5\",\"#B0BEC5\",\"#B0BEC5\",\"#B0BEC5\",\"#B0BEC5\",\"#B0BEC5\",\"#B0BEC5\",\"#B0BEC5\",\"#B0BEC5\",\"#B0BEC5\",\"#B0BEC5\",\"#B0BEC5\",\"red\",\"#B0BEC5\",\"#B0BEC5\",\"#B0BEC5\"]]}],\"label\":\"Topic 25\",\"method\":\"update\"},{\"args\":[{\"marker.color\":[[\"#B0BEC5\",\"#B0BEC5\",\"#B0BEC5\",\"#B0BEC5\",\"#B0BEC5\",\"#B0BEC5\",\"#B0BEC5\",\"#B0BEC5\",\"#B0BEC5\",\"#B0BEC5\",\"#B0BEC5\",\"#B0BEC5\",\"#B0BEC5\",\"#B0BEC5\",\"#B0BEC5\",\"#B0BEC5\",\"#B0BEC5\",\"#B0BEC5\",\"#B0BEC5\",\"#B0BEC5\",\"#B0BEC5\",\"#B0BEC5\",\"#B0BEC5\",\"#B0BEC5\",\"#B0BEC5\",\"#B0BEC5\",\"red\",\"#B0BEC5\",\"#B0BEC5\"]]}],\"label\":\"Topic 26\",\"method\":\"update\"},{\"args\":[{\"marker.color\":[[\"#B0BEC5\",\"#B0BEC5\",\"#B0BEC5\",\"#B0BEC5\",\"#B0BEC5\",\"#B0BEC5\",\"#B0BEC5\",\"#B0BEC5\",\"#B0BEC5\",\"#B0BEC5\",\"#B0BEC5\",\"#B0BEC5\",\"#B0BEC5\",\"#B0BEC5\",\"#B0BEC5\",\"#B0BEC5\",\"#B0BEC5\",\"#B0BEC5\",\"#B0BEC5\",\"#B0BEC5\",\"#B0BEC5\",\"#B0BEC5\",\"#B0BEC5\",\"#B0BEC5\",\"#B0BEC5\",\"#B0BEC5\",\"#B0BEC5\",\"red\",\"#B0BEC5\"]]}],\"label\":\"Topic 27\",\"method\":\"update\"},{\"args\":[{\"marker.color\":[[\"#B0BEC5\",\"#B0BEC5\",\"#B0BEC5\",\"#B0BEC5\",\"#B0BEC5\",\"#B0BEC5\",\"#B0BEC5\",\"#B0BEC5\",\"#B0BEC5\",\"#B0BEC5\",\"#B0BEC5\",\"#B0BEC5\",\"#B0BEC5\",\"#B0BEC5\",\"#B0BEC5\",\"#B0BEC5\",\"#B0BEC5\",\"#B0BEC5\",\"#B0BEC5\",\"#B0BEC5\",\"#B0BEC5\",\"#B0BEC5\",\"#B0BEC5\",\"#B0BEC5\",\"#B0BEC5\",\"#B0BEC5\",\"#B0BEC5\",\"#B0BEC5\",\"red\"]]}],\"label\":\"Topic 28\",\"method\":\"update\"}]}],\"shapes\":[{\"line\":{\"color\":\"#CFD8DC\",\"width\":2},\"type\":\"line\",\"x0\":-0.07161589860916084,\"x1\":-0.07161589860916084,\"y0\":-3.776559603214264,\"y1\":7.0431846380233765},{\"line\":{\"color\":\"#9E9E9E\",\"width\":2},\"type\":\"line\",\"x0\":-8.787423944473266,\"x1\":8.644192147254945,\"y0\":1.6333125174045562,\"y1\":1.6333125174045562}],\"annotations\":[{\"showarrow\":false,\"text\":\"D1\",\"x\":-8.787423944473266,\"y\":1.6333125174045562,\"yshift\":10},{\"showarrow\":false,\"text\":\"D2\",\"x\":-0.07161589860916084,\"xshift\":10,\"y\":7.0431846380233765}]},                        {\"responsive\": true}                    ).then(function(){\n",
       "                            \n",
       "var gd = document.getElementById('4815b660-04ff-410f-bcc3-edd09162921a');\n",
       "var x = new MutationObserver(function (mutations, observer) {{\n",
       "        var display = window.getComputedStyle(gd).display;\n",
       "        if (!display || display === 'none') {{\n",
       "            console.log([gd, 'removed!']);\n",
       "            Plotly.purge(gd);\n",
       "            observer.disconnect();\n",
       "        }}\n",
       "}});\n",
       "\n",
       "// Listen for the removal of the full notebook cells\n",
       "var notebookContainer = gd.closest('#notebook-container');\n",
       "if (notebookContainer) {{\n",
       "    x.observe(notebookContainer, {childList: true});\n",
       "}}\n",
       "\n",
       "// Listen for the clearing of the current output cell\n",
       "var outputEl = gd.closest('.output');\n",
       "if (outputEl) {{\n",
       "    x.observe(outputEl, {childList: true});\n",
       "}}\n",
       "\n",
       "                        })                };                });            </script>        </div>"
      ]
     },
     "metadata": {},
     "output_type": "display_data"
    }
   ],
   "source": [
    "topic_model.visualize_topics()"
   ]
  },
  {
   "cell_type": "markdown",
   "metadata": {},
   "source": [
    "# Iteration 2"
   ]
  },
  {
   "cell_type": "markdown",
   "metadata": {},
   "source": [
    "## 1. Topic Modelling for Posts using BERTopic"
   ]
  },
  {
   "cell_type": "code",
   "execution_count": 281,
   "metadata": {},
   "outputs": [],
   "source": [
    "def train_bert(df, column):\n",
    "    topic_model = BERTopic(language=\"english\", embedding_model=\"paraphrase-multilingual-mpnet-base-v2\", min_topic_size=3, calculate_probabilities=True, verbose=True)\n",
    "    topics, probs = topic_model.fit_transform(df[column])\n",
    "    freq = topic_model.get_topic_info()\n",
    "    docs = topic_model.get_representative_docs()\n",
    "    topic_names = []\n",
    "    for i in topics:\n",
    "        topic_names.append(list(freq[freq['Topic'] == i][\"Name\"])[0])\n",
    "    df['topic_label'] = topics\n",
    "    df['topic_name'] = topic_names\n",
    "    return topics, probs, topic_model, freq, df"
   ]
  },
  {
   "cell_type": "code",
   "execution_count": 282,
   "metadata": {},
   "outputs": [
    {
     "data": {
      "application/vnd.jupyter.widget-view+json": {
       "model_id": "bedf261b22d2440b9130c78f8d6d3fb9",
       "version_major": 2,
       "version_minor": 0
      },
      "text/plain": [
       "HBox(children=(HTML(value='Batches'), FloatProgress(value=0.0, max=16.0), HTML(value='')))"
      ]
     },
     "metadata": {},
     "output_type": "display_data"
    },
    {
     "name": "stderr",
     "output_type": "stream",
     "text": [
      "2022-02-01 12:26:44,704 - BERTopic - Transformed documents to Embeddings\n"
     ]
    },
    {
     "name": "stdout",
     "output_type": "stream",
     "text": [
      "\n"
     ]
    },
    {
     "name": "stderr",
     "output_type": "stream",
     "text": [
      "2022-02-01 12:26:47,163 - BERTopic - Reduced dimensionality with UMAP\n",
      "2022-02-01 12:26:47,196 - BERTopic - Clustered UMAP embeddings with HDBSCAN\n"
     ]
    },
    {
     "data": {
      "application/vnd.jupyter.widget-view+json": {
       "model_id": "2a98b07c75cd42cca9534614aaaab80a",
       "version_major": 2,
       "version_minor": 0
      },
      "text/plain": [
       "HBox(children=(HTML(value='Batches'), FloatProgress(value=0.0, max=16.0), HTML(value='')))"
      ]
     },
     "metadata": {},
     "output_type": "display_data"
    },
    {
     "name": "stderr",
     "output_type": "stream",
     "text": [
      "2022-02-01 12:27:49,923 - BERTopic - Transformed documents to Embeddings\n"
     ]
    },
    {
     "name": "stdout",
     "output_type": "stream",
     "text": [
      "\n"
     ]
    },
    {
     "name": "stderr",
     "output_type": "stream",
     "text": [
      "2022-02-01 12:27:51,991 - BERTopic - Reduced dimensionality with UMAP\n",
      "2022-02-01 12:27:52,051 - BERTopic - Clustered UMAP embeddings with HDBSCAN\n"
     ]
    }
   ],
   "source": [
    "# topic, probs, topic_model, freq, topic_df = train_bert(preprocessed_df, 'body')"
   ]
  },
  {
   "cell_type": "markdown",
   "metadata": {},
   "source": [
    "## 2. Sentiment Analysis for Posts using BERT"
   ]
  },
  {
   "cell_type": "code",
   "execution_count": 284,
   "metadata": {},
   "outputs": [
    {
     "name": "stdout",
     "output_type": "stream",
     "text": [
      "\u001b[33mWARNING: Ignoring invalid distribution -equests (/Users/saimuktevi/opt/anaconda3/lib/python3.8/site-packages)\u001b[0m\u001b[33m\n",
      "\u001b[0m\u001b[33mWARNING: Ignoring invalid distribution -equests (/Users/saimuktevi/opt/anaconda3/lib/python3.8/site-packages)\u001b[0m\u001b[33m\n",
      "\u001b[0mRequirement already satisfied: torch in /Users/saimuktevi/opt/anaconda3/lib/python3.8/site-packages (1.8.1)\n",
      "Requirement already satisfied: torchvision in /Users/saimuktevi/opt/anaconda3/lib/python3.8/site-packages (0.9.1)\n",
      "Collecting torchaudio\n",
      "  Downloading torchaudio-0.10.2-cp38-cp38-macosx_10_9_x86_64.whl (2.4 MB)\n",
      "\u001b[2K     \u001b[90m━━━━━━━━━━━━━━━━━━━━━━━━━━━━━━━━━━━━━━━━\u001b[0m \u001b[32m2.4/2.4 MB\u001b[0m \u001b[31m2.6 MB/s\u001b[0m eta \u001b[36m0:00:00\u001b[0m00:01\u001b[0m00:01\u001b[0m0m\n",
      "\u001b[?25hRequirement already satisfied: typing-extensions in /Users/saimuktevi/opt/anaconda3/lib/python3.8/site-packages (from torch) (3.7.4.3)\n",
      "Requirement already satisfied: numpy in /Users/saimuktevi/opt/anaconda3/lib/python3.8/site-packages (from torch) (1.22.1)\n",
      "Requirement already satisfied: pillow>=4.1.1 in /Users/saimuktevi/opt/anaconda3/lib/python3.8/site-packages (from torchvision) (8.0.1)\n",
      "  Downloading torchaudio-0.10.1-cp38-cp38-macosx_10_9_x86_64.whl (2.4 MB)\n",
      "\u001b[2K     \u001b[90m━━━━━━━━━━━━━━━━━━━━━━━━━━━━━━━━━━━━━━━━\u001b[0m \u001b[32m2.4/2.4 MB\u001b[0m \u001b[31m3.5 MB/s\u001b[0m eta \u001b[36m0:00:00\u001b[0m00:01\u001b[0m00:01\u001b[0m\n",
      "\u001b[?25h  Downloading torchaudio-0.10.0-cp38-cp38-macosx_10_9_x86_64.whl (2.4 MB)\n",
      "\u001b[2K     \u001b[90m━━━━━━━━━━━━━━━━━━━━━━━━━━━━━━━━━━━━━━━━\u001b[0m \u001b[32m2.4/2.4 MB\u001b[0m \u001b[31m4.1 MB/s\u001b[0m eta \u001b[36m0:00:00\u001b[0m00:01\u001b[0m00:01\u001b[0m\n",
      "\u001b[?25h  Downloading torchaudio-0.9.1-cp38-cp38-macosx_10_9_x86_64.whl (1.5 MB)\n",
      "\u001b[2K     \u001b[90m━━━━━━━━━━━━━━━━━━━━━━━━━━━━━━━━━━━━━━━━\u001b[0m \u001b[32m1.5/1.5 MB\u001b[0m \u001b[31m717.2 kB/s\u001b[0m eta \u001b[36m0:00:00\u001b[0m00:01\u001b[0m:01\u001b[0m\n",
      "\u001b[?25h  Downloading torchaudio-0.9.0-cp38-cp38-macosx_10_9_x86_64.whl (1.5 MB)\n",
      "\u001b[2K     \u001b[90m━━━━━━━━━━━━━━━━━━━━━━━━━━━━━━━━━━━━━━━━\u001b[0m \u001b[32m1.5/1.5 MB\u001b[0m \u001b[31m1.5 MB/s\u001b[0m eta \u001b[36m0:00:00\u001b[0m00:01\u001b[0m00:01\u001b[0m0m\n",
      "\u001b[?25h  Downloading torchaudio-0.8.1-cp38-cp38-macosx_10_9_x86_64.whl (1.5 MB)\n",
      "\u001b[2K     \u001b[90m━━━━━━━━━━━━━━━━━━━━━━━━━━━━━━━━━━━━━━━━\u001b[0m \u001b[32m1.5/1.5 MB\u001b[0m \u001b[31m2.8 MB/s\u001b[0m eta \u001b[36m0:00:00\u001b[0m00:01\u001b[0m00:01\u001b[0m\n",
      "\u001b[?25h\u001b[33mWARNING: Ignoring invalid distribution -equests (/Users/saimuktevi/opt/anaconda3/lib/python3.8/site-packages)\u001b[0m\u001b[33m\n",
      "\u001b[0mInstalling collected packages: torchaudio\n",
      "\u001b[33mWARNING: Ignoring invalid distribution -equests (/Users/saimuktevi/opt/anaconda3/lib/python3.8/site-packages)\u001b[0m\u001b[33m\n",
      "\u001b[0mSuccessfully installed torchaudio-0.8.1\n",
      "\u001b[33mWARNING: Ignoring invalid distribution -equests (/Users/saimuktevi/opt/anaconda3/lib/python3.8/site-packages)\u001b[0m\u001b[33m\n",
      "\u001b[0m\u001b[33mWARNING: Ignoring invalid distribution -equests (/Users/saimuktevi/opt/anaconda3/lib/python3.8/site-packages)\u001b[0m\u001b[33m\n",
      "\u001b[0m"
     ]
    }
   ],
   "source": [
    "# !pip install torch torchvision torchaudio"
   ]
  },
  {
   "cell_type": "code",
   "execution_count": 285,
   "metadata": {},
   "outputs": [
    {
     "name": "stdout",
     "output_type": "stream",
     "text": [
      "\u001b[33mWARNING: Ignoring invalid distribution -equests (/Users/saimuktevi/opt/anaconda3/lib/python3.8/site-packages)\u001b[0m\u001b[33m\n",
      "\u001b[0m\u001b[33mWARNING: Ignoring invalid distribution -equests (/Users/saimuktevi/opt/anaconda3/lib/python3.8/site-packages)\u001b[0m\u001b[33m\n",
      "\u001b[0mRequirement already satisfied: transformers in /Users/saimuktevi/opt/anaconda3/lib/python3.8/site-packages (4.16.2)\n",
      "Requirement already satisfied: requests in /Users/saimuktevi/.local/lib/python3.8/site-packages (2.25.1)\n",
      "Requirement already satisfied: beautifulsoup4 in /Users/saimuktevi/opt/anaconda3/lib/python3.8/site-packages (4.9.3)\n",
      "Requirement already satisfied: numpy>=1.17 in /Users/saimuktevi/opt/anaconda3/lib/python3.8/site-packages (from transformers) (1.22.1)\n",
      "Requirement already satisfied: regex!=2019.12.17 in /Users/saimuktevi/.local/lib/python3.8/site-packages (from transformers) (2020.11.13)\n",
      "Requirement already satisfied: huggingface-hub<1.0,>=0.1.0 in /Users/saimuktevi/opt/anaconda3/lib/python3.8/site-packages (from transformers) (0.4.0)\n",
      "Requirement already satisfied: tokenizers!=0.11.3,>=0.10.1 in /Users/saimuktevi/opt/anaconda3/lib/python3.8/site-packages (from transformers) (0.11.4)\n",
      "Requirement already satisfied: packaging>=20.0 in /Users/saimuktevi/opt/anaconda3/lib/python3.8/site-packages (from transformers) (21.3)\n",
      "Requirement already satisfied: pyyaml>=5.1 in /Users/saimuktevi/opt/anaconda3/lib/python3.8/site-packages (from transformers) (5.3.1)\n",
      "Requirement already satisfied: sacremoses in /Users/saimuktevi/opt/anaconda3/lib/python3.8/site-packages (from transformers) (0.0.47)\n",
      "Requirement already satisfied: tqdm>=4.27 in /Users/saimuktevi/opt/anaconda3/lib/python3.8/site-packages (from transformers) (4.50.2)\n",
      "Requirement already satisfied: filelock in /Users/saimuktevi/opt/anaconda3/lib/python3.8/site-packages (from transformers) (3.0.12)\n",
      "Requirement already satisfied: certifi>=2017.4.17 in /Users/saimuktevi/opt/anaconda3/lib/python3.8/site-packages (from requests) (2020.12.5)\n",
      "Requirement already satisfied: urllib3<1.27,>=1.21.1 in /Users/saimuktevi/opt/anaconda3/lib/python3.8/site-packages (from requests) (1.25.11)\n",
      "Requirement already satisfied: idna<3,>=2.5 in /Users/saimuktevi/opt/anaconda3/lib/python3.8/site-packages (from requests) (2.10)\n",
      "Requirement already satisfied: chardet<5,>=3.0.2 in /Users/saimuktevi/opt/anaconda3/lib/python3.8/site-packages (from requests) (3.0.4)\n",
      "Requirement already satisfied: soupsieve>1.2 in /Users/saimuktevi/.local/lib/python3.8/site-packages (from beautifulsoup4) (2.2)\n",
      "Requirement already satisfied: typing-extensions>=3.7.4.3 in /Users/saimuktevi/opt/anaconda3/lib/python3.8/site-packages (from huggingface-hub<1.0,>=0.1.0->transformers) (3.7.4.3)\n",
      "Requirement already satisfied: pyparsing!=3.0.5,>=2.0.2 in /Users/saimuktevi/opt/anaconda3/lib/python3.8/site-packages (from packaging>=20.0->transformers) (2.4.7)\n",
      "Requirement already satisfied: joblib in /Users/saimuktevi/opt/anaconda3/lib/python3.8/site-packages (from sacremoses->transformers) (1.1.0)\n",
      "Requirement already satisfied: click in /Users/saimuktevi/opt/anaconda3/lib/python3.8/site-packages (from sacremoses->transformers) (7.1.2)\n",
      "Requirement already satisfied: six in /Users/saimuktevi/opt/anaconda3/lib/python3.8/site-packages (from sacremoses->transformers) (1.15.0)\n",
      "\u001b[33mWARNING: Ignoring invalid distribution -equests (/Users/saimuktevi/opt/anaconda3/lib/python3.8/site-packages)\u001b[0m\u001b[33m\n",
      "\u001b[0m\u001b[33mWARNING: Ignoring invalid distribution -equests (/Users/saimuktevi/opt/anaconda3/lib/python3.8/site-packages)\u001b[0m\u001b[33m\n",
      "\u001b[0m\u001b[33mWARNING: Ignoring invalid distribution -equests (/Users/saimuktevi/opt/anaconda3/lib/python3.8/site-packages)\u001b[0m\u001b[33m\n",
      "\u001b[0m"
     ]
    }
   ],
   "source": [
    "# !pip install transformers requests beautifulsoup4"
   ]
  },
  {
   "cell_type": "code",
   "execution_count": 286,
   "metadata": {},
   "outputs": [],
   "source": [
    "from transformers import AutoTokenizer, AutoModelForSequenceClassification\n",
    "import torch\n",
    "import requests\n",
    "from bs4 import BeautifulSoup\n",
    "import re"
   ]
  },
  {
   "cell_type": "code",
   "execution_count": 287,
   "metadata": {},
   "outputs": [
    {
     "data": {
      "application/vnd.jupyter.widget-view+json": {
       "model_id": "cfa033dbc202495da616c9a71282fd96",
       "version_major": 2,
       "version_minor": 0
      },
      "text/plain": [
       "HBox(children=(HTML(value='Downloading'), FloatProgress(value=0.0, max=39.0), HTML(value='')))"
      ]
     },
     "metadata": {},
     "output_type": "display_data"
    },
    {
     "name": "stdout",
     "output_type": "stream",
     "text": [
      "\n"
     ]
    },
    {
     "data": {
      "application/vnd.jupyter.widget-view+json": {
       "model_id": "1fca06c914214530a8667ce3e14db062",
       "version_major": 2,
       "version_minor": 0
      },
      "text/plain": [
       "HBox(children=(HTML(value='Downloading'), FloatProgress(value=0.0, max=953.0), HTML(value='')))"
      ]
     },
     "metadata": {},
     "output_type": "display_data"
    },
    {
     "name": "stdout",
     "output_type": "stream",
     "text": [
      "\n"
     ]
    },
    {
     "data": {
      "application/vnd.jupyter.widget-view+json": {
       "model_id": "f1f01c820f5e42f9bfefb90c9c7373d5",
       "version_major": 2,
       "version_minor": 0
      },
      "text/plain": [
       "HBox(children=(HTML(value='Downloading'), FloatProgress(value=0.0, max=871891.0), HTML(value='')))"
      ]
     },
     "metadata": {},
     "output_type": "display_data"
    },
    {
     "name": "stdout",
     "output_type": "stream",
     "text": [
      "\n"
     ]
    },
    {
     "data": {
      "application/vnd.jupyter.widget-view+json": {
       "model_id": "87564e98c66243e7b6535c047ddc0219",
       "version_major": 2,
       "version_minor": 0
      },
      "text/plain": [
       "HBox(children=(HTML(value='Downloading'), FloatProgress(value=0.0, max=112.0), HTML(value='')))"
      ]
     },
     "metadata": {},
     "output_type": "display_data"
    },
    {
     "name": "stdout",
     "output_type": "stream",
     "text": [
      "\n"
     ]
    },
    {
     "data": {
      "application/vnd.jupyter.widget-view+json": {
       "model_id": "0c4b509866544b0a8aef1bfab7d9f5dd",
       "version_major": 2,
       "version_minor": 0
      },
      "text/plain": [
       "HBox(children=(HTML(value='Downloading'), FloatProgress(value=0.0, max=669491321.0), HTML(value='')))"
      ]
     },
     "metadata": {},
     "output_type": "display_data"
    },
    {
     "name": "stdout",
     "output_type": "stream",
     "text": [
      "\n"
     ]
    }
   ],
   "source": [
    "tokenizer = AutoTokenizer.from_pretrained('nlptown/bert-base-multilingual-uncased-sentiment')\n",
    "\n",
    "model = AutoModelForSequenceClassification.from_pretrained('nlptown/bert-base-multilingual-uncased-sentiment')"
   ]
  },
  {
   "cell_type": "code",
   "execution_count": 288,
   "metadata": {},
   "outputs": [],
   "source": [
    "def sentiment_score(review):\n",
    "    tokens = tokenizer.encode(review, return_tensors='pt')\n",
    "    result = model(tokens)\n",
    "    return int(torch.argmax(result.logits))+1"
   ]
  },
  {
   "cell_type": "code",
   "execution_count": 290,
   "metadata": {},
   "outputs": [],
   "source": [
    "preprocessed_df['sentiment'] = preprocessed_df['body'].apply(lambda x: sentiment_score(x[:512]))"
   ]
  },
  {
   "cell_type": "code",
   "execution_count": 291,
   "metadata": {},
   "outputs": [
    {
     "data": {
      "text/html": [
       "<div>\n",
       "<style scoped>\n",
       "    .dataframe tbody tr th:only-of-type {\n",
       "        vertical-align: middle;\n",
       "    }\n",
       "\n",
       "    .dataframe tbody tr th {\n",
       "        vertical-align: top;\n",
       "    }\n",
       "\n",
       "    .dataframe thead th {\n",
       "        text-align: right;\n",
       "    }\n",
       "</style>\n",
       "<table border=\"1\" class=\"dataframe\">\n",
       "  <thead>\n",
       "    <tr style=\"text-align: right;\">\n",
       "      <th></th>\n",
       "      <th>body</th>\n",
       "      <th>sentiment</th>\n",
       "    </tr>\n",
       "  </thead>\n",
       "  <tbody>\n",
       "    <tr>\n",
       "      <th>0</th>\n",
       "      <td>The previous thread was finally archived with ...</td>\n",
       "      <td>5</td>\n",
       "    </tr>\n",
       "    <tr>\n",
       "      <th>1</th>\n",
       "      <td>Tech Support: /r/techsupportComputer Recommend...</td>\n",
       "      <td>1</td>\n",
       "    </tr>\n",
       "    <tr>\n",
       "      <th>2</th>\n",
       "      <td>I'm a university student, and while I've taken...</td>\n",
       "      <td>2</td>\n",
       "    </tr>\n",
       "    <tr>\n",
       "      <th>3</th>\n",
       "      <td>For example, if i want to change the image spe...</td>\n",
       "      <td>3</td>\n",
       "    </tr>\n",
       "    <tr>\n",
       "      <th>4</th>\n",
       "      <td>I am always wondering about this. Why Internet...</td>\n",
       "      <td>2</td>\n",
       "    </tr>\n",
       "    <tr>\n",
       "      <th>...</th>\n",
       "      <td>...</td>\n",
       "      <td>...</td>\n",
       "    </tr>\n",
       "    <tr>\n",
       "      <th>487</th>\n",
       "      <td></td>\n",
       "      <td>4</td>\n",
       "    </tr>\n",
       "    <tr>\n",
       "      <th>488</th>\n",
       "      <td>I hear lots of people think that Computer Scie...</td>\n",
       "      <td>2</td>\n",
       "    </tr>\n",
       "    <tr>\n",
       "      <th>489</th>\n",
       "      <td></td>\n",
       "      <td>4</td>\n",
       "    </tr>\n",
       "    <tr>\n",
       "      <th>490</th>\n",
       "      <td></td>\n",
       "      <td>4</td>\n",
       "    </tr>\n",
       "    <tr>\n",
       "      <th>491</th>\n",
       "      <td>Hey guys.   I've programmed for a few years wi...</td>\n",
       "      <td>4</td>\n",
       "    </tr>\n",
       "  </tbody>\n",
       "</table>\n",
       "<p>492 rows × 2 columns</p>\n",
       "</div>"
      ],
      "text/plain": [
       "                                                  body  sentiment\n",
       "0    The previous thread was finally archived with ...          5\n",
       "1    Tech Support: /r/techsupportComputer Recommend...          1\n",
       "2    I'm a university student, and while I've taken...          2\n",
       "3    For example, if i want to change the image spe...          3\n",
       "4    I am always wondering about this. Why Internet...          2\n",
       "..                                                 ...        ...\n",
       "487                                                             4\n",
       "488  I hear lots of people think that Computer Scie...          2\n",
       "489                                                             4\n",
       "490                                                             4\n",
       "491  Hey guys.   I've programmed for a few years wi...          4\n",
       "\n",
       "[492 rows x 2 columns]"
      ]
     },
     "execution_count": 291,
     "metadata": {},
     "output_type": "execute_result"
    }
   ],
   "source": [
    "preprocessed_df[['body','sentiment']]"
   ]
  },
  {
   "cell_type": "code",
   "execution_count": 292,
   "metadata": {},
   "outputs": [
    {
     "data": {
      "text/plain": [
       "'The previous thread was finally archived with over 500 comments and replies! As well, it helped to *massively* cut down on the number of off topic posts on this subreddit, so that was awesome!This is the only place where college, career, and programming questions are allowed. They will be removed if they\\'re posted anywhere else.HOMEWORK HELP, TECH SUPPORT, AND PC PURCHASE ADVICE ARE STILL NOT ALLOWED!There are numerous subreddits more suited to those posts such as:/r/techsupport  /r/learnprogramming  /r/buildapc  /r/cscareerquestions  /r/csMajors Note: this thread is in \"contest mode\" so all questions have a chance at being at the top'"
      ]
     },
     "execution_count": 292,
     "metadata": {},
     "output_type": "execute_result"
    }
   ],
   "source": [
    "preprocessed_df['body'][0]"
   ]
  },
  {
   "cell_type": "code",
   "execution_count": 293,
   "metadata": {},
   "outputs": [
    {
     "data": {
      "text/plain": [
       "\"Tech Support: /r/techsupportComputer Recommendations: /r/SuggestALaptop or /r/buildapcSorry if this comes off as rude, but despite the previous stickied post people keep making posts asking for tech support or asking which Mac Book they should buy for college. This isn't the subreddit for those posts. Computer Science != IT ~~despite what all my relatives think~~. This thread also is not the place for those questions. Use one of the above subreddits.\""
      ]
     },
     "execution_count": 293,
     "metadata": {},
     "output_type": "execute_result"
    }
   ],
   "source": [
    "preprocessed_df['body'][1]"
   ]
  },
  {
   "cell_type": "markdown",
   "metadata": {},
   "source": [
    "## 3. Sentiment Analysis for Associated Comments using BERT"
   ]
  },
  {
   "cell_type": "code",
   "execution_count": null,
   "metadata": {},
   "outputs": [],
   "source": []
  }
 ],
 "metadata": {
  "kernelspec": {
   "display_name": "Python 3",
   "language": "python",
   "name": "python3"
  },
  "language_info": {
   "codemirror_mode": {
    "name": "ipython",
    "version": 3
   },
   "file_extension": ".py",
   "mimetype": "text/x-python",
   "name": "python",
   "nbconvert_exporter": "python",
   "pygments_lexer": "ipython3",
   "version": "3.8.5"
  }
 },
 "nbformat": 4,
 "nbformat_minor": 5
}
