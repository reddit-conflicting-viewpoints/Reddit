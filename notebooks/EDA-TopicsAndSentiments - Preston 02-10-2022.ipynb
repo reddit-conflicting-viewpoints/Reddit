{
 "cells": [
  {
   "cell_type": "code",
   "execution_count": 8,
   "id": "38865451",
   "metadata": {},
   "outputs": [
    {
     "ename": "ModuleNotFoundError",
     "evalue": "No module named 'src.models.bertmodels'",
     "output_type": "error",
     "traceback": [
      "\u001b[0;31m---------------------------------------------------------------------------\u001b[0m",
      "\u001b[0;31mModuleNotFoundError\u001b[0m                       Traceback (most recent call last)",
      "\u001b[0;32m/var/folders/92/_804j2_s6cb9ytq1q1j27h500000gn/T/ipykernel_40005/3587750970.py\u001b[0m in \u001b[0;36m<module>\u001b[0;34m\u001b[0m\n\u001b[1;32m      1\u001b[0m \u001b[0;32mimport\u001b[0m \u001b[0mpandas\u001b[0m \u001b[0;32mas\u001b[0m \u001b[0mpd\u001b[0m\u001b[0;34m\u001b[0m\u001b[0;34m\u001b[0m\u001b[0m\n\u001b[1;32m      2\u001b[0m \u001b[0;32mimport\u001b[0m \u001b[0mnumpy\u001b[0m \u001b[0;32mas\u001b[0m \u001b[0mnp\u001b[0m\u001b[0;34m\u001b[0m\u001b[0;34m\u001b[0m\u001b[0m\n\u001b[0;32m----> 3\u001b[0;31m \u001b[0;32mfrom\u001b[0m \u001b[0msrc\u001b[0m\u001b[0;34m.\u001b[0m\u001b[0mmodels\u001b[0m\u001b[0;34m.\u001b[0m\u001b[0mbertmodels\u001b[0m \u001b[0;32mimport\u001b[0m \u001b[0mBertModels\u001b[0m\u001b[0;34m\u001b[0m\u001b[0;34m\u001b[0m\u001b[0m\n\u001b[0m",
      "\u001b[0;31mModuleNotFoundError\u001b[0m: No module named 'src.models.bertmodels'"
     ]
    }
   ],
   "source": [
    "import pandas as pd\n",
    "import numpy as np\n",
    "from src.models.bertmodels import BertModels"
   ]
  },
  {
   "cell_type": "code",
   "execution_count": 2,
   "id": "453b05b8",
   "metadata": {},
   "outputs": [],
   "source": [
    "def remove_escape_chars(s):\n",
    "    \"\"\"\n",
    "    Helper function used to replace hashtags with empty string\n",
    "    \"\"\"\n",
    "    if isinstance(s, str):\n",
    "        return re.sub(r'\\n', '', s)\n",
    "    else:\n",
    "        return s\n",
    "def filter_urls(s):\n",
    "    \"\"\"\n",
    "    Helper function used to replace URLs with empty string\n",
    "    \"\"\"\n",
    "    if isinstance(s, str):\n",
    "        return re.sub(r'(https|http)?:\\/\\/(\\w|\\.|\\/|\\?|\\=|\\&|\\%)*\\b', '', s, flags=re.MULTILINE)\n",
    "    else:\n",
    "        return s"
   ]
  },
  {
   "cell_type": "markdown",
   "id": "67afb6ce",
   "metadata": {},
   "source": [
    "## EDA Posts"
   ]
  },
  {
   "cell_type": "code",
   "execution_count": 3,
   "id": "20ac4b69",
   "metadata": {},
   "outputs": [],
   "source": [
    "cs_posts = pd.read_csv('../data/raw/computerscience_hot_posts.csv')\n",
    "cs_comments = pd.read_csv('../data/raw/computerscience_hot_comments.csv')\n",
    "aita_posts = pd.read_csv('../data/raw/AmItheAsshole_hot_posts.csv')\n",
    "aita_comments = pd.read_csv('../data/raw/AmItheAsshole_hot_comments.csv')\n",
    "antiwork_posts = pd.read_csv('../data/raw/antiwork_hot_posts.csv')\n",
    "antiwork_comments = pd.read_csv('../data/raw/antiwork_hot_comments.csv')\n",
    "loseit_posts = pd.read_csv('../data/raw/loseit_hot_posts.csv')\n",
    "loseit_comments = pd.read_csv('../data/raw/loseit_hot_comments.csv')\n",
    "music_posts = pd.read_csv('../data/raw/music_hot_posts.csv')\n",
    "music_comments = pd.read_csv('../data/raw/music_hot_comments.csv')\n",
    "nsq_posts = pd.read_csv('../data/raw/NoStupidQuestions_hot_posts.csv')\n",
    "nsq_comments = pd.read_csv('../data/raw/NoStupidQuestions_hot_comments.csv')"
   ]
  },
  {
   "cell_type": "code",
   "execution_count": 4,
   "id": "08ae1371",
   "metadata": {},
   "outputs": [],
   "source": [
    "posts_dic = {'cs': cs_posts, 'aita': aita_posts, 'antiwork': antiwork_posts, 'loseit': loseit_posts, 'music': music_posts, 'nsq': nsq_posts}\n",
    "comments_dic = {'cs': cs_comments, 'aita': aita_comments, 'antiwork': antiwork_comments, 'loseit': loseit_comments, 'music': music_comments, 'nsq': nsq_comments}"
   ]
  },
  {
   "cell_type": "code",
   "execution_count": 5,
   "id": "8c64d8ff",
   "metadata": {},
   "outputs": [],
   "source": [
    "for i in posts_dic.keys():\n",
    "    posts_dic[i] = PreProcess.preprocess(posts_dic[i], 'body')\n",
    "    for j in range(len(posts_dic[i].index)):\n",
    "        posts_dic[i].at[j, 'body_string'] = ' '.join([str(elem) for elem in posts_dic[i].at[j, 'body_stem']])\n",
    "    posts_dic[i]['body'] = posts_dic[i]['body'].apply(remove_escape_chars)\n",
    "    posts_dic[i]['body'] = posts_dic[i]['body'].apply(filter_urls)"
   ]
  },
  {
   "cell_type": "code",
   "execution_count": 6,
   "id": "6d78c028",
   "metadata": {},
   "outputs": [
    {
     "data": {
      "text/html": [
       "<div>\n",
       "<style scoped>\n",
       "    .dataframe tbody tr th:only-of-type {\n",
       "        vertical-align: middle;\n",
       "    }\n",
       "\n",
       "    .dataframe tbody tr th {\n",
       "        vertical-align: top;\n",
       "    }\n",
       "\n",
       "    .dataframe thead th {\n",
       "        text-align: right;\n",
       "    }\n",
       "</style>\n",
       "<table border=\"1\" class=\"dataframe\">\n",
       "  <thead>\n",
       "    <tr style=\"text-align: right;\">\n",
       "      <th></th>\n",
       "      <th>post_id</th>\n",
       "      <th>title</th>\n",
       "      <th>score</th>\n",
       "      <th>upvote_ratio</th>\n",
       "      <th>subreddit</th>\n",
       "      <th>url</th>\n",
       "      <th>num_comments</th>\n",
       "      <th>body</th>\n",
       "      <th>created</th>\n",
       "      <th>body_word_token</th>\n",
       "      <th>body_filtered</th>\n",
       "      <th>body_stem</th>\n",
       "      <th>body_string</th>\n",
       "    </tr>\n",
       "  </thead>\n",
       "  <tbody>\n",
       "    <tr>\n",
       "      <th>0</th>\n",
       "      <td>spnpvh</td>\n",
       "      <td>Books about CS (Non-Fiction, Fiction, Biograph...</td>\n",
       "      <td>18</td>\n",
       "      <td>0.96</td>\n",
       "      <td>computerscience</td>\n",
       "      <td>https://www.reddit.com/r/computerscience/comme...</td>\n",
       "      <td>5</td>\n",
       "      <td>Looking for books related to computer science ...</td>\n",
       "      <td>1.644546e+09</td>\n",
       "      <td>[Looking, for, books, related, to, computer, s...</td>\n",
       "      <td>[looking, books, related, computer, science, l...</td>\n",
       "      <td>[look, book, relat, comput, scienc, learn, mat...</td>\n",
       "      <td>look book relat comput scienc learn materi bio...</td>\n",
       "    </tr>\n",
       "    <tr>\n",
       "      <th>1</th>\n",
       "      <td>spml7t</td>\n",
       "      <td>ideas for valentines day coding related gifts?</td>\n",
       "      <td>5</td>\n",
       "      <td>0.86</td>\n",
       "      <td>computerscience</td>\n",
       "      <td>https://www.reddit.com/r/computerscience/comme...</td>\n",
       "      <td>7</td>\n",
       "      <td>anyone have any idea for a cute gift i can mak...</td>\n",
       "      <td>1.644543e+09</td>\n",
       "      <td>[anyone, have, any, idea, for, a, cute, gift, ...</td>\n",
       "      <td>[anyone, idea, cute, gift, make, programming, ...</td>\n",
       "      <td>[anyon, idea, cute, gift, make, program, id, r...</td>\n",
       "      <td>anyon idea cute gift make program id realli ap...</td>\n",
       "    </tr>\n",
       "    <tr>\n",
       "      <th>2</th>\n",
       "      <td>sp7b3q</td>\n",
       "      <td>Prim's Algorithm produces a Spanning Tree</td>\n",
       "      <td>31</td>\n",
       "      <td>0.97</td>\n",
       "      <td>computerscience</td>\n",
       "      <td>https://www.reddit.com/r/computerscience/comme...</td>\n",
       "      <td>2</td>\n",
       "      <td>I have been studing Algorithms using Stanford ...</td>\n",
       "      <td>1.644502e+09</td>\n",
       "      <td>[I, have, been, studing, Algorithms, using, St...</td>\n",
       "      <td>[studing, algorithms, using, stanford, algorit...</td>\n",
       "      <td>[stude, algorithm, use, stanford, algorithm, c...</td>\n",
       "      <td>stude algorithm use stanford algorithm cours c...</td>\n",
       "    </tr>\n",
       "    <tr>\n",
       "      <th>3</th>\n",
       "      <td>spay93</td>\n",
       "      <td>Where to learn Data Structures &amp; Algorithms fu...</td>\n",
       "      <td>13</td>\n",
       "      <td>0.93</td>\n",
       "      <td>computerscience</td>\n",
       "      <td>https://www.reddit.com/r/computerscience/comme...</td>\n",
       "      <td>3</td>\n",
       "      <td>I want to get into coding interviews but first...</td>\n",
       "      <td>1.644512e+09</td>\n",
       "      <td>[I, want, to, get, into, coding, interviews, b...</td>\n",
       "      <td>[want, get, coding, interviews, first, want, l...</td>\n",
       "      <td>[want, get, code, interview, first, want, lear...</td>\n",
       "      <td>want get code interview first want learn found...</td>\n",
       "    </tr>\n",
       "    <tr>\n",
       "      <th>4</th>\n",
       "      <td>sprt86</td>\n",
       "      <td>Adding class projects to resume</td>\n",
       "      <td>1</td>\n",
       "      <td>1.00</td>\n",
       "      <td>computerscience</td>\n",
       "      <td>https://www.reddit.com/r/computerscience/comme...</td>\n",
       "      <td>0</td>\n",
       "      <td>When adding class projects to my resume, shoul...</td>\n",
       "      <td>1.644559e+09</td>\n",
       "      <td>[When, adding, class, projects, to, my, resume...</td>\n",
       "      <td>[adding, class, projects, resume, include, cla...</td>\n",
       "      <td>[ad, class, project, resum, includ, class, lis...</td>\n",
       "      <td>ad class project resum includ class list tikta...</td>\n",
       "    </tr>\n",
       "    <tr>\n",
       "      <th>...</th>\n",
       "      <td>...</td>\n",
       "      <td>...</td>\n",
       "      <td>...</td>\n",
       "      <td>...</td>\n",
       "      <td>...</td>\n",
       "      <td>...</td>\n",
       "      <td>...</td>\n",
       "      <td>...</td>\n",
       "      <td>...</td>\n",
       "      <td>...</td>\n",
       "      <td>...</td>\n",
       "      <td>...</td>\n",
       "      <td>...</td>\n",
       "    </tr>\n",
       "    <tr>\n",
       "      <th>495</th>\n",
       "      <td>qb5blt</td>\n",
       "      <td>From a memory/efficiency point of view, is the...</td>\n",
       "      <td>0</td>\n",
       "      <td>0.20</td>\n",
       "      <td>computerscience</td>\n",
       "      <td>https://www.reddit.com/r/computerscience/comme...</td>\n",
       "      <td>2</td>\n",
       "      <td>I lost my wallet recently, containing my debit...</td>\n",
       "      <td>1.634624e+09</td>\n",
       "      <td>[I, lost, my, wallet, recently, ,, containing,...</td>\n",
       "      <td>[lost, wallet, recently, containing, debit, cr...</td>\n",
       "      <td>[lost, wallet, recent, contain, debit, credit,...</td>\n",
       "      <td>lost wallet recent contain debit credit card l...</td>\n",
       "    </tr>\n",
       "    <tr>\n",
       "      <th>496</th>\n",
       "      <td>qabacx</td>\n",
       "      <td>Extended use of math in computer science?</td>\n",
       "      <td>71</td>\n",
       "      <td>0.93</td>\n",
       "      <td>computerscience</td>\n",
       "      <td>https://www.reddit.com/r/computerscience/comme...</td>\n",
       "      <td>33</td>\n",
       "      <td>Hey I’m kind of new to computer science learni...</td>\n",
       "      <td>1.634517e+09</td>\n",
       "      <td>[Hey, I, ’, m, kind, of, new, to, computer, sc...</td>\n",
       "      <td>[hey, kind, new, computer, science, learning, ...</td>\n",
       "      <td>[hey, kind, new, comput, scienc, learn, one, t...</td>\n",
       "      <td>hey kind new comput scienc learn one thing kee...</td>\n",
       "    </tr>\n",
       "    <tr>\n",
       "      <th>497</th>\n",
       "      <td>qah5lk</td>\n",
       "      <td>Do computers calculate irrational and rational...</td>\n",
       "      <td>14</td>\n",
       "      <td>0.87</td>\n",
       "      <td>computerscience</td>\n",
       "      <td>https://www.reddit.com/r/computerscience/comme...</td>\n",
       "      <td>9</td>\n",
       "      <td></td>\n",
       "      <td>1.634539e+09</td>\n",
       "      <td>[]</td>\n",
       "      <td>[]</td>\n",
       "      <td>[]</td>\n",
       "      <td></td>\n",
       "    </tr>\n",
       "    <tr>\n",
       "      <th>498</th>\n",
       "      <td>qakzly</td>\n",
       "      <td>Wrong Algorithm ? I found this algorithm on ge...</td>\n",
       "      <td>5</td>\n",
       "      <td>0.73</td>\n",
       "      <td>computerscience</td>\n",
       "      <td>/r/AskComputerScience/comments/qakxks/wrong_al...</td>\n",
       "      <td>5</td>\n",
       "      <td></td>\n",
       "      <td>1.634557e+09</td>\n",
       "      <td>[]</td>\n",
       "      <td>[]</td>\n",
       "      <td>[]</td>\n",
       "      <td></td>\n",
       "    </tr>\n",
       "    <tr>\n",
       "      <th>499</th>\n",
       "      <td>qap6xe</td>\n",
       "      <td>An Unbeatable ModifiedTuring Test</td>\n",
       "      <td>0</td>\n",
       "      <td>0.50</td>\n",
       "      <td>computerscience</td>\n",
       "      <td>https://www.reddit.com/r/computerscience/comme...</td>\n",
       "      <td>1</td>\n",
       "      <td>I’d like to propose a modified version of the ...</td>\n",
       "      <td>1.634572e+09</td>\n",
       "      <td>[I, ’, d, like, to, propose, a, modified, vers...</td>\n",
       "      <td>[like, propose, modified, version, turing, tes...</td>\n",
       "      <td>[like, propos, modifi, version, ture, test, be...</td>\n",
       "      <td>like propos modifi version ture test believ co...</td>\n",
       "    </tr>\n",
       "  </tbody>\n",
       "</table>\n",
       "<p>500 rows × 13 columns</p>\n",
       "</div>"
      ],
      "text/plain": [
       "    post_id                                              title  score  \\\n",
       "0    spnpvh  Books about CS (Non-Fiction, Fiction, Biograph...     18   \n",
       "1    spml7t     ideas for valentines day coding related gifts?      5   \n",
       "2    sp7b3q          Prim's Algorithm produces a Spanning Tree     31   \n",
       "3    spay93  Where to learn Data Structures & Algorithms fu...     13   \n",
       "4    sprt86                    Adding class projects to resume      1   \n",
       "..      ...                                                ...    ...   \n",
       "495  qb5blt  From a memory/efficiency point of view, is the...      0   \n",
       "496  qabacx          Extended use of math in computer science?     71   \n",
       "497  qah5lk  Do computers calculate irrational and rational...     14   \n",
       "498  qakzly  Wrong Algorithm ? I found this algorithm on ge...      5   \n",
       "499  qap6xe                  An Unbeatable ModifiedTuring Test      0   \n",
       "\n",
       "     upvote_ratio        subreddit  \\\n",
       "0            0.96  computerscience   \n",
       "1            0.86  computerscience   \n",
       "2            0.97  computerscience   \n",
       "3            0.93  computerscience   \n",
       "4            1.00  computerscience   \n",
       "..            ...              ...   \n",
       "495          0.20  computerscience   \n",
       "496          0.93  computerscience   \n",
       "497          0.87  computerscience   \n",
       "498          0.73  computerscience   \n",
       "499          0.50  computerscience   \n",
       "\n",
       "                                                   url  num_comments  \\\n",
       "0    https://www.reddit.com/r/computerscience/comme...             5   \n",
       "1    https://www.reddit.com/r/computerscience/comme...             7   \n",
       "2    https://www.reddit.com/r/computerscience/comme...             2   \n",
       "3    https://www.reddit.com/r/computerscience/comme...             3   \n",
       "4    https://www.reddit.com/r/computerscience/comme...             0   \n",
       "..                                                 ...           ...   \n",
       "495  https://www.reddit.com/r/computerscience/comme...             2   \n",
       "496  https://www.reddit.com/r/computerscience/comme...            33   \n",
       "497  https://www.reddit.com/r/computerscience/comme...             9   \n",
       "498  /r/AskComputerScience/comments/qakxks/wrong_al...             5   \n",
       "499  https://www.reddit.com/r/computerscience/comme...             1   \n",
       "\n",
       "                                                  body       created  \\\n",
       "0    Looking for books related to computer science ...  1.644546e+09   \n",
       "1    anyone have any idea for a cute gift i can mak...  1.644543e+09   \n",
       "2    I have been studing Algorithms using Stanford ...  1.644502e+09   \n",
       "3    I want to get into coding interviews but first...  1.644512e+09   \n",
       "4    When adding class projects to my resume, shoul...  1.644559e+09   \n",
       "..                                                 ...           ...   \n",
       "495  I lost my wallet recently, containing my debit...  1.634624e+09   \n",
       "496  Hey I’m kind of new to computer science learni...  1.634517e+09   \n",
       "497                                                     1.634539e+09   \n",
       "498                                                     1.634557e+09   \n",
       "499  I’d like to propose a modified version of the ...  1.634572e+09   \n",
       "\n",
       "                                       body_word_token  \\\n",
       "0    [Looking, for, books, related, to, computer, s...   \n",
       "1    [anyone, have, any, idea, for, a, cute, gift, ...   \n",
       "2    [I, have, been, studing, Algorithms, using, St...   \n",
       "3    [I, want, to, get, into, coding, interviews, b...   \n",
       "4    [When, adding, class, projects, to, my, resume...   \n",
       "..                                                 ...   \n",
       "495  [I, lost, my, wallet, recently, ,, containing,...   \n",
       "496  [Hey, I, ’, m, kind, of, new, to, computer, sc...   \n",
       "497                                                 []   \n",
       "498                                                 []   \n",
       "499  [I, ’, d, like, to, propose, a, modified, vers...   \n",
       "\n",
       "                                         body_filtered  \\\n",
       "0    [looking, books, related, computer, science, l...   \n",
       "1    [anyone, idea, cute, gift, make, programming, ...   \n",
       "2    [studing, algorithms, using, stanford, algorit...   \n",
       "3    [want, get, coding, interviews, first, want, l...   \n",
       "4    [adding, class, projects, resume, include, cla...   \n",
       "..                                                 ...   \n",
       "495  [lost, wallet, recently, containing, debit, cr...   \n",
       "496  [hey, kind, new, computer, science, learning, ...   \n",
       "497                                                 []   \n",
       "498                                                 []   \n",
       "499  [like, propose, modified, version, turing, tes...   \n",
       "\n",
       "                                             body_stem  \\\n",
       "0    [look, book, relat, comput, scienc, learn, mat...   \n",
       "1    [anyon, idea, cute, gift, make, program, id, r...   \n",
       "2    [stude, algorithm, use, stanford, algorithm, c...   \n",
       "3    [want, get, code, interview, first, want, lear...   \n",
       "4    [ad, class, project, resum, includ, class, lis...   \n",
       "..                                                 ...   \n",
       "495  [lost, wallet, recent, contain, debit, credit,...   \n",
       "496  [hey, kind, new, comput, scienc, learn, one, t...   \n",
       "497                                                 []   \n",
       "498                                                 []   \n",
       "499  [like, propos, modifi, version, ture, test, be...   \n",
       "\n",
       "                                           body_string  \n",
       "0    look book relat comput scienc learn materi bio...  \n",
       "1    anyon idea cute gift make program id realli ap...  \n",
       "2    stude algorithm use stanford algorithm cours c...  \n",
       "3    want get code interview first want learn found...  \n",
       "4    ad class project resum includ class list tikta...  \n",
       "..                                                 ...  \n",
       "495  lost wallet recent contain debit credit card l...  \n",
       "496  hey kind new comput scienc learn one thing kee...  \n",
       "497                                                     \n",
       "498                                                     \n",
       "499  like propos modifi version ture test believ co...  \n",
       "\n",
       "[500 rows x 13 columns]"
      ]
     },
     "execution_count": 6,
     "metadata": {},
     "output_type": "execute_result"
    }
   ],
   "source": [
    "posts_dic['cs']"
   ]
  },
  {
   "cell_type": "code",
   "execution_count": 8,
   "id": "3c06aad4",
   "metadata": {},
   "outputs": [],
   "source": [
    "def eda(df, pre='body', subreddit=''):\n",
    "    \n",
    "    print('Subreddit: ',  subreddit)\n",
    "    print(\"Number of Posts:\",df.shape[0])\n",
    "    \n",
    "    all_words = [word for tokens in df[pre + '_filtered'] for word in tokens]\n",
    "    post_lengths = [len(tokens) for tokens in df[pre + '_filtered']]\n",
    "    vocab = sorted(list(set(all_words)))\n",
    "\n",
    "    print('{} words total (after preprocessing), with a vocabulary size of {}'.format(len(all_words), len(vocab)))\n",
    "    print('Max post length is {}'.format(max(post_lengths)))\n",
    "    \n",
    "    flat_words = [item for sublist in df[pre + '_filtered'] for item in sublist]\n",
    "    word_freq = FreqDist(flat_words)\n",
    "    fdf = pd.DataFrame(word_freq.most_common(20), columns=['word', 'frequency'])\n",
    "    fdf.plot(kind='bar', x='word', rot=70, title=subreddit)"
   ]
  },
  {
   "cell_type": "code",
   "execution_count": 9,
   "id": "0f28b8b1",
   "metadata": {
    "scrolled": false
   },
   "outputs": [
    {
     "name": "stdout",
     "output_type": "stream",
     "text": [
      "Subreddit:  cs\n",
      "Number of Posts: 500\n",
      "22590 words total (after preprocessing), with a vocabulary size of 5092\n",
      "Max post length is 399\n",
      "Subreddit:  aita\n",
      "Number of Posts: 752\n",
      "129147 words total (after preprocessing), with a vocabulary size of 10883\n",
      "Max post length is 521\n",
      "Subreddit:  antiwork\n",
      "Number of Posts: 942\n",
      "51350 words total (after preprocessing), with a vocabulary size of 7990\n",
      "Max post length is 1276\n",
      "Subreddit:  loseit\n",
      "Number of Posts: 788\n",
      "86729 words total (after preprocessing), with a vocabulary size of 9270\n",
      "Max post length is 1262\n",
      "Subreddit:  music\n",
      "Number of Posts: 394\n",
      "9432 words total (after preprocessing), with a vocabulary size of 3480\n",
      "Max post length is 699\n",
      "Subreddit:  nsq\n",
      "Number of Posts: 971\n",
      "20075 words total (after preprocessing), with a vocabulary size of 5490\n",
      "Max post length is 279\n"
     ]
    },
    {
     "data": {
      "image/png": "[encoded data removed]",
      "text/plain": [
       "<Figure size 432x288 with 1 Axes>"
      ]
     },
     "metadata": {
      "needs_background": "light"
     },
     "output_type": "display_data"
    },
    {
     "data": {
      "image/png": "[encoded data removed]",
      "text/plain": [
       "<Figure size 432x288 with 1 Axes>"
      ]
     },
     "metadata": {
      "needs_background": "light"
     },
     "output_type": "display_data"
    },
    {
     "data": {
      "image/png": "[encoded data removed]",
      "text/plain": [
       "<Figure size 432x288 with 1 Axes>"
      ]
     },
     "metadata": {
      "needs_background": "light"
     },
     "output_type": "display_data"
    },
    {
     "data": {
      "image/png": "[encoded data removed]",
      "text/plain": [
       "<Figure size 432x288 with 1 Axes>"
      ]
     },
     "metadata": {
      "needs_background": "light"
     },
     "output_type": "display_data"
    },
    {
     "data": {
      "image/png": "[encoded data removed]",
      "text/plain": [
       "<Figure size 432x288 with 1 Axes>"
      ]
     },
     "metadata": {
      "needs_background": "light"
     },
     "output_type": "display_data"
    },
    {
     "data": {
      "image/png": "[encoded data removed]",
      "text/plain": [
       "<Figure size 432x288 with 1 Axes>"
      ]
     },
     "metadata": {
      "needs_background": "light"
     },
     "output_type": "display_data"
    }
   ],
   "source": [
    "for i in posts_dic.keys():\n",
    "    eda(posts_dic[i], subreddit=i)"
   ]
  },
  {
   "cell_type": "markdown",
   "id": "9ded4e0b",
   "metadata": {},
   "source": [
    "## EDA Comments "
   ]
  },
  {
   "cell_type": "code",
   "execution_count": 10,
   "id": "a2f556d3",
   "metadata": {},
   "outputs": [
    {
     "data": {
      "text/html": [
       "<div>\n",
       "<style scoped>\n",
       "    .dataframe tbody tr th:only-of-type {\n",
       "        vertical-align: middle;\n",
       "    }\n",
       "\n",
       "    .dataframe tbody tr th {\n",
       "        vertical-align: top;\n",
       "    }\n",
       "\n",
       "    .dataframe thead th {\n",
       "        text-align: right;\n",
       "    }\n",
       "</style>\n",
       "<table border=\"1\" class=\"dataframe\">\n",
       "  <thead>\n",
       "    <tr style=\"text-align: right;\">\n",
       "      <th></th>\n",
       "      <th>post_id</th>\n",
       "      <th>comment_id</th>\n",
       "      <th>parent_id</th>\n",
       "      <th>comment</th>\n",
       "      <th>up_vote_count</th>\n",
       "      <th>down_vote_count</th>\n",
       "      <th>controversiality</th>\n",
       "      <th>total_awards_received</th>\n",
       "      <th>score</th>\n",
       "      <th>is_locked</th>\n",
       "      <th>is_collapsed</th>\n",
       "      <th>is_submitter</th>\n",
       "      <th>created_utc</th>\n",
       "    </tr>\n",
       "  </thead>\n",
       "  <tbody>\n",
       "    <tr>\n",
       "      <th>0</th>\n",
       "      <td>spnpvh</td>\n",
       "      <td>hwgsuow</td>\n",
       "      <td>t3_spnpvh</td>\n",
       "      <td>Xerox PARC didn't just invent the GUI, they in...</td>\n",
       "      <td>2</td>\n",
       "      <td>0</td>\n",
       "      <td>0</td>\n",
       "      <td>0</td>\n",
       "      <td>2</td>\n",
       "      <td>False</td>\n",
       "      <td>False</td>\n",
       "      <td>False</td>\n",
       "      <td>1.644555e+09</td>\n",
       "    </tr>\n",
       "    <tr>\n",
       "      <th>1</th>\n",
       "      <td>spnpvh</td>\n",
       "      <td>hwgdcg1</td>\n",
       "      <td>t3_spnpvh</td>\n",
       "      <td>I recently went through The Innovators. It giv...</td>\n",
       "      <td>3</td>\n",
       "      <td>0</td>\n",
       "      <td>0</td>\n",
       "      <td>0</td>\n",
       "      <td>3</td>\n",
       "      <td>False</td>\n",
       "      <td>False</td>\n",
       "      <td>False</td>\n",
       "      <td>1.644547e+09</td>\n",
       "    </tr>\n",
       "    <tr>\n",
       "      <th>2</th>\n",
       "      <td>spnpvh</td>\n",
       "      <td>hwgslxi</td>\n",
       "      <td>t3_spnpvh</td>\n",
       "      <td>The Unicorn Project is pretty good.</td>\n",
       "      <td>1</td>\n",
       "      <td>0</td>\n",
       "      <td>0</td>\n",
       "      <td>0</td>\n",
       "      <td>1</td>\n",
       "      <td>False</td>\n",
       "      <td>False</td>\n",
       "      <td>False</td>\n",
       "      <td>1.644555e+09</td>\n",
       "    </tr>\n",
       "    <tr>\n",
       "      <th>3</th>\n",
       "      <td>spnpvh</td>\n",
       "      <td>hwgtesm</td>\n",
       "      <td>t3_spnpvh</td>\n",
       "      <td>For fiction stories that arguably contain comp...</td>\n",
       "      <td>1</td>\n",
       "      <td>0</td>\n",
       "      <td>0</td>\n",
       "      <td>0</td>\n",
       "      <td>1</td>\n",
       "      <td>False</td>\n",
       "      <td>False</td>\n",
       "      <td>False</td>\n",
       "      <td>1.644555e+09</td>\n",
       "    </tr>\n",
       "    <tr>\n",
       "      <th>4</th>\n",
       "      <td>spnpvh</td>\n",
       "      <td>hwgygdz</td>\n",
       "      <td>t3_spnpvh</td>\n",
       "      <td>Cliff Stoll's [*Cuckoo's Egg*](https://en.wiki...</td>\n",
       "      <td>1</td>\n",
       "      <td>0</td>\n",
       "      <td>0</td>\n",
       "      <td>0</td>\n",
       "      <td>1</td>\n",
       "      <td>False</td>\n",
       "      <td>False</td>\n",
       "      <td>False</td>\n",
       "      <td>1.644558e+09</td>\n",
       "    </tr>\n",
       "  </tbody>\n",
       "</table>\n",
       "</div>"
      ],
      "text/plain": [
       "  post_id comment_id  parent_id  \\\n",
       "0  spnpvh    hwgsuow  t3_spnpvh   \n",
       "1  spnpvh    hwgdcg1  t3_spnpvh   \n",
       "2  spnpvh    hwgslxi  t3_spnpvh   \n",
       "3  spnpvh    hwgtesm  t3_spnpvh   \n",
       "4  spnpvh    hwgygdz  t3_spnpvh   \n",
       "\n",
       "                                             comment  up_vote_count  \\\n",
       "0  Xerox PARC didn't just invent the GUI, they in...              2   \n",
       "1  I recently went through The Innovators. It giv...              3   \n",
       "2                The Unicorn Project is pretty good.              1   \n",
       "3  For fiction stories that arguably contain comp...              1   \n",
       "4  Cliff Stoll's [*Cuckoo's Egg*](https://en.wiki...              1   \n",
       "\n",
       "   down_vote_count  controversiality  total_awards_received  score  is_locked  \\\n",
       "0                0                 0                      0      2      False   \n",
       "1                0                 0                      0      3      False   \n",
       "2                0                 0                      0      1      False   \n",
       "3                0                 0                      0      1      False   \n",
       "4                0                 0                      0      1      False   \n",
       "\n",
       "   is_collapsed  is_submitter   created_utc  \n",
       "0         False         False  1.644555e+09  \n",
       "1         False         False  1.644547e+09  \n",
       "2         False         False  1.644555e+09  \n",
       "3         False         False  1.644555e+09  \n",
       "4         False         False  1.644558e+09  "
      ]
     },
     "execution_count": 10,
     "metadata": {},
     "output_type": "execute_result"
    }
   ],
   "source": [
    "comments_dic['cs'].head()"
   ]
  },
  {
   "cell_type": "code",
   "execution_count": 11,
   "id": "9dca918a",
   "metadata": {},
   "outputs": [],
   "source": [
    "for i in comments_dic.keys():\n",
    "    comments_dic[i] = PreProcess.preprocess(comments_dic[i], 'comment')\n",
    "    for j in range(len(comments_dic[i].index)):\n",
    "        comments_dic[i].at[i, 'comment_string'] = ' '.join([str(elem) for elem in comments_dic[i].at[j, 'comment_stem']])  "
   ]
  },
  {
   "cell_type": "code",
   "execution_count": 271,
   "id": "28afbe57",
   "metadata": {},
   "outputs": [],
   "source": [
    "# print(\"For post_id = n2n0ax:\")\n",
    "# eda(preprocessed_df_comments[preprocessed_df_comments.post_id == 'n2n0ax'], \"comment\")"
   ]
  },
  {
   "cell_type": "code",
   "execution_count": 272,
   "id": "191c130a",
   "metadata": {},
   "outputs": [],
   "source": [
    "# display(preprocessed_df[preprocessed_df.post_id == 'n2n0ax'])\n",
    "# print(\"\\n>>>>Title: \\n\", preprocessed_df[preprocessed_df.post_id == 'n2n0ax'].title[0])\n",
    "# print(\"\\n>>>>Body: \\n\",preprocessed_df[preprocessed_df.post_id == 'n2n0ax'].body[0])"
   ]
  },
  {
   "cell_type": "markdown",
   "id": "ce01f36e",
   "metadata": {},
   "source": [
    "## BERTopic on Posts Text (Body)"
   ]
  },
  {
   "cell_type": "code",
   "execution_count": 12,
   "id": "81dacdaf",
   "metadata": {},
   "outputs": [],
   "source": [
    "body_umap_params = {\n",
    "    'n_neighbors':5,\n",
    "    'n_components': 5,\n",
    "    'min_dist': 0.0,\n",
    "    'metric': 'cosine',\n",
    "    'low_memory': False\n",
    "}\n",
    "body_hdb_params = {\n",
    "    'min_cluster_size': 5,\n",
    "    'min_samples': 4,\n",
    "    'metric': 'euclidean',\n",
    "    'cluster_selection_method': 'eom',\n",
    "    'prediction_data': True\n",
    "}\n",
    "body_model_params = {\n",
    "    'min_topic_size': 3,\n",
    "    'top_n_words': 5,\n",
    "    'n_gram_range': (1,2), \n",
    "    'calculate_probabilities': True,\n",
    "    'verbose': True\n",
    "}"
   ]
  },
  {
   "cell_type": "code",
   "execution_count": 13,
   "id": "a05dd1f6",
   "metadata": {},
   "outputs": [],
   "source": [
    "def train_bert(df, column, umap_params, hdb_params, model_params):\n",
    "    umap_model = UMAP(**umap_params)\n",
    "    hdbscan_model = HDBSCAN(**hdb_params)\n",
    "    topic_model = BERTopic(**model_params, umap_model=umap_model, hdbscan_model=hdbscan_model)\n",
    "    topics, probs = topic_model.fit_transform(df[column])\n",
    "    freq = topic_model.get_topic_info()\n",
    "    docs = topic_model.get_representative_docs()\n",
    "    topic_names = []\n",
    "    for i in topics:\n",
    "        topic_names.append(list(freq[freq['Topic'] == i][\"Name\"])[0])\n",
    "    df['topic_label'] = topics\n",
    "    df['topic_name'] = topic_names\n",
    "    return topic_model, freq, df"
   ]
  },
  {
   "cell_type": "code",
   "execution_count": 14,
   "id": "b73920a2",
   "metadata": {
    "scrolled": false
   },
   "outputs": [
    {
     "data": {
      "application/vnd.jupyter.widget-view+json": {
       "model_id": "9cbc2b1251a94752be95b255fcca335e",
       "version_major": 2,
       "version_minor": 0
      },
      "text/plain": [
       "Batches:   0%|          | 0/16 [00:00<?, ?it/s]"
      ]
     },
     "metadata": {},
     "output_type": "display_data"
    },
    {
     "name": "stderr",
     "output_type": "stream",
     "text": [
      "2022-02-15 03:05:21,814 - BERTopic - Transformed documents to Embeddings\n",
      "OMP: Info #271: omp_set_nested routine deprecated, please use omp_set_max_active_levels instead.\n",
      "2022-02-15 03:05:28,515 - BERTopic - Reduced dimensionality with UMAP\n",
      "2022-02-15 03:05:28,586 - BERTopic - Clustered UMAP embeddings with HDBSCAN\n"
     ]
    },
    {
     "data": {
      "application/vnd.jupyter.widget-view+json": {
       "model_id": "e072a69e35e046448726592b444e35d4",
       "version_major": 2,
       "version_minor": 0
      },
      "text/plain": [
       "Batches:   0%|          | 0/24 [00:00<?, ?it/s]"
      ]
     },
     "metadata": {},
     "output_type": "display_data"
    },
    {
     "name": "stderr",
     "output_type": "stream",
     "text": [
      "2022-02-15 03:06:41,501 - BERTopic - Transformed documents to Embeddings\n",
      "2022-02-15 03:06:44,041 - BERTopic - Reduced dimensionality with UMAP\n",
      "2022-02-15 03:06:44,159 - BERTopic - Clustered UMAP embeddings with HDBSCAN\n"
     ]
    },
    {
     "data": {
      "application/vnd.jupyter.widget-view+json": {
       "model_id": "6b1eb14245f84a458620653b4ff267c2",
       "version_major": 2,
       "version_minor": 0
      },
      "text/plain": [
       "Batches:   0%|          | 0/30 [00:00<?, ?it/s]"
      ]
     },
     "metadata": {},
     "output_type": "display_data"
    },
    {
     "name": "stderr",
     "output_type": "stream",
     "text": [
      "2022-02-15 03:07:22,520 - BERTopic - Transformed documents to Embeddings\n",
      "2022-02-15 03:07:25,936 - BERTopic - Reduced dimensionality with UMAP\n",
      "2022-02-15 03:07:26,035 - BERTopic - Clustered UMAP embeddings with HDBSCAN\n"
     ]
    },
    {
     "data": {
      "application/vnd.jupyter.widget-view+json": {
       "model_id": "87b092810f6940f98e17372e50662750",
       "version_major": 2,
       "version_minor": 0
      },
      "text/plain": [
       "Batches:   0%|          | 0/25 [00:00<?, ?it/s]"
      ]
     },
     "metadata": {},
     "output_type": "display_data"
    },
    {
     "name": "stderr",
     "output_type": "stream",
     "text": [
      "2022-02-15 03:08:32,689 - BERTopic - Transformed documents to Embeddings\n",
      "2022-02-15 03:08:35,336 - BERTopic - Reduced dimensionality with UMAP\n",
      "2022-02-15 03:08:35,468 - BERTopic - Clustered UMAP embeddings with HDBSCAN\n"
     ]
    },
    {
     "data": {
      "application/vnd.jupyter.widget-view+json": {
       "model_id": "a59822512d274672a596638142d923dc",
       "version_major": 2,
       "version_minor": 0
      },
      "text/plain": [
       "Batches:   0%|          | 0/13 [00:00<?, ?it/s]"
      ]
     },
     "metadata": {},
     "output_type": "display_data"
    },
    {
     "name": "stderr",
     "output_type": "stream",
     "text": [
      "2022-02-15 03:08:53,629 - BERTopic - Transformed documents to Embeddings\n",
      "2022-02-15 03:08:55,736 - BERTopic - Reduced dimensionality with UMAP\n",
      "2022-02-15 03:08:55,776 - BERTopic - Clustered UMAP embeddings with HDBSCAN\n"
     ]
    },
    {
     "data": {
      "application/vnd.jupyter.widget-view+json": {
       "model_id": "8df489512cf64902abd1f384c64d0b6e",
       "version_major": 2,
       "version_minor": 0
      },
      "text/plain": [
       "Batches:   0%|          | 0/31 [00:00<?, ?it/s]"
      ]
     },
     "metadata": {},
     "output_type": "display_data"
    },
    {
     "name": "stderr",
     "output_type": "stream",
     "text": [
      "2022-02-15 03:09:20,785 - BERTopic - Transformed documents to Embeddings\n",
      "2022-02-15 03:09:24,371 - BERTopic - Reduced dimensionality with UMAP\n",
      "2022-02-15 03:09:24,521 - BERTopic - Clustered UMAP embeddings with HDBSCAN\n"
     ]
    }
   ],
   "source": [
    "post_model_topic_model_dic = {}\n",
    "post_model_freq_dic = {}\n",
    "post_model_df_dic = {}\n",
    "for i in posts_dic.keys():\n",
    "    post_model_topic_model_dic[i], post_model_freq_dic[i], post_model_df_dic[i] = train_bert(posts_dic[i], 'body', body_umap_params, body_hdb_params, body_model_params)"
   ]
  },
  {
   "cell_type": "code",
   "execution_count": 15,
   "id": "72832abb",
   "metadata": {},
   "outputs": [
    {
     "name": "stdout",
     "output_type": "stream",
     "text": [
      "Number of topics found per subreddit:\n",
      "cs 33\n",
      "aita 49\n",
      "antiwork 35\n",
      "loseit 51\n",
      "music 20\n",
      "nsq 50\n"
     ]
    }
   ],
   "source": [
    "num_post_topics = {}\n",
    "print('Number of topics found per subreddit:')\n",
    "for i in post_model_freq_dic.keys():\n",
    "    num_post_topics[i] = len(post_model_freq_dic[i])\n",
    "    print(i, len(post_model_freq_dic[i]))"
   ]
  },
  {
   "cell_type": "code",
   "execution_count": 16,
   "id": "329580f1",
   "metadata": {},
   "outputs": [],
   "source": [
    "eda_df = pd.DataFrame.from_dict(num_post_topics, orient='index')"
   ]
  },
  {
   "cell_type": "code",
   "execution_count": 17,
   "id": "1d6007b6",
   "metadata": {},
   "outputs": [],
   "source": [
    "eda_df.columns = ['num_posts_topics_found']"
   ]
  },
  {
   "cell_type": "code",
   "execution_count": 43,
   "id": "6d07880f",
   "metadata": {},
   "outputs": [
    {
     "data": {
      "text/html": [
       "<div>\n",
       "<style scoped>\n",
       "    .dataframe tbody tr th:only-of-type {\n",
       "        vertical-align: middle;\n",
       "    }\n",
       "\n",
       "    .dataframe tbody tr th {\n",
       "        vertical-align: top;\n",
       "    }\n",
       "\n",
       "    .dataframe thead th {\n",
       "        text-align: right;\n",
       "    }\n",
       "</style>\n",
       "<table border=\"1\" class=\"dataframe\">\n",
       "  <thead>\n",
       "    <tr style=\"text-align: right;\">\n",
       "      <th></th>\n",
       "      <th>num_posts_topics_found</th>\n",
       "    </tr>\n",
       "  </thead>\n",
       "  <tbody>\n",
       "    <tr>\n",
       "      <th>cs</th>\n",
       "      <td>33</td>\n",
       "    </tr>\n",
       "    <tr>\n",
       "      <th>aita</th>\n",
       "      <td>54</td>\n",
       "    </tr>\n",
       "    <tr>\n",
       "      <th>antiwork</th>\n",
       "      <td>34</td>\n",
       "    </tr>\n",
       "    <tr>\n",
       "      <th>loseit</th>\n",
       "      <td>56</td>\n",
       "    </tr>\n",
       "    <tr>\n",
       "      <th>music</th>\n",
       "      <td>23</td>\n",
       "    </tr>\n",
       "    <tr>\n",
       "      <th>nsq</th>\n",
       "      <td>60</td>\n",
       "    </tr>\n",
       "  </tbody>\n",
       "</table>\n",
       "</div>"
      ],
      "text/plain": [
       "          num_posts_topics_found\n",
       "cs                            33\n",
       "aita                          54\n",
       "antiwork                      34\n",
       "loseit                        56\n",
       "music                         23\n",
       "nsq                           60"
      ]
     },
     "execution_count": 43,
     "metadata": {},
     "output_type": "execute_result"
    }
   ],
   "source": [
    "eda_df"
   ]
  },
  {
   "cell_type": "code",
   "execution_count": 19,
   "id": "ddc083e8",
   "metadata": {},
   "outputs": [],
   "source": [
    "eda_df['posts_corpus_size'] = 0\n",
    "eda_df['posts_word_count'] = 0\n",
    "eda_df['posts_max_length'] = 0\n",
    "eda_df['posts_vocab_size'] = 0\n",
    "for i in posts_dic.keys():\n",
    "    eda_df['posts_corpus_size'].loc[i] = len(list(posts_dic[i]['body']))\n",
    "    eda_df['posts_word_count'].loc[i] = len([word for tokens in posts_dic[i]['body_filtered'] for word in tokens])\n",
    "    eda_df['posts_max_length'].loc[i] = np.max([len(tokens) for tokens in posts_dic[i]['body_filtered']])\n",
    "    eda_df['posts_vocab_size'].loc[i] = len(sorted(list(set([word for tokens in posts_dic[i]['body_filtered'] for word in tokens]))))"
   ]
  },
  {
   "cell_type": "code",
   "execution_count": 20,
   "id": "3e399553",
   "metadata": {},
   "outputs": [
    {
     "data": {
      "text/html": [
       "<div>\n",
       "<style scoped>\n",
       "    .dataframe tbody tr th:only-of-type {\n",
       "        vertical-align: middle;\n",
       "    }\n",
       "\n",
       "    .dataframe tbody tr th {\n",
       "        vertical-align: top;\n",
       "    }\n",
       "\n",
       "    .dataframe thead th {\n",
       "        text-align: right;\n",
       "    }\n",
       "</style>\n",
       "<table border=\"1\" class=\"dataframe\">\n",
       "  <thead>\n",
       "    <tr style=\"text-align: right;\">\n",
       "      <th></th>\n",
       "      <th>num_posts_topics_found</th>\n",
       "      <th>posts_corpus_size</th>\n",
       "      <th>posts_word_count</th>\n",
       "      <th>posts_max_length</th>\n",
       "      <th>posts_vocab_size</th>\n",
       "    </tr>\n",
       "  </thead>\n",
       "  <tbody>\n",
       "    <tr>\n",
       "      <th>cs</th>\n",
       "      <td>33</td>\n",
       "      <td>500</td>\n",
       "      <td>22590</td>\n",
       "      <td>399</td>\n",
       "      <td>5092</td>\n",
       "    </tr>\n",
       "    <tr>\n",
       "      <th>aita</th>\n",
       "      <td>49</td>\n",
       "      <td>752</td>\n",
       "      <td>129147</td>\n",
       "      <td>521</td>\n",
       "      <td>10883</td>\n",
       "    </tr>\n",
       "    <tr>\n",
       "      <th>antiwork</th>\n",
       "      <td>35</td>\n",
       "      <td>942</td>\n",
       "      <td>51350</td>\n",
       "      <td>1276</td>\n",
       "      <td>7990</td>\n",
       "    </tr>\n",
       "    <tr>\n",
       "      <th>loseit</th>\n",
       "      <td>51</td>\n",
       "      <td>788</td>\n",
       "      <td>86729</td>\n",
       "      <td>1262</td>\n",
       "      <td>9270</td>\n",
       "    </tr>\n",
       "    <tr>\n",
       "      <th>music</th>\n",
       "      <td>20</td>\n",
       "      <td>394</td>\n",
       "      <td>9432</td>\n",
       "      <td>699</td>\n",
       "      <td>3480</td>\n",
       "    </tr>\n",
       "    <tr>\n",
       "      <th>nsq</th>\n",
       "      <td>50</td>\n",
       "      <td>971</td>\n",
       "      <td>20075</td>\n",
       "      <td>279</td>\n",
       "      <td>5490</td>\n",
       "    </tr>\n",
       "  </tbody>\n",
       "</table>\n",
       "</div>"
      ],
      "text/plain": [
       "          num_posts_topics_found  posts_corpus_size  posts_word_count  \\\n",
       "cs                            33                500             22590   \n",
       "aita                          49                752            129147   \n",
       "antiwork                      35                942             51350   \n",
       "loseit                        51                788             86729   \n",
       "music                         20                394              9432   \n",
       "nsq                           50                971             20075   \n",
       "\n",
       "          posts_max_length  posts_vocab_size  \n",
       "cs                     399              5092  \n",
       "aita                   521             10883  \n",
       "antiwork              1276              7990  \n",
       "loseit                1262              9270  \n",
       "music                  699              3480  \n",
       "nsq                    279              5490  "
      ]
     },
     "execution_count": 20,
     "metadata": {},
     "output_type": "execute_result"
    }
   ],
   "source": [
    "eda_df"
   ]
  },
  {
   "cell_type": "code",
   "execution_count": 21,
   "id": "9df398ba",
   "metadata": {},
   "outputs": [
    {
     "data": {
      "image/png": "[encoded data removed]",
      "text/plain": [
       "<Figure size 432x288 with 1 Axes>"
      ]
     },
     "metadata": {
      "needs_background": "light"
     },
     "output_type": "display_data"
    }
   ],
   "source": [
    "fig, ax = plt.subplots()\n",
    "eda_df.plot(x='num_posts_topics_found', y='posts_vocab_size', kind='scatter', ax=ax)\n",
    "for k, v in eda_df[['num_posts_topics_found', 'posts_vocab_size']].iterrows():\n",
    "    ax.annotate(k, v)"
   ]
  },
  {
   "cell_type": "markdown",
   "id": "21103daf",
   "metadata": {},
   "source": [
    "Subreddits with higher number of topics generally have higher vocabularies, which makes sense, but this is not always the case. When it is not the case, like antiwork, is that indicative of repetitive posts/topics of discussion within subreddit?"
   ]
  },
  {
   "cell_type": "code",
   "execution_count": 22,
   "id": "edcf21a8",
   "metadata": {},
   "outputs": [],
   "source": [
    "from transformers import AutoTokenizer, AutoModelForSequenceClassification\n",
    "import torch\n",
    "import requests\n",
    "from bs4 import BeautifulSoup\n",
    "import re"
   ]
  },
  {
   "cell_type": "code",
   "execution_count": 23,
   "id": "cb605c4a",
   "metadata": {},
   "outputs": [],
   "source": [
    "tokenizer = AutoTokenizer.from_pretrained('nlptown/bert-base-multilingual-uncased-sentiment')\n",
    "\n",
    "model = AutoModelForSequenceClassification.from_pretrained('nlptown/bert-base-multilingual-uncased-sentiment')"
   ]
  },
  {
   "cell_type": "code",
   "execution_count": 24,
   "id": "4a439910",
   "metadata": {},
   "outputs": [],
   "source": [
    "def sentiment_score(review):\n",
    "    tokens = tokenizer.encode(review, return_tensors='pt')\n",
    "    result = model(tokens)\n",
    "    return int(torch.argmax(result.logits))+1"
   ]
  },
  {
   "cell_type": "code",
   "execution_count": 25,
   "id": "795a30e8",
   "metadata": {},
   "outputs": [],
   "source": [
    "for i in comments_dic.keys():\n",
    "    comments_dic[i]['comment'] = comments_dic[i]['comment'].astype(str)"
   ]
  },
  {
   "cell_type": "code",
   "execution_count": 27,
   "id": "266a67ff",
   "metadata": {},
   "outputs": [],
   "source": [
    "for i in comments_dic.keys():\n",
    "    comments_dic[i]['sentiment'] = comments_dic[i]['comment'].apply(lambda x: sentiment_score(x[:512]))"
   ]
  },
  {
   "cell_type": "code",
   "execution_count": 77,
   "id": "6d8b9949",
   "metadata": {},
   "outputs": [
    {
     "data": {
      "text/plain": [
       "<AxesSubplot:>"
      ]
     },
     "execution_count": 77,
     "metadata": {},
     "output_type": "execute_result"
    },
    {
     "data": {
      "image/png": "[encoded data removed]",
      "text/plain": [
       "<Figure size 432x288 with 1 Axes>"
      ]
     },
     "metadata": {
      "needs_background": "light"
     },
     "output_type": "display_data"
    }
   ],
   "source": [
    "comments_dic['cs']['sentiment'].hist()"
   ]
  },
  {
   "cell_type": "code",
   "execution_count": 69,
   "id": "b2050987",
   "metadata": {},
   "outputs": [
    {
     "data": {
      "text/plain": [
       "<AxesSubplot:>"
      ]
     },
     "execution_count": 69,
     "metadata": {},
     "output_type": "execute_result"
    },
    {
     "data": {
      "image/png": "[encoded data removed]",
      "text/plain": [
       "<Figure size 432x288 with 1 Axes>"
      ]
     },
     "metadata": {
      "needs_background": "light"
     },
     "output_type": "display_data"
    }
   ],
   "source": [
    "comments_dic['aita']['sentiment'].hist()"
   ]
  },
  {
   "cell_type": "code",
   "execution_count": 63,
   "id": "c78216e5",
   "metadata": {},
   "outputs": [
    {
     "data": {
      "text/plain": [
       "<AxesSubplot:>"
      ]
     },
     "execution_count": 63,
     "metadata": {},
     "output_type": "execute_result"
    },
    {
     "data": {
      "image/png": "[encoded data removed]",
      "text/plain": [
       "<Figure size 432x288 with 1 Axes>"
      ]
     },
     "metadata": {
      "needs_background": "light"
     },
     "output_type": "display_data"
    }
   ],
   "source": [
    "comments_dic['antiwork']['sentiment'].hist()"
   ]
  },
  {
   "cell_type": "code",
   "execution_count": 64,
   "id": "2496af91",
   "metadata": {},
   "outputs": [
    {
     "data": {
      "text/plain": [
       "<AxesSubplot:>"
      ]
     },
     "execution_count": 64,
     "metadata": {},
     "output_type": "execute_result"
    },
    {
     "data": {
      "image/png": "[encoded data removed]",
      "text/plain": [
       "<Figure size 432x288 with 1 Axes>"
      ]
     },
     "metadata": {
      "needs_background": "light"
     },
     "output_type": "display_data"
    }
   ],
   "source": [
    "comments_dic['loseit']['sentiment'].hist()"
   ]
  },
  {
   "cell_type": "code",
   "execution_count": 66,
   "id": "6c113bab",
   "metadata": {},
   "outputs": [
    {
     "data": {
      "text/plain": [
       "<AxesSubplot:>"
      ]
     },
     "execution_count": 66,
     "metadata": {},
     "output_type": "execute_result"
    },
    {
     "data": {
      "image/png": "[encoded data removed]",
      "text/plain": [
       "<Figure size 432x288 with 1 Axes>"
      ]
     },
     "metadata": {
      "needs_background": "light"
     },
     "output_type": "display_data"
    }
   ],
   "source": [
    "comments_dic['music']['sentiment'].hist()"
   ]
  },
  {
   "cell_type": "code",
   "execution_count": 67,
   "id": "5047befb",
   "metadata": {},
   "outputs": [
    {
     "data": {
      "text/plain": [
       "<AxesSubplot:>"
      ]
     },
     "execution_count": 67,
     "metadata": {},
     "output_type": "execute_result"
    },
    {
     "data": {
      "image/png": "[encoded data removed]",
      "text/plain": [
       "<Figure size 432x288 with 1 Axes>"
      ]
     },
     "metadata": {
      "needs_background": "light"
     },
     "output_type": "display_data"
    }
   ],
   "source": [
    "comments_dic['nsq']['sentiment'].hist()"
   ]
  },
  {
   "cell_type": "code",
   "execution_count": 183,
   "id": "e5eb884b",
   "metadata": {},
   "outputs": [
    {
     "data": {
      "image/png": "[encoded data removed]",
      "text/plain": [
       "<Figure size 432x288 with 1 Axes>"
      ]
     },
     "metadata": {
      "needs_background": "light"
     },
     "output_type": "display_data"
    },
    {
     "data": {
      "image/png": "[encoded data removed]",
      "text/plain": [
       "<Figure size 432x288 with 1 Axes>"
      ]
     },
     "metadata": {
      "needs_background": "light"
     },
     "output_type": "display_data"
    },
    {
     "data": {
      "image/png": "[encoded data removed]",
      "text/plain": [
       "<Figure size 432x288 with 1 Axes>"
      ]
     },
     "metadata": {
      "needs_background": "light"
     },
     "output_type": "display_data"
    },
    {
     "data": {
      "image/png": "[encoded data removed]",
      "text/plain": [
       "<Figure size 432x288 with 1 Axes>"
      ]
     },
     "metadata": {
      "needs_background": "light"
     },
     "output_type": "display_data"
    },
    {
     "data": {
      "image/png": "[encoded data removed]",
      "text/plain": [
       "<Figure size 432x288 with 1 Axes>"
      ]
     },
     "metadata": {
      "needs_background": "light"
     },
     "output_type": "display_data"
    },
    {
     "data": {
      "image/png": "[encoded data removed]",
      "text/plain": [
       "<Figure size 432x288 with 1 Axes>"
      ]
     },
     "metadata": {
      "needs_background": "light"
     },
     "output_type": "display_data"
    }
   ],
   "source": [
    "for i in comments_dic.keys():\n",
    "    comments_dic[i].plot.scatter(x='score', y='sentiment', title=i)"
   ]
  },
  {
   "cell_type": "code",
   "execution_count": 140,
   "id": "be1a12a8",
   "metadata": {},
   "outputs": [
    {
     "data": {
      "image/png": "[encoded data removed]",
      "text/plain": [
       "<Figure size 432x288 with 1 Axes>"
      ]
     },
     "metadata": {
      "needs_background": "light"
     },
     "output_type": "display_data"
    },
    {
     "data": {
      "image/png": "[encoded data removed]",
      "text/plain": [
       "<Figure size 432x288 with 1 Axes>"
      ]
     },
     "metadata": {
      "needs_background": "light"
     },
     "output_type": "display_data"
    },
    {
     "data": {
      "image/png": "[encoded data removed]",
      "text/plain": [
       "<Figure size 432x288 with 1 Axes>"
      ]
     },
     "metadata": {
      "needs_background": "light"
     },
     "output_type": "display_data"
    },
    {
     "data": {
      "image/png": "[encoded data removed]",
      "text/plain": [
       "<Figure size 432x288 with 1 Axes>"
      ]
     },
     "metadata": {
      "needs_background": "light"
     },
     "output_type": "display_data"
    },
    {
     "data": {
      "image/png": "[encoded data removed]",
      "text/plain": [
       "<Figure size 432x288 with 1 Axes>"
      ]
     },
     "metadata": {
      "needs_background": "light"
     },
     "output_type": "display_data"
    },
    {
     "data": {
      "image/png": "[encoded data removed]",
      "text/plain": [
       "<Figure size 432x288 with 1 Axes>"
      ]
     },
     "metadata": {
      "needs_background": "light"
     },
     "output_type": "display_data"
    }
   ],
   "source": [
    "for i in comments_dic.keys():\n",
    "    comments_dic[i][(comments_dic[i]['score'] > np.mean(comments_dic[i]['score']) - 0.05*np.std(comments_dic[i]['score'])) & (comments_dic[i]['score'] < np.mean(comments_dic[i]['score']) + 2*np.std(comments_dic[i]['score']))].hist(column=['score'])"
   ]
  },
  {
   "cell_type": "code",
   "execution_count": null,
   "id": "7796bfc8",
   "metadata": {},
   "outputs": [],
   "source": []
  },
  {
   "cell_type": "code",
   "execution_count": 149,
   "id": "27e59b10",
   "metadata": {},
   "outputs": [],
   "source": [
    "for i in comments_dic.keys():\n",
    "    comments_dic[i]['score_quantile'] = pd.qcut(comments_dic[i]['score'], q=4, labels=False)"
   ]
  },
  {
   "cell_type": "code",
   "execution_count": 165,
   "id": "f75a2267",
   "metadata": {
    "scrolled": false
   },
   "outputs": [
    {
     "data": {
      "image/png": "[encoded data removed]",
      "text/plain": [
       "<Figure size 432x288 with 1 Axes>"
      ]
     },
     "metadata": {
      "needs_background": "light"
     },
     "output_type": "display_data"
    },
    {
     "data": {
      "image/png": "[encoded data removed]",
      "text/plain": [
       "<Figure size 432x288 with 1 Axes>"
      ]
     },
     "metadata": {
      "needs_background": "light"
     },
     "output_type": "display_data"
    },
    {
     "data": {
      "image/png": "[encoded data removed]",
      "text/plain": [
       "<Figure size 432x288 with 1 Axes>"
      ]
     },
     "metadata": {
      "needs_background": "light"
     },
     "output_type": "display_data"
    },
    {
     "data": {
      "image/png": "[encoded data removed]",
      "text/plain": [
       "<Figure size 432x288 with 1 Axes>"
      ]
     },
     "metadata": {
      "needs_background": "light"
     },
     "output_type": "display_data"
    },
    {
     "data": {
      "image/png": "[encoded data removed]",
      "text/plain": [
       "<Figure size 432x288 with 1 Axes>"
      ]
     },
     "metadata": {
      "needs_background": "light"
     },
     "output_type": "display_data"
    },
    {
     "data": {
      "image/png": "[encoded data removed]",
      "text/plain": [
       "<Figure size 432x288 with 1 Axes>"
      ]
     },
     "metadata": {
      "needs_background": "light"
     },
     "output_type": "display_data"
    }
   ],
   "source": [
    "for i in comments_dic.keys():\n",
    "    comments_dic[i][['total_awards_received', 'score_quantile']].groupby('score_quantile').sum().plot.bar(title=i)"
   ]
  },
  {
   "cell_type": "code",
   "execution_count": 173,
   "id": "15779248",
   "metadata": {},
   "outputs": [],
   "source": [
    "means = []\n",
    "awards = []\n",
    "for i in comments_dic.keys():\n",
    "    means.append(comments_dic[i].describe().loc['mean']['score'])\n",
    "    awards.append(comments_dic[i].describe().loc['mean']['total_awards_received'])"
   ]
  },
  {
   "cell_type": "code",
   "execution_count": 174,
   "id": "42d1bd59",
   "metadata": {},
   "outputs": [
    {
     "data": {
      "text/plain": [
       "<BarContainer object of 6 artists>"
      ]
     },
     "execution_count": 174,
     "metadata": {},
     "output_type": "execute_result"
    },
    {
     "data": {
      "image/png": "[encoded data removed]",
      "text/plain": [
       "<Figure size 432x288 with 1 Axes>"
      ]
     },
     "metadata": {
      "needs_background": "light"
     },
     "output_type": "display_data"
    }
   ],
   "source": [
    "plt.bar(comments_dic.keys(), means)"
   ]
  },
  {
   "cell_type": "code",
   "execution_count": 175,
   "id": "0ea009e2",
   "metadata": {},
   "outputs": [
    {
     "data": {
      "text/plain": [
       "<BarContainer object of 6 artists>"
      ]
     },
     "execution_count": 175,
     "metadata": {},
     "output_type": "execute_result"
    },
    {
     "data": {
      "image/png": "[encoded data removed]",
      "text/plain": [
       "<Figure size 432x288 with 1 Axes>"
      ]
     },
     "metadata": {
      "needs_background": "light"
     },
     "output_type": "display_data"
    }
   ],
   "source": [
    "plt.bar(comments_dic.keys(), awards)"
   ]
  },
  {
   "cell_type": "code",
   "execution_count": 176,
   "id": "b49e15d4",
   "metadata": {},
   "outputs": [],
   "source": [
    "for i in comments_dic.keys():\n",
    "    comments_dic[i]['comment_length'] = comments_dic[i]['comment'].apply(len)"
   ]
  },
  {
   "cell_type": "code",
   "execution_count": 179,
   "id": "e0158921",
   "metadata": {
    "scrolled": true
   },
   "outputs": [
    {
     "data": {
      "text/plain": [
       "<AxesSubplot:xlabel='comment_length', ylabel='score'>"
      ]
     },
     "execution_count": 179,
     "metadata": {},
     "output_type": "execute_result"
    },
    {
     "data": {
      "image/png": "[encoded data removed]",
      "text/plain": [
       "<Figure size 432x288 with 1 Axes>"
      ]
     },
     "metadata": {
      "needs_background": "light"
     },
     "output_type": "display_data"
    }
   ],
   "source": [
    "comments_dic['cs'][['score', 'comment_length']].plot.scatter(x='comment_length', y='score')"
   ]
  },
  {
   "cell_type": "code",
   "execution_count": 180,
   "id": "c734a899",
   "metadata": {},
   "outputs": [
    {
     "data": {
      "text/plain": [
       "<AxesSubplot:xlabel='comment_length', ylabel='score_quantile'>"
      ]
     },
     "execution_count": 180,
     "metadata": {},
     "output_type": "execute_result"
    },
    {
     "data": {
      "image/png": "[encoded data removed]",
      "text/plain": [
       "<Figure size 432x288 with 1 Axes>"
      ]
     },
     "metadata": {
      "needs_background": "light"
     },
     "output_type": "display_data"
    }
   ],
   "source": [
    "comments_dic['cs'][['score_quantile', 'comment_length']].plot.scatter(x='comment_length', y='score_quantile')"
   ]
  },
  {
   "cell_type": "code",
   "execution_count": 182,
   "id": "fec8c14a",
   "metadata": {},
   "outputs": [
    {
     "data": {
      "text/html": [
       "<div>\n",
       "<style scoped>\n",
       "    .dataframe tbody tr th:only-of-type {\n",
       "        vertical-align: middle;\n",
       "    }\n",
       "\n",
       "    .dataframe tbody tr th {\n",
       "        vertical-align: top;\n",
       "    }\n",
       "\n",
       "    .dataframe thead th {\n",
       "        text-align: right;\n",
       "    }\n",
       "</style>\n",
       "<table border=\"1\" class=\"dataframe\">\n",
       "  <thead>\n",
       "    <tr style=\"text-align: right;\">\n",
       "      <th></th>\n",
       "      <th>post_id</th>\n",
       "      <th>comment_id</th>\n",
       "      <th>parent_id</th>\n",
       "      <th>comment</th>\n",
       "      <th>up_vote_count</th>\n",
       "      <th>down_vote_count</th>\n",
       "      <th>controversiality</th>\n",
       "      <th>total_awards_received</th>\n",
       "      <th>score</th>\n",
       "      <th>is_locked</th>\n",
       "      <th>is_collapsed</th>\n",
       "      <th>is_submitter</th>\n",
       "      <th>created_utc</th>\n",
       "      <th>comment_word_token</th>\n",
       "      <th>comment_filtered</th>\n",
       "      <th>comment_stem</th>\n",
       "      <th>comment_string</th>\n",
       "      <th>sentiment</th>\n",
       "      <th>score_quantile</th>\n",
       "      <th>comment_length</th>\n",
       "    </tr>\n",
       "  </thead>\n",
       "  <tbody>\n",
       "    <tr>\n",
       "      <th>0</th>\n",
       "      <td>spnpvh</td>\n",
       "      <td>hwgsuow</td>\n",
       "      <td>t3_spnpvh</td>\n",
       "      <td>Xerox PARC didn't just invent the GUI, they in...</td>\n",
       "      <td>2.0</td>\n",
       "      <td>0.0</td>\n",
       "      <td>0.0</td>\n",
       "      <td>0.0</td>\n",
       "      <td>2.0</td>\n",
       "      <td>False</td>\n",
       "      <td>False</td>\n",
       "      <td>False</td>\n",
       "      <td>1.644555e+09</td>\n",
       "      <td>[Xerox, PARC, did, n't, just, invent, the, GUI...</td>\n",
       "      <td>[xerox, parc, nt, invent, gui, invented, mouse...</td>\n",
       "      <td>[xerox, parc, nt, invent, gui, invent, mous, b...</td>\n",
       "      <td>NaN</td>\n",
       "      <td>5</td>\n",
       "      <td>1</td>\n",
       "      <td>558</td>\n",
       "    </tr>\n",
       "    <tr>\n",
       "      <th>1</th>\n",
       "      <td>spnpvh</td>\n",
       "      <td>hwgdcg1</td>\n",
       "      <td>t3_spnpvh</td>\n",
       "      <td>I recently went through The Innovators. It giv...</td>\n",
       "      <td>3.0</td>\n",
       "      <td>0.0</td>\n",
       "      <td>0.0</td>\n",
       "      <td>0.0</td>\n",
       "      <td>3.0</td>\n",
       "      <td>False</td>\n",
       "      <td>False</td>\n",
       "      <td>False</td>\n",
       "      <td>1.644547e+09</td>\n",
       "      <td>[I, recently, went, through, The, Innovators, ...</td>\n",
       "      <td>[recently, went, innovators, gives, pretty, go...</td>\n",
       "      <td>[recent, went, innov, give, pretti, good, tour...</td>\n",
       "      <td>NaN</td>\n",
       "      <td>4</td>\n",
       "      <td>2</td>\n",
       "      <td>189</td>\n",
       "    </tr>\n",
       "    <tr>\n",
       "      <th>2</th>\n",
       "      <td>spnpvh</td>\n",
       "      <td>hwgslxi</td>\n",
       "      <td>t3_spnpvh</td>\n",
       "      <td>The Unicorn Project is pretty good.</td>\n",
       "      <td>1.0</td>\n",
       "      <td>0.0</td>\n",
       "      <td>0.0</td>\n",
       "      <td>0.0</td>\n",
       "      <td>1.0</td>\n",
       "      <td>False</td>\n",
       "      <td>False</td>\n",
       "      <td>False</td>\n",
       "      <td>1.644555e+09</td>\n",
       "      <td>[The, Unicorn, Project, is, pretty, good, .]</td>\n",
       "      <td>[unicorn, project, pretty, good]</td>\n",
       "      <td>[unicorn, project, pretti, good]</td>\n",
       "      <td>NaN</td>\n",
       "      <td>4</td>\n",
       "      <td>0</td>\n",
       "      <td>35</td>\n",
       "    </tr>\n",
       "    <tr>\n",
       "      <th>3</th>\n",
       "      <td>spnpvh</td>\n",
       "      <td>hwgtesm</td>\n",
       "      <td>t3_spnpvh</td>\n",
       "      <td>For fiction stories that arguably contain comp...</td>\n",
       "      <td>1.0</td>\n",
       "      <td>0.0</td>\n",
       "      <td>0.0</td>\n",
       "      <td>0.0</td>\n",
       "      <td>1.0</td>\n",
       "      <td>False</td>\n",
       "      <td>False</td>\n",
       "      <td>False</td>\n",
       "      <td>1.644555e+09</td>\n",
       "      <td>[For, fiction, stories, that, arguably, contai...</td>\n",
       "      <td>[fiction, stories, arguably, contain, computer...</td>\n",
       "      <td>[fiction, stori, arguabl, contain, comput, sci...</td>\n",
       "      <td>NaN</td>\n",
       "      <td>4</td>\n",
       "      <td>0</td>\n",
       "      <td>259</td>\n",
       "    </tr>\n",
       "    <tr>\n",
       "      <th>4</th>\n",
       "      <td>spnpvh</td>\n",
       "      <td>hwgygdz</td>\n",
       "      <td>t3_spnpvh</td>\n",
       "      <td>Cliff Stoll's [*Cuckoo's Egg*]('s_Egg_(book)) ...</td>\n",
       "      <td>1.0</td>\n",
       "      <td>0.0</td>\n",
       "      <td>0.0</td>\n",
       "      <td>0.0</td>\n",
       "      <td>1.0</td>\n",
       "      <td>False</td>\n",
       "      <td>False</td>\n",
       "      <td>False</td>\n",
       "      <td>1.644558e+09</td>\n",
       "      <td>[Cliff, Stoll, 's, [, *, Cuckoo, 's, Egg, *, ]...</td>\n",
       "      <td>[cliff, stoll, cuckoo, egg, segg, book, fun, r...</td>\n",
       "      <td>[cliff, stoll, cuckoo, egg, segg, book, fun, r...</td>\n",
       "      <td>NaN</td>\n",
       "      <td>4</td>\n",
       "      <td>0</td>\n",
       "      <td>232</td>\n",
       "    </tr>\n",
       "    <tr>\n",
       "      <th>...</th>\n",
       "      <td>...</td>\n",
       "      <td>...</td>\n",
       "      <td>...</td>\n",
       "      <td>...</td>\n",
       "      <td>...</td>\n",
       "      <td>...</td>\n",
       "      <td>...</td>\n",
       "      <td>...</td>\n",
       "      <td>...</td>\n",
       "      <td>...</td>\n",
       "      <td>...</td>\n",
       "      <td>...</td>\n",
       "      <td>...</td>\n",
       "      <td>...</td>\n",
       "      <td>...</td>\n",
       "      <td>...</td>\n",
       "      <td>...</td>\n",
       "      <td>...</td>\n",
       "      <td>...</td>\n",
       "      <td>...</td>\n",
       "    </tr>\n",
       "    <tr>\n",
       "      <th>5842</th>\n",
       "      <td>qakzly</td>\n",
       "      <td>hh3od24</td>\n",
       "      <td>t3_qakzly</td>\n",
       "      <td>I haven't had the chance to ponder this too mu...</td>\n",
       "      <td>2.0</td>\n",
       "      <td>0.0</td>\n",
       "      <td>0.0</td>\n",
       "      <td>0.0</td>\n",
       "      <td>2.0</td>\n",
       "      <td>False</td>\n",
       "      <td>False</td>\n",
       "      <td>False</td>\n",
       "      <td>1.634561e+09</td>\n",
       "      <td>[I, have, n't, had, the, chance, to, ponder, t...</td>\n",
       "      <td>[nt, chance, ponder, much, reason, think, migh...</td>\n",
       "      <td>[nt, chanc, ponder, much, reason, think, might...</td>\n",
       "      <td>NaN</td>\n",
       "      <td>2</td>\n",
       "      <td>1</td>\n",
       "      <td>495</td>\n",
       "    </tr>\n",
       "    <tr>\n",
       "      <th>5843</th>\n",
       "      <td>qakzly</td>\n",
       "      <td>hh3kgd8</td>\n",
       "      <td>t3_qakzly</td>\n",
       "      <td>Personal experience, GeekForGeeks should not b...</td>\n",
       "      <td>0.0</td>\n",
       "      <td>0.0</td>\n",
       "      <td>0.0</td>\n",
       "      <td>0.0</td>\n",
       "      <td>0.0</td>\n",
       "      <td>False</td>\n",
       "      <td>False</td>\n",
       "      <td>False</td>\n",
       "      <td>1.634558e+09</td>\n",
       "      <td>[Personal, experience, ,, GeekForGeeks, should...</td>\n",
       "      <td>[personal, experience, geekforgeeks, trusted, ...</td>\n",
       "      <td>[person, experi, geekforgeek, trust, blindli, ...</td>\n",
       "      <td>NaN</td>\n",
       "      <td>2</td>\n",
       "      <td>0</td>\n",
       "      <td>123</td>\n",
       "    </tr>\n",
       "    <tr>\n",
       "      <th>5844</th>\n",
       "      <td>qakzly</td>\n",
       "      <td>hh3rr6r</td>\n",
       "      <td>t3_qakzly</td>\n",
       "      <td>No need to be shy. It's simply wrong.\\n\\nAnd p...</td>\n",
       "      <td>0.0</td>\n",
       "      <td>0.0</td>\n",
       "      <td>0.0</td>\n",
       "      <td>0.0</td>\n",
       "      <td>0.0</td>\n",
       "      <td>False</td>\n",
       "      <td>False</td>\n",
       "      <td>False</td>\n",
       "      <td>1.634563e+09</td>\n",
       "      <td>[No, need, to, be, shy, ., It, 's, simply, wro...</td>\n",
       "      <td>[need, shy, simply, wrong, pretty, sure, reduc...</td>\n",
       "      <td>[need, shi, simpli, wrong, pretti, sure, reduc...</td>\n",
       "      <td>NaN</td>\n",
       "      <td>1</td>\n",
       "      <td>0</td>\n",
       "      <td>224</td>\n",
       "    </tr>\n",
       "    <tr>\n",
       "      <th>5845</th>\n",
       "      <td>qakzly</td>\n",
       "      <td>hh3l65o</td>\n",
       "      <td>t1_hh3kgd8</td>\n",
       "      <td>But I cant seem to find any solution for this ...</td>\n",
       "      <td>0.0</td>\n",
       "      <td>0.0</td>\n",
       "      <td>0.0</td>\n",
       "      <td>0.0</td>\n",
       "      <td>0.0</td>\n",
       "      <td>False</td>\n",
       "      <td>False</td>\n",
       "      <td>True</td>\n",
       "      <td>1.634559e+09</td>\n",
       "      <td>[But, I, cant, seem, to, find, any, solution, ...</td>\n",
       "      <td>[cant, seem, find, solution, question, anywher...</td>\n",
       "      <td>[cant, seem, find, solut, question, anywher, i...</td>\n",
       "      <td>NaN</td>\n",
       "      <td>3</td>\n",
       "      <td>0</td>\n",
       "      <td>128</td>\n",
       "    </tr>\n",
       "    <tr>\n",
       "      <th>5846</th>\n",
       "      <td>qakzly</td>\n",
       "      <td>hh3vtqc</td>\n",
       "      <td>t1_hh3l65o</td>\n",
       "      <td>&gt;to find any solution for this question anywhe...</td>\n",
       "      <td>2.0</td>\n",
       "      <td>0.0</td>\n",
       "      <td>0.0</td>\n",
       "      <td>0.0</td>\n",
       "      <td>2.0</td>\n",
       "      <td>False</td>\n",
       "      <td>False</td>\n",
       "      <td>False</td>\n",
       "      <td>1.634565e+09</td>\n",
       "      <td>[&gt;, to, find, any, solution, for, this, questi...</td>\n",
       "      <td>[find, solution, question, anywhere, internet,...</td>\n",
       "      <td>[find, solut, question, anywher, internet, met...</td>\n",
       "      <td>NaN</td>\n",
       "      <td>2</td>\n",
       "      <td>1</td>\n",
       "      <td>220</td>\n",
       "    </tr>\n",
       "  </tbody>\n",
       "</table>\n",
       "<p>5847 rows × 20 columns</p>\n",
       "</div>"
      ],
      "text/plain": [
       "     post_id comment_id   parent_id  \\\n",
       "0     spnpvh    hwgsuow   t3_spnpvh   \n",
       "1     spnpvh    hwgdcg1   t3_spnpvh   \n",
       "2     spnpvh    hwgslxi   t3_spnpvh   \n",
       "3     spnpvh    hwgtesm   t3_spnpvh   \n",
       "4     spnpvh    hwgygdz   t3_spnpvh   \n",
       "...      ...        ...         ...   \n",
       "5842  qakzly    hh3od24   t3_qakzly   \n",
       "5843  qakzly    hh3kgd8   t3_qakzly   \n",
       "5844  qakzly    hh3rr6r   t3_qakzly   \n",
       "5845  qakzly    hh3l65o  t1_hh3kgd8   \n",
       "5846  qakzly    hh3vtqc  t1_hh3l65o   \n",
       "\n",
       "                                                comment  up_vote_count  \\\n",
       "0     Xerox PARC didn't just invent the GUI, they in...            2.0   \n",
       "1     I recently went through The Innovators. It giv...            3.0   \n",
       "2                   The Unicorn Project is pretty good.            1.0   \n",
       "3     For fiction stories that arguably contain comp...            1.0   \n",
       "4     Cliff Stoll's [*Cuckoo's Egg*]('s_Egg_(book)) ...            1.0   \n",
       "...                                                 ...            ...   \n",
       "5842  I haven't had the chance to ponder this too mu...            2.0   \n",
       "5843  Personal experience, GeekForGeeks should not b...            0.0   \n",
       "5844  No need to be shy. It's simply wrong.\\n\\nAnd p...            0.0   \n",
       "5845  But I cant seem to find any solution for this ...            0.0   \n",
       "5846  >to find any solution for this question anywhe...            2.0   \n",
       "\n",
       "      down_vote_count  controversiality  total_awards_received  score  \\\n",
       "0                 0.0               0.0                    0.0    2.0   \n",
       "1                 0.0               0.0                    0.0    3.0   \n",
       "2                 0.0               0.0                    0.0    1.0   \n",
       "3                 0.0               0.0                    0.0    1.0   \n",
       "4                 0.0               0.0                    0.0    1.0   \n",
       "...               ...               ...                    ...    ...   \n",
       "5842              0.0               0.0                    0.0    2.0   \n",
       "5843              0.0               0.0                    0.0    0.0   \n",
       "5844              0.0               0.0                    0.0    0.0   \n",
       "5845              0.0               0.0                    0.0    0.0   \n",
       "5846              0.0               0.0                    0.0    2.0   \n",
       "\n",
       "     is_locked is_collapsed is_submitter   created_utc  \\\n",
       "0        False        False        False  1.644555e+09   \n",
       "1        False        False        False  1.644547e+09   \n",
       "2        False        False        False  1.644555e+09   \n",
       "3        False        False        False  1.644555e+09   \n",
       "4        False        False        False  1.644558e+09   \n",
       "...        ...          ...          ...           ...   \n",
       "5842     False        False        False  1.634561e+09   \n",
       "5843     False        False        False  1.634558e+09   \n",
       "5844     False        False        False  1.634563e+09   \n",
       "5845     False        False         True  1.634559e+09   \n",
       "5846     False        False        False  1.634565e+09   \n",
       "\n",
       "                                     comment_word_token  \\\n",
       "0     [Xerox, PARC, did, n't, just, invent, the, GUI...   \n",
       "1     [I, recently, went, through, The, Innovators, ...   \n",
       "2          [The, Unicorn, Project, is, pretty, good, .]   \n",
       "3     [For, fiction, stories, that, arguably, contai...   \n",
       "4     [Cliff, Stoll, 's, [, *, Cuckoo, 's, Egg, *, ]...   \n",
       "...                                                 ...   \n",
       "5842  [I, have, n't, had, the, chance, to, ponder, t...   \n",
       "5843  [Personal, experience, ,, GeekForGeeks, should...   \n",
       "5844  [No, need, to, be, shy, ., It, 's, simply, wro...   \n",
       "5845  [But, I, cant, seem, to, find, any, solution, ...   \n",
       "5846  [>, to, find, any, solution, for, this, questi...   \n",
       "\n",
       "                                       comment_filtered  \\\n",
       "0     [xerox, parc, nt, invent, gui, invented, mouse...   \n",
       "1     [recently, went, innovators, gives, pretty, go...   \n",
       "2                      [unicorn, project, pretty, good]   \n",
       "3     [fiction, stories, arguably, contain, computer...   \n",
       "4     [cliff, stoll, cuckoo, egg, segg, book, fun, r...   \n",
       "...                                                 ...   \n",
       "5842  [nt, chance, ponder, much, reason, think, migh...   \n",
       "5843  [personal, experience, geekforgeeks, trusted, ...   \n",
       "5844  [need, shy, simply, wrong, pretty, sure, reduc...   \n",
       "5845  [cant, seem, find, solution, question, anywher...   \n",
       "5846  [find, solution, question, anywhere, internet,...   \n",
       "\n",
       "                                           comment_stem comment_string  \\\n",
       "0     [xerox, parc, nt, invent, gui, invent, mous, b...            NaN   \n",
       "1     [recent, went, innov, give, pretti, good, tour...            NaN   \n",
       "2                      [unicorn, project, pretti, good]            NaN   \n",
       "3     [fiction, stori, arguabl, contain, comput, sci...            NaN   \n",
       "4     [cliff, stoll, cuckoo, egg, segg, book, fun, r...            NaN   \n",
       "...                                                 ...            ...   \n",
       "5842  [nt, chanc, ponder, much, reason, think, might...            NaN   \n",
       "5843  [person, experi, geekforgeek, trust, blindli, ...            NaN   \n",
       "5844  [need, shi, simpli, wrong, pretti, sure, reduc...            NaN   \n",
       "5845  [cant, seem, find, solut, question, anywher, i...            NaN   \n",
       "5846  [find, solut, question, anywher, internet, met...            NaN   \n",
       "\n",
       "      sentiment  score_quantile  comment_length  \n",
       "0             5               1             558  \n",
       "1             4               2             189  \n",
       "2             4               0              35  \n",
       "3             4               0             259  \n",
       "4             4               0             232  \n",
       "...         ...             ...             ...  \n",
       "5842          2               1             495  \n",
       "5843          2               0             123  \n",
       "5844          1               0             224  \n",
       "5845          3               0             128  \n",
       "5846          2               1             220  \n",
       "\n",
       "[5847 rows x 20 columns]"
      ]
     },
     "execution_count": 182,
     "metadata": {},
     "output_type": "execute_result"
    }
   ],
   "source": [
    "comments_dic['cs']"
   ]
  }
 ],
 "metadata": {
  "kernelspec": {
   "display_name": "Python 3 (ipykernel)",
   "language": "python",
   "name": "python3"
  },
  "language_info": {
   "codemirror_mode": {
    "name": "ipython",
    "version": 3
   },
   "file_extension": ".py",
   "mimetype": "text/x-python",
   "name": "python",
   "nbconvert_exporter": "python",
   "pygments_lexer": "ipython3",
   "version": "3.7.9"
  }
 },
 "nbformat": 4,
 "nbformat_minor": 5
}
