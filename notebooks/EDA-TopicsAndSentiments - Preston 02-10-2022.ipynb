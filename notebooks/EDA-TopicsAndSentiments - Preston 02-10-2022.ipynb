{
 "cells": [
  {
   "cell_type": "code",
   "execution_count": 25,
   "id": "38865451",
   "metadata": {},
   "outputs": [
    {
     "name": "stderr",
     "output_type": "stream",
     "text": [
      "[nltk_data] Downloading package punkt to\n",
      "[nltk_data]     /Users/prestonstringham/nltk_data...\n",
      "[nltk_data]   Package punkt is already up-to-date!\n",
      "[nltk_data] Downloading package stopwords to\n",
      "[nltk_data]     /Users/prestonstringham/nltk_data...\n",
      "[nltk_data]   Package stopwords is already up-to-date!\n"
     ]
    }
   ],
   "source": [
    "import pandas as pd\n",
    "import nltk\n",
    "from bertopic import BERTopic\n",
    "from umap import UMAP\n",
    "from hdbscan import HDBSCAN\n",
    "\n",
    "import numpy as np\n",
    "import pandas as pd\n",
    "import matplotlib.pyplot as plt\n",
    "import matplotlib.colors as mcolors\n",
    "%matplotlib inline\n",
    "\n",
    "import itertools\n",
    "from wordcloud import WordCloud, STOPWORDS\n",
    "\n",
    "from src.features.preprocess_old import PreProcess\n",
    "\n",
    "import nltk\n",
    "nltk.download('punkt')\n",
    "nltk.download('stopwords')\n",
    "from nltk.tokenize import sent_tokenize, word_tokenize\n",
    "from nltk.probability import FreqDist\n",
    "from nltk.corpus import stopwords, wordnet\n",
    "from nltk.stem import WordNetLemmatizer, PorterStemmer\n",
    "import re\n",
    "\n",
    "from gensim import corpora, models\n",
    "import gensim"
   ]
  },
  {
   "cell_type": "code",
   "execution_count": 2,
   "id": "453b05b8",
   "metadata": {},
   "outputs": [],
   "source": [
    "def remove_escape_chars(s):\n",
    "    \"\"\"\n",
    "    Helper function used to replace hashtags with empty string\n",
    "    \"\"\"\n",
    "    if isinstance(s, str):\n",
    "        return re.sub(r'\\n', '', s)\n",
    "    else:\n",
    "        return s\n",
    "def filter_urls(s):\n",
    "    \"\"\"\n",
    "    Helper function used to replace URLs with empty string\n",
    "    \"\"\"\n",
    "    if isinstance(s, str):\n",
    "        return re.sub(r'(https|http)?:\\/\\/(\\w|\\.|\\/|\\?|\\=|\\&|\\%)*\\b', '', s, flags=re.MULTILINE)\n",
    "    else:\n",
    "        return s"
   ]
  },
  {
   "cell_type": "markdown",
   "id": "67afb6ce",
   "metadata": {},
   "source": [
    "## EDA Posts"
   ]
  },
  {
   "cell_type": "code",
   "execution_count": 3,
   "id": "20ac4b69",
   "metadata": {},
   "outputs": [],
   "source": [
    "cs_posts = pd.read_csv('../data/raw/computerscience_hot_posts.csv')\n",
    "cs_comments = pd.read_csv('../data/raw/computerscience_hot_comments.csv')\n",
    "aita_posts = pd.read_csv('../data/raw/AmItheAsshole_hot_posts.csv')\n",
    "aita_comments = pd.read_csv('../data/raw/AmItheAsshole_hot_comments.csv')\n",
    "antiwork_posts = pd.read_csv('../data/raw/antiwork_hot_posts.csv')\n",
    "antiwork_comments = pd.read_csv('../data/raw/antiwork_hot_comments.csv')\n",
    "loseit_posts = pd.read_csv('../data/raw/loseit_hot_posts.csv')\n",
    "loseit_comments = pd.read_csv('../data/raw/loseit_hot_comments.csv')\n",
    "music_posts = pd.read_csv('../data/raw/music_hot_posts.csv')\n",
    "music_comments = pd.read_csv('../data/raw/music_hot_comments.csv')\n",
    "nsq_posts = pd.read_csv('../data/raw/NoStupidQuestions_hot_posts.csv')\n",
    "nsq_comments = pd.read_csv('../data/raw/NoStupidQuestions_hot_comments.csv')"
   ]
  },
  {
   "cell_type": "code",
   "execution_count": 4,
   "id": "6ff2ed7a",
   "metadata": {},
   "outputs": [],
   "source": [
    "posts_dic = {'cs': cs_posts, 'aita': aita_posts, 'antiwork': antiwork_posts, 'loseit': loseit_posts, 'music': music_posts, 'nsq': nsq_posts}\n",
    "comments_dic = {'cs': cs_comments, 'aita': aita_comments, 'antiwork': antiwork_comments, 'loseit': loseit_comments, 'music': music_comments, 'nsq': nsq_comments}"
   ]
  },
  {
   "cell_type": "code",
   "execution_count": 7,
   "id": "8c64d8ff",
   "metadata": {},
   "outputs": [],
   "source": [
    "for i in posts_dic.keys():\n",
    "    posts_dic[i] = PreProcess.preprocess(posts_dic[i], 'body')\n",
    "    for j in range(len(posts_dic[i].index)):\n",
    "        posts_dic[i].at[j, 'body_string'] = ' '.join([str(elem) for elem in posts_dic[i].at[j, 'body_stem']])\n",
    "    posts_dic[i]['body'] = posts_dic[i]['body'].apply(remove_escape_chars)\n",
    "    posts_dic[i]['body'] = posts_dic[i]['body'].apply(filter_urls)"
   ]
  },
  {
   "cell_type": "code",
   "execution_count": 8,
   "id": "6d78c028",
   "metadata": {},
   "outputs": [
    {
     "data": {
      "text/html": [
       "<div>\n",
       "<style scoped>\n",
       "    .dataframe tbody tr th:only-of-type {\n",
       "        vertical-align: middle;\n",
       "    }\n",
       "\n",
       "    .dataframe tbody tr th {\n",
       "        vertical-align: top;\n",
       "    }\n",
       "\n",
       "    .dataframe thead th {\n",
       "        text-align: right;\n",
       "    }\n",
       "</style>\n",
       "<table border=\"1\" class=\"dataframe\">\n",
       "  <thead>\n",
       "    <tr style=\"text-align: right;\">\n",
       "      <th></th>\n",
       "      <th>post_id</th>\n",
       "      <th>title</th>\n",
       "      <th>score</th>\n",
       "      <th>upvote_ratio</th>\n",
       "      <th>subreddit</th>\n",
       "      <th>url</th>\n",
       "      <th>num_comments</th>\n",
       "      <th>body</th>\n",
       "      <th>created</th>\n",
       "      <th>body_word_token</th>\n",
       "      <th>body_filtered</th>\n",
       "      <th>body_stem</th>\n",
       "      <th>body_string</th>\n",
       "    </tr>\n",
       "  </thead>\n",
       "  <tbody>\n",
       "    <tr>\n",
       "      <th>0</th>\n",
       "      <td>spnpvh</td>\n",
       "      <td>Books about CS (Non-Fiction, Fiction, Biograph...</td>\n",
       "      <td>18</td>\n",
       "      <td>0.96</td>\n",
       "      <td>computerscience</td>\n",
       "      <td>https://www.reddit.com/r/computerscience/comme...</td>\n",
       "      <td>5</td>\n",
       "      <td>Looking for books related to computer science ...</td>\n",
       "      <td>1.644546e+09</td>\n",
       "      <td>[Looking, for, books, related, to, computer, s...</td>\n",
       "      <td>[looking, books, related, computer, science, l...</td>\n",
       "      <td>[look, book, relat, comput, scienc, learn, mat...</td>\n",
       "      <td>look book relat comput scienc learn materi bio...</td>\n",
       "    </tr>\n",
       "    <tr>\n",
       "      <th>1</th>\n",
       "      <td>spml7t</td>\n",
       "      <td>ideas for valentines day coding related gifts?</td>\n",
       "      <td>5</td>\n",
       "      <td>0.86</td>\n",
       "      <td>computerscience</td>\n",
       "      <td>https://www.reddit.com/r/computerscience/comme...</td>\n",
       "      <td>7</td>\n",
       "      <td>anyone have any idea for a cute gift i can mak...</td>\n",
       "      <td>1.644543e+09</td>\n",
       "      <td>[anyone, have, any, idea, for, a, cute, gift, ...</td>\n",
       "      <td>[anyone, idea, cute, gift, make, programming, ...</td>\n",
       "      <td>[anyon, idea, cute, gift, make, program, id, r...</td>\n",
       "      <td>anyon idea cute gift make program id realli ap...</td>\n",
       "    </tr>\n",
       "    <tr>\n",
       "      <th>2</th>\n",
       "      <td>sp7b3q</td>\n",
       "      <td>Prim's Algorithm produces a Spanning Tree</td>\n",
       "      <td>31</td>\n",
       "      <td>0.97</td>\n",
       "      <td>computerscience</td>\n",
       "      <td>https://www.reddit.com/r/computerscience/comme...</td>\n",
       "      <td>2</td>\n",
       "      <td>I have been studing Algorithms using Stanford ...</td>\n",
       "      <td>1.644502e+09</td>\n",
       "      <td>[I, have, been, studing, Algorithms, using, St...</td>\n",
       "      <td>[studing, algorithms, using, stanford, algorit...</td>\n",
       "      <td>[stude, algorithm, use, stanford, algorithm, c...</td>\n",
       "      <td>stude algorithm use stanford algorithm cours c...</td>\n",
       "    </tr>\n",
       "    <tr>\n",
       "      <th>3</th>\n",
       "      <td>spay93</td>\n",
       "      <td>Where to learn Data Structures &amp; Algorithms fu...</td>\n",
       "      <td>13</td>\n",
       "      <td>0.93</td>\n",
       "      <td>computerscience</td>\n",
       "      <td>https://www.reddit.com/r/computerscience/comme...</td>\n",
       "      <td>3</td>\n",
       "      <td>I want to get into coding interviews but first...</td>\n",
       "      <td>1.644512e+09</td>\n",
       "      <td>[I, want, to, get, into, coding, interviews, b...</td>\n",
       "      <td>[want, get, coding, interviews, first, want, l...</td>\n",
       "      <td>[want, get, code, interview, first, want, lear...</td>\n",
       "      <td>want get code interview first want learn found...</td>\n",
       "    </tr>\n",
       "    <tr>\n",
       "      <th>4</th>\n",
       "      <td>sprt86</td>\n",
       "      <td>Adding class projects to resume</td>\n",
       "      <td>1</td>\n",
       "      <td>1.00</td>\n",
       "      <td>computerscience</td>\n",
       "      <td>https://www.reddit.com/r/computerscience/comme...</td>\n",
       "      <td>0</td>\n",
       "      <td>When adding class projects to my resume, shoul...</td>\n",
       "      <td>1.644559e+09</td>\n",
       "      <td>[When, adding, class, projects, to, my, resume...</td>\n",
       "      <td>[adding, class, projects, resume, include, cla...</td>\n",
       "      <td>[ad, class, project, resum, includ, class, lis...</td>\n",
       "      <td>ad class project resum includ class list tikta...</td>\n",
       "    </tr>\n",
       "    <tr>\n",
       "      <th>...</th>\n",
       "      <td>...</td>\n",
       "      <td>...</td>\n",
       "      <td>...</td>\n",
       "      <td>...</td>\n",
       "      <td>...</td>\n",
       "      <td>...</td>\n",
       "      <td>...</td>\n",
       "      <td>...</td>\n",
       "      <td>...</td>\n",
       "      <td>...</td>\n",
       "      <td>...</td>\n",
       "      <td>...</td>\n",
       "      <td>...</td>\n",
       "    </tr>\n",
       "    <tr>\n",
       "      <th>495</th>\n",
       "      <td>qb5blt</td>\n",
       "      <td>From a memory/efficiency point of view, is the...</td>\n",
       "      <td>0</td>\n",
       "      <td>0.20</td>\n",
       "      <td>computerscience</td>\n",
       "      <td>https://www.reddit.com/r/computerscience/comme...</td>\n",
       "      <td>2</td>\n",
       "      <td>I lost my wallet recently, containing my debit...</td>\n",
       "      <td>1.634624e+09</td>\n",
       "      <td>[I, lost, my, wallet, recently, ,, containing,...</td>\n",
       "      <td>[lost, wallet, recently, containing, debit, cr...</td>\n",
       "      <td>[lost, wallet, recent, contain, debit, credit,...</td>\n",
       "      <td>lost wallet recent contain debit credit card l...</td>\n",
       "    </tr>\n",
       "    <tr>\n",
       "      <th>496</th>\n",
       "      <td>qabacx</td>\n",
       "      <td>Extended use of math in computer science?</td>\n",
       "      <td>71</td>\n",
       "      <td>0.93</td>\n",
       "      <td>computerscience</td>\n",
       "      <td>https://www.reddit.com/r/computerscience/comme...</td>\n",
       "      <td>33</td>\n",
       "      <td>Hey I’m kind of new to computer science learni...</td>\n",
       "      <td>1.634517e+09</td>\n",
       "      <td>[Hey, I, ’, m, kind, of, new, to, computer, sc...</td>\n",
       "      <td>[hey, kind, new, computer, science, learning, ...</td>\n",
       "      <td>[hey, kind, new, comput, scienc, learn, one, t...</td>\n",
       "      <td>hey kind new comput scienc learn one thing kee...</td>\n",
       "    </tr>\n",
       "    <tr>\n",
       "      <th>497</th>\n",
       "      <td>qah5lk</td>\n",
       "      <td>Do computers calculate irrational and rational...</td>\n",
       "      <td>14</td>\n",
       "      <td>0.87</td>\n",
       "      <td>computerscience</td>\n",
       "      <td>https://www.reddit.com/r/computerscience/comme...</td>\n",
       "      <td>9</td>\n",
       "      <td></td>\n",
       "      <td>1.634539e+09</td>\n",
       "      <td>[]</td>\n",
       "      <td>[]</td>\n",
       "      <td>[]</td>\n",
       "      <td></td>\n",
       "    </tr>\n",
       "    <tr>\n",
       "      <th>498</th>\n",
       "      <td>qakzly</td>\n",
       "      <td>Wrong Algorithm ? I found this algorithm on ge...</td>\n",
       "      <td>5</td>\n",
       "      <td>0.73</td>\n",
       "      <td>computerscience</td>\n",
       "      <td>/r/AskComputerScience/comments/qakxks/wrong_al...</td>\n",
       "      <td>5</td>\n",
       "      <td></td>\n",
       "      <td>1.634557e+09</td>\n",
       "      <td>[]</td>\n",
       "      <td>[]</td>\n",
       "      <td>[]</td>\n",
       "      <td></td>\n",
       "    </tr>\n",
       "    <tr>\n",
       "      <th>499</th>\n",
       "      <td>qap6xe</td>\n",
       "      <td>An Unbeatable ModifiedTuring Test</td>\n",
       "      <td>0</td>\n",
       "      <td>0.50</td>\n",
       "      <td>computerscience</td>\n",
       "      <td>https://www.reddit.com/r/computerscience/comme...</td>\n",
       "      <td>1</td>\n",
       "      <td>I’d like to propose a modified version of the ...</td>\n",
       "      <td>1.634572e+09</td>\n",
       "      <td>[I, ’, d, like, to, propose, a, modified, vers...</td>\n",
       "      <td>[like, propose, modified, version, turing, tes...</td>\n",
       "      <td>[like, propos, modifi, version, ture, test, be...</td>\n",
       "      <td>like propos modifi version ture test believ co...</td>\n",
       "    </tr>\n",
       "  </tbody>\n",
       "</table>\n",
       "<p>500 rows × 13 columns</p>\n",
       "</div>"
      ],
      "text/plain": [
       "    post_id                                              title  score  \\\n",
       "0    spnpvh  Books about CS (Non-Fiction, Fiction, Biograph...     18   \n",
       "1    spml7t     ideas for valentines day coding related gifts?      5   \n",
       "2    sp7b3q          Prim's Algorithm produces a Spanning Tree     31   \n",
       "3    spay93  Where to learn Data Structures & Algorithms fu...     13   \n",
       "4    sprt86                    Adding class projects to resume      1   \n",
       "..      ...                                                ...    ...   \n",
       "495  qb5blt  From a memory/efficiency point of view, is the...      0   \n",
       "496  qabacx          Extended use of math in computer science?     71   \n",
       "497  qah5lk  Do computers calculate irrational and rational...     14   \n",
       "498  qakzly  Wrong Algorithm ? I found this algorithm on ge...      5   \n",
       "499  qap6xe                  An Unbeatable ModifiedTuring Test      0   \n",
       "\n",
       "     upvote_ratio        subreddit  \\\n",
       "0            0.96  computerscience   \n",
       "1            0.86  computerscience   \n",
       "2            0.97  computerscience   \n",
       "3            0.93  computerscience   \n",
       "4            1.00  computerscience   \n",
       "..            ...              ...   \n",
       "495          0.20  computerscience   \n",
       "496          0.93  computerscience   \n",
       "497          0.87  computerscience   \n",
       "498          0.73  computerscience   \n",
       "499          0.50  computerscience   \n",
       "\n",
       "                                                   url  num_comments  \\\n",
       "0    https://www.reddit.com/r/computerscience/comme...             5   \n",
       "1    https://www.reddit.com/r/computerscience/comme...             7   \n",
       "2    https://www.reddit.com/r/computerscience/comme...             2   \n",
       "3    https://www.reddit.com/r/computerscience/comme...             3   \n",
       "4    https://www.reddit.com/r/computerscience/comme...             0   \n",
       "..                                                 ...           ...   \n",
       "495  https://www.reddit.com/r/computerscience/comme...             2   \n",
       "496  https://www.reddit.com/r/computerscience/comme...            33   \n",
       "497  https://www.reddit.com/r/computerscience/comme...             9   \n",
       "498  /r/AskComputerScience/comments/qakxks/wrong_al...             5   \n",
       "499  https://www.reddit.com/r/computerscience/comme...             1   \n",
       "\n",
       "                                                  body       created  \\\n",
       "0    Looking for books related to computer science ...  1.644546e+09   \n",
       "1    anyone have any idea for a cute gift i can mak...  1.644543e+09   \n",
       "2    I have been studing Algorithms using Stanford ...  1.644502e+09   \n",
       "3    I want to get into coding interviews but first...  1.644512e+09   \n",
       "4    When adding class projects to my resume, shoul...  1.644559e+09   \n",
       "..                                                 ...           ...   \n",
       "495  I lost my wallet recently, containing my debit...  1.634624e+09   \n",
       "496  Hey I’m kind of new to computer science learni...  1.634517e+09   \n",
       "497                                                     1.634539e+09   \n",
       "498                                                     1.634557e+09   \n",
       "499  I’d like to propose a modified version of the ...  1.634572e+09   \n",
       "\n",
       "                                       body_word_token  \\\n",
       "0    [Looking, for, books, related, to, computer, s...   \n",
       "1    [anyone, have, any, idea, for, a, cute, gift, ...   \n",
       "2    [I, have, been, studing, Algorithms, using, St...   \n",
       "3    [I, want, to, get, into, coding, interviews, b...   \n",
       "4    [When, adding, class, projects, to, my, resume...   \n",
       "..                                                 ...   \n",
       "495  [I, lost, my, wallet, recently, ,, containing,...   \n",
       "496  [Hey, I, ’, m, kind, of, new, to, computer, sc...   \n",
       "497                                                 []   \n",
       "498                                                 []   \n",
       "499  [I, ’, d, like, to, propose, a, modified, vers...   \n",
       "\n",
       "                                         body_filtered  \\\n",
       "0    [looking, books, related, computer, science, l...   \n",
       "1    [anyone, idea, cute, gift, make, programming, ...   \n",
       "2    [studing, algorithms, using, stanford, algorit...   \n",
       "3    [want, get, coding, interviews, first, want, l...   \n",
       "4    [adding, class, projects, resume, include, cla...   \n",
       "..                                                 ...   \n",
       "495  [lost, wallet, recently, containing, debit, cr...   \n",
       "496  [hey, kind, new, computer, science, learning, ...   \n",
       "497                                                 []   \n",
       "498                                                 []   \n",
       "499  [like, propose, modified, version, turing, tes...   \n",
       "\n",
       "                                             body_stem  \\\n",
       "0    [look, book, relat, comput, scienc, learn, mat...   \n",
       "1    [anyon, idea, cute, gift, make, program, id, r...   \n",
       "2    [stude, algorithm, use, stanford, algorithm, c...   \n",
       "3    [want, get, code, interview, first, want, lear...   \n",
       "4    [ad, class, project, resum, includ, class, lis...   \n",
       "..                                                 ...   \n",
       "495  [lost, wallet, recent, contain, debit, credit,...   \n",
       "496  [hey, kind, new, comput, scienc, learn, one, t...   \n",
       "497                                                 []   \n",
       "498                                                 []   \n",
       "499  [like, propos, modifi, version, ture, test, be...   \n",
       "\n",
       "                                           body_string  \n",
       "0    look book relat comput scienc learn materi bio...  \n",
       "1    anyon idea cute gift make program id realli ap...  \n",
       "2    stude algorithm use stanford algorithm cours c...  \n",
       "3    want get code interview first want learn found...  \n",
       "4    ad class project resum includ class list tikta...  \n",
       "..                                                 ...  \n",
       "495  lost wallet recent contain debit credit card l...  \n",
       "496  hey kind new comput scienc learn one thing kee...  \n",
       "497                                                     \n",
       "498                                                     \n",
       "499  like propos modifi version ture test believ co...  \n",
       "\n",
       "[500 rows x 13 columns]"
      ]
     },
     "execution_count": 8,
     "metadata": {},
     "output_type": "execute_result"
    }
   ],
   "source": [
    "posts_dic['cs']"
   ]
  },
  {
   "cell_type": "code",
   "execution_count": 16,
   "id": "3c06aad4",
   "metadata": {},
   "outputs": [],
   "source": [
    "def eda(df, pre='body', subreddit=''):\n",
    "    \n",
    "    print('Subreddit: ',  subreddit)\n",
    "    print(\"Number of Posts:\",df.shape[0])\n",
    "    \n",
    "    all_words = [word for tokens in df[pre + '_filtered'] for word in tokens]\n",
    "    post_lengths = [len(tokens) for tokens in df[pre + '_filtered']]\n",
    "    vocab = sorted(list(set(all_words)))\n",
    "\n",
    "    print('{} words total (after preprocessing), with a vocabulary size of {}'.format(len(all_words), len(vocab)))\n",
    "    print('Max post length is {}'.format(max(post_lengths)))\n",
    "    \n",
    "    flat_words = [item for sublist in df[pre + '_filtered'] for item in sublist]\n",
    "    word_freq = FreqDist(flat_words)\n",
    "    fdf = pd.DataFrame(word_freq.most_common(20), columns=['word', 'frequency'])\n",
    "    fdf.plot(kind='bar', x='word', rot=70, title=subreddit)"
   ]
  },
  {
   "cell_type": "code",
   "execution_count": 17,
   "id": "0f28b8b1",
   "metadata": {
    "scrolled": false
   },
   "outputs": [
    {
     "name": "stdout",
     "output_type": "stream",
     "text": [
      "Subreddit:  cs\n",
      "Number of Posts: 500\n",
      "22590 words total (after preprocessing), with a vocabulary size of 5092\n",
      "Max post length is 399\n",
      "Subreddit:  aita\n",
      "Number of Posts: 752\n",
      "129147 words total (after preprocessing), with a vocabulary size of 10883\n",
      "Max post length is 521\n",
      "Subreddit:  antiwork\n",
      "Number of Posts: 942\n",
      "51350 words total (after preprocessing), with a vocabulary size of 7990\n",
      "Max post length is 1276\n",
      "Subreddit:  loseit\n",
      "Number of Posts: 788\n",
      "86729 words total (after preprocessing), with a vocabulary size of 9270\n",
      "Max post length is 1262\n",
      "Subreddit:  music\n",
      "Number of Posts: 394\n",
      "9432 words total (after preprocessing), with a vocabulary size of 3480\n",
      "Max post length is 699\n",
      "Subreddit:  nsq\n",
      "Number of Posts: 971\n",
      "20075 words total (after preprocessing), with a vocabulary size of 5490\n",
      "Max post length is 279\n"
     ]
    },
    {
     "data": {
      "image/png": "[encoded data removed]",
      "text/plain": [
       "<Figure size 432x288 with 1 Axes>"
      ]
     },
     "metadata": {
      "needs_background": "light"
     },
     "output_type": "display_data"
    },
    {
     "data": {
      "image/png": "[encoded data removed]",
      "text/plain": [
       "<Figure size 432x288 with 1 Axes>"
      ]
     },
     "metadata": {
      "needs_background": "light"
     },
     "output_type": "display_data"
    },
    {
     "data": {
      "image/png": "[encoded data removed]",
      "text/plain": [
       "<Figure size 432x288 with 1 Axes>"
      ]
     },
     "metadata": {
      "needs_background": "light"
     },
     "output_type": "display_data"
    },
    {
     "data": {
      "image/png": "[encoded data removed]",
      "text/plain": [
       "<Figure size 432x288 with 1 Axes>"
      ]
     },
     "metadata": {
      "needs_background": "light"
     },
     "output_type": "display_data"
    },
    {
     "data": {
      "image/png": "[encoded data removed]",
      "text/plain": [
       "<Figure size 432x288 with 1 Axes>"
      ]
     },
     "metadata": {
      "needs_background": "light"
     },
     "output_type": "display_data"
    },
    {
     "data": {
      "image/png": "[encoded data removed]",
      "text/plain": [
       "<Figure size 432x288 with 1 Axes>"
      ]
     },
     "metadata": {
      "needs_background": "light"
     },
     "output_type": "display_data"
    }
   ],
   "source": [
    "for i in posts_dic.keys():\n",
    "    eda(posts_dic[i], subreddit=i)"
   ]
  },
  {
   "cell_type": "markdown",
   "id": "9ded4e0b",
   "metadata": {},
   "source": [
    "## EDA Comments "
   ]
  },
  {
   "cell_type": "code",
   "execution_count": 18,
   "id": "a2f556d3",
   "metadata": {},
   "outputs": [
    {
     "data": {
      "text/html": [
       "<div>\n",
       "<style scoped>\n",
       "    .dataframe tbody tr th:only-of-type {\n",
       "        vertical-align: middle;\n",
       "    }\n",
       "\n",
       "    .dataframe tbody tr th {\n",
       "        vertical-align: top;\n",
       "    }\n",
       "\n",
       "    .dataframe thead th {\n",
       "        text-align: right;\n",
       "    }\n",
       "</style>\n",
       "<table border=\"1\" class=\"dataframe\">\n",
       "  <thead>\n",
       "    <tr style=\"text-align: right;\">\n",
       "      <th></th>\n",
       "      <th>post_id</th>\n",
       "      <th>comment_id</th>\n",
       "      <th>parent_id</th>\n",
       "      <th>comment</th>\n",
       "      <th>up_vote_count</th>\n",
       "      <th>down_vote_count</th>\n",
       "      <th>controversiality</th>\n",
       "      <th>total_awards_received</th>\n",
       "      <th>score</th>\n",
       "      <th>is_locked</th>\n",
       "      <th>is_collapsed</th>\n",
       "      <th>is_submitter</th>\n",
       "      <th>created_utc</th>\n",
       "    </tr>\n",
       "  </thead>\n",
       "  <tbody>\n",
       "    <tr>\n",
       "      <th>0</th>\n",
       "      <td>spnpvh</td>\n",
       "      <td>hwgsuow</td>\n",
       "      <td>t3_spnpvh</td>\n",
       "      <td>Xerox PARC didn't just invent the GUI, they in...</td>\n",
       "      <td>2</td>\n",
       "      <td>0</td>\n",
       "      <td>0</td>\n",
       "      <td>0</td>\n",
       "      <td>2</td>\n",
       "      <td>False</td>\n",
       "      <td>False</td>\n",
       "      <td>False</td>\n",
       "      <td>1.644555e+09</td>\n",
       "    </tr>\n",
       "    <tr>\n",
       "      <th>1</th>\n",
       "      <td>spnpvh</td>\n",
       "      <td>hwgdcg1</td>\n",
       "      <td>t3_spnpvh</td>\n",
       "      <td>I recently went through The Innovators. It giv...</td>\n",
       "      <td>3</td>\n",
       "      <td>0</td>\n",
       "      <td>0</td>\n",
       "      <td>0</td>\n",
       "      <td>3</td>\n",
       "      <td>False</td>\n",
       "      <td>False</td>\n",
       "      <td>False</td>\n",
       "      <td>1.644547e+09</td>\n",
       "    </tr>\n",
       "    <tr>\n",
       "      <th>2</th>\n",
       "      <td>spnpvh</td>\n",
       "      <td>hwgslxi</td>\n",
       "      <td>t3_spnpvh</td>\n",
       "      <td>The Unicorn Project is pretty good.</td>\n",
       "      <td>1</td>\n",
       "      <td>0</td>\n",
       "      <td>0</td>\n",
       "      <td>0</td>\n",
       "      <td>1</td>\n",
       "      <td>False</td>\n",
       "      <td>False</td>\n",
       "      <td>False</td>\n",
       "      <td>1.644555e+09</td>\n",
       "    </tr>\n",
       "    <tr>\n",
       "      <th>3</th>\n",
       "      <td>spnpvh</td>\n",
       "      <td>hwgtesm</td>\n",
       "      <td>t3_spnpvh</td>\n",
       "      <td>For fiction stories that arguably contain comp...</td>\n",
       "      <td>1</td>\n",
       "      <td>0</td>\n",
       "      <td>0</td>\n",
       "      <td>0</td>\n",
       "      <td>1</td>\n",
       "      <td>False</td>\n",
       "      <td>False</td>\n",
       "      <td>False</td>\n",
       "      <td>1.644555e+09</td>\n",
       "    </tr>\n",
       "    <tr>\n",
       "      <th>4</th>\n",
       "      <td>spnpvh</td>\n",
       "      <td>hwgygdz</td>\n",
       "      <td>t3_spnpvh</td>\n",
       "      <td>Cliff Stoll's [*Cuckoo's Egg*](https://en.wiki...</td>\n",
       "      <td>1</td>\n",
       "      <td>0</td>\n",
       "      <td>0</td>\n",
       "      <td>0</td>\n",
       "      <td>1</td>\n",
       "      <td>False</td>\n",
       "      <td>False</td>\n",
       "      <td>False</td>\n",
       "      <td>1.644558e+09</td>\n",
       "    </tr>\n",
       "  </tbody>\n",
       "</table>\n",
       "</div>"
      ],
      "text/plain": [
       "  post_id comment_id  parent_id  \\\n",
       "0  spnpvh    hwgsuow  t3_spnpvh   \n",
       "1  spnpvh    hwgdcg1  t3_spnpvh   \n",
       "2  spnpvh    hwgslxi  t3_spnpvh   \n",
       "3  spnpvh    hwgtesm  t3_spnpvh   \n",
       "4  spnpvh    hwgygdz  t3_spnpvh   \n",
       "\n",
       "                                             comment  up_vote_count  \\\n",
       "0  Xerox PARC didn't just invent the GUI, they in...              2   \n",
       "1  I recently went through The Innovators. It giv...              3   \n",
       "2                The Unicorn Project is pretty good.              1   \n",
       "3  For fiction stories that arguably contain comp...              1   \n",
       "4  Cliff Stoll's [*Cuckoo's Egg*](https://en.wiki...              1   \n",
       "\n",
       "   down_vote_count  controversiality  total_awards_received  score  is_locked  \\\n",
       "0                0                 0                      0      2      False   \n",
       "1                0                 0                      0      3      False   \n",
       "2                0                 0                      0      1      False   \n",
       "3                0                 0                      0      1      False   \n",
       "4                0                 0                      0      1      False   \n",
       "\n",
       "   is_collapsed  is_submitter   created_utc  \n",
       "0         False         False  1.644555e+09  \n",
       "1         False         False  1.644547e+09  \n",
       "2         False         False  1.644555e+09  \n",
       "3         False         False  1.644555e+09  \n",
       "4         False         False  1.644558e+09  "
      ]
     },
     "execution_count": 18,
     "metadata": {},
     "output_type": "execute_result"
    }
   ],
   "source": [
    "comments_dic['cs'].head()"
   ]
  },
  {
   "cell_type": "code",
   "execution_count": 19,
   "id": "9dca918a",
   "metadata": {},
   "outputs": [],
   "source": [
    "for i in comments_dic.keys():\n",
    "    comments_dic[i] = PreProcess.preprocess(comments_dic[i], 'comment')\n",
    "    for j in range(len(comments_dic[i].index)):\n",
    "        comments_dic[i].at[i, 'comment_string'] = ' '.join([str(elem) for elem in comments_dic[i].at[j, 'comment_stem']])  "
   ]
  },
  {
   "cell_type": "code",
   "execution_count": 271,
   "id": "28afbe57",
   "metadata": {},
   "outputs": [],
   "source": [
    "# print(\"For post_id = n2n0ax:\")\n",
    "# eda(preprocessed_df_comments[preprocessed_df_comments.post_id == 'n2n0ax'], \"comment\")"
   ]
  },
  {
   "cell_type": "code",
   "execution_count": 272,
   "id": "191c130a",
   "metadata": {},
   "outputs": [],
   "source": [
    "# display(preprocessed_df[preprocessed_df.post_id == 'n2n0ax'])\n",
    "# print(\"\\n>>>>Title: \\n\", preprocessed_df[preprocessed_df.post_id == 'n2n0ax'].title[0])\n",
    "# print(\"\\n>>>>Body: \\n\",preprocessed_df[preprocessed_df.post_id == 'n2n0ax'].body[0])"
   ]
  },
  {
   "cell_type": "markdown",
   "id": "ce01f36e",
   "metadata": {},
   "source": [
    "## BERTopic on Posts Text (Body)"
   ]
  },
  {
   "cell_type": "code",
   "execution_count": 21,
   "id": "635aed88",
   "metadata": {},
   "outputs": [],
   "source": [
    "body_umap_params = {\n",
    "    'n_neighbors':5,\n",
    "    'n_components': 5,\n",
    "    'min_dist': 0.0,\n",
    "    'metric': 'cosine',\n",
    "    'low_memory': False\n",
    "}\n",
    "body_hdb_params = {\n",
    "    'min_cluster_size': 5,\n",
    "    'min_samples': 4,\n",
    "    'metric': 'euclidean',\n",
    "    'cluster_selection_method': 'eom',\n",
    "    'prediction_data': True\n",
    "}\n",
    "body_model_params = {\n",
    "    'min_topic_size': 3,\n",
    "    'top_n_words': 5,\n",
    "    'n_gram_range': (1,2), \n",
    "    'calculate_probabilities': True,\n",
    "    'verbose': True\n",
    "}"
   ]
  },
  {
   "cell_type": "code",
   "execution_count": 22,
   "id": "f1ec7245",
   "metadata": {},
   "outputs": [],
   "source": [
    "def train_bert(df, column, umap_params, hdb_params, model_params):\n",
    "    umap_model = UMAP(**umap_params)\n",
    "    hdbscan_model = HDBSCAN(**hdb_params)\n",
    "    topic_model = BERTopic(**model_params, umap_model=umap_model, hdbscan_model=hdbscan_model)\n",
    "    topics, probs = topic_model.fit_transform(df[column])\n",
    "    freq = topic_model.get_topic_info()\n",
    "    docs = topic_model.get_representative_docs()\n",
    "    topic_names = []\n",
    "    for i in topics:\n",
    "        topic_names.append(list(freq[freq['Topic'] == i][\"Name\"])[0])\n",
    "    df['topic_label'] = topics\n",
    "    df['topic_name'] = topic_names\n",
    "    return topic_model, freq, df"
   ]
  },
  {
   "cell_type": "code",
   "execution_count": 26,
   "id": "754cc7e8",
   "metadata": {
    "scrolled": false
   },
   "outputs": [
    {
     "data": {
      "application/vnd.jupyter.widget-view+json": {
       "model_id": "8ecd54e2bf174f70a822a49f673edc38",
       "version_major": 2,
       "version_minor": 0
      },
      "text/plain": [
       "Batches:   0%|          | 0/16 [00:00<?, ?it/s]"
      ]
     },
     "metadata": {},
     "output_type": "display_data"
    },
    {
     "name": "stderr",
     "output_type": "stream",
     "text": [
      "2022-02-11 02:35:44,304 - BERTopic - Transformed documents to Embeddings\n",
      "OMP: Info #271: omp_set_nested routine deprecated, please use omp_set_max_active_levels instead.\n",
      "2022-02-11 02:35:50,518 - BERTopic - Reduced dimensionality with UMAP\n",
      "2022-02-11 02:35:50,578 - BERTopic - Clustered UMAP embeddings with HDBSCAN\n"
     ]
    },
    {
     "data": {
      "application/vnd.jupyter.widget-view+json": {
       "model_id": "5eaf66cfeb0441f586a627888fa76605",
       "version_major": 2,
       "version_minor": 0
      },
      "text/plain": [
       "Batches:   0%|          | 0/24 [00:00<?, ?it/s]"
      ]
     },
     "metadata": {},
     "output_type": "display_data"
    },
    {
     "name": "stderr",
     "output_type": "stream",
     "text": [
      "2022-02-11 02:37:02,757 - BERTopic - Transformed documents to Embeddings\n",
      "2022-02-11 02:37:05,427 - BERTopic - Reduced dimensionality with UMAP\n",
      "2022-02-11 02:37:05,554 - BERTopic - Clustered UMAP embeddings with HDBSCAN\n"
     ]
    },
    {
     "data": {
      "application/vnd.jupyter.widget-view+json": {
       "model_id": "76b523f86d334a2592f2ebfcc6a78347",
       "version_major": 2,
       "version_minor": 0
      },
      "text/plain": [
       "Batches:   0%|          | 0/30 [00:00<?, ?it/s]"
      ]
     },
     "metadata": {},
     "output_type": "display_data"
    },
    {
     "name": "stderr",
     "output_type": "stream",
     "text": [
      "2022-02-11 02:37:42,302 - BERTopic - Transformed documents to Embeddings\n",
      "2022-02-11 02:37:46,235 - BERTopic - Reduced dimensionality with UMAP\n",
      "2022-02-11 02:37:46,333 - BERTopic - Clustered UMAP embeddings with HDBSCAN\n"
     ]
    },
    {
     "data": {
      "application/vnd.jupyter.widget-view+json": {
       "model_id": "9093505d222d4555b826b0d164648028",
       "version_major": 2,
       "version_minor": 0
      },
      "text/plain": [
       "Batches:   0%|          | 0/25 [00:00<?, ?it/s]"
      ]
     },
     "metadata": {},
     "output_type": "display_data"
    },
    {
     "name": "stderr",
     "output_type": "stream",
     "text": [
      "2022-02-11 02:38:50,532 - BERTopic - Transformed documents to Embeddings\n",
      "2022-02-11 02:38:53,179 - BERTopic - Reduced dimensionality with UMAP\n",
      "2022-02-11 02:38:53,311 - BERTopic - Clustered UMAP embeddings with HDBSCAN\n"
     ]
    },
    {
     "data": {
      "application/vnd.jupyter.widget-view+json": {
       "model_id": "6424637190c74d649c95da322df805fe",
       "version_major": 2,
       "version_minor": 0
      },
      "text/plain": [
       "Batches:   0%|          | 0/13 [00:00<?, ?it/s]"
      ]
     },
     "metadata": {},
     "output_type": "display_data"
    },
    {
     "name": "stderr",
     "output_type": "stream",
     "text": [
      "2022-02-11 02:39:11,491 - BERTopic - Transformed documents to Embeddings\n",
      "2022-02-11 02:39:13,583 - BERTopic - Reduced dimensionality with UMAP\n",
      "2022-02-11 02:39:13,621 - BERTopic - Clustered UMAP embeddings with HDBSCAN\n"
     ]
    },
    {
     "data": {
      "application/vnd.jupyter.widget-view+json": {
       "model_id": "d262dcfa639546828671777c2a450af7",
       "version_major": 2,
       "version_minor": 0
      },
      "text/plain": [
       "Batches:   0%|          | 0/31 [00:00<?, ?it/s]"
      ]
     },
     "metadata": {},
     "output_type": "display_data"
    },
    {
     "name": "stderr",
     "output_type": "stream",
     "text": [
      "2022-02-11 02:39:37,975 - BERTopic - Transformed documents to Embeddings\n",
      "2022-02-11 02:39:41,123 - BERTopic - Reduced dimensionality with UMAP\n",
      "2022-02-11 02:39:41,292 - BERTopic - Clustered UMAP embeddings with HDBSCAN\n"
     ]
    }
   ],
   "source": [
    "post_model_topic_model_dic = {}\n",
    "post_model_freq_dic = {}\n",
    "post_model_df_dic = {}\n",
    "for i in posts_dic.keys():\n",
    "    post_model_topic_model_dic[i], post_model_freq_dic[i], post_model_df_dic[i] = train_bert(posts_dic[i], 'body', body_umap_params, body_hdb_params, body_model_params)"
   ]
  },
  {
   "cell_type": "code",
   "execution_count": 33,
   "id": "d2ac3a86",
   "metadata": {},
   "outputs": [
    {
     "name": "stdout",
     "output_type": "stream",
     "text": [
      "Number of topics found per subreddit:\n",
      "cs 33\n",
      "aita 54\n",
      "antiwork 34\n",
      "loseit 56\n",
      "music 23\n",
      "nsq 60\n"
     ]
    }
   ],
   "source": [
    "num_post_topics = {}\n",
    "print('Number of topics found per subreddit:')\n",
    "for i in post_model_freq_dic.keys():\n",
    "    num_post_topics[i] = len(post_model_freq_dic[i])\n",
    "    print(i, len(post_model_freq_dic[i]))"
   ]
  },
  {
   "cell_type": "code",
   "execution_count": 36,
   "id": "1204dd85",
   "metadata": {},
   "outputs": [],
   "source": [
    "eda_df = pd.DataFrame.from_dict(num_post_topics, orient='index')"
   ]
  },
  {
   "cell_type": "code",
   "execution_count": 42,
   "id": "da044910",
   "metadata": {},
   "outputs": [],
   "source": [
    "eda_df.columns = ['num_posts_topics_found']"
   ]
  },
  {
   "cell_type": "code",
   "execution_count": 43,
   "id": "67349019",
   "metadata": {},
   "outputs": [
    {
     "data": {
      "text/html": [
       "<div>\n",
       "<style scoped>\n",
       "    .dataframe tbody tr th:only-of-type {\n",
       "        vertical-align: middle;\n",
       "    }\n",
       "\n",
       "    .dataframe tbody tr th {\n",
       "        vertical-align: top;\n",
       "    }\n",
       "\n",
       "    .dataframe thead th {\n",
       "        text-align: right;\n",
       "    }\n",
       "</style>\n",
       "<table border=\"1\" class=\"dataframe\">\n",
       "  <thead>\n",
       "    <tr style=\"text-align: right;\">\n",
       "      <th></th>\n",
       "      <th>num_posts_topics_found</th>\n",
       "    </tr>\n",
       "  </thead>\n",
       "  <tbody>\n",
       "    <tr>\n",
       "      <th>cs</th>\n",
       "      <td>33</td>\n",
       "    </tr>\n",
       "    <tr>\n",
       "      <th>aita</th>\n",
       "      <td>54</td>\n",
       "    </tr>\n",
       "    <tr>\n",
       "      <th>antiwork</th>\n",
       "      <td>34</td>\n",
       "    </tr>\n",
       "    <tr>\n",
       "      <th>loseit</th>\n",
       "      <td>56</td>\n",
       "    </tr>\n",
       "    <tr>\n",
       "      <th>music</th>\n",
       "      <td>23</td>\n",
       "    </tr>\n",
       "    <tr>\n",
       "      <th>nsq</th>\n",
       "      <td>60</td>\n",
       "    </tr>\n",
       "  </tbody>\n",
       "</table>\n",
       "</div>"
      ],
      "text/plain": [
       "          num_posts_topics_found\n",
       "cs                            33\n",
       "aita                          54\n",
       "antiwork                      34\n",
       "loseit                        56\n",
       "music                         23\n",
       "nsq                           60"
      ]
     },
     "execution_count": 43,
     "metadata": {},
     "output_type": "execute_result"
    }
   ],
   "source": [
    "eda_df"
   ]
  },
  {
   "cell_type": "code",
   "execution_count": 57,
   "id": "0863c3e8",
   "metadata": {},
   "outputs": [],
   "source": [
    "eda_df['posts_word_count'] = 0\n",
    "eda_df['posts_max_length'] = 0\n",
    "eda_df['posts_vocab_size'] = 0\n",
    "for i in posts_dic.keys():\n",
    "    eda_df['posts_word_count'].loc[i] = len([word for tokens in posts_dic[i]['body_filtered'] for word in tokens])\n",
    "    eda_df['posts_max_length'].loc[i] = np.max([len(tokens) for tokens in posts_dic[i]['body_filtered']])\n",
    "    eda_df['posts_vocab_size'].loc[i] = len(sorted(list(set([word for tokens in posts_dic[i]['body_filtered'] for word in tokens]))))"
   ]
  },
  {
   "cell_type": "code",
   "execution_count": 75,
   "id": "783eeb52",
   "metadata": {},
   "outputs": [
    {
     "data": {
      "text/html": [
       "<div>\n",
       "<style scoped>\n",
       "    .dataframe tbody tr th:only-of-type {\n",
       "        vertical-align: middle;\n",
       "    }\n",
       "\n",
       "    .dataframe tbody tr th {\n",
       "        vertical-align: top;\n",
       "    }\n",
       "\n",
       "    .dataframe thead th {\n",
       "        text-align: right;\n",
       "    }\n",
       "</style>\n",
       "<table border=\"1\" class=\"dataframe\">\n",
       "  <thead>\n",
       "    <tr style=\"text-align: right;\">\n",
       "      <th></th>\n",
       "      <th>num_posts_topics_found</th>\n",
       "      <th>posts_word_count</th>\n",
       "      <th>posts_vocab_size</th>\n",
       "      <th>posts_max_length</th>\n",
       "    </tr>\n",
       "  </thead>\n",
       "  <tbody>\n",
       "    <tr>\n",
       "      <th>cs</th>\n",
       "      <td>33</td>\n",
       "      <td>22590</td>\n",
       "      <td>5092</td>\n",
       "      <td>399</td>\n",
       "    </tr>\n",
       "    <tr>\n",
       "      <th>aita</th>\n",
       "      <td>54</td>\n",
       "      <td>129147</td>\n",
       "      <td>10883</td>\n",
       "      <td>521</td>\n",
       "    </tr>\n",
       "    <tr>\n",
       "      <th>antiwork</th>\n",
       "      <td>34</td>\n",
       "      <td>51350</td>\n",
       "      <td>7990</td>\n",
       "      <td>1276</td>\n",
       "    </tr>\n",
       "    <tr>\n",
       "      <th>loseit</th>\n",
       "      <td>56</td>\n",
       "      <td>86729</td>\n",
       "      <td>9270</td>\n",
       "      <td>1262</td>\n",
       "    </tr>\n",
       "    <tr>\n",
       "      <th>music</th>\n",
       "      <td>23</td>\n",
       "      <td>9432</td>\n",
       "      <td>3480</td>\n",
       "      <td>699</td>\n",
       "    </tr>\n",
       "    <tr>\n",
       "      <th>nsq</th>\n",
       "      <td>60</td>\n",
       "      <td>20075</td>\n",
       "      <td>5490</td>\n",
       "      <td>279</td>\n",
       "    </tr>\n",
       "  </tbody>\n",
       "</table>\n",
       "</div>"
      ],
      "text/plain": [
       "          num_posts_topics_found  posts_word_count  posts_vocab_size  \\\n",
       "cs                            33             22590              5092   \n",
       "aita                          54            129147             10883   \n",
       "antiwork                      34             51350              7990   \n",
       "loseit                        56             86729              9270   \n",
       "music                         23              9432              3480   \n",
       "nsq                           60             20075              5490   \n",
       "\n",
       "          posts_max_length  \n",
       "cs                     399  \n",
       "aita                   521  \n",
       "antiwork              1276  \n",
       "loseit                1262  \n",
       "music                  699  \n",
       "nsq                    279  "
      ]
     },
     "execution_count": 75,
     "metadata": {},
     "output_type": "execute_result"
    }
   ],
   "source": [
    "eda_df"
   ]
  },
  {
   "cell_type": "code",
   "execution_count": 73,
   "id": "2ced880e",
   "metadata": {},
   "outputs": [
    {
     "data": {
      "image/png": "[encoded data removed]",
      "text/plain": [
       "<Figure size 432x288 with 1 Axes>"
      ]
     },
     "metadata": {
      "needs_background": "light"
     },
     "output_type": "display_data"
    }
   ],
   "source": [
    "fig, ax = plt.subplots()\n",
    "eda_df.plot(x='num_posts_topics_found', y='posts_vocab_size', kind='scatter', ax=ax)\n",
    "for k, v in eda_df[['num_posts_topics_found', 'posts_vocab_size']].iterrows():\n",
    "    ax.annotate(k, v)"
   ]
  },
  {
   "cell_type": "markdown",
   "id": "b59a4d3e",
   "metadata": {},
   "source": [
    "Subreddits with higher number of topics generally have higher vocabularies, which makes sense, but this is not always the case. When it is not the case, like antiwork, is that indicative of repetitive posts/topics of discussion within subreddit?"
   ]
  },
  {
   "cell_type": "code",
   "execution_count": 76,
   "id": "edcf21a8",
   "metadata": {},
   "outputs": [],
   "source": [
    "from transformers import AutoTokenizer, AutoModelForSequenceClassification\n",
    "import torch\n",
    "import requests\n",
    "from bs4 import BeautifulSoup\n",
    "import re"
   ]
  },
  {
   "cell_type": "code",
   "execution_count": 77,
   "id": "cb605c4a",
   "metadata": {},
   "outputs": [
    {
     "data": {
      "application/vnd.jupyter.widget-view+json": {
       "model_id": "3d89fe925b13438b911bf603bcf44650",
       "version_major": 2,
       "version_minor": 0
      },
      "text/plain": [
       "Downloading:   0%|          | 0.00/39.0 [00:00<?, ?B/s]"
      ]
     },
     "metadata": {},
     "output_type": "display_data"
    },
    {
     "data": {
      "application/vnd.jupyter.widget-view+json": {
       "model_id": "fe1ed1cc48a845faa438eeb3e9e91785",
       "version_major": 2,
       "version_minor": 0
      },
      "text/plain": [
       "Downloading:   0%|          | 0.00/953 [00:00<?, ?B/s]"
      ]
     },
     "metadata": {},
     "output_type": "display_data"
    },
    {
     "data": {
      "application/vnd.jupyter.widget-view+json": {
       "model_id": "7dc5c702596d44ca9b6df850a438ceab",
       "version_major": 2,
       "version_minor": 0
      },
      "text/plain": [
       "Downloading:   0%|          | 0.00/851k [00:00<?, ?B/s]"
      ]
     },
     "metadata": {},
     "output_type": "display_data"
    },
    {
     "data": {
      "application/vnd.jupyter.widget-view+json": {
       "model_id": "f2a000a66838477f89bb78be297ffefd",
       "version_major": 2,
       "version_minor": 0
      },
      "text/plain": [
       "Downloading:   0%|          | 0.00/112 [00:00<?, ?B/s]"
      ]
     },
     "metadata": {},
     "output_type": "display_data"
    },
    {
     "data": {
      "application/vnd.jupyter.widget-view+json": {
       "model_id": "daa3d54dcb7143e7a2d6b45ec300feaa",
       "version_major": 2,
       "version_minor": 0
      },
      "text/plain": [
       "Downloading:   0%|          | 0.00/638M [00:00<?, ?B/s]"
      ]
     },
     "metadata": {},
     "output_type": "display_data"
    }
   ],
   "source": [
    "tokenizer = AutoTokenizer.from_pretrained('nlptown/bert-base-multilingual-uncased-sentiment')\n",
    "\n",
    "model = AutoModelForSequenceClassification.from_pretrained('nlptown/bert-base-multilingual-uncased-sentiment')"
   ]
  },
  {
   "cell_type": "code",
   "execution_count": 78,
   "id": "4a439910",
   "metadata": {},
   "outputs": [],
   "source": [
    "def sentiment_score(review):\n",
    "    tokens = tokenizer.encode(review, return_tensors='pt')\n",
    "    result = model(tokens)\n",
    "    return int(torch.argmax(result.logits))+1"
   ]
  },
  {
   "cell_type": "code",
   "execution_count": 79,
   "id": "266a67ff",
   "metadata": {},
   "outputs": [
    {
     "ename": "TypeError",
     "evalue": "'float' object is not subscriptable",
     "output_type": "error",
     "traceback": [
      "\u001b[0;31m---------------------------------------------------------------------------\u001b[0m",
      "\u001b[0;31mTypeError\u001b[0m                                 Traceback (most recent call last)",
      "\u001b[0;32m/var/folders/92/_804j2_s6cb9ytq1q1j27h500000gn/T/ipykernel_28628/3271610741.py\u001b[0m in \u001b[0;36m<module>\u001b[0;34m\u001b[0m\n\u001b[1;32m      1\u001b[0m \u001b[0;32mfor\u001b[0m \u001b[0mi\u001b[0m \u001b[0;32min\u001b[0m \u001b[0mcomments_dic\u001b[0m\u001b[0;34m.\u001b[0m\u001b[0mkeys\u001b[0m\u001b[0;34m(\u001b[0m\u001b[0;34m)\u001b[0m\u001b[0;34m:\u001b[0m\u001b[0;34m\u001b[0m\u001b[0;34m\u001b[0m\u001b[0m\n\u001b[0;32m----> 2\u001b[0;31m     \u001b[0mcomments_dic\u001b[0m\u001b[0;34m[\u001b[0m\u001b[0mi\u001b[0m\u001b[0;34m]\u001b[0m\u001b[0;34m[\u001b[0m\u001b[0;34m'sentiment'\u001b[0m\u001b[0;34m]\u001b[0m \u001b[0;34m=\u001b[0m \u001b[0mcomments_dic\u001b[0m\u001b[0;34m[\u001b[0m\u001b[0mi\u001b[0m\u001b[0;34m]\u001b[0m\u001b[0;34m[\u001b[0m\u001b[0;34m'comment'\u001b[0m\u001b[0;34m]\u001b[0m\u001b[0;34m.\u001b[0m\u001b[0mapply\u001b[0m\u001b[0;34m(\u001b[0m\u001b[0;32mlambda\u001b[0m \u001b[0mx\u001b[0m\u001b[0;34m:\u001b[0m \u001b[0msentiment_score\u001b[0m\u001b[0;34m(\u001b[0m\u001b[0mx\u001b[0m\u001b[0;34m[\u001b[0m\u001b[0;34m:\u001b[0m\u001b[0;36m512\u001b[0m\u001b[0;34m]\u001b[0m\u001b[0;34m)\u001b[0m\u001b[0;34m)\u001b[0m\u001b[0;34m\u001b[0m\u001b[0;34m\u001b[0m\u001b[0m\n\u001b[0m",
      "\u001b[0;32m~/opt/anaconda3/envs/uwmsds/lib/python3.7/site-packages/pandas/core/series.py\u001b[0m in \u001b[0;36mapply\u001b[0;34m(self, func, convert_dtype, args, **kwargs)\u001b[0m\n\u001b[1;32m   4355\u001b[0m         \u001b[0mdtype\u001b[0m\u001b[0;34m:\u001b[0m \u001b[0mfloat64\u001b[0m\u001b[0;34m\u001b[0m\u001b[0;34m\u001b[0m\u001b[0m\n\u001b[1;32m   4356\u001b[0m         \"\"\"\n\u001b[0;32m-> 4357\u001b[0;31m         \u001b[0;32mreturn\u001b[0m \u001b[0mSeriesApply\u001b[0m\u001b[0;34m(\u001b[0m\u001b[0mself\u001b[0m\u001b[0;34m,\u001b[0m \u001b[0mfunc\u001b[0m\u001b[0;34m,\u001b[0m \u001b[0mconvert_dtype\u001b[0m\u001b[0;34m,\u001b[0m \u001b[0margs\u001b[0m\u001b[0;34m,\u001b[0m \u001b[0mkwargs\u001b[0m\u001b[0;34m)\u001b[0m\u001b[0;34m.\u001b[0m\u001b[0mapply\u001b[0m\u001b[0;34m(\u001b[0m\u001b[0;34m)\u001b[0m\u001b[0;34m\u001b[0m\u001b[0;34m\u001b[0m\u001b[0m\n\u001b[0m\u001b[1;32m   4358\u001b[0m \u001b[0;34m\u001b[0m\u001b[0m\n\u001b[1;32m   4359\u001b[0m     def _reduce(\n",
      "\u001b[0;32m~/opt/anaconda3/envs/uwmsds/lib/python3.7/site-packages/pandas/core/apply.py\u001b[0m in \u001b[0;36mapply\u001b[0;34m(self)\u001b[0m\n\u001b[1;32m   1041\u001b[0m             \u001b[0;32mreturn\u001b[0m \u001b[0mself\u001b[0m\u001b[0;34m.\u001b[0m\u001b[0mapply_str\u001b[0m\u001b[0;34m(\u001b[0m\u001b[0;34m)\u001b[0m\u001b[0;34m\u001b[0m\u001b[0;34m\u001b[0m\u001b[0m\n\u001b[1;32m   1042\u001b[0m \u001b[0;34m\u001b[0m\u001b[0m\n\u001b[0;32m-> 1043\u001b[0;31m         \u001b[0;32mreturn\u001b[0m \u001b[0mself\u001b[0m\u001b[0;34m.\u001b[0m\u001b[0mapply_standard\u001b[0m\u001b[0;34m(\u001b[0m\u001b[0;34m)\u001b[0m\u001b[0;34m\u001b[0m\u001b[0;34m\u001b[0m\u001b[0m\n\u001b[0m\u001b[1;32m   1044\u001b[0m \u001b[0;34m\u001b[0m\u001b[0m\n\u001b[1;32m   1045\u001b[0m     \u001b[0;32mdef\u001b[0m \u001b[0magg\u001b[0m\u001b[0;34m(\u001b[0m\u001b[0mself\u001b[0m\u001b[0;34m)\u001b[0m\u001b[0;34m:\u001b[0m\u001b[0;34m\u001b[0m\u001b[0;34m\u001b[0m\u001b[0m\n",
      "\u001b[0;32m~/opt/anaconda3/envs/uwmsds/lib/python3.7/site-packages/pandas/core/apply.py\u001b[0m in \u001b[0;36mapply_standard\u001b[0;34m(self)\u001b[0m\n\u001b[1;32m   1099\u001b[0m                     \u001b[0mvalues\u001b[0m\u001b[0;34m,\u001b[0m\u001b[0;34m\u001b[0m\u001b[0;34m\u001b[0m\u001b[0m\n\u001b[1;32m   1100\u001b[0m                     \u001b[0mf\u001b[0m\u001b[0;34m,\u001b[0m  \u001b[0;31m# type: ignore[arg-type]\u001b[0m\u001b[0;34m\u001b[0m\u001b[0;34m\u001b[0m\u001b[0m\n\u001b[0;32m-> 1101\u001b[0;31m                     \u001b[0mconvert\u001b[0m\u001b[0;34m=\u001b[0m\u001b[0mself\u001b[0m\u001b[0;34m.\u001b[0m\u001b[0mconvert_dtype\u001b[0m\u001b[0;34m,\u001b[0m\u001b[0;34m\u001b[0m\u001b[0;34m\u001b[0m\u001b[0m\n\u001b[0m\u001b[1;32m   1102\u001b[0m                 )\n\u001b[1;32m   1103\u001b[0m \u001b[0;34m\u001b[0m\u001b[0m\n",
      "\u001b[0;32m~/opt/anaconda3/envs/uwmsds/lib/python3.7/site-packages/pandas/_libs/lib.pyx\u001b[0m in \u001b[0;36mpandas._libs.lib.map_infer\u001b[0;34m()\u001b[0m\n",
      "\u001b[0;32m/var/folders/92/_804j2_s6cb9ytq1q1j27h500000gn/T/ipykernel_28628/3271610741.py\u001b[0m in \u001b[0;36m<lambda>\u001b[0;34m(x)\u001b[0m\n\u001b[1;32m      1\u001b[0m \u001b[0;32mfor\u001b[0m \u001b[0mi\u001b[0m \u001b[0;32min\u001b[0m \u001b[0mcomments_dic\u001b[0m\u001b[0;34m.\u001b[0m\u001b[0mkeys\u001b[0m\u001b[0;34m(\u001b[0m\u001b[0;34m)\u001b[0m\u001b[0;34m:\u001b[0m\u001b[0;34m\u001b[0m\u001b[0;34m\u001b[0m\u001b[0m\n\u001b[0;32m----> 2\u001b[0;31m     \u001b[0mcomments_dic\u001b[0m\u001b[0;34m[\u001b[0m\u001b[0mi\u001b[0m\u001b[0;34m]\u001b[0m\u001b[0;34m[\u001b[0m\u001b[0;34m'sentiment'\u001b[0m\u001b[0;34m]\u001b[0m \u001b[0;34m=\u001b[0m \u001b[0mcomments_dic\u001b[0m\u001b[0;34m[\u001b[0m\u001b[0mi\u001b[0m\u001b[0;34m]\u001b[0m\u001b[0;34m[\u001b[0m\u001b[0;34m'comment'\u001b[0m\u001b[0;34m]\u001b[0m\u001b[0;34m.\u001b[0m\u001b[0mapply\u001b[0m\u001b[0;34m(\u001b[0m\u001b[0;32mlambda\u001b[0m \u001b[0mx\u001b[0m\u001b[0;34m:\u001b[0m \u001b[0msentiment_score\u001b[0m\u001b[0;34m(\u001b[0m\u001b[0mx\u001b[0m\u001b[0;34m[\u001b[0m\u001b[0;34m:\u001b[0m\u001b[0;36m512\u001b[0m\u001b[0;34m]\u001b[0m\u001b[0;34m)\u001b[0m\u001b[0;34m)\u001b[0m\u001b[0;34m\u001b[0m\u001b[0;34m\u001b[0m\u001b[0m\n\u001b[0m",
      "\u001b[0;31mTypeError\u001b[0m: 'float' object is not subscriptable"
     ]
    }
   ],
   "source": [
    "for i in comments_dic.keys():\n",
    "    comments_dic[i]['sentiment'] = comments_dic[i]['comment'].apply(lambda x: sentiment_score(x[:512]))"
   ]
  }
 ],
 "metadata": {
  "kernelspec": {
   "display_name": "Python 3 (ipykernel)",
   "language": "python",
   "name": "python3"
  },
  "language_info": {
   "codemirror_mode": {
    "name": "ipython",
    "version": 3
   },
   "file_extension": ".py",
   "mimetype": "text/x-python",
   "name": "python",
   "nbconvert_exporter": "python",
   "pygments_lexer": "ipython3",
   "version": "3.7.9"
  }
 },
 "nbformat": 4,
 "nbformat_minor": 5
}
