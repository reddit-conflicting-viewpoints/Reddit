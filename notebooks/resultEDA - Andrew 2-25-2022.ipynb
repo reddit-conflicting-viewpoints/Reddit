{
 "cells": [
  {
   "cell_type": "code",
   "execution_count": 1,
   "id": "cb4411b1",
   "metadata": {},
   "outputs": [
    {
     "name": "stderr",
     "output_type": "stream",
     "text": [
      "/home/ajz55/Reddit/env/lib/python3.7/site-packages/pandas/compat/__init__.py:124: UserWarning: Could not import the lzma module. Your installed Python is incomplete. Attempting to use lzma compression will result in a RuntimeError.\n",
      "  warnings.warn(msg)\n"
     ]
    }
   ],
   "source": [
    "# import lux\n",
    "import pandas as pd\n",
    "\n",
    "pd.set_option('display.max_columns', None)"
   ]
  },
  {
   "cell_type": "code",
   "execution_count": 2,
   "id": "d27622c9",
   "metadata": {},
   "outputs": [],
   "source": [
    "def clean_res_df(res_df):\n",
    "    \"\"\"\n",
    "    Function used to clean up the columns of the res_df\n",
    "    \"\"\"\n",
    "    res_df.rename(columns={\n",
    "        \"index_x\": \"post_index\", \n",
    "        \"title\": \"post_title\",\n",
    "        \"score_x\": \"post_score\",\n",
    "        \"upvote_ratio\": \"post_upvote_ratio\",\n",
    "        \" url\": \"post_url\",\n",
    "        \"body\": \"post_body\",\n",
    "        \"created\": \"post_created\",\n",
    "        'body_word_token': 'post_body_word_token',\n",
    "        'body_tag': 'post_body_tag',\n",
    "        'body_string_x': 'post_body_string',\n",
    "        'topics_x': 'post_topics',\n",
    "        'sentiment_x': 'post_sentiment',\n",
    "        'index_y': 'comment_index',\n",
    "        'up_vote_count': 'comment_up_vote_count',\n",
    "        'down_vote_count': 'comment_down_vote_count',\n",
    "        'controversiality': 'comment_controversiality',\n",
    "        'total_awards_received': 'comment_total_awards_received',\n",
    "        'score_y': 'comment_score',\n",
    "        'is_locked': 'comment_is_locked',\n",
    "        'is_collapsed': 'comment_is_collapsed',\n",
    "        'is_submitter': 'comment_is_submitter',\n",
    "        'created_utc': 'comment_created',\n",
    "        'body_string_y': 'comment_body_string',\n",
    "        'topics_y': 'comment_topics',\n",
    "        'sentiment_y': 'comment_sentiment',\n",
    "        'relevance': 'comment_relevance'\n",
    "    }, inplace=True)"
   ]
  },
  {
   "cell_type": "code",
   "execution_count": 3,
   "id": "6f8780db",
   "metadata": {},
   "outputs": [
    {
     "data": {
      "application/vnd.jupyter.widget-view+json": {
       "model_id": "199fdb5ddbd9400c823fc9176385da85",
       "version_major": 2,
       "version_minor": 0
      },
      "text/plain": [
       "Button(description='Toggle Pandas/Lux', layout=Layout(top='5px', width='140px'), style=ButtonStyle())"
      ]
     },
     "metadata": {},
     "output_type": "display_data"
    },
    {
     "data": {
      "application/vnd.jupyter.widget-view+json": {
       "model_id": "ef4394dbf55c40f398a91becbb4efd12",
       "version_major": 2,
       "version_minor": 0
      },
      "text/plain": [
       "Output()"
      ]
     },
     "metadata": {},
     "output_type": "display_data"
    }
   ],
   "source": [
    "df = pd.read_csv(\"../data/results/SubredditAnalysisResults/subanalysiscomputerscience_hot_results.csv\")\n",
    "clean_res_df(df)\n",
    "df"
   ]
  },
  {
   "cell_type": "code",
   "execution_count": 5,
   "id": "ccd45e9e",
   "metadata": {},
   "outputs": [],
   "source": [
    "df.dropna(inplace=True)"
   ]
  },
  {
   "cell_type": "code",
   "execution_count": 6,
   "id": "428ef18c",
   "metadata": {},
   "outputs": [
    {
     "data": {
      "text/plain": [
       "Index(['Unnamed: 0', 'post_index', 'post_id', 'post_title', 'post_score',\n",
       "       'post_upvote_ratio', 'subreddit', 'post_url', 'num_comments',\n",
       "       'post_body', 'post_created', 'post_body_word_token', 'post_body_tag',\n",
       "       'post_body_string', 'post_topics', 'post_sentiment', 'comment_index',\n",
       "       'comment_id', 'parent_id', 'comment', 'comment_up_vote_count',\n",
       "       'comment_down_vote_count', 'comment_controversiality',\n",
       "       'comment_total_awards_received', 'comment_score', 'comment_is_locked',\n",
       "       'comment_is_collapsed', 'comment_is_submitter', 'comment_created',\n",
       "       'comment_word_token', 'comment_tag', 'comment_body_string',\n",
       "       'comment_topics', 'comment_sentiment', 'comment_relevance'],\n",
       "      dtype='object')"
      ]
     },
     "execution_count": 6,
     "metadata": {},
     "output_type": "execute_result"
    }
   ],
   "source": [
    "df.columns"
   ]
  },
  {
   "cell_type": "code",
   "execution_count": 4,
   "id": "d4e17c45",
   "metadata": {},
   "outputs": [
    {
     "data": {
      "application/vnd.jupyter.widget-view+json": {
       "model_id": "819686c735c043aeb15f91272ca1abf6",
       "version_major": 2,
       "version_minor": 0
      },
      "text/plain": [
       "Button(description='Toggle Pandas/Lux', layout=Layout(top='5px', width='140px'), style=ButtonStyle())"
      ]
     },
     "metadata": {},
     "output_type": "display_data"
    },
    {
     "data": {
      "application/vnd.jupyter.widget-view+json": {
       "model_id": "79fea27139964d1ebd46805498753b35",
       "version_major": 2,
       "version_minor": 0
      },
      "text/plain": [
       "Output()"
      ]
     },
     "metadata": {},
     "output_type": "display_data"
    }
   ],
   "source": [
    "df.isna().sum()"
   ]
  },
  {
   "cell_type": "code",
   "execution_count": 8,
   "id": "2db53228",
   "metadata": {},
   "outputs": [
    {
     "data": {
      "application/vnd.jupyter.widget-view+json": {
       "model_id": "846c48f6fa2c480688282db3810ed1ff",
       "version_major": 2,
       "version_minor": 0
      },
      "text/plain": [
       "Button(description='Toggle Pandas/Lux', layout=Layout(top='5px', width='140px'), style=ButtonStyle())"
      ]
     },
     "metadata": {},
     "output_type": "display_data"
    },
    {
     "data": {
      "application/vnd.jupyter.widget-view+json": {
       "model_id": "89c4c2ef6f4c47a5a1f2b9470d26ecd2",
       "version_major": 2,
       "version_minor": 0
      },
      "text/plain": [
       "Output()"
      ]
     },
     "metadata": {},
     "output_type": "display_data"
    }
   ],
   "source": [
    "#df.intent = ['post_score', 'post_upvote_ratio', 'post_sentiment', 'comment_up_vote_count', 'comment_down_vote_count', 'comment_controversiality', 'comment_total_awards_received', 'comment_score', 'comment_sentiment', 'comment_relevance']\n",
    "df.intent = ['post_sentiment', 'comment_sentiment', 'comment_relevance']\n",
    "df"
   ]
  },
  {
   "cell_type": "code",
   "execution_count": null,
   "id": "00103770",
   "metadata": {},
   "outputs": [],
   "source": []
  }
 ],
 "metadata": {
  "kernelspec": {
   "display_name": "Python 3 (ipykernel)",
   "language": "python",
   "name": "python3"
  },
  "language_info": {
   "codemirror_mode": {
    "name": "ipython",
    "version": 3
   },
   "file_extension": ".py",
   "mimetype": "text/x-python",
   "name": "python",
   "nbconvert_exporter": "python",
   "pygments_lexer": "ipython3",
   "version": "3.7.12"
  }
 },
 "nbformat": 4,
 "nbformat_minor": 5
}
