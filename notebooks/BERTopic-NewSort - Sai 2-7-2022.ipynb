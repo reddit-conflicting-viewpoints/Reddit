{
 "cells": [
  {
   "cell_type": "code",
   "execution_count": 202,
   "id": "bf9fa750",
   "metadata": {},
   "outputs": [],
   "source": [
    "from notebooks.imports import *\n",
    "\n",
    "# import pandas as pd\n",
    "# import spacy\n",
    "# import numpy as np\n",
    "# from nltk.sentiment import SentimentIntensityAnalyzer\n",
    "# import os\n",
    "# os.chdir('../')\n",
    "# from src.features.preprocess import PreProcess\n",
    "from bertopic import BERTopic\n",
    "from umap import UMAP\n",
    "from hdbscan import HDBSCAN"
   ]
  },
  {
   "cell_type": "markdown",
   "id": "958cff8e",
   "metadata": {},
   "source": [
    "# 1. Preprocess"
   ]
  },
  {
   "cell_type": "code",
   "execution_count": 203,
   "id": "50c3ec65",
   "metadata": {},
   "outputs": [],
   "source": [
    "def preprocess(df, col):\n",
    "    preprocessor = PreProcess()\n",
    "    preprocessor.fill_na(df, col)\n",
    "    preprocessor.remove_urls(df, col)\n",
    "    preprocessor.expand_contractions(df, col)\n",
    "    preprocessor.remove_escape_chars(df, col)\n",
    "    return df"
   ]
  },
  {
   "cell_type": "code",
   "execution_count": 204,
   "id": "53dd2d77",
   "metadata": {},
   "outputs": [],
   "source": [
    "subreddit = \"computerscience\""
   ]
  },
  {
   "cell_type": "code",
   "execution_count": 205,
   "id": "a49b18b6",
   "metadata": {},
   "outputs": [],
   "source": [
    "world_posts = pd.read_csv('../data/raw/{}_new_posts.csv'.format(subreddit))\n",
    "world_comments = pd.read_csv('../data/raw/{}_new_comments.csv'.format(subreddit))"
   ]
  },
  {
   "cell_type": "code",
   "execution_count": 206,
   "id": "85ee5e69",
   "metadata": {},
   "outputs": [
    {
     "data": {
      "text/html": [
       "<div>\n",
       "<style scoped>\n",
       "    .dataframe tbody tr th:only-of-type {\n",
       "        vertical-align: middle;\n",
       "    }\n",
       "\n",
       "    .dataframe tbody tr th {\n",
       "        vertical-align: top;\n",
       "    }\n",
       "\n",
       "    .dataframe thead th {\n",
       "        text-align: right;\n",
       "    }\n",
       "</style>\n",
       "<table border=\"1\" class=\"dataframe\">\n",
       "  <thead>\n",
       "    <tr style=\"text-align: right;\">\n",
       "      <th></th>\n",
       "      <th>post_id</th>\n",
       "      <th>title</th>\n",
       "      <th>score</th>\n",
       "      <th>upvote_ratio</th>\n",
       "      <th>subreddit</th>\n",
       "      <th>url</th>\n",
       "      <th>num_comments</th>\n",
       "      <th>body</th>\n",
       "      <th>created</th>\n",
       "    </tr>\n",
       "  </thead>\n",
       "  <tbody>\n",
       "    <tr>\n",
       "      <th>0</th>\n",
       "      <td>sko30v</td>\n",
       "      <td>application with a database</td>\n",
       "      <td>0</td>\n",
       "      <td>0.50</td>\n",
       "      <td>computerscience</td>\n",
       "      <td>https://www.reddit.com/r/computerscience/comme...</td>\n",
       "      <td>0</td>\n",
       "      <td>Hello! I am trying to create a dictionary appl...</td>\n",
       "      <td>1.644008e+09</td>\n",
       "    </tr>\n",
       "    <tr>\n",
       "      <th>1</th>\n",
       "      <td>skm1fx</td>\n",
       "      <td>Starting classes for Computer science on Monda...</td>\n",
       "      <td>0</td>\n",
       "      <td>0.33</td>\n",
       "      <td>computerscience</td>\n",
       "      <td>https://www.reddit.com/r/computerscience/comme...</td>\n",
       "      <td>0</td>\n",
       "      <td>NaN</td>\n",
       "      <td>1.644003e+09</td>\n",
       "    </tr>\n",
       "    <tr>\n",
       "      <th>2</th>\n",
       "      <td>skltie</td>\n",
       "      <td>Confusion Between Different Types of Optimizat...</td>\n",
       "      <td>8</td>\n",
       "      <td>1.00</td>\n",
       "      <td>computerscience</td>\n",
       "      <td>https://www.reddit.com/r/computerscience/comme...</td>\n",
       "      <td>1</td>\n",
       "      <td>I do not have a background in optimization and...</td>\n",
       "      <td>1.644002e+09</td>\n",
       "    </tr>\n",
       "    <tr>\n",
       "      <th>3</th>\n",
       "      <td>sklhet</td>\n",
       "      <td>How to I get my code to a stand-alone computer...</td>\n",
       "      <td>0</td>\n",
       "      <td>0.25</td>\n",
       "      <td>computerscience</td>\n",
       "      <td>https://www.reddit.com/r/computerscience/comme...</td>\n",
       "      <td>9</td>\n",
       "      <td>How to I get my code to a stand-alone computer...</td>\n",
       "      <td>1.644002e+09</td>\n",
       "    </tr>\n",
       "    <tr>\n",
       "      <th>4</th>\n",
       "      <td>skkubm</td>\n",
       "      <td>How is the computer science education quality ...</td>\n",
       "      <td>0</td>\n",
       "      <td>0.33</td>\n",
       "      <td>computerscience</td>\n",
       "      <td>https://www.reddit.com/r/computerscience/comme...</td>\n",
       "      <td>7</td>\n",
       "      <td>Im 26. As a candidate international student, a...</td>\n",
       "      <td>1.644000e+09</td>\n",
       "    </tr>\n",
       "    <tr>\n",
       "      <th>...</th>\n",
       "      <td>...</td>\n",
       "      <td>...</td>\n",
       "      <td>...</td>\n",
       "      <td>...</td>\n",
       "      <td>...</td>\n",
       "      <td>...</td>\n",
       "      <td>...</td>\n",
       "      <td>...</td>\n",
       "      <td>...</td>\n",
       "    </tr>\n",
       "    <tr>\n",
       "      <th>834</th>\n",
       "      <td>otb7nh</td>\n",
       "      <td>Question about AWS blog post's use of \"Hard Re...</td>\n",
       "      <td>25</td>\n",
       "      <td>0.93</td>\n",
       "      <td>computerscience</td>\n",
       "      <td>https://www.reddit.com/r/computerscience/comme...</td>\n",
       "      <td>5</td>\n",
       "      <td>In [this AWS Builder's Library post](https://a...</td>\n",
       "      <td>1.627483e+09</td>\n",
       "    </tr>\n",
       "    <tr>\n",
       "      <th>835</th>\n",
       "      <td>ot25cm</td>\n",
       "      <td>How do smart devices get registered to a backend?</td>\n",
       "      <td>42</td>\n",
       "      <td>0.94</td>\n",
       "      <td>computerscience</td>\n",
       "      <td>https://www.reddit.com/r/computerscience/comme...</td>\n",
       "      <td>11</td>\n",
       "      <td>Hi all, I don't know if this is the right plac...</td>\n",
       "      <td>1.627444e+09</td>\n",
       "    </tr>\n",
       "    <tr>\n",
       "      <th>836</th>\n",
       "      <td>osxojq</td>\n",
       "      <td>how to efficiently learn machine language or c...</td>\n",
       "      <td>0</td>\n",
       "      <td>0.44</td>\n",
       "      <td>computerscience</td>\n",
       "      <td>https://www.reddit.com/r/computerscience/comme...</td>\n",
       "      <td>4</td>\n",
       "      <td>I am assuming there are many ways to learn the...</td>\n",
       "      <td>1.627428e+09</td>\n",
       "    </tr>\n",
       "    <tr>\n",
       "      <th>837</th>\n",
       "      <td>osn6iv</td>\n",
       "      <td>Which chapters should I skip for OSTEP (Operat...</td>\n",
       "      <td>0</td>\n",
       "      <td>0.31</td>\n",
       "      <td>computerscience</td>\n",
       "      <td>https://www.reddit.com/r/computerscience/comme...</td>\n",
       "      <td>6</td>\n",
       "      <td>I will soon start my graduate software enginee...</td>\n",
       "      <td>1.627394e+09</td>\n",
       "    </tr>\n",
       "    <tr>\n",
       "      <th>838</th>\n",
       "      <td>oscvji</td>\n",
       "      <td>Any projects that I could do with physical vis...</td>\n",
       "      <td>0</td>\n",
       "      <td>0.50</td>\n",
       "      <td>computerscience</td>\n",
       "      <td>https://www.reddit.com/r/computerscience/comme...</td>\n",
       "      <td>2</td>\n",
       "      <td>Hey, I'm a programmer. Been programming in Pyt...</td>\n",
       "      <td>1.627349e+09</td>\n",
       "    </tr>\n",
       "  </tbody>\n",
       "</table>\n",
       "<p>839 rows × 9 columns</p>\n",
       "</div>"
      ],
      "text/plain": [
       "    post_id                                              title  score  \\\n",
       "0    sko30v                        application with a database      0   \n",
       "1    skm1fx  Starting classes for Computer science on Monda...      0   \n",
       "2    skltie  Confusion Between Different Types of Optimizat...      8   \n",
       "3    sklhet  How to I get my code to a stand-alone computer...      0   \n",
       "4    skkubm  How is the computer science education quality ...      0   \n",
       "..      ...                                                ...    ...   \n",
       "834  otb7nh  Question about AWS blog post's use of \"Hard Re...     25   \n",
       "835  ot25cm  How do smart devices get registered to a backend?     42   \n",
       "836  osxojq  how to efficiently learn machine language or c...      0   \n",
       "837  osn6iv  Which chapters should I skip for OSTEP (Operat...      0   \n",
       "838  oscvji  Any projects that I could do with physical vis...      0   \n",
       "\n",
       "     upvote_ratio        subreddit  \\\n",
       "0            0.50  computerscience   \n",
       "1            0.33  computerscience   \n",
       "2            1.00  computerscience   \n",
       "3            0.25  computerscience   \n",
       "4            0.33  computerscience   \n",
       "..            ...              ...   \n",
       "834          0.93  computerscience   \n",
       "835          0.94  computerscience   \n",
       "836          0.44  computerscience   \n",
       "837          0.31  computerscience   \n",
       "838          0.50  computerscience   \n",
       "\n",
       "                                                   url  num_comments  \\\n",
       "0    https://www.reddit.com/r/computerscience/comme...             0   \n",
       "1    https://www.reddit.com/r/computerscience/comme...             0   \n",
       "2    https://www.reddit.com/r/computerscience/comme...             1   \n",
       "3    https://www.reddit.com/r/computerscience/comme...             9   \n",
       "4    https://www.reddit.com/r/computerscience/comme...             7   \n",
       "..                                                 ...           ...   \n",
       "834  https://www.reddit.com/r/computerscience/comme...             5   \n",
       "835  https://www.reddit.com/r/computerscience/comme...            11   \n",
       "836  https://www.reddit.com/r/computerscience/comme...             4   \n",
       "837  https://www.reddit.com/r/computerscience/comme...             6   \n",
       "838  https://www.reddit.com/r/computerscience/comme...             2   \n",
       "\n",
       "                                                  body       created  \n",
       "0    Hello! I am trying to create a dictionary appl...  1.644008e+09  \n",
       "1                                                  NaN  1.644003e+09  \n",
       "2    I do not have a background in optimization and...  1.644002e+09  \n",
       "3    How to I get my code to a stand-alone computer...  1.644002e+09  \n",
       "4    Im 26. As a candidate international student, a...  1.644000e+09  \n",
       "..                                                 ...           ...  \n",
       "834  In [this AWS Builder's Library post](https://a...  1.627483e+09  \n",
       "835  Hi all, I don't know if this is the right plac...  1.627444e+09  \n",
       "836  I am assuming there are many ways to learn the...  1.627428e+09  \n",
       "837  I will soon start my graduate software enginee...  1.627394e+09  \n",
       "838  Hey, I'm a programmer. Been programming in Pyt...  1.627349e+09  \n",
       "\n",
       "[839 rows x 9 columns]"
      ]
     },
     "execution_count": 206,
     "metadata": {},
     "output_type": "execute_result"
    }
   ],
   "source": [
    "world_posts"
   ]
  },
  {
   "cell_type": "code",
   "execution_count": 207,
   "id": "c2ae1bba",
   "metadata": {},
   "outputs": [
    {
     "data": {
      "text/html": [
       "<div>\n",
       "<style scoped>\n",
       "    .dataframe tbody tr th:only-of-type {\n",
       "        vertical-align: middle;\n",
       "    }\n",
       "\n",
       "    .dataframe tbody tr th {\n",
       "        vertical-align: top;\n",
       "    }\n",
       "\n",
       "    .dataframe thead th {\n",
       "        text-align: right;\n",
       "    }\n",
       "</style>\n",
       "<table border=\"1\" class=\"dataframe\">\n",
       "  <thead>\n",
       "    <tr style=\"text-align: right;\">\n",
       "      <th></th>\n",
       "      <th>post_id</th>\n",
       "      <th>comment</th>\n",
       "      <th>comment_id</th>\n",
       "      <th>parent_id</th>\n",
       "      <th>created</th>\n",
       "      <th>is_submitter</th>\n",
       "    </tr>\n",
       "  </thead>\n",
       "  <tbody>\n",
       "    <tr>\n",
       "      <th>0</th>\n",
       "      <td>skltie</td>\n",
       "      <td>1) yes they are basically the same things. The...</td>\n",
       "      <td>hvlyn6o</td>\n",
       "      <td>t3_skltie</td>\n",
       "      <td>1.644007e+09</td>\n",
       "      <td>False</td>\n",
       "    </tr>\n",
       "    <tr>\n",
       "      <th>1</th>\n",
       "      <td>sklhet</td>\n",
       "      <td>What language is your code in?</td>\n",
       "      <td>hvm3b74</td>\n",
       "      <td>t3_sklhet</td>\n",
       "      <td>1.644009e+09</td>\n",
       "      <td>False</td>\n",
       "    </tr>\n",
       "    <tr>\n",
       "      <th>2</th>\n",
       "      <td>sklhet</td>\n",
       "      <td>It can be in any of the common languages.</td>\n",
       "      <td>hvm5e7x</td>\n",
       "      <td>t1_hvm3b74</td>\n",
       "      <td>1.644010e+09</td>\n",
       "      <td>True</td>\n",
       "    </tr>\n",
       "    <tr>\n",
       "      <th>3</th>\n",
       "      <td>sklhet</td>\n",
       "      <td>What kind of chip? Is this an embedded device ...</td>\n",
       "      <td>hvm3sh3</td>\n",
       "      <td>t3_sklhet</td>\n",
       "      <td>1.644009e+09</td>\n",
       "      <td>False</td>\n",
       "    </tr>\n",
       "    <tr>\n",
       "      <th>4</th>\n",
       "      <td>sklhet</td>\n",
       "      <td>I have no idea. The usb inputs are coming from...</td>\n",
       "      <td>hvm5sqa</td>\n",
       "      <td>t1_hvm3sh3</td>\n",
       "      <td>1.644010e+09</td>\n",
       "      <td>True</td>\n",
       "    </tr>\n",
       "    <tr>\n",
       "      <th>...</th>\n",
       "      <td>...</td>\n",
       "      <td>...</td>\n",
       "      <td>...</td>\n",
       "      <td>...</td>\n",
       "      <td>...</td>\n",
       "      <td>...</td>\n",
       "    </tr>\n",
       "    <tr>\n",
       "      <th>9970</th>\n",
       "      <td>osn6iv</td>\n",
       "      <td>Since you are just looking to do a fly by, i w...</td>\n",
       "      <td>h6r39bl</td>\n",
       "      <td>t3_osn6iv</td>\n",
       "      <td>1.627420e+09</td>\n",
       "      <td>False</td>\n",
       "    </tr>\n",
       "    <tr>\n",
       "      <th>9971</th>\n",
       "      <td>osn6iv</td>\n",
       "      <td>Only “textbook” in college I read cover-to-cov...</td>\n",
       "      <td>h6r3q0o</td>\n",
       "      <td>t3_osn6iv</td>\n",
       "      <td>1.627420e+09</td>\n",
       "      <td>False</td>\n",
       "    </tr>\n",
       "    <tr>\n",
       "      <th>9972</th>\n",
       "      <td>osn6iv</td>\n",
       "      <td>Thanks!</td>\n",
       "      <td>h6rby6c</td>\n",
       "      <td>t1_h6r3q0o</td>\n",
       "      <td>1.627424e+09</td>\n",
       "      <td>False</td>\n",
       "    </tr>\n",
       "    <tr>\n",
       "      <th>9973</th>\n",
       "      <td>oscvji</td>\n",
       "      <td>Buy an Arduino starter kit and start messing a...</td>\n",
       "      <td>h6q6dsz</td>\n",
       "      <td>t3_oscvji</td>\n",
       "      <td>1.627405e+09</td>\n",
       "      <td>False</td>\n",
       "    </tr>\n",
       "    <tr>\n",
       "      <th>9974</th>\n",
       "      <td>oscvji</td>\n",
       "      <td>You need to change your mindset. Everyone was ...</td>\n",
       "      <td>h7121fj</td>\n",
       "      <td>t3_oscvji</td>\n",
       "      <td>1.627608e+09</td>\n",
       "      <td>False</td>\n",
       "    </tr>\n",
       "  </tbody>\n",
       "</table>\n",
       "<p>9975 rows × 6 columns</p>\n",
       "</div>"
      ],
      "text/plain": [
       "     post_id                                            comment comment_id  \\\n",
       "0     skltie  1) yes they are basically the same things. The...    hvlyn6o   \n",
       "1     sklhet                     What language is your code in?    hvm3b74   \n",
       "2     sklhet          It can be in any of the common languages.    hvm5e7x   \n",
       "3     sklhet  What kind of chip? Is this an embedded device ...    hvm3sh3   \n",
       "4     sklhet  I have no idea. The usb inputs are coming from...    hvm5sqa   \n",
       "...      ...                                                ...        ...   \n",
       "9970  osn6iv  Since you are just looking to do a fly by, i w...    h6r39bl   \n",
       "9971  osn6iv  Only “textbook” in college I read cover-to-cov...    h6r3q0o   \n",
       "9972  osn6iv                                            Thanks!    h6rby6c   \n",
       "9973  oscvji  Buy an Arduino starter kit and start messing a...    h6q6dsz   \n",
       "9974  oscvji  You need to change your mindset. Everyone was ...    h7121fj   \n",
       "\n",
       "       parent_id       created  is_submitter  \n",
       "0      t3_skltie  1.644007e+09         False  \n",
       "1      t3_sklhet  1.644009e+09         False  \n",
       "2     t1_hvm3b74  1.644010e+09          True  \n",
       "3      t3_sklhet  1.644009e+09         False  \n",
       "4     t1_hvm3sh3  1.644010e+09          True  \n",
       "...          ...           ...           ...  \n",
       "9970   t3_osn6iv  1.627420e+09         False  \n",
       "9971   t3_osn6iv  1.627420e+09         False  \n",
       "9972  t1_h6r3q0o  1.627424e+09         False  \n",
       "9973   t3_oscvji  1.627405e+09         False  \n",
       "9974   t3_oscvji  1.627608e+09         False  \n",
       "\n",
       "[9975 rows x 6 columns]"
      ]
     },
     "execution_count": 207,
     "metadata": {},
     "output_type": "execute_result"
    }
   ],
   "source": [
    "world_comments"
   ]
  },
  {
   "cell_type": "code",
   "execution_count": 208,
   "id": "9d9a6c2c",
   "metadata": {},
   "outputs": [],
   "source": [
    "def body_length(s):\n",
    "    return len(s.split(\" \"))"
   ]
  },
  {
   "cell_type": "code",
   "execution_count": 209,
   "id": "8f44dae1",
   "metadata": {},
   "outputs": [
    {
     "data": {
      "text/html": [
       "<div>\n",
       "<style scoped>\n",
       "    .dataframe tbody tr th:only-of-type {\n",
       "        vertical-align: middle;\n",
       "    }\n",
       "\n",
       "    .dataframe tbody tr th {\n",
       "        vertical-align: top;\n",
       "    }\n",
       "\n",
       "    .dataframe thead th {\n",
       "        text-align: right;\n",
       "    }\n",
       "</style>\n",
       "<table border=\"1\" class=\"dataframe\">\n",
       "  <thead>\n",
       "    <tr style=\"text-align: right;\">\n",
       "      <th></th>\n",
       "      <th>post_id</th>\n",
       "      <th>score</th>\n",
       "      <th>upvote_ratio</th>\n",
       "      <th>num_comments</th>\n",
       "      <th>body</th>\n",
       "      <th>body_length</th>\n",
       "    </tr>\n",
       "  </thead>\n",
       "  <tbody>\n",
       "    <tr>\n",
       "      <th>0</th>\n",
       "      <td>sko30v</td>\n",
       "      <td>0</td>\n",
       "      <td>0.50</td>\n",
       "      <td>0</td>\n",
       "      <td>Hello! I am trying to create a dictionary appl...</td>\n",
       "      <td>56</td>\n",
       "    </tr>\n",
       "    <tr>\n",
       "      <th>2</th>\n",
       "      <td>skltie</td>\n",
       "      <td>8</td>\n",
       "      <td>1.00</td>\n",
       "      <td>1</td>\n",
       "      <td>I do not have a background in optimization and...</td>\n",
       "      <td>548</td>\n",
       "    </tr>\n",
       "    <tr>\n",
       "      <th>3</th>\n",
       "      <td>sklhet</td>\n",
       "      <td>0</td>\n",
       "      <td>0.25</td>\n",
       "      <td>9</td>\n",
       "      <td>How to I get my code to a stand-alone computer...</td>\n",
       "      <td>24</td>\n",
       "    </tr>\n",
       "    <tr>\n",
       "      <th>4</th>\n",
       "      <td>skkubm</td>\n",
       "      <td>0</td>\n",
       "      <td>0.33</td>\n",
       "      <td>7</td>\n",
       "      <td>I Am 26. As a candidate international student,...</td>\n",
       "      <td>34</td>\n",
       "    </tr>\n",
       "    <tr>\n",
       "      <th>5</th>\n",
       "      <td>skkkmf</td>\n",
       "      <td>1</td>\n",
       "      <td>1.00</td>\n",
       "      <td>4</td>\n",
       "      <td>If we ran 10,000,000 cycles would we see a mil...</td>\n",
       "      <td>19</td>\n",
       "    </tr>\n",
       "  </tbody>\n",
       "</table>\n",
       "</div>"
      ],
      "text/plain": [
       "  post_id  score  upvote_ratio  num_comments  \\\n",
       "0  sko30v      0          0.50             0   \n",
       "2  skltie      8          1.00             1   \n",
       "3  sklhet      0          0.25             9   \n",
       "4  skkubm      0          0.33             7   \n",
       "5  skkkmf      1          1.00             4   \n",
       "\n",
       "                                                body  body_length  \n",
       "0  Hello! I am trying to create a dictionary appl...           56  \n",
       "2  I do not have a background in optimization and...          548  \n",
       "3  How to I get my code to a stand-alone computer...           24  \n",
       "4  I Am 26. As a candidate international student,...           34  \n",
       "5  If we ran 10,000,000 cycles would we see a mil...           19  "
      ]
     },
     "execution_count": 209,
     "metadata": {},
     "output_type": "execute_result"
    }
   ],
   "source": [
    "posts_df = world_posts.drop(columns=[\"subreddit\", \"url\",\"title\", \"created\"])\n",
    "posts_df = posts_df.dropna()\n",
    "posts_df[\"body_length\"] = posts_df[\"body\"].apply(body_length)\n",
    "preprocess(posts_df, \"body\")\n",
    "posts_df.head()"
   ]
  },
  {
   "cell_type": "code",
   "execution_count": 210,
   "id": "1052e611",
   "metadata": {},
   "outputs": [
    {
     "data": {
      "text/plain": [
       "<AxesSubplot:>"
      ]
     },
     "execution_count": 210,
     "metadata": {},
     "output_type": "execute_result"
    },
    {
     "data": {
      "image/png": "[encoded data removed]",
      "text/plain": [
       "<Figure size 432x288 with 1 Axes>"
      ]
     },
     "metadata": {
      "needs_background": "light"
     },
     "output_type": "display_data"
    }
   ],
   "source": [
    "posts_df.body_length.hist()"
   ]
  },
  {
   "cell_type": "markdown",
   "id": "849f4589",
   "metadata": {},
   "source": [
    "**NOTE: Shows that most posts have less than 200 words which is very less when considered as a document.**"
   ]
  },
  {
   "cell_type": "code",
   "execution_count": 211,
   "id": "4453ae5c",
   "metadata": {},
   "outputs": [
    {
     "data": {
      "text/html": [
       "<div>\n",
       "<style scoped>\n",
       "    .dataframe tbody tr th:only-of-type {\n",
       "        vertical-align: middle;\n",
       "    }\n",
       "\n",
       "    .dataframe tbody tr th {\n",
       "        vertical-align: top;\n",
       "    }\n",
       "\n",
       "    .dataframe thead th {\n",
       "        text-align: right;\n",
       "    }\n",
       "</style>\n",
       "<table border=\"1\" class=\"dataframe\">\n",
       "  <thead>\n",
       "    <tr style=\"text-align: right;\">\n",
       "      <th></th>\n",
       "      <th>post_id</th>\n",
       "      <th>comment</th>\n",
       "      <th>comment_id</th>\n",
       "      <th>parent_id</th>\n",
       "      <th>created</th>\n",
       "      <th>is_submitter</th>\n",
       "      <th>body_length</th>\n",
       "    </tr>\n",
       "  </thead>\n",
       "  <tbody>\n",
       "    <tr>\n",
       "      <th>0</th>\n",
       "      <td>skltie</td>\n",
       "      <td>1) yes they are basically the same things. The...</td>\n",
       "      <td>hvlyn6o</td>\n",
       "      <td>t3_skltie</td>\n",
       "      <td>1.644007e+09</td>\n",
       "      <td>False</td>\n",
       "      <td>149</td>\n",
       "    </tr>\n",
       "    <tr>\n",
       "      <th>1</th>\n",
       "      <td>sklhet</td>\n",
       "      <td>What language is your code in?</td>\n",
       "      <td>hvm3b74</td>\n",
       "      <td>t3_sklhet</td>\n",
       "      <td>1.644009e+09</td>\n",
       "      <td>False</td>\n",
       "      <td>6</td>\n",
       "    </tr>\n",
       "    <tr>\n",
       "      <th>2</th>\n",
       "      <td>sklhet</td>\n",
       "      <td>It can be in any of the common languages.</td>\n",
       "      <td>hvm5e7x</td>\n",
       "      <td>t1_hvm3b74</td>\n",
       "      <td>1.644010e+09</td>\n",
       "      <td>True</td>\n",
       "      <td>9</td>\n",
       "    </tr>\n",
       "    <tr>\n",
       "      <th>3</th>\n",
       "      <td>sklhet</td>\n",
       "      <td>What kind of chip? Is this an embedded device ...</td>\n",
       "      <td>hvm3sh3</td>\n",
       "      <td>t3_sklhet</td>\n",
       "      <td>1.644009e+09</td>\n",
       "      <td>False</td>\n",
       "      <td>12</td>\n",
       "    </tr>\n",
       "    <tr>\n",
       "      <th>4</th>\n",
       "      <td>sklhet</td>\n",
       "      <td>I have no idea. The usb inputs are coming from...</td>\n",
       "      <td>hvm5sqa</td>\n",
       "      <td>t1_hvm3sh3</td>\n",
       "      <td>1.644010e+09</td>\n",
       "      <td>True</td>\n",
       "      <td>25</td>\n",
       "    </tr>\n",
       "  </tbody>\n",
       "</table>\n",
       "</div>"
      ],
      "text/plain": [
       "  post_id                                            comment comment_id  \\\n",
       "0  skltie  1) yes they are basically the same things. The...    hvlyn6o   \n",
       "1  sklhet                     What language is your code in?    hvm3b74   \n",
       "2  sklhet          It can be in any of the common languages.    hvm5e7x   \n",
       "3  sklhet  What kind of chip? Is this an embedded device ...    hvm3sh3   \n",
       "4  sklhet  I have no idea. The usb inputs are coming from...    hvm5sqa   \n",
       "\n",
       "    parent_id       created  is_submitter  body_length  \n",
       "0   t3_skltie  1.644007e+09         False          149  \n",
       "1   t3_sklhet  1.644009e+09         False            6  \n",
       "2  t1_hvm3b74  1.644010e+09          True            9  \n",
       "3   t3_sklhet  1.644009e+09         False           12  \n",
       "4  t1_hvm3sh3  1.644010e+09          True           25  "
      ]
     },
     "execution_count": 211,
     "metadata": {},
     "output_type": "execute_result"
    }
   ],
   "source": [
    "comments_df = world_comments.copy()\n",
    "comments_df[\"body_length\"] = comments_df[\"comment\"].apply(body_length)\n",
    "preprocess(comments_df, \"comment\")\n",
    "comments_df.head()"
   ]
  },
  {
   "cell_type": "code",
   "execution_count": 212,
   "id": "1b5bcbaf",
   "metadata": {},
   "outputs": [
    {
     "data": {
      "text/plain": [
       "<AxesSubplot:>"
      ]
     },
     "execution_count": 212,
     "metadata": {},
     "output_type": "execute_result"
    },
    {
     "data": {
      "image/png": "[encoded data removed]",
      "text/plain": [
       "<Figure size 432x288 with 1 Axes>"
      ]
     },
     "metadata": {
      "needs_background": "light"
     },
     "output_type": "display_data"
    }
   ],
   "source": [
    "comments_df.body_length.hist()"
   ]
  },
  {
   "cell_type": "markdown",
   "id": "be686cc7",
   "metadata": {},
   "source": [
    "# 2. Topic Modeling - POSTS"
   ]
  },
  {
   "cell_type": "code",
   "execution_count": 213,
   "id": "9b5f95fd",
   "metadata": {},
   "outputs": [
    {
     "data": {
      "text/html": [
       "<div>\n",
       "<style scoped>\n",
       "    .dataframe tbody tr th:only-of-type {\n",
       "        vertical-align: middle;\n",
       "    }\n",
       "\n",
       "    .dataframe tbody tr th {\n",
       "        vertical-align: top;\n",
       "    }\n",
       "\n",
       "    .dataframe thead th {\n",
       "        text-align: right;\n",
       "    }\n",
       "</style>\n",
       "<table border=\"1\" class=\"dataframe\">\n",
       "  <thead>\n",
       "    <tr style=\"text-align: right;\">\n",
       "      <th></th>\n",
       "      <th>index</th>\n",
       "      <th>post_id</th>\n",
       "      <th>score</th>\n",
       "      <th>upvote_ratio</th>\n",
       "      <th>num_comments</th>\n",
       "      <th>body</th>\n",
       "      <th>body_length</th>\n",
       "    </tr>\n",
       "  </thead>\n",
       "  <tbody>\n",
       "    <tr>\n",
       "      <th>0</th>\n",
       "      <td>0</td>\n",
       "      <td>sko30v</td>\n",
       "      <td>0</td>\n",
       "      <td>0.50</td>\n",
       "      <td>0</td>\n",
       "      <td>Hello! I am trying to create a dictionary appl...</td>\n",
       "      <td>56</td>\n",
       "    </tr>\n",
       "    <tr>\n",
       "      <th>1</th>\n",
       "      <td>2</td>\n",
       "      <td>skltie</td>\n",
       "      <td>8</td>\n",
       "      <td>1.00</td>\n",
       "      <td>1</td>\n",
       "      <td>I do not have a background in optimization and...</td>\n",
       "      <td>548</td>\n",
       "    </tr>\n",
       "    <tr>\n",
       "      <th>2</th>\n",
       "      <td>3</td>\n",
       "      <td>sklhet</td>\n",
       "      <td>0</td>\n",
       "      <td>0.25</td>\n",
       "      <td>9</td>\n",
       "      <td>How to I get my code to a stand-alone computer...</td>\n",
       "      <td>24</td>\n",
       "    </tr>\n",
       "    <tr>\n",
       "      <th>3</th>\n",
       "      <td>4</td>\n",
       "      <td>skkubm</td>\n",
       "      <td>0</td>\n",
       "      <td>0.33</td>\n",
       "      <td>7</td>\n",
       "      <td>I Am 26. As a candidate international student,...</td>\n",
       "      <td>34</td>\n",
       "    </tr>\n",
       "    <tr>\n",
       "      <th>4</th>\n",
       "      <td>5</td>\n",
       "      <td>skkkmf</td>\n",
       "      <td>1</td>\n",
       "      <td>1.00</td>\n",
       "      <td>4</td>\n",
       "      <td>If we ran 10,000,000 cycles would we see a mil...</td>\n",
       "      <td>19</td>\n",
       "    </tr>\n",
       "    <tr>\n",
       "      <th>...</th>\n",
       "      <td>...</td>\n",
       "      <td>...</td>\n",
       "      <td>...</td>\n",
       "      <td>...</td>\n",
       "      <td>...</td>\n",
       "      <td>...</td>\n",
       "      <td>...</td>\n",
       "    </tr>\n",
       "    <tr>\n",
       "      <th>673</th>\n",
       "      <td>834</td>\n",
       "      <td>otb7nh</td>\n",
       "      <td>25</td>\n",
       "      <td>0.93</td>\n",
       "      <td>5</td>\n",
       "      <td>In [this AWS Builder's Library post](-library/...</td>\n",
       "      <td>269</td>\n",
       "    </tr>\n",
       "    <tr>\n",
       "      <th>674</th>\n",
       "      <td>835</td>\n",
       "      <td>ot25cm</td>\n",
       "      <td>42</td>\n",
       "      <td>0.94</td>\n",
       "      <td>11</td>\n",
       "      <td>Hi all, I do not know if this is the right pla...</td>\n",
       "      <td>151</td>\n",
       "    </tr>\n",
       "    <tr>\n",
       "      <th>675</th>\n",
       "      <td>836</td>\n",
       "      <td>osxojq</td>\n",
       "      <td>0</td>\n",
       "      <td>0.44</td>\n",
       "      <td>4</td>\n",
       "      <td>I am assuming there are many ways to learn the...</td>\n",
       "      <td>106</td>\n",
       "    </tr>\n",
       "    <tr>\n",
       "      <th>676</th>\n",
       "      <td>837</td>\n",
       "      <td>osn6iv</td>\n",
       "      <td>0</td>\n",
       "      <td>0.31</td>\n",
       "      <td>6</td>\n",
       "      <td>I will soon start my graduate software enginee...</td>\n",
       "      <td>72</td>\n",
       "    </tr>\n",
       "    <tr>\n",
       "      <th>677</th>\n",
       "      <td>838</td>\n",
       "      <td>oscvji</td>\n",
       "      <td>0</td>\n",
       "      <td>0.50</td>\n",
       "      <td>2</td>\n",
       "      <td>Hey, I am a programmer. Been programming in Py...</td>\n",
       "      <td>148</td>\n",
       "    </tr>\n",
       "  </tbody>\n",
       "</table>\n",
       "<p>678 rows × 7 columns</p>\n",
       "</div>"
      ],
      "text/plain": [
       "     index post_id  score  upvote_ratio  num_comments  \\\n",
       "0        0  sko30v      0          0.50             0   \n",
       "1        2  skltie      8          1.00             1   \n",
       "2        3  sklhet      0          0.25             9   \n",
       "3        4  skkubm      0          0.33             7   \n",
       "4        5  skkkmf      1          1.00             4   \n",
       "..     ...     ...    ...           ...           ...   \n",
       "673    834  otb7nh     25          0.93             5   \n",
       "674    835  ot25cm     42          0.94            11   \n",
       "675    836  osxojq      0          0.44             4   \n",
       "676    837  osn6iv      0          0.31             6   \n",
       "677    838  oscvji      0          0.50             2   \n",
       "\n",
       "                                                  body  body_length  \n",
       "0    Hello! I am trying to create a dictionary appl...           56  \n",
       "1    I do not have a background in optimization and...          548  \n",
       "2    How to I get my code to a stand-alone computer...           24  \n",
       "3    I Am 26. As a candidate international student,...           34  \n",
       "4    If we ran 10,000,000 cycles would we see a mil...           19  \n",
       "..                                                 ...          ...  \n",
       "673  In [this AWS Builder's Library post](-library/...          269  \n",
       "674  Hi all, I do not know if this is the right pla...          151  \n",
       "675  I am assuming there are many ways to learn the...          106  \n",
       "676  I will soon start my graduate software enginee...           72  \n",
       "677  Hey, I am a programmer. Been programming in Py...          148  \n",
       "\n",
       "[678 rows x 7 columns]"
      ]
     },
     "execution_count": 213,
     "metadata": {},
     "output_type": "execute_result"
    }
   ],
   "source": [
    "posts_df['body'] = posts_df['body'].astype(str)\n",
    "body_df = posts_df[posts_df['body'] != 'nan']\n",
    "body_df = body_df.reset_index()\n",
    "body_df"
   ]
  },
  {
   "cell_type": "code",
   "execution_count": 214,
   "id": "023edb73",
   "metadata": {},
   "outputs": [],
   "source": [
    "# body_umap_params = {\n",
    "#     'n_neighbors':5,\n",
    "#     'n_components': 5,\n",
    "#     'min_dist': 0.0,\n",
    "#     'metric': 'cosine',\n",
    "#     'low_memory': False\n",
    "# }\n",
    "# body_hdb_params = {\n",
    "#     'min_cluster_size': 5,\n",
    "#     'min_samples': 4,\n",
    "#     'metric': 'euclidean',\n",
    "#     'cluster_selection_method': 'eom',\n",
    "#     'prediction_data': True\n",
    "# }\n",
    "# body_model_params = {\n",
    "#     'min_topic_size': 3,\n",
    "#     'top_n_words': 5,\n",
    "#     'n_gram_range': (1,2), \n",
    "#     'calculate_probabilities': True,\n",
    "#     'verbose': True\n",
    "# }"
   ]
  },
  {
   "cell_type": "code",
   "execution_count": 215,
   "id": "52efdd81",
   "metadata": {},
   "outputs": [],
   "source": [
    "# def train_bert(df, column, umap_params={}, hdb_params={}, model_params={}):\n",
    "#     umap_model = UMAP(**umap_params)\n",
    "#     hdbscan_model = HDBSCAN(**hdb_params)\n",
    "#     topic_model = BERTopic(**model_params, umap_model=umap_model, hdbscan_model=hdbscan_model)\n",
    "#     topic_model = BERTopic(**model_params)\n",
    "#     topics, probs = topic_model.fit_transform(df[column])\n",
    "#     freq = topic_model.get_topic_info()\n",
    "#     docs = topic_model.get_representative_docs()\n",
    "#     topic_names = []\n",
    "#     for i in topics:\n",
    "#         topic_names.append(list(freq[freq['Topic'] == i][\"Name\"])[0])\n",
    "#     df['topic_label'] = topics\n",
    "#     df['topic_name'] = topic_names\n",
    "#     return topic_model, freq, df"
   ]
  },
  {
   "cell_type": "code",
   "execution_count": 216,
   "id": "23fa9e61",
   "metadata": {},
   "outputs": [],
   "source": [
    "docs = list(body_df.body)"
   ]
  },
  {
   "cell_type": "code",
   "execution_count": 217,
   "id": "35e550c1",
   "metadata": {},
   "outputs": [
    {
     "data": {
      "text/plain": [
       "['Hello! I am trying to create a dictionary application where you can enter a word and get a translation.(only 2 languages)So my question is if I use a database like SQLite, when the user downloads my application they do not have to download any additional things because the SQLite database would be packaged with the application, right?',\n",
       " 'I do not have a background in optimization and I am trying to teach myself more about this topic. I find myself having a lot of trouble understanding the different \"types\" of optimization problems that exist.For example, I understand the idea of optimizing continuous functions (e.g. y = x\\\\^2) - for example, we could be interested in finding out the value of \"x\" that results in the smallest value of \"y\". I also understand that continuous functions can be optimized subject to some constraints.However, I find myself very confused when trying to sort through the following types of optimization problems:* **Discrete Optimization*** **Integer Optimization*** **Mixed Integer Optimization*** **Combinatorial Optimization**When I think of these problems, the first thing that comes to mind is that they are fundamentally different from optimizing continuous functions. For instance, the inputs of the above list of problems are usually \"categorial\" in nature - this is why I have heard that problems belong to the above list usually require \"gradient free optimization methods\" (e.g. evolutionary algorithms, branch and bound, etc.) , since it is impossible to take the derivatives of the objective functions corresponding to these problems.For example, if you take problems such as **\"Travelling Salesman\" or \"Knapsack Optimization\"** (note: I have heard that these problems belong on the above list, but I am not sure), I would visualize the objective function as something like this:&#x200B;&#x200B; This leads me to the following question:* Are 4 types of optimizations on the above list effectively the \"same thing\"? The way I see it, all 4 types of these problems have \"discrete inputs\" and in a mathematical sense, \"integers\" are always considered as \"discrete\". In all 4 types of problems, we are interested in finding out a \"discrete combination\" of inputs - i.e. \"combinatorial\". Thus, **are 4 types of optimizations on the above list effectively the \"same thing\"?*** I have heard the argument that \"any optimization problem that can be formulated into a linear problem is always convex (because linear objective functions are always convex)\". If we consider continuous optimization problems - we usually say that \"convex optimization problems are easier than non-convex optimization problems\" because non-convex functions can have \"saddle points\" that can result in the optimization algorithm getting stuck in these \"saddle points\". Using this logic, I have seen the objective function of the \"Travelling Salesman Problem\" being written as a linear function and thus the \"Travelling Salesman Problem\" being considered as a convex optimization problem - I have also heard of the \"Travelling Salesman Problem\" is a very difficult problem to solve. **If the \"Travelling Salesman Problem\" is convex and difficult to solve - does this imply that there are non-convex discrete/combinatorial problems that are even more difficult to solve?*** I have heard the following argument: Discrete/Combinatorial Optimization Problems are more difficult to solve compared to Continuous Optimization Problems. This is apparently because discrete/combinatorial optimization problems involve \"treating the problem as a continuous problem\" to first come up with a solution, and then determine if the solution lies within the feasible region - thus effectively solving two optimization problems in one. **Is this correct?*** Finally, I have seen both \"Travelling Salesman\" and \"Knapsack Optimization\" being formulated as a linear problem and therefore as convex. **Are there any well known examples of non-convex discrete/combinatorial optimization problems?**Thanks!',\n",
       " 'How to I get my code to a stand-alone computer chip? The chip needs two usb inputs and two outputs to control two motors.',\n",
       " 'I Am 26. As a candidate international student, are middle level universities good in computer science major? My preferred state is washington but i am open to other states except cali, maine and other expensive states.',\n",
       " 'If we ran 10,000,000 cycles would we see a million of each digit, if we are just generating digits?',\n",
       " 'With growing technology like AI I fear I will never be able to experience the Field since my purpose with be meaningless. My goal was to innovate and create cutting edge technology but that is hard to do when where literally coding our downfall!',\n",
       " 'I have done this much so far. I cannot proceed further. I computed the amount of work required for each step and added them all together. The no of steps are log2(n) and the summation of work done on each step forms a Geometric Progression.',\n",
       " 'So, as we all know , one of the main advantages that TCP has over UDP is its flow control mechanism, namely it will reduce its packet ACK buffer if it detects a high number of packet loss, while UDP just does not care.  How does this translate to a bottleneck situation where a router is overwhelmed with both TCP and UDP traffic? Will the TCP traffic reduce its transmission rate while the UDP traffic will then dominate the network?e.g. Let Us say router has a 1.000 Kbps bandwidth, there is an incoming 800 Kbps  of TCP traffic and 800 Kbps of UDP traffic, how will the network settle?My intuition says that eventually the TCP traffic will be reduced down to 200 Kbps while the UDP traffic stays at 800Kbps',\n",
       " \"Hello my fellow nerds.I am trying to track down an older article/study about a computer's ability to interpret a picture.The picture was of a child in a cowboy hat with a lasso, a cat, and a broken vase. The computer was trying to determine how the vase was broken and was coming up with some strange conclusions.Anyone remember that?\",\n",
       " 'The \"Travelling Salesman Problem\" is a problem where a person has to travel between \"n\" cities - but choose the itinerary such that:* Each city is visited only once* The total distance travelled is minimizedI have heard that if a modern computer were the solve this problem using \"brute force\" (i.e. an exact solution) - if there are more than 15 cities, the time taken by the computer will exceed a hundred years!I am interested in understanding \"how do we estimate the amount of time it will take for a computer to solve the Travelling Salesman Problem (using \"brute force\") as the number of cities increase\". For instance, from the following reference ([-and-planetary-sciences/traveling-salesman-problem](-and-planetary-sciences/traveling-salesman-problem)):&#x200B;&#x200B;**My Question:** Is there some formula we can use to estimate the number of time it will take a computer to solve Travelling Salesman using \"brute force\"? For example:* N cities = N! paths* Each of these N! paths will require \"N\" calculations* Thus, N \\\\* N calculations would be required for the computer to check all paths and then be certain that the shortest path has been found : If we know the time each calculation takes, perhaps we could estimate the total run time as \"time per calculation \\\\* N\\\\*N! \"* But I am not sure if this factors in the time to \"store and compare\" calculations.**Can someone please explain this?**Thanks!',\n",
       " 'Is learning low-level engineering like compiler engineering and other low-level stuff like CPU architecture, operating systems, and assembly any useful while building large-scale distributed systems and backend microservices. I am interested in learning about low-level stuff but I am doubtful whether it would be useful or not. Any examples where low-level knowledge can help in distributed systems would be great.',\n",
       " 'I have been working for an ISP for almost a year now as tech support (will be moving towards into a software developer position). My new position will mostly be concerned with building serverless applications, not really a “networking” position. However I would still like to learn more about the fundamentals of networking! Any book suggestions?',\n",
       " 'Can you recommend  a source material on how computers understand what we want from them on most fundamental level of operations? I do not even know how to phrase this question. I have  a vague understanding of machine code, instructions, compilers, interpreters, etc. but I still do not understand what is the ultimate interface between the software and the hardware. Or maybe my question relates more to how circuit boards  and transistors work.',\n",
       " '-5875871/Worlds-smallest-computer-revealed-Incredible-image-shows-tiny-machine-dwarfed-grain-rice.html-can-computers-really-be-microscopic/> Nanocomputing involves using nanoscale structures to make computing processes. Nanoscale structures like protein and DNA (deoxyribonucleic acid) can be used to produce nanocomputers.> DNA computing involves using DNA, molecular biology hardware, and biochemistry to perform computing processes instead of the traditional electronic computing which makes use of silicon chips. Information in DNA is represented using a four-character genetic alphabet (A [adenine], G [guanine], C [cytosine], and T [thymine]), instead of the binary numbers (1 and 0) used by traditional electronic computers.> When applied to separate and non-sequential tasks, the DNA nanocomputer is better than the traditional electronic computer as it can store a larger amount of data in memory and conduct multiple operations at once. DNA nanocomputers are considerably faster than their electronic counterparts.So according to these articles, micro/nano computers in that sizes are really able to perform any tasks and store datas just like the traditional computers do or even better? And it is indeed possible with our current technologies that people can remotely re-program the system inside those computers, so the devices run by them can just switch to perform different tasks or move to specific environments, or upgrade itself indefinitely as the programmer desires?Is it possible that they are even able to perform tasks of building/creating a specific object by using the chemicals and substances they collected form the environment like engineering robots do?',\n",
       " 'I am doing my BTech in Machine Learning ( first semester ) and teachers often stress on getting good grasp on Linear Algebra concepts and I can see little bit where we are using Vector space concept, Matrices etc. But Professor did not say anything about Group Theory. I do not see it anywhere till now. But somehow we are studying it.The thing is I am loving Group Theory very much. I want to continue with this book of Joseph A. Gallian but I am afraid if I am wasting my time doing unnecessary. I have never grasped any concept of mathematics as quick as Group Theory, maybe it is easy whatever but I really like it. Will it be any beneficial for me ?',\n",
       " 'I have just started out theory of automata in my university and we are studying pumping lemma. From what I have understood, the lemma states that y != λ (empty string) and that x y^i z (where i >= 0) so if \"i = 0\", then y^0 = λ and the string is still accepted.How do these not contradict each other? If i = 0, y becomes the empty string that is previously stated cannot be empty? Can someone please clear this for me?',\n",
       " 'For specifically, I do not understand how to find the Big-O of functions such as: log(2\\\\^n) \\\\* log(n\\\\^2) =n \\\\* sqrt(n) = n \\\\^ sqrt(n) = Any help or resources to look at would be appreciated.',\n",
       " 'Something that you wish to see done that has not been done?Something that you **do not** wish to see done that has not been done?',\n",
       " 'I am going to start reading this book for a class and I was wondering if there are any resources or videos I can take a look at to be able to understand it. I think I lack the background to be able to understand the book. I already read computer organization by the same authors but had trouble with understanding it because I usually like to learn with videos.',\n",
       " 'I am looking for any algorithms or data structure where a complexity of a form like O(n/k * log(n/k)) appears. In particular, I want cases where the complexity is normally considered worse than O(n). It looks like nlogn, so surely such a case exists?One case I know of is the IO-model where we often have algorithms that perform O(N/B * log(N/B)) IO-operations, with B being the block-size of the IO-device. However, in this context, that complexity is usually considered _better_ than O(N) IO-operations.(Strictly speaking the IO-model complexities are often more complicated, e.g. with an M/B in the base of the logarithm, but that kind of difference is OK for the kind of examples I am looking for.)',\n",
       " 'Someone who studies computer engineering learns how a computer works in low level. If they know the hardware do not they also know what software can be built on it and how?For me it feels like computer science is an easier part of hole IT, CS, CE, EE field. They only know high level things for the most part. So the computer engineers have the same knowledge as a software engineer and the computer engineer do also have hardware knowledge. When does CS/IT education benefit from CE when the time to study CE and CS (both BSc and MSc) is mostly the same.',\n",
       " \"Hi, The count sort is only feasible for some inputs of 'k' that are not abnormally large since the space complexity increases arbitrarily. Can it be implemented using a sparse Matrix to counter that drawback.I have tried but cannot seem to get it work, can someone provide some insight on this. Thanks\",\n",
       " 'Is there any free educational resources that are somewhat equivalent to the computer science bachelor program (like all the course pdfs of a certain program)? I am really interested in learning as much as I can and enrolling in a computer science bachelor program is not an option for me. I am not interested in degrees or certificarites I just want to learn.',\n",
       " 'Hi, I am currently a CS undergrad who is very interested in graph algorithms and NP-complete problems. I am going to start my grad school this year to study computational geometry (I only have basic knowledge about this such as polygon triangulation and partitioning.While looking through some other applications of computational geometry, I noticed that there are problems that I am familiar with in a graph theoretic manner (such as the steiner tree problem and TSP as mentioned in [this 1976 paper]() (Some NP-complete geometric problems). The school that I am going to mainly focuses on shape matching, casting, and dynamic convex hulls so I cannot see much intersections on Graph Theory here (I believe). My question is, are there current overlaps in research between geometry and graph theory (in the CS sense) that is active these days beyond TSP, geometric networks, and Steiner Tree? Thanks!',\n",
       " 'There are much more data structures heavy topics and material that focus less on algorithms and then there are topics that focus heavily on algorithm design and advanced algorithms. Which is more practical to know better? I have a good understand of the basic ones learned in a DSA class, but I want to go ahead and study some more.If you could be good at one and mediocre on the other, which would you choose to be better at?',\n",
       " 'I saw a comment on a programming subreddit that casually mentioned that they wrote code for an internet router, and I was mind blown. I decided to look up how they work because i was inspired to work on a project like that, but i did not get any info. How do internet routers work?',\n",
       " 'Hi, what website has latest programming lang paradigm? I am thinking to create a new language and want to get some idea from the others. thanks',\n",
       " 'I want to teach a computer to do things based on what I code it to do. What is this called? Is this a Software Engineer or a Programmer? I am confused and do not know where to go with this. I know you can code apps to pick out what the user wants. I am doing research and the more I research the more confusing it gets. I do not want to be responsible for what things look like, I just want to do all the back end stuff. I just want to make things work. Make it make sense, please. I want to get a job, but do not want to learn the wrong stuff.',\n",
       " 'In functional programming, we do not create mutable data correct? I understand the usefulness of eliminating side effects for debugging, but does not allocating a whole new data structure for every change gobble up memory? Or does this just depend on the compiler?',\n",
       " 'Round robin LBs typically are TCP layer LBs which merely route incoming requests in RR fashion. Websocket protocol specifically needs that the client keep talking to the specific server with which it has opened the socket. How do client requests get routed to the same server by the TCP LB?I tried looking it up online but could not find many resources',\n",
       " ' Is computer engineering consider top of the line or \"cooler\" than Software engineering? What I mean by this is that computer engineers often design embedded system or the computers/micro controllers and write low level software. After that the software engineers code och develop stuff on hardware that computer engineers made. For me it sounds like this: Computer engineering says to software engineer: \"Your not that good at computer so i will build it for you and then you could program your software on my hardware with high level programing languages that is easier to understand\". Do you get what I mean, or am I wrong?   Is there stuff that Software Engineers is able to make that the computer engineers are not? My understandings is that because a computer engineer have made the computer they know everything about it and how to code and use it. And a software developer only learns how to use the tools that a computer engineer have made and do not need all that technical understanding. Is computer engineering higher prestige than software? Do a software engineer knows better way of making software than a computer engineer? This is my thoughts do not get offended by my thoughts instead describe to me how the job market works, i am still a student.',\n",
       " 'I am going through Precalculus II: Trigonometry, and I sort of do understand some of the stuff at a conceptual level but I am kind of worried that I need to literally understand why everything works the way it does for Trigonometry, Calculus, and whatever other math is needed for Computer Science.Like, I did not sign up to be a mathematician, I am fine with not knowing all the theoretical details, but I am worried that I am going to actually have to know them if I get into Computer Science.So, is it a problem? (Note that this is not about knowing the math - I am going to learn Calculus and Linear Algebra Ok, that is not the problem, it is more about knowing how it works underneath)',\n",
       " 'I am interested in getting into type theory, lambda calculus, etc. but I am wondering if there is an equivalent model for *traits* rather than types.For example, in C any non-zero value is True, so a pointer has the \"trait\" of being either true or false depending on whether or not it is null.A `mod` type in Ada has the \"trait\" of being bounded between two values, and also the \"trait\" of overflowing to stay within those bounds.This can allow you to express some very complicated things. The trait system in Rust allows you to say \"if I can do X, then I can do Y.\" Using that, you can basically have behaviours \"implement themselves\" as long as there is a valid path through the trait implementations.I am wondering if there is a theoretical system similar to type theory that uses \"what you can do with something\" as the core idea rather than \"what something is.\"',\n",
       " '\\\\[SOLVED\\\\]Hi all,I know there are many posts here asking for book recommendations, particularly on this topic.However I am looking for a recommendation of a good book for beginners with easy to comprehend language and structure. I agree that its a tough topic so all of them will be somewhat technical I am just wondering if anyone knows any that are both good but simple enough to follow!Many thanks!',\n",
       " 'Hello there, i am a somewhat intermediate full-stack developer who is 100% self taught without any educational background in CS. but i want to up my game by learning some of the scientific fundamentals of computer programming, and i figured what better subject  to start with than algorithms!? so anyways let me know ur suggestions guys :D',\n",
       " 'Yes, its true, your program must be written in a way so it could be processed by multiple cores or processed effectively by them.  So to this question:  Why dual/quad is not 2x/4x faster then single core or why is not quad 2x faster then dual core processor,beside saying:*  Due imperfect software algorithms and implementation. Are there any other facts/arguments we can add, like hardware ones, e.g.:* They all share same resources, memory, bus etc etcI know that there are some details that might need to be included in this like, brand, microarchitecture, speed etc etc... I am aware of that, its just a general question about multiprocessing.Feel free to post any link where this might have been answered or it contain some explanation.Thank you! :))',\n",
       " 'I know about [monads]((functional_programming)) for dealing with side effects, by adding the \"world\" as an internal variable which gets passed around. And I know the basics of linear type systems (or more generally [substructural type systems]()), some of the ideas of which are used by Rust. Monads are used in Haskell or perhaps other languages, but these are purely for functional languages as far as I can tell (it is to make the functions pure again). I am not too sure about linear logic/types though.But what other ways are there of dealing with side effects in terms of type theory, especially regarding to imperative or object oriented programming languages, dealing with pointers perhaps, or memory management, object creation and destruction, accessing and manipulating local/global state/context, etc.. It would be wonderful to paint a full picture of the possibilities the research has uncovered so far, so it is easier to make sense of how to model side effects (especially in imperative programs using type theory).',\n",
       " 'Just stumbled across [KindLang](-lang/Kind), \"a modern proof language\", which looks amazing. I found some of the [old writing](-lang/Kind/tree/f70ed05356f4d6e88f4d28df3d1ddb0a3cad8c94), such as the so-called [FMC Specification](#file-fmc_specification-md), which describes some of the theory. Some important snippets from it are (bold added):>Within the field of type theory, mathematical proofs and theorems are represented by functional programs and their associated types. This is called the Curry-Howard correspondence, and is the basis of modern proof assistants such as Agda, Idris, Coq and HOL/Isabelle. Sadly, those are complex software with monolithic implementations that are hard to audit and reason about. We are interested in a simpler alternative: a fully-featured proof assistant that can be turned into a small standard that is easy to analyze and implement independently.  >  >Under that perspective, one may be interested on the **Calculus of Constructions** (CoC), a small type theory that **easily fits 1000 lines of code** in a modern programming language. Sadly, that and similar languages **are not capable of deriving mathematical induction**, an important proof technique without which any non-trivial theorem is not provable. Moreover, it is not capable of expressing efficient (constant space and time) pattern-matching, without which functional programming is not viable. The usual solution to both problems is to supplement CoC with a native datatype system, but this results in the complexity explosion that is seen on the mentioned languages.The same author made this [Calculus of Constructions repo in JavaScript](-of-constructions/blob/5b4ede47dfcc408ce27903f78d29c81bf393a9d3/src/core.js), but it seems to have been replaced by KindLang.So then it is stated:>**A simple, clever alternative was proposed by** [Aaron Stump](/~astump/). With just one additional primitive, the \"**self type**\", **coupled with mutually recursive definitions, one can easily derive induction** for lambda encodings, i.e., a way to represent datatypes with native lambdas, subsuming the need for a separate implementation. This also solves the efficiency problem, as we are able to pattern-match in constant time with certain lambda encodings. The problem with that solution is that providing a semantics and, thus, proving the consistency of the resulting system becomes extremely hard.  >  >Aaron Stump **moved on from self types towards a very similar solution based on dependent intersections**. The idea is that, instead of relying on mutual recursion, inductive datatypes can refer to themselves in simplified, erased forms. This results in a comparably small language that is much easier to provide a semantics for, which Aaron Stump called Cedille-Core. In exchange, programming on it is hard. The simple task of defining a datatypes with efficient pattern-matching and recursion becomes a complex task involving non-trivial type-level manipulations and many intermediate proofs. While doable, programming in Cedille-Core without a supplementary language to do all that work for you is not practical.Then it talks about \"consistency\" being a problem when modeling, which is a bit over my head. Then:>Computationally, Formality-Core is just the lambda calculus.Meanwhile, the latest KindLang [THEOREMS](-lang/Kind/blob/master/THEOREMS.md) doc describes how to prove things. Have not read through all of that yet, though.What I am wondering is, what is the summary of the theory KindLang is built upon? What I shared above is pieced together.I found this by landing on the [Calculus of Constructions]() (CoC) after looking at the [Lambda Cube](). I found that from looking at [HoTT]() and [UniMath](), both of which are touted as \"foundations of math\". (UniMath is based on Calculus of Constructions as far as I understand). But as the above snippets show, CoC cannot model induction or recursion I guess, so I wonder how these can serve as foundations. So it looks like KindLang builds upon CoC like UniMath, but adds that \"self type\" that Aaron Stump talks about. *Does it add anything else?*I was reading about [Cubical Type Theory](-pages.s3.us-east-2.amazonaws.com/nlab/show/cubical+type+theory) (does not even have a Wikipedia page yet), but it was said it also had some key problems, and then landed on [this paper]() which states right up front:>We prove normalization for (univalent, Cartesian) cubical type theory, **closing the last major open problem** in the syntactic meta-theory of cubical type theory.*Maybe I misread that though.*So I am wondering, what theory does KindLang use, and how does it relate to Cubical Type Theory, which seems to be the latest edition of Type Theory that is the most expressive.Trying to figure out what the latest theory is for implementing a proof language like KindLang.',\n",
       " 'What are some good books, journal articles, or even GitHub repos, which show how to implement algorithms for **type checking** and/or **type inference**? There appear to be several resources with implementations in functional languages like OCaml or Haskell, but I have yet to find anything which could be used to write a JavaScript implementation of type checking and type inference (i.e. algorithms defined in an imperative style). I would like to learn how to implement it in detail.',\n",
       " 'Hi all, is there a way to know/calculate how many parallel http requests a computer can send?',\n",
       " 'For example, if one had a source file containing 100 transformed instances of the same 3D model but that information is just vertices within the source file is a model built to recognize that data redundancy? Are algorithms for various types of information like this updated on a regular basis and integrated into the popular compression methods?',\n",
       " 'I would be asking this question in the crypto sub but that sub honestly just seems like an echo chamber. I myself have limited knowledge about cryptocurrency so I am willing to learn more about it from some of you. Basically what I know is:1. It acts as a digital ledger for a given set of programs.2. There are limited number of Bitcoin and the more there are, the harder it is to mine them.3. It can decentralise power and all computers acting as mining devices form part as a mini server for mining.4. With all the talk about how Bitcoin is the future, I am still skeptical yet to see mast adoption of this system even in the near future.5. Many of the conversation about crypto (and Bitcoin specifically) seems and looks kind of scammy and I have also noticed many bots on such forums.Apologies if there are some misinformed arguments here, as I said I myself have tried to understand it but still have a lot of confusion. So, what is your opinion?',\n",
       " 'I will be starting my bachelors in CS in fall 2022.Before the course begins , what Books/courses can I take/read for introduction on the topic.Especially please recommend some basic beginner books for Linear algebra , Calculus and Discrete Maths.',\n",
       " 'For example, the implementation with Fibonacci heap and adjacency list has a time complexity of O(E + V•log(V)). Because we assume the graph is always complete, the time complexity is O(V^2 + V•log(V)), which is O(V^2 ), right?',\n",
       " 'Hello, I am planning on studying CS next year, and from what I have heard it is kind of maths heavy and I have forgotten everything since I graduated high school back in 2014, can you guys recommend any books or courses that would help refresh my memory and prepare me for Calculus and linear algebra? TIA.',\n",
       " 'I was looking to get a sub on OReilly Online Learning, but I noticed a lot of people suggest Association for Computing Machinery. I am wondering how these compare for learning purposes and possibly certification, for Computer Science and Software Engineering generally.  I also noticed that ACM offers OReilly material through their own subscription - what OReilly resources exactly does one get through ACM, is it books, etc. or live content and training as well?  If you have any suggestions and tips on other similar platforms, please do share, I would appreciate it a lot.  Thanks!',\n",
       " 'I was reading [The Lost Art of Structure Packing](-packing/) by ESR(Eric Steven Raymond) and he was written this:> The jargon for this is that basic C types on x86 and ARM are self-aligned. Pointers, whether 32-bit (4-byte) or 64-bit (8-byte) are self-aligned too.Now, he says that the data types are self aligned on x86 and ARM processors and pointers are self-aligned on 64-bit architectures too. Self-alignment means that data is stored at a memory address which is a multiple of the size of the data type of the data.My question is that is data aligned according to its size(self-alignment) or according to the memory access granularity of the processor. There are hardly any cpu architectures which allow data types larger than their memory access granularity, so even it will not make a great difference if some data is self-aligned or aligned according to memory access granularity of the processor.It would be great if you could specify some cpu architecture that allows data types larger than its memory access granularity. If self-alignment and alignment according to memory access granularity do not practically make a difference at the memory level, will not it still be better to say that data is aligned according to the memory access granularity rather than self-alignment.',\n",
       " 'I am working on a project and I want to explore how vectors are used in Computer Science.Some articles/YT links on the same would be v helpful.',\n",
       " 'Is there a name for an algorithm that assigns N outdoor people to N distinct houses such that the total distance they have to walk to their respective houses is minimized? (This is just another wording for assigning boxes to drop-off locations in Sokoban if you heard of that). Or is this an intractable problem where every permutation has to be tested?Not sure if the Gale Shapley algorithm will work in this case??',\n",
       " 'This is a little bit out there, but I think this is an interesting way to think about / apply the question of P=NP. Think about cellular life. Biologically, for many organisms (think simple multi cellular; plants, things that do not have super complex brains) we understand the structure and function of literally every single atom and cell that they are made of. But we are unable to synthesize these organisms we know so much about ourselves in a lab despite knowing how to perfectly verify nearly every piece of their structure by looking at them. Translating to the P=NP problem, the “verification” of a problem can be thought of as examining every single piece of an organism and confirming that it is what we think it is. The “solving” of the problem would consist of creating such an organism from scratch, from non-living material. Despite knowing how every single piece of a multi cellular organism works and being able to verify them, humans cannot solve them by creating them in a lab. What is the only current known way to “create” life? By waiting for nature’s random iteration to try and fail over billions of years and trillions of “guess and check” iterations. If evolution can be thought of as the only way to achieve the “solution”, until we can figure out a way to synthesize complex multi cellular organisms from scratch, nature’s answer to the P=NP problem is that verifying a solution does not imply that it can be solved. Only guessed and checked over trillions of years.This may not make sense but I think it is an interesting way to think of how nature sort of answers one of humanity’s biggest questions.',\n",
       " 'I always wonderd, how people can write programs, that interact with the web like its their harddrive, I always get confused what, how an why the different protocols do. My biggest problem is finding a good resource to learn about the stuff, often I find myself on websites, that are glossing over details and leaving out things. So my question is where did you start and where did you learn it ? Good book recommendations related to the subject are appreciated',\n",
       " 'For example, if i want to change the image specifications in photoshop, i can choose between 8 and 16 bit. But why is there nothing inbetween 8 and 16 bit? Since the difference between those to options is that high, 8 bits are sometimes too less and 16 bits are sometimes too high.',\n",
       " 'Horray for quantum computing picking up more traction for the past few years. I have done a fair bit of reading and tinkered with things like qiskit  but algorithm implementation on a per qubit level seems a little 😬&#x200B;What does a RISC-like instruction set look like for QC, is it even viable? Are circuit construction implementations here to stay?',\n",
       " 'Here is what [wikipedia]() says:> Even if P≠NP, the O(nW) complexity does not contradict the fact that the knapsack problem is NP-complete, since W, unlike n, is not polynomial in the length of the input to the problem.`W` is the max weight capacity.`n` is the number of items.Why is `n` polynomial in the length of the input? If the input is binary, `n` is definitely exponential in the bit length.Also, for problems in NP, we can verify them in polynomial time. However, here for a polynomial time algorithm in the numeric values `n` and `W` for knapsack, we still call knapsack NP-complete because of the length of the input. By the same logic, would not the algorithm to verify a solution to knapsack **not** be polynomial (pseudo-polynomial) - and so, it is not even in NP?  Could you please clarify this?',\n",
       " 'I am always wondering about this. Why Internet/transmission speed is always in Bits (Kbits, Mbits...) and storage capacity/file size is always in Bytes (Kbytes, Mbytes...)? Cannot we just have the same unit for both of them (to reduce the confusion of some people)? Is there a reason for the convention like this?',\n",
       " 'I have learnt it today in Java but cannot seem to wrap my head around it. How can I learn to use it?',\n",
       " 'I have a question, which I believe is fairly well defined, but I do not have the knowledge to approach it.  If anyone has an idea of a better place that I can ask this question that would be excellent.The problem :  I am playing a game called Scam \\\\*cough\\\\* I mean Star Citizen and there are many large 3d worlds to explore but no coordinate system yet.  It does, however, give you the distance in kilometers you are from given hubs on said world as well as the center of the planet itself.The hair brained scheme:  Step 1 - take screenshots of the planet from X km away at each pole and then again from a few angles around the equator.  Step 2 - stitch those together onto a 3d sphere to create a mapped globe  Step 3 - take screenshots of interesting locations by flying to a certain altitude and looking straight down.  Then try to find software that can look at the screenshot and match it with a given location on the globeSome problems I will face:  \\\\- the screenshot will be a 2d image of a sphere and so will need to be reshaped as it cannot just be put on as a skin ( there is a better mathy way of saying this right? something something projection? but i am making sense yeah? )  \\\\- The planet will have lighting and cloud cover which change and could be confusing to any ML Algo.  \\\\- Mapping locations to the planet might be difficult as the planet may be too \\'samey\\'.  A second option is to record the distance one is from several WP on the planet and use that information to, i believe the word would be, \"triangulate\" the position? yeah? Does that sound right?This sounds very possible to me but might require some specialized ML magic that I am not educated on? If anyone has any advice for how to better approach or frame the problem, or potential solutions for software or math that can be used to solve this, I would be stoked :)In case it is relevant I am fairly competent with JS and NodeExample Images&#x200B;',\n",
       " 'Arjan Scherpenisse gave an amazing talk with title \"Creating a scalable intent classifier with Elixir, Python and Tensorflow\" for the #ElixirConfEU conference in Warsow.   Watch the video & learn more about the QnA ninja, a classifier service that recognizes text  \\\\_hsWC2jE',\n",
       " 'Having finished a masters a couple years ago,  I miss having access to journals and articles that my university library provided. Is there a free/inexpensive source of similar materials that I may be overlooking?Thank you!',\n",
       " 'Bit of background, I come form the social sciences and very little computer science knowledge but I am researching how the integration of AI will impact my field of study. One potentially large problem I have found is that AI can be overconfident when faced with information outside of what it has been taught to recognize. I have read that bayesian neural networks can mitigate this problem but my lack of computer science knowledge making me run into a wall when it comes to understanding exactly why it fixes this problem. I am doing other readings on this topics but I thought I farm this out to Reddit and use this site for more than just watching people argue about literally anything. Thanks for any assistance or sources you can provide!',\n",
       " \"**Problem statement:**>Write a function, which creates a random graph of a certain size as follows. The function takes two parameters. The first parameter is the number of vertices n. The second parameter p (1 >= p >= 0) is the probability that an edge exists between a pair of nodes. In particular, after instantiating a graph with n vertices and 0 edges, go over all possible vertex pairs one by one, and for each such pair, put an edge between the vertices with probability p. The graph representation is an adjacency matrix.**Proposed algorithm:**    1- Create a bool matrix (2d nested array) of size n*n initialized with false.    2- Run a loop over the rows:      - Run an inner loop over the columns:        - if row_index != col_index do:            - curr_p = random() // random() returns a number between 0 and 1 inclusive            - if curr_p <= p: set matrix[row_index][col_index] = true              - For an undirected graph, also set matrix[col_index][row_index] = true        **Note:**    Since we are setting both cells (both directions) in the matrix    in case of a probability hit, we could potentially set an edge 2 times.    This does not corrupt the correctnes of the probability    and is not much additional work. It helps to keep the code clean.        If you want to optimize this solution, you could run the loop    such that you only visit the lower-left triangle (excluding the diagonal)    and just mirror the results you get for those cells to the upper-right triangle.Now, someone told me that without the optimization the algorithm is wrong since it calculates the propability of edge existence twice.  In their words:>With the current code in the undirected case, the probability that matrix\\\\[0\\\\]\\\\[1\\\\] will be set is the probability that the random number in the iteration with col=0/row=1 or in the iteration with col=1/row=0 is smaller than p. That probability is 1-(1-p)\\\\^2.&#x200B;At first I thought they were right, but thinking more about it it occured to me that since the random number generations are independent of each other and since we do not need 2 false (or 2 trues) to set or unset an edge, the probability calculation of the algorithm is correct. If their argument was correct, it would be like saying when you throw a 6 on a 6 sided dice, your chances of getting a 6 next time are less than 1/6. In other words, it looks like the [Gambler's fallacy]('s_fallacy) on their part.&#x200B;I hope I have managed to convey the problem and arguments in full. If not, please ask.What I am looking for is feedback on which argument is correct. Thank you very much in advance.\",\n",
       " \"&#x200B;🔵 Singular Value Decomposition 🔵\\U0001fa84 Remember from the [post on eigenvectors](/): eigenvectors of a matrix are special vectors that only get scaled when the matrix is applied to them. While EVD (eigenvalue decomposition) can only be applied to special matrices (diagonalizable matrices) SVD is a generalization of EVD and can be applied to any rectangular matrix.🧩 Like prime factorization where a number is broken down to its prime factors (simpler pieces = prime numbers in this case); SVD factorizes the matrix into simpler pieces i.e. simpler matrices. This factorization or decomposition comes in handy for many applications some of which I briefly touch upon later.🏥🦴 Time for (somewhat of) an analogy: You can think of SVD as an x-ray of a matrix. It provides us with simpler pieces that constitute the matrix and by looking at these simpler pieces i.e. simpler matrices we can say a lot about the matrix in question. Things like its (pseudo-) inverse, rank, null-space, range among other things can be easily determined the same way a doctor can say a lot with an x-ray scan of your body.🔨 The Singular Value decomposition breaks the original matrix into 3 pieces: 2 unitary matrices and a rectangular diagonal matrix. You can draw a parallel with the Eigenvalue decomposition equation and see exactly how SVD has a more general form.🔄 With the help of the Singular Value decomposition we can explain what happens to an arbitrary vector when a matrix M is applied to it. Since M can be broken down into simpler pieces, we can represent the matrix M by a rotation, followed by scaling (by the singular values) and another rotation. So if you had a circle it would first be rotated then stretched by the singular values (becoming an ellipse) and finally be rotated to end up as a rotated ellipse.🗜️ There are numerous applications of SVD. Perhaps you could comment on the ones that I missed but you know about. One of the nicest things you can get is the pseudo-inverse of a matrix without doing crazy matrix inversion. This is because the simple pieces that SVD provides are extremely easy to invert making inversion of the original matrix child's play. SVD is heavily applied in solving numerical problems such as solving linear equations that so frequently pop up in engineering.🎥 Data compression and computing low-rank approximations make it handy for compressing images and videos so you can watch cat videos without buffering. And of course, SVD has also been used for ranking web pages like Google's Pagerank algorithm does so you can find your favorite recipe with a quick search.\\\\---------------------------------------------------------------------------------I have been studying and practicing Machine Learning and Computer Vision for 7+ years. As time has passed I have realized more and more the power of data-driven decision-making. Seeing firsthand what ML is capable of I have personally felt that it can be a great inter-disciplinary tool to automate workflows. I will bring up different topics of ML in the form of short notes which can be of interest to existing practitioners and fresh enthusiasts alike.The posts will cover topics like statistics, linear algebra, probability, data representation, modeling, computer vision among other things. I want this to be an incremental journey, starting from the basics and building up to more complex ideas.If you like such content and would like to steer the topics I cover, feel free to suggest topics you would like to know more about in the comments.\",\n",
       " \"Hello,I am looking for other students to join me in learning [Erik Demaine's algorithms course](/).The course is mathematically matured and requires a background in discrete math, logic and proof techniques.If you are already familiar with algorithms, Then you might focus more on advanced lectures. If you lack background in math, Then you might focus more on early lectures. Students coming from non-CS background are highly welcomed, including engineering, physics, and pure-math. Especially if they were interested in computational methods. We hope they contribute to CS students a new perspective about computation.We hope to initiate a community, Where you can mutually contribute and benefit from others' experiences, skills, and backgrounds. You are welcome to ask questions, share your solutions to be reviewed by others, and even suggest further problems/topics.We plan to complete two weeks of the course on one month, and have 1 hour meeting per week. There is no obligation to attend all meetings, solve the whole course's problem-set, or to respond to every question posed. Learn and engage with other members at your own suitable pace.My availability is limited to 2 weeks per month, but other students are welcomed to collaborate at any time.Join by submitting [this]() google form.\",\n",
       " \"I understand that neural networks have been trained to play games like chess pretty effectively. I have also seen some neural networks able to generate photographs based on a text description.But has anyone tried training an AI to be a video game? In my mind it seems feasible because you could theoretically automate the training by making a bot play an existing game like Doom Eternal and then treat the bot's commands as input and use the resultant game state as the output that the neural network needs to fit to. And then if your network learned the game correctly, a human could give it input with their controller and it would return a close approximation of whatever game state the original game would have given. And then you would only need a computer powerful enough to run the NN instead of the full game.I am curious because I am 100% certain someone smarter and more experienced than me has thought of this before but Google is not giving me any good articles on the subject\",\n",
       " 'I will try to clarify. A software (like an OS), to exist, needs a hardware (memory). All the software information is stored in the hardware, which means it is a physical thing (like circuits). So, if we define a hardware as \"the associated physical equipment of a computer, directly involved in the performance of data-processing or communications functions\", turns out software is hardware.The difference is a practical approach, where software is a set of instructions (programs), and hardware is the PC parts (CPU, GPU...).It is like your brain and your thoughts (technically, thoughts exist inside the brain)I am totally a layman on the subject, so do not judge me if I am saying bullshit lol',\n",
       " 'I am interested in browsing new and exciting areas on computer science like programming, diy instructions on software, and reading informative articles on software or blogs. What are some sites every new techie should be on to read such material?',\n",
       " 'I watched a video on how computers work and how it uses binary instead of base 10. But if computers had a way to use base 10 or like distinguish 10 different types of charges in a transistor or something would not that computer be like ultra super fast???',\n",
       " 'I am a high school senior who has a lot of free time and loves studying comp sci. I have read an introductory Java book, SICP(chaps 1 and 2), and the C programming language or K&R. I am interested in continuing with chap 3 of SICP but I am also looking for another challenge: think comp sci essentials. All suggestions are appreciated.',\n",
       " '(Brand new to CS so bear with me) I cannot find anywhere online so far about what an implementer is and how that is different from a programmer. (My question comes from a C language book that talks about how part of the book is meant for programmers, not implementers.)Thanks!',\n",
       " 'Recently have been struck by the fact that the two most powerful machine learning methods, neural networks and genetic algorithms, are partly just copied from nature (in concept at least, obviously was a ton of work by a lot of brilliant people). I guess there is a lot of machine learning that is basically just memorization or math but are there any other deep learning algorithm paradigms out there? Do you think there could be someday?',\n",
       " 'I am looking for some resource clearly explaining how this solver for the tsp works.I read that it uses the Lin-Kerighan heuristic and the branch and bound algorithm, but I did not find a full explanation of how it works. The closest thing I read was [in the answers of this post]() , but it is not a full answer.If you have the knowledge or any link/paper available online or on scihub that explains how it works in detail / in summary, that would be awesome',\n",
       " 'By integrating buildroot, BEAM and erlang/elixir ecosystem into a comprehensive toolkit, Nerves has become a major framework in the IoT field. Watch the video and see Jean Parapaillon  talking about \"Nerves - An industrialization journey\"  ',\n",
       " 'I have been wanting to find some good videos that I can watch in my free time that are about cool computer science projects so I can learn more about new algorithms, and programs in a more leisure way instead of solely doing projects and reading documentation. &#x200B;I am interested in most anything related to Python, Data science, or back end development, but I would really love to learn more about Machine learning algorithms if there are any good series about people working on machine learning algorithms.',\n",
       " \"I have been doing research on computational models, but I cannot find anything on cyclic tag systems and their proof of universality. I want to know because it is supposedly what rule 110 can emulate (more specifically that is the proof that rule 110 is universal), however the fact that rule 110 can emulate a cyclic tag system means nothing to me if I cannot find proof that cyclic tag systems are universal, let alone an implementation of rule 110 running a cyclic tag system. Does anyone know where I can find a cyclic tag system's proof of universality?\",\n",
       " 'Sorry if my question sounds dumb but I am a beginner to coding and have started with Python. Python is an interpreter-based language and not a compiler based language ( I know the difference between the two) As I was going through my online lectures, it is stated that python is interpreted with Cpython, a software written in C. Similarly, they have Jython (written in Java) and PyPy (written in Python). My question is is these interpreters break down the language into low level code like Assembly and machine code, then who helps interpret the software of these interpreters so that they run in the computer? Again sorry for the dumb question',\n",
       " 'Recently I have begun learning about how computers actually know to execute your programs, and I was hoping somebody could verify if I generally have the idea correct. - computers come preset with instructions on how to boot the OS located in the ROM. Once this takes place the OS controls the remainder of operations. - when you plug your computer into the wall, electrical signals are sent in clock cycles that run at some frequency all the time, either idle or active. These signals are always looking for data to transfer via the bus to read, but they are essentially always running (this is the part I am shaky on I think) - when you write and compile a program say hello world, you have organized some high level code into what can be translated into machine code and binary. When you executed this is sent to the ram, where the clock frequency (always looking) activates logic gates based on what was sent, and tells you what the output it.- if you wanted to use an embedded controller to run a motor the same applies where the programmer writes readable code which can be converted to binary, and is sent to the pinouts in such a way that causes some actuation to happen (such as alternate pulses to a stepper motor) Am I on the right track here ? Thanks Also, who sits around and actually designs computer architecture, I feel like that has to be one of the most complicated jobs on the planet. You have got millions of transistors to manage controls? Or is it more abstract than that.',\n",
       " 'hey guys, basically the question. and forgive it is a noob question. I am relatively new to computer science but have really started taking a passion to programming. I also have a deep love for studying for foreign languages. Is there any obvious / not so obvious overlap between the two?',\n",
       " \"I have gone about my life for a while thinking that even 'digital' things have some physical correspondence. i.e. binary numbers are just surges of voltage and things of the such. My real concern for this idea turned up when I was learning about actuators and learned that to get it to receive some electrical charge it needed to pass through a DAC. Implying that the charge is not a digital element and my correlation may have been wrong.Are digital things not physical things? I am pretty sure that is not true but I have absolutely no idea what to make of the idea now...\",\n",
       " 'By \"8Bit\" i mean a CPU that uses registers that are 8 bits wide and with an ALU that takes two 8 bit binary numbers and performs operations on them, for the sake of this post, let us say the ALU is capable of bit shifting, NANDing and Adding.So just how capable this CPU will be, Will it be able to run a very simple version of tetris? or pong?',\n",
       " 'Livebook enabled a new level of interactivity with a running BEAM VM. Michal Slaski presented his talk \"Love Your Crash Dumps\" at #ElixirConfEU, describing the techniques for live analysis of VM performance.Watch the video and learn more: []()',\n",
       " 'By how is created I do not refer to a general theory like what is CPU/GPU or motherboard, but as if how they are physically designed and produced, when I was getting my degree they explained to us the basics (been years since then) but never the exact process.I also saw some youtube videos but they seem more of hype inducers and they seem to be divided into scientists wearing anti-dust suits and working on the nano-world and people doing mechanical tasks. I am looking for a more pragmatic and practical procedure about how hardware is truly created, anyone has any leads?',\n",
       " 'Not sure if this is the right subreddit for this, but i am looking for a few subredditd and youtube channels for staying up to date and just general knowledge of the software development industry. Can anyone help?',\n",
       " '&#x200B;[EDIT: Thank you to you\\\\/antiogu for pointing out the error. The y-intercept should be 2 in my sketch.]()🔵 Gradient descent 🔵💾 A more detailed post this time but I wanted to make sure I touch upon some basics first before diving into gradient descent itself. This is mainly so that it is more inclusive and no one feels left behind if they have missed what gradient is and if you already know what it is you get to brush up on the concept.🏃 Although a relatively simple optimization algorithm, gradient descent (and its variants) has found an irreplaceable place in the heart of machine learning. This is majorly due to the fact that it has shown itself to be quite handy when optimizing deep neural networks and other models. The models behind the latest advances in ML and computer vision are majorly optimized using gradient descent and its variants like Adam and gradient descent with momentum.⛰️ The gradient of a function is a vector that points to the direction of the steepest ascent. The length or the magnitude of this vector gives you the rate of this increase.🔦 Time for an analogy: it is nightfall and you are on top of a hill and want to get to the village down low in the valley. Fortunately, you have a trusty flashlight that helps you see the steepest direction locally around you despite the darkness. You take each step in the direction of the steepest descent using the flashlight and reach the village at the bottom fairly quickly.📐 Gradient descent is an optimization algorithm that iteratively updates the parameters of a function. It uses 3 critical pieces of information: your current position (x\\\\_i), the direction in which you want to step (gradient of f at x\\\\_i), and the size of your step.🧗The gradient gives the direction of the steepest ascent but because we need to minimize we reverse the direction by multiplication with -1.🎮 This toy example illustrates how gradient descent works in practice. We compute the gradient of the function that needs to be optimized i.e. the differentiation of the function with respect to the parameters. This gradient gives us the information we need about the landscape of the function i.e. the steepest direction where we should move in order to minimize the function. A point to keep in mind: gamma the step size (also called the learning rate) is a hyperparameter.\\\\---------------------------------------------------------------------------------I have been studying and practicing Machine Learning and Computer Vision for 7+ years. As time has passed I have realized more and more the power of data-driven decision-making. Seeing firsthand what ML is capable of I have personally felt that it can be a great inter-disciplinary tool to automate workflows. I will bring up different topics of ML in the form of short notes which can be of interest to existing practitioners and fresh enthusiasts alike.The posts will cover topics like statistics, linear algebra, probability, data representation, modeling, computer vision among other things. I want this to be an incremental journey, starting from the basics and building up to more complex ideas.If you like such content and would like to steer the topics I cover, feel free to suggest topics you would like to know more about in the comments.',\n",
       " 'Basically title. I have been searching for some good CS books, but cannot find much other than 1) the mainstream novels about \"AI\" that are of no use to someone who is studied CS and 2) the tutorial type books titled \"How to \\\\[do something\\\\] with \\\\[insert popular technologies\\\\]\". Looking for recs.',\n",
       " 'Hello everyone,I have been stuck in the classic problem of applying mathematics in the context of data science. However, I am much stronger in my math-side than in computer science. If you gave me a homework sheet of problems in stats, multivariable calc or linear, I am happy. If you ask me to apply mathematics for machine learning, I am drawing blanks.Has anyone else struggled with this disconnect? If so, were there classes or concepts that helped build that bridge? Is this data structures with extra steps?Thank you in advance',\n",
       " 'I have not learnt much electronics but I do kind of know how the CPU works and how logic gates and all the higher level more abstract things work in a CPU.I‘m really confused by this, some say 1 and 0 is the state of the transistor but that does not make sense to me. I‘ve also read that it is a high vs low voltage, but than is not voltage the electric tension between two points, which points would that be? I have always imagined the 1s and 0s or asserted and deasserted signals as high and low amperage, is that wrong?',\n",
       " ' This paper presents an inexpensive, high-precision, but at the same time, easy-to-maintain PIEEG board to convert a RaspberryPI to a Brain-computer interface. This shield allows measuring and processing eight real-time EEG(Electroencephalography) signals. We used the most popular programming languages-C, C++ and Python to read the signals, recorded by the device. The process of reading EEG signals was demonstrated as completely and clearly as possible. This device can be easily used for machine learning enthusiasts to create projects for controlling robots and mechanical limbs using the power of thought. We will post use cases on GitHub () for controlling a robotic machine, unmanned aerial vehicle, and more just using the power of thought.',\n",
       " 'Hello! I am a high school computer science teacher, and teach a course on computer ethics. One of my units is on A.I. and I want to conclude the unit with student debates on topics in AI. I am struggling to come up with topic statements however. I know for sure I want one of the topics to be centered on whether A.I. at an advanced level should be afforded the same rights as humans.  Any other topic statement ideas? Thanks!',\n",
       " \"Forgive any and all ignorance as I ask this question please. As I understand it, Linux was the first open source UNIX-like OS, correct? And UNIX itself has been around since 1969!My question is, if the robust stability and security features like protected memory, preemptive multitasking, secure user accounts/admin stuff and all that have existed for so long... why did Mac OS and Windows both lack any of that robustness until a full decade after Linux was created?In other words, if we had a way to make an OS that would virtually never crash and had orderly memory management and security and the rest, why did Apple and Microsoft both ship such fragile OS's that could be toppled by a single rogue app and were generally terrible at security and for *SO* long?Apple even had [it is own UNIX implementation]() for the early Mac computers complete with the System 7 GUI laid over top. Anyone care to speculate why THAT was not just the Mac OS everyone got? Microsoft also [licensed a UNIX version]() from AT&T in the early days. So it is not as if no one knew computers did not have to suck. Why did it take so long to reach the average PC user?   Thoughts?\",\n",
       " 'I am an undergrad studying computer science. While I enjoy coding (it is ludic) I cannot quite grasp its purpose/use in the bigger meaning of life.Why do you study computer science and how do you find purpose in it?',\n",
       " 'I searched and searched and still have not been able to really figure out how NFTs are working behind the scenes. There is sooo much hype. Could a developer please explain. I would like to know - 1. How are they created? Using which popular frameworks (any code snippets appreciated)2. Where is the media hosted? My understanding is that NFTs are really a record that your wallet owns this unique hash. But then how is that has linked to an image? And where is this image hosted? Follow up - cannot anyone take this image host down and then that link between the hash and the image is lost.Appreciate any elightenment without the hype. I am tired of 100th video about an influencer explaining NFTs as if they are the next gold with no context.',\n",
       " 'I am new to coding. I have a math background (up to Diff EQ and LA). I want to learn the basic idea behind all programming languages. The idea of Syntax, how things operate, the different types of programs. Just a review of how programming works.I know nothing. I need to understand it for my physics major. I learn best by theory and having a foundation of the most basic principles and abstract terms (nothing specific or applied at first).Do any of you know any good websites or videos that describe the idea of programming? (I would prefer relation to math terms like “function” or “linear” or “transformation” or a set of axioms or system that can be diagramed).I want to understand the process  and the terms before learning code.',\n",
       " 'Hi!I am a data analyst intern who loves math and databases and I am pretty sure that in the future I want to do something that uses both of these things.For that reason, I have become very curious about where database research is going these days. I do not have much interest in software development per se but databases are just such mathematical marvels that I cannot help but lean towards them.So, what is currently being researched? User centered design?( i love this and it is very overlooked by companies)New database paradigms? Graph databases? Etc...?So what else is there?',\n",
       " 'A career counsellor said that I should teach math (my other possible career goal) rather than go into software development, since the rise of no code tools and machine learning code generation will mean that I will not have a job in 10-15 years. There is so much hype about this that I thought I would ask the opinions of those here that know what they are talking about.&#x200B;Thank you',\n",
       " 'say you picked a really large number at random and wanted to find it by repeated guessing, what would be the most efficient way to do that? i have been trying (really just out of curiosity) this and so far the fastest outcomes are usually from just incrementing the number one by one until it gets it but i do not feel like that is the most efficient solution. what would be a better way?',\n",
       " 'The castle clock of al-Jazari is said to be the first programmable analog computer. Now I get why it is analog and also what makes it programmable (accounting for the length of day and night), but what makes it a computer? It gives the time, does that make all clocks computers?',\n",
       " '&#x200B;🔵 Parametric and non-parametric statistics 🔵  🧑\\u200d💻 If you have written code before you have heard of a parameter. It is what a function takes as input to do some computation on and return an output. Similarly, probability distributions have parameters. These define the properties of the distribution.  🔔 In the case of a normal distribution, the mean and standard deviation are its parameters. The mean controls the position of the distribution while the standard deviation controls the spread or \"peakiness\" of the bell curve.  ⛷️ In the parametric approach, the model consists of a finite set of parameters that characterize it. The big assumption that a parametric model makes is that the model will do well on the task if the underlying distribution from which your data is sampled matches the model. If that is not the case the model and data mismatch will hurt the performance on the task you care about.  🤸 A non-parametric model does not rely on parametric assumptions and is generally more flexible. It is a good choice if you do not have any prior knowledge about what could be a good model that reflects your data distribution. A histogram is a good example that can model points sampled from an arbitrary distribution.  🧐 However, there is no free lunch: you will need enough data points to get a good approximation otherwise the histogram will look nothing like the underlying distribution.  \\\\---------------------------------------------------------------------------------  If you like such content and would like to steer the topics I cover, feel free to suggest topics you would like to know more about in the comments.',\n",
       " 'Not homework, just math.Suppose there is an arrangement of X mines on an M x N grid. A player enters a sequence of clicks, which each \"flood fill\" outwards until adjacent mines are hit. They make logical deductions/inferences whenever possible, and if they need to guess, they will take any guess that is 50-50 or better. They do not have any intuition - i.e. they will not visually analyze the grid to see if one safe click is \"better\" than another.What is the upper bound for the number of guesses such a player may need to take?',\n",
       " '**Brief: looking for more ideas on exercises for TM - share please if you had some in your CS course or seen somewhere.**Always been fascinated by Turing Machine concept, decided to collect some puzzles to be solved with it on my site. However after adding first three ([these]()) feel lack of good ideas:1st and 2nd are about making copy of a line of characters and incrementing binary value. There could be combinations and variations (copying line of different characters and incrementing ternary, octal, decimal value... or count characters in a line making result a binary value) - but after grasping principle these do not make additional fun (unless I am missing some whimsical approach).3rd is about implementing [Rule 30]() one-dimensional cellular automaton with TM, I am somewhat glad with it (since I managed to solve it).Have in mind something like checking bracket balance or wiping out comments in C++ / Python source. However these seem to be more about general sense of state automaton rather specifically TM...So would be really glad for any suggestions! Perhaps you have come across something in university or played with TM for personal fun etc... thanks in advance!',\n",
       " 'I Am wondering if there is a name for 256 bytes, like how ~1000 bytes is a kilobyte, or ~1000000 bytes is a gigabyte?',\n",
       " 'I have been trying to wrap my head around it, but i do not get how the publick and private key are combined.Like, if i only i know the key, and i use it, the receiver will not be able to decript it, or will it?And if we both have it, it means it was shared before being aplied, and i sent it to the receiver through simetric enciption, thus defeating the purpose of it existing since everyone with the public key (wich i am assuming is public) can decript the message and find what the private key is?...What am i missing here? I cannot seem to find any explanations that made me understand it, if you know any good explanations plz share!Edit: The problem is that i thought that the public key was  some preexisting key, when in fact it is generated by me at the same time I generate the private one, I share the public one, te receiver uses it to encrypt stuff, and only the private key can decrypt what was encrypted with the public key, and, it is very hard (close to impossible rn) to get the private key by looking at the public one!',\n",
       " 'Hello redditors, I humbly ask for your assistance...Here is the elaboration: I am a computer science undergraduate with a relatively decent amount of pre-existing background knowledge in computer systems and some programming, and I have an interest and some supplemental education in astronomy as well as a semi-professional observatory which I use actively. In my future academic career (I intend on pursuing a M.Sc. and Ph.D.) I would like to focus my research and studies around theoretical systems which could help humans and machines travel, explore, and survive in space. The question is... What would actually be the best way to start tackling this in order to one day be worthy and knowledgeable enough to pursue this? There is no subject such as \"astrotechnology\" so I am a bit at a loss. Also, how do \"theoretical\" papers consisting more of science/evidence-backed ideas (rather than experimental results) even get accepted and published by journals???I would be grateful for any pointers. <3  P.S. - Not sure if it matters, but I doing a degree in health science alongside computer science. Also - due to where I live and financial constraints - my resources are limited; I have only my mind, my computer, and the internet.',\n",
       " \"&#x200B;🔵 k-means Clustering 🔵🔱 The k-means algorithm divides N data points into K disjoint clusters. It is a well-known unsupervised learning model. This means that the k-means algorithm only requires the data points and does not need the corresponding cluster that each point belongs to as this is what the algorithm figures out.✨ The clusters are found by allocating points in such a way that the total variance of the points within each cluster (intra-cluster variance) is reduced or minimized. Although it iterates quite fast, the k-means algorithm can have varying cluster formations based on the initialization. It has been widely implemented in many software packages. The scikit-learn package for python is the one that I have used most often.🔁 The most common method to perform the clustering is iterative. It alternates between two steps: (1) assigning each point to a cluster based on the point's closeness (or distance) to the cluster center and (2) updating the cluster center (called mean or centroid; hence the name k-means one for each of the k clusters) based on all the points that belong to this particular cluster. The iterations are usually performed until the centroids stabilize (converge) between consecutive iterations.🤓 K-means is popular in scenarios where the data is known to consist of multiple groups (distributions) but it is unknown which point belongs to which group (cluster). It can be used for data analysis and splitting data that comes from multiple distributions, image segmentation, color quantization among other things.\\\\---------------------------------------------------------------------------------I have been studying and practicing Machine Learning and Computer Vision for 7+ years. As time has passed I have realized more and more the power of data-driven decision-making. Seeing firsthand what ML is capable of I have personally felt that it can be a great inter-disciplinary tool to automate workflows. I will bring up different topics of ML in the form of short notes which can be of interest to existing practitioners and fresh enthusiasts alike.The posts will cover topics like statistics, linear algebra, probability, data representation, modeling, computer vision among other things. I want this to be an incremental journey, starting from the basics and building up to more complex ideas.If you like such content and would like to steer the topics I cover, feel free to suggest topics you would like to know more about in the comments.\",\n",
       " 'I have been on the lookout for a UTM description, and I have found a machine with only 2 states and 3 symbols. I thought, how neat, it is so simple! I put the description into a TM simulator, realized I had no idea how to use the rule set, and took to the internet again to figure out why. Turns out, it simulates a 1D CA, which I know to be terribly time and space inefficient, and very hard to understand. It makes me wonder if there is a larger, synthetic ruleset, one with more internal states but only 3 symbols (1, 0, and empty symbol), one that can reasonably be experimented with, one that can be programmed more easily?',\n",
       " \"This is a follow-up to my question of how many states and symbols a TM would need to simulate a TM with an arbitrarily large number of states and symbols, that was answered for me, the answer is 2 states and 3 symbols. But I cannot find a proof for this, or even better, an example. Also, is there a proof that a 2-state 3-letter TM is the simplest universal TM? Could a 2-state 2-symbol simulate bigger TM's, or could a 1-state 2-symbol TM work?Edit: I found a [source]() for the description of the (2,3) UTM, as well as some larger UTM's. However, the description of the Turing Machine does not prove anything to me, because it is only half the story. I would also need to know what the tape looks like while it operates to gather anything.E2: I have now learned that the (2,3) TM is universal because it simulates a specific 1D CA that has already been proven to be universal, however this pushed the question out for me, so I looked up a proof that 1D CA are universal, and I found that it can simulate some other thing that is been proven to be universal, and soon enough the question was put back onto the UTM and why it is universal. Either I am stupid or the internet is.\",\n",
       " 'When, say, in C++, we say `void* ptr = &my_var`, we set ptr equal to the memory location of my\\\\_var.  Okay.  But where does this memory location number come from, and why/how do we actually access it?  Say we have our memory as 5000 bytes of data, in 1D.  My understanding is that each byte in memory has its own address, but I do not understand the mechanism for how.   I understand that it is like a \"house address\" and we need it in order to find a value stored at a given location.  But at the most basic level, where are these addresses coming from? The hardware? Or is this just something we are adding to that byte of memory (sort of like metadata in Numpy arrays)? If that is the case, then does this not take up some of the memory? E.g. we have a memory location of 13413241 let us say.  Where is this value stored? I would assume that all the memory locations, all these integers, are inherent to the computer we are working on, and thus always exist.  Is this entirely separate from \"memory\" in terms of how big our program is (if they always exist anyways)?  It just seems like we can pull these memory addresses out of thin air.  If I define say `x = 5`, is it always the case that I have also implicitly defined `some_pointer = &x`, and is this now in my program\\'s \"memory\"?   Unless the memory location is not \"bundled\" to that 5, I do not see how the pointer \"knows\" the memory location.  Maybe all of this is happening at the hardware level and I am too focused on the software level.  I have not found any articles that explain what I am looking for, only what a pointer is.  Maybe this is more of a question about what the `*` and `&` operators are actually doing.It might be evident already, but I almost exclusively use Python.  In Python, we can define a variable, which will always be equal to some object, and then we can set that variable equal to other things, namely we are just telling that variable to now \"point\" at a new object: but the previous object still exists in memory, it just is not referenced.  However, my understanding is that Python does not actually have pointers, so my understanding may be tainted pretty heavily by the Python id() function which returns the location in memory, and also by how variables and objects interact in Python.',\n",
       " 'My current understanding is that Python does not support pointers because it is against the \"Zen of Python\" but it does have id(my\\\\_obj), which returns \"the object\\'s address in memory.\"  How is that not a pointer and what is the difference between the Python id() function and a pointer in C++?  Are both not just an integer representing the object\\'s location in memory?',\n",
       " '&#x200B;🔵 Eigenvectors 🔵🚀 An eigenvector is a special vector associated with a linear transform. It is special in the sense that after applying the said transform it does not change direction but only gets scaled (multiplied by a scalar value) by the eigenvalue.🔨 Each eigenvector comes with a corresponding scalar called the eigenvalue. Breaking a matrix M into its eigenvalues and corresponding eigenvectors is called eigendecomposition.🔭 The word \"Eigenvector\" comes from \"eigen\" in German where it means \"its own\". It was originally used to study rigid body motion and in the discovery of principal axes. However, nowadays it has found its way into a wide array of applications from my favorite: principal component analysis, differential equations, and problems in physics and chemistry relating to wave transport and molecular orbitals.🎭 Another one of the classical applications is the Eigenfaces project for facial recognition. Eigenfaces decompose a face as a composition of face templates (basis) called eigenfaces. Imagine N eigenfaces E\\\\_1, ..., E\\\\_n when given a new face F it can be written as a composition of each of these N eigenfaces for example: F = (10% of E\\\\_1 + 55% of E\\\\_2 + 35% of E\\\\_3). Each eigenface would represent a meaningful feature in the high-dimensional space of faces.\\\\---------------------------------------------------------------------------------I have been studying and practicing Machine Learning and Computer Vision for 7+ years. As time has passed I have realized more and more the power of data-driven decision-making. Seeing firsthand what ML is capable of I have personally felt that it can be a great inter-disciplinary tool to automate workflows. I will bring up different topics of ML in the form of short notes which can be of interest to existing practitioners and fresh enthusiasts alike.The posts will cover topics like statistics, linear algebra, probability, data representation, modeling, computer vision among other things. I want this to be an incremental journey, starting from the basics and building up to more complex ideas.If you like such content and would like to steer the topics I cover, feel free to suggest topics you would like to know more about in the comments.',\n",
       " '?',\n",
       " 'So Apparently Microsoft was trying to store date in a 32 bit signed integer. But the max value of that is 2147483647, so why cannot January 1 2022 be stored?',\n",
       " 'Hey guys I just thought about teaching Classes, Inheritence, Dependency Injection etc. (you get my point) with Minecraft. Nearly everyone knows the game and a block serves as a great example for a class. It has specific attributes like texture etc. and there are lots of subclasses. Additionally you could discuss how those blocks could be stored, which sort of database would be suitable etc. What do you think about this?',\n",
       " 'Bit of background: I am a Computer Science student and a software developer, have been programming for several years now.I have been wondering about this for a while now, but how come the Installer of a software is sometimes much much lighter than the software itself? As I understand it, the concept of an installer generally is to compress the necessary files for a software, and then distribute the files in the PC + configure whatever settings required to operate the software (add registry records etc.).But sometimes the weight difference between the installer and the software is really big, like several GBs big, and for games it is sometimes up to a couple dozen GBs even when the installer is an offline one (as in does not have to download extra data in order to finish).I do not see how these variations can be achieved using conventional compression, especially when the compressed files are not simple textual data.Am I missing some key point in how installers work? Is it really just simple compression and decompression? Am I just exaggerating the weight differences? (I really do not have a concrete example of an installer that behaves that way at the moment, but if memory serves me right that was the case with many of them)',\n",
       " 'When I studied algorithm, people talked about time complexity and bigO notation. What I want to know is that if given an algorithm whose running time is O(n\\\\^2), if I run the algorithm on a quantum computer, does it necessarily reduce the running time to O(n), that is, the sqare root of n\\\\^2?And if given an algorithm whose running time is O(n\\\\^3), does a quantum computer reduce it to O(n\\\\^(3/2)), that is, the square root of n\\\\^3 ?',\n",
       " 'I read some articles about memory alignment and while I was reading about the advantages of memory alignment I read about caching. It was not very clearly explained that how memory alignment helps in caching. I would be delighted if someone could explain this to me.This [Stack Overflow answer]() mentions that memory alignment is helpful for caching. I know that aligned memory makes the fetching of the data faster because the CPU does not need to shift the bits in two reads and then combine the results in the register. I got to know about this from this [IBM Developer article](-dalign/).Thanks!',\n",
       " 'Pretty much title, i know that CPU fetches a unit from memory and then it decodes it, but i do not know what exactly that means or how it works',\n",
       " 'how can computers with different systems that have different data type representation communicate properly? what is the concept behind it, any links or articles would be appreciated.',\n",
       " \"In **JS**, array.push() is always O(1) since even if need to 'extend' the current array as the reference to the last item is simply removed.In **Java**, there is no array.push() and O(n) as need to shift all the elements to a the new array.Is there any resources available that show different time complexities for different programming languages?   Happy 2022!\",\n",
       " 'Hello, I understand a database containing passwords should be hashed using some sort of key, but I understand that each entry should be encrypted again in some other way. What I cannot understand is how that works. I would love a few pointers to some resources if anyone knows of any. Thanks :).',\n",
       " \"I have not personally experimented with a Turing Machine implementation myself - mainly because building my own implementations makes learning about the concept easier and more fun - but I know enough to know that TM's can simulate TM's, even if at a slower and smaller scale, which makes me wonder.If a Turing program exists that simulates the entirety of a Turing machine inside a Turing machine, how many internal states would it need to run such a program? Would this number vary depending on the size of the tape's alphabet, or the number of states the simulated Turing Machine can be in?EDIT: I found the answer, though I do not yet understand it. a 2-state, 3-letter Turing Machine can do this. I am searching the internet for proof that that is true.\",\n",
       " 'So before I start I literally had the idea 5 minutes ago and I hope to explore it more thoroughly with you guys by finding possible problems and possible solutions. So I encourage you to have a think before you comment so we all get the maximum benefit. Let‘s get started!So knowledge is something that people love. Rightly so! Knowledge helps solve all sorts of problems. In fact, it is a very valuable resource in any given arena. However knowledge also has its own statistical topology. There is ways in which you can get to the next theory quicker and more fundamentally. So why do not we try and teach the AI this!?We define a computable theoretical topology with a small amount of variables. Mathematics itself would be preferable because it is relatively data minimal. Then we define the axioms of our current understanding of mathematics. Then we let the AI invent knew theories and check it against our current ones. Where am I dreaming?',\n",
       " 'I am playing around with manually operated mechanical computers (think the abacus, crank calculator, etc.) and I am wondering if there is other deterministic architectures exactly as powerful as the Turing Machine?&#x200B;Edit: I have done some hours of research and discovered an online copy of Stephen Wolfram\\'s \"[A New Kind of Science](/)\" that includes some mechanisms that match closely what I was looking for, such as [tag systems](--tag-systems/), [register machines](--register-machines/), and [substitution systems](--substitution-systems/). I do not know if any one of them are Turing complete yet, but something tells me at least some of them are.',\n",
       " 'Someone was talking about the y2k bug, whrich reminded me of the 2038 bug and I pulled up the Wikipedia page to read up on it again.  I was under the impression that it would flip down to all 0s and move us back to 12/31/69 but I found out I was wrong and that it will just flip the sign when that happens and move us back to 12/13/1901.But why was time stored as a signed integer anyway?  Was there an expected need to work with negative time?  If it was unsigned would not that buy us a few more decades to procrastinate before needing to fix it?',\n",
       " 'Good day everyoneRecovering sz here, on meds and in therapyIv been researching the incidences you hear about where, social media,google or the internet seems to read peoples minds. I think its quite common and alarming.You often hear folk say they do not mention aloud what their thinking let alone have it in their search history or have any record of it, they simply thought it and received an ad or a search suggestion.My question is this ;How is this possible? Iv heard its a predictive algorithm but how does it do it exactly? Is it really an algorithm if its right time after timeIv heard of confirmation bias as well but i do not believe that is what this isAny help appreciatedHave a good day',\n",
       " 'Good day!I have been wondering, what is so random about memory?',\n",
       " \"I am thinking some sort of website that automatically plots released processors vs their number of transistors or transistors per dollar against time.It feels obvious enough that either someone is already done it, or it would not work, but all I have been able to find is a [static graph on the Wikipedia page](#/media/File:Moore's_Law_Transistor_Count_1970-2020.png).\",\n",
       " 'I have been following a YouTube channel called Two Minute Papers for some time now and it is awesome stuff. I am a computer science major currently in college (senior) and I was wondering how I could get started or have some fun learning and training my own algorithm based AIs?Also, I have done research online with regards to this but I have not found what I am looking for. My real question is, how do AI “scientists” get their start? Are they all geniuses that are self taught or is there actually a major/education route you can take to become one?',\n",
       " 'Hi, I am trying to make a genetic algorithm to play chess. My problem is with finding the fitness value for each model. Currently, I just pair each agent with a random agent and the winner adds to his score while the loser subtracts from his score. But I find it not very effective because while having a generation of 10 I only play 10 games and it is not enough to evaluate which agents are best. Moreover, I cannot match every agent with every other agent since it will take fo ages to complete training. What do you think is the best way to know which agents are the best with minimum games between them?',\n",
       " 'I came across the following logic problem:&#x200B;&#x200B;In this problem, you are required to match the real names of basketball players to their nicknames, and sort the basketball players by their heights. Normally, this problem would require you to manually enumerate different combinations of names-nicknames and names-heights, until there are no contradictions according to the conditions below.&#x200B;I was wondering if these kinds of problems can be solved by brute force using programming languages such as R.&#x200B;For example, the code below lists every possible combination of basketball players by height:        my_list = c(\"Bill\", \"Ernie\", \"Oscar\", \"Sammy\", \"Tony\")        d = permn(my_list)        all_combinations  = as.data.frame(matrix(unlist(d), ncol = 120)) |>      setNames(paste0(\"col\", 1:120))            data_frame_version = data.frame(matrix(unlist(d), ncol = length(d))        matrix_version = matrix(unlist(d), ncol = length(d))         #first 20 rows of matrix version:             [,1]    [,2]    [,3]    [,4]    [,5]    [,6]    [,7]    [,8]    [,9]    [,10]   [,11]   [,12]   [,13]   [,14]   [,15]   [,16]   [,17]   [,18]   [,19]      [1,] \"Bill\"  \"Bill\"  \"Bill\"  \"Bill\"  \"Tony\"  \"Tony\"  \"Bill\"  \"Bill\"  \"Bill\"  \"Bill\"  \"Bill\"  \"Bill\"  \"Bill\"  \"Bill\"  \"Tony\"  \"Tony\"  \"Sammy\" \"Sammy\" \"Sammy\"    [2,] \"Ernie\" \"Ernie\" \"Ernie\" \"Tony\"  \"Bill\"  \"Bill\"  \"Tony\"  \"Ernie\" \"Ernie\" \"Ernie\" \"Sammy\" \"Sammy\" \"Sammy\" \"Tony\"  \"Bill\"  \"Sammy\" \"Tony\"  \"Bill\"  \"Bill\"     [3,] \"Oscar\" \"Oscar\" \"Tony\"  \"Ernie\" \"Ernie\" \"Ernie\" \"Ernie\" \"Tony\"  \"Sammy\" \"Sammy\" \"Ernie\" \"Ernie\" \"Tony\"  \"Sammy\" \"Sammy\" \"Bill\"  \"Bill\"  \"Tony\"  \"Ernie\"    [4,] \"Sammy\" \"Tony\"  \"Oscar\" \"Oscar\" \"Oscar\" \"Sammy\" \"Sammy\" \"Sammy\" \"Tony\"  \"Oscar\" \"Oscar\" \"Tony\"  \"Ernie\" \"Ernie\" \"Ernie\" \"Ernie\" \"Ernie\" \"Ernie\" \"Tony\"     [5,] \"Tony\"  \"Sammy\" \"Sammy\" \"Sammy\" \"Sammy\" \"Oscar\" \"Oscar\" \"Oscar\" \"Oscar\" \"Tony\"  \"Tony\"  \"Oscar\" \"Oscar\" \"Oscar\" \"Oscar\" \"Oscar\" \"Oscar\" \"Oscar\" \"Oscar\"And this code below records every possible combination of name-nickname:        list.a <- as.list(c(\"Bill\", \"Ernie\", \"Oscar\", \"Sammy\", \"Tony\"))        list.b <- as.list(c(\"Slats\", \"Stretch\", \"Tiny\", \"Tower\", \"Tree\"))        result.df <- expand.grid(list.a, list.b)    result.list <- lapply(apply(result.df, 1, identity), unlist)    result.list <- result.list[order(sapply(result.list, head, 1))]         head(result.list)    [[1]]       Var1    Var2      \"Bill\" \"Slats\"         [[2]]         Var1      Var2        \"Bill\" \"Stretch\"         [[3]]      Var1   Var2     \"Bill\" \"Tiny\"         [[4]]       Var1    Var2      \"Bill\" \"Tower\"         [[5]]      Var1   Var2     \"Bill\" \"Tree\"         [[6]]       Var1    Var2     \"Ernie\" \"Slats\" The way I see it, the two objects (\"matrix\\\\_version\" and \"result.list\") should contain the right answer to this logic puzzle - I just do not know how to extract the correct combination from these two objects such that the logical conditions are respected.Can someone please show me how to do this?Thanks!',\n",
       " 'Hello,I have a hard time picturing how the CPU instructions, the operating system, and applications work together.What I mean by that is the following, we have an application that is compiled, now it is converted to CPU instruction (I guess ??), but then this app is using system calls to interact with some I/O devices, how does this system calls go through the OS? And if it is just an instruction that invokes an OS function that makes that system call, what prevents the application from calling the I/O directly or \"hacking\" that function by pretending it is another process ( as an example a process reading data from a socket owned by another process).Thanks',\n",
       " 'I see all kinds of marketing about machine learning and AI but I do not think any of it passes the Turing test. Are there other tests that are used to determine when artificial intelligence is achieved? Maybe I am missing something but I do not think AI exists yet, thought?',\n",
       " \"Let Us say i declare int x and x's adress is 1 for example. Since x is an integer it will take adesses 1-4. Then let us say i declare a float and its adresses are 5-8 How does the computer know that the data type of adress 1-4 is int and 5-8 is float? Does it also have another memory address that points to those 4 memory adresses that says that those are integer and float types? I know ints and floats are represented differently in binary but in the end its all 32 bits so the computer could read it however it pleases. 32 bits can be read as an integer or as a completely different float. That Is why i do not know if the computer leaves another address just to say what data types are on certain adresses or does it work differently?\",\n",
       " 'Hello! I am somewhat new to programming. I am wondering what you are recommendations are for resources (books/YouTube videos/websites etc.) that explain theoretical concepts behind programming and programs. One example of what I mean by \"theoretical concepts\" would be explaining what data structures are, from their smallest components to abstract ideas. The goal is to understand what exactly is happening when programming, not just learning which statements and syntax to use for any particular language. Thanks a lot!',\n",
       " 'Rob Pike\\'s 5 Rules of Programming&#x200B;\\\\#Rule 1.\\\\*You cannot tell where a program is going to spend its time.Bottlenecks occur in surprising places, so do not try to second guess andput in a speed hack until you have proven that is where the bottleneck is.\\\\*&#x200B;\\\\#Rule 2.\\\\*Measure. Do not tune for speed until you have measured, and eventhen do not unless one part of the code overwhelms the rest.\\\\*&#x200B;\\\\#Rule 3.\\\\*Fancy algorithms are slow when n is small, and n isusually small. Fancy algorithms have big constants. Until you knowthat n is frequently going to be big, do not get fancy. (Even if ndoes get big, use Rule 2 first.)\\\\*&#x200B;\\\\#Rule 4.\\\\*Fancy algorithms are buggier than simple ones, andthey are much harder to implement. Use simple algorithms aswell as simple data structures.\\\\*&#x200B;\\\\#Rule 5.\\\\*Data dominates. If you have chosen the right datastructures and organized things well, the algorithms willalmost always be self-evident. Data structures, notalgorithms, are central to programming.\\\\*&#x200B;\\\\*Pike\\'s rules 1 and 2 restate Tony Hoare\\'s famous maxim\"Premature optimization is the root of all evil.\" KenThompson rephrased Pike\\'s rules 3 and 4 as \"When in doubt,use brute force.\". Rules 3 and 4 are instances of thedesign philosophy KISS. Rule 5 was previously stated byFred Brooks in The Mythical Man-Month. Rule 5 is oftenshortened to \"write stupid code that uses smart objects\".\\\\*',\n",
       " 'I have recently taken an interest in chess engines.  I am looking for seminal books that discuss the algorithms used in modern chess programming. There are lots of algorithm books out there. Recommendations?',\n",
       " 'Hello everyone,We all know how Computer Science is such a fast moving and evolving field, but where do you even find out what the next big thing is in the field? Youtube/TikTok tech influencers? Blogs? News? And say you find out that X, Y and Z are three new things in Computer Science. Does this mean we should learn all of X, Y and Z if they relate to our field of interest?Thank you!',\n",
       " 'Impl in referring to is here:/I cannot find any intuitive explanation online that motivates or proves the correctness of this algorithm.  It does not appear to be the \"clever\" triple reverse method for implementing rotate with O(1) extra space.',\n",
       " 'I am just now, starting to learn about security as a full stack engineer.In terms of security, does it make sense to separate the database for user authentication w/ the db that stores user data? My approach for a project I am doing is to salt and hash raw passwords (unique salt per password) server-side, and compare that hash output with the stored pre-computed hash output, to do user authentication.What happens after? I feel like if you can protect the integrity of user->pass and therefore user->userData, it does not matter whether userAuth db and userData db are separate or not, b/c it would be a pain for a hacker to determine data ownership (assuming data does not hold identifying info). Is there a principle I can follow about separating data/processes into different databases?Also, are there any resources one would recommend for application-focused security practices? I do not want to be the security guy, I just want to learn some basic high-level understanding.',\n",
       " 'Who can submit papers to NeurIPS? Are there any specific requirements or qualifications for authors?I looked in their website and could not find an answer.Thanks!',\n",
       " 'I am new to this stuff so maybe my question is not phrased correctly...',\n",
       " 'Hi everyone,I want to read some books related to mathematics and computer science. I am not looking for a book to learn a topic I do not understand; I am just trying to find a book about computer science and/or maths to read to have fun with and to learn something new.To clarify, I will give an example, although the math is more basic than what I am looking for: The book of numbers by John ConwayThanks in advance',\n",
       " 'Hello,Is there any latest research going on in OS? I find OS specifically very interesting and wish to do research on it.',\n",
       " 'So, I know that a compiler takes the code that you write and processes it into machine code. But what is the role of assembler/assembly language here?',\n",
       " 'public static int recursiveFunction (int n ) {     if (n==100) return 606;   if (n == 99) return 600;   return recursiveFunction(n+2) -12; }&#x200B;it seems in the worst case scenario this runs forever so I thought it is O(infinity) but my Prof put O(n) in the exam as the answer. can someone tell me if my answer is acceptable?',\n",
       " 'I am doing a personal project where I will steel man the arguments for AND against a decentralized blockchain led future, and then write a formal dialogue between the two perspectives with citations.I have done a fair bit of research thus far and have found it much easier to find pro-blockchain future articles/resources (this is not surprising to me), but am still looking for more of both. However, I would be really happy with some solid bear arguments because the ones I have found are not especially convincing. They do more to explain the limitations of blockchains and call out the flaws in maximalist thinking.Can anyone link some really interesting/compelling content for either side? I would really appreciate it, and will absolutely share my work here when it is done!',\n",
       " ' Part One: [-elf](-elf) Part Two: [-elf-2](-elf-2)',\n",
       " 'Recently, I have started looking into search engines and some algorithms that get used for crawling and ranking the pages on certain factors.I wanted to understand different perspectives on ideal ethics we should adopt while creating something similar of our own. I very much know that the combination of keywords generate different results but my question is how to go about some of these keywords which can be borderline non acceptable. For example, someone recently pointed this out to me. The word voyeur is not shown in search recommendation although some movie with same name recently came out and is available on Prime. So this got me curious and i searched for the actors in the movie with that movie\\'s keywords and results were not according to my expectation to say the least. (search for Sydney Sweeney voyeur and go to images/videos tab and you will understand my point)This also leads to another question regarding the most popular search engines that we use everyday...so suppose some particular word is not \"acceptable\" according to societal norms but gets very popular due to certain pop culture catalyst. How does these search engines work around that to handle these cases ?  [Because any 12 year old who uses Amazon prime will see the movie Voyeurs there on the home page and will go to Google to search for actor etc and my good it can be daunting]P.S. I hope i have not derailed too much in the description but the title should give away the gist. And sorry for the typos, typing from mobile.',\n",
       " 'Hi , I am a bit confused about the ways in which an ALU is designed , So and ALU has mainly 2 operations: Arithmetic And Logic , The Arithmetic part is mostly achieved through Adders but what about the logic part?I saw an online article and they used AND , NOR , XOR gates , but why those gates specifically? , Would not it make more sense to use AND , OR , NOT gates as they are the basic logical gates? I am extremely new to this stuff , Am i missing out on something?',\n",
       " ' I just started learning networking and I was playing with tracert.One  of the outputs got me wondering. I Am in Europe and trying to access New  York server. &#x200B;    Tracing route to 104.21.24.154 over a maximum of 30 hops          1     4 ms     1 ms     3 ms  192.168.0.1    ...      5     9 ms     5 ms     6 ms  xe-8-1-3-3180.bar1.Sofia1.Level3.net [212.162.46.177]      6     *        *       33 ms  ae-2-3216.ear4.Frankfurt1.Level3.net [4.69.210.66]      7    41 ms    33 ms    36 ms  195.122.183.210      8    33 ms    30 ms    38 ms  104.21.24.154 The 7-th address is in  Germany  and  the 8-th (destination) is in New York. So how is the communication  between the two routers performed?Are  there routers between the last two points that tracert cannot find  information for or a satellite communication or a really long cable?',\n",
       " 'id love a book that is like a history lesson but also showing the technical details that the founders struggled with and eventually solved. basically a book where, if i was teleported in time and space to the lunch room of the inventors i would understand the conversation they have about what they are trying to figure out. I know it sounds a bit vague since its a very big topic but i am interested in both the hardware and the software, like anything from 1930s to 1970s.',\n",
       " ' The background of this question comes from me the fact that in Skiena\\'s book \"The Algorithm Design Manual: Second Edition\" page 85:He claims that the delete-minimum operation for the priority queue when implemented with a balanced search tree will have O(log n) time complexity. But, I disagree with that statement IF the nodes in a balanced search tree have a parent node field. Because since we have a pointer to the minimum it takes constant time pointer manipulation to unlink the minimum node and since the new minimum node will be the parent node, setting the pointer to the new minimum also takes constant time. Unless my assumptions on how a balanced search tree is misguided (I assume a balanced search tree is functionally equivalent to a binary tree, except its self-balancing process), then the delete-minimum operation should have O(1) time complexity. Where have I gone wrong?',\n",
       " 'Hi,I am trying to understand the concept of delayed abstraction from the following paper at:[VerX](-verx.pdf)     To verify a Past LTL specification of a bundle of contracts C    we apply abstract interpretation over a symbolic domain.    We employ predicate abstraction [35] but without the usual    conversion to boolean programs. Our approach is similar to    that of Flanagan and Qadeer [32] where two transformers are    alternated: precise symbolic transformers to handle individual    commands, and an imprecise transformer to ensure convergence.    In contrast, classic abstraction applies an imprecise    transformer at every step. Hence, we call the precise/imprecise    approach delayed abstraction.Somebody please guide me.Zulfi.',\n",
       " \"I know that data structure alignment is done to prevent a data structure being stored across two memory blocks. This was explained by you/AuntieSauce in another post I created regarding [the internal working of structs](/).> Now, why does the second rule ensure we do not have one element of a struct stretched across two blocks? Here is an example: let us say we have a struct that an 8 byte element and a 1 byte element:> > | 8 bytes | 1 byte> > Now, let us say we want to make an array of structs. Each struct is 8 bytes in size, and arrays are stored contiguously in memory, so we have>> 8+1 bytes | 8+1 bytes | 8+1 bytes | etc…> > If our array is large enough we will eventually approach the end of a block. Will a block size ever be divisible by 9? Like, almost definitely not. So you will get the end of the block with less than 9 bytes of space left, and the struct will get chopped!In the Wikipedia article about [data structure alignment](), it is written that CPU can efficiently read memory when it is data structure aligned.> The CPU in modern computer hardware performs reads and writes to memory most efficiently when the data is naturally aligned, which generally means that the data's memory address is a multiple of the data sizeSo my question is that how does data structure alignment actually help in the efficient memory reads by the CPU.Thanks!\",\n",
       " \"Hello, I have gone through Tanenbaum's books on OS. They are very informative and interesting. So much that I googled about the author and his. In his wiki I came to know that he has got degrees in physics and astrophysics from MIT and Berkeley. I am curious as to how he got the expertise to write books and do research on OS? He has other books also like Structured Computer Organization, computer networks etc. It seems like he has studied CS in his physics courses. I dig into his career but could not find any info related to when and where he learned CS. Kindly address me the missing link if anyone knows, as his wiki says he is a established physicist while his books and his career speaks he is a computer scientist.\",\n",
       " 'Any recommendations? Looking for a book that will go through the analysis of algorithms, giving proofs by induction/contradiction etc. Is there well known go-to resource for what I am looking for? Or any suggestions that you just found to be great in general?Thanks in advance.',\n",
       " 'My thought is that even if the DB leaked and even if they got the salt by hacking into the server they would still have to deal with the md5 they would not be able to decode it without knowing the original value is because first, they would have the guess the md5 hashed value that bcrypt generated then decode it with the salt.What do you guys think? I hope that hacking will not be an issue though as my production environment will be locked down pretty well.',\n",
       " 'I am aware this is not an easy task but I do not care. I want to do it. I am an electronic engineer and have experience with electricity, testing and troubleshooting pcbs. I have never designed anything besides simple circuits with lights and switches.. lol. Currently studying software development for a bachelors and I am comptia a+ certified.To be able to design an SBC I definitely need to improve in designing pcbs. I need to improve my understanding of computers so I can have a better comprehension of how some of the components on an sbc will go together.I feel a bit overwhelmed to be honest and wanted to consult you guys so I can define a learning path for me so I can actually start considering designs.If you have ideas or specific resources that would be helpful for me and my intentions I would appreciate it.',\n",
       " '  I was reading the detection of same function reentrancy by Zeus as discussed in \\\\[[Zeus: reentrancy detection](/~joel.reardon/blockchain/readings/ndss2018_09-1_Kalra_paper.pdf)\\\\]. They have done cloning. I cannot understand this method. Is this a valid method of testing a SC because we are modifying the SC. Can we modify the SC during testing?The paper says:    Reentrancy in Solidity can happen via the call method. send only invokes the default function with limited gas for logging purposes. ZEUS handles same-function reentrancy by first cloning the function under consideration, and inserting a call to the clone before the invocation to call. Fig. 14 shows the patched function for the example in Fig. 2. Note that ZEUS ensures that the patch is done within the same basic block so as to ensure that if the cloned function is called, then the invocation to call is also made. Further, we also assert false before the call code. If the verifier finds a path leading to this assert, it indicates a bug.Somebody please help me to understand .Zulfi.',\n",
       " 'I do not mean a coin toss or such thing, as its technically determined as soon as you flip the coin ( gravity, wind etc.), but rather a totally unpredictable event like a programmed coin toss, but I am not sure wether its actually totally random. (sorry for bad my bad english)',\n",
       " 'Hello everyone! I have been reading up on SSH and am trying to figure out why SSH uses symmetric encryption for communication when asymmetric encryption is used for authentication and key exchange.The only reason I can think of is symmetric cryptography allows for fast encryption and decryption. Is there any other reason?',\n",
       " 'Hello, I have been reading on randomized/approximative algorithms books, and while Math is aesthetically pleasing, I wish to get my hands dirty with practical coding challenges or projects.Any recommendations?',\n",
       " 'How do structs work internally in memory. I know that an instance of a struct is a pointer to the first field of the struct. I also know that all the fields of a struct are contiguous to each other in memory so the memory address of the second field of a struct can be accessed by adding the size of the first field to the memory address address of the first field.I am failing to understand that how do we access the consequent fields of a struct with just the memory address of the first field. We can do it in arrays by jumping x bits ahead according to the data type of the array, we can only do this in arrays because the values in a certain array have the same data type. My question is that how do we navigate through the fields of a struct by only knowing the memory address of the first field of the struct.Thanks!',\n",
       " \"    specifiedItem = 'item6'    lists = [['item1', 'item2'],                  ['item3', 'item4'],                  ['item5', 'item6']]        wasItemFound = False        for list in lists:            for item in list:                if item == specifiedItem:                    freeFromIngredient = True                    breakPlease do not just give me the answer, if you could explain how I would calculate it that would be great! Thanks :)\",\n",
       " 'I was curious about the differences in how we treat servers and computers. So for example, if my computer is on for several weeks, it starts to get slow and weird things start happening until I eventually shut down or restart and it comes back up peforming normally. Why is it that servers can stay up for months or even years and not experience the same flakeyness as regular computers. I imagine it has some to do with the OS and some to do with the hardware, but wanted to see if anyone could enlighten me. Thank you.',\n",
       " 'A question: Alan Turing’s approach to Decidability problem(Can we know beforehand if certain numbers and theorems are calculable and provable) was that if there existed a decidable program D that takes another program as input and decides if it will finish, We can encode the program itself and there should exist a decidability program that decides on the program D. So is Decidability Decidable. Well now my question is cannot the answer be yes. That would make an infinite chain of decidability programs but that does not mean it is logically incoherent as suggested by the analogy used that this problem reduces to logical problem that arise from:“this statement is false”.Why is the answer No?',\n",
       " 'Does anyone know how far a one terabyte file can be compressed? What is the limit of today’s technology compared to 2000 and 2010? Regarding the compression of a file. If one terabyte holds 1,000,000,000,000 bytes, what is the utmost limit of compression?If data loss will occur, tell me the limit for both. With and without data loss.Edit: Let us say the data is an entire computer full of word files, photos, and videos. I know it is basically impossible to state an exact amount of word files, photos, and videos, however, I am stating an example. One terabyte of your entire computer. Going off the assumption that your computer is exactly one terabyte of data.Edit 2: If someone has an exact example, let me know. For example, your own computer. How much would you be capable of compressing? Let me know the beginning size and then the compressed size.',\n",
       " 'Hey all, I am looking for some software architecture design books or websites that can help me devlop and understand large and scalable projects. It is difficult trying to find readings that are not aimed at newbies. Really just looking to advance my skills. Java is my primary language if it matters.',\n",
       " 'I was watching a youtube video about coding interviews and after looking in the comments, someone was claiming that [this]() algorithm had a time complexity of O(n) where n is the size of the array.I have more of a technical background rather than a CS one so this is my thinking when approaching this:Because he is taking each integer in the array and brute force testing it against all other integers in that array and then moving onto the next integer if there is no match, the algorithm will take exponentially more time as the array size increases and therefore has a time complexity of O(n^2).For example, an array with 2 integers will have 4 (2^2) total pairs: 00, 01, 10, 11,While an array with 4 integers will have 16 (4^2) pairs: 0000, 0001, 0010, 0011, 0100, 0101, 0110, 0111, 1000, 1001, 1010, 1011, 1100, 1101, 1110, 1111So which one is it? O(n) or O(n^2)?',\n",
       " 'Hello everyone, I am learning about the Wired Equivalent Privacy (WEP) protocol. I thought about a possible attack and wanted to know if it is possible:An adversary intercepts a packet/frame that has the initialisation vector (in plaintext) and the ciphertext. They then replace the ciphertext with some other data, and send it to the intended recipient.Is it possible to perform this attack without the recipient detecting that this has happened and without finding the value of the secret shared key? Thanks in advance!',\n",
       " 'So if asked to prove that f(x) = y is surjective, we check if all the elements in the co-domain(y) have an element in the domain(x), so does this mean that we can have an element in x that does not map onto any value in y. i.efor the domain {x1, x2, x3} and the codomain {y1, y2}f(x1) > y1f(x2) > y2f(x3) > blankIs this Surjective? Since I have heard that when mapping, all elements in x are used, but when we check if a function is surjective we only use elements in y to check for x, so there might be some elements in x that do not map to y',\n",
       " 'I am not sure if this is the right place to ask, however, I am going to ask anyways. I am pretty sure one byte equals eight bits. If that is correct, am I correct in assuming that one byte equals one character? Are all characters the same amount of bytes? Like, numbers and letters. Example being; 7 compared to H. They would both equal one byte? Separately, of course. Not together. Also, is a space considered a character byte? Lastly, is there a difference between a email message versus a text message? Pertaining to byte size per character. If this is not the right place for this question, could someone point me to the correct area? If this is the right area, mind answering these questions?',\n",
       " 'Will downloading files wear on a computer? The processes of downloading files, storing information, sending information, etc.Does the process destroy wires, chips the memory drive, etc?Does a file physically imprint itself in such a way that it can never be completely erased?Is there a field of study that relates to my specific interest?Thank you',\n",
       " 'Forgive me if this is the wrong sub for this, but I am kind of getting desperate at this point.Can anyone explain in a dumbed down manner how the following lines from [Bresenham\\'s Line Drawing Algorithm](-line-drawing-algorithm-2e0e953901b3) make sense? Essentially, this is used to calculate where the next pixel should be drawn when attempting to draw a line between two points in a 2D space:>We use dx and dy values to calculate the initial decision variable (d). value of the decision variable is changed on each step.  >  >d=2dy-dx  >  >Similarly, we need to calculate △E and △NE values. After the first initiation, these values are not changed.  >  >...Like, where does the multiplication come from and why is it arbitrarily on dy and not dx? Not only that, most of this method seems to only account for positive increases, and although it does mention them, it does not give a proper solution to other cases.Also, a \"slope error\" does not seem to be something google wants to tell me about. So, what is the deal with that?',\n",
       " 'I have been working as a software developer for 6 months and during this time I had to write a certain query and did it in the absolute stupidest and unnecessarily complex way that I thought was genius and was very proud of.Meanwhile a coworker had to solve the same problem and I came across his solution. I was embarrassed by it is simplicity and now I feel like a moron.Has anybody had similar experiences?',\n",
       " 'When watching tutorials I often notice them sometimes saying one way is better due to compiler optimizations. I know they treat it as a black box for time reasons but it would be nice to have a compilation that lists what these optimizations are and when the compiler does them. Even without looking at the assembly or atleast an explained version of it.',\n",
       " 'Hello everybody! I am a 4th year Computer Science student. My fiancé’s 10 year old sister has expressed some interest to me about the work I do and said she wants to learn how to code. Does anybody have any resources or advice on how to introduce kids at this age to programming? She is interested in games like Roblox. I just feel like the approach I took to start learning might not be appropriate since I started as an adult.',\n",
       " 'Will there ever be a point were every possible malware type will be detected by antivirus software, making malware nonexistent?',\n",
       " 'So seeing as various types of colds and viruses can autonomously mutate- is it possible for a computer virus to mutate by itself?',\n",
       " 'Can you share a good website, book or other resources where the ideas related to np complete and np hard complexity classes are explained intuitively?I read Cormen and Wikipedia but feel like I want something more. Thanks.',\n",
       " 'Hey, I am not from a computer science background but I do software dev. I was trying to understand VDF and how it works - Verifiable delay function. I came across \\'Modular square root\\' in [=\\\\_-feyaZZjEw](-feyaZZjEw). I was not able to interpret how \"mod\" was being used here. Tried this link: [\\\\_square\\\\_root](), its even confusing. Any resources or material to understand the background will help. Thanks in advance.',\n",
       " 'Hi, I have 0 experience in coding (went to school for Finance), and my end goal is to learn solidity. I want to start with JavaScript but should I learn about Data Structures and Algorithms first or first learn the basics of JavaScript. I also saw that there are courses of Data Strucutres and Algorithms specific to JavaScript. Any guidance would be helpful.',\n",
       " \"&#x200B;So in an adder-subtractor circuit the output for addition will be as an unsigned integer while the output for subtraction will be in two's complement form right?  If so does the circuit not work when the difference is less than minimum two's complement value? For example in two's complement a 4-bit integer can range from -8 to 7 in decimal. But you can input 0000 - 1001 for example. The difference of those two terms would be -9 in decimal which is less than -8 the lowest possible value. So are adder-subtractors unable to work when the difference of the input is less than minimum two's complement value?  Sorry if this makes no sense. I am very confused.\",\n",
       " 'There is a monkey and 10 cages.Each cage has a door and there is a passage between each adjacent cage, not including 1 and 10.The monkey starts at a random cage. Your goal is to find him. You may open and close as many cage doors as you want, but each time you close a cage the monkey must go through a passages to a different adjacent cage. The monkey can enter a previously opened cage (for example, he was in cage 5, you looked inside cage 4 and once you closed it he moved into cage 4).Example:Monkey at 6, you opened 8, you closed 8, monkey went from 6 to 5. You opened 4, you closed 4, monkey went from 5 to 4. Repeating.The goal is to find a method that ensures you will find the monkey in the least amount of doors opened.Me and my friends had a go on this one for about 2 hours, we came up with a 17 moves solution that is I will describe below in the first comment.The person who told us about it said there is a better solution with less doors to open.I hope you can help me find it. Good luck!',\n",
       " 'Sorry if this post does not quite fit this sub but this has been bothering me for ages and I have recently hit a breaking point for my frustration. It just pisses me off that there are 26 letters in the alphabet and 325 pairs of letters you can choose and for some reason the pair that we all seem to use is (i,j).  There are literally no two letters that look more alike and that could get more easily mixed up but for some reason whether it be in code are in my case here in proofs and papers these two letters are always used together.  Why should I have to use a magnifying glass to read a damn proof from a paper that could not have the decency to at least use a better font?And it does not stop at (i,j). We also love to use (m,n), (p,q), (you,v). Like I get it, it is more clear that the variables are related when they look alike, but it should certainly be more important that people do not mix them up???',\n",
       " 'Seems like everyone is talking about NFTs in some capacity but I have not seen a lot of opinions about them from tech literate people, just wondering what the general consensus on them is from a comp sci perspective.',\n",
       " 'I heard about something turning on and off, I do not know anything more',\n",
       " 'Do you think that it is better to teach it with an emphasis on applying calculus to actual problems instead of the conventional way of integrating this ugly monstrous function? If you were to teach it to undergraduates doing CS, then how would you do it?',\n",
       " 'ML experiments often get split between Git for code and experiment tracking tools for meta-information - because Git cannot manage or compare all that experiment meta-information, but it is still better for code.The following guide explains how to apply DVC for ML experiment versioning that combines experiment tracking and version control: [Do not Just Track Your ML Experiments, Version Them](-experiment-versioning) - Instead of managing these separately, keep everything in one place and get the benefits of both, like:* Experiments as code: Track meta-information in the repository and version it like code.* Versioned reproducibility: Save and restore experiment state, and track changes to only execute what is new.* Distributed experiments: Organize locally and choose what to share, reusing your existing repo setup.Experiment versioning treats experiments as code. It saves all metrics, hyperparameters, and artifact information in text files that can be versioned by Git, which becomes a store for experiment meta-information. The article above shows how with DVC tool, you can push experiments just like Git branches, giving you flexibility to share experiment you choose.',\n",
       " 'Imagine you have an neural network system, and its a classifier. It takes in some code and spits out whether or not it will halt or not. You could imagine in a simple case that you train the neural network with code that has a while (true) loop. It clearly halts and the AI can report that it halts with some trivial training examples, probably easily, without the need to do an infinite amount of computation.So theoretically as you expand the sophistication of the AI system and incorporate more training and more examples it should be able to determine whether code halts more and more. It seems obvious, at minimum, that the AI should be able to determine whether a much larger range of code either halts or not without doing any traditional computation. Have there been any cs papers exploring whether AI could expand the reach of solvable verifiable problems traditionally thought to have been out of computational reach e.g. in the np space?',\n",
       " 'I have this question where it asks what the time complexity of this piece of code is. I know that the solution is O(n), but I cannot wrap my head around the \"why\" of it. I was wondering if someone could help explain it to me.',\n",
       " 'Perhaps this is not quite the right subreddit. I am doing some research for a bit of fiction I am working on. Let us say it is built using current or very-near-future tech. The group making it has the resources of a large nation. Their aim is to preserve human knowledge even if we get knocked back into the stone age, and for the device to remain operational for long enough to be used to help rebuild society.What sort of information would it store? What sort of hardware would be able to store and retrieve data for a very long time? What kind of software would run on it? What can be done to make sure it is stable? What kind of software would be most useful for this purpose? What and how do we teach a user who might not even know how to write? How would we power it?How long, realistically, could we make such a device remain operational? What kind of peripherals could this device use? (communicate with a paired satellite in a geostationary orbit, antenna on top of a mountain, etc)',\n",
       " 'What is the difference between data type, structure, schema and model? And what is the relationship between each? Any examples?New to CS and would love to learn more. Thanks!',\n",
       " 'The previous company I worked at and the current company I work at both have implemented some sort of permission system so that end-users or even different organizations could not access data that they were not allowed to.   This sort of feature is actually really important when selling a product. Both implementations have also been absolute cluster-fucks, with a ton of spagetti, edge cases, weird states, un-flexible for future feature requests, etc. &#x200B;In both cases I believe this is due to the original implementors, while smart people, were trying to design a complex system from scratch using their own intellect without taking a look at the problem from a foundational or theoretical perspective.   I might have an opportunity to right some wrongs in the coming year, and I was wondering if there is any material/information out there on how to properly design security/privileges. If i model a proven solution, i think we might end up in a better place.',\n",
       " 'I am taking computer science in school and I will admit, I am not the best at it and I want to change that, I want to get better at coding but I am not sure how I should go about it because I have heard that practise is the best way of getting better at it but I am not sure where I should practise (We are studying python btw)thanks in advance!',\n",
       " \"I am posting here because internet is for once proving useless in answering this question, what is the etymology of screen dump?Over the years the word, screenshot, has taken over for the use of 'dump', but in my native language the word still carries this legacy meaning. I have got a master in informatics and currently doing my phd in information systems research, but cannot for the life of me find the answer. The old-school 70s and 80s professors in my research group, who lived through the nascent computer science days, does not have the answer either.  any old school computer scientists here that might know the reasoning behind this naming? What is the reason for using dump? I have been speculating that it has something to do with how computers back in the day had to dump the memory and not make a screen photograph, but something else. Would love to hear your speculations, or possible answer!\",\n",
       " '\\\\^',\n",
       " 'Tell us about some cool projects that you have worked on.',\n",
       " 'I showed a junior engineer that you can reduce dependencies by using inheritance and only using the parts of the interface you need.For example,class Circle : Shape, UIElement {}And later, if all you need is shape properties, then use a Shape ref to point to a circle, do not require circles.But instead, he is now broken *everything* down into single field classes/structures. E.g.class NameProvider { string name; }class AddressProvider { string address; }class AgeProvider { int age; }class TitleProvider { string title; }class RankProvider { int rank; }class HeightProvider { int height; }...class Thing : NameProvider, AddressProvider, AgeProvider, TitleProvider, RankProvider, HeightProvider, ...I find this level of breaking things ridiculous, and it is become impossible to work with his code. It takes forever to figure out what anything is and where it is defined. But he is in love with this new approach and will not compromise. Is there a formal reason to not break things out so much? Or better yet, is there a test for when you have broken things out the right amount?',\n",
       " 'I just recently finished studying Automata. I found it very interesting and enjoyed the intuitive process, even though I struggled a bit.I was wondering what topics or subject matters would be best to study next?',\n",
       " ' How is it that malware can run on computers that do not have programs that run the language installed? or even certain libraries?Like if i do not have python installed and i get a python virus, how does it run?or if i did have it, but did not have the right libraries, how could it function?sorry if this is a stupid question, i am relatively new.&#x200B;I just really do not understand how code can even run without the right stuff installed.',\n",
       " 'Hi. I am a self-taught developer who studied CS50 and full-stack web development and is solving coding challenges daily. I am trying to become a better developer by deeply understanding the fundamentals of CS but I am not really sure if I will become a better developer by doing so. I came across that website: [/](/)And I found it has old books and 2007 MIT courses. I want to know from more experienced developers out there if it is worth it to study these old heavy textbooks and courses? I am not trying to learn the theoretical side of computer science or something I am just trying to become a better developer who can provide better value for businesses.',\n",
       " 'Was watching presentation by The Guy Steele[]()He describes computation as computation tree.I am trying to find if there are research (books) that focuses on computation trees specifically?Take code -> unfold its execution into computation tree Found this: [\\\\_tree\\\\_logic]()This is close but I was wondering is there something that applies \"computation tree\" in compiler/JIT/interpreter optimization...?Thanks!',\n",
       " 'I am really struggling with the first course on linear algebra and matrices and I find it hard to motivate myself, as I do not know many real-life applications to the things I am learning, or am trying to learn.I know these things have many applications in cs, but since I do not have a clear vision on what I would like to do in this field yet (so far I have enjoyed web deving and I am interested in audio programming and graphics, although I have not gotten into them yet), I do not really know why these things are relevant for me.Any pragmatic examples on why I really should learn this stuff? Thank you.edit: thanks to everyone who has responded, it is greatly appreciated!',\n",
       " \"Alright, to give some background on myself, I am a junior in High School who has been learning to code and programming for the past 2 years in just one language. Anyways, this year, I decided to join my school's CS club where they said they were taking applicants for team leads. I did not really know what a team lead was and they left it pretty vague so I decided to sign up because I felt like why not and that this would probably be a good opportunity for me to learn some leadership skills. This being said, I really did not know what I was getting into. For one thing, I assumed that we would be having team meetings during the club at lunch on Friday when we usually meet, however, in reality I am supposed to schedule meetings on my own. Anyways, this is not really too much of an issue for me however, my largest issue is the fact that 9 people signed up to be in my group, most of them arguably better programmers than me, and others, quite beginner. This is an issue for me because I have never actually coded something not by myself so I really have no idea how to divide up the work into 9 parts given how interrelated everything is in the project. In the same sense, I really have no idea how often I should meet with my group. I feel like the project is fairly simple and I am afraid if we meet even just an hour a week we would probably finish within a month. If you want more details on what the project is, feel free to dm me, however, if anyone could give me advice on how I should proceed given how lost I am that would be great.\",\n",
       " 'I do not know if this is the right place to ask but I could not think of any other subs that might be appropriate. Basically, how does the computer take an svg image, and create a perfect circle that is perfectly circular no matter how \"zoomed in\" you are. It seems like its either a lot less complicated than I am assuming or a lot more complicated than I am assuming, but it seemed like an interesting topic.',\n",
       " 'I am working on an iOS application for my portfolio. I am a frontend guy so I am using an open API as the backend. It is free to use but strictly mentions that the data must not be \"commercialized\". 1. Does this mean I can only use the API as a personal project, and not publish? 2. Or does it mean I can publish my application - I just cannot monetize it?',\n",
       " 'I know they used punch cards and ASCII, but without programming languages like we have nowadays how did the computers understand what was on the cards? How can a machine understand input without a language allowing it to do so? It would be like talking to a rock and expecting it to do something. I am really curious about how this worked, how the first communication with machines began. Cannot seem to find an answer on google',\n",
       " 'I am really interested in creating software like game-engines or 3d modeling software, mainly i like to deal with the graphical aspects of the software like reflections or lighting. What would be the name of the course that i will study?',\n",
       " 'Pointers are obviously very useful when they point to values across function calls but are they actually useful while pointing to values in the same scope. For example if a variable `age` stores the value `114`, I can update the the value of `age` by creating a pointer to that memory address, but why would I do that? I can simply change the value of `age` directly because I have access to it as I am changing from the same scope.A reason I could think of for creating a pointer to a variable in the same scope is that it might be useful to have pointers point to a variable in the same scope because it would make the naming easy and referencing to the value in huge codebases would be made easier, but I do not think that this is a good use case. The main purpose of pointers is to stop the wastage of memory by copying of the values stored in a variable to another variable but if we are creating pointers, we are of course storing them in a variable which is taking memory so we are back to square one. This might not be the case where variables store a lot of data, this is true for variables that store less data than the memory address itself.My question is that is there any use for creating pointers that point to variables in the same scope or they are never used like that. Stating any examples would be very helpful!',\n",
       " 'So if firmware is on an ROM chip soldered to the motherboard, this should mean it is impossible to change what is on the chip because it is read only. But firmware updates happen over the internet, so how is that possible?',\n",
       " 'I have my exams in a few days and I need to learn about Boolean algebras and logic gates. Can you guys please help me with some resources?',\n",
       " 'As in title, I would appreciate any reccomendation.',\n",
       " 'I am currently an UG student in Comp sci and want to PG in a field that contributes more to scientific research. The fields I have found that do this are AI and computational science. They seem pretty close to me so what is the difference between them and which is better wrt to my goal?',\n",
       " 'EDIT: For people asking the same question as me, I have found an INCREDIBLY useful video that explains Asymptotic Growth and Asymptotic Bounding. Please watch this here: []()Hello. This post is very simple: I am struggling to understand Asymptotic Growth. It just seems like this pointless silly abstract mathematical concept that does not even make sense when its applied to things like computational complexity. I can write down definitions of what it means for f to equal O(g), but I do not understand the problem, I do not understand how this is the solution, and I do not understand how the solution could not be something else. Basically, I need a resource that can really comprehensively teach what this thing is in a way that makes sense for it to exist.&#x200B;RANT-- Skip to TL;DR if uninterestedLike if you already have a function that perfectly describes your algorithms time complexity, what is the point in simplifying it in a weird way that breaks algebra rules? If you are trying to compare it to another algorithm, then why not just... compare it to another algorithm? Grab two functions, from two different algorithms, come up with some reasonable input sizes, and evaluate. Simple as that. But then there is this best case worst case thing? And I do not get how what comes out of the definitions is the best or worst case... The way that O(n) was defined to me just made it seem like any arbitrary function that was larger than f(n) could suffice in defining the worst case scenario...&#x200B;TL;DR please give me resources on Asymptotic Growth that go deeper into explaining why its a thing and how its actually useful',\n",
       " 'Is there a way I can have a client send something like a hash of it is executable to confirm the client has not been modified to a server?',\n",
       " 'Sometimes when trying to run a VM, you need to enable virtualization in the BIOS. I always presumed this meant that the hypervisor was sending machine code directly to the CPU, which in turn interacts with all the peripherals for the VM, and that the host OS was \"allowing\" the VM\\'s machine code to pass by.However, I just watched [this video](-4MEoM) where he says that the hypervisor (or at least a type 2 hypervisor) is making a virtual representation of the hardware. When I use something like VMware (type 1) desktop, is it actually interacting with bare metal? Whereas something like Virtual Box (type 2) goes through the host kernel?  Any insight is appreciated.',\n",
       " \"I was given a function T(N) = 5N + T(N-1)My understanding is the algorithm will always have a Big O time complexity of of O(N) because there is not any multiplication to increase N's power, but the answer that was expected from me was O(N\\\\^2). Even in words, I could say that the function calls itself 5N times plus another N minus 1 times, so the time complexity should still be linear with respect to N inputs. Why is this O(N\\\\^2)?\",\n",
       " \"I want to make a dead man's switch to release all my code publicly and my master password to my family, but I want it to be encrypted beforehand, and have a low chance of being cracked or destroyed before deployment, I do not have anyone trusted to maintain it and I might end up in a psyc ward for long periods of timeany way set up a dead man's switch with these conditions?\",\n",
       " 'I am fully aware that controlling the many variables that go into genetics is a difficult task. Previously i had the computers that controlled the nanites linked to a massive, planet-wide supercomputer, but realized this connection would be impossible to maintain on earth (the cyborgs are also aliens). Is there a way I can fit the needed processing power into a small package? ',\n",
       " 'Hey guys I wanted to know. If someone knows C and wanted to get into the world of operating systems and know all the round robin, multiprocessing stuff should they:a) Read an entire book on OS first, before getting their hands dirty with real code                                                  ORb)Should read books, alongside getting their hands dirty while following the documentation of the OS they have chosen.I want to know you all thoughts and opinions.',\n",
       " 'Hi guys, I am an undergrad cognitive psychology student and recently I came across the existence of the use of computational models to study phenomena.Since I have always been pretty keen on computer science I wanted to dive more into it but I could not find much material on the web about what knowledge you need to start developing these programs.I am particularly interested in computational linguistics and computational biology.Do you guys have any suggestions on what mathematical and CS knowledge is needed in order to have a solid background for starting to build these models ? I have some programming skills but only with Python and Java and i do not know what language is used for models (C++ maybe?)I have already asked some professors but i still have some doubts about it.',\n",
       " 'In Uni are currently using Modeler of riverbed, which was created by opnet in case you know it. I basically hate that tool to the core, it makes our lives misserable! ..mostly due to the lack of documentation.  It is basically a tool where you can create Logical or Physical networks to simulate, with many choices for mediums, settings, protocols, profiles e.t.c.   I was wondering, what are the similar alternatives out there for IT in big companies?',\n",
       " 'Recently, I played around with Concorde algorithm [available here]().It should return an optimal solution, however some choice he made in his optimal path are counterintuitive.For example, I would have thought that green path would be more optimized than the red one proposed by Concord :[Red path is suboptimal ?]()&#x200B;Is this caused by some rounding approximation ?',\n",
       " 'Hi all, IT professional here. Recently I have become interested in learning more about how the components inside computers work. For example, I know what CPU, GPU, RAM, etc are...but how do they actually operate?  I am talking at an extremely technical level. Does this fall under computer science? Thanks all.',\n",
       " 'This is kind of a specific question but, I formulated it in the most general way possible so anyone can benefit from any answers.I have a very lightweight visual novel video game called *Shiny Days*. For some reason, the game runs just fine with minimal bugs in windowed mode. However, when in fullscreen mode, the game will freeze at a very specific moment in the game every time without fail.The fix for this endorsed by the community is to change the process priority to \"Above Normal\" and change the processor affinity to only \"CPU 0\" or \"CPU 1.\" This is to force the program to only use a single thread.&#x200B;The question I am asking here is, why does that fix work? Why would increasing process priority and limiting the program to a single thread help anything? I know what the fix does but, I do not get why it stops the freezing of the program in such an effective way. What do you guys think is going on here? I am curious to hear any insights computer science experts would have to say on WHY this fix actually works.',\n",
       " 'Hi guys, This semester I am taking a course named \"virtualization techniques\". It is very interesting and also daunting to me when it involves a huge amount of low-level understanding of the system. I do not have a good background in this and I think I can get some good advice from Redditors :D Like good textbooks to read, basic articles to grasp the idea, ... I think it would be very helpful to refresh my computer architecture knowledge, but it would be nice if I could get a list of worth-studying contents :D As of now, I am trying my best but kind of lost in the lecture (I feel the professor is quite bad at eli5)Do not tell me to quit, I picked this course because I found it fun to learn, and also I intentionally spent this semester studying shit I have almost zero knowledge of. I do not care about my grade at all.Thanks in advance!',\n",
       " 'Hello, I am trying to get a deeper understanding of networking, specially low level network programming. I have been reading about sockets and how to write server programs using socket libraries like winsock or socket.h, but I am kind of confused about how the server then talks with other programs. I think the best way to explain it, is for me to lay out what I THINK is happening when a simple GET request hits an HTTP server.Assume a client and server socket are already connected using TCP.Data Arrives to the network interface for the machine, the driver for network interface card tells the OS that it has data (through an interrupt?). The OS then looks at the IP:Port# and if there is a connected socket listening with that IP and Port, it then (through the socket library) passes the data to the process that is the \"server\". The server has the payload with the HTTP headers, metadata, body, etc. Now let us say I have written an API using C# using the webapi framework in dotnet. Does the server open a socket with the process running the API in order to pass the HTTP request info to the correct endpoint? Is the server and the API the same process, and the dotnet framework (or any API framework) is baking in the socket code and acting as a server as well? or is it something I am completely missing?&#x200B;Let me know if this makes sense at all. Please correct and incorrect assumptions or missing steps in my walkthrough. I am trying to remove as much abstraction as possible and understand how something like this works at a low level.Thanks for your time!',\n",
       " 'Hey guys, i just wanted to see if any of you know any good resource because so far i have read many books but none of them helped me (Head first, Cisco , Comptia)  i know those are good books but i need something that explains EVERYTHING, i am a complete beginner.. for example they start talking about protocols without explaining what  a protocol is and a lot of things like that they just say words without explainingi need a book or course that gives a deep introduction.',\n",
       " \"My question is about why LSP requires contravariance in the parameters of the subtype's inherited methods.And more to that, if following LSP means that I can pass in a subtype wherever a parent type is expected, then why could not the inherited methods of the subtype be covariant in the parameters?Does the fact that you cannot be more specific when passing parameters to a subtype's inherited methods itself violate LSP?Edit: Thanks to you/Probablynotabadguy I think I understand this.If you have a type T and a subtype S, then for all intents and purposes, S IS a T.And so of course the substitution portion holds that if you have a function `foo(T)` that you should be able to pass in an S - because we just said an S IS a T, right?That part I understood. However, because anything provable of type T should be provable for type S, that includes it is methods. And so the contravariance of the subtypes methods is precisely because it is trying to preserve the provability of the subtype relationship.My apologies, I know that is probably a lot of the same words.[Code](+184%2C+195%2C+1%29&t=vscode&wt=none&l=text%2Fx-php&ds=true&dsyoff=42px&dsblur=68px&wc=true&wa=true&pv=56px&ph=56px&ln=false&fl=1&fm=Hack&fs=14px&lh=133%25&si=false&es=2x&wm=false&code=class%2520Speaker%2520%257B%250A%2509public%2520function%2520speak%28string%2520%2524word%29%2520%257B%250A%2509%2509return%2520%2524word%253B%250A%2509%257D%250A%257D%250A%250Aclass%2520LoudSpeaker%2520extends%2520Speaker%2520%257B%250A%2520%2509public%2520function%2520speak%28string%2520%2524word%29%2520%257B%250A%2509%2509return%2520strtoupper%28%2524word%29%253B%250A%2509%257D%250A%257D%250A%250Aclass%2520ScreamingSpeaker%2520extends%2520LoudSpeaker%2520%257B%250A%2520%2509public%2520function%2520speak%28string%2520%2524word%29%2520%257B%250A%2509%2509return%2520strtoupper%28%2524word%29%2520.%2520%27%21%21%21%27%253B%250A%2509%257D%250A%257D%250A%250Aclass%2520Animal%2520%257B%250A%2520%2520%2520%2520public%2520function%2520speak%28LoudSpeaker%2520%2524speaker%29%253A%2520string%2520%257B%250A%2520%2520%2520%2520%2520%2520%2520%2520return%2520%2524speaker-%253Espeak%28self%253A%253Aclass%29%253B%250A%2520%2520%2520%2520%257D%250A%257D%250A%250Aclass%2520Cat%2520extends%2520Animal%2520%257B%250A%2520%2520%2520%2520%250A%2520%2520%2520%2520%252F%252F%2520Why%2520am%2520I%2520not%2520allowed%2520to%2520accept%2520ScreamingSpeaker%2520here%253F%250A%2520%2520%2520%2520%252F%252F%2520According%2520to%2520LSP%2520I%2520can%2520only%2520accept%2520either%2520LoudSpeaker%2520or%250A%2520%2520%2520%2520%252F%252F%2520it%27s%2520parent%2520class%2520Speaker.%250A%2520%2520%2520%2520public%2520function%2520speak%28LoudSpeaker%2520%2524speaker%29%253A%2520string%2520%257B%250A%2520%2520%2520%2520%2520%2520%2520%2520return%2520%2524speaker-%253Espeak%28self%253A%253Aclass%29%253B%250A%2520%2520%2520%2520%257D%250A%257D%250A%250Afunction%2520makeAnimalSpeak%28Animal%2520%2524animal%29%2520%257B%250A%250A%2520%2520%2520%2520%252F%252F%2520According%2520to%2520LSP%2520I%2520shouldn%27t%2520pass%2520in%2520LoudSpeaker%2520here%253F%250A%2509return%2520%2524animal-%253Espeak%28new%2520Speaker%29%253B%250A%257D%250A%250AmakeAnimalSpeak%28new%2520Cat%29)\",\n",
       " 'Hi everyone, I have recently been doing some personal research on data structures and algorithms, one of the things I want to look into is a memory stack. I have already written about how a Stack data structure works in C# (what is does, what the operations are and some examples) but I also need to talk about a memory stack.Would anyone be able to explain to me in simple terms what a memory stack is and if there is any different between a Stack in C# and a memory stack and also how it is used to implement function calls in a computer?Everything I have found online is either too complicated or is just telling me you can Push and Pop like you can in the C# stack so I do not understand the difference.Thanks :)',\n",
       " 'Hi geeks,How do we verify whether a link or a github profile that was provided in Resume belongs to the same person as the Resume? I am thinking of having a hash based addressing to solve such problem. Any leads? &#x200B;For detailed explanation: Let us say in my resume I put []() and no one knows If I am the random user and github user names are strange most times. What can be a possible solution to the problem?',\n",
       " '-vm/index.html#1:3> The LC-3 has 65,536 memory locations (the maximum that is addressable by a 16-bit unsigned integer 2^16), each of which stores a 16-bit value. This means it can store a total of only 128kb, which is a lot smaller than you may be used to! In our program, this memory will be stored in a simple arrayCan someone help me to understand why and how the size of the memory is 128kb (kilobits)? I really might be this dense, but I do not get it.Sorry in advance if not correct sub, I thought this would be the closest one. This is not my home-work, I am old dude just doing this on my freetime.',\n",
       " 'Basically, question is in the title  UPD: found a great book on the topic:  Fluid Simulation for Computer Graphics by  Robert Bridson ',\n",
       " 'If it is all in ram already then it should not add any additional time to skip around for textures, right? And even if it is some buffer shit then is not that openGLs job?',\n",
       " 'In your opinion what is the most widesbread stack used in software development feild today? I am cs student and am trying to get an idea of how people build software in the real world.',\n",
       " 'When we open a video in any video player, it opens it almost instantly and plays in full resolution with 30fps. We can also skip to a particular section (time) and player instantly jumps both frame and audio to that section.But when we open it in video editor, it does operation like caching frames or drop frame rate while playing inside editor. Also when we zoom a particular length inside editor it takes time to make thumbnails for that section while in video player it resizes to resolution of windows in real time.It seems video player can decode the video file instantly but not video editor.So what is different between how a video player handles a file and how a video editor handles a file. Also why it takes 5 minutes to export (write) the video while it can read it instantly.I am not a computer science student. Sorry if question is poorly phased.Thanks.',\n",
       " 'hii studied computer science and worked in security for 20 years, but now I have changed and work in communications ( datacenters architecture, Ironport, bluecoat, Cisco, F5, infoblock, dns, firewalls, mpls, wan, etc) does anybody know of a good book to refresh my knowledge in communications in general. not too basic as i have good background but a good digest. thanks',\n",
       " 'My only exposure to NP is a very well written stack overflow answer and I want to see if I understand it. If X is in NP-Complete (so all NP problems reduce to X), and X reduces to Y, then Y is also NP-complete right? Or is it not transitive?',\n",
       " 'Are \"Data Width\" and \"Bandwidth\" interchangeable phrases? This assignment I have been tasked with uses the term \"data *width*\" in the context of data transmission and I do not think that it is really commonplace. I am just curious if it has any other probable/possible meanings. Thanks.',\n",
       " 'When there are the components of a computer assembled into an otherwise perfectly functional PC, how is the operating system loaded onto the computer? It is not like they can code the computer by just typing on it because with no software it cannot interpret the text and it would not even know how to make the text because Unicode is software too.',\n",
       " 'There is work being done on a diamond nuclear battery that can last hundreds of years, but it is only 100 microwatts. How many of these would you need to read a basic text file? It could be as simple as having an LED light up above a set of printed alphanumerical stickers, but the easier it is to read, the better. The idea here is to be able to download Wikipedia and access it at any time without recharging.',\n",
       " 'Any letter here is used to represent a binary input (1 or 0) and then you just follow the basic of principles of maths, oh and work in **DENARY.** The idea is that you could punch one these formula into a standard school calculator without changing any settings and have it working.Here Is the basic ones:1. NOT = 1-x2. AND = xy3. NAND 1-xy4. OR x+y-xy5. NOR 1-x-y+xy6. XOR x+y-2xy7. XNOR 1-x-y+2xyHere Is an adder that takes a carry and 2 bits and outputs the binary in:* x+y+z+8xy+8xz+8yz-16xyzSorry I did not create a half adder as my main source for logic gates was a video series by Sebastian Lague so I just followed that along .Anyway just for fun and to prove how utterly useless this whole thing is here is an untested 4 bit adder:z+a+b-2ab-2az-2bz+4abz+10((ab+az+bz-2abz)+c+d-2c(ab+az+bz-2abz)-2d(ab+az+bz-2abz)-2cd+4cd(ab+az+bz-2abz))+100(e+f+(cd+c(ab+az+bz-2abz)+d(ab+az+bz-2abz)-2cd(ab+az+bz-2abz))-2ef-2e(cd+c(ab+az+bz-2abz)+d(ab+az+bz-2abz)-2cd(ab+az+bz-2abz)-2f(cd+c(ab+az+bz-2abz)+d(ab+az+bz-2abz)-2cd(ab+az+bz-2abz)+4ef(cd+c(ab+az+bz-2abz)+d(ab+az+bz-2abz)-2cd(ab+az+bz-2abz))+1000(g+h+(ef+e(cd+c(ab+az+bz-2abz)+d(ab+az+bz-2abz)-2cd(ab+az+bz-2abz))+f(cd+c(ab+az+bz-2abz)+d(ab+az+bz-2abz)-2cd(ab+az+bz-2abz))-2ef(cd+c(ab+az+bz-2abz)+d(ab+az+bz-2abz)-2cd(ab+az+bz-2abz))-2gh-2g(ef+e(cd+c(ab+az+bz-2abz)+d(ab+az+bz-2abz)-2cd(ab+az+bz-2abz))+f(cd+c(ab+az+bz-2abz)+d(ab+az+bz-2abz)-2cd(ab+az+bz-2abz))-2ef(cd+c(ab+az+bz-2abz)+d(ab+az+bz-2abz)-2cd(ab+az+bz-2abz))-2h(ef+e(cd+c(ab+az+bz-2abz)+d(ab+az+bz-2abz)-2cd(ab+az+bz-2abz))+f(cd+c(ab+az+bz-2abz)+d(ab+az+bz-2abz)-2cd(ab+az+bz-2abz))-2ef(cd+c(ab+az+bz-2abz)+d(ab+az+bz-2abz)-2cd(ab+az+bz-2abz))+4gh(ef+e(cd+c(ab+az+bz-2abz)+d(ab+az+bz-2abz)-2cd(ab+az+bz-2abz))+f(cd+c(ab+az+bz-2abz)+d(ab+az+bz-2abz)-2cd(ab+az+bz-2abz))-2ef(cd+c(ab+az+bz-2abz)+d(ab+az+bz-2abz)-2cd(ab+az+bz-2abz)))+10000(gh+g(ef+e(cd+c(ab+az+bz-2abz)+d(ab+az+bz-2abz)-2cd(ab+az+bz-2abz))+f(cd+c(ab+az+bz-2abz)+d(ab+az+bz-2abz)-2cd(ab+az+bz-2abz))-2ef(cd+c(ab+az+bz-2abz)+d(ab+az+bz-2abz)-2cd(ab+az+bz-2abz))+h(ef+e(cd+c(ab+az+bz-2abz)+d(ab+az+bz-2abz)-2cd(ab+az+bz-2abz))+f(cd+c(ab+az+bz-2abz)+d(ab+az+bz-2abz)-2cd(ab+az+bz-2abz))-2ef(cd+c(ab+az+bz-2abz)+d(ab+az+bz-2abz)-2cd(ab+az+bz-2abz))-2gh(ef+e(cd+c(ab+az+bz-2abz)+d(ab+az+bz-2abz)-2cd(ab+az+bz-2abz))+f(cd+c(ab+az+bz-2abz)+d(ab+az+bz-2abz)-2cd(ab+az+bz-2abz))-2ef(cd+c(ab+az+bz-2abz)+d(ab+az+bz-2abz)-2cd(ab+az+bz-2abz)))z is a carry value (if you want to string together multiple adders) and a adds to b c adds to d etcHere Is an interesting question, how far can we take this? Could we write a Turing Machine like this?Mistakes have now been corrected Thanks everyone who pointed them out and suggested solutions',\n",
       " 'As the title says, I want to find out if I can implement an algorithm described in a research paper, or one research paper out of a specific family of research. I think a great achievement would be to understand a more basic paper in this family of research, implement a basic working form of the algorithms presented, and have them working together.The parts of any of these papers I am unfamiliar with is the more complex math and symbols, and how these different described algorithms should fit together. Most of my relevant experience is as a software engineer, if that matters at all.What are the steps I can take to move towards this goal, as someone unfamiliar with the research and language. Who can I reach out to?',\n",
       " 'Good day everybody,insight here (worried)1.The supercomputer aurora21 is nearly finished and been used to map the human brain/connectome, they say it could only take three years to map itSource:-mapping-supercomputer/2. I Am also worried about artificial super intelligence and artificial general intelligence already been usedMy delusions are now furthered thinking Aurora21 and ASI already exists and are been used to read/implant thoughts (and making people hear voices)Can someone in the know tell me this is not possible or the details on how it works/or does notI do not know anything about computers so i am turning to you for insight againAgain,on meds,in therapy. Just want to know your insights which i struggle with due to schizophrenia',\n",
       " 'I have an algorithm which will check if any given number is prime. I have included it at the bottom of the post. It makes use of a few optimizations, mainly the 6n+-1 optimization, where numbers which are not modulus of 6 + 1 or 5 are not considered prime.I can analyze the complexity of the algorithm to be ``O(sqrt(n))`` if n % 6 === (1 or 5) and ``O(1)`` otherwise, but I am not quite sure how to assess the \\'overall\\' complexity.My first though is to average them out, such as: ``(4 * O(1) + 2 * O(sqrt(n)))/6``, but I believe that would still equal ``O(sqrt(n))``. Is that correct, or have I taken the wrong approach?```javascript/** * Check if a number is prime * 1. Check if number is a base case * 2. If not, check if num is of the form 6n +- 1 * 3. If it is, then call helper method */function isPrime(num) {    //handle special base cases    switch (num) {        case 1:            return false;        case 2:        case 3:            return true;    }    //primes are never even (except for 2)    if (num % 2 === 0) {        return false;    }    //determine if num is of the form 6n - 1 or 6n + 1    const sixMod = num % 6;    if (sixMod !== 1 && sixMod !== 5) {        return false;    }    return _determineIsPrime(num);}/** * Helper method to determine if a number is prime * If the \"isPrime\" method is inconclusive, this will be called */function _determineIsPrime(num) {    //optimize by only searching up to sqrt of num    const limit = Math.sqrt(num);    //iterate over numbers    //return false if any divides    for (let i=3; i<=limit; i+=2) {        if (num % i === 0) {            return false;        }    }    //if nothing was divisible, return true    return true;}```',\n",
       " 'Friend is asking me if I know any program where you can drag and drop nodes in order to visualize Trees/Graphs.  Additionally, is there any program that could diagram your code ? ( like graphviz, but for algorithms instead of structures  )',\n",
       " 'Publishing research results is Computer Science is a process with no simple solutions. In this blog post I try to present some common strategies and learn from recent insights into the random effects that are present in the review process. [-cacm/256994-publishing-the-choice-and-the-luck/fulltext](-cacm/256994-publishing-the-choice-and-the-luck/fulltext)',\n",
       " 'I have seen mention of the supposedly backdoored  Dual\\\\_EC\\\\_DRBG  a few times.I am interested in reading more about the background and known facts, any other relevant cloak and dagger shenanigans would be appreciated also.I am not a mathematician, so I am looking for a pop-sci book, or something digestible for someone technologically literate but non-expert.Books are preferred, but good quality articles also appreciated.Thanks&#x200B;EDIT: Any good books on encryption and randomness would be great actually, too.',\n",
       " 'Why? Is Not rosetta essentially a CPU emulator? How can it run apps at normal speed, but running Windows or Linux (the real versions, not the \"M1\" versions) is unusable? Do Not even know if this is the correct sub to ask.',\n",
       " 'Specifically with PATA data cables, I have been looking through their specifications and noticed they have 16 data lines but only 3 address lines. Hard drives that support PATA seem to be able to support hundreds of gigabytes, but directly addressing even just 4 GB would require 4 bytes. How does a computer send data to the hard drive about which data it wants read/written?My hypothesis would be that either it has something to do with paging and lookup tables, or the data lines are repurposed to tell the microcontroller within the hard drive the area in memory to be accessed, or the computer tells the hard drive which block to start at and it copies over the entire block, one word at a time, or the 3 address lines control the read/write head directly and reading the correct block is timing based, similar to how DVI does not use coordinates for pixels.',\n",
       " 'Does there exist a resource for exercises of the form \"design a program with the following specifications in time/space O(f(n))\"?I am aware of competitive programming websites but i cannot currently program due to migraines. I cannot practice off these websites because often the best solution is some exponential time algorithm which i will have no way of knowing whether it will work without implementing it.CLRS is a good resource for problems but there are not enough to regularly practice on. I would like a resource preferably of the computer contest flavor but where i can practice on pen and paper rather than programming it.edit: why is this getting downvoted',\n",
       " 'Before you ask me to create project, I am asking for questions to practice the individual concepts like linked lists, stacks, sorting algos etc. so I can get comfortable with their implementation and the various problems they can solve, before moving on to building projects and integrating them together.',\n",
       " 'So I have a DS course and they want a project that deals with big data. I am fascinated by Google and want to know how it works so I thought it would be a good idea to build a toy version of Google to learn more.Any resources or advice would be appreciated as my Google search mostly yields stuff that relies heavily on libraries or talks about the front end only.Let us get a few things out of the way:1) I am not trying to drive google out of business. Do not bother explaining how they have large team or billions of dollars so my search engine would not be as good. It is not meant to be.2) I have not chosen this project yet so let me know if you think it would be too difficult; considering I have a month to do it. 3) I have not been asked me to do this, so you would not be doing my homework if you give some advice.',\n",
       " 'I am not sure if software architecture or design patterns are the right terms. But I am looking for resources to read up on or practice problems for ways to approach coding problems and implement solutions in an optimal way. Like how to break down a problem in smaller chunks and modularize it. Or even when you should use procedural vs functional vs oop approach.The reason is that for smaller projects I tend to just do what works, which is manageable, but as it gets bigger I quickly get spaghetti code. Then I start to have analysis paralysis on how to solve certain problems, because it feels like there are so many different ways. I want to practice scalability so that I can keep my projects manageable. Likewise, something that bothers me is that a lot of basic online examples (particularly in OOP) give very trivial problems (e.g. squares being a type of shape, or cats being animals), which is easy to visualize, but the problems I am dealing the objects are very ambiguous (for my feeling). To the point where it is even the question if objects are relevant, with the exception of being able to separate code/data from each other.',\n",
       " 'The New York Times: Jay Last, One of the Rebels Who Founded Silicon Valley, Dies at 92.-last-dead.html',\n",
       " 'I recently got interested in IoT. My background is computer software and programming. My interest has always been on the different mediums for  communication between human and computers. I would appreciate if you can suggest books that covers the basic concepts of IoT and their application on communication and collecting data.',\n",
       " 'I would like to train/practice on IPv4 tasks, such as:\\\\- what number of addresses there in this address and mask?\\\\- which range does this address belong to?\\\\- calculate this, find out thatWhere to find such? Thanks!',\n",
       " 'I have so many questions to ask about kernels and this is one of them.',\n",
       " 'I am writing an algorithm to predict global average temperatures. I read an academic paper that used tree GP to solve the same problem. I already have a linear GP algorithm I wrote for something else that I would like to recycle, but I would also like to get the best performance possible out of the temperature algorithm.Is there an advantage to using tree GP vs. linear GP and vise versa? Are there certain types of problems that are better suited to one representation over the other?',\n",
       " 'Hello all,I am interested in learning more about Genetic algorithms and Bayesian optimization in the context of Hyperparameter tuning in Machine Learning and Operations Research. Not interested in medium articles, I want to dive and understand the Math. I am also intested to get a good introduction to Reinforcement Learning.Could you suggest good books/ pedagogical articles about these three subjects?',\n",
       " 'I wonder if computer vision consider for computer science or engineering or bothAs my knowledge that Computer vision is  An Ai but many ppl tell mostly for engineering than science',\n",
       " 'I am looking for a good introductory book on formal specifications. This is a new field for me so I have not the slightest clue where to begin. Any help is greatly appreciated.Thanks',\n",
       " 'So I have been doing some past papers recently and this format or something amounting to the same thing keeps cropping up.The only problem is, if your stages do not divide neatly into your instructions and leaves a remainder.For example a 3 stage piplined CPU with 8 instructions, will initilise as such:You subtract the triangular number of 3 from the instructions: 8 - 6 = 2And that is how many instructions will be carried out while the program is operating at full efficiency, so you can divide the 2 by the number of stages you are operating at any given time so 2 / 3 = ...Oh... rem. 2?Trying to visualise what happens this is my best guess at the answer: []()As you can see you would just have a wind down stage which last 1 cycle? But that does not make sense, because on the x axis the third stage of one of the instructions does not get carried out?I think I just fundamentally do not understand.Thanks a million in advance for any assistance c:',\n",
       " 'So I am very new to coding, so apologies if this is completely impossible or even incorrect.But I do believe that current systems run off CPUs measuring the amount of 0s and 1s through voltage.However if we were to change this process to fibre optic where the process is still assigned to an on or off process.However if we introduced colour into fibre optics we could expand the possibilities. For example if white was 0-1 blue 1-2 yellow 2-3 and so on so forth we could expand the possibilities.We cannot expand so far, on the 0 being off and 1 being on, so to introduce colours into fibre optic we could essentially assign colours a number to achieve different out comes.We know fibre is faster than conventional powered connections. So this could increase performance also.',\n",
       " 'Okay, Another memory related question, I wish I thought of this with my previous post to save a bit of time, but anyway. Another thing I have thought of is how does a computer calculate how full Memory is? Is it fully software based, or does hardware handle it? If its hardware based is it in the CPU Memory controller, or the RAM Sticks themselves?',\n",
       " 'Hi, I programmed a small computer based on von Neumann architecture with a few set of instructions on binary and now I am asking to design and implement an ad hoc network with some of this emulated computers, so, do you have any advice or documentation for this purpose? Thanks',\n",
       " 'Hi! I am designing a computer just for fun, I learned the basics and what not, and I am building one in Logisim (I know, not the best software, but works for now) And it is a decently complicated CPU and stuff. (Still trying to work out how the stack works, and a couple of other things before it can technically be deemed a proper computer) And this thought crossed my mind: \"How do computers calculate how many bytes of Memory it has?\" I have a working prototype of the whole computer and am working on a simple BIOS for it. And while I was making a prototype of the BIOS I thought of ways the computer detects memory and how much there is, but cannot think of any. I tried looking it up but cannot find any good explanations. Anyone know how this is done? And my apologies if I picked the wrong flair and if this breaks any rules, I have read them and it does not seem to break any. Any help is appreciated!Edit: Thanks to raedr7n and NamelessVegetable for the help! Found out how it works',\n",
       " 'Hi I am making a game with a high-level scripting language that has pretty minimal support for bitwise-manipulation (if any). Think something like Lua. And I am making a game where the game has a secret message that is defined as a string literal, \"secret message\". This script can be scraped by data miners, string literals are not obfuscated at all, so if they got a hold of of the sourcecode, they would be able to read \"secret message\". What is a basic obfuscation algorithm I can use here to store the string literal in a scrambled-up format so that dataminers will have a harder time interpreting this message? I am sort of looking for something one step above a caesar cipher. Any algorithms come to mind?',\n",
       " 'Basically what the title says. There are podcasts about space that aerospace engineers can listen to, for example, so I was wondering if anyone knows of any comp sci podcasts',\n",
       " 'Here is an example. If a folder is encrypted, it is obviously protected from outsiders trying to get in. But let us say there was a virus inside of an encrypted container, would it be able to escape this container or does the encryption keep it \"imprisoned\"? My understanding is that encryption garbles all of the data so surely protection DOES work both ways?',\n",
       " 'Hi all, I have recently been looking a bit into networking and trying to understand it a bit more but routing tables have me a bit stuck. I think that I understand how they work by I do not have the faintest idea why.So as I understand it, a packet comes into a router and the destination IP address is AND’ed with each of the subnet masks in the table and the result of each of these is compared with the destination IP address of each entry in the table. If there are any matches between the result of this AND calculation and destination IP addresses then the packet is forwarded to this destination. If there are no matches the packet goes to the default destination and if there is more than one matches then the packet goes to the destination with the highest subnet mask.My question is, why does this work? How does this form of selecting destinations make sure packets make it to their destination. How does this stop data packets going round in circles and taking ages to make it to their destination.I hope that I have been clear, but please let me know if I should clarify anything.Thank you so much for any help here :)',\n",
       " 'I understand how it currently works, and subsequently why it cannot write twice the speed. My question more specifically, is why does not it work a different way where that is possible. For example, if there is a 100mb file, instead of writing the 100mb to both drives simultaneously, why does not it write 50MB (different halves of the data) at the same time, and then virtually treat it as one complete file as it then continues to write the full file on both drives in the background after done? Does writing 1 bit take up 1 bit of potential reading or something? Even then, the background writing can resume after reading is done at a later time if that is the reason. The only downside I see to this is that you risk losing that particular file if one drive fails before the completed write takes place, but that seems like a minor sacrifice for the improved performance.',\n",
       " 'I have been learning about DHTs (distributed hash tables), and I understand that data is distributed across many nodes (or peers in p2p networks). I cannot seem to find any information on how data is stored in each node though. Is data stored in blob stores in each node? Or SQL databases? Am I understanding this correctly?',\n",
       " 'It seems like FP can be good at certain things, but I do not understand how it could work for more complex systems. The languages that FP is generally used in are annoying to write software in, as well. Why do some people like it so much and act like it is the greatest?',\n",
       " 'I have learned C previously from Dennis Ritchie book. But as now I have learned the concepts of Compiler Design  ( and other theoretical CS subjects ) I again want to learn C but with some compiler design concepts( and or other CS concepts ). Like when I am doing something I want to know whole thing behind it relating to compiler design concepts. I do not know whether I have asked clearly or not. But if you get it please tell the resources for it. I want to know whole process that follows running a code.',\n",
       " 'I have done my fair share of LeetCode and cannot help but notice that \"easy\" questions are sometimes quite difficult. Medium questions are generally more difficult but many of them just use slightly more advanced data structures and the actual concept behind the question is very straightforward. I had never even attempted a hard question since many mediums rack my brain for an hour or two, most of the time I need to look solutions up because there is a new approach to learn. I tried my first \"hard\" question the other day and I swear it was mis-labeled and could definitely be placed in \"easy\"I just solved this graph-ish question and it was labeled as easy but I had to use an iterative breadth-first search approach? That seems slightly more advanced than inverting a binary tree or reversing a string.The hard question I am referencing is [Median of Two Sorted Arrays](-of-two-sorted-arrays/).This was my solution for the \"easy\" question, I AM GOING TO far more complex than the median of two arrays.    class Solution {        public int[][] floodFill(int[][] image, int sr, int sc, int newColor) {            int row = image.length, col = image[0].length; // STORE GRAPH BOUNDS            int target = image[sr][sc];                    // STORE VALUE WE ARE AFTER            Queue<int[]> traverse = new LinkedList<>();            boolean[][] visited = new boolean[row][col];   // VISITED NODES            int[][] directions = new int[][]{                {0,1},{1,0},{0,-1},{-1,0}                  // TRAVERSAL DIRECTIONS            };                   int[] tmp = {sr,sc};            traverse.offer(tmp);                           // PUT START NODE IN TRAVERSAL QUEUE                        while(traverse.size()>0){                int[] node = traverse.poll();              // GRAB NEXT NODE                int m = node[0], n = node[1];                visited[m][n] = true;                      // VISITED = TRUE                image[m][n] = -1;                          // SET VALUE TO CHANGE COLOR                                for(int[] dir : directions){                    int a=m+dir[0]; int b=n+dir[1];                                        if(   a<0 || a>=row                       || b<0 || b>=col                       || visited[a][b]==true                       || image[a][b] != target )          // DISQUALIFY NODE FOR TRAVERSAL                        continue;                    else{                        int[] add = {a,b};                        traverse.offer(add);              // SATISFIES CONDITIONS PUT IN TRAVERSE QUEUE                    }                }            }                        for(int i = 0; i < image.length; i++){                for(int j = 0; j < image[0].length; j++){                    if(image[i][j]==-1)                        image[i][j]=newColor;                }            }                        return image;        }    }',\n",
       " 'I was thinking about RNG algorithms. And most of them are pretty complicated, using math. Middle-square, Mersenne Twister, etc.But has anybody come up with an algorithm that just randomly flips binary bits of a variable you want to randomize? What would be the advantages and drawbacks of this method? I guess it would depend on the implementation. Anyway, I just wanted to get opinions of people smarter than me.',\n",
       " 'So this topic that might be a little closer to computer science, but could someone explain to me what happens on a computer/server when a database is created? Like a high-level overview of the computer science behind the creation of a database and it is properties(how to interact with it)? Secondly, if you could also briefly talk about the computer science of database management systems?Please, also let me know if I am thinking about this incorrectly. I am a self taught person with a lot of black boxes.',\n",
       " 'What is the difference between a deadlock and deadly embrace in concurrent programming?',\n",
       " 'I am trying to find what additional features IDEs provide for statically typed languages that it does not for dynamically typed ones for a project. I have tried researching it online, but could not come up with anything clear. So, I would appreciate if someone could help with this.',\n",
       " 'Type checking insted of hints, and force you to use types',\n",
       " 'Hello I am having trouble reading the optimal makespan of job scheduling algorithm. In particular, what does it mean for max to have index i here?',\n",
       " 'Currently studying Object Oriented Programming which is a course of the 3rd semester in my uni. I Am pretty sure I have a good understanding of the concepts but I would like to confirm that somewhere somehow. There are many times where I wish I had something like that in courses like data bases, networks, data structures. Any help is appreciated!',\n",
       " 'I have an interview tomorrow. This question was recently asked to one of my friend who interviewed at the same company. I searched really hard but could not find the answer to the latter part of the question. Even for the first part, I need a simple answer and not a wiki kind of definition. Any help is appreciated.',\n",
       " 'Hi,While revising for my mock, I have unexpectedly became confused about the difference between multi-tasking and parallel processing.At first, I though multi-tasking is the simultaneous processing of multiple tasks, while parallel processing is the simultaneous processing of the same task but broken down in chunks.However, after reading about SIMD and MIMD, I realised that parallel processing could also process multiple task at the same time, just like multi-tasking.Thanks in advance :)',\n",
       " 'Bit manipulations is one of the most interesting subjects I ever studied. It really blows my mind.I am wondering if you use those occasionally, and if so what are your favorite tricks?',\n",
       " 'Recently started working on a large project which requires I document my code.Feel free to share which part about writing documentation (writing comments, official documentation, things like that) you find the most annoying or difficult.',\n",
       " 'I would like to get a Raspberry Pi in the near future and a receiver and transmitter for electromagnetic waves. I have to connect the receiver and the transmitter to the Raspberry Pi with cables, but now I am wondering how exactly this works, for example how the transmitter knows what data I want to send?',\n",
       " 'I would like to learn a bit more about firmwares and their interactions with operating systems, especially on everyday computers.After reading, I would like to have a good overview of what types of firmwares are common on the market, how they interact with with the OS and how they are structured. Ideally without reading all the specs, I just want go get an overview at first :) Any recommendations?',\n",
       " 'I just started studying computer science and have trouble understanding code. We have started with java and python and even though I have some experience with java I still have a hard time reading and understanding the code. Every time I look for tutorials they always go directly into coding and creating an algorithm (which is understandable - learning by doing) but I would like to understand how to learn how to read and understand an algorithm first. Does anyone know a good platform on how to learn exactly that?',\n",
       " 'Hi everybody, for my enflish class, I need to read 7 articles over data structure (it was imposed to me) with a restriction of 500/600 words and  should be published after may 2021. I do not know where to search, the most part of articles that I found on internet is over neural structure in the brain or is too old or too long (+-4500 words). Thank you for reading.',\n",
       " 'Watching the xponential rise of technological development, I have not heard about quantum computing for quite a while. What is the progress atm? And are just the big companies working on it? Wondering if there are small startups as well?',\n",
       " 'are there any differences between computer science, programming, software engineering, and software developing? i have been using google and doing my own research, but each website i look at gives me a different answer and leaves me more confused',\n",
       " 'Can you recomend papers about reinforcement learning applied to games?',\n",
       " 'Does anyone have a good resource to learn about time complexity? I am struggling with the material and cannot wrap my hear around anything besides O(1) and O(n).',\n",
       " 'One of the things that fascinated me the most in the Cyberpunk genre, was the ability to have instant learning, such as when Neo learns how to fight in Matrix, or when in Neuromancer you had those chips in the back of your ear, that made you a instant fluent Chinese speaker. Knowing the existence of biocomputing, and those biomechanical arms that responds to brain impulses, I started asking myself if there would not be any papers that could help me grasp an idea of real life applications between computing, the human body and the learning process... Is there any book or paper recommendation where I could follow?',\n",
       " 'I can understand the usage of it for the time it was created, but surely in recent years with the introduction of many other word processors IE Word and Gdocs, it would be made redundant? The inclusion of both equation and formatting tools in Gdocs is really good, so why do academics still use LaTeX?',\n",
       " 'I am currently reading \"The Art of Doing Science and Engineering: Learning to Learn\" by Richard Hamming. It is a great book about computer history and programming in general.One thing that strikes me is the omnipresent status quo bias.  Early programmers were reluctant to switch from binary programming to an assembly language:The same happened during the transition from assembly to FORTRAN, one of the first high-level, compiled programming languages:Have you experienced a similar thing when new frameworks, tools, or languages were introduced?&#x200B;>Source: [\\\\_adrian/status/1459909375427059715]()&#x200B;',\n",
       " 'He programs everything using the text editor and he does not even prepare the code before the lectures. He just quickly programs it all on the spot in front of us. And not just a few lines but often around 20 for each example. And even if a student asks him to show a very specific example that guy just immediately knows what to do and starts typing without mistakes. He also opens every document and application over the terminal instead of clicking on it. &#x200B;He honestly inspires me to actually take my assignments seriously. It seems like he always immediately knows the solution to any coding task in his head. That guy must be a genius.',\n",
       " 'Based on what I have read to get the closed form of the Recursive Fibonacci Algorithm, you have to approximate `T(n-2)` to `T(n-1)` from `T(n) = T(n-2) + T(n-1) + c` and vice versa to eventually reach O(2^(n)).The thing that is confusing me is **why** we should approximate it. The only thing I know so far is that T(n-2) will take lesser time than T(n-1), but I am just not sure of the mathematical explanation behind approximating both times to make them somewhat equal.',\n",
       " 'Hi!   I am looking get a strong grip on the inner workings of CPUs, threading, concurrency, instructions , SIMDs and etc..  Right now I have a shallow understanding of the matter, I Am looking for a new intro book into the whole thing, nothing very very technical - as I am starting to program with RUST and get to grips with Assembly language.  Basically, how does programming gets executed on the physical level, and how it all comes together to create these fascinating machines. Thank you!',\n",
       " 'We know that a float will lose precision as it is value increases. But is there a way to calculate when floats will be come, for example, at least one whole unit off? For example this algorithm would tell me that numbers of magnitude of 10\\\\^9 will likely be off by a magnitude of 10\\\\^-2.',\n",
       " '**So for the context:**If i am assuming right the \"n\" stands for input or size of the array and when one says O(n) it means the statment will take \"**n\"** number of times to complete it....but what does \"**k\"** mean?[here]() op said this ⬇️&#x200B;[https:\\\\/\\\\/stackoverflow.com\\\\/q\\\\/27301287\\\\/5630533]()Does that mean \"**k\"** is just an another (secondary) notation for \"**n\"**&#x200B;&#x200B;[sorry, could not find the original link]()&#x200B;Referencing the above table, how much would be the difference between cubic and polynomial if n is 10 and k is 0(can we even assume 0 for \"**k**\" value)?',\n",
       " 'As the title suggests, as an undergraduate CS student, I would like to really improve my knowledge on the ongoing research, hardware improvement, Linux news, security, etc. by reading more articles. I was wondering if some fellow redditors had anything to share?I may also consider creating an RSS stream.',\n",
       " \"In computer science, we learn that computers only understand base 2, essentially binary. But how do computers actually know which numbers are which? For example, the number 00000011. How does the computer know the the 1st '1'(from the right to left) represents 1(in denary), and the second '1' represents 2, which adds up to 3? I am hoping for a low level explanation. Thank you!\",\n",
       " \"Hi everyone! First of all, I am sorry if this post can be a little bit confusing, I am trying to gather all I have understood so far to make it as clear as possible.So, I am attending a Logical Networks class, and we started some days ago talking about sequential circuits. Today, our professor introduced us to synchronous and asynchronous circuits, but not in the same way I found online.He introduced them by saying this:Basically an asynchronous circuit is a circuit that whatever the state and the input (q1,I) you consider, will always end up in a steady state (qn, I), where if you keep I as an input you will keep staying in the qn state.And, contrary to this, he told us that synchronous circuits are circuits where not all states and inputs have this property.So what does that specifically mean? I struggle to understand the concept, as some of the example he gave us for synchronous circuits (one of them was a machine that was able to recognise if there was a 101 sequence in the input) seemed to have the steady state property I talked about before, so I think I might be missing something.That said, he then explained us that for that reason (not every state with an input I will end up in a steady state) we need an external synching (a clock) and a memory to make a state steady. Why is that? And why do not we need that for asynchronous circuits?Lastly, he talked about how some of these machines need just an impulse or a longer signal to work (and for example an asynchronous machine cannot recognise a '00' input as it operates when an input changes, so it can only tell that the last input was a (for example) 1 and this one is a 0). How do you tell that? Hope this was clear, thank you for everyone who chooses to spend their time to help me understand :)Oh and, do not take my words for something so accurate of what our professor told us, since I am trying to rephrase these things from what i have understood.\",\n",
       " \"I have been in a development capacity at my job for about 4 years. I work on the bulk of the SQL and c# interactions on our flagship products. So I have a pretty good understanding of what a supercomputer is and what they are good at. (Not saying my job gives me that knowledge, just saying I work in the industry and pay pretty close attention to these topics for fun) So, what I am most curious about are the NVIDIA, INTEL, IBM, etc companies that build these things and how they decide what application the machine is used for. Like radio telescopes, for example, I know universities, companies, really any organization can apply for dedicated time with the telescopes. Is it similar to that? Can someone submit a proof of concept to these corporations and then get approved or denied? Or do all projects that use the computers just come from their internal teams? I recently saw a future growth model of earth coming out NVIDIA's supercomputer. It showed weather patterns, climate shifts, all sorts of really cool things. So I just kind of got to thinking about the origins of these projects and the process. I checked the rules out and I think this is an okay question for this sub, if not, I can post it elsewhere. Thanks!\",\n",
       " 'I have a very superficial understanding of how DNS works. If you type \"[google.com]()\" into the browser input, the computer asks a server in the DNS for google\\'s IP address, the server either answers or asks another server for help, and eventually tells your computer where to go. So in my mind, these servers have a sort of ledger like \"[google.com]() : [216.58.223.255]() \" But what about my own public IP, for example? Is that stored in there as well? If so, what information is associated with it? In other words, how the server be asked to look it up?',\n",
       " 'Cs has a lot of great material, so i thought of figuring out a strategy to learn it better, do you read a book like a novel for the first time, and then take notes? How often do you repeat your material etc',\n",
       " 'I am going to take introductory classes at my uni and there is two diff options',\n",
       " 'I have been self teaching over a year, typical front end shit, but I do a lot or reading from programmers about AI tech replacing the future of coding jobs-makes me almost wish I chose a field that is not stable like plumbing or health.',\n",
       " 'Who are the some social media influencers/pages (could be a meme page even) for SWE? Or maybe some of your favorite influencers for SWE that you follow?Could be IG/TikTok/Youtube/LinkedIn/etc.Thanks!',\n",
       " 'I am working with a cheap EEG sensor that outputs attention levels. This data has some noise (fluctuations). I want to turn a LED on and off using this data. I am currently considering taking a mean of x values and if the mean is higher than a threshold, it is a 1 else 0. This is kind of naive and I was wondering if there are better algorithms out there for such problems?',\n",
       " 'Does anyone know if the SocProS conference is a respectable conference?I know that the submitted papers are published by Springer.',\n",
       " 'In particular, is there a journal analogous to ACM Transactions on Graphics (which publishes cutting-edge discoveries in the field of computer graphics), which publishes articles related to more portable, robust, efficient file formats for viewable documents like pdfs? Is there any chance new discoveries are made (e.g. more efficient algorithms to compress documents), or is this only a purview of companies like Adobe? I hope I am making sense.',\n",
       " \"I am curious as to how CPUs actually communicate with the outside world.I know it is electric currents flowing through transistors at the lowest level.I know you can run compiled programs.But where is the transition layer from one to the other ?For example, Intel creates a CPU and I write a program for it, let us say in Assembly. I write the command: mov eax, \\\\[ebx\\\\] .Who translates 'mov' into what it actually does and who knows how to interpret that command ? Is there a dictionary somewhere that says mov in binary is 0011010010011 (made up obv) and when you encounter that string of binary code you perform this function ?Even more, how can this be hardwired onto a CPU ? Is mov a physical circuit that gets called whenever that command string is encountered ?Sorry for the avalanche of questions but this particular topic is very hazy to me. I cannot picture how a written command can direct electric current down in the CPU to do certain things.\",\n",
       " 'Basically I found this vulnerability and I want to perform it on my system. I installed this virtual machine (64-bit for VirtualBox):    -kali/#kali-virtual-machines      and here is the vulnerability: -DEBIAN11-POSTGRESQL13-1292197         I am really confused how is even do this, so far I know how to start postgresql and I can create a table in a database. If anyone could assist me in anyway I would really appreciate it.',\n",
       " 'Can anyone provide me with some examples of the impact computational science has had on science and research? How many advancements have been made with direct help from CS in thr past decade?',\n",
       " 'I am an IT student, but [I am watching this video]() for fun and he explains the way developers can end a string (if that is the proper verbage). He explains a couple of different ways, the first being that the developer tells the computer how many characters they are looking for. He also explains that this is not efficient use of memory and then explains the second method, where developers would simply stick a \\\\[NULL\\\\] character at the end of the string. He also says that there are debates as to which method is better to use, but to someone with a pretty solid education with computers, I do not see why we do not just use a \\\\[NULL\\\\] character at the end of every string if it is so much more efficient than the alternative.',\n",
       " 'I have been thinking about starting a project to repurpose old RAM from previously upgraded laptops and desktops. I would like to see if I can create an enclosure for holding multiple RAM chips to be connected to a computer via USB or thunderbolt, and configuring them as an external disk. Using software similar or even the very same as this below. []()Can anyone point out the burdens and obstacles that I may have to cope with and overcome in order to make a idea like this a reality. Note: If your going to tell me this is not possible please do not bother, I need constructive ideas here only, the fact that this software exist is proof that a ram disk is possible, I just want to make it external.',\n",
       " 'Hello!I have been trying to research standard ways to perform sampling (MCMC) high density regions of multidimensional probability distributions using computer programs. As far as I can find, there do not seem to be any standardized ways of performing this sampling - and often requires the user to translate the mathematical algorithm into computer code.I tried to attempt the implement this algorithm over : [-standard-method-for-mcmc-monte-carlo-markov-chain-sampling](-standard-method-for-mcmc-monte-carlo-markov-chain-sampling)Can someone please take a look at it and let me know if this is correct?Thanks!',\n",
       " 'Are there any resources on what are non-computable processes or functions and how do they look like. I am trying to search for them, but more often than not, something on the topic of Consciousness or Roger Penrose comes up.I want to understand what is not a computation and I am pretty sure there is a huge amount of research on such a topic.Thanks.',\n",
       " 'Hello, people. English is not my first language, so, sorry for any grammatical mistake.&#x200B;Have you ever saw any tv show, or movie, or video game, with any direct reference to a subject from computer science?&#x200B;I see a lot of references to Artificial Intelligence and Hacking, but few to other areas of CS. I am curious to see if there are references to other areas as well.',\n",
       " 'I know how Bluetooth works. It is completely wireless. In the case of the internet, let us say we are talking about Google servers. They have an IP address and some information stored in them. My PC has an IP address. Can it somehow get the information from the Google servers without any wired communication between intermediary devices?',\n",
       " 'So for instance if I wanted to encrypt one of the above or multiple based on a specific location so it would only be unlocked if the password was entered while at a specific location such as let us say altitude, so the PC would have to be at a certain height to then be able to be unlocked with the password, is this possible?Because if it is, this would mean that essentially you can completely insure that even if they got the password right it still would not work, because they are not at the location which would be required. I have tried to find out by doing a quick internet search but no results show. Any information would be helpful. (This is just for my personal curiosity.)',\n",
       " 'Video: -TwWhy do we initialize the table to 0 in the knapsack problem at the start?',\n",
       " 'Has anyone ever heard of \"evolutionary computing\" and \"genetic algorithms\"? They are computer algorithms used in optimization that were inspired by phenomena occurring in nature.I posted a detailed question on stackoverflow relating to their theoretical justifications : [-the-following-computer-science-optimization-theorem-have-a-proof](-the-following-computer-science-optimization-theorem-have-a-proof)Can someone please take a look at it? Thanks!',\n",
       " 'Hello there!Could someone tell me which algorithm should I use in order to do the following:I have X groups with different number of elements in them and I want to find the best combination of n chosen groups in order to maximize the number of unique elements (alternative version maybe even choosing which elements).Should I use some optimization algorithm or something or is it easier than that?Thanks in advance!**Edit (to add maybe a more accurate description of what I am searching for):**Parameters:I) collection of setsII) n - size of group to considerIII) (Optional) - list of elementsOutput: which n sets from collection should be selected in order to maximize unique elements (if parameter III is given, consider only elements from that list) considering all sets from collection.**An interesting case I think worth mentioning** (made me wonder it might be optimization problem and not a brute force that would check for set with more unique elements and go next for  set with more unique elements disconsidering previous added):Set 1: {A,B,C,D,E,F}Set 2: {A,B,C,G,H}Set 3: {D,E,F,I,J}for n = 2, optimal collection here would be sets 2 and 3.',\n",
       " 'Is \"memoization\" also called \"memorization\" in computer programming?',\n",
       " 'With the Applr M1 processor using integrated DRAM on the SoC, with affords faster memory access, do you think this will be adopted by other cpu companies? Is it likely x86 cpus will be manufactured with embedded dram in the next few years?',\n",
       " 'Most of people will become engineers tbh. Few people will invent a new algorithm or prove a computing theory. Most people will deal with writing simple CRUD code in certain business. Why do we keep calling CS not CE?',\n",
       " 'I am curious what actually happens when I open a connection from a client to something like a backend or database. Like, what is a connection actually? I have been struggling finding out how to understand the nitty gritty details of how a connection actually works. Thanks',\n",
       " 'Is the go-to language C? or has it been upped? and do you think this will change in the future? or does it even matter what language is used? Can we build an OS from Python?I guess I am asking programming languages that best communicate with modern hardware architectures',\n",
       " 'Are all machine laguages the same on a single computer architecture even when written in different programming languages?Like is the instruction of if (x==2) then print(x) the same machine language for C and python?',\n",
       " 'When you install an operating system from a USB. Am I correct that it installs it from the USB then copies itself over to the harddrive? Or does it copy itself to the harddrive first then install the operating system from there?Second question is, when the OS is copies over to the harddrive is that piece of hardware essentially your whole computer? Like if I swapped out two laptops harddrives from one to another, would they both just boot up as if they were switched?',\n",
       " 'As the title says, i have read some chapters of a book called **Computer Organization and Design: The Hardware/Software Interface,** finished the part about variables, registers and memory interactions. But this sentence completely staggers me, can someone elaborate/explain(english is my 2nd language  )  The sentence:  **Many times a program will use a constant in an operation—for example, incrementing an index to point to the next element of an array**',\n",
       " '&#x200B;[This uses the simulated annealing algorithm - source code in comments]()',\n",
       " 'Let us say I have a newsletter people can sign up to. When a user signs up, I hash their email and store it in the database. What I do not understand is how I would then use the hash (I no longer have access to the actual email as I have hashed it) to send my newsletter to them.Also sorry if this is the wrong sub, I am not entirely sure where else to post this. Thanks!',\n",
       " \"It is almost time for me to select a master's program within Computer Engineering/Computer Science. I want to do something valuable and so I have been thinking of going into high performance computing and doing research on applying analog computing to AI hardware. Does anyone have any similar experiences or thoughts on the subject?Edit: For those that have never heard about the concept before, [here is]() a good introductory video\",\n",
       " 'Does 1 sequence bit really suffice for a reliable transfer?  Are there still no scenarios of endless loops or corrupted( and accepted ) packages?  I am confused because my intuition tells me it reduces the risk of failure but does not eliminate it.Edit: Adding reference images.&#x200B;',\n",
       " 'I am a second year CS major and the language I have the most experience with is C++. How do I begin making stuff with visuals? Are there any online courses that can help me?',\n",
       " 'A few years ago I worked on a project with a friend of mine and I remember we used a language based off futurama, I believe the language was some kind of fork of Ruby. Not sure though. Cannot seem to find it anywhere, anyone know what that could be? Thanks! (It was a web app if that is of any use!)',\n",
       " 'Any tips about needed math or study methods that can help me to finish this book faster, and get as much as possible of the content? And for those who have already read, what is your opinion about the book?',\n",
       " '    def f(n):        c = 0        for i in range(n):            j = i             while j < n:                  j = 2*j                  c = c + 1 My professor tells me this is O(n), but his explanation did not make sense to me. The way I see it, the complexity boils down to log(n) + log(n-1) + log(n-2) + ... log(n-n) and I do not see how that is asymptotically n rather than nlog(n).',\n",
       " 'Hello computer sciences lovers,Let me join your community by presenting to you a project I have always wanted to make (or simply have) since my young age but never tried until now. I am currently designing an\\xa0**8-bit computer**\\xa0with Zilog\\xa0**Z80 CPU**.\\xa0**It is not an emulation, and not powered by MCU**. I hope that it will be both entertaining and educational: ideally it would be used to learn\\xa0**hardware, programming in assembly, Basic and even play 2D games**\\xa0etc.[Zeal 8 bit computer prototype]()**Now the key features already working:**· Native OS fully written in Z80 assembly· ROM and RAM support with banking (both internal and external)· Support external extension card (for adding RAM, ROM, Flash, EEPROM, and so on...)· PS/2 keyboard support (targeting a full 104-key keyboards support)· 16 GPIO pins (some used by the system)· Software I2C· Software UART· VGA graphics support (powered by an\\xa0**FPGA**)· Sound support (powered by the FPGA)Here is my video showing the design process:[\\\\_eEDAQWMdY&t=25s]()Feel free to give me your feedback or remarks',\n",
       " 'Are there any websites like hackthebox for Machine learning which make it fun and challenging? I want to constantly do projects and get my hands dirty in it while having fun.',\n",
       " 'Any good YouTube channels for new people learning coding and coding fundamentals. I watch lots of math videos on YT and if anyone where to recommend me for math channels I would say 1blue3brown, Veritasium (sometimes). I was wondering If anyone knows any good channels that does not sticky teach how to learn a certain langue step by step but more deep understandings and good advice that I will keep back in my head as I keep learning to code. Interesting topics as well, like those math channels. Thanks',\n",
       " '     M ← ∅        ▷ Initialize with an empty matching P ← getAugmentingPath(G,M)     while P is not empty do     M ← M ⊕ P     P ← getAugmentingPath(G, M) This is an algorithm for maximum  matching. however, what I do not understand is that before the iteration  loop starts, what exactly is P getting intialized with? Since M is set  to nil and we are passing that as a parameter.Also can someone give an example output of what kind of return value we expect from the getAugmentingPath function?&#x200B;For example:&#x200B;What would be the output of the augmentingPath function in the first few iterations? Someone please help as I can not understand this at all.',\n",
       " 'Title says it all.',\n",
       " 'Imagine you have a List or Array like this:`[1,1,1,1,9,9,9,9,9,5,5,5,6,6,7,7,7,7,7,7,7,0,0,0,12,12]`Then it may be beneficial to display it like this, e.g. for compression purposes:`[(1,4),(9,5),(5,3),(6,2),(7,7),(0,3),(12,2)]`or even like this:`[1,4,9,5,5,3,6,2,7,7,0,3,12,2]`On the left side of the tuple you put the element on the right side how many times it occurs in a row. What is this structure called?',\n",
       " 'I have recently passed my algorithm course where I learned about 15 algorithms. My professor has suggested me to solve problems in online judges. Now that is where the problem begins.When I was in the course, the processor would provide exercise related to a topic he had just taught. So every time exercises were given, I knew which algorithm it is relevant to. But now when I pick a random problem from an online judge I am lost. I do not know what algorithm might it be relevant to, I cannot write a single line.I was kind of ahead of my class in some of the programming courses but now I am losing interest in programming because I cannot identify the algorithms needed to solve problems. Should I give up programming(which will be a disaster)? Any suggestion on getting out of this situation? Sometimes people say \"keep practicing\" but it is not helping. How can I even keep practicing if I have to look up the answer of every problem I pick?',\n",
       " 'Was reading the CLRS book section regarding insertion sort, and it gives the following code for insertion sort:    INSERTION-SORT(A)    for j = 2 to A.length{        key = A[j]        i = j-1        while i > 0 and A[i] > key{            A[i+1] = A[i]            i = i-1        }    A[i+1] = key    }CLRS gives the first loop invariant saying that A\\\\[1..j-1\\\\] are in sorted order.  But I am not entirely convinced that is the case from a mathematical standpoint.  Intuitively looking at an example it is pretty clear that A\\\\[1...j-1\\\\] is in sorted order, but I am wondering what could be the loop invariant for the inner while loop, since I would assume its why the loop invariant CLRS gave holds.  Not the most useful question from a practical standpoint but I really like math and am curious what the loop invariant is for the inner loop.  Also not sure why CLRS would leave it out.EDIT: formatting',\n",
       " 'I have been thinking about this from a long-long time and thought of sharing this here. Programming Languages are given a lot of importance than they deserve in the programmer community. I have seen a lot of people flexing that they know x number of languages which is incredibly shameful. Most of the programmers(90%+) would always give programming languages a lot of importance. Programming languages do not matter much. The core concepts of programming matter a lot more than programming languages but still a lot of people want to learn more and more programming languages. Senior software engineers know this that programming languages do not matter as you can learn a programming language thoroughly well in a night if you know the concepts well. By concepts I mean all the things that are applied while making a product(e.g. a web app), if you know compiler design, it would be incredibly easy to grasp a language, that is where concepts pay off.This problem\\'s because is bad platforms and bootcamps but I would not name them. They teach the programming language and nothing else. That does not pay off as you might get a freelance job for 10$/hour but you will not be able to land a good 100k+ job at a good company. And I will not even like to call you a programmer if you just know the programming language.You actually get the taste of core concepts when you go to get a CS degree from a formal college. Yea, I hear you saying that \"Duh, I cannot go to college\", then learn it yourself. I myself am 14, started to program seriously since 13 and I cannot go to college too. So I started learning the concepts myself. I do not know a lot of programming languages and I just know JavaScript that too not to a great level but I have come to learn system design and databases pretty well and I can make a web app easily. Programming Languages are just a way to implementing our programming thoughts, it is just a tool. Just like english is a language to express our thoughts about philosophy, science, etc. Do tell me your thoughts about this, I would love to read them. I have been writing and encouraging this on other platforms to like YT and dev.to.',\n",
       " 'What software process model uses component-based development? What software process model can be used for developing a new software using some components that already exists?',\n",
       " 'And does not make sense to measure the recursivity of a function?',\n",
       " \"Almost every OS we use today was conceived and it is development started in the 80's or the 90's and since the 2000's no significant new OS's pop-ed up. Obviously the major OS's were developed and upgraded further while new technologies were incorporated in them, but yet again those OS's are based on 90's concepts and technologies. So why no brand new OS's were created since then? Were those OS's designed to be future-proof? For example was Linux/Unix so advanced that it could support every breakthrough in computer science with just minor updates ,or nowadays every company/organisation has figured out that it is not worth to write something new from scratch?\",\n",
       " 'Found my Play station 2 recently and remembered it had a 8 MB memory card for all my games. God of War used the most space in the memory card with 550 KB. How could such detailed game files could be stored in an 8 MB chip (other than the CD) but now everything needs 50-100 GB, for only slight improvement in graphics?',\n",
       " 'Like how mathematicians have the convention that \"2 + 4 x 2\" means \"2 + (4 x 2)\" and not \"(2 + 4) x 2\". If I had \"A and B or C\" does that mean \"(A and B) or C\" or \"A and (B or C)\"? Does it change with NOR, NAND, XOR, NOT etc?',\n",
       " 'Does the head node store a value, or only the address?',\n",
       " 'From an IDE’s perspective, does and expression with an equation, that requires order of operations, take longer to process than code that has the order written separately to its own defined register?e=y’+(y’-y)+x’+(x’-x),Vs.ey=y’-y,ex=x’-x,e=y’+ey+x’+exE: Carriage return did not function; insert commas.',\n",
       " \"What exactly are they? I know that they are AI's that take information and create new text similar to it, but if I wanted to code one in Python, how would I do it? Some help would be appreciated.\",\n",
       " 'Does anyone know the name of the first break-through search algorithm for classical computing was? I have done some research on it but nothing seems very definite. Any ideas?',\n",
       " 'As an computer science student with an programming apprenticeship done, some topics seem very hard to get motivated on, since I know half of the lectures but am not an Expert. Where does one take the motivation from to do for example Javascript / Html exercises, when you already worked 4 years in Web development?',\n",
       " 'Ok, so, knowing that AI is a series of logic gates, I theorize that programming is going to go extinct, and be replaced with AI training.Instead of writing a program, the program writes itself over time, based on your needs. The logic gates assemble themselves after getting a base neutral network from a trainer.Building off of that theory, processors can be much more like the human brain, taking input data, and learning to route the output to the appropriate place, while learning what output is to be expected.In this scenario, a single piece of hardware could theoretically become whatever it was needed to be, in the same way software defined radio works. The processor would be a hardware neural net, with variable values. External hardware would automatically train the net when it was plugged into a processor port.Are there any known concepts like this?',\n",
       " 'Of course form factor is a big deal for the raspberry pi. Desktop CPUs really are not very big and for a slightly larger raspberry pi it could have it. The only restriction on that is the power demand. Newer CPUs consume 65W whereas the RPi4 consumes 4-5W. The heat dissipation required as a result of the power demand could be an issue without added cooling.Is there another reason why a better CPU is not used in a raspberry pi?',\n",
       " 'I have not touched math in 12 years. I am starting from the bottom at basic algebra.Can anyone recommend a path starting from algebra to be successful in the AI field?I am not looking for a job in tech, I am doing this for me because AI fascinates me. So time is no obstacle for me, I could spend the next 5 years learning all this math If have to. Thank you for any help you all can give!',\n",
       " 'I read this in some book, \" Instead of focusing first on programming, we can learn how to model and design. We can also learn how to use different modeling and design approaches together and in context to determine what a system will do and how it will do it. \"What does model and design mean computer science and software engineering in general?',\n",
       " 'I have a lot of ideas for personal projects I would like to work on. The problem I keep running into is that I need data from various places that either do not offer it up or using their APIs are extremely expensive (i.e. various MLS APIs). What is the best approach to obtaining data you need? How do you guys get data for your personal projects?',\n",
       " \"Hi allIn an effort to became a better programmer I wanted to check what actually makes a given algorithm 'good'. e.g. quicksort is considered a good algorithm - is that only because of average-case performance? Is there a community-approved checklist or something like that when it comes to algorithm evaluation? I tried looking on my own, but the deeper I dig the more questions I have instead of answers.P.S. If you know any papers or articles that go in depth about the topic that would be great\",\n",
       " 'I cannot find the answer anywhere to this question, but I have been looking into the circuit diagram for a bit-shifter and I cannot figure out what the purpose of the OR gates are. I have tried putting in sample values for the inputs and working it through for left and right shift, with and without the OR gates at the bottom and I get the same values with or without the OR gates. If that is the case, then why are they in the circuit?You can see a diagram of the circuit I am talking about here: [-shifters-using-logic-gates/](-shifters-using-logic-gates/)',\n",
       " 'Hi folks. In short, the Euclidean method of calculating GCD says that;    suppose a>= b and rem = remainder, gcd(a, b) = gcd(rem(a,b), b)Implementing this method is also easy. However, I do wonder what its algorithmic complexity is. Or does it exist in terms of known notations? I know some basic ideas behind categorizing algorithms such as recursivity, loops, binary searches, etc, but I could not categorize that. Thanks in advance.',\n",
       " 'I understand sending and receiving letters is similiar but I am just curious if there is a similiar process in daily life ?',\n",
       " 'Let Us say we have a arbitrary grammar for which we would like to know how many syntax trees does it generate.We know that there are two always two derivations and 2021 leafs.How to start?',\n",
       " 'Hello,I understand what a stack is as a data structure; it is like a stack of plates at a buffet, where you only have access to the top plate. However, people seem to talk about THE stack of a computer, and the stack overflowing. For example, I think I have heard that it is bad to write recursive functions, because it can because the stack to overflow.Can someone please explain what this is?Thanks!',\n",
       " 'Is it a data base that uses the observer design pattern to refresh and post new entries into the database? That is what I am thinking in my head but I am not quite sure. Just trying to learn on Xamarin got a good bit of experience with C#. Thank you so much for your time and I am sorry if this is not the proper way to ask.',\n",
       " 'Hi guys, I wanted to know a brief difference among these four fields in computer science.so please any kind of link to the difference or giving a brief difference in this post will be very helpful. Thanks in advance',\n",
       " 'Hi all, I remember using a site that allowed you to wire logic gates to construct more advanced ones - it was really helpful for me but I cannot remember the name of it for the life of me.I am almost certain that you only started out with a NOT gate and I think it there was an AND gate. I think you could choose the number of inputs to create the gate and had to wire them to enable the truth table to operate in the correct way, allowing you to use the gate - for example, after an AND and NOT gate you you could make an NAND, OR gate, then an XOR ... If anyone can knows the name of that website I would be really grateful !',\n",
       " 'Just a bit of background information: I am currently in high school, and I am taking a course about algorithms on Coursera. I do have previous programming experience.I am able to understand the concept behind algorithms and why and how they work, how efficient they are etc... However, when I try to implement or code those algorithms, I get stuck. I know that to solve this problem I should practice more, and I do try, but for some reason, I just cannot seem to \"translate\" the algorithm into code. This is really affecting me because I really enjoy computer science in general, and I understand the concepts, but I just cannot seem to find a way to transfer my thoughts into code, and it kind of discourages me. However, I am not going to give up anytime soon. What can I do to solve this problem? Any advice is greatly appreciated! Thank you so much :)Sorry if this post does not belong here, I am not sure where to post it.',\n",
       " ' I am donating a couple of computers to an elementary school in El Salvador and Mexico. I was hoping to also pack them with useful educational software that the kids can utilize (typing games, English learning games, match games, etc.) Anyone have good recommendations for this? I am anticipating that the place will not have internet connection, so I want to make sure they can use them without an internet connection.',\n",
       " \"Here is what we want:    s = 0;    for(int i = 0; i < n; i++){    // n could be any number        s = s + x       }With this digital logic diagram, it is impossible:&#x200B;[No Register]()The above digital logic diagram is a logical circuit with feedback. The combination logic unit is an accumulator (with the '+' on it).Using this diagram Suppose we feed a 1 into the accumulator (assuming we are working with 2 bits). This is the progression.1. We begin with the circuit above. With the inputs of the accumulator being x and y&#x200B;2. We feed 01 (assuming we are working with two bits of data) into x&#x200B;3. 01 is fed into the accumulator, and the output is 01 because we added nothing to 013, We begin the feedback. x still remains 01 because it had not been updated. y is now 01 because we fed the output into y. Sowe feed 01 and 01 into the accumulator&#x200B;4.  We add 01 and 01 into the accumulator. So we add 01 + 01, which is 10&#x200B;5. 10 is the output. We then want to feed 10 into the accumulator.&#x200B;6. x still remains 01 because nothing has updated it. y is the previous output of x and y.7. (this continues infinitely)So I understand that this loops forever and thus, an incomplete solution.This problem is completed with the addition of a register.&#x200B;This fixes the problem. To preface, I am familiar with registers on a software level and had an internship doing reverse engineering so I conceptually understand how registers work. In this example, how does a register help? How does it add the control? How does it make it so that s is initialized to 0?I would appreciate this a lot.EDIT: SolvedSummary as to why the registerI understand registers on a software level. I have interacted with them a lot when I had an internship doing reverse engineering. But, I have wanted to up my knowledge so I am resisting the digital logic implementations of them. I digress, but it was to illustrate I have somewhat of an idea of what I am doing.The reset signal from the register is sent indicates the end of the loop.As for the initialization, the load signal indicates to replace the state of S. In other words, initialize S.So, to recap:The register does the following ( slight over simplification):1. CLK = State Change2. LD = Initializes3. Reset = Control\",\n",
       " 'Hello everybody may I ask on why is while(1) an endless loop?',\n",
       " 'I have searched in on google. The reason they say is 1. It is too slow.2. It is not byte addressable.Let Us keep that slow factor aside , why cannot they make it byte addressable?',\n",
       " \"I have read that HDD/SSD's are secondary memory and they are not counted in either RAM or ROM. So Is there any ROM in my laptop or not? If it is then how to check? Unlike in mobile phones we are provided with 32/64 GBs of RAM.\",\n",
       " 'What Is the difference between them? Also, is an array a data structure or a data type.',\n",
       " 'Hello there. Today in class, my professor began going over datapaths, and there was one example he did not have time to finish that I was curious about. The example was suppose to be a multiplier (64 bits) that used a 64 bit adder. He went over 32 bits, and said he would get to this one in the next lecture, but \"in the meantime, try and figure it out\". I cannot figure it out, but want to know how to make one like this. Can anyone help? Thanks.',\n",
       " 'HI there, as I have studied Operating System subject more than 20 years ago with amazing [Operating System from Andrew S Tanenbaum](-Systems-Implementation-Andrew-Tanenbaum/dp/0136374069/ref=sr_1_29?dchild=1&qid=1634753181&refinements=p_27%3AAndrew+Tanenbaum&s=books&sr=1-29&ufe=app_do%3Aamzn1.fos.25548f35-0de7-44b3-b28e-0f56f3f96147)What are the current Textbooks used in USA universities ?Best Regards',\n",
       " 'Title. When I mean by specialized binary trees, I mean like heaps, segment trees, etc.I feel like major cloud providers would have this kind of thing, but I am not sure if I am looking in the right direction because I cannot find any results. If there is not, can it be explained why? Thanks.',\n",
       " 'Almost every single time I see a question I do not know where to start from to solve it. But every time I see the answer I understand every line of the code made and why it was this way to solve the problem.My only concern is how can I improve my self and look at the question then solve it immediately without seeing the answer and realizing that I overthinks?Is it the lack of practice or understanding or problem solving skills (which is also practice)?',\n",
       " 'Recently, I watched this video [here]() about  algorithms using to match regular expressions. I learned that the string `.*a.{n}`  produce number of DFA states proportional to the exponential of n.Since GNU Flex tool using DFA for its search engine, I tried a simple code as below:    %{    %}    %%    .*a.{16}  { return 0; }    .         { return 1; }    %%At n = 16, Flex produce more than 100K states. At n = 20, my computer run out of memory and kill the process. It is really  nice to see theory work in real code.Anyone know any simple grammars which break Bison?',\n",
       " 'Hello, is there any resources out there that teach data structures and algorithms (books,Ecourses,etc.) I feel like it is really important to understand this topic. Any suggestions?',\n",
       " 'I lost my wallet recently, containing my debit and credit cards. I locked my credit card directly from the banking app. But I have to call or come to a branch to lock my debit card. It is not like there will be a whole different implementation for it, right? Credit cards usually have more security than debit cards so will not the code (or methods) used be almost identical?Is there a (programming) related reason why both cards cannot be locked from the app?',\n",
       " 'Tech Support: /r/techsupportComputer Recommendations: /r/SuggestALaptop or /r/buildapcSorry if this comes off as rude, but despite the previous stickied post people keep making posts asking for tech support or asking which Mac Book they should buy for college. This is not the subreddit for those posts. Computer Science != IT ~~despite what all my relatives think~~. This thread also is not the place for those questions. Use one of the above subreddits.',\n",
       " 'It seems related to metaprogramming , was wondering if someone could break this down for me ?',\n",
       " 'In math for cs lab, the instructor stated that there are 2 types of induction. However, if I grasp correctly, they must be equivalent.    Strong induction: (P(0) ∧ P(1) ...\\xa0∧ P(n))   ==> P(n+1)    Induction: P(n) ==> P(n + 1). So how do they differ? If I just make all logical operations from 0 to n in induction, do not I reach the exact same statement with the strong induction? Thanks in advance.Edit: Thanks, everyone!',\n",
       " 'I would like to propose a modified version of the Turing test that I believe no computer program could be written to pass. I believe this modification makes the test only passable by humans because it makes purpose-driven seeking of information the independent variable and not the provision of answers to pre-defined questions. This lack of having a pre-defined nature is the heart of the claim because, though artificial intelligence (hereafter “A.I.”) can be self-aware, it cannot be self-defined.In the modified Turing test, there are two (2) apparent Turing tests taking place in two separate rooms. Finally, there is a third room that will be explained at the end. In the first room, a typical Turing test is run. This means there are two humans and a computer in the first room. The “investigator” human asks the questions and receives the answers, thus, we can generate two transcripts that have identical questions and are only different in their answers. This is standard. In the second room, there are two computers and one human. The “investigator” is itself a computer that has already passed the standard Turing test. Thus, in this second room, it is the computer program that is actually serving the role of trying to distinguish between the answers of a computer and human. Again, we can receive two transcripts of the Q & A.The human investigator and the A.I. investigator In both of the first two rooms must be provided sufficient time for their questions and interactions with the computer and the human that they will end up judging. They must feel satisfied that they can make an intelligent guess in their own Turing test attempts. Finally, in the third room, we have our real investigator, This investigator will compare the four (4) transcripts and judge which of the two rooms had a human questioner and which of the two rooms had a computer program questioner. Thus, the true object of the examination is to see whether a computer program could match a human in asking the questions in a Turing test as opposed to answering them. Assuming a large enough amount of data, i.e., sufficient questioning and a long enough time given for the “interview process,” I do not believe a computer program can be designed that could pass this modified Turing test. My hypothesis is that because the “investigator” side of the traditional Turing test will be filled with questions that will make it apparent that a human is doing the asking. Importantly, the human investigator and the computer investigator in the first two rooms must NOT know that they are actually the subsections of the third room test. This means that the A.I. Investigator (who already passed the traditional Turing test) will now know that it should be trying to imitate a human.The point of the modified Turing test proposal, in summation, is to show that the A.I that passed the Turing test can only do so when it is, knowingly, the object of the study. Providing the second layer into the experiment would turn the A.I. into the apparent “studier” and, yet, unbeknownst to the computer, still actually the object of the study.This proposed modified Turing test will allow for a better barrier to defining humanity from computer programs should the hypothesis hold true that artificial intelligence will not be able to pass this modified version of the Traditional Turing test.Please feel free to consider how this modified Turing test would work should the experiment ever take place.',\n",
       " 'I have been learning C.S and quite confused about binary and how it is processed in CPU and hardware and turned into software. I mean entirety of it and I am quite confused where to start. Anyone experienced willing to help me out?',\n",
       " 'Hey I am kind of new to computer science learning, one thing that I keep on hearing though is the use of heavy mathematics in it such as calculus. To people who have a knowledge beyond mine can someone please give me a summary of what that is all about as I am just learning calculus right now too and I am not the biggest fan so far…',\n",
       " 'Hi, it would be great if people could suggest some books on the subject of computational methods. Our lecturer gave a list but I did not find them simple to understand. I want a book that explains the theory like the reader is coming out of school.Edit : I think I gave the wrong idea, computational methods does not mean DSA. It means mathematical methods for solving differential equations (time, space equations) in computers using approximationThe list  :  K.A. Hoffmann, S.T. Chiang, Computational Fluid Dynamics,Volume I, 4thEdition, 2000P. Moin, Fundamentals of Engineering Numerical Analysis, CUP,2001C.A.J. Fletcher, Computational Techniques for Fluid Dynamics 1:Fundamental and General Techniques, Springer-Verlag, 1991P.K. Kundu and I.M. Cohen, Fluid Mechanics 2ndedition,Academic Press, 2002J. Glyn, \"Advanced modern engineering mathematics\", PrenticeHall, 2004J.D. Anderson, Computational Fluid Dynamics: the basics withapplications, McGraw-Hill, 1995E.F. Toro, “Riemann Solvers and Numerical Methods for FluidDynamics. A Practical Introduction”, Springer 1997 ',\n",
       " 'What is the state of the art of peer-to-peer networking on the internet? Hosts behind (possibly carrier-grade NAT, ideally no hosts involved other than the peers. How close are we these days? Will IP6 make a big difference or are too many deployments still done in a way that does not give each device a routable IP address?',\n",
       " 'Can anyone explain to me how exactly that works? Yes, it is an assignment but I somehow keep getting the wrong results over and over again. Sorry if this is not the right sub for this. The question is as follows: Subtract the number 1100011101011011 from the number 0010010001100101. The format is F(2, 11, -14, 15, true) IEEE 754-2008 with half precision (16 bits). Use „round to nearest- round to even“.My result : 0100100000010001Their result : 0100011101011111What I did first was make the exponents the same and adjusted the value to the right (mantissa we say, not sure in english). I then added the two numbers since we have a -(-number) which should be the same as +. At the end I rounded using the guard, round and sticky bits. I really do not see the problem and this is an example in a long series I have tried solving , getting none correct. If someone can explain what I am doing wrong, I would be very thankful.',\n",
       " 'Hello,I am currently struggling to find a book that goes in-depth in the explanations of digital modulation techniques like BPSK, FSK, Differential PSK signals, QAMs, Spread Sprectrum and so forth. Are there any books you guys recommend for digital modulation techniques? Thanks!',\n",
       " 'There is too much noise and sensationalism on traditional social media. So I want to curate the best podcasts, videos, and articles in computer science into one place. The goal is to improve the signal-to-noise ratio, You can visit the feed as it is [here]().Here are the people I have found so far whose content I am curating:**Jeremy Kun, John D. Cook, Scott Aaronson, Lex Friedman, Donald Knuth, Dick Lipton, Jelani Nelson, and Andrew Ng.**I am sure I am missing a ton. Who are those people?',\n",
       " 'In current times there are compilers that exist for every language. This helps automate the process of writing code for many programs. What kinds of programs require completely original compilers? Is this for mainly academic purposes or are there other reasons to consider a new compiler? Such as a program made for a specific purpose. Thanks',\n",
       " 'Hello. So as of now I have zero experience with programming. I have just decided I am going to start learning how. Currently I am working as a tutor at a school through an AmeriCorps service program. I noticed during the last staff meeting when they were talking about compiling data to determine which students need the most extra help (basically where they want to send me and the other support staff) that a lot of the teachers were pretty frustrated with the amount of effort it takes to get all that information organized. I am supposed to be doing a project for AmeriCorps to help the school and system out, and I was thinking it would be a good idea to try to develop a program that could streamline this process of data collection/analysis. I would have until the end of summer 2022. From zero experience with coding other than a little bit of HTML in high school, which I do not really remember, do you think I would be able to get the knowledge and experience in order a write a program to do this? Assuming I do not get terribly bored with it or burnt out, I plan on spending a few hours a day learning. Also, if this does seem feasible, what language should I be primarily focusing on? And lastly, if anyone has any advice for someone starting to learn to program, that would also be welcome. I am most interested in the interactive online classes like [freecodecamp.com](), as I tend to get distracted during lectures. I can definitely see myself sitting in on lectures and paying attention/enjoying them once I start getting the basics down. Thanks :)',\n",
       " 'At what point does a simulator become an emulator / What are the absolute requirements for something to be considered an emulator, and would the following program (little man computer)  be considered an emulator?/',\n",
       " 'The Art of Computer Programming by Donald Knuth is famed artwork of a literature on Computer Science.What are some other books in Computer Science which goes to similar depths and breadths like Donald Knuth??(Could be in any field or domain relating to Computer Science)',\n",
       " 'Does a solution exist to what I will term the \"3 party transaction problem\"?Let the problem be defined as follows...There are three people: A, B, and CIt is common knowledge among all parties that A starts with $100. This $100 is in a vault and cannot be shown to B nor C.Let us say that C is approached by A who offers C a $100 IOY (I owe you) in exchange for some widgets that C owns.At the time of the transaction, how does C know that A has not already given B a $100 IOY?What evidence might A be able to provide to C to prove that A has not already given B a $100 IOY?note: C does not know how to contact B so cannot ask B any questions directly.',\n",
       " \"So right now, high end (and soon enough low-mid ends as well) video cards come with AI accelerators, like nvidia's tensor cores.But as we have seen in the past, whenever a technology emerges in one hardware component (like graphics in CPU in the older days), it eventually gets it is own dedicated hardware, like graphics splitting from CPU.Do you think this will happen to AI acceleration in the near future too? Like have a dedicated AI card?\",\n",
       " 'Hello,I am interested in the stats of the coding time / testing time ratio. If you are working as a professional developer and you are using tests (unit, component, contract, etc.) what is the time spent on coding / time spent on the development of the various tests.Example: 1 day coding 2 days testing (unit, integration)',\n",
       " '**Corresponding paper:**  []()**Abstract**Question and answer (Q&A) websites are a medium where people can communicate and help each other. Stack Overflow is one of the most popular Q&A websites about programming, where millions of developers seek help or provide valuable assistance. Activity on the Stack Overflow website is moderated by the user community, utilizing a voting system to promote high quality content. The website was created on 2008 and has accumulated a large amount of crowd wisdom about the software development industry. Here we analyse this data to examine trends in the grouping of technologies and their users into different subcommunities. In our work we analysed all questions, answers, votes and tags from Stack Overflow between 2008 and 2020. We generated a series of user-technology interaction graphs and applied community detection algorithms to identify the biggest user communities for each year, to examine which technologies those communities incorporate, how they are interconnected and how they evolve through time. The biggest and most persistent commu-nities were related to web development. In general, there is little movement between communities; users tend to either stay within the same community or not acquire any score at all. Community evolution reveals the popularity of different programming languages and frameworks on Stack Overflow over time. These findings give insight into the user community on Stack Overflow and reveal long-term trends on the software development industry.',\n",
       " 'Hello,I am taking an intro class to Fuzzy Logic, and I know nothing about the subject. I am supposed to read some articles on the subject and explain them in paper for the mid-terms but since the subject is wide, I am afraid I might end up trying to understand rather complex and upper-level articles. This is not my native language either so that might be double the problem. Could I ask for some suggestions on the articles to read, please? Thank you in advance.',\n",
       " \"There seem to be many factors that counteract the hardware and computing advances of recent decades: bloat, inefficiency, etc? Are there any people or projects working on this? From outside the field it seems things such as software quality have been a wet blanket on Moore's Law. I mean, even as a layperson, Windows seems like poo.  Any insight or thoughts on what is going on here or solutions? I am technical enough to have a dual boot and use terminal on ubuntu if that means anything. Please be as detailed and technical as you like.Edit: hardware has become way better and software has become worse. I cannot help but wonder how much the latter is negating the former and if there is anything currently being worked on or explored to help.\",\n",
       " \"Even though coding fascinates me, computer science just does not come naturally to me. The only reason why I did well in my introductory computer science class was that I kept bugging the person next to me for help. I am frustrated because being a software engineer interested me (in fact, I loved going on Scratch and looking at peoples' programs on Khan Academy when I was a kid), but now I am not sure anymore.\",\n",
       " 'The code is as follows:    while z.p.color == RED        if z.p == z.p.p.left            y = z.p.p.right            if y.color == RED                z.p.color = BLACK                         //case 1                y.color = BLACK                           //case 1                z.p.p.color = RED                         //case 1                z = z.p.p                                 //case 1            else if z == z.p.right                    z = z.p                    LEFT-ROTATE(T,z)                      //case 2                z.p.color = BLACK                         //case 3                z.p.p.color = RED                         //case 3                RIGHT-ROTATE(T,z.p.p)                     //case 3         else (same as then clause                      with \"right\" and \"left\" exchanged)    T.root.color = BLACKMy problem is this:Case 2 and 3 are given within the same else if statement, with the difference being that, for case 3, only the last 3 lines run, but for case 2, all of the lines run.  But if I were implementing this code, all 5 lines would run all the time.To correct this, I would change the \\'else if\\' statement to an \\'else\\', then use another if statement inside, such as `if z == z.p.right`, where I would have the two case 2 statements therein.I just feel as though the pseudocode is not *difficult to understand* as others have stated, but rather that it is either incorrect, incomplete, or badly written.Why would you include every other if-else and while structure only to leave out another?',\n",
       " 'It would be great if you could point how/where in particular do you use the following:1.  Discrete Structures2. Linear Algebra3. Calculus',\n",
       " 'Let us say you have a maximum integer flow function in a network with 7 edges. The capacity of each edge is increased by one. The capacity of all edges is always an integer. Is there an algorithm that can find a maximum flow in this new network with complexity O(|E|), where E is the set of edges? If so, what would this algorithm look like?',\n",
       " 'If we know in advance the exact set of keys, it is possible to construct a perfect hash function. If the same vein, let us suppose that we wanted to build a key-value store to act as a cache. If we knew in advance the classes of objects that we want to store, the distribution of their sizes and of the read requests, is it possible to build an optimal data store that minimizes read latency and variance, as well as storage overhead ? Is there research to this effect ?This question was vaguely inspired by the article referenced [here](/), comparing Memcached to Redis.',\n",
       " 'I am working on a group project at school for a software development class. We are developing an app that a person on the team pitched.Problem #1: There is barely any communication within the team, just the bare minimum. If I ask the team for feedback via Slack for the design of a page in the app:  there is no response. I ask the team if we should meet in person to prep for our presentation: 0 response.Problem #2: One person is taking it upon themselves to do all the work. They have assigned themself as the project manager, but has not done any PM work of creating detailed stories, making sure there is 1 person per story, and facilitating communication across the team. There is 3 people per story, and for the ones they assigned themself to, they did literally all the work after ignoring message I sent asking how we should split up the work. To top it off, they did not meaningfully respond to my messages but sent a message to the channel that includes the professor to say hey guys I finished the design and code for all three of these pages, I will be ready to demo them during our presentation. To add on, I messaged to say I researched some things and I have some code so I can help with integration (I spent two full days researching this stuff) Again, 0 response so now it will look like I did literally nothing for the project.Problem #3: We grade each other for coding and general business development. I am obviously going to be scored lower and they will justify themselves getting the highest score.I am completely lost. This is my first semester as a grad student and was excited to work with a team having heard how fun it can be. Has anyone experienced something similar? How did you get through it?',\n",
       " 'Coding is not just about learning a language like many people say. You need to have actual analytical and problem solving skills.You can definitely develop your thinking skills but not everyone can learn above basic logical programs. I believe the best coders are born with analytical skills.When people struggle with coding others always tell them to grind it out and to keep practicing. Some people simply are not smart enough or are not wired for coding.If you are a comp sci major because you like spending time on your computer and want a \"guaranteed\" nice paying job, maybe you should reconsider. If you notice a majority of students in your class are a lot smarter than you, reconsider. If you are already struggling early on then reconsider.I am not saying this to depress people or discourage them. I am just trying to save people time and stress. As a failed comp sci major I knew the cards were never in my favor to begin with.',\n",
       " 'I get that it produces a hash value for a password, but, what inputs does it take in?if it takes no inputs other than the password itself (e.g. another word to make the hash unique for a set of data), is not it completely useless?what I was wondering is, does it do this:md5(\"password\")or something like this:md5(\"password1\",\"dog\")md5(\"password2\",\"dog\")where \"dog is a unique key that whoever in charge has decided to use in this specific case?',\n",
       " 'Link: [-backtracking-7/](-backtracking-7/)Here, it is given that it is 9\\\\^(n \\\\* n). But we are always using the same 9 x 9 board. Should not the time complexity be O(1). It does not depend on the input size. Please clarify.',\n",
       " 'Hello everyone, I am currently a 3rd year EE student. I got very interested in Computer Architecture and other Systems topics in my 2nd year. I am decently comfortable with C and can do some basic stuff in systems using it. I have gone through the \"Computer Systems: A Programmers Perspective\" book and completed most of the labs using C. I got to know that most of the Computer Architecture Research is done using simulators that primarily use C++, and profeciency in this language is a must. Can you suggest books relevant to this, which can teach me C++ with the Object Oriented Programming Concepts, programming using threads and other Systems related things which can help me with what I have mentioned above ? Any help would be appreciated.Thanks In Advance!',\n",
       " 'Hello everyone,I want to get better at object oriented design and system design. In order to get better at designing software, I would love to read book/ take a course to get better at designing systems. Please suggest me any books or any good practice which can make me better at designing',\n",
       " \"If I want a certain result to appear n% of the time, how would I apply this in a program? The research I have done only leads me to what probability is, rather than how it is applied in, let us say, games and the percent chance a certain item can appear.I assume the computer has to generate some sort of random number and then based on that make the calculation to determine if the desired result will appear.    let chance = 0.5;    calculateChance(chance);        function calculateChance(chance) {        let x;            // probability code using the chance value            if (x == true) {            print('true');        } else {            print('false');        }    }*Javascript, why not?*\",\n",
       " 'I am reading Richard Feynman\\'s book \"Surely You are Joking, Mr. Feynman!\". There is a chapter on working on the first atomic bomb (The Manhattan Project) and how the first computers hit the scene. I was amazed that despite the past 80 years, the attitude towards computers has not changed at all.>Well, Mr. Frankel, who started this program, began to suffer from the computer disease that anybody who works with computers now knows about. It is a very serious disease and it interferes completely with the work.  >  >The trouble with computers is you play with them. They are so wonderful. You have these switches—if it is an even number you do this, if it is an odd number you do that—and pretty soon you can do more and more elaborate things if you are clever enough, on one machine.  >  >But if you have ever worked with computers, you understand the disease—the delight in being able to see how much you can do. But he got the disease for the first time, the poor fellow who invented the thing.[computers were like that at the time]()',\n",
       " 'I Am a first year computer science student and i was watching someone win a google kickstarter and attempted to complete the problem myself but the whole thing was completely foreign to me. I understand these problems are probably very advanced but i was wondering what approach you guys think would be best to try and learn how to solve problems like this one.&#x200B;There are **N** houses for sale. The i-th house costs **Ai** dollars to buy. You have a budget of **B** dollars to spend.What is the maximum number of houses you can buy?### InputThe first line of the input gives the number of test cases, **T**. **T** test cases follow. Each test case begins with a single line containing the two integers **N** and **B**. The second line contains **N** integers. The i-th integer is **Ai**, the cost of the i-th house.### OutputFor each test case, output one line containing Case #x: y, where xis the test case number (starting from 1) and y is the maximum number of houses you can buy.',\n",
       " \"Firstly, I would like to admit that I am not at all techie, hence the newb question. Basically, I am looking for a term that implies 'first', or perhaps a more computing appropriate wording, 'zeroth'. Like the first block in a chain or the first file on a database. The terms in my head are along the lines of root, core, etc. But that is as far as I can get as a non techie. Throw at me any term that suggests 'first' in a computer sciencey way.Thanks!!\",\n",
       " 'Ok, so I understand that storing passwords in plaintext is bad, and encrypting passwords just means that now we have to keep a secret safe, and that is not ideal either.So the answer is to hash password values to some fixed-length value using a hashing algorithm. A frequently cited problem with just hashing a password is that a hacker could use common passwords and employ the same hashing algorithm and essentially dictionary attack a resource. But something I do not understand is this: if hashing algorithms are deterministic, that is, given the same input they always produce the same output, and the algorithms themselves are known, then could not a hacker essentially reverse the steps taken to hash values and produce the original input? Why is the rainbow attack method even necessary?That is my first question.I also know that salting hashes introduces randomness into the hashed values. I get how this means that an attacker cannot carry out a rainbow attack using common hashes to guess passwords - but then how the heck is the password later verified? If I have randomized the hashed password, how can I check it against credentials I get from the user which will also be salted randomly and hashed?',\n",
       " 'I have been doing small web development projects for the last couple of years and have been wondering how I could create a decentralized dynamic webpage.I am wanting to have nodes that contain the website source code and has a signature of the source with it that then gets compared to other nodes source signatures to prevent unwanted modifications just like how a cryptocurrency would work, but instead of transactions it is the source. I am not sure how possible this would be with a dynamic website.I am wondering if there are any places that have information on creating this type of node network. I cannot seem to find anything as I do not exactly know where to look or what to search for, this is very new to me.I am trying to learn more about decentralization so I can eventually move to working on more advanced projects, I know I am probably talking straight gibberish right now.Edit: I unfortunately do not have the time to reply to everyone, but thanks for all of the info about this, you have all bet a major help!',\n",
       " 'It is stated in my algorithm lecture that\"An operating system can be taught of as an online algorithm that never terminates, rather than a  finite algorithm with input and output.\"  Every time I try to wrap my head around this statement my brain goes blank with a static noise screen, Can someone bother to explain this?&#x200B;',\n",
       " 'We just started learning about this in my programming class and I am sooo confused. Does anyone have any resources or recommendations to better conceptualize this topic? Thank you!!',\n",
       " 'Why we do not use centralized inhouse&public computing centers that would support smart fridges, tvs, laptops and other electronic devices that is using software and ton of unnecessary hardware?Majority of inhouse electronics could run with an assitance of inhouse computing center. Additionally it would boost up computing power of other devices. Laptops, tablets would still need some internal hardware to be mobile but it could boost their capacity in home while playing videogames or at work while working on ie. Video editing. Would not such solution save a ton of materials in manufacturing and a lot of energy while using? It will keep one device complicated (central station) so \"upgrading\" your fridge would be no longer necessary. If you need more power- you simply upgrade your station. All \"go green\" tech companies are blind for such solution or is it more complicated than I am thinking?I run few small/medium companies in chemical industry and I am always looking to optimize certain processes and this just hit me while day dreaming. TLDR- Why we do not use one computing center for many devices?',\n",
       " 'I know for sure zero-sum game trees in minimax can be, but for games which are not zero-sum games, (e.g. utility is represented by A,B, player a maximizes utility A, b maximizes B), what conditions are necessary to make alpha-beta pruning possible?',\n",
       " 'Title, i was always interested in art, mainly paintings, but i do not how to draw for shit. Do Not know anything about the theory either. Is programming enough for this? I do not want it for anything professional, just some fun projects, but with certain decency',\n",
       " '-game-of-che/I was reading this article where it says that computers have memorized every possible game of checkers that could ever be played. Does this mean that is impossible to beat a computer at checkers? Thus, you can only \"tie a game\" of checkers with a computer? Thanks!',\n",
       " 'I read somewhere that exponential functions grow much faster than polynomial ones. But when I plot these two on Desmos, it seems that after a certain value, n\\\\^15 grows steeper than 15\\\\^n. So can we say that O(n\\\\^15) > O(15\\\\^n)? Or am I doing something wrong here?',\n",
       " 'Does anyone know of any tools that can do union find.  Looking for something that will also do percolation.',\n",
       " 'When i tell my program to print a text after 5 seconds how can it know when 5 seconds have passed and what is happening in the cpu.',\n",
       " 'Anyone know of a good book or tutorial on YouTube to learn computer organization, in my case computer arithmetic and number representation???',\n",
       " 'Where can i find exam style questions answers for a level cambridge computer science, i am studying privately and figuring out these answers without help is a pain. So if any knows the source to these answers would be great help. :)',\n",
       " 'So I was thinking the other day, if could computing can be just as fast if not faster compared to most personally owned hardware, will there eventually be a day where almost everything would be cloud based?For example, there would not be a need to download apps on your phone, instead you just have a browser or have a customized browser for each app, eliminating the need for downloading apps.',\n",
       " 'Behind the rhetorical question, do you have examples of algorithms with a non-trivial (heap-)space complexity? For instance, algorithms heavily relying on a GC to achieve a particular bound, or with a smart amortized analysis?Classical algorithms (like sorting, or simple graph algorithms) are often either in-place or clearly linear in the size of the input. Analyses of more refined algorithms seem simply not to take into consideration heap space complexity and focus on time.Where is the Union-Find of space complexity?',\n",
       " 'Is there are a known way by knowing my ip address and geolocation, to calculate to what destination ip address packet must be sent to pass specific route and to what addresses to send packet to be sure my packet will pass trough real target, but end up on \"fake\" target?For example:Having 5 devices/modem connected in network.device number 4 is my real target, but I am sending packet from device 1 to device 5 in a way so device 4 will need to forward packet to device 5, like router will do. But packet will contain interesting information only meaning to device 4, but rest of the network will think that device 1 is communicating with device 5 instead of 4, because in ip header destination is ip of device 5.&#x200B;EDIT:   I am aware how hard is to gain access directly to internet at 0 hops ( being router instead of router)  Hypothetically speaking, assuming \"real target\" is a router a like device with modified firmware to look into rest of a packet to see if packet has content of specific format...  Important:   By knowing own ip, own geo location  and \"real\" target ip, calculate \"fake\" target ip?  Is that even possible mathematically?  ',\n",
       " 'Can someone explain these to me in a way that makes sense. I have to combine all of these examples into one. I understand that ECDH makes the secure connection and ECDSA is what looks at the secure connection and makes sure it is from Bob or Alice. I just want to create a discussion on how these go about. Thanks!',\n",
       " 'I am studying address mapping in cache. In direct mapping( or in general any ) when they divide physical address space into blocks and cache into blocks and each block in cache can have any of the block from physical address space. So if PAS = 2\\\\^8B, cache is 2\\\\^4B and block size is 2\\\\^2B.no of blocks in cache = 4( 0 to 3)no of blocks in PAS = 64(0 to 63)I want to ask is there each memory location assigned a number or what? Or its just how we refer to some memory location? I am totally confused. How memory location is pointed even in the case without being divided into blocks. What is the role of word size? Like if a memory is byte addressable then if we have some data at 0000 0000 ( assume PAS = 8 bits ) then when we are going to read the data at 0000 0000 then we read all the data from 0000 0000 to 0000 0111 i.e., 1 byte?',\n",
       " 'I know there are various ports used in computer networking, and they have their own protocols. Is there a good system to study each port individually to learn in greater detail how to access or use each port for specific uses. Thanks for any information.',\n",
       " 'How is mod(10,-4)=-2?I get that 10/-4 gives you a remainder of -2 if you take the quotient as -3.But when you take the quotient as -2, mod(10,-4)=2So I am so fucking confused here.Is there some sort of rules for mod calculations that I did not understand?',\n",
       " 'Is it right to say that the She Will directly talks with the kernel?If this is the case, does the GUI talk with the She Will or directly with the kernel?',\n",
       " 'Let us say we have two clocks that turn on for a certain amount of time then turn off for a certain amount of time and they cycle through these ons and offs. I am able to set the on and off time for each of these clocks.Is it possible for me to set the on and off times for the two clocks such that they have random looking periods in which both clocks are on at once?Of course it is timed so it random at all, but just so it looks kind of random.',\n",
       " '𝗤𝗨𝗘𝗦𝗧𝗜𝗢𝗡 𝗦𝗨𝗠𝗠𝗔𝗥𝗬:If your RAM uses 256 bit memory modules would not you need more than 8 bits for your data? Because if you only have 8 digits would not they all have to be used for the 256 addresses leaving no digits left to use as the opcode? This question stems from confusion on two Crash Course YouTube video.-------------------------------------------------------------------------------------------------------------𝗙𝗨𝗟𝗟 𝗤𝗨𝗘𝗦𝗧𝗜𝗢𝗡:I am confused by two crash course videos. In the first video they created the RAM using 8 256-bit memory modules (16 latches x 16 latches). So an 8 bit number can be broken up into one bit in each memory module allowing for 256 memory addresses for 256 bytes.In the second video they break the 8 bit number at an address into 4 bits for an opcode and the other 4 bits for an address. They reduced the number of addresses to 16 which makes sense since 4 bits can only produce 16 numbers.This is why I am asking how it would work if you wanted 256 addresses. If you still want 16 instructions you would still need a 4-bit opcode, but would not you also need 8 more bits for the 256 addresses bringing your data at each address to 12 bits? Would not this mean you need 12 memory modules instead of 8?-------------------------------------------------------------------------------------------------------------𝗟𝗜𝗡𝗞𝗦:-KewFLBC1D0l6XRfye&index=7-KewFLBC1D0l6XRfye&index=8-------------------------------------------------------------------------------------------------------------𝗗𝗜𝗦𝗖𝗟𝗔𝗜𝗠𝗘𝗥:Sorry if this question makes no sense. I am a beginner and I may not understand the concepts or know proper terminology.',\n",
       " 'If you have a 32 bit CPU. The text books say that the calculation for maximum amount of memory would 2\\\\^32 bits. =  4294967296. Why does the text book assume the word length would be 1 byte? i.e 2\\\\^32 gives \\\\~4GB of memory space.Why not assume the word length is 32bits? Which would be  4294967296 x 32 bits /1024 /1024 /1024 = 128 GBI know that Windows XP 32bit had 4gb limit, so its not wrong, but looking for a reason.',\n",
       " 'Hi,I have been hearing about this topic a lot. What is the best book to learn this that is very beginner friendly and preferably in python? Or course.',\n",
       " 'Title really says it all',\n",
       " 'I need to compare an input string to multiple strings which I will refer to as fixed strings, and you can assume the latter will not change. Comparison disregards letters with special characters, only letters from A to Z, but case insensitive. I need to try to match my input string to the start of every one of the fixed strings, even if not all characters match, not unlike [approximate string matching](). For example:If my fixed strings are \"`apple`\", \"`bullcrap`\", \"`tomato`\", \"`apricot`\", I should be able to search for \"`Applecrab`\" and get the following matches:    (Apple)crab\\tApp(l)ecrab\\tApplecrab\\t(Ap)plecrab             (apple)\\t\\tbul(l)crap\\ttomato\\t\\t(ap)ricotI also should be able to do multiple input words, as in:fixed strings: \"`i love books`\", \"`book fair`\"; input string: \"`I love`\"; matches:    (I) I    I      |  love  (love)  l(o)ve    (i) love books  |  I     (love)  b(o)oks           I     I     |  l(o)ve love    book  fair  |  b(o)ok fairSince the number of fixed strings is not very small, the solution should employ a decent data structure. I was thinking about trees: a [prefix tree]() seems to be a good fit, but it would not help with loose matches in the middle of a string, e.g. `l(o)ve` and `b(o)oks`, neither would the [Aho–Corasick algorithm](). I do not think [Hamming distance]() can help either. What are some data structures/algorithms I could use to achieve this?',\n",
       " 'Hi guys, do you have any book/lectures/video recommendations to get me interested in Computer Science? I am not asking for a how to code or anything too technical like that but more of a theoretical/hypothetical book or something that makes me be intrigued to learn about the technical and gets me interested in the subject if you get what I mean?',\n",
       " 'Hey!I am getting into PCA and find that it has really useful applications. However i never want to use new methods of analysis, without getting af mathematical and intuitive grip on them.Also i do not have a CS background (currently studying industrial engineering), but am very familiar with linear algebra. I have watched loads of videoes about the topic and understand the principle as being the following;You use PCA to lower the dimensionality of a dataset, thereby making it easier to get an overview of which datapoints are related and not related. We do this by standardising and centering all the data (all variables thereby having the same weight) and putting it in a matrix = A, which has standardized variable 1 values in its first column,  standardized variable 2 values in its second column etc.It is then possible through basic calculations and matrix operations to make a covariance (((x-X)\\\\*(y-Y))/n) matrix, which has all covariation factors symmetrically distributed throughout it like so;&#x200B;However the next step does not make sense to me.It is said, that the eigenvector of this matrix is a principal component, and that the bigger the eigenvalue, the more important this principal component is for the dataset (the more variance it encapsulates). How is this possible? Is there an intuitive way of understanding this?',\n",
       " 'OK so this is a bit of a silly question but craig and dave videos used to be flat out better than their new ones and they have removed the playlist they had?!?Here is an old 2017, not 2020 video:[]()Hopefully someone knows where a full playlist would be? Thanks a million!',\n",
       " 'The 4 fours problem: I am a first year CS student, i just heard about this problem but I already knew about other problems of this class, and i always wondered if it is possible to write and algorithm that basically brute forces these problems, in order to find all solutions for a certain number/s, if yes, what would the structure of such an algorithm be? In particular, how do you make the machine execute random operations?I am apologize in advance if this is a stupid question, and thanks for your time',\n",
       " 'Q1: Do the arguments of a function get incorporated into the space complexity?Q2: If I created a temporary array in a function but then it gets automatically deleted upon function exit, would the array still be incorporated into space complexity?Q3: Same as Q2 except I manually delete the array within the function before it exits. Would the array be incorporated then?Thank you so much for your help!',\n",
       " \"I have recently been reading [Martin Kleppmann's](-Kleppmann/e/B00Q43XKD6/ref=dp_byline_cont_pop_book_1) book and have read through chapters on storage engines and encoding e.g. SSTables, B-trees, LSM-trees, OLTP, OLAP, Data Warehousing, Log structured storage engines, but most of it is flying over my head. Any suggestions on additional material to study?Also have read through [Alex Petrov's]() medium posts on Database Internals but still not satisfied that it is covered the fundamentals...\",\n",
       " 'I am looking to improve on writing code that is fast and efficent, however all the sites I can find score you entirely based on passing test cases rather than speed. Is there a site where I can be tested on my code being fast?',\n",
       " \"I am following Andrew Tenenbaum's book and it started out well. But as soon as the book jumped into the physical layer and it started getting mathy(Fourier series, etc.) I felt lost.Now I have taken a discrete math course. So what other prerequisites are needed to learn networking?\",\n",
       " 'YouTube content, websites anything!',\n",
       " 'hiThoughts about this book? Seen the preview and it seems really a book full of cs concepts, from the basic to higher level concepts.As I see on Amazon is such a popular book  in Indiaz.Similar or better book with the same concepts and structures?&#x200B;Thanks',\n",
       " 'I am in my second year of CS classes, how many hours do you guys spend coding a day? I am currently learning Java,CSS & HTML. To my surprise CSS is so much easier to understand. Any tips/advice would be appreciated.',\n",
       " 'Just did...poorly on my first assignment for my programming paradigms course.    (a + b)* = all strings of a and b, any order.    (a + b) = {a, b} which means a OR b, one per evaluation, not both and not neither?    (ab) = {ab}Is that correct? If so, how for instance would you know what order to generate from this regular expression  **(a + b + ba)?**  Does the order not matter? When *does* the order matter in a regular expression (i.e you need to know what the third symbol will be in each string, and that symbol needs to be constant)?NOTE: None of what I just asked directly corresponds to any actual class problems, I just want to ensure I actually understand this material, this is not a homework-help thread.',\n",
       " 'A good grasp would be understanding a language well enough to execute what you intended to do, with your knowledge.',\n",
       " 'Obviously *best* is subjective. I am using *best* here to mean **highest contrast** and **most striking**. Generally speaking, that is complement colors.I had a random thought today when trying to pick a solid color background for my picture on my portfolio website. My picture has a lot going on: trees, a pink shirt, blue sky, light complexion, and I could not really decide a \"perfect\" color to complement it. So, I threw the photo in [a color averager](-color/) and just got blah (#6f665d if anyone is wondering). Using a color wheel, the complementary color for blah is... well, blah (#5D666F). Just for shits and giggles I put the two beside each other, and it is painfully boring.&#x200B;This got me thinking: striking color contrast is *everywhere*. In most cases it is easy -- a model is wearing **orange?** Give them a **blue background!** But what about if they are wearing blue *and* red? What if they have a dark complexion and are wearing something bright?&#x200B;For example, a model below has an average wine color (#5f2d37), so theoretically, a strong complement would be a dark green (#2D5F55)&#x200B;&#x200B;The problem is that **orange** is a hell of a lot better background color than dark green:&#x200B;Why is that? Is there that I could make the process objective and come up with orange every time?&#x200B;Thanks for entertaining my curiosity',\n",
       " 'Is it theoricaly possible to make an .txt file that contain the md5 hash of an .rar in which there is the said .txt?AndIs it theoricaly possible to have an .rar file that contain itself in?',\n",
       " 'I had an exam and one of the questions was some binary (mantissa and exponent) and we were asked to convert the binary to decimal and then write its floating point representation or smth. I was very confused and my question basically is how do we write the floating point representation of a number?',\n",
       " 'I have recently in my CS classes learned about the different types of logic gates, the and or nor xor NAND etc.My question was:All of these logic gates seem to have a completely different design, how do they account for this in chip manufacturing?Like do they have a ratio of how many NAND-AND gates they have or XOR-or ?',\n",
       " 'So recently, I was looking for some coding challenges to do with python, and I came across this one that intrigued me ([-coding-problems-in-python/](-coding-problems-in-python/)).The problem itself is pretty simple, and I went through two iterations of it just for the practice (once where the program literally just made random guesses until it got one (took like an hour just to repeat a 4-letter phrase) and then another one where the program looped through an array with the characters of the alphabet in them, which was able to get even entire paragraphs in thousandths of a second).I am not sure if this even exists, but I have been thinking of an idea on how to make it even faster: using a skewed random method (I am guessing with some kind of machine learning model, or maybe that is not even necessary). The idea I had was for the model to study a bunch of data from random words and see, for example, what percentage of the time the average word will have either a consonant or a vowel at each index, if some letters are more popular than others, etc.I know that this is really redundant, and there are faster ways to do this (I am not sure if this pertains, but I am actually just starting a course on Data Structures and Algorithms, with the advice of you guys on Reddit), and that this program really has no point in the real world (after all, where will basically rewriting a string letter by letter actually show up practically), but I thought it would be a cool little challenge, and wanted to know if any of you guys could help me out or give me some advice. (I would prefer to work in Python, since that what I am most comfortable with, but pseudocode also works)',\n",
       " 'Do You Know Some book where i can read about this detailed with examples',\n",
       " 'I understand that the signature is there for security purposes but I do not understand why it is necessary.The way I understand it when a jwt is generated there is a header and a body and then a signature. The signature gets verified by the server. But why cannot the body be verified by he server.In other words if the header and body are encoded as a1a1 and the signature is b2b2 the server is checking that b2b2 is a valid signature.Why cannot it just check that a1a1 is a valid body?',\n",
       " 'Did a little experiment today, opened up an 8k YouTube vid. My 2060 usage only went up slightly but cpu (3700x) usage shot up 40%. Would not it make more sense for the gpu to do that work? And this is also only a 1440p screen, so…I guess it is rendering but just is not displaying it? I am curious how this works',\n",
       " 'i am just really curious lol, can someone answer me with not so technical answer?',\n",
       " \"I am taking a computer systems course right now and I was wondering if we could take a look again at the basics of the computer, I mean the very fundamental basics of a computer, and rethink how they work and possibly make them better? In other words, are Von Neumann and Alan Turnings' implementations perfect, or could we make them better?\",\n",
       " 'This seems like an obvious question (I can just download a book and start reading), but I want to make sure I am asking to learn the right thing. Basically, I really do not know how computers work. I get the basics (kind of), but I do not know how everything connects at all. Will reading a computer architecture book help me understand the OS, kernel, compilers, CPU, etc. or do I have to read a bunch of different books to understand all these things? I have heard of nand2tetris, but does that cover everything? Is there one source I can use to understand “everything” about a computer?',\n",
       " 'With the amount of hype that AI and machine learning has seen in the past decade, I have seen many students flock towards that instead of theoretical computer science. Has theoretical CS taken a backseat? Are there professors who still focus on theoretical CS like Dr. Jelani Nelson or Dr. David Karger?',\n",
       " 'I am currently in 9th grade and completed algebra 1 and in enrollment in geometry. I am looking forward to going into AP CS. I can hopefully take the java course that my school offers.(completion of java course is one of the pre requisites for AP CS). but the enrollment numbers are so high that I cannot garuntee my enrollment in that class. I want to self prepare myself for AP CS. I can dedicate a lot of time upwards to 3 hrs a day. How should I do this?',\n",
       " 'Sorry for being naive i just started out on computer scienceEdit: thank you for everyone is explanations, i understood it now! Have a nice day!',\n",
       " 'So lately, there have been a lot of meme programming videos on YouTube by people like JomaTech and Frying Pan about \"First Day as an Intern\" or \"If Programming was an Anime\" and most of them tend to not be too serious. They usually make a joke out of things like hashmaps and binary trees, but I cannot help but wondering where these show up and how I should study them.As some background context, I have completed Comp Sci courses in Java and  Python, as well as done some front end development in ReactJS. I have also completed math through BC Calc. Every time one of these videos show up, I always get interested because it combines the best of math and Comp Sci, but I cannot figure out where I should find them.I am guessing that the fundamental idea stays pretty constant, no matter which language you choose, but is there a preferred language to do these things in? I would prefer to implement them in Python, just because that is my strong suit, but it would be interesting to see what everyone else thinks.And finally, are there any good free courses that anyone would recommend? Once again, if they work well in Python, then by all means I would prefer to work with that.TL;DR: Which branch of CompSci do things like hashmaps and binary trees fall under, where should I study them, which language do they work best in?',\n",
       " 'I really want to get into CS but I do not know where to start. Any tips, book recommendations, youtube videos that help?',\n",
       " 'I understand all the machine knows are the electrical signals of 1s and 0s, I also understand well the fetch execute and decode cycle. But my main issue is getting past that layer of abstraction where what we type is seemingly converted into a bits that then go through the necessary logic gates and circuits understood by the machine.',\n",
       " 'What are the differences between classical computability theory and generalized computability theory? I have seen them in the titles of some computability books or their chapters, but I am not sure what their scopes are, and how they differ.Thanks.',\n",
       " 'When I was a CS student, I always wondered how graphs that we study in the courses are used in real applications. Now, we organize a live workshop about applications of graphs and machine learning in the real world. Please join us for a live discussion from research engineers at Google, Amazon, and other companies. &#x200B;YouTube link: []()&#x200B;',\n",
       " 'I took the data structure and algorithms classes last year ad they just did not mention LUTs at all. ok so then i go look up how to make your code fast (given you do not have a potato tier alg) and i find out the best way to get the constant multiple down is to use a look up table to do stuff. is a look up table not considered a data structure/alg?',\n",
       " '-cacm.acm.org/magazines/2018/7/229036-c-is-not-a-low-level-language/fulltext The author of this article claims that not only is C not really a low level language because it is not really very close to the hardware, but that people trying to force it to be one is the reason for the spectre and meltdown security vulnerabilities from a few years ago.  Is he right?  I do not know that much about C myself (I have had an intro to programming course that used C++, a little Matlab programming for a math class a couple years ago, a few MIPS assembly code projects for a computer organization class, and I am learning some Python for a data science class; that is the extent of my programming knowledge/experience) but these seem like some rather wild claims and I am interested to hear what other experts have to say about them.',\n",
       " 'It is old enough. It first appeared in the 1980s but stopped being developed by its makers and they released it as freeware.It is used to educate low-level high school students with an interest in computer science. Usually at the grade 10 level before real languages are introduced. It is a good way to test if you are really interested in programming and if you understand the very basic idea behind coding. To print a string for example it’a just put “words and stuff”.  Like Python v0.01Very simple, no braces or static public mains or anything. Good introduction.It has a built in documentation with example programs for  and integrated basic graphics that allow you to make shapes on a coordinate grid using a long list of coded colours. So if I wanted to make a coloured in box it would be simply drawfillbox(x,y,colour). The graphics could be used to make games but in my experience it was very hard since you could not have a separate box entity above the others. You had to draw and erase the box to move it every time and that would wipe everything under it.Despite it being very limited and very basic some of my favourite programs were made on that thing using its simple syntax and integrated graphics. It used to be quite popular in the Canadian CS community. Compsci.ca had a whole section dedicated to it and the programs hobbyists would make with it before the place died. Alas with the death of an organized Canadian CS community the death of Turing as a known language will follow. Well not exactly they still use it as an educational tool but I doubt even I will remember Turing in a few years.[The wiki page is probably the best source of info. apparently there are other variants that are not totally dead ]((programming_language))',\n",
       " 'As the title says, tomorrow (September 22nd), I will be recording a video interview with Leslie Lamport and would love to be able to ask him some of your questions. I am a mathematician, rather than a computer scientist, so please keep them as understandable as possible - or at the very least provide some links where I can find out more about a particular topic - but otherwise I would love to hear what you would be interested to ask him - thanks!Full bio (courtesy of ACM):2013 ACM Turing Award for fundamental contributions to the theory and practice of distributed and concurrent systems, notably the invention of concepts such as causality and logical clocks, safety and liveness, replicated state machines, and sequential consistency.*If we could travel back in time to 1974, perhaps we would have found Leslie Lamport at his busy local neighborhood bakery, grappling with the following issue. The bakery had several cashiers, but if more than one person approached a single cashier at the same time, that cashier would try to talk to all of them at once and become confused. Lamport realized that there needed to be some way to guarantee that people approached cashiers one at a time.* *This problem reminded Lamport of an issue which has been posed in an earlier article by computer scientist Edsger Dijkstra on another mundane issue: how to share dinner utensils around a dining table. One of the coordination challenges was to guarantee that each utensil was used by at most one diner at a time, which came to be generalized as the* ***mutual exclusion*** *problem, exactly the challenge Lamport faced at the bakery.**One morning in 1974, an idea came to Lamport on how the bakery customers could solve mutual exclusion among themselves, without relying on the bakery for help. It worked roughly like this: people choose numbers when they enter the bakery, and then get served at the cashier according to their number ordering. To choose a number, a customer asks for the number of everyone around her and chooses a number higher than all the others.**This simple idea became an elegant algorithm for solving the mutual exclusion problem without requiring any lower-level indivisible operations. It also was a rich source of future ideas,* *since many issues had to be worked out. For example, some bakery customers took a long time to check other numbers, and meanwhile more customers arrived and selected additional numbers. Another time, the manager of the bakery wanted to get a snapshot of all the customer numbers in order to prepare enough pastries.* *Lamport later said \"For a couple of years after my discovery of the bakery algorithm, everything I learned about concurrency came from studying it.\"**The Bakery Algorithm and Lamport\\'s other pioneering works -- many with amusing names and associated parables -- have become pillars of computer science. His collection forms the foundation of broad areas in concurrency, and has influenced the specification, development, and verification of concurrent systems.*Key headings summarising his work:**1. Mutual Exclusion solutions and the Bakery algorithm****2. Foundations of Concurrent programming****3. Foundations of Distributed Systems****4. Fault tolerance and State Machine Replication****5. Formal specification and verification of programs****6. LaTeX**',\n",
       " 'Hello, if i have a piece of code like this:    for(int i = 0 ; i < 100000; i++){       for(int j = 0; j < n ; j++){         \\\\\\\\-------------}     }i can say that it is O(n), right?so another one which is like this:    for(int i = 0 ; i < n ; i++){       for(int j = 0 ; j < n ; j++){          \\\\\\\\-------------}          }here i can say that is O(n\\\\^2)My question is that if n in the first code block is equal to 10\\\\^5 and n in the second block is equal to 10\\\\^5 also, which are maximum values n can take then the running time is equal for both even though they have different big oh?',\n",
       " 'I am intending to optimise a process using genetic algorithm. I intend to build a neural network model of the process and optimise the output attribute using GA.My tutor is adamant I do not need to build a model and should run GA on the raw data.My belief is that not using a model would only allow me to find the optimal parameters which have already been used as GA would not be able to find the output of attribute combinations which are not in the dataset.A model would allow all combinations to have a predicted output so an optima may be found that has not been tried in the real world.Am I correct in my thinking or is my tutor correct.Thanks!',\n",
       " 'I have been diving into parsing and language design recently, and I see that a lot of programming languages use a sort of grammar with hard-coded operators. How do some languages have the support for custom operators? How does the parser work? Would the grammar then still be definable by EBNF / PEG? Or would user-definable operators mean that they would need to use a different system together?',\n",
       " 'What is your opinion on object oriented programming? From what I have seen, people either love it or hate it, but I believe in a middle ground where you think it is useful for some things and not so much for other things.What are your thoughts?*Edit: Why do you or why do you not like it and do you think that the dogmatic “it is always bad” or “the industry should get rid of it completely” are good?',\n",
       " 'I understand the part where the cpu does an interrupt (system call) and the PC is set to point to the beginning of the kernel function that implements whatever specific system call was invoked.But the kernel function (write in this case) is just a bunch of instructions that get executed by the cpu as well. I am confused as to what happens next since I am certain there are no specific cpu instructions to write to standard output. We always relied on the OS to handle it for us.We are at the kernel instructions running on the cpu at this point. So what cpu instruction actually get us from cpu to writing a message on screen?* If it helps, assume x86_64 architecture on Linux .',\n",
       " 'So i was searching a fix for my game bc textures and vertices on ground and models would start to jump around bc of floating point error.I searched how to upgrade from 32bit int-float limit to 64bit one but i could not find anything, even if i did convert it to 64bit limit there would still be this bug after certain distance.Then i did a bit of research on google bc i was wondering why were computers limited/only use 32/64/128/256bit int and unity uses 32bit floating point presicion and it only works well till 100 000 units from Vector3.zero.After that you get error/warning in inspector and the models and textures are glitchy.So after googling i found that:Double-precision floating-point format\\xa0(sometimes called\\xa0FP64\\xa0or\\xa0float64) is a\\xa0computer number format, usually occupying 64\\xa0bits\\xa0in computer memoryOnly 64bits in memory?Why do not computers use 1024int numbers or even 4096/8192bit integers.Compared to normal hdd that have 500+GB of memory or even RAM memory if they are talking about it,its still a fraction of it and would not take much space.And CPUs today can do billions oc calculations per second so even if its a 8192bit numbers pc should not have a problem.',\n",
       " 'As far as my knowledge goes, the cache data in the processor is the fastest memory in the memory hierarchy, with the cost of it being so small (usually in kilobytes).  My question is, if the cache memory is so small in the CPU, how can android store \"cached data\" that is up to 3-4 GB and sometimes even more, when the cache in the CPU is 1000x smaller in size?',\n",
       " 'I hear lots of people think that Computer Science contains the field of, say, web development. I believe everything related to scripting, HTML, industry-related coding practices etcetera should have their own term, independent from \"Computer Science.\"Computer Science, by default, is the mathematical study of computation. The tools used in the industry derive from it. To me, industry-related coding labeled as \\'Computer Science\\' is like, say, labeling nursing as \\'medicine.\\'What do you think? I may be wrong in the real meaning \"Computer Science\" bears. Let me know your thoughts!',\n",
       " 'I have heard of things and watched several youtube videos of quantum computing, optical computing, neuromorphic computing, on and on. Is there any books or information on these?',\n",
       " \"I do not mean a tutorial of a project, I mean including the steps of research and redoing parts of the code, the mistakes and learning, the whole process.I know it is different for everyone but I feel much more reassured with seeing what someone else's process is. Preferably on a project that is not like 'hello world', like their own application or something. But also not someone toooo advanced who does not make mistakes for us to see and already knows what they are doing what direction they are going before they start?&#x200B;Thanks!\",\n",
       " 'Hello all,I am looking for some good resources to learn about lock-free data structures.Do you guys have any resources to point out?Thanks!',\n",
       " 'I am going to be referring to the problem as its framed in this video: [\\\\_MtS\\\\_w4]().My problem with it is twofold: one, its an entirely immaterial program, and arguably does not \\'do\\' anything (in a sense, it cannot be run--not cannot finish, it cannot even *begin*), and two, it violates the laws of physics. Nobody was ever expecting a general solution to physically impossible or instubstantive programs, and for that reason I find the halting problem entirely vacuous.Its very similar to the following \\'contradiction\\':1. Statement 2 is a lie.2. Statement 1 is true.Many people have seen a problem like this before, and its relevantly similar to how the halting problem is laid out. If you accept statement 1, then that implies statement 2 is false about 1 being true, meaning you have contradicted your initial assumption. If you assume statement 1 is false, then that means statement 2 is true, which means statement 1 is true, so which contradictions the initial assumption.My problem with this \\'contradiction\\' is that its entirely insubstantive. It does not bottom out in the real world anywhere, and I am not convinced the problem can exist anywhere other than pure linguistic pedantics.To demonstrate this, see a similar problem:1. Statement 2 is true.2. Statement 1 is true.Here is the question: how do you evaluate these two statements? Are they both true? If you assume statement 1 is true, then that means statement 2 is true, which confirms your assumption, no contradictions. So they are true then? But wait, you can do the same by assuming they are false. If statement 1 is false, then statement 2 is false, meaning statement 1 is false, just like your initial assumption.Technically you can do it with just one statement, to make it more like the halting problem:1. Statement 1 is true.So there is absolutely no way to evaluate these statements. My argument is this: \\'truth\\' does not make sense unless you bottom out in the real world somewhere. Truth, accuracy, correctness, all it really means is that there is a 1 to 1 correlation between a representation and reality, but there *is no reality being represented by these insubstantive statements.* It leads to an infinite regress, which is why its unsolvable--you have to know the truth of statement 1 to know the truth of 2, and you have to know the truth of 2 to know the truth of 1.The contradictory version is the same--also leading to an infinite regress of insubstantive questioning, we just do not notice because we get caught up in the contradiction.Notice how a series of statements that bottom out somewhere substantive can be solved:1. Statement 2 is true.2. Statement 3 is true.3. Statement 6 is true.4. Statement 5 is true.5. Statement 6 is true.6. Statement 9 is true.7. Statement 8 is true.8. Statement 10 is true.9. Statement 10 is true.10. I ate eggs for breakfast this morning.This time, we *can evaluate the statements*, no matter how long it is. This is because we bottom out at something we can empirically evaluate, and then derive the truth value of the other second-order statements (statements about other statements). But when a set of propositions contains *only second order statements that do not refer to anything except each other, you cannot evaluate it.* But if you break the infinitely regressing cycle with a substantive statement, the problem disappears. No matter how long the series of meta-statements goes, as long as they bottom out somewhere substantive, you can solve it.This is relevantly similar to the halting problem, because in the same way that we are evaluating the truth of an insubstantive statement, we are also evaluating the haltability of an insubstantive program. In order for the program to be run, we would have to know the results of the program, which depend on the results of the program, which depend on the results of the program... ad infinitum. It only becomes a problem because we have made up a completely meaningless and immaterial thing. How would such a program even *start*? Where would it get the inputs? In the same way that circular sets of statements cannot begin evaluation, this program cannot begin to run.That is not to say that someone could not *attempt* to write such a program. Only that they would fail. The program they generate would be a real thing that exists in the actual world, but it would never be relevantly similar to H+ (as described in the video). To demonstrate, let us try it, and showing why it cannot be done will be illuminating.Suppose you created a Python program that looks like this (ignore boolean/string conversions for the moment):    # read output from file    outcome_file = open(\"outcome.txt\",\"a\")    outcome = output_file.readlines()        # flip the sign    if outcome == True:         outcome = False    elif outcome == False:        outcome = True:        # write to file    outcome_file.write(outcome)Also stipulate that the only program capable of creating the outcome.txt file is this program. No other program or user has done so. What will happen? The program will crash immediately if there is no pre-made outcome.txt file (which you cannot do, because the program needs to be evaluating the outcome of something it itself generated).Why did the program crash? Well, you might say its because I made a mistake, but think about what would be required not to: the outcome.txt file in the second line would have to be ***THE EXACT SAME*** both in contents and time as in the one in the last line. You would literally have to go backwards in time to send the outcome of the program to itself in order for it to run. Turing is correct that this program cannot be evaluated, but only because its the kind of thing that violates the laws of physics.Some people might continue to object: \"That is exactly what Turing was getting at!\", but that is a sleight of hand--the question was not whether *H+* can exist, its whether *H* can exist. Sure, we have shown that the program does not work when its own output is required to run it, turning it into H+, but that is only because H+ contradicts the laws of physics. H+ may fail to exist, but that does not demonstrate that H cannot exist, any more than saying \"you cannot run H on a computer that is in the shape of a square circle\" demonstrates that H cannot exist. When you artificially construct a contradiction in the scenario, its not a sign of the other entity being flawed, its a sign of the scenario being flawed.So brilliant. If you know a Python library that can send booleans back in time or perform other logical contradictions, then perhaps this will have practical significance to you. For those of us that want to evaluate real programs that can exist, the halting problem is not meaningful.',\n",
       " 'I am wondering if there is a way to download/upload random data as fast as your computer can handle to stress test a network. I know you can set the packet size of the ping command, but the bit limit is very low. How could I do something like that but with a ton of data? I am on a Mac btw. Thanks!',\n",
       " 'Hey everyone, I read about the no-silver-bullet paper which tells us that we can not reduce the complexity of a problem in general. I am looking for a paper though, that investigates if modelling a problem as a system of classes is less complicated for the programmer and other people reading the code, compared to procedural code. Some psychological or empirical data on this would be awesome.Any good sources, or is this actually a myth?',\n",
       " 'This is a very broad question, but I am confused about how random number generators work (edit: how we talk about random generators, and if the word random generator will eventually mean true randomness) . Rather, I am irritated by people saying, \"random number\" when as far as I am aware there is no actual way to create a random number using technology alone. There are so many places that \"random numbers\" are used in code, and as user privacy becomes more of a societal issue it makes sense that true random number generators are going to come about. My thing is, why do we always say, \"random number\" when it never actually is, and do you think we will get to a point where what we now call \"random numbers\" will become numbers through function as they currently are and we will have actual randomness based on physical phenomenon which may or may not develop into a new binary phenomenon? (ie. random != random, will it in the future?)',\n",
       " 'So the thing is. I am a very new CS student, I have learned programming languages but I have no idea how it is applied in real world. I am thinking about this thing where I take data from a third-party software and connect things and make sure it works on my website too. Example is below:1. Let us say I use a company’s (named A) software to accept orders from customers as well as their delivery address etc.2. Somehow I will have to collect those data from A and go to my own website, put them on there for other purposes(maybe like deliver or something like that).When I am asked to write a programs or functions to do certain things then maybe I can, but ask me about something like above, I would be dumb. I mean we can do it manually like entering data into our system, but is there/should there be an automatic way?So, can you explain it to me like I am very retarded? Thank you so much.',\n",
       " 'Hello! Unix and Windows are old. Computers now faster, stronger, etc. Why there is no new OS that written from scratch? There are some little projects written on rust language but they are only for developer like people. So, the question is, why we still use things older than many of us? :) P.S. I am beginner in all this and only want to make things clear.',\n",
       " 'Some programming languages (i.e. ALGOL and Pascal) have used the semicolon to separate statements, while Java uses it to terminate statements. Which of these, in your opinion, is most natural and least likely to result in syntax errors?',\n",
       " 'There must be some insiders who know how to implement this algorithm at whatever agency (I think NSA) it was created. Since this algorithm is used for mining new blocks for a blockchain, what is stopping these insiders from winning Bitcoin all the time?',\n",
       " 'My go to programming languages are Java and C++. They are what I know best, and am best a coding with. I have tried to dabble in Python and other \"easy\" languages, but the dynamic typed variables make life so much more difficult for me. I was wondering, why do people prefer dynamic typed programming languages over static typed programming languages? From what I have heard, the dynamic type part of python is part of what makes it so slow compared to other programming languages, and I just do not understand why people like dynamic types if they make life harder, and your code run slower. Please enlighten me, why do people prefer dynamic over static typed?',\n",
       " 'So when you normally add two hex values, (for example, 0x610 and 0x A80) you will get 0x090 with 1 bit being a carry and overflow. So the hex value is realistically 0x090 (b0000 1001 0000). How does this value change when it comes to signed and unsigned saturation? We are learning about it in class but I am confused with the process',\n",
       " 'Why are we multiplying n and logn , the way I understand is log n is the number of times division occurs and n is for merging process.',\n",
       " 'See this [article](-way-partitioning-of-an-array-around-a-given-range/) \\\\[**lowVal**, **highVal**\\\\]: Should these two values belong to the array? In other words, should the elements for range be present in the given array?',\n",
       " 'Which math concepts do you recommend someone should learn before learning computer science?',\n",
       " 'I am fascinated by cellular automata, especially rule 110 which creates complex patterns using very simple rules and can, amazingly, also be used to emulate a universal computer![Rule 110]() cellular automata was [proven](-1-1.pdf) to be turing complete. The problem is finding a compiler for it that is at least somewhat practical. There exists a solid [paper]() providing the theoretical recipe for just such a compiler which should output polynomial time/space rule 110 programs. However, I could not find any concrete implementations of said recipe on the internet. The closest candidates are:* [Machine-110](-110),* [c110](),both of which are utterly unfinished and only provide a, more-or-less, useful starting point.&#x200B;So... does anyone have any additional references I could look at or, even better, a link to a working compiler? It would be great to be able to play with such a compiler and not spend countless hours designing it myself :).',\n",
       " \"Hi!I studied the way keyboards and other usb devices work, but there is something I still cannot understand: if  a keyboard encodes a normal character such as 'A' is encoded using ASCII, then how are commands like 'shutdown' or 'volume up' encoded? They must be encoded in binary, but are there actual lines of code sent by the keyboard for the computer to execute, or is there some pre-defined chart, like ASCII, but for special commands? I thought it might have to do with the driver, but I am using a keyboard that does not seem to use any special driver and yet it has such commands (volume up/down; shut down etc) that actually work.Thanks!\",\n",
       " 'I am in high school and I want to learn as much as possible!Thanks in advance',\n",
       " 'my question is we all know computers have 1-bit 1 or 0 but what do they call a computer that have 1-bit that goes through 0 to 4 or something like that',\n",
       " 'Sorry if this is obscure, but I know this must exist.  I am thinking of a logic gate with 2 inputs.  Output would be NOT input 1 if input 2 is positive, otherwise output would just be input 1.',\n",
       " 'I have been building some circuits and whatnot in Logisim, and I have looked and looked for a good subtractor circuit but I cannot find one. Any sources or recommendations? I have built many but none of them worked.',\n",
       " 'Why does Python skip code while evaluating if statements? What is more efficient: to skip code or to evaluate for both true and false statements?',\n",
       " 'Hello all 👋 I am not sure where else to post this and thought this would be a good place to start. The goal of this post is essentially to find any resources that could help me learn about computer science from roughly 1960 to 1980, and primarily how the science of processor building started to advance. As of right now I am only aware that around 1970 with the advent of UNIX there was the beginning of a new level of computer processor building, in which they would use computers themselves to build the processor because they were becoming more complex than the previous use of physical logic modules and all that stuff.I am really hoping someone can point me in the right direction as to how that came to be, the languages they were using etc. So far I know that C and Yacc were big parts of the building process around 1971 but I am not sure where to look to find anything else out that came before that.Thank you to anyone who can help!Edit: I noticed in the rules it said no exam questions or something. This is not for an exam or school related. This is my own personal curiosity',\n",
       " 'Currently studying the following paper:[\"Fair Allocation in Online Markets\" - Gollapudi and Panigrahi 2014]()In which they present Theorem 2 as a hardness result for online maxmin matchings (without proof). My thinking for a counterexample which demonstrates that a random ordered stream can give an arbitrarily bad result say with a standard greedy algorithm (and thus verify this theorem):&#x200B;Assume we have 𝑛n agents to which we must match a good as they arrive online in a random order (assume we implement a greedy algorithm which always allocates to the least satisfied agent, breaking ties arbitrarily). Additionally, assume an adversary has selected 𝑛 goods with the following properties: 𝑛−1 goods have value 1 for exactly one agent 𝑖i and 0 for all other agents 𝑗 (𝑣𝑗(𝑔𝑖)=1⟺𝑗=𝑖    vj(gi)=1⟺j=i) meaning there is a leftover agent who does not have a specified good, and there is one good of value 1 for all 𝑛 agents. Thus, if the item of equal value to all agents is assigned improperly the maxmin value is 0.My questions are1. Does the above accurately capture the hardness of online matching with random order?2. I am not sure how to approach a probabilistic argument that with high probability, the worst case scenario will occur. My thinking is that we can say the probability the good of value 1 to all arrives in the t-th time is 1/n and the probability it is matched correctly is 1/(n-t). Therefore, the probability it is matched correctly is \\\\\\\\Sum 1/(n\\\\*(n-t)) which is O(logn / n)?',\n",
       " 'I am in this online class for computer architecture. The course content is literally \"read the textbook\". The assignments are equally as lazy but able to do well with help. I have never learned well from textbooks. I am not learning a damn thing.Does anybody know any good novice resources on computer architecture?',\n",
       " 'I am learning about IP addresses and computer science. Can anyone view your **public IP** address? I know that there are two types: Private and Public Ip addresses. But what does the Public IP address do? Is it an harmful if someone has your public IP address?',\n",
       " 'From Wikipedia:>In\\xa0computer science, the\\xa0time complexity\\xa0is the\\xa0computational complexity\\xa0that describes the amount of computer time it takes to run an\\xa0algorithm.What does \"computer time\" mean here? I thought that time complexity is a theoretical concept, but this seems to suggest that it is a practical one as it refers to \"computer time\". I hope someone will clarify. Thanks in advance!',\n",
       " 'I Have seen a couple posts about ML recently and how the amount of training data used is so astronomically large. Is there a way to reduce it and would there be a point in doing so?',\n",
       " 'So I know that deep learning is a subset of machine learning which is a subset of AI. Can someone explain what the difference is. I think I need examples of something that is AI but not ML and something that is ML but not DL',\n",
       " 'I am reading the book \"OS Concepts 9th edition\" by Avi Silberschatz. There is a paragraph which give brief definitions of graceful degradation and fault tolerance:\"The ability to continue providing service proportional to the level of surviving hardware is called graceful degradation. Some systems go beyond graceful degradation and are called fault tolerant, because they can suffer a failure of any single component and still continue operation.\"So what does the authors mean by \"go beyond\" ? Does it mean fault tolerant systems\\' performance is not affected by a single component failure at all ?',\n",
       " 'Here is a problem I thought of:&#x200B;\\\\- Suppose I am watching someone flip a fair coin. Each flip is completely independent from the previous flip.\\\\- I watch this person flip 3 consecutive heads.\\\\- I interrupt this person and ask the following question: If the next flip results in a \"head\", I will buy you a slice of pizza. If the next flip results in a \"tail\", you will buy me a slice of pizza. Who has the better odds of winning?&#x200B;I wrote the following simulation using the R programming language. In this simulation, a \"coin\" is flipped many times (\"1\" = HEAD, \"0\" = TAILS). We then count the percentage of times HEAD-HEAD-HEAD-HEAD appears compared to HEAD-HEAD-HEAD-TAILS:&#x200B;    #load library    library(stringr)        #define number of flips    n <- 10000000         #flip the coin many times    flips = sample(c(0,1), replace=TRUE, size=n)        #count the percent of times HEAD-HEAD-HEAD-HEAD appears     str_count(paste(flips, collapse=\"\"), \\'1111\\') / n        0.0333663        #count the percent tof times HEAD-HEAD-HEAD-TAIL appears    str_count(paste(flips, collapse=\"\"), \\'1110\\') / n        0.062555From the above analysis, it appears as if the person\\'s luck runs out: after 3 HEADS, there is a 3.33% chance that the next flip will be a HEAD compared to a 6.25% chance the next flip will not be a HEAD (i.e. TAILS).&#x200B;**My Question:** Thus, could we conclude: Even though the probability of each flip is independent from the previous flip, it becomes statistically more advantageous to observe a sequence of HEADS and then bet the next flip will be a TAILS? Thus, the longer the sequence of HEADS you observe, the stronger the probability becomes of the sequence \"breaking\"?&#x200B;Thanks',\n",
       " 'Is there an online calculator which solves recurrence relations like T(n) = 2T(n/2) + O(n)?',\n",
       " \"Hi, I was going through an MIT [lecture]() Synchronization without locks and came to the part where Peterson's algorithm is explained and proved. However, I came across a statement that mentions, it should be spinning here, it should not be in the loop - [here](). Can somebody help me out with this?&#x200B;All helps are appreciated :)\",\n",
       " 'We know that you can have a REPL that has a full on type system (Powershell) but what about enhancing Unix shells by outputting stoud into a structured format, so that at least you have value pairs instead of scraping giant strings.The example that got me thinking was when someone used a CSV output of a command, just to import it and use one field.I am not PL theorist, so I do not know if it is feasible, but basically this would entail every CLI program having one format as a common denominator.',\n",
       " 'I learned computers read 1s and 0s by reading voltage. If the voltage is >0.2v then it reads 1 and <0.2v it reads 0. Could you design a system that reads all ranges, say 0-0.1, 0.1-0.2....0.9-1.0 for voltage and read them as 0-9 respectively such that the computer can read things in a much more computationally-desirable base 10 system (especially for floating point numbers)What problems would exist with this?',\n",
       " 'So I am reading up on training neural machine to do translation. Given a pair of languages and corresponding datasets, it will turn roots suffixes, etc into numbers and learn from that. Very simplified I know. But I read about how this can take a lot of GPU and RAM, but I have a department at my school that will allow use of some higher powered GPU farm. So i can build the model. My question is how are these kind of applications served? not just Google Translate API calls, but once I have the model, does it no longer need the data set it just went through? Otherwise would not I be storing tons and tons of language pairs in a DB and serving those as well? I downloaded an app off Windows Store out of curiosity and turned WiFi off, but when I went to translate it, it asked me to buy premium. So I am wondering how offline would work for an app like this. It says it is GPU intensive so without network or serving this as a web application where the web server is doing the computing, how would this be distributed?',\n",
       " 'If you do not know, this book is basically a walkthrough of Alan Turing\\'s breakthrough paper on the Entscheidungsproblem, in which he proves that there cannot exist a general algorithm for determining the solvability of any arbitrary problem (or something like that), and simultaneously invents the famous \"Turing Machine\".Damn, was it a doozy. I read and understood roughly the first 250 pages, but once I got to the proofs section, it became incredibly hard to follow. After a while I just skipped to the last two chapters for the conclusion. Not proud of it, but I still feel like I got something out of it. Turing machines, and especially the universal Turing Machine, are amazing. It is crazy that he wrote this paper when he was just 24 years old. I also loved the background on Turing\\'s and other mathematicians lives that the author gives you as he guides you through the paper. A solid read, although difficult.Any of my fellow computer scientists ever give this one a read? How did you find it?',\n",
       " 'I have really wanted to make a computer science club due to the fact that we do not have one at my school. Now, a couple of my friends are really interested in the club, but we have no idea what we would do in it. I have always wanted to inspire other people with programming because I like it a lot, and I have always wanted to share my passion with other people. Any code-related ideas or projects to kick start our new club? Any advice? Thank you!',\n",
       " 'If I write performant software, why should I care about polyhedral compilers? Let us suppose I do not care about the details of how the compiler works.Will it make compilation faster under certain conditions?Will it make new optimizations possible that were not possible before?Will it make compilers easier to write, but not impact me as a downstream user?&#x200B;Why does the world need polyhedral compilers?Do not mean to be snarky, I genuinely think the technology is cool, but I have not anywhere seen an explicit discussion of impact in the \"market\" of compilers in terms of things users would care about, and have just seen discussions of how the technology works.',\n",
       " \"I want to contribute to the Swift open source language's compiler one day, but I am trying to learn. I am looking for relatively in depth readings that explains compilers, especially how type checkers and solvers (words that I see thrown around a lot but do not understand deeply) work to efficiently find all the syntax errors, assuming little to no existing specific compiler knowledge.\",\n",
       " 'Not sure if this is the right place to ask but if I want to create an online course to sell like on Udemy and I will be referring and copying a lot of the code examples from the public GitHub repo for code samples (demonstrates sample ways the library can be used) by the company who created the software/library that has licensed it under Apache 2.0, do I need to actually mention them and include the NOTICE in any code files I write that have copied code from there?Also would the answer differ if I just show and explain how to write the code as opposed to sharing actual code files or are they considered the same thing',\n",
       " 'Hey everyone, So I have been thoroughly and religiously studying Compilers for a couple of months now. In addition, to the Dragon Book, I have been taking video lectures and exploring through slides online that have been compiled (no pun intended) by people that have worked with the compiler technology for years. So anyway, I have familiarized myself with all the basics (Scanning, Parsing (including generating parse trees and ASTs), and even code generation, as well). I have a good understanding of the complex algorithms involved in some of these stages, and I have a good intuition on the complexity involved in all this (in particular, I understand what problems are undecidable for a programmer. What are the pros and cons of different techniques and so on). So anyway, one of the lecture series that I watched had taken upon \"Engineering a Compiler\" as their reference book, and I have explored some portion of this book (of course, I am still at the very beginning), and my initial thoughts are: \\\\- This book comes across as very beginner-friendly \\\\- I like how it builds from the basics. So, for example, while constructing a scanner, we get to see the application of finite-state automata in action. So the book tells us how to go from a regular expression to non-deterministic finite automata using Thompson\\'s construction algorithm and how all this process leads us to recognize words. We get to learn about this process within the first 50 pages of the book. In contrast to this, the dragon book jumps straight into the more complex stuff (such as writing context-free grammar, building a syntax-directed translator, and some other notions from a parsing point of view). In other words, it seems to skip a lot of stuff at the beginning that should have been introduced before we had jumped into the more complex stuff. \\\\- As mentioned above, \"Engineering a Compiler\" takes a very programming-oriented approach. It is easier to comprehend things from a coding point of view, and it is convenient to map the theory into actual practice.\\\\- The notion of \"Classic Expression Grammar\" is introduced in a very beginner-friendly manner in that book. Anyways, I am still in the process of learning and exploring as much as I can, so I am not sure how much weight and value my opinion carries. I am reading up on both texts. In my opinion, the Dragon Book is very detailed, in the sense that each sentence can be a book on its own at times, but \"Engineering a compiler\" seems more beginner-friendly. One more thing that I have heard people say is that some of the optimization techniques presented in the dragon book are a bit outdated, but I am still looking forward to reading about that. Anyways, these were just my two cents on both these books. Now, why do I ask this question from you guys? I would love to get some insights from a professional or someone more educated on this stuff. Also, if you find any misconceptions in the above passage then feel free to correct me on that. I come here to learn more.',\n",
       " 'So, I am learning to code and I had a huge questionHow does multiple language understand each otherHow can a server or application be made in python, c, c++, java and other languages Thanks in advance !',\n",
       " 'For the most part, I understand that in any system that requires communication between two or more devices, you really just need the IP of the device in order to connect and send data. Taking from that above concept, being able to create a blockchain that run in a LAN environment for the most part is easy, as getting access to the IP of a device over a local network is pretty simple and sending data between the two is straightforward. For the most part, online tutorials can show how that can work. What I do not understand is how to create or convert an existing blockchain that runs in a LAN environment to one that can accept nodes from outside a local network? How do you make a blockchain be accessible globally, and not just accessible within a local wifi network? How exactly does that initial connection get established to a given blockchain and what happens when that new node needs to be\\xa0 indoctrinated? I have been looking all around to find information that talks more deeply about the actual communication between nodes and how the actual network layer works, but I have come across very little. I have also looked at the source code of bitcoin to see if that could give me any clues but it just left me more confused. If anyone has knowledge on how this works, or any resources that can point me in the direction of greater understanding, it would be greatly appreciated.',\n",
       " \"recently in class I came across the subject subnetting. My teacher told me that in a local area network the IP-adresses .0, .1 and .255 are unavailable. Unfortunately he could't elabroate why these adresses are already taken and which services run under these adresses.Could anyone give me a brief explanation?\",\n",
       " 'Hey everyone,I have been a software developer for about 6 years now and i love teaching. I have taught or rather coached programming to more than 100 hundred students over the last past few years.I moved to the States not so long ago and ever since i started my full time job here I have been thinking of teaching programming again. Ideally I would like to teach beginners and intermediate folks separately - focusing on fundamentals for beginners while maybe building a full blown app with dev ops and what not for intermediates. Given the pandemic and delta variant I would like to do it virtually but hit me up if you would be interested. I have always seen programming as a welcoming discipline and this is my way if giving back! Cheers!Update:I would like to use Golang as the language of choice!Update 2: Thanks for the overwhelming response everyone. I am currently putting together a course document outlining what we will study over the next few months. It is a google doc. I will paste the link here once it is ready to get your inputs. Excited to be doing this again!Update 3: I have created a discord server - everyone interested please join it. I will keep posting updates over here. I am fairly new to discord and do not completely understand how to use it. Any help is appreciated. See you guys there',\n",
       " ' How important do you guys think that the knowledge of data structures and algorithms is for machine learning or learning ds&algo is obsolete now?',\n",
       " 'I am learning 32 bit assembly on linux and the instructor taught that to define a word which is \"two bytes\" we use dw which stands for define word. The nasm compiler produces error when we try to define more than two bytes with \"dw\".But, the output of the examine command in memory suggests otherwise, there are \"bytes\" , \"halfword\" which is two bytes, \"word\" which is 4 bytes and \"giant\" which is 8 bytes.So, is \"word\" 2 bytes or 4 bytes. I am confused.&#x200B;EDIT:Ok, So I did a bit of research and found that on both x86 and x86\\\\_64. A word is 2 bytes.>Architecture  In the x86 PC (Intel, AMD, etc.), although the architecture has long supported 32-bit and 64-bit registers, its native word size stems back to its 16-bit origins, and a \"single\" word is 16 bits. A \"double\" word is 32 bits. See 32-bit computer and 64-bit computer.source : [PCmag.com](/)The question remains, why is the gdb\\'s examine command treating a word as 4 bytes, and not two.',\n",
       " 'Let say we want to have decentralized network(over internet) where you must provide proof if you are aware of current accurate time with tolerance of few milliseconds to max 1 second.As an independent node you are free to use any sources to modify/set/fix your time accuracy before you join the network.Now, let say we want to make sure our time accuracy is not compromised/corrupted/censured, etc..What would be your approach to solution for this problem?',\n",
       " 'What kind of instructions does it complete? What does it need to do for the display to work? I could not find any info online, the only thing they say is \"It conpletes simpler instructions and faster than the cpu.\"',\n",
       " 'Hello! I was wondering why having a running time of big-omega(1) of an algorithm is practically meaningless? I understand why having a running time of O(n^2) of an algorithm is meaningless, but confused on why big-omega(1) is meaningless. Thanks!',\n",
       " 'There is something I never understood with two\\'s complement. &#x200B;Let us say the *machine* sees the line: 1111&#x200B;How does it know if it is dealing with a negative number or not(is it 15 or is it -1)? I remember asking the professor this, but he just kind said \"there is a flag\" but I never got any more details on this. I am not in college anymore but I have been taking up hobby projects lately and this came up and now I want to know lol.',\n",
       " 'Hello reddit,I have been working for the last few weeks on writing my own programming language.I have written it so far in non-proprietary javascript, and I have finished the tokenizer (lexer) and am just getting to the Abstract Syntax Tree. However, I am considering making it a compiled language (at this point I can still change that), and I am looking for what I should be compiling it into.I know I do not want to use the JVM or the C# machine, but I am a bit stumped on just *what* I should compile it into. I was thinking either C or straight up Assembly (probably through another intermediary, the way Node.js does). TL;DR: I want to find a language to compile my own custom programming lanugage to, but I need help finding/weighing the options.',\n",
       " 'Looking for a reference for Cook Levin theorem by reducing RAM model to SAT.  I am trying to understand the Udacity video',\n",
       " 'For example do these statements have the same time complexity simply by both being ifs:If (x==1)If (x==1 && y==1)Also do arthemetic operations slow things down in If statements:If (x==1)If (x+31/2>=1)Not hw related, just curious since I never learned about these cases.',\n",
       " 'I have been watching a lot of videos, and reading a lot of articles, but I feel like a good introduction book for computer science. Even if it is not an introduction, any good recommendations??',\n",
       " 'Just wanted to ask if someone has taken this course in the past? How was your experience with Harvard’s cs50 introduction to computer science course? Does it build a good base for learning advanced Cs?',\n",
       " 'what would it hypothetically take to render in a battlefield (specifically in destiny 2) but any fps shooter in general, where everyone in the server could all be on at one time at one point fighting against one giant army with maybe double or triple the ads? or have it be half half, a battle that you could not even replicate in real life with so many people. i realize that you would probably need each person to have like a super computer, but would it be possible? destiny 2 has  **31,000,000** players for reference sake. oh and the internet would probably need a \"bit\" of an upgrade.',\n",
       " 'Hello! What is the difference between the domain-specific language and problem-oriented language?',\n",
       " 'Can anyone point me to any academic papers concerning the resyncing of Huffman codes?  Specifically, I have a case where I am observing a session and may occasionally lose the dictionary but want to try and restart/resync with processing the data.  It is fine if I have to discard for a while until I can rebuild the dictionary, just not sure if this will work in practice.  Any pointers would be greatly appreciated.',\n",
       " 'I studied computer programming for 5 years and have had a great high paying job as a computer programmer for 10 years with barely any Linux experience. I took a basic course my first year so I know a little bit of bash but not enough to know or remember what these certain errors mean. I Someone recently quit and they were sr programmer so my boss wants to promote me but sr programmer at this certain job MUST know Linux.Should I be ashamed? Or should I just say I have used Mac ever since I was a child and that is the only thing I am used to.',\n",
       " ' recently saw a youtube video title that captured my attention \"it said something like \"mark zuckerberg lecture cs34\" and i thought he was actually teaching a cs course. Turns out he was just giving a speech.But that peaked my curiousity, are there any videos/blog/text of linus torvald giving a technical overview of something? Or a video of him coding something? Just  curious, and thank you in advance for answering',\n",
       " 'How do computers represent the same amount of data with less of it? If computers are only shortening the code / number of bits taken up, why do they need to be uncompressed, such as converting to a .zip file, and then extracting the data from it?',\n",
       " 'If DHCP leases IP address and they change over X days/weeks, can an old IP address be traced back to you? Unless it is static, current, or logged by ISP or etc. there is not much you can do with it right?',\n",
       " 'I have mined a bunch of raw data from a social media platform and now I want to analyze it all and draw relationships between users. My goal is to be able to generate a social/cluster diagram that visualizes the strength of relationships between users based on their various interactions with one another through likes/votes, shares, comments, etc.I have come up with my own rudimentary ideas, one of which is to calculate an \"affinity\" score between users and then use all of these scores to create clusters of users, but it is getting really complicated and I figure I am just recreating what someone else has already done.Is there any software that will allow me to plug my data into it? Restructuring my data for input would not be an issue at all. I prefer software/online service that is 1) free with no paywalls to unlock features and 2) does not require registering with any personally identifiable information. This is just a personal project of mine, so I do not need anything state-of-the-art.',\n",
       " 'Examples: logic gates, binary representation, ALU, CPU components. transistors and more. When you work, are you expected to remember all of these and how they work?',\n",
       " ' I am a ML engineer who has been doing hardcore ML stuff since undergrad and in 2 years of work experience as well. Lately I have developed interest in Computer Systems, understand how computers work from ground up. Particularly, I am super interested in compilers and want to do some projects to gain experience in it.Can someone suggest some track (courses and projects) to get somewhat proficient in compilers for a beginner? (Similar to what [deeplearning.ai](/) or FastAI is for ML)',\n",
       " 'Is this illustration of the haling problem correct: ```function halts(func) {    // Insert code here that returns \"true\" if \"func\" halts and \"false\" otherwise.}function deceiver() {    if(halts(deceiver))        while(true) { }    }```If so, why do so many descriptions involve a function which takes two arguments, where one is the program and the other is the same program as program input?E.g.:*Assume we have a function Halts(P, W) that halts if program P halts on input W. Then we write this perfectly-valid Python function:*```def K(P):    if (Halts(P, P)):        while True: pass # run forever    else:        return 42 # halt!```*Now, what happens when we call K(K)?If Halts(K,K) is True, then K(K) hangs (runs forever)If Halts(K,K) is False, then K(K) haltsSo either way, Halts(K,K) is wrong.Thus, the Halts function cannot exist!*',\n",
       " \"If you have all of the data required to run the application (ie: Discord, Spotify, Slack, Age of Empires II), then what makes it so that it makes it nearly impossible to copy this data to another computer? I assume that it must be that there is a LOT of data of MANY various types that must be allocated to memory where the CPU knows it is located in. I am a Windows and Linux user, and with Windows I understand more. There are so many hidden files and a registry, and complexity - but with Linux it seems that all of a program's binaries are present within a folder ready to be run alongside config files. Overall, any input on the way that an application is installed and executed would be very insightful and awesome!\",\n",
       " 'Good (whatever time),I am looking for good references for recent work done creating KD trees from embedding spaces, particularly if those embedding spaces were then reshaped in the experiments using a control agent.I have found a few sources that discuss building and using trees for nearest neighbor search, but none that discuss actively maintaining and refitting the trees to a non-stationary space.Thanks for any help you can give!',\n",
       " 'Without getting too technical can someone explain to me what is meant by the z3 being the first programmable computer. What exactly did it offer that was programmable and how did the ABC not have it? Also was the ABC computer fully mechanical? Was the Z3 the first computer to use relays? Thank you!',\n",
       " 'Analogy from real life would help as well',\n",
       " 'I do not know much about computers so i figured i would ask the community. Say I have like 10 average power Dell work computers. Can I take the hardware from all of them and chain them together to get a better computer? Similar to how flash memory is additive ex: plugging in an additional flash drive means more overall storage',\n",
       " 'I understand 2^x gives you the max number for x unsigned bits. but say we are using IEEE-754 32 bit floating point number. Should not the maximum value be 10^256 x 2^23? [This site](-bit-float-files-explained/) says:> The largest number which can be represented is ~3.4 x 1038, and the smallest number is ~1.2 x 10-38. Doing the math:> dBnoise = 20 x log (1.2 x 10-38) = -758 dB> dBmax = 20 x log (3.4 x 1038) = 770 dBYet the [wikipedia page on bit depth](#Quantization) says there is only 192dB of dynamic range with a bit depth of 32Where does this extra dynamic range come from and how do you actually calculate the maximum number a 32 bit floating point signed number can be?',\n",
       " 'I personally pronounce it like car, but I have recently found out that this is weird. Makes sense to me because character would be pronounce like car and because char is just abbreviated character it makes sense you would pronounce it like car. But I guess this is not how most people do it, what is everyone else’s opinion?',\n",
       " 'I am going to be buying textbooks for some CS fundamentals like OS, DBMS, Networks and some other subjects. I am looking to buy textbooks that give both a solid base for theory and also practical implementations and examples (code and algorithms) of the the chapters/ topics. **I may not get the latest or even the newer editions for these textbooks, is that OK?*** For Operating Systems, I was thinking of *Operating System Principles by Abraham Silberchatz, Peter B. Galvin, Greg Gagne* or *Modern Operating Systems by Andrew S. Tanenbaum* I cannot decide which one to get, I heard they are both good for OS theory. Looking for suggestions for a practical/code-oriented OSdev book.* For Database Management Systems, *Database System Concepts by Silberschatz, Korth* is the only one I know but if there are better texts available, let me know.* For Computer Networks,  I have read *Computer Networks by Andrew S Tanenbaum, David. J Wetherall* and liked it enough to consider buying it. But again, lmk if there are better alternatives.* For Compiler Design, I read a bit of *Compilers: Principles, Techniques and Tools by Alfred V. Aho, Monica S. Lam, Ravi Sethi, Jeffry D. Ullman* but apparently it is outdated. So I would love some newer, more practical/implementation oriented book recs.* Probably the two **most important of ALL** subjects, **Data Structures and Algorithms**. Need suggestions for the best books and MOOCs/courses out there for DS and A from both a compsci/academic and a Leetcode pov. I really need to learn problem solving and how to implement DSA and get better at leetcode and codechef et al.* For Discrete Mathematics, I heard both good and bad things about *Discrete Mathematics and its Applications with Combinatorics and Graph Theory- Kenneth H Rosen*. Apparently, it is a bit hard to understand and I am not the sharpest tool in the she would lmao. So I need a really good book or course for this as I have already failed this class once. Something focusing on Graph theory would be great too!* I also need recommendations for Computer Architecture too (or should I just do nand2tetris?), Distributed Systems and Theory of Computation?I would really appreciate your help and suggestions here for these and any other subjects or textbooks (like SICP, should I buy it?) you consider would improve and expand my engineering know-how and make me a better engineer/developer.Thanks in advance.',\n",
       " 'I would like to validate the idea of a side project. You know how it is, you start and never finish unless you are convinced that it really makes sense. That is why I need your feedback, if you are interested, others also might be. If you do not like the idea, downvote immediately. It is also valid feedback.Thanks in advance 🙏Imagine a web app where you login via GitHub or paste a link to a public repo. In seconds, several interactive plots appear. For instance:1. Bar chart: what average count of commits in each week day2. Bar chart: average file size in for each extension3. Histogram of lines of code4. Time series graph: repo size in LOC over time5. Time-series: count of bugs over time&#x200B;What information you would like to get about the repository?Does it interest you at all?Do you know existing online services like that?',\n",
       " ' I am trying to analyze the complexity (both theoretical and empirical analysis. I read that in the real world use-case (by my prof) that we use a mixture of merge and insertion sort. When the sub-arrays are *small enough* (how small?), we will use insertion sort on the smaller sub-arrays.I understand that for Merge sort, it is O(n log n) for general cases whereas for Insert Sort, it is O(n) for best case, O(n\\\\^2) for worst case.How can I do a theoretical analysis on this mixture of algorithms?As I understand for empirical analysis, I can simply feed the program a collection of dataset and measure the number of comparisons & swaps.',\n",
       " ' Prior, currently I enrolled in Philosophy of Computer Science course. And for introductory, we asked to gather public opinion about current AI (whether about ethics or development).So I need your opinion, anything, about that. One simple sentence would be enough. For example: \"Peoples exaggerating and overestimating what AI can do. In the end, its just some simple program designed to help us human.\"Thanks before.',\n",
       " 'At \"But How Do It Know?\" by J. Clark Scott 198p(with my bold)>Enter digital technology to the rescue. When you send a digital code over long distances, the individual bits are subjected to the same types of distortion and noise, and they do change slightly. However, it does not matter if a bit is only 97% on instead of 100%. A gate\\'s input only needs to \\'know\\' whether the bit is on or off, it has to \\'decide\\' between those two choices only. **As long as a bit is still more than half way on, the gate that it goes into will act in exactly the same way as if the bit had been fully on.** Therefore, the digital pattern at the end is just as good as it was at the beginning, and when it is converted back to analog, there is no noise or distortion at all, it sounds like the person is right next-door.I do not understand the bold part. One bit loss can because different result in many logic gates. If states of lost bits are the same as before, the result should be the same as intended. But generally the result would be changed if bits are interfered. Why does the author say like that?',\n",
       " \"What is the meaning of having a GPU between a CPU and a display screen? I think a display screen has its memory and fetches 3 byte RGB value from the CPU, then it will use that 3 bytes per one pixel and next 3byte and next sequentially. And it seems there is not any opportunity for GPU to make this process faster and better.I googled a little and found the GPU is good for efficiency and it is electric circuit is designed for that purpose. But what task it optimizes? I think enhancing CPUs hertz or display screen's hertz or widening bus width will be enough. And also transferring bytes directly from CPU to screen should be faster. So, why is GPU needed? What is the job GPU does?\",\n",
       " 'I Am terrible at computer science and am failing i do not want to fall behind',\n",
       " ' I am new to data collection using Channel state information but I have heard that there is a new Wi-Fi standard replaces the use of channel state information and/or breaks it down to the V value after performing Single Value decomposition. I am completely unsure of this and would like to request more information regarding this. Anyone knows what it is or where I can find more information about it? I am reading about 802.11ax but I think it uses the same base only now its upgraded and uses MU-MIMO. Any help is appreciated!!',\n",
       " 'Wrote a paper of how to refine synthetic images to give a photo-realistic presentation&#x200B;&#x200B;[ Original Doom avatar - original vs refined ]()&#x200B;[ Pixel-Me generated avatar - original vs refined ]()&#x200B;[ Fallout 4 character - original vs refined ]()&#x200B;* Git: []()* paper: []()',\n",
       " 'I am trying to figure out algorithm that can merge AVL tree A with AVL tree B into AVL tree C. All my solutions have time complexity O(min(∣A∣,∣B∣)). But somehow there is way to do it faster.How would you approach this problem to make asymptotic time complexity better ?EDIT: All elements of tree A are before All elements of tree B.',\n",
       " 'For your guys, what are the main themes to learn before get into cybersecurity? Like the fundamentals...',\n",
       " 'I have a giant Trie which I have created using C# Dictionary (Hashtables).I have an excel sheet with 1 million rows and roughly 10-15 columns,Each cell has a value  as shown below:Instead of storing characters as value, I am storing it as follows:Now the problem is after loading it into the memory this occupies roughly 3-4GBs.It could be the overhead of creating so many dictionaries. The performance is awesome. But the space it occupies is pretty expensive. Is there a way to optimize it?I will be having a collection of roughly 5000 lineitem rows which I will have to validate against these 1million rows that had been inserted. The row has to match in its entirety.Is there a way I could optimize this for space?  **One important piece of information:** \\\\* means that the lineitem could have ANY value for that property. Had that not been the case I could have just concatenated each cell of a row and stored it in a dictionary. &#x200B;Then concatenated lineitem and looked up in the dictionary. Since \\\\* means any value. It will not work.',\n",
       " 'Thinking of designing and implementing a language these days. Ambitiously, I wanted to use it (probably as a DSL), so wondering what other folks have been up to.&#x200B;Have you created a programming language? Do you develop in it at all?',\n",
       " 'Hello, I am trying to become more knowledgeable on CS and current topics and I was recommended Mastering Ethereum. While the first chapter is pretty clear and easy to follow, this definition has many words that are not entirely clear for me. “From a computer science perspective, Ethereum is a deterministic but practically unbounded state machine, consisting of a globally accessible singleton state and a virtual machine that applies changes to that state.”- Deterministic state machines: I cannot say I totally understand. Except maybe it seems from Wikipedia that all deterministic state machines are also FINITE, meaning they have a predetermined number of states?- practically unbounded. Does this have to do with the finite number of states? Is this saying that Ethereum is a finite state machine but “practically infinite” ? How does that work?- state : I understand this. The states are the possibilities of the machine. In the classic turnstile example the states are locked which only allows the input (coin) and unlocked which only allows the input (push).- Singleton state: I tried to read bout it but I still do not get it. Any help?Could you maybe go word by word and help me clarify that initial statement?Even the concept of a virtual machine changing the state… I know VM from my days running windows on a mac, so I understand the concept, but when it comes to modifying the state of Ethereum… does that simply mean adding a new block/transaction/smart contract? If states have to be predefined, how can my contract fit in?TLDR:Help me understand:“From a computer science perspective, Ethereum is a deterministic but practically unbounded state machine, consisting of a globally accessible singleton state and a virtual machine that applies changes to that state.”',\n",
       " 'I have Theory of Computation as a subject this semester and the course work is very dry and boring. I have tried putting in efforts but that stuff is just too abstract for me. I have talked to others and they have more or less said the same thing.Are there any books/courses that explains this subject in an interesting way? What did you do to get through it? I do not want to fail or fry my brain.Thanks!',\n",
       " 'Why interpreted languages were made instead of making just compiled languages',\n",
       " 'I have just started learning basic principles of the computers. There are bits, bytes, nand gates, memories, registers, buses, etc. Many units exist and they do what they are supposed to do repeatedly and fast.What I wonder is that who controls bits(electricity) in each unit be on and off? No matter how basic stuff each unit does, that behavior should be controlled by something other. It may depend on A which depends on B which depends on C and so on. As a result there may be intelligent one which knows how to operate computer units in order to cut this endless chain. If there really is such a thing, how can it know? Or am I missing a point?',\n",
       " 'Does anyone have relevant course materials on Advanced Algorithms CS graduate course.??. like textbook, course videos or lectures. id really appreciate.',\n",
       " 'Hello guys. So it has been almost 2-3 weeks since I started a course on Data structures and Algorithms. Although, I have implemented and can understand the working of the algorithms I have covered, I would like to develop a better and keener sense of algorithmic thinking and design. Is it too soon, or is there a particular method I should follow during the course.&#x200B;Thanks alot!',\n",
       " 'As an ambitious project, I wanted to develop a language, and compile a compiler in itself.I have some background in PL, but this still seems like a daunting task. I am not too worried about the frontend, because it will be relatively straightforward, even if not having access to lexers or parsers will be annoying. I am more worried about runtime or memory management.There is a lot of resources online on building a compiler, but a dearth of tips on how to build a bootstrapping compiler.Any suggestions or tips from experience would be highly appreciate. Currently thinking of having a rather minimal subset of C and compiling it down to LLVM.',\n",
       " 'Given a binary number/sequence, find the positions/bit indices of the 1/ON/SET/HIGH bits. As an example, given the binary number:      76543210 # positions    0b10010110 # binary number      ^  ^ ^^the positions would be \\\\`\\\\[1,2,4,7\\\\]\\\\`.I have the following O(N) algorithm (where N is the bit length of the binary number):    def get_on_positions(num):        res = []        pos = 0        while num:            if num & 0b1:                res.append(pos)            num >>= 1            pos += 1        return res        assert(get_on_positions(0b10010110) == [1,2,4,7])But I was wondering: is there was a faster O(M) algorithm (where M is the count of ON/SET/HIGH bits in the binary number). A particular case where the difference between N (the bit length) and M (the count of ON/SET/HIGH bits) can be significant is when the binary number is one-hot. A one-hot binary number has exactly one of its bits ON/SET/HIGH). For example \\\\`0b10000000\\\\` (or any power of 2). In the one-hot case, is there an O(1) algorithm for finding the position of the single ON/SET/HIGH bit? As a side note, the case where \\\\`num\\\\` is one-hot case is equivalent to finding \\\\`log\\\\_2(num)\\\\`.',\n",
       " 'I have watched countless quick sort videos, and it seems to be that there are many ways to do the partitioning?First video ([]())`Method 1:``One video shows picking the the right most (end) element as the pivot. We also create a variable``tracker = left;``Then we iterate/for loop through from the left using i, and check if the element is smaller than the pivot.``If it is smaller, then swap that element at i with element at tracker. Increment both i and tracker.``Else just increment i.`&#x200B;`At the end of this for loop we swap the element at tracker with the element at the end, which is the pivot.`&#x200B;This makes sense to me, I am able to visualize it.&#x200B;Another video ([]())`shows picking pivot as most left element.``Then use two variables i and j, one is most left and the other most right.``i will search from the left for element larger then pivot, and j will search for element from the right smaller than pivot. When both is found, swap them.``If i > j, we have to stop, as we finally found a position for the pivot, that is, there are no more elements``on the left that is larger than pivot. So we swap and put the pivot element into j.`&#x200B;&#x200B;It seems that picking pivot from the left and picking form the right inherently modify in partioning process. Am I understanding and stating it right so far?&#x200B;Another method is to pick element from the middle. Then move that element to the end. This is much more confusing for me, as it involves moving the pivot element at the start, which is not what the other 2 methods mentioned earlier does.',\n",
       " 'Hi , Just wanted to know if there are any books/ free courses / resources I could use to learn more about computer hardware from a beginners point of view.',\n",
       " 'Okay, so I am reading Crafting Interpreters and some other books on compilers, just from a personal hobby perspective. And I like it a lot.However, it got me thinking. I understand why a compiling to a (bytecode) VM makes sense. A good example here is the Another World game from the 90s where the creator compiled it to its own VM and you “only” needed to port the VM in order to run it.However, all the “custom” languages I am reading in the books are general purpose. Just like the commercial VMs like JVM etc. But, I can imagine there being very specific use cases that can warrant a specialized language and VM. E.g. a 2D game engine might benefit a lot by specialized routines for managing a lot of entities or rendering pixels to screen etc. I can imagine if the language, compiler and VM are built for a specific use case a lot of assumptions can be made compile time.Are there any examples in the real world of this? Or is it a stupid idea?',\n",
       " 'Hi guys, I volunteer in a hospital lab and one of the most tedious tasks they tell me to do is retrieving a blood sample that I have to go hand by hand looking at every individual sample and it is name and medical registration number to find the sample they are looking for.I am new to coding and I want to test my discipline to start something and finish it, while also testing my abilities in programming. In this project I want to create a simple system that will allow me to input their name and mrn number and put it into a machine that catalogs the slot I put it in, like slot 1,2,3.. so on. Then when I want to retrieve it, I just input the name and mrn number and it will tell me the slot it is located in, but if it is not their it will just say that it cannot be found.I was thinking Java would be the best to do this but I also wanted to see if there are any other better options that I can use to do this as well. The only relevant coding experience I have is my AP Computer Science class that I took in my junior year of High school but I ended up failing the exam with a 2.Also, any recommended software or websites that I can use to complete this project would be very helpful as well :)Appreciate the help guys :)',\n",
       " 'So I know that at the very very basic end of cs, a computer works by receiving binary data and turning it into some sort of output, But how can a computer \"know\" what I want it to do when I type this, for example. Same with programming languages, how can it know that print(\"Hello World!\") on python actually means, \"put these words on the screen?\"Anyway, hopefully that sort of makes sense. I do not know much about cs, so basically anything helps.Edit: Thanks for all your answers. I think I am beginning to understand it more, but this is still insanely complicated to me lol.',\n",
       " 'So….. I am a kid who is interested in computers. Recently I was thinking about how machines work entirely on binary code and even your photo you see on a phone is just a bunch of binary code. So I thought what if we had a program that produces random binary code of varying lengths and converting them into .png form . Would it randomly one fine day end up producing a image of me in future cuz it is also just a bunch of binary code. I know it is highly unlikely and it might take more than the lifetime of universe but if we just get get extremely lucky then is it possible?????',\n",
       " 'Presently as a computer science student I always hear that big tech companies like Google , Amazon etc companies are based on data but by data the only things which come in my mind is basic information of a person like : age , gender etc so what does data means what does a software engineer works with in a big tech company?',\n",
       " 'I was wondering if anyone was aware of software that can be used to track a stationary cursor (crosshairs in game) within a scene that moves and trace its pattern (the crosshairs movement relative to the scene) in an output?The idea being to track the cursor movement and look for “inhuman” movements.I know that certain softwares exist for similar uses, I am just unsure as to the names of them or the genre of software I need to be looking at.I have tried a few different approaches that I am still tinkering with. The first being using a panoramic stitcher program to see if that will help me work put coordinates of movement etc but I run into the issue of the program (Huggins) requires a focal point and FOV from lense, when I am feeding it still frames captured from a video.And the other which I am yet to go down the road of is some software used when people take pictures with their telescope to keep the telescope aligned.I am not a programmer but have messed around and surprised myself before, so a point in the right direction is all I am after really?I hope the question and my requirements made sense? Am happy to explain further.Thanks in advance.',\n",
       " 'Hey everyone! I am currently working on a program that looks for patterns in an array of data and I have two implementations: a totally sequential implementation and a parallel implementation. For smaller data sizes (such as 100 or 1000 elements) the parallel implementation is much faster but when we move to larger data sizes (in the millions), the parallel implementation is much slower. What could be the because of this?',\n",
       " 'It is my dream to get into the pentest/ethical hacking/network admin route, but damn is this field hard to become an expert in. I find that even my  basics are not that great, like building a LAN in Cisco Packet Tracer, things like that.I find it difficult to have a proper ground up way to learn all the protocols, acronyms, configurations, things like that. Is there any good way I can build a good foundation for this kind of stuff? I barely made it through Data Communications and Network Security, and I feel that I did not actually retain anything at all. It is so all over the place.',\n",
       " 'I recently started learning about CPU architectures, and I have a question:What does the zen architecture in an AMD CPU mean? Is it just a modified version of the Von Neumann architecture?',\n",
       " 'It is a personal problem i am having, if i can figure it out, it would be niceSo i am given a grid of points, evenly spaced by X. I am given a radius R. How can i figure how many points can i fit within that radius?I can do it manually, but if i could find a function to solve it, it would be great&#x200B;To make it clear:  if each point is 1 meter (x=1) from each other, and the radius is 1 meter in size (r=1), i can fit a max of 5 points within that radius. One in the center, and four above below and to the sides, tangently.',\n",
       " 'Hey everyone. I am currently busy with an undergraduate research project and one of the things we need to discuss in our report is the computer architecture we ran experiments on. Even though I am a computer science major I have never had any interest in computer architecture so I do not even know where to begin the discussion. What *things* about my computer would be good to mention under computer architecture? (CPU, etc)',\n",
       " 'Thank you all in advance.',\n",
       " 'People who have read this book what was your strategy to complete this giant? It has close to 500 exercises. I am talking about www.htdp.org . I have started but it looks like jumping into a huge ocean. In some portions it seems dry. There are two courses on edX: How to Code: Simple DataHow to Code: Complex DataBut the courses do not cover the entire book. I am looking for review and experiences from people who have read and liked or disliked it. How did the book help you in your CS journey?',\n",
       " 'Hey, I am looking for YouTube channels that talk about their projects like Devon Crawford or []()',\n",
       " 'Hi folks! I have a high schooler that is getting ready to start the AP computer science course. They have been programming for a couple years, but struggle with confidence and recall due to some life issues.As you might know, the course work uses Java. I would like to find a course that might help them with feeling more prepared for the course and subsequently familiar with the concepts. Perhaps even doing some various smaller exercises that give some context.Unfortunately the school systems have created a problem where a \"quest giver\" is essentially needed so I think the latter part of smaller exercises would be especially helpful. I think it could produce some feeling of success and accomplishment that would instill some confidence and emotional memories to push through the possible upcoming doldrums of a longer course (depending on the teacher\\'s style). I have always found that preexisting familiarity make the initial learning and course adjustment cleaner.Any suggestions, links, videos, or so forth?',\n",
       " 'They came out with Apple and Windows. We got a few others not commonly used and we got Linux sort of.. in the background. But why no new closed-source OS that sells and is really popular? Something that combines the freedom and capabilities of Linux with the “user friendliness” of Apple & Windows. It is in quotations because I find both OSs to be a real hassle. Automatic updates mandatory, all sorts of crashes, bugs , errors … it is beyond me Apple & Windows continues to overlook very serious problems with their OSs with all the updates they come out w.? So why has not anything new dropped in the mainstream besides these clowns? I know there is Android and chrome OS but those are Linux based and pretty similar to each other .. I am talking about like the next big thing a really nice OS like I described that has the best of both worlds (like mentioned above) and is fast & efficient? I mean Linux uses so much less system resources than Windows. Apple, I have had Apple desktop computers and the more they update the slower they get I tried to prevent auto updates on my Mac Mini and thought I did that computer sat upstairs for years and one day I had finally decided I am either going to use it or lose it (“sell it”) and I went wit selling it cuz when I would left it , used it the last time it was ok. Just “ok.” … a lot of apps I did not find useful and I would not at it was nearly as fast or error free as Linux at all but when I came back to use it a few years later f had installed all sorts of updates and was so slow and tedious. I had it set to a sleep cycle to preserve its “health” and everything I was trying to preserve it as best I could even tho I never used it. And ya the thing was “fried” thru no fault of my own. By fried I mean it was just a paperweight to me. My Windows lap stop was still slower but I installed Linux one day and it was super fast. On one of the Cheapest laptops available. I sold it and had the Government buy me a high end laptop for my schooling and it is been great with Linux (on it) but there are issue with Linux sometimes things certain actions can ruin your whole computer. I had a big problem when i was new to Linux I will not get into it cuz I have already kind of rambled off-topic enough but something that combines those advantages “mentioned” and maybe ads some new stuff too sounds like… revolutionary in that the current mainstream OSs especially the mobile ones are so far behind and atrocious (in my eyes) by that I mean the same serious issues are still there in every new update. There is a lot I am currently on iPhone 11 it is got a lot of issues that affect 55% or more of what I use it for. They just do not fix it . Android does not seem much better either . It seems we need a great new OS that revolutionizes the industry and has (of course) a workstation version (desktop/laptop.. I think that is the proper term “workstation” in my book(computer book) they refer to it as that) AND mobile versions. …. But why do you think that has not happened ? A new mainstream OS -It sounds totally lucrative and logical for me. Any ideas/ thoughts on this ?',\n",
       " '\\\\#education\\\\#books\\\\#learningHi all. Looking for some resources to enhance my knowledge in networking and CS. Any books, sites, articles recomended?',\n",
       " 'Are you familiar with python programming? Are you interested in solving programming problems? Do you want to support software engineering research? [-21-0007.cispa.de/](-21-0007.cispa.de/)',\n",
       " 'I am currently learning algo designs and analysis, and I am having a tough time trying to analylse its complexity. For example merge sort complexity, it is n \\\\* log n, but looking at the steps of the recurrence relation got me so lost, furthermore watching different videos on the same topic, they are doing it differently',\n",
       " 'I am going to preface this with this is probably going to be a stupid question and I am hoping I am going to get an answer that is so obvious that I am going to hide from the world until my beard reaches the floor and I have made friends from the local wildlife.However, I have been following this article here:-find-algorithm-cycle-detection-graph/And it states that Disjoint Sets can be used to determine whether there is a cycle in an undirected graph. Great. However I notice that no matter how I count it up, would not you know that there is a cycle in an undirected graph if the number of edges equals the number of nodes in the graph?',\n",
       " 'Is there a word for it?Rasterised = PixelsVectorised = ?I hope that makes sense',\n",
       " '**Backstory:**I   am an Intermediate programmer in C/C++ and Python. Assembly Language  is  currently part of my course (B. Tech). It started with MIPS. I am   tinkering with Godbolt compiler explorer, to know Assembly code of   simple C programs.**Doubt:**Below things are taught till now.* Strings are stored in `.data` directive* `syscalls` are controlled with `$v0` register* `li` instruction loads value into a register* `la` instruction loads address into a registerHere is the Godbolt Link: []()I   written a very simple C code which takes 2 integers as input and   calculates sum & difference and prints them out. The corresponding   assembly code DID NOT have `.data` directive at all. It did not control syscalls with `$v0`  register. So, What is happening here?',\n",
       " 'So I am into that rabbit hole of reading research papers and articles about computer/software engineering, if you have any recommendations please drop them below',\n",
       " '[-08-student-urges-natural-language-focus.html](-08-student-urges-natural-language-focus.html)',\n",
       " 'Do you all have any book recommendations for learning distributed computing? Something that is fairly accessible and language agnostic. I want to learn about common algorithms/protocols and try implementing them myself, rather than just get high level descriptions. Something that hopefully strikes a balance between practicality and not getting too lost in the weeds with white paper stuff (but that just might be the nature of the beast).',\n",
       " 'I am curious what applications for abstract algebra exist in computer science. I have read about group theory and ring theory being used in cryptography. Functional programmers seem to use monoids and semigroups as library design inspirations - although this blurs into category theory? And I would imagine (though I do not know) that coding theory intersects with algebra - is this so?What other areas of CS, applied or theoretical, make use of abstract algebra?',\n",
       " 'TLDR  Input: Any bookOutput: A movie  I could not really find any information online about this \"idea\", and I think it is because the software needed is 10-15 years off in my opinion.  Essentially, I would like to take any book and have some software turn it into a movie.  This seems inevitable to me the way deep fakes, face generators, text to speech, text analysis, tone sentiment, CGI, etc., are progressing.  We can already generate new images based on a given string, how far off can interpreting a book into a film be?  We have a giant collection of movies to train a model on to learn camera angles and such.  I guess what I am looking from you (the reader) is how long do you think this will take to become a reality? Post up some links if you can find anything similar to what I am talking about too maybe?',\n",
       " 'Is it possible to make a ‘text-description’ to ‘circuit’ system using GPT-3?If yes, what approach / model you will suggest?',\n",
       " 'Hello guys. I would love some good resources on algorithms and data structures. Some good courses, books, etc that will be suitable for someone novice in the field and would provide a well hands on approach. Cheers!',\n",
       " 'I have been wondering how does a social media algorithm work so incredibly in promotion posts , showing feed and people recommendation, and all other stuff . As a computer engineer I an curious how can one make something like this.If anyone know anything and would like to share knowledge that will be very grateful.',\n",
       " 'My team leader calls it gæn. What is the appropriate pronounce in your team or lab?(1) gæn(2) gaaaaan(3) gee-ei-aen(4) generative adversarial network',\n",
       " 'A while ago, I thought of this idea and looked on the internet to see if it was a thing. At the time I saw some articles that talked about some attempts. Today I just tried searching for that again but was unable to find anything since all results were about quantum computers.From my understanding, a photon-based computer could work at vastly higher speeds, there would be no translation between the information received from optical fiber to electrical signal, and the energy costs and the cooling should also be lower.My main question is about whether photon-based computers are still a thing that is being researched and if they could outperform a normal computer. My secondary question is if I am wrong on any of the benefits for any reason.',\n",
       " 'I got hired as a teacher (previously only taught math) to teach an intro to python programming class this year. I was given a python book from 2013, and I asked the admin if we could get a better book. They said sure, get whatever book you want and we will pay for it. These admin do not have tech backgrounds at all and essentially left the entire course makeup to me. I think I can switch the language from Python as well if I want. I would like to change it to JavaScript and am thinking of getting an intro JS book instead to teach from. What do you think? Python or JS? I really need book recommendations though as students will be entering the class in less than 48 hours.tldr;Hired to teach intro programming to HS students. Curriculum left entirely up to me and I need recommendations for books, Python or JS or any advice whatsoever. Thank you all in advance.',\n",
       " 'One of the major detractors of traditional proof-of-work algorithms is that the node is doing \"useless\" work i.e. performing hash calculations. Has anyone developed a consensus algorithm like \"proof of CPU utilization\" or \"proof of machine learning training iteration\" where the work being performed is either generalized enough it can be any useful task or a specific useful task?',\n",
       " 'Hello,I am a game developer and I want to make a game that is based on Rook\\'s Path / Finding a [Hamiltonian Path]() (or Cycle) in a directed 4-(or 5)-connected graph.Now, the player is the person supposed to solve this, so the computer has to provide the problem.To use the vernacular: the player needs to visit every square on a checkerboard with obstacles, board has varying dimensions, but the graph\\'s order is likely always <100, and often <50.Notable examples are the \"[Flow]()\" mobile game, in a way, which does so but allows many 5-edge vertices. Long ago, I myself worked on a similar game in the past, called \"[InfeCCt]()\", which is based on paper puzzle books used for cognitive training. We were given the puzzles, but no insights into their MATLAB-based generator, or its runtime characteristics.The \"magic\" of the dataset used for InfeCCt was that *most puzzles were quite hard, yet at the same time compact and had only one solution*. The sweet spot was somewhere at 1 to 3 solutions, while maintaining many false choices. Given the sheer number of puzzles they had, and the limited available computing power, they did something much, much more efficient than just testing a lot of cases. In fact, others ripped off the InfeCCt game - and ended up copying the puzzles, or merely mirroring them as obfuscation. Which leads me to my...# Question: What are efficient approaches to generate \"nice\" example cases for this problem?My research mostly yields me better algorithms to solve the problem, but for me, formulating and selecting the problem from a vast number of possible puzzle board configurations is hard. I have seen a few Hamilton path [generators](/), and am currently picking these apart; but they care more about the intersection of the path rather than missing (inaccessible) vertices of the graph.My initial approach was to randomly generate puzzles, check how many Hamilton Paths exists (e.g. naïve backtracking, parallelized across cores), and grade the puzzle on their length and number of choices. This requires searching the entire problem space, which - given the problem - is not very efficient. In fact, outputting higher order puzzles quickly slows to a crawl. I also experimented with pre-determined shapes and cutting these out of a trivial graph.I currently test finding the first solution in a depth first search, and counting the number of decisions on the way, discarding anything that has too many decisions (e.g. an empty chess board has a gargantuan number of choices for a rook to travel and visit all the squares, but many trivial solutions are immediately obvious)Worse, some problems with exactly 1 path are extremely hard (and often intuitively does not look like it), and some with 1 path are trivial (think a maze with no forks or intersections). For the former, the search could be extremely hard for whatever algorithm I use, but easy for humans who will use heuristic search, and occasionally even vice versa (but this is beyond the scope of my question, and goes into my ultimate goal of researching cognitive and neurological effects on people learning to solve these puzzles).Thank you for your input, I greatly appreciate any ideas or pointers where to look.',\n",
       " 'Long story short i am a bit of a midwit and i am trying to collect a ton of digital photo data that can be dumped into something like Power BI for data visualization. My coding experience is also extremely minimal. I could do this all manually by typing out the letters and numbers or possibly even use M Turk, but I think image processing might be a better way.Does anyone have a solution for a layman? The Letters and numbers should always be pretty organized and they will always be the same color, background, font size, and font type. Are there out of the box software solutions or is image processing a lot more difficult than I think?Basically I want to know what the best way to get data off a jpeg and into an excel sheet are.edit: So I was able to figure out I could do some janky OCR through google drive. It recognizes the text in the picture and it spits out the data. Now I just need a way to bulk harvest and collate the data. It appears gyazo has OCR capabilities so maybe I will check that out.',\n",
       " 'Hi, I was watching a YouTube on \"Math Has Fatal Flaw\". It talked about the Principia Mathematica, which looks like this:[Excerpt from Principia Mathematica \\\\(https:\\\\/\\\\/en.wikipedia.org\\\\/wiki\\\\/Principia\\\\_Mathematica\\\\)]()Wikipedia: \"PM, according to its introduction, had three aims: (1) to analyze to the greatest possible extent the ideas and methods of mathematical logic and to minimize the number of primitive notions and axioms, and inference rules; (2) to precisely express mathematical propositions in symbolic logic using the most convenient notation that precise expression allows; (3) to solve the paradoxes that plagued logic and set theory at the turn of the 20th century, like Russell\\'s paradox.\\\\[1\\\\]\"So I was wondering, is there a programming language built using approximations of the syntax used within the Principia Mathematica? Machine code? Maybe a \\'native\\' implementation?This is important work, since I think it is good to have a singular syntax to represent logic and mathematics. If it were programmed, well I think that is awesome.I have only a little experience with computer science, so I do not know a ton of languages out there, so I figure I would ask the hive mind. Thanks!',\n",
       " 'I am halfway through and whilst the basics of how a computer works was built up nicely, the learning curve has ramped up massively with no exercises (code to logic and gates and suddenly to 8-bit adders feeding 8-bit latches).Is there an intermediate or exercise-supported alternative to this book that builds up to the modern computer?',\n",
       " 'I have been programming for maybe five years now - but only recently did I decide to pursue programming for full-time. I find myself getting a headache after 8 or 9 hours behind a computer screen. Do professionals have any advice on how to avoid/deal with computer-induced headaches? I would really appreciate it.',\n",
       " 'I was going through the internet looking for schematic diagrams of an 8-bit ALU with logic gates but could only find a 4 bit one. Does anyone know or have a reference of it?',\n",
       " 'I enjoy watching hacker documentaries that go into detail on the actual processes of the scenarios, but I am curious as to any other CS channels that also explain their doings? Could be anything. Documentaries, making games, etc. I enjoy Code Bullet too.',\n",
       " 'Does it take log(memory size) to read an address in RAM model/model for algorithms?  If so are we just omitting a logn factor all the time?  e.g. does it take nlogn time to traverse a linked list   (logn)\\\\^2 time to search a binary search tree?',\n",
       " 'Hello,*I am not quite sure if this post will \"abide by the rules\" of this subreddit, but if not I will likely know quite quickly.*&#x200B;**Why this post?**So..  I have tried matrix (the protocol by vector) for a while, and I can only draw one conclusion, which is that it will not go \"mainstream\"  (likely ever). I think that the initiative is good for developing  interesting technology, but the name \"matrix\" is abstract and not  specific.I  then wondered.. if there was a protocol called e.g. SLCP (simple live  communication protocol), and there were mainstream service providers (e.g. *hotcomm.com* from microsoft, *gcomm.com* from google), would that be something that you think you could \"explain to e.g. your grandma/grandpa\"?&#x200B;Also.. I was also thinking of an address format inspired by the matrix \"address\" format, but a little bit  different so that people unfamiliar with the technology might not get as confused. What I thought of is..&#x200B;|<name>@<host>|i.e. \"identical\" to SMTP (could be e.g. [info@hotcomm.com](mailto:info@hotcomm.com))||:-|:-||\\\\#<channel>@<host>|i.e. specific for SLCP (in matrix each \"space\" has an address)|&#x200B;So.. e.g. #[ggj2023@globalgamejam.org](mailto:ggj2023@globalgamejam.org) for people to discuss/follow the global game jam of 2023.<name>@<host> would not conflict with email any more than the current matrix \"address\" does, as if you try to fill in an email address in your matrix login form you SHOULD get an error,  and if you try to fill in a matrix address in an email login form you  SHOULD also get an error.&#x200B;**To be extra clear.. SLCP is not an actual protocol, but an idea for a name that accurately describes what I think \"matrix is about\". I think that for \"mainstream\" adoption, it is essential that business can name  their services accurately as well. I think that matrix is never going to catch on, hence this \"proposal\".**',\n",
       " 'I was wondering if there was a collection of open problems in theoretical computer science, specially in graph theory, combinatorics, approximation algorithms etc. suitable for undergraduates to explore. There must be many many problems out there. I am looking for a collection.',\n",
       " \"So to prove that P = NP, we need an algorithm/method/way to solve an NP problem, such as 3SAT, in polynomial time or less, for all possible instances of the problem, with no regard to the number of clauses, or the number of variables, or the application of the instance in real life.Now resolution, as I understand it is, if a clause is of the format: P(t),x and another is Q(t),-x, then the resolution of these two clauses is P(t),Q(t). and the instance is UNSAT, if there exists a clause where P and Q are empty, and is SAT if all possible P's and Q's are generated and none of them satisfy the condition that both are empty in the same clause, i.e. the empty clause.So why/how/where is this wrong? and Pardon me for any mistakes I made.Thank you\",\n",
       " 'What examples of benefits from different encoding ways like utf and it is offshoots examples',\n",
       " 'Where do I go to learn more about good technical documentation of system, and writing proposals for new systems.While the approach internally at the company I work at is working, I would like to get some external exposure.If specific help, good standards for Confluence documentation of systems, the creation of proposal for new systems are the two things I want to improve on the most at the moment',\n",
       " 'I am coming up on Fall semester and this is one of the harder courses in my schedule. I was wondering what steps I could take to prepare for this course. Any advice is greatly appreciated!',\n",
       " 'Hello, I am a new teacher and I am going to be teaching CS to 7th grade. Does anyone have any recommendations on what programs I should purchase for my 7th grade class? If I can buy three programs or more for under 10 k that would be useful. I am looking for something the kids would enjoy… any ideas on how I can teach this subject?',\n",
       " \" Before I begin - everything about this should be totally and completely ethical at it is core. I am not saying this as any sort of legal coverage, or to not get somehow sued if any of you screw up, this is genuinely how it should be. The idea here is **information security.** I will say it again. **information security.** The whole point is to make the world a better place. **This is not for your reckless amusement and shot at recognition with your friends.** **This is for the betterment of human civilisation. Use your knowledge to solve real-world issues.**There is no singular all-determining path to 'hacking', as it comes from knowledge from all areas that eventually coalesce into a general intuition. Although this is true, there are still two common rapid learning paths to 'hacking'. I will try not to use too many technical terms.The first is the simple, effortless and result-instant path. This involves watching youtube videos with green and black thumbnails with an occasional anonymous mask on top teaching you how to download well-known tools used by thousands daily - or in other words the 'Kali Linux Copy Pasterino Skidder'. You might do something slightly amusing and gain bit of recognition and self-esteem from your friends. Your hacks will be 'real', but anybody that knows anything would dislike you as they all know all you ever did was use a few premade tools. The communities for this sort of shallow result-oriented field include [r/HowToHack]() ~~and probably~~ [r/hacking](/) ~~as of now~~. \\u200bThe second option, however, is much more intensive, rewarding, and mentally demanding. It is also much more fun, if you find the right people to do it with. It involves learning everything from memory interaction with machine code to high level networking - all while you are trying to break into something. This is where Capture the Flag, or 'CTF' hacking comes into play, where you compete with other individuals/teams with the goal of exploiting a service for a string of text (the flag), which is then submitted for a set amount of points. It is essentially competitive hacking. Through CTF you learn literally everything there is about the digital world, in a rather intense but exciting way. Almost all the creators/finders of major exploits have dabbled in CTF in some way/form, and almost all of them have helped solve real-world issues. However, it does take a lot of work though, as CTF becomes much more difficult as you progress through harder challenges. Some require mathematics to break encryption, and others require you to think like no one has before. If you are able to do well in a CTF competition, there is no doubt that you should be able to find exploits and create tools for yourself with relative ease. The CTF community is filled with smart people who cannot give two shits about elitist mask wearing twitter hackers, instead they are genuine nerds that love screwing with machines. There is too much to explain, so I will post a few links below where you can begin your journey.Remember - this stuff is not easy if you do not know much, so google everything, question everything, and sooner or later you will be down the rabbit hole far enough to be enjoying yourself. CTF is real life and online, you will meet people, make new friends, and potentially find your future.What is CTF? (this channel is gold, use it) - []()More on [/you/liveoverflow](/), [](/) is hands down one of the best places to learn, along with [r/liveoverflow](/)CTF compact guide - [/](/)Upcoming CTF events online/irl, live team scores - [/](/)What is CTF? - [-wtf/](-wtf/)Full list of all CTF challenge websites - [-ctf/](-ctf/)\\\\> be careful of the tool oriented offensivesec oscp ctf's, they teach you hardly anything compared to these ones and almost always require the use of metasploit or some other program which does all the work for you.* [**/**](/) (a newer set of high quality pwnable challenges)* [**/**](/) (one of the more popular recent wargamming sets of challenges)* [**/**](/) (Designed for high school students while the event is usually new every year, it is left online and has a great difficulty progression)* [****]() (one of the best interfaces, a good difficulty curve and introduction to low-level reverse engineering, specifically on an MSP430)* [**/**](/) (a new CTF based learning platform with user-contributed challenges)* [**/**](/)* [**/**](/)* [**/**](/)* [**/**](/)* [**/**](/)* [**/**](/)* [**/**](/)* [**/**](/)* [**\\\\_Hack/Challenges.html**]()* [**/**](/)* [**/**](/)* [****](/)* [**-analysis-course/**](-analysis-course/) (suggested by [/you/ThisIsLibra](/), a practical binary analysis course)* [****](/) (suggested by [/you/startnowstop](/))[](/) is very good if you are just touching the water.and finally,[r/netsec]() \\\\- where real world vulnerabilities are shared.\",\n",
       " 'I understand why a hard reboot helps the computer repair itself but why am I always counting to 1 minute? I was told by my cousin in IT to always wait at least 60 seconds and his brother said longer the better so is there any science behind leaving your computer (or any electronics) unplugged for a specified time and then plugging it back in or is it just something you do just because?(This is a genuine post. I really feel like there is logic behind it but to me it seems like magic)Edit: r/computerscience and the people on it are great, nothing more to add',\n",
       " 'I have a respectable amount of experience with a couple of programming languages, basic Searching & Sorting algorithms, and Asymptotic Notation. Which Algorithm book between The Algorithm Design Manual by Steven Skiena and Algorithms by Robert Sedgewick & Kevin Wayne would be better for the sort of pseudo-mathematical introduction to the subject? I do not want a book that delves too deeply into the mathematics of everything single thing (though too little amount of mathematics would not be good) since I will get that in my upcoming classes.',\n",
       " 'We made a compilation (book) of questions that we got from 1300+ students from this [course](/~hylee/ml/2021-spring.html).We believe that stack-overflow-like Q/A scheme is perfect for learning, so we made this.[Project Repo](-machine)[Website](-machine)The website is hosted on GitHub, automatically built from the repo.Please tell us what you think.Any suggestions are welcome!',\n",
       " \"I have recently found an opportunity to come in and teach lessons on python programming to a local high school's introductory CS course. I have always been interested in finding the most effective and efficient way to teach programming as I believe it is often done poorly. I once had the idea that teaching boolean logic as early as possible could be beneficial, and I have implemented this idea with this class with very promising results. Students are understanding how comparative statements work and take a genuine interest in exploring the many possibilities of if statements and, perhaps more uncommonly, the idea of returning a boolean value from a method. What are your thoughts on this? Do you wish you were taught boolean logic earlier on?\",\n",
       " 'I am a complete beginner at web development and code in general. I understand the website would take me about a year to build, probably more so I am simply looking for better solutions. Could I use a website builder and add a combination of my own code to implement unique features. I am looking at web builders such as square space or Wordpress. Also I have seen a lot of cry about how these website builders are often subject to malicious hacks. Is it not possible for a user to change also the website builders security code and implement their own unique security system or such. Thanks',\n",
       " 'As far as my understanding goes, cs is more focused on coding, while ce is focused on hardware.I know that it can differ across different paths, but do not know which ones and by how much. I am starting as a cs major this month, so would just like to seek out some things I do not know. Also, if there is anything i can add to help you help me, let me know and I can add.',\n",
       " 'I was just wondering which C++ course is the best to land a a job and also to pass the certification exam.I bought the C++ udemy course from beginner to beyond since a lot of websites listed it as either 1 or 2 on the list.Its by Tim Buchalka whose Java course I did which was 80 hours. The C++ one is 45 hours though which is significantly less so I was wondering if maybe it does not teach everything, though everywhere I have read said it more or less covers everything you need to know.So, tl;dr what is the most complete and comprehensive course which teaches most, if not all there is to know about C++ and will land you a job as well as allow you pass the certification exam.',\n",
       " 'Here are the details on the Effector:[-NZ-kJHV5kAPrTSFBe8V\\\\_KO6DK4/view?usp=sharing](-NZ-kJHV5kAPrTSFBe8V_KO6DK4/view?usp=sharing)',\n",
       " 'I want to learn about that but I keep running into paywalls',\n",
       " 'If you had a one hour lecture to teach something about computer science to a demographic who cannot be assumed to have more than basic computer literacy, what would you teach them?Some thoughts I had:* What is a computer?   * Basic definition: device for storing/processing data   * You use more computers than you realize. Tablet, phone, car keys, traffic light system, etc.   * Talk about the basic components (CPU, RAM, etc.)* What is a program?   * Instructions written by a programmer carried out by a computer   * You use GUIs that programmers made',\n",
       " 'I find mechanical computers kind of fascinating and intriguing. Is there any benefit to them over silicon based ones? I imagine they are waaaaayyyyyy easier to manufacture, but there is like no point because all software is built for silicon based ones and is based around it. I mean, like, you do not write C# on a mechanical or electromechanical computer do you? I mean maybe there is a way to translate C# into mechanical computer code, but I am not aware of it (that sounds like a fun diy thing if you are super nerdy like me).I have heard some interesting discussion on Rod Logic. Do you think there is any future there or nah?I would love to hear your thoughts on mechanical computers. Thanks!',\n",
       " 'I have heard many people saying that computer science is dying/dead or it is over-saturated and you will not ever find a job if you go with that field. Is this true or not?',\n",
       " 'Hi everyone, I am an undergraduate cs major and I was brainstorming ideas for a project. I was thinking of making app where the user is practicing an instrument and the app detects if they are off tempo. I searched around and did not find anything on how to detect BPM from live input. Any ideas on how I could do this? Thanks!',\n",
       " 'Here is what we have found: Open source framework adoption can increase the amount of innovation possible compared the proprietary, closed source code.&#x200B;On a smaller scale, utilizing open source frameworks allows innovators to have more help with their projects, to be able to more swiftly fix problems in their code, to reduce the amount of unnecessary work that has been solved previously, and to increase overall efficiency in the creation of their products. These small scale improvements allow projects to be better for everyone.&#x200B;On a larger scale, utilizing open source frameworks establishes an incentive for more people to participate in technology, teach other up-and-coming developers and to create thriving, symbiotic communities that are constantly changing and growing as technology grows. This increases the level of competition and quality of projects across the industry.&#x200B;What have we missed? How else can open source communities enable change? Let us know your experiences and thoughts down below in the comments.',\n",
       " \"In my textbook it says that doubles (data type) are stored in C as an 'integer exponent and a fractional mantissa'. What does this mean? is someone able to provide an example of an 'integer exponent and a fractional mantissa'.Is it just like (some number in binary - encoded for a by a certain number of bits e.g. 0001100 \\\\* 10\\\\^n, where -1000<=n<=1000 (approx))\",\n",
       " 'After searching the internet forever to find an answer, i cannot find what i am looking for.I understand how a CPU is made, and how a CPU runs in a system. What i cannot wrap my head around is how we go from bits of silicon from sand suddenly knowing how to read a task from RAM and apply instructions to output a different electronic signal.I understand the basics of a motherboard sending signals to represent 1s and 0s using metals, but i just do not get how specially cut/printed/whatever pieces of silicon are able to process something. If someone has any articles/simple explanations on this this would be cool :)',\n",
       " 'For those with an interest in the overlap between statistical physics and computer science: A paper (with code) showing how an analytical approach to the knapsack problem yields a new approximation algorithm for the problem. []()The motivational idea is that while optimization problems become more difficult as N increases, statistical physics calculations become more accurate as N increases.[Accuracy and Complexity - Physics and Optimization]()',\n",
       " 'Thanks for answering, I appreciate it',\n",
       " 'I do not have a formal computer science background here so I am looking for pointers.How would you advice I go about describing a formal way to describe procedures like cooking recipes, manufacturing process, driving to a location etc.Given the fact that these types of process does feel like algorithms, but they feel more open ended than normal algorithm represented by programming languages. For example a cooking recipes does not have to be 100% identical to result into the same dish. Also describing a step in a cooking recipe could be expressed in various ways since natural language is being used. This same process can be made for manufacturing process, driving to a location etc.What concepts or tools should I be looking at if I want to achieve this kind of things?Would DSL? Do the job? Or would DSL be too restrictive? Because I am thinking how can one encode the various near infinity steps/procedures involved in an activity like cooking or manufacturing.Pointers would be appreciated',\n",
       " 'I did not realize this until now when I searched up the word \"synchronous\" on Merriam Webster, but the definition of the word in English is:> happening, existing, or arising at precisely the same timeHowever, in the context of programming, synchronous programming usually mean that instruction are executed one at a time(so not happening at the same time). Conversely, the word \"asynchronous\" in English, according to Merriam Webster, means:>  not simultaneous or concurrent in time Again, in the context of programming, asynchronous usually means that instructions are executed in parallel, which is the opposite of what the word means in English.. My burning question is, why is this the case? I am I just bad at English or do you guys find this weird too? Thank you.Sources: -webster.com/dictionary/synchronous -webster.com/dictionary/asynchronous -vs-synchronous-execution-what-is-the-main-difference',\n",
       " 'Most quantum computers look like ALU or probabilistic highly parallel von Neumann computer. All the quantum computers I have seen cannot function without von neumann computer to process the result as if it is ALU.',\n",
       " 'I was recently sent [a post](/) about a guy talking about using an ant farm to generate random numbers for encryption keys, which he could supposedly sell to companies for a profit. I know there was that company that [did a similar thing with lava lamps](). Is this viable? If so, what kinds of algorithms would I need to use? How much do companies pay for random numbers like this?',\n",
       " 'Let us say you had the ability to manipulate time. Here is an example of how it works: Suppose you are microwaving noodles for 3 minutes. You do not feel like waiting, so you make 3 minutes pass for the microwave, essentially finishing the task immediately. Basically, the superpower is making it so that a certain amount of time passes for a certain object. You can do this as many times as you want (until the object expires from whatever) and however much time you would like.Now applying this to a computer, what computer science problems could be solved with this power?Below is a side question that I thought about while making this one:What if the superpower was instead “Finish this task immediately?” What is the difference and which superpower would be better for this application?',\n",
       " 'Just as the title states, what is the difference in mindsets and philosophies? Ultimately, both disciplines are broad, and CS grew out of mathematics at some point.',\n",
       " 'Does anybody know about implementing the haar discrete wavelet transform on a 2d matrix, I understand the 1d transform but I am having trouble with finding any explanation online for the 2D one',\n",
       " 'Here is a problem I thought of:Suppose there is a car repair shop and 5 mechanics work there. Everyday, new cars arrive at the shop and each mechanic has to choose 3 cars to work on. In short, the mechanics ideally want to choose cars that they think will be both :\\\\- Easy to work on (i.e. require fewer hours)\\\\- Pay them well (e.g. suppose the mechanics are paid 50% of the total price the customer pays)The only problem is: the mechanics have no idea how much time any given car will require for repair (let us assume that no one knows this information exactly), nor do they know the amount of money the customers were charged (e.g. let us assume that the owner of the repair shop and the owner of the car negotiate the price in private). When making a decision on which cars to work on, the mechanics only have access to the following information:\\\\- Total Mileage each car has driven\\\\- Price that the customer originally purchased the car forHowever, the mechanics have access to historical data. The mechanics have a dataset that contains all 4 of these variables - for all cars that all mechanics at this shop have serviced since the shop has opened, they have: Total Mileage, Original Price of Car, Number of Hours that were required (can consider this as a \"supervised label\"), Total Bill that the customer was charged (can consider this as a \"supervised label\").On first glance, this problem sort of looks like the \"Knapsack Optimization Problem\" ([\\\\_problem]()) - however, in the \"Knapsack Problem\", we know in advance the \"value and cost\" (i.e. the \"labels\") of each potential item we would like to consider for the knapsack. In this car mechanic problem, we do not know the \"labels\" - information that will eventually be used for defining/calculating the costs and utility function.**Question:** Can the mechanics train two separate supervised models (e.g. regression, random forest) on the data that they have, e.g.Model 1: hours\\\\_car\\\\_requires = f(mileage, original\\\\_price)Model 2 : total\\\\_bill = g(mileage, original\\\\_price)Then, if these models are able to perform well on the training data - they can then use them to predict the \"total bill\" and the \"hours required\" for each new car that comes to the repair shop. From here, they could then turn this problem into a \"multi objective optimization task\" and use optimization algorithms to select cars to work on?Can someone please tell me if this approach that I have described makes sense? Or are there already well established algorithms designed for these kinds of problems? My analogy was that on some abstract level, the mechanics selecting desirable cars to work is the same as choosing portfolios with low risk and high return.Thanks',\n",
       " 'I am a student interested in exploring computer vision and machine learning in robotics. I want to get a better understanding of the practical applications of real-time image segmentation.What is the data acquired from real-time segmentation used for in robotics or computer vision? How is the data processed and what algorithms are used to process the data? What are the applications of semantic/instance/object segmentation in robotics? Explanations, interesting articles, research, and other resources are appreciated :).I have also been exploring Tensorflow & TFLite recently. Are there any TFLite compatible instance/object segmentation models available (DeepLab seems to only be for semantic segmentation)? Thank you in advance.',\n",
       " 'In [this AWS Builder\\'s Library post](-library/challenges-with-distributed-systems/?did=ba_card&trk=ba_card), in \"Types of Distributed Systems\", the author has this definition for \"Hard Real Time distributed systems\":  \"At the far, and most difficult, end of the spectrum, we have *hard real-time* distributed systems. These are often called request/reply services. At Amazon, when we think about building a distributed system, the hard real-time system is the first type that we think of. Unfortunately, hard real-time distributed systems are the most difficult to get right. What makes them difficult is that requests arrive unpredictably and responses must be given rapidly (for example, the customer is actively waiting for the response). Examples include front-end web servers, the order pipeline, credit card transactions, every AWS API, telephony, and so on. Hard real-time distributed systems are the major focus of this article.\"&#x200B;That goes against my previous understanding of what \"hard real-time\" meant. The definition on [wikipedia](-time_computing) mentions this:  \"Hard real-time systems are used when it is imperative that an event be reacted to within a strict deadline. Such strong guarantees are required of systems for which not reacting in a certain interval of time would because great loss in some manner, especially damaging the surroundings physically or threatening human lives (although the strict definition is simply that missing the deadline constitutes failure of the system)\"&#x200B;I would not consider a front-end web server to be a \"great loss\" in the same sense as some of the other examples in the wikipedia article (car engine control system for example). Is the author of the blog post overreaching when using this term? Or is it OK to use in this way?',\n",
       " 'Hi all, I do not know if this is the right place to ask this question, so if it is not I hope you can help me narrow that down. If it is, then my problem is that I am trying to design a system that is a cloud device tracker / manager. What are the common implementation choices for achieving device registration? How do large companies like Apple/Amazon/Google handle their smart device registrations?  One pathway I have thought of is to have the device reach out to the backend, but another use case I have might be that I want the user to be able to do it from a web UI. Would that be possible? Would there need to be some sort of unique code already on the device like a serial number?Any insights appreciated! If you think my question is confusing or need clarification please feel free to ask.Thank you!',\n",
       " 'I am assuming there are many ways to learn the machine language, however, I do not know much about it. I learn everything right from the campus, and I forget about it soon as I finish the course. therefore, I wondered if I can keep practice it even after the course finished. I had learned C Sharp/ C++and I forget most of them because I did not have any CS courses during the summer semester. shame for myself. please share your experience if you were on a similar path as me. how did you overcome itplease share some helpful websites that could help me with practicing it?',\n",
       " 'I will soon start my graduate software engineering role; it would be standard backend so I will not *need* Operating Systems knowledge much. I am mainly self-studying Computer Science to see the big picture.After completing nand2tetris, I am now reading **Operating Systems: Three Easy Pieces**. I do not have a lot of time before my role starts and I was wondering which chapters/sections/parts are non-essential from the book? Which ones can/should I skip?',\n",
       " 'Hey, I am a programmer. Been programming in Python for 3 years now. I have been doing alot of projects. Calculating pi. Discord bots one time I made a pong game that calculates where the ball will land and moves the paddle there so the bot can never lose. But all that is me essentially just seeing things on a screen. That is cool but its summer and I want to do something different and code something in the physical world. But I am a programmer, not an engineer. I am not like mark Rober who can do  both. I tried engineering and I was terrible at it. So I was wondering if there is anything I can program in the real world. Like a robot or something. I do not mind there being alot of maths since I am pretty good at it and I also do not mind learning a new language']"
      ]
     },
     "execution_count": 217,
     "metadata": {},
     "output_type": "execute_result"
    }
   ],
   "source": [
    "docs"
   ]
  },
  {
   "cell_type": "code",
   "execution_count": 218,
   "id": "3a75dd11",
   "metadata": {},
   "outputs": [
    {
     "data": {
      "application/vnd.jupyter.widget-view+json": {
       "model_id": "5f6c3014113747538762e757052b50a0",
       "version_major": 2,
       "version_minor": 0
      },
      "text/plain": [
       "Batches:   0%|          | 0/22 [00:00<?, ?it/s]"
      ]
     },
     "metadata": {},
     "output_type": "display_data"
    },
    {
     "name": "stderr",
     "output_type": "stream",
     "text": [
      "2022-02-14 12:15:29,577 - BERTopic - Transformed documents to Embeddings\n",
      "2022-02-14 12:15:32,632 - BERTopic - Reduced dimensionality with UMAP\n",
      "2022-02-14 12:15:32,667 - BERTopic - Clustered UMAP embeddings with HDBSCAN\n"
     ]
    }
   ],
   "source": [
    "topic_model = BERTopic(language=\"english\", calculate_probabilities=True, verbose=True)\n",
    "topics, probs = topic_model.fit_transform(docs)"
   ]
  },
  {
   "cell_type": "code",
   "execution_count": 219,
   "id": "d93a76f9",
   "metadata": {},
   "outputs": [
    {
     "data": {
      "text/html": [
       "<div>\n",
       "<style scoped>\n",
       "    .dataframe tbody tr th:only-of-type {\n",
       "        vertical-align: middle;\n",
       "    }\n",
       "\n",
       "    .dataframe tbody tr th {\n",
       "        vertical-align: top;\n",
       "    }\n",
       "\n",
       "    .dataframe thead th {\n",
       "        text-align: right;\n",
       "    }\n",
       "</style>\n",
       "<table border=\"1\" class=\"dataframe\">\n",
       "  <thead>\n",
       "    <tr style=\"text-align: right;\">\n",
       "      <th></th>\n",
       "      <th>Topic</th>\n",
       "      <th>Count</th>\n",
       "      <th>Name</th>\n",
       "    </tr>\n",
       "  </thead>\n",
       "  <tbody>\n",
       "    <tr>\n",
       "      <th>0</th>\n",
       "      <td>-1</td>\n",
       "      <td>237</td>\n",
       "      <td>-1_the_to_and_is</td>\n",
       "    </tr>\n",
       "    <tr>\n",
       "      <th>1</th>\n",
       "      <td>0</td>\n",
       "      <td>153</td>\n",
       "      <td>0_to_and_am_for</td>\n",
       "    </tr>\n",
       "    <tr>\n",
       "      <th>2</th>\n",
       "      <td>1</td>\n",
       "      <td>63</td>\n",
       "      <td>1_the_to_is_and</td>\n",
       "    </tr>\n",
       "    <tr>\n",
       "      <th>3</th>\n",
       "      <td>2</td>\n",
       "      <td>39</td>\n",
       "      <td>2_the_to_of_it</td>\n",
       "    </tr>\n",
       "    <tr>\n",
       "      <th>4</th>\n",
       "      <td>3</td>\n",
       "      <td>39</td>\n",
       "      <td>3_memory_the_is_of</td>\n",
       "    </tr>\n",
       "  </tbody>\n",
       "</table>\n",
       "</div>"
      ],
      "text/plain": [
       "   Topic  Count                Name\n",
       "0     -1    237    -1_the_to_and_is\n",
       "1      0    153     0_to_and_am_for\n",
       "2      1     63     1_the_to_is_and\n",
       "3      2     39      2_the_to_of_it\n",
       "4      3     39  3_memory_the_is_of"
      ]
     },
     "execution_count": 219,
     "metadata": {},
     "output_type": "execute_result"
    }
   ],
   "source": [
    "freq = topic_model.get_topic_info()\n",
    "freq.head(5)"
   ]
  },
  {
   "cell_type": "code",
   "execution_count": 220,
   "id": "e91438fa",
   "metadata": {},
   "outputs": [
    {
     "data": {
      "image/png": "[encoded data removed]",
      "text/plain": [
       "<Figure size 432x288 with 1 Axes>"
      ]
     },
     "metadata": {
      "needs_background": "light"
     },
     "output_type": "display_data"
    }
   ],
   "source": [
    "freq.plot(kind='bar', x='Name', y='Count', rot=70)\n",
    "plt.show()"
   ]
  },
  {
   "cell_type": "code",
   "execution_count": 221,
   "id": "d5e82e0e",
   "metadata": {},
   "outputs": [
    {
     "data": {
      "application/vnd.plotly.v1+json": {
       "config": {
        "plotlyServerURL": "https://plot.ly"
       },
       "data": [
        {
         "customdata": [
          [
           0,
           "to | and | am | for | the",
           153
          ],
          [
           1,
           "the | to | is | and | it",
           63
          ],
          [
           2,
           "the | to | of | it | and",
           39
          ],
          [
           3,
           "memory | the | is | of | in",
           39
          ],
          [
           4,
           "complexity | the | is | time | of",
           33
          ],
          [
           5,
           "the | to | how | is | cpu",
           32
          ],
          [
           6,
           "the | of | that | is | to",
           24
          ],
          [
           7,
           "computer | software | is | science | and",
           20
          ],
          [
           8,
           "and | it | the | of | os",
           17
          ],
          [
           9,
           "01 | the | gates | logic | and",
           11
          ],
          [
           10,
           "the | number | to | of | and",
           10
          ]
         ],
         "hovertemplate": "<b>Topic %{customdata[0]}</b><br>Words: %{customdata[1]}<br>Size: %{customdata[2]}",
         "legendgroup": "",
         "marker": {
          "color": "#B0BEC5",
          "line": {
           "color": "DarkSlateGrey",
           "width": 2
          },
          "size": [
           153,
           63,
           39,
           39,
           33,
           32,
           24,
           20,
           17,
           11,
           10
          ],
          "sizemode": "area",
          "sizeref": 0.095625,
          "symbol": "circle"
         },
         "mode": "markers",
         "name": "",
         "orientation": "v",
         "showlegend": false,
         "type": "scatter",
         "x": [
          10.640551567077637,
          10.006815910339355,
          -10.830229759216309,
          8.31350040435791,
          7.987226486206055,
          9.252092361450195,
          -11.0296049118042,
          8.143643379211426,
          8.752406120300293,
          9.25429630279541,
          -11.390175819396973
         ],
         "xaxis": "x",
         "y": [
          -4.686360836029053,
          -4.859539031982422,
          21.571548461914062,
          -4.086984634399414,
          -3.850318193435669,
          -5.079036235809326,
          21.37233543395996,
          -5.472360134124756,
          -5.336197376251221,
          -4.582304954528809,
          21.01218605041504
         ],
         "yaxis": "y"
        }
       ],
       "layout": {
        "annotations": [
         {
          "showarrow": false,
          "text": "D1",
          "x": -13.098702192306519,
          "y": 9.257033288478851,
          "yshift": 10
         },
         {
          "showarrow": false,
          "text": "D2",
          "x": -0.4310339450836178,
          "xshift": 10,
          "y": 24.80728073120117
         }
        ],
        "height": 650,
        "hoverlabel": {
         "bgcolor": "white",
         "font": {
          "family": "Rockwell",
          "size": 16
         }
        },
        "legend": {
         "itemsizing": "constant",
         "tracegroupgap": 0
        },
        "margin": {
         "t": 60
        },
        "shapes": [
         {
          "line": {
           "color": "#CFD8DC",
           "width": 2
          },
          "type": "line",
          "x0": -0.4310339450836178,
          "x1": -0.4310339450836178,
          "y0": -6.293214154243469,
          "y1": 24.80728073120117
         },
         {
          "line": {
           "color": "#9E9E9E",
           "width": 2
          },
          "type": "line",
          "x0": -13.098702192306519,
          "x1": 12.236634302139283,
          "y0": 9.257033288478851,
          "y1": 9.257033288478851
         }
        ],
        "sliders": [
         {
          "active": 0,
          "pad": {
           "t": 50
          },
          "steps": [
           {
            "args": [
             {
              "marker.color": [
               [
                "red",
                "#B0BEC5",
                "#B0BEC5",
                "#B0BEC5",
                "#B0BEC5",
                "#B0BEC5",
                "#B0BEC5",
                "#B0BEC5",
                "#B0BEC5",
                "#B0BEC5",
                "#B0BEC5"
               ]
              ]
             }
            ],
            "label": "Topic 0",
            "method": "update"
           },
           {
            "args": [
             {
              "marker.color": [
               [
                "#B0BEC5",
                "red",
                "#B0BEC5",
                "#B0BEC5",
                "#B0BEC5",
                "#B0BEC5",
                "#B0BEC5",
                "#B0BEC5",
                "#B0BEC5",
                "#B0BEC5",
                "#B0BEC5"
               ]
              ]
             }
            ],
            "label": "Topic 1",
            "method": "update"
           },
           {
            "args": [
             {
              "marker.color": [
               [
                "#B0BEC5",
                "#B0BEC5",
                "red",
                "#B0BEC5",
                "#B0BEC5",
                "#B0BEC5",
                "#B0BEC5",
                "#B0BEC5",
                "#B0BEC5",
                "#B0BEC5",
                "#B0BEC5"
               ]
              ]
             }
            ],
            "label": "Topic 2",
            "method": "update"
           },
           {
            "args": [
             {
              "marker.color": [
               [
                "#B0BEC5",
                "#B0BEC5",
                "#B0BEC5",
                "red",
                "#B0BEC5",
                "#B0BEC5",
                "#B0BEC5",
                "#B0BEC5",
                "#B0BEC5",
                "#B0BEC5",
                "#B0BEC5"
               ]
              ]
             }
            ],
            "label": "Topic 3",
            "method": "update"
           },
           {
            "args": [
             {
              "marker.color": [
               [
                "#B0BEC5",
                "#B0BEC5",
                "#B0BEC5",
                "#B0BEC5",
                "red",
                "#B0BEC5",
                "#B0BEC5",
                "#B0BEC5",
                "#B0BEC5",
                "#B0BEC5",
                "#B0BEC5"
               ]
              ]
             }
            ],
            "label": "Topic 4",
            "method": "update"
           },
           {
            "args": [
             {
              "marker.color": [
               [
                "#B0BEC5",
                "#B0BEC5",
                "#B0BEC5",
                "#B0BEC5",
                "#B0BEC5",
                "red",
                "#B0BEC5",
                "#B0BEC5",
                "#B0BEC5",
                "#B0BEC5",
                "#B0BEC5"
               ]
              ]
             }
            ],
            "label": "Topic 5",
            "method": "update"
           },
           {
            "args": [
             {
              "marker.color": [
               [
                "#B0BEC5",
                "#B0BEC5",
                "#B0BEC5",
                "#B0BEC5",
                "#B0BEC5",
                "#B0BEC5",
                "red",
                "#B0BEC5",
                "#B0BEC5",
                "#B0BEC5",
                "#B0BEC5"
               ]
              ]
             }
            ],
            "label": "Topic 6",
            "method": "update"
           },
           {
            "args": [
             {
              "marker.color": [
               [
                "#B0BEC5",
                "#B0BEC5",
                "#B0BEC5",
                "#B0BEC5",
                "#B0BEC5",
                "#B0BEC5",
                "#B0BEC5",
                "red",
                "#B0BEC5",
                "#B0BEC5",
                "#B0BEC5"
               ]
              ]
             }
            ],
            "label": "Topic 7",
            "method": "update"
           },
           {
            "args": [
             {
              "marker.color": [
               [
                "#B0BEC5",
                "#B0BEC5",
                "#B0BEC5",
                "#B0BEC5",
                "#B0BEC5",
                "#B0BEC5",
                "#B0BEC5",
                "#B0BEC5",
                "red",
                "#B0BEC5",
                "#B0BEC5"
               ]
              ]
             }
            ],
            "label": "Topic 8",
            "method": "update"
           },
           {
            "args": [
             {
              "marker.color": [
               [
                "#B0BEC5",
                "#B0BEC5",
                "#B0BEC5",
                "#B0BEC5",
                "#B0BEC5",
                "#B0BEC5",
                "#B0BEC5",
                "#B0BEC5",
                "#B0BEC5",
                "red",
                "#B0BEC5"
               ]
              ]
             }
            ],
            "label": "Topic 9",
            "method": "update"
           },
           {
            "args": [
             {
              "marker.color": [
               [
                "#B0BEC5",
                "#B0BEC5",
                "#B0BEC5",
                "#B0BEC5",
                "#B0BEC5",
                "#B0BEC5",
                "#B0BEC5",
                "#B0BEC5",
                "#B0BEC5",
                "#B0BEC5",
                "red"
               ]
              ]
             }
            ],
            "label": "Topic 10",
            "method": "update"
           }
          ]
         }
        ],
        "template": {
         "data": {
          "bar": [
           {
            "error_x": {
             "color": "rgb(36,36,36)"
            },
            "error_y": {
             "color": "rgb(36,36,36)"
            },
            "marker": {
             "line": {
              "color": "white",
              "width": 0.5
             },
             "pattern": {
              "fillmode": "overlay",
              "size": 10,
              "solidity": 0.2
             }
            },
            "type": "bar"
           }
          ],
          "barpolar": [
           {
            "marker": {
             "line": {
              "color": "white",
              "width": 0.5
             },
             "pattern": {
              "fillmode": "overlay",
              "size": 10,
              "solidity": 0.2
             }
            },
            "type": "barpolar"
           }
          ],
          "carpet": [
           {
            "aaxis": {
             "endlinecolor": "rgb(36,36,36)",
             "gridcolor": "white",
             "linecolor": "white",
             "minorgridcolor": "white",
             "startlinecolor": "rgb(36,36,36)"
            },
            "baxis": {
             "endlinecolor": "rgb(36,36,36)",
             "gridcolor": "white",
             "linecolor": "white",
             "minorgridcolor": "white",
             "startlinecolor": "rgb(36,36,36)"
            },
            "type": "carpet"
           }
          ],
          "choropleth": [
           {
            "colorbar": {
             "outlinewidth": 1,
             "tickcolor": "rgb(36,36,36)",
             "ticks": "outside"
            },
            "type": "choropleth"
           }
          ],
          "contour": [
           {
            "colorbar": {
             "outlinewidth": 1,
             "tickcolor": "rgb(36,36,36)",
             "ticks": "outside"
            },
            "colorscale": [
             [
              0,
              "#440154"
             ],
             [
              0.1111111111111111,
              "#482878"
             ],
             [
              0.2222222222222222,
              "#3e4989"
             ],
             [
              0.3333333333333333,
              "#31688e"
             ],
             [
              0.4444444444444444,
              "#26828e"
             ],
             [
              0.5555555555555556,
              "#1f9e89"
             ],
             [
              0.6666666666666666,
              "#35b779"
             ],
             [
              0.7777777777777778,
              "#6ece58"
             ],
             [
              0.8888888888888888,
              "#b5de2b"
             ],
             [
              1,
              "#fde725"
             ]
            ],
            "type": "contour"
           }
          ],
          "contourcarpet": [
           {
            "colorbar": {
             "outlinewidth": 1,
             "tickcolor": "rgb(36,36,36)",
             "ticks": "outside"
            },
            "type": "contourcarpet"
           }
          ],
          "heatmap": [
           {
            "colorbar": {
             "outlinewidth": 1,
             "tickcolor": "rgb(36,36,36)",
             "ticks": "outside"
            },
            "colorscale": [
             [
              0,
              "#440154"
             ],
             [
              0.1111111111111111,
              "#482878"
             ],
             [
              0.2222222222222222,
              "#3e4989"
             ],
             [
              0.3333333333333333,
              "#31688e"
             ],
             [
              0.4444444444444444,
              "#26828e"
             ],
             [
              0.5555555555555556,
              "#1f9e89"
             ],
             [
              0.6666666666666666,
              "#35b779"
             ],
             [
              0.7777777777777778,
              "#6ece58"
             ],
             [
              0.8888888888888888,
              "#b5de2b"
             ],
             [
              1,
              "#fde725"
             ]
            ],
            "type": "heatmap"
           }
          ],
          "heatmapgl": [
           {
            "colorbar": {
             "outlinewidth": 1,
             "tickcolor": "rgb(36,36,36)",
             "ticks": "outside"
            },
            "colorscale": [
             [
              0,
              "#440154"
             ],
             [
              0.1111111111111111,
              "#482878"
             ],
             [
              0.2222222222222222,
              "#3e4989"
             ],
             [
              0.3333333333333333,
              "#31688e"
             ],
             [
              0.4444444444444444,
              "#26828e"
             ],
             [
              0.5555555555555556,
              "#1f9e89"
             ],
             [
              0.6666666666666666,
              "#35b779"
             ],
             [
              0.7777777777777778,
              "#6ece58"
             ],
             [
              0.8888888888888888,
              "#b5de2b"
             ],
             [
              1,
              "#fde725"
             ]
            ],
            "type": "heatmapgl"
           }
          ],
          "histogram": [
           {
            "marker": {
             "line": {
              "color": "white",
              "width": 0.6
             }
            },
            "type": "histogram"
           }
          ],
          "histogram2d": [
           {
            "colorbar": {
             "outlinewidth": 1,
             "tickcolor": "rgb(36,36,36)",
             "ticks": "outside"
            },
            "colorscale": [
             [
              0,
              "#440154"
             ],
             [
              0.1111111111111111,
              "#482878"
             ],
             [
              0.2222222222222222,
              "#3e4989"
             ],
             [
              0.3333333333333333,
              "#31688e"
             ],
             [
              0.4444444444444444,
              "#26828e"
             ],
             [
              0.5555555555555556,
              "#1f9e89"
             ],
             [
              0.6666666666666666,
              "#35b779"
             ],
             [
              0.7777777777777778,
              "#6ece58"
             ],
             [
              0.8888888888888888,
              "#b5de2b"
             ],
             [
              1,
              "#fde725"
             ]
            ],
            "type": "histogram2d"
           }
          ],
          "histogram2dcontour": [
           {
            "colorbar": {
             "outlinewidth": 1,
             "tickcolor": "rgb(36,36,36)",
             "ticks": "outside"
            },
            "colorscale": [
             [
              0,
              "#440154"
             ],
             [
              0.1111111111111111,
              "#482878"
             ],
             [
              0.2222222222222222,
              "#3e4989"
             ],
             [
              0.3333333333333333,
              "#31688e"
             ],
             [
              0.4444444444444444,
              "#26828e"
             ],
             [
              0.5555555555555556,
              "#1f9e89"
             ],
             [
              0.6666666666666666,
              "#35b779"
             ],
             [
              0.7777777777777778,
              "#6ece58"
             ],
             [
              0.8888888888888888,
              "#b5de2b"
             ],
             [
              1,
              "#fde725"
             ]
            ],
            "type": "histogram2dcontour"
           }
          ],
          "mesh3d": [
           {
            "colorbar": {
             "outlinewidth": 1,
             "tickcolor": "rgb(36,36,36)",
             "ticks": "outside"
            },
            "type": "mesh3d"
           }
          ],
          "parcoords": [
           {
            "line": {
             "colorbar": {
              "outlinewidth": 1,
              "tickcolor": "rgb(36,36,36)",
              "ticks": "outside"
             }
            },
            "type": "parcoords"
           }
          ],
          "pie": [
           {
            "automargin": true,
            "type": "pie"
           }
          ],
          "scatter": [
           {
            "marker": {
             "colorbar": {
              "outlinewidth": 1,
              "tickcolor": "rgb(36,36,36)",
              "ticks": "outside"
             }
            },
            "type": "scatter"
           }
          ],
          "scatter3d": [
           {
            "line": {
             "colorbar": {
              "outlinewidth": 1,
              "tickcolor": "rgb(36,36,36)",
              "ticks": "outside"
             }
            },
            "marker": {
             "colorbar": {
              "outlinewidth": 1,
              "tickcolor": "rgb(36,36,36)",
              "ticks": "outside"
             }
            },
            "type": "scatter3d"
           }
          ],
          "scattercarpet": [
           {
            "marker": {
             "colorbar": {
              "outlinewidth": 1,
              "tickcolor": "rgb(36,36,36)",
              "ticks": "outside"
             }
            },
            "type": "scattercarpet"
           }
          ],
          "scattergeo": [
           {
            "marker": {
             "colorbar": {
              "outlinewidth": 1,
              "tickcolor": "rgb(36,36,36)",
              "ticks": "outside"
             }
            },
            "type": "scattergeo"
           }
          ],
          "scattergl": [
           {
            "marker": {
             "colorbar": {
              "outlinewidth": 1,
              "tickcolor": "rgb(36,36,36)",
              "ticks": "outside"
             }
            },
            "type": "scattergl"
           }
          ],
          "scattermapbox": [
           {
            "marker": {
             "colorbar": {
              "outlinewidth": 1,
              "tickcolor": "rgb(36,36,36)",
              "ticks": "outside"
             }
            },
            "type": "scattermapbox"
           }
          ],
          "scatterpolar": [
           {
            "marker": {
             "colorbar": {
              "outlinewidth": 1,
              "tickcolor": "rgb(36,36,36)",
              "ticks": "outside"
             }
            },
            "type": "scatterpolar"
           }
          ],
          "scatterpolargl": [
           {
            "marker": {
             "colorbar": {
              "outlinewidth": 1,
              "tickcolor": "rgb(36,36,36)",
              "ticks": "outside"
             }
            },
            "type": "scatterpolargl"
           }
          ],
          "scatterternary": [
           {
            "marker": {
             "colorbar": {
              "outlinewidth": 1,
              "tickcolor": "rgb(36,36,36)",
              "ticks": "outside"
             }
            },
            "type": "scatterternary"
           }
          ],
          "surface": [
           {
            "colorbar": {
             "outlinewidth": 1,
             "tickcolor": "rgb(36,36,36)",
             "ticks": "outside"
            },
            "colorscale": [
             [
              0,
              "#440154"
             ],
             [
              0.1111111111111111,
              "#482878"
             ],
             [
              0.2222222222222222,
              "#3e4989"
             ],
             [
              0.3333333333333333,
              "#31688e"
             ],
             [
              0.4444444444444444,
              "#26828e"
             ],
             [
              0.5555555555555556,
              "#1f9e89"
             ],
             [
              0.6666666666666666,
              "#35b779"
             ],
             [
              0.7777777777777778,
              "#6ece58"
             ],
             [
              0.8888888888888888,
              "#b5de2b"
             ],
             [
              1,
              "#fde725"
             ]
            ],
            "type": "surface"
           }
          ],
          "table": [
           {
            "cells": {
             "fill": {
              "color": "rgb(237,237,237)"
             },
             "line": {
              "color": "white"
             }
            },
            "header": {
             "fill": {
              "color": "rgb(217,217,217)"
             },
             "line": {
              "color": "white"
             }
            },
            "type": "table"
           }
          ]
         },
         "layout": {
          "annotationdefaults": {
           "arrowhead": 0,
           "arrowwidth": 1
          },
          "autotypenumbers": "strict",
          "coloraxis": {
           "colorbar": {
            "outlinewidth": 1,
            "tickcolor": "rgb(36,36,36)",
            "ticks": "outside"
           }
          },
          "colorscale": {
           "diverging": [
            [
             0,
             "rgb(103,0,31)"
            ],
            [
             0.1,
             "rgb(178,24,43)"
            ],
            [
             0.2,
             "rgb(214,96,77)"
            ],
            [
             0.3,
             "rgb(244,165,130)"
            ],
            [
             0.4,
             "rgb(253,219,199)"
            ],
            [
             0.5,
             "rgb(247,247,247)"
            ],
            [
             0.6,
             "rgb(209,229,240)"
            ],
            [
             0.7,
             "rgb(146,197,222)"
            ],
            [
             0.8,
             "rgb(67,147,195)"
            ],
            [
             0.9,
             "rgb(33,102,172)"
            ],
            [
             1,
             "rgb(5,48,97)"
            ]
           ],
           "sequential": [
            [
             0,
             "#440154"
            ],
            [
             0.1111111111111111,
             "#482878"
            ],
            [
             0.2222222222222222,
             "#3e4989"
            ],
            [
             0.3333333333333333,
             "#31688e"
            ],
            [
             0.4444444444444444,
             "#26828e"
            ],
            [
             0.5555555555555556,
             "#1f9e89"
            ],
            [
             0.6666666666666666,
             "#35b779"
            ],
            [
             0.7777777777777778,
             "#6ece58"
            ],
            [
             0.8888888888888888,
             "#b5de2b"
            ],
            [
             1,
             "#fde725"
            ]
           ],
           "sequentialminus": [
            [
             0,
             "#440154"
            ],
            [
             0.1111111111111111,
             "#482878"
            ],
            [
             0.2222222222222222,
             "#3e4989"
            ],
            [
             0.3333333333333333,
             "#31688e"
            ],
            [
             0.4444444444444444,
             "#26828e"
            ],
            [
             0.5555555555555556,
             "#1f9e89"
            ],
            [
             0.6666666666666666,
             "#35b779"
            ],
            [
             0.7777777777777778,
             "#6ece58"
            ],
            [
             0.8888888888888888,
             "#b5de2b"
            ],
            [
             1,
             "#fde725"
            ]
           ]
          },
          "colorway": [
           "#1F77B4",
           "#FF7F0E",
           "#2CA02C",
           "#D62728",
           "#9467BD",
           "#8C564B",
           "#E377C2",
           "#7F7F7F",
           "#BCBD22",
           "#17BECF"
          ],
          "font": {
           "color": "rgb(36,36,36)"
          },
          "geo": {
           "bgcolor": "white",
           "lakecolor": "white",
           "landcolor": "white",
           "showlakes": true,
           "showland": true,
           "subunitcolor": "white"
          },
          "hoverlabel": {
           "align": "left"
          },
          "hovermode": "closest",
          "mapbox": {
           "style": "light"
          },
          "paper_bgcolor": "white",
          "plot_bgcolor": "white",
          "polar": {
           "angularaxis": {
            "gridcolor": "rgb(232,232,232)",
            "linecolor": "rgb(36,36,36)",
            "showgrid": false,
            "showline": true,
            "ticks": "outside"
           },
           "bgcolor": "white",
           "radialaxis": {
            "gridcolor": "rgb(232,232,232)",
            "linecolor": "rgb(36,36,36)",
            "showgrid": false,
            "showline": true,
            "ticks": "outside"
           }
          },
          "scene": {
           "xaxis": {
            "backgroundcolor": "white",
            "gridcolor": "rgb(232,232,232)",
            "gridwidth": 2,
            "linecolor": "rgb(36,36,36)",
            "showbackground": true,
            "showgrid": false,
            "showline": true,
            "ticks": "outside",
            "zeroline": false,
            "zerolinecolor": "rgb(36,36,36)"
           },
           "yaxis": {
            "backgroundcolor": "white",
            "gridcolor": "rgb(232,232,232)",
            "gridwidth": 2,
            "linecolor": "rgb(36,36,36)",
            "showbackground": true,
            "showgrid": false,
            "showline": true,
            "ticks": "outside",
            "zeroline": false,
            "zerolinecolor": "rgb(36,36,36)"
           },
           "zaxis": {
            "backgroundcolor": "white",
            "gridcolor": "rgb(232,232,232)",
            "gridwidth": 2,
            "linecolor": "rgb(36,36,36)",
            "showbackground": true,
            "showgrid": false,
            "showline": true,
            "ticks": "outside",
            "zeroline": false,
            "zerolinecolor": "rgb(36,36,36)"
           }
          },
          "shapedefaults": {
           "fillcolor": "black",
           "line": {
            "width": 0
           },
           "opacity": 0.3
          },
          "ternary": {
           "aaxis": {
            "gridcolor": "rgb(232,232,232)",
            "linecolor": "rgb(36,36,36)",
            "showgrid": false,
            "showline": true,
            "ticks": "outside"
           },
           "baxis": {
            "gridcolor": "rgb(232,232,232)",
            "linecolor": "rgb(36,36,36)",
            "showgrid": false,
            "showline": true,
            "ticks": "outside"
           },
           "bgcolor": "white",
           "caxis": {
            "gridcolor": "rgb(232,232,232)",
            "linecolor": "rgb(36,36,36)",
            "showgrid": false,
            "showline": true,
            "ticks": "outside"
           }
          },
          "title": {
           "x": 0.05
          },
          "xaxis": {
           "automargin": true,
           "gridcolor": "rgb(232,232,232)",
           "linecolor": "rgb(36,36,36)",
           "showgrid": false,
           "showline": true,
           "ticks": "outside",
           "title": {
            "standoff": 15
           },
           "zeroline": false,
           "zerolinecolor": "rgb(36,36,36)"
          },
          "yaxis": {
           "automargin": true,
           "gridcolor": "rgb(232,232,232)",
           "linecolor": "rgb(36,36,36)",
           "showgrid": false,
           "showline": true,
           "ticks": "outside",
           "title": {
            "standoff": 15
           },
           "zeroline": false,
           "zerolinecolor": "rgb(36,36,36)"
          }
         }
        },
        "title": {
         "font": {
          "color": "Black",
          "size": 22
         },
         "text": "<b>Intertopic Distance Map",
         "x": 0.5,
         "xanchor": "center",
         "y": 0.95,
         "yanchor": "top"
        },
        "width": 650,
        "xaxis": {
         "anchor": "y",
         "domain": [
          0,
          1
         ],
         "range": [
          -13.098702192306519,
          12.236634302139283
         ],
         "title": {
          "text": ""
         },
         "visible": false
        },
        "yaxis": {
         "anchor": "x",
         "domain": [
          0,
          1
         ],
         "range": [
          -6.293214154243469,
          24.80728073120117
         ],
         "title": {
          "text": ""
         },
         "visible": false
        }
       }
      },
      "text/html": [
       "<div>                            <div id=\"11650e92-29fe-40e3-9b60-23eda3e07fc0\" class=\"plotly-graph-div\" style=\"height:650px; width:650px;\"></div>            <script type=\"text/javascript\">                require([\"plotly\"], function(Plotly) {                    window.PLOTLYENV=window.PLOTLYENV || {};                                    if (document.getElementById(\"11650e92-29fe-40e3-9b60-23eda3e07fc0\")) {                    Plotly.newPlot(                        \"11650e92-29fe-40e3-9b60-23eda3e07fc0\",                        [{\"customdata\":[[0,\"to | and | am | for | the\",153],[1,\"the | to | is | and | it\",63],[2,\"the | to | of | it | and\",39],[3,\"memory | the | is | of | in\",39],[4,\"complexity | the | is | time | of\",33],[5,\"the | to | how | is | cpu\",32],[6,\"the | of | that | is | to\",24],[7,\"computer | software | is | science | and\",20],[8,\"and | it | the | of | os\",17],[9,\"01 | the | gates | logic | and\",11],[10,\"the | number | to | of | and\",10]],\"hovertemplate\":\"<b>Topic %{customdata[0]}</b><br>Words: %{customdata[1]}<br>Size: %{customdata[2]}\",\"legendgroup\":\"\",\"marker\":{\"color\":\"#B0BEC5\",\"size\":[153,63,39,39,33,32,24,20,17,11,10],\"sizemode\":\"area\",\"sizeref\":0.095625,\"symbol\":\"circle\",\"line\":{\"color\":\"DarkSlateGrey\",\"width\":2}},\"mode\":\"markers\",\"name\":\"\",\"orientation\":\"v\",\"showlegend\":false,\"x\":[10.640551567077637,10.006815910339355,-10.830229759216309,8.31350040435791,7.987226486206055,9.252092361450195,-11.0296049118042,8.143643379211426,8.752406120300293,9.25429630279541,-11.390175819396973],\"xaxis\":\"x\",\"y\":[-4.686360836029053,-4.859539031982422,21.571548461914062,-4.086984634399414,-3.850318193435669,-5.079036235809326,21.37233543395996,-5.472360134124756,-5.336197376251221,-4.582304954528809,21.01218605041504],\"yaxis\":\"y\",\"type\":\"scatter\"}],                        {\"template\":{\"data\":{\"barpolar\":[{\"marker\":{\"line\":{\"color\":\"white\",\"width\":0.5},\"pattern\":{\"fillmode\":\"overlay\",\"size\":10,\"solidity\":0.2}},\"type\":\"barpolar\"}],\"bar\":[{\"error_x\":{\"color\":\"rgb(36,36,36)\"},\"error_y\":{\"color\":\"rgb(36,36,36)\"},\"marker\":{\"line\":{\"color\":\"white\",\"width\":0.5},\"pattern\":{\"fillmode\":\"overlay\",\"size\":10,\"solidity\":0.2}},\"type\":\"bar\"}],\"carpet\":[{\"aaxis\":{\"endlinecolor\":\"rgb(36,36,36)\",\"gridcolor\":\"white\",\"linecolor\":\"white\",\"minorgridcolor\":\"white\",\"startlinecolor\":\"rgb(36,36,36)\"},\"baxis\":{\"endlinecolor\":\"rgb(36,36,36)\",\"gridcolor\":\"white\",\"linecolor\":\"white\",\"minorgridcolor\":\"white\",\"startlinecolor\":\"rgb(36,36,36)\"},\"type\":\"carpet\"}],\"choropleth\":[{\"colorbar\":{\"outlinewidth\":1,\"tickcolor\":\"rgb(36,36,36)\",\"ticks\":\"outside\"},\"type\":\"choropleth\"}],\"contourcarpet\":[{\"colorbar\":{\"outlinewidth\":1,\"tickcolor\":\"rgb(36,36,36)\",\"ticks\":\"outside\"},\"type\":\"contourcarpet\"}],\"contour\":[{\"colorbar\":{\"outlinewidth\":1,\"tickcolor\":\"rgb(36,36,36)\",\"ticks\":\"outside\"},\"colorscale\":[[0.0,\"#440154\"],[0.1111111111111111,\"#482878\"],[0.2222222222222222,\"#3e4989\"],[0.3333333333333333,\"#31688e\"],[0.4444444444444444,\"#26828e\"],[0.5555555555555556,\"#1f9e89\"],[0.6666666666666666,\"#35b779\"],[0.7777777777777778,\"#6ece58\"],[0.8888888888888888,\"#b5de2b\"],[1.0,\"#fde725\"]],\"type\":\"contour\"}],\"heatmapgl\":[{\"colorbar\":{\"outlinewidth\":1,\"tickcolor\":\"rgb(36,36,36)\",\"ticks\":\"outside\"},\"colorscale\":[[0.0,\"#440154\"],[0.1111111111111111,\"#482878\"],[0.2222222222222222,\"#3e4989\"],[0.3333333333333333,\"#31688e\"],[0.4444444444444444,\"#26828e\"],[0.5555555555555556,\"#1f9e89\"],[0.6666666666666666,\"#35b779\"],[0.7777777777777778,\"#6ece58\"],[0.8888888888888888,\"#b5de2b\"],[1.0,\"#fde725\"]],\"type\":\"heatmapgl\"}],\"heatmap\":[{\"colorbar\":{\"outlinewidth\":1,\"tickcolor\":\"rgb(36,36,36)\",\"ticks\":\"outside\"},\"colorscale\":[[0.0,\"#440154\"],[0.1111111111111111,\"#482878\"],[0.2222222222222222,\"#3e4989\"],[0.3333333333333333,\"#31688e\"],[0.4444444444444444,\"#26828e\"],[0.5555555555555556,\"#1f9e89\"],[0.6666666666666666,\"#35b779\"],[0.7777777777777778,\"#6ece58\"],[0.8888888888888888,\"#b5de2b\"],[1.0,\"#fde725\"]],\"type\":\"heatmap\"}],\"histogram2dcontour\":[{\"colorbar\":{\"outlinewidth\":1,\"tickcolor\":\"rgb(36,36,36)\",\"ticks\":\"outside\"},\"colorscale\":[[0.0,\"#440154\"],[0.1111111111111111,\"#482878\"],[0.2222222222222222,\"#3e4989\"],[0.3333333333333333,\"#31688e\"],[0.4444444444444444,\"#26828e\"],[0.5555555555555556,\"#1f9e89\"],[0.6666666666666666,\"#35b779\"],[0.7777777777777778,\"#6ece58\"],[0.8888888888888888,\"#b5de2b\"],[1.0,\"#fde725\"]],\"type\":\"histogram2dcontour\"}],\"histogram2d\":[{\"colorbar\":{\"outlinewidth\":1,\"tickcolor\":\"rgb(36,36,36)\",\"ticks\":\"outside\"},\"colorscale\":[[0.0,\"#440154\"],[0.1111111111111111,\"#482878\"],[0.2222222222222222,\"#3e4989\"],[0.3333333333333333,\"#31688e\"],[0.4444444444444444,\"#26828e\"],[0.5555555555555556,\"#1f9e89\"],[0.6666666666666666,\"#35b779\"],[0.7777777777777778,\"#6ece58\"],[0.8888888888888888,\"#b5de2b\"],[1.0,\"#fde725\"]],\"type\":\"histogram2d\"}],\"histogram\":[{\"marker\":{\"line\":{\"color\":\"white\",\"width\":0.6}},\"type\":\"histogram\"}],\"mesh3d\":[{\"colorbar\":{\"outlinewidth\":1,\"tickcolor\":\"rgb(36,36,36)\",\"ticks\":\"outside\"},\"type\":\"mesh3d\"}],\"parcoords\":[{\"line\":{\"colorbar\":{\"outlinewidth\":1,\"tickcolor\":\"rgb(36,36,36)\",\"ticks\":\"outside\"}},\"type\":\"parcoords\"}],\"pie\":[{\"automargin\":true,\"type\":\"pie\"}],\"scatter3d\":[{\"line\":{\"colorbar\":{\"outlinewidth\":1,\"tickcolor\":\"rgb(36,36,36)\",\"ticks\":\"outside\"}},\"marker\":{\"colorbar\":{\"outlinewidth\":1,\"tickcolor\":\"rgb(36,36,36)\",\"ticks\":\"outside\"}},\"type\":\"scatter3d\"}],\"scattercarpet\":[{\"marker\":{\"colorbar\":{\"outlinewidth\":1,\"tickcolor\":\"rgb(36,36,36)\",\"ticks\":\"outside\"}},\"type\":\"scattercarpet\"}],\"scattergeo\":[{\"marker\":{\"colorbar\":{\"outlinewidth\":1,\"tickcolor\":\"rgb(36,36,36)\",\"ticks\":\"outside\"}},\"type\":\"scattergeo\"}],\"scattergl\":[{\"marker\":{\"colorbar\":{\"outlinewidth\":1,\"tickcolor\":\"rgb(36,36,36)\",\"ticks\":\"outside\"}},\"type\":\"scattergl\"}],\"scattermapbox\":[{\"marker\":{\"colorbar\":{\"outlinewidth\":1,\"tickcolor\":\"rgb(36,36,36)\",\"ticks\":\"outside\"}},\"type\":\"scattermapbox\"}],\"scatterpolargl\":[{\"marker\":{\"colorbar\":{\"outlinewidth\":1,\"tickcolor\":\"rgb(36,36,36)\",\"ticks\":\"outside\"}},\"type\":\"scatterpolargl\"}],\"scatterpolar\":[{\"marker\":{\"colorbar\":{\"outlinewidth\":1,\"tickcolor\":\"rgb(36,36,36)\",\"ticks\":\"outside\"}},\"type\":\"scatterpolar\"}],\"scatter\":[{\"marker\":{\"colorbar\":{\"outlinewidth\":1,\"tickcolor\":\"rgb(36,36,36)\",\"ticks\":\"outside\"}},\"type\":\"scatter\"}],\"scatterternary\":[{\"marker\":{\"colorbar\":{\"outlinewidth\":1,\"tickcolor\":\"rgb(36,36,36)\",\"ticks\":\"outside\"}},\"type\":\"scatterternary\"}],\"surface\":[{\"colorbar\":{\"outlinewidth\":1,\"tickcolor\":\"rgb(36,36,36)\",\"ticks\":\"outside\"},\"colorscale\":[[0.0,\"#440154\"],[0.1111111111111111,\"#482878\"],[0.2222222222222222,\"#3e4989\"],[0.3333333333333333,\"#31688e\"],[0.4444444444444444,\"#26828e\"],[0.5555555555555556,\"#1f9e89\"],[0.6666666666666666,\"#35b779\"],[0.7777777777777778,\"#6ece58\"],[0.8888888888888888,\"#b5de2b\"],[1.0,\"#fde725\"]],\"type\":\"surface\"}],\"table\":[{\"cells\":{\"fill\":{\"color\":\"rgb(237,237,237)\"},\"line\":{\"color\":\"white\"}},\"header\":{\"fill\":{\"color\":\"rgb(217,217,217)\"},\"line\":{\"color\":\"white\"}},\"type\":\"table\"}]},\"layout\":{\"annotationdefaults\":{\"arrowhead\":0,\"arrowwidth\":1},\"autotypenumbers\":\"strict\",\"coloraxis\":{\"colorbar\":{\"outlinewidth\":1,\"tickcolor\":\"rgb(36,36,36)\",\"ticks\":\"outside\"}},\"colorscale\":{\"diverging\":[[0.0,\"rgb(103,0,31)\"],[0.1,\"rgb(178,24,43)\"],[0.2,\"rgb(214,96,77)\"],[0.3,\"rgb(244,165,130)\"],[0.4,\"rgb(253,219,199)\"],[0.5,\"rgb(247,247,247)\"],[0.6,\"rgb(209,229,240)\"],[0.7,\"rgb(146,197,222)\"],[0.8,\"rgb(67,147,195)\"],[0.9,\"rgb(33,102,172)\"],[1.0,\"rgb(5,48,97)\"]],\"sequential\":[[0.0,\"#440154\"],[0.1111111111111111,\"#482878\"],[0.2222222222222222,\"#3e4989\"],[0.3333333333333333,\"#31688e\"],[0.4444444444444444,\"#26828e\"],[0.5555555555555556,\"#1f9e89\"],[0.6666666666666666,\"#35b779\"],[0.7777777777777778,\"#6ece58\"],[0.8888888888888888,\"#b5de2b\"],[1.0,\"#fde725\"]],\"sequentialminus\":[[0.0,\"#440154\"],[0.1111111111111111,\"#482878\"],[0.2222222222222222,\"#3e4989\"],[0.3333333333333333,\"#31688e\"],[0.4444444444444444,\"#26828e\"],[0.5555555555555556,\"#1f9e89\"],[0.6666666666666666,\"#35b779\"],[0.7777777777777778,\"#6ece58\"],[0.8888888888888888,\"#b5de2b\"],[1.0,\"#fde725\"]]},\"colorway\":[\"#1F77B4\",\"#FF7F0E\",\"#2CA02C\",\"#D62728\",\"#9467BD\",\"#8C564B\",\"#E377C2\",\"#7F7F7F\",\"#BCBD22\",\"#17BECF\"],\"font\":{\"color\":\"rgb(36,36,36)\"},\"geo\":{\"bgcolor\":\"white\",\"lakecolor\":\"white\",\"landcolor\":\"white\",\"showlakes\":true,\"showland\":true,\"subunitcolor\":\"white\"},\"hoverlabel\":{\"align\":\"left\"},\"hovermode\":\"closest\",\"mapbox\":{\"style\":\"light\"},\"paper_bgcolor\":\"white\",\"plot_bgcolor\":\"white\",\"polar\":{\"angularaxis\":{\"gridcolor\":\"rgb(232,232,232)\",\"linecolor\":\"rgb(36,36,36)\",\"showgrid\":false,\"showline\":true,\"ticks\":\"outside\"},\"bgcolor\":\"white\",\"radialaxis\":{\"gridcolor\":\"rgb(232,232,232)\",\"linecolor\":\"rgb(36,36,36)\",\"showgrid\":false,\"showline\":true,\"ticks\":\"outside\"}},\"scene\":{\"xaxis\":{\"backgroundcolor\":\"white\",\"gridcolor\":\"rgb(232,232,232)\",\"gridwidth\":2,\"linecolor\":\"rgb(36,36,36)\",\"showbackground\":true,\"showgrid\":false,\"showline\":true,\"ticks\":\"outside\",\"zeroline\":false,\"zerolinecolor\":\"rgb(36,36,36)\"},\"yaxis\":{\"backgroundcolor\":\"white\",\"gridcolor\":\"rgb(232,232,232)\",\"gridwidth\":2,\"linecolor\":\"rgb(36,36,36)\",\"showbackground\":true,\"showgrid\":false,\"showline\":true,\"ticks\":\"outside\",\"zeroline\":false,\"zerolinecolor\":\"rgb(36,36,36)\"},\"zaxis\":{\"backgroundcolor\":\"white\",\"gridcolor\":\"rgb(232,232,232)\",\"gridwidth\":2,\"linecolor\":\"rgb(36,36,36)\",\"showbackground\":true,\"showgrid\":false,\"showline\":true,\"ticks\":\"outside\",\"zeroline\":false,\"zerolinecolor\":\"rgb(36,36,36)\"}},\"shapedefaults\":{\"fillcolor\":\"black\",\"line\":{\"width\":0},\"opacity\":0.3},\"ternary\":{\"aaxis\":{\"gridcolor\":\"rgb(232,232,232)\",\"linecolor\":\"rgb(36,36,36)\",\"showgrid\":false,\"showline\":true,\"ticks\":\"outside\"},\"baxis\":{\"gridcolor\":\"rgb(232,232,232)\",\"linecolor\":\"rgb(36,36,36)\",\"showgrid\":false,\"showline\":true,\"ticks\":\"outside\"},\"bgcolor\":\"white\",\"caxis\":{\"gridcolor\":\"rgb(232,232,232)\",\"linecolor\":\"rgb(36,36,36)\",\"showgrid\":false,\"showline\":true,\"ticks\":\"outside\"}},\"title\":{\"x\":0.05},\"xaxis\":{\"automargin\":true,\"gridcolor\":\"rgb(232,232,232)\",\"linecolor\":\"rgb(36,36,36)\",\"showgrid\":false,\"showline\":true,\"ticks\":\"outside\",\"title\":{\"standoff\":15},\"zeroline\":false,\"zerolinecolor\":\"rgb(36,36,36)\"},\"yaxis\":{\"automargin\":true,\"gridcolor\":\"rgb(232,232,232)\",\"linecolor\":\"rgb(36,36,36)\",\"showgrid\":false,\"showline\":true,\"ticks\":\"outside\",\"title\":{\"standoff\":15},\"zeroline\":false,\"zerolinecolor\":\"rgb(36,36,36)\"}}},\"xaxis\":{\"anchor\":\"y\",\"domain\":[0.0,1.0],\"title\":{\"text\":\"\"},\"visible\":false,\"range\":[-13.098702192306519,12.236634302139283]},\"yaxis\":{\"anchor\":\"x\",\"domain\":[0.0,1.0],\"title\":{\"text\":\"\"},\"visible\":false,\"range\":[-6.293214154243469,24.80728073120117]},\"legend\":{\"tracegroupgap\":0,\"itemsizing\":\"constant\"},\"margin\":{\"t\":60},\"title\":{\"font\":{\"size\":22,\"color\":\"Black\"},\"text\":\"<b>Intertopic Distance Map\",\"y\":0.95,\"x\":0.5,\"xanchor\":\"center\",\"yanchor\":\"top\"},\"hoverlabel\":{\"font\":{\"size\":16,\"family\":\"Rockwell\"},\"bgcolor\":\"white\"},\"width\":650,\"height\":650,\"sliders\":[{\"active\":0,\"pad\":{\"t\":50},\"steps\":[{\"args\":[{\"marker.color\":[[\"red\",\"#B0BEC5\",\"#B0BEC5\",\"#B0BEC5\",\"#B0BEC5\",\"#B0BEC5\",\"#B0BEC5\",\"#B0BEC5\",\"#B0BEC5\",\"#B0BEC5\",\"#B0BEC5\"]]}],\"label\":\"Topic 0\",\"method\":\"update\"},{\"args\":[{\"marker.color\":[[\"#B0BEC5\",\"red\",\"#B0BEC5\",\"#B0BEC5\",\"#B0BEC5\",\"#B0BEC5\",\"#B0BEC5\",\"#B0BEC5\",\"#B0BEC5\",\"#B0BEC5\",\"#B0BEC5\"]]}],\"label\":\"Topic 1\",\"method\":\"update\"},{\"args\":[{\"marker.color\":[[\"#B0BEC5\",\"#B0BEC5\",\"red\",\"#B0BEC5\",\"#B0BEC5\",\"#B0BEC5\",\"#B0BEC5\",\"#B0BEC5\",\"#B0BEC5\",\"#B0BEC5\",\"#B0BEC5\"]]}],\"label\":\"Topic 2\",\"method\":\"update\"},{\"args\":[{\"marker.color\":[[\"#B0BEC5\",\"#B0BEC5\",\"#B0BEC5\",\"red\",\"#B0BEC5\",\"#B0BEC5\",\"#B0BEC5\",\"#B0BEC5\",\"#B0BEC5\",\"#B0BEC5\",\"#B0BEC5\"]]}],\"label\":\"Topic 3\",\"method\":\"update\"},{\"args\":[{\"marker.color\":[[\"#B0BEC5\",\"#B0BEC5\",\"#B0BEC5\",\"#B0BEC5\",\"red\",\"#B0BEC5\",\"#B0BEC5\",\"#B0BEC5\",\"#B0BEC5\",\"#B0BEC5\",\"#B0BEC5\"]]}],\"label\":\"Topic 4\",\"method\":\"update\"},{\"args\":[{\"marker.color\":[[\"#B0BEC5\",\"#B0BEC5\",\"#B0BEC5\",\"#B0BEC5\",\"#B0BEC5\",\"red\",\"#B0BEC5\",\"#B0BEC5\",\"#B0BEC5\",\"#B0BEC5\",\"#B0BEC5\"]]}],\"label\":\"Topic 5\",\"method\":\"update\"},{\"args\":[{\"marker.color\":[[\"#B0BEC5\",\"#B0BEC5\",\"#B0BEC5\",\"#B0BEC5\",\"#B0BEC5\",\"#B0BEC5\",\"red\",\"#B0BEC5\",\"#B0BEC5\",\"#B0BEC5\",\"#B0BEC5\"]]}],\"label\":\"Topic 6\",\"method\":\"update\"},{\"args\":[{\"marker.color\":[[\"#B0BEC5\",\"#B0BEC5\",\"#B0BEC5\",\"#B0BEC5\",\"#B0BEC5\",\"#B0BEC5\",\"#B0BEC5\",\"red\",\"#B0BEC5\",\"#B0BEC5\",\"#B0BEC5\"]]}],\"label\":\"Topic 7\",\"method\":\"update\"},{\"args\":[{\"marker.color\":[[\"#B0BEC5\",\"#B0BEC5\",\"#B0BEC5\",\"#B0BEC5\",\"#B0BEC5\",\"#B0BEC5\",\"#B0BEC5\",\"#B0BEC5\",\"red\",\"#B0BEC5\",\"#B0BEC5\"]]}],\"label\":\"Topic 8\",\"method\":\"update\"},{\"args\":[{\"marker.color\":[[\"#B0BEC5\",\"#B0BEC5\",\"#B0BEC5\",\"#B0BEC5\",\"#B0BEC5\",\"#B0BEC5\",\"#B0BEC5\",\"#B0BEC5\",\"#B0BEC5\",\"red\",\"#B0BEC5\"]]}],\"label\":\"Topic 9\",\"method\":\"update\"},{\"args\":[{\"marker.color\":[[\"#B0BEC5\",\"#B0BEC5\",\"#B0BEC5\",\"#B0BEC5\",\"#B0BEC5\",\"#B0BEC5\",\"#B0BEC5\",\"#B0BEC5\",\"#B0BEC5\",\"#B0BEC5\",\"red\"]]}],\"label\":\"Topic 10\",\"method\":\"update\"}]}],\"shapes\":[{\"line\":{\"color\":\"#CFD8DC\",\"width\":2},\"type\":\"line\",\"x0\":-0.4310339450836178,\"x1\":-0.4310339450836178,\"y0\":-6.293214154243469,\"y1\":24.80728073120117},{\"line\":{\"color\":\"#9E9E9E\",\"width\":2},\"type\":\"line\",\"x0\":-13.098702192306519,\"x1\":12.236634302139283,\"y0\":9.257033288478851,\"y1\":9.257033288478851}],\"annotations\":[{\"showarrow\":false,\"text\":\"D1\",\"x\":-13.098702192306519,\"y\":9.257033288478851,\"yshift\":10},{\"showarrow\":false,\"text\":\"D2\",\"x\":-0.4310339450836178,\"xshift\":10,\"y\":24.80728073120117}]},                        {\"responsive\": true}                    ).then(function(){\n",
       "                            \n",
       "var gd = document.getElementById('11650e92-29fe-40e3-9b60-23eda3e07fc0');\n",
       "var x = new MutationObserver(function (mutations, observer) {{\n",
       "        var display = window.getComputedStyle(gd).display;\n",
       "        if (!display || display === 'none') {{\n",
       "            console.log([gd, 'removed!']);\n",
       "            Plotly.purge(gd);\n",
       "            observer.disconnect();\n",
       "        }}\n",
       "}});\n",
       "\n",
       "// Listen for the removal of the full notebook cells\n",
       "var notebookContainer = gd.closest('#notebook-container');\n",
       "if (notebookContainer) {{\n",
       "    x.observe(notebookContainer, {childList: true});\n",
       "}}\n",
       "\n",
       "// Listen for the clearing of the current output cell\n",
       "var outputEl = gd.closest('.output');\n",
       "if (outputEl) {{\n",
       "    x.observe(outputEl, {childList: true});\n",
       "}}\n",
       "\n",
       "                        })                };                });            </script>        </div>"
      ]
     },
     "metadata": {},
     "output_type": "display_data"
    }
   ],
   "source": [
    "topic_model.visualize_topics()"
   ]
  },
  {
   "cell_type": "code",
   "execution_count": 222,
   "id": "67b0c2aa",
   "metadata": {},
   "outputs": [
    {
     "data": {
      "application/vnd.plotly.v1+json": {
       "config": {
        "plotlyServerURL": "https://plot.ly"
       },
       "data": [
        {
         "marker": {
          "color": "#C8D2D7",
          "line": {
           "color": "#6E8484",
           "width": 1
          }
         },
         "orientation": "h",
         "type": "bar",
         "x": [
          0.08474494291427494,
          0.06126184302287694,
          0.05770703619648829,
          0.04242939952858203,
          0.059536649963788234,
          0.05432530621318458,
          0.1121213023104795,
          0.06522205300057238,
          0.06253801798825645,
          0.06273678036078598,
          0.1185875057625798
         ],
         "y": [
          "<b>Topic 0</b>: to_and_am_for_the",
          "<b>Topic 1</b>: the_to_is_and_it",
          "<b>Topic 2</b>: the_to_of_it_and",
          "<b>Topic 3</b>: memory_the_is_of_in",
          "<b>Topic 4</b>: complexity_the_is_time_o...",
          "<b>Topic 5</b>: the_to_how_is_cpu",
          "<b>Topic 6</b>: the_of_that_is_to",
          "<b>Topic 7</b>: computer_software_is_sci...",
          "<b>Topic 8</b>: and_it_the_of_os",
          "<b>Topic 9</b>: 01_the_gates_logic_and",
          "<b>Topic 10</b>: the_number_to_of_and"
         ]
        }
       ],
       "layout": {
        "height": 600,
        "hoverlabel": {
         "bgcolor": "white",
         "font": {
          "family": "Rockwell",
          "size": 16
         }
        },
        "template": {
         "data": {
          "bar": [
           {
            "error_x": {
             "color": "rgb(36,36,36)"
            },
            "error_y": {
             "color": "rgb(36,36,36)"
            },
            "marker": {
             "line": {
              "color": "white",
              "width": 0.5
             },
             "pattern": {
              "fillmode": "overlay",
              "size": 10,
              "solidity": 0.2
             }
            },
            "type": "bar"
           }
          ],
          "barpolar": [
           {
            "marker": {
             "line": {
              "color": "white",
              "width": 0.5
             },
             "pattern": {
              "fillmode": "overlay",
              "size": 10,
              "solidity": 0.2
             }
            },
            "type": "barpolar"
           }
          ],
          "carpet": [
           {
            "aaxis": {
             "endlinecolor": "rgb(36,36,36)",
             "gridcolor": "white",
             "linecolor": "white",
             "minorgridcolor": "white",
             "startlinecolor": "rgb(36,36,36)"
            },
            "baxis": {
             "endlinecolor": "rgb(36,36,36)",
             "gridcolor": "white",
             "linecolor": "white",
             "minorgridcolor": "white",
             "startlinecolor": "rgb(36,36,36)"
            },
            "type": "carpet"
           }
          ],
          "choropleth": [
           {
            "colorbar": {
             "outlinewidth": 1,
             "tickcolor": "rgb(36,36,36)",
             "ticks": "outside"
            },
            "type": "choropleth"
           }
          ],
          "contour": [
           {
            "colorbar": {
             "outlinewidth": 1,
             "tickcolor": "rgb(36,36,36)",
             "ticks": "outside"
            },
            "colorscale": [
             [
              0,
              "#440154"
             ],
             [
              0.1111111111111111,
              "#482878"
             ],
             [
              0.2222222222222222,
              "#3e4989"
             ],
             [
              0.3333333333333333,
              "#31688e"
             ],
             [
              0.4444444444444444,
              "#26828e"
             ],
             [
              0.5555555555555556,
              "#1f9e89"
             ],
             [
              0.6666666666666666,
              "#35b779"
             ],
             [
              0.7777777777777778,
              "#6ece58"
             ],
             [
              0.8888888888888888,
              "#b5de2b"
             ],
             [
              1,
              "#fde725"
             ]
            ],
            "type": "contour"
           }
          ],
          "contourcarpet": [
           {
            "colorbar": {
             "outlinewidth": 1,
             "tickcolor": "rgb(36,36,36)",
             "ticks": "outside"
            },
            "type": "contourcarpet"
           }
          ],
          "heatmap": [
           {
            "colorbar": {
             "outlinewidth": 1,
             "tickcolor": "rgb(36,36,36)",
             "ticks": "outside"
            },
            "colorscale": [
             [
              0,
              "#440154"
             ],
             [
              0.1111111111111111,
              "#482878"
             ],
             [
              0.2222222222222222,
              "#3e4989"
             ],
             [
              0.3333333333333333,
              "#31688e"
             ],
             [
              0.4444444444444444,
              "#26828e"
             ],
             [
              0.5555555555555556,
              "#1f9e89"
             ],
             [
              0.6666666666666666,
              "#35b779"
             ],
             [
              0.7777777777777778,
              "#6ece58"
             ],
             [
              0.8888888888888888,
              "#b5de2b"
             ],
             [
              1,
              "#fde725"
             ]
            ],
            "type": "heatmap"
           }
          ],
          "heatmapgl": [
           {
            "colorbar": {
             "outlinewidth": 1,
             "tickcolor": "rgb(36,36,36)",
             "ticks": "outside"
            },
            "colorscale": [
             [
              0,
              "#440154"
             ],
             [
              0.1111111111111111,
              "#482878"
             ],
             [
              0.2222222222222222,
              "#3e4989"
             ],
             [
              0.3333333333333333,
              "#31688e"
             ],
             [
              0.4444444444444444,
              "#26828e"
             ],
             [
              0.5555555555555556,
              "#1f9e89"
             ],
             [
              0.6666666666666666,
              "#35b779"
             ],
             [
              0.7777777777777778,
              "#6ece58"
             ],
             [
              0.8888888888888888,
              "#b5de2b"
             ],
             [
              1,
              "#fde725"
             ]
            ],
            "type": "heatmapgl"
           }
          ],
          "histogram": [
           {
            "marker": {
             "line": {
              "color": "white",
              "width": 0.6
             }
            },
            "type": "histogram"
           }
          ],
          "histogram2d": [
           {
            "colorbar": {
             "outlinewidth": 1,
             "tickcolor": "rgb(36,36,36)",
             "ticks": "outside"
            },
            "colorscale": [
             [
              0,
              "#440154"
             ],
             [
              0.1111111111111111,
              "#482878"
             ],
             [
              0.2222222222222222,
              "#3e4989"
             ],
             [
              0.3333333333333333,
              "#31688e"
             ],
             [
              0.4444444444444444,
              "#26828e"
             ],
             [
              0.5555555555555556,
              "#1f9e89"
             ],
             [
              0.6666666666666666,
              "#35b779"
             ],
             [
              0.7777777777777778,
              "#6ece58"
             ],
             [
              0.8888888888888888,
              "#b5de2b"
             ],
             [
              1,
              "#fde725"
             ]
            ],
            "type": "histogram2d"
           }
          ],
          "histogram2dcontour": [
           {
            "colorbar": {
             "outlinewidth": 1,
             "tickcolor": "rgb(36,36,36)",
             "ticks": "outside"
            },
            "colorscale": [
             [
              0,
              "#440154"
             ],
             [
              0.1111111111111111,
              "#482878"
             ],
             [
              0.2222222222222222,
              "#3e4989"
             ],
             [
              0.3333333333333333,
              "#31688e"
             ],
             [
              0.4444444444444444,
              "#26828e"
             ],
             [
              0.5555555555555556,
              "#1f9e89"
             ],
             [
              0.6666666666666666,
              "#35b779"
             ],
             [
              0.7777777777777778,
              "#6ece58"
             ],
             [
              0.8888888888888888,
              "#b5de2b"
             ],
             [
              1,
              "#fde725"
             ]
            ],
            "type": "histogram2dcontour"
           }
          ],
          "mesh3d": [
           {
            "colorbar": {
             "outlinewidth": 1,
             "tickcolor": "rgb(36,36,36)",
             "ticks": "outside"
            },
            "type": "mesh3d"
           }
          ],
          "parcoords": [
           {
            "line": {
             "colorbar": {
              "outlinewidth": 1,
              "tickcolor": "rgb(36,36,36)",
              "ticks": "outside"
             }
            },
            "type": "parcoords"
           }
          ],
          "pie": [
           {
            "automargin": true,
            "type": "pie"
           }
          ],
          "scatter": [
           {
            "marker": {
             "colorbar": {
              "outlinewidth": 1,
              "tickcolor": "rgb(36,36,36)",
              "ticks": "outside"
             }
            },
            "type": "scatter"
           }
          ],
          "scatter3d": [
           {
            "line": {
             "colorbar": {
              "outlinewidth": 1,
              "tickcolor": "rgb(36,36,36)",
              "ticks": "outside"
             }
            },
            "marker": {
             "colorbar": {
              "outlinewidth": 1,
              "tickcolor": "rgb(36,36,36)",
              "ticks": "outside"
             }
            },
            "type": "scatter3d"
           }
          ],
          "scattercarpet": [
           {
            "marker": {
             "colorbar": {
              "outlinewidth": 1,
              "tickcolor": "rgb(36,36,36)",
              "ticks": "outside"
             }
            },
            "type": "scattercarpet"
           }
          ],
          "scattergeo": [
           {
            "marker": {
             "colorbar": {
              "outlinewidth": 1,
              "tickcolor": "rgb(36,36,36)",
              "ticks": "outside"
             }
            },
            "type": "scattergeo"
           }
          ],
          "scattergl": [
           {
            "marker": {
             "colorbar": {
              "outlinewidth": 1,
              "tickcolor": "rgb(36,36,36)",
              "ticks": "outside"
             }
            },
            "type": "scattergl"
           }
          ],
          "scattermapbox": [
           {
            "marker": {
             "colorbar": {
              "outlinewidth": 1,
              "tickcolor": "rgb(36,36,36)",
              "ticks": "outside"
             }
            },
            "type": "scattermapbox"
           }
          ],
          "scatterpolar": [
           {
            "marker": {
             "colorbar": {
              "outlinewidth": 1,
              "tickcolor": "rgb(36,36,36)",
              "ticks": "outside"
             }
            },
            "type": "scatterpolar"
           }
          ],
          "scatterpolargl": [
           {
            "marker": {
             "colorbar": {
              "outlinewidth": 1,
              "tickcolor": "rgb(36,36,36)",
              "ticks": "outside"
             }
            },
            "type": "scatterpolargl"
           }
          ],
          "scatterternary": [
           {
            "marker": {
             "colorbar": {
              "outlinewidth": 1,
              "tickcolor": "rgb(36,36,36)",
              "ticks": "outside"
             }
            },
            "type": "scatterternary"
           }
          ],
          "surface": [
           {
            "colorbar": {
             "outlinewidth": 1,
             "tickcolor": "rgb(36,36,36)",
             "ticks": "outside"
            },
            "colorscale": [
             [
              0,
              "#440154"
             ],
             [
              0.1111111111111111,
              "#482878"
             ],
             [
              0.2222222222222222,
              "#3e4989"
             ],
             [
              0.3333333333333333,
              "#31688e"
             ],
             [
              0.4444444444444444,
              "#26828e"
             ],
             [
              0.5555555555555556,
              "#1f9e89"
             ],
             [
              0.6666666666666666,
              "#35b779"
             ],
             [
              0.7777777777777778,
              "#6ece58"
             ],
             [
              0.8888888888888888,
              "#b5de2b"
             ],
             [
              1,
              "#fde725"
             ]
            ],
            "type": "surface"
           }
          ],
          "table": [
           {
            "cells": {
             "fill": {
              "color": "rgb(237,237,237)"
             },
             "line": {
              "color": "white"
             }
            },
            "header": {
             "fill": {
              "color": "rgb(217,217,217)"
             },
             "line": {
              "color": "white"
             }
            },
            "type": "table"
           }
          ]
         },
         "layout": {
          "annotationdefaults": {
           "arrowhead": 0,
           "arrowwidth": 1
          },
          "autotypenumbers": "strict",
          "coloraxis": {
           "colorbar": {
            "outlinewidth": 1,
            "tickcolor": "rgb(36,36,36)",
            "ticks": "outside"
           }
          },
          "colorscale": {
           "diverging": [
            [
             0,
             "rgb(103,0,31)"
            ],
            [
             0.1,
             "rgb(178,24,43)"
            ],
            [
             0.2,
             "rgb(214,96,77)"
            ],
            [
             0.3,
             "rgb(244,165,130)"
            ],
            [
             0.4,
             "rgb(253,219,199)"
            ],
            [
             0.5,
             "rgb(247,247,247)"
            ],
            [
             0.6,
             "rgb(209,229,240)"
            ],
            [
             0.7,
             "rgb(146,197,222)"
            ],
            [
             0.8,
             "rgb(67,147,195)"
            ],
            [
             0.9,
             "rgb(33,102,172)"
            ],
            [
             1,
             "rgb(5,48,97)"
            ]
           ],
           "sequential": [
            [
             0,
             "#440154"
            ],
            [
             0.1111111111111111,
             "#482878"
            ],
            [
             0.2222222222222222,
             "#3e4989"
            ],
            [
             0.3333333333333333,
             "#31688e"
            ],
            [
             0.4444444444444444,
             "#26828e"
            ],
            [
             0.5555555555555556,
             "#1f9e89"
            ],
            [
             0.6666666666666666,
             "#35b779"
            ],
            [
             0.7777777777777778,
             "#6ece58"
            ],
            [
             0.8888888888888888,
             "#b5de2b"
            ],
            [
             1,
             "#fde725"
            ]
           ],
           "sequentialminus": [
            [
             0,
             "#440154"
            ],
            [
             0.1111111111111111,
             "#482878"
            ],
            [
             0.2222222222222222,
             "#3e4989"
            ],
            [
             0.3333333333333333,
             "#31688e"
            ],
            [
             0.4444444444444444,
             "#26828e"
            ],
            [
             0.5555555555555556,
             "#1f9e89"
            ],
            [
             0.6666666666666666,
             "#35b779"
            ],
            [
             0.7777777777777778,
             "#6ece58"
            ],
            [
             0.8888888888888888,
             "#b5de2b"
            ],
            [
             1,
             "#fde725"
            ]
           ]
          },
          "colorway": [
           "#1F77B4",
           "#FF7F0E",
           "#2CA02C",
           "#D62728",
           "#9467BD",
           "#8C564B",
           "#E377C2",
           "#7F7F7F",
           "#BCBD22",
           "#17BECF"
          ],
          "font": {
           "color": "rgb(36,36,36)"
          },
          "geo": {
           "bgcolor": "white",
           "lakecolor": "white",
           "landcolor": "white",
           "showlakes": true,
           "showland": true,
           "subunitcolor": "white"
          },
          "hoverlabel": {
           "align": "left"
          },
          "hovermode": "closest",
          "mapbox": {
           "style": "light"
          },
          "paper_bgcolor": "white",
          "plot_bgcolor": "white",
          "polar": {
           "angularaxis": {
            "gridcolor": "rgb(232,232,232)",
            "linecolor": "rgb(36,36,36)",
            "showgrid": false,
            "showline": true,
            "ticks": "outside"
           },
           "bgcolor": "white",
           "radialaxis": {
            "gridcolor": "rgb(232,232,232)",
            "linecolor": "rgb(36,36,36)",
            "showgrid": false,
            "showline": true,
            "ticks": "outside"
           }
          },
          "scene": {
           "xaxis": {
            "backgroundcolor": "white",
            "gridcolor": "rgb(232,232,232)",
            "gridwidth": 2,
            "linecolor": "rgb(36,36,36)",
            "showbackground": true,
            "showgrid": false,
            "showline": true,
            "ticks": "outside",
            "zeroline": false,
            "zerolinecolor": "rgb(36,36,36)"
           },
           "yaxis": {
            "backgroundcolor": "white",
            "gridcolor": "rgb(232,232,232)",
            "gridwidth": 2,
            "linecolor": "rgb(36,36,36)",
            "showbackground": true,
            "showgrid": false,
            "showline": true,
            "ticks": "outside",
            "zeroline": false,
            "zerolinecolor": "rgb(36,36,36)"
           },
           "zaxis": {
            "backgroundcolor": "white",
            "gridcolor": "rgb(232,232,232)",
            "gridwidth": 2,
            "linecolor": "rgb(36,36,36)",
            "showbackground": true,
            "showgrid": false,
            "showline": true,
            "ticks": "outside",
            "zeroline": false,
            "zerolinecolor": "rgb(36,36,36)"
           }
          },
          "shapedefaults": {
           "fillcolor": "black",
           "line": {
            "width": 0
           },
           "opacity": 0.3
          },
          "ternary": {
           "aaxis": {
            "gridcolor": "rgb(232,232,232)",
            "linecolor": "rgb(36,36,36)",
            "showgrid": false,
            "showline": true,
            "ticks": "outside"
           },
           "baxis": {
            "gridcolor": "rgb(232,232,232)",
            "linecolor": "rgb(36,36,36)",
            "showgrid": false,
            "showline": true,
            "ticks": "outside"
           },
           "bgcolor": "white",
           "caxis": {
            "gridcolor": "rgb(232,232,232)",
            "linecolor": "rgb(36,36,36)",
            "showgrid": false,
            "showline": true,
            "ticks": "outside"
           }
          },
          "title": {
           "x": 0.05
          },
          "xaxis": {
           "automargin": true,
           "gridcolor": "rgb(232,232,232)",
           "linecolor": "rgb(36,36,36)",
           "showgrid": false,
           "showline": true,
           "ticks": "outside",
           "title": {
            "standoff": 15
           },
           "zeroline": false,
           "zerolinecolor": "rgb(36,36,36)"
          },
          "yaxis": {
           "automargin": true,
           "gridcolor": "rgb(232,232,232)",
           "linecolor": "rgb(36,36,36)",
           "showgrid": false,
           "showline": true,
           "ticks": "outside",
           "title": {
            "standoff": 15
           },
           "zeroline": false,
           "zerolinecolor": "rgb(36,36,36)"
          }
         }
        },
        "title": {
         "font": {
          "color": "Black",
          "size": 22
         },
         "text": "<b>Topic Probability Distribution",
         "x": 0.5,
         "xanchor": "center",
         "y": 0.95,
         "yanchor": "top"
        },
        "width": 800,
        "xaxis": {
         "title": {
          "text": "Probability"
         }
        }
       }
      },
      "text/html": [
       "<div>                            <div id=\"7690d1e5-0c30-47b4-bea4-85320dbe4435\" class=\"plotly-graph-div\" style=\"height:600px; width:800px;\"></div>            <script type=\"text/javascript\">                require([\"plotly\"], function(Plotly) {                    window.PLOTLYENV=window.PLOTLYENV || {};                                    if (document.getElementById(\"7690d1e5-0c30-47b4-bea4-85320dbe4435\")) {                    Plotly.newPlot(                        \"7690d1e5-0c30-47b4-bea4-85320dbe4435\",                        [{\"marker\":{\"color\":\"#C8D2D7\",\"line\":{\"color\":\"#6E8484\",\"width\":1}},\"orientation\":\"h\",\"x\":[0.08474494291427494,0.06126184302287694,0.05770703619648829,0.04242939952858203,0.059536649963788234,0.05432530621318458,0.1121213023104795,0.06522205300057238,0.06253801798825645,0.06273678036078598,0.1185875057625798],\"y\":[\"<b>Topic 0</b>: to_and_am_for_the\",\"<b>Topic 1</b>: the_to_is_and_it\",\"<b>Topic 2</b>: the_to_of_it_and\",\"<b>Topic 3</b>: memory_the_is_of_in\",\"<b>Topic 4</b>: complexity_the_is_time_o...\",\"<b>Topic 5</b>: the_to_how_is_cpu\",\"<b>Topic 6</b>: the_of_that_is_to\",\"<b>Topic 7</b>: computer_software_is_sci...\",\"<b>Topic 8</b>: and_it_the_of_os\",\"<b>Topic 9</b>: 01_the_gates_logic_and\",\"<b>Topic 10</b>: the_number_to_of_and\"],\"type\":\"bar\"}],                        {\"template\":{\"data\":{\"barpolar\":[{\"marker\":{\"line\":{\"color\":\"white\",\"width\":0.5},\"pattern\":{\"fillmode\":\"overlay\",\"size\":10,\"solidity\":0.2}},\"type\":\"barpolar\"}],\"bar\":[{\"error_x\":{\"color\":\"rgb(36,36,36)\"},\"error_y\":{\"color\":\"rgb(36,36,36)\"},\"marker\":{\"line\":{\"color\":\"white\",\"width\":0.5},\"pattern\":{\"fillmode\":\"overlay\",\"size\":10,\"solidity\":0.2}},\"type\":\"bar\"}],\"carpet\":[{\"aaxis\":{\"endlinecolor\":\"rgb(36,36,36)\",\"gridcolor\":\"white\",\"linecolor\":\"white\",\"minorgridcolor\":\"white\",\"startlinecolor\":\"rgb(36,36,36)\"},\"baxis\":{\"endlinecolor\":\"rgb(36,36,36)\",\"gridcolor\":\"white\",\"linecolor\":\"white\",\"minorgridcolor\":\"white\",\"startlinecolor\":\"rgb(36,36,36)\"},\"type\":\"carpet\"}],\"choropleth\":[{\"colorbar\":{\"outlinewidth\":1,\"tickcolor\":\"rgb(36,36,36)\",\"ticks\":\"outside\"},\"type\":\"choropleth\"}],\"contourcarpet\":[{\"colorbar\":{\"outlinewidth\":1,\"tickcolor\":\"rgb(36,36,36)\",\"ticks\":\"outside\"},\"type\":\"contourcarpet\"}],\"contour\":[{\"colorbar\":{\"outlinewidth\":1,\"tickcolor\":\"rgb(36,36,36)\",\"ticks\":\"outside\"},\"colorscale\":[[0.0,\"#440154\"],[0.1111111111111111,\"#482878\"],[0.2222222222222222,\"#3e4989\"],[0.3333333333333333,\"#31688e\"],[0.4444444444444444,\"#26828e\"],[0.5555555555555556,\"#1f9e89\"],[0.6666666666666666,\"#35b779\"],[0.7777777777777778,\"#6ece58\"],[0.8888888888888888,\"#b5de2b\"],[1.0,\"#fde725\"]],\"type\":\"contour\"}],\"heatmapgl\":[{\"colorbar\":{\"outlinewidth\":1,\"tickcolor\":\"rgb(36,36,36)\",\"ticks\":\"outside\"},\"colorscale\":[[0.0,\"#440154\"],[0.1111111111111111,\"#482878\"],[0.2222222222222222,\"#3e4989\"],[0.3333333333333333,\"#31688e\"],[0.4444444444444444,\"#26828e\"],[0.5555555555555556,\"#1f9e89\"],[0.6666666666666666,\"#35b779\"],[0.7777777777777778,\"#6ece58\"],[0.8888888888888888,\"#b5de2b\"],[1.0,\"#fde725\"]],\"type\":\"heatmapgl\"}],\"heatmap\":[{\"colorbar\":{\"outlinewidth\":1,\"tickcolor\":\"rgb(36,36,36)\",\"ticks\":\"outside\"},\"colorscale\":[[0.0,\"#440154\"],[0.1111111111111111,\"#482878\"],[0.2222222222222222,\"#3e4989\"],[0.3333333333333333,\"#31688e\"],[0.4444444444444444,\"#26828e\"],[0.5555555555555556,\"#1f9e89\"],[0.6666666666666666,\"#35b779\"],[0.7777777777777778,\"#6ece58\"],[0.8888888888888888,\"#b5de2b\"],[1.0,\"#fde725\"]],\"type\":\"heatmap\"}],\"histogram2dcontour\":[{\"colorbar\":{\"outlinewidth\":1,\"tickcolor\":\"rgb(36,36,36)\",\"ticks\":\"outside\"},\"colorscale\":[[0.0,\"#440154\"],[0.1111111111111111,\"#482878\"],[0.2222222222222222,\"#3e4989\"],[0.3333333333333333,\"#31688e\"],[0.4444444444444444,\"#26828e\"],[0.5555555555555556,\"#1f9e89\"],[0.6666666666666666,\"#35b779\"],[0.7777777777777778,\"#6ece58\"],[0.8888888888888888,\"#b5de2b\"],[1.0,\"#fde725\"]],\"type\":\"histogram2dcontour\"}],\"histogram2d\":[{\"colorbar\":{\"outlinewidth\":1,\"tickcolor\":\"rgb(36,36,36)\",\"ticks\":\"outside\"},\"colorscale\":[[0.0,\"#440154\"],[0.1111111111111111,\"#482878\"],[0.2222222222222222,\"#3e4989\"],[0.3333333333333333,\"#31688e\"],[0.4444444444444444,\"#26828e\"],[0.5555555555555556,\"#1f9e89\"],[0.6666666666666666,\"#35b779\"],[0.7777777777777778,\"#6ece58\"],[0.8888888888888888,\"#b5de2b\"],[1.0,\"#fde725\"]],\"type\":\"histogram2d\"}],\"histogram\":[{\"marker\":{\"line\":{\"color\":\"white\",\"width\":0.6}},\"type\":\"histogram\"}],\"mesh3d\":[{\"colorbar\":{\"outlinewidth\":1,\"tickcolor\":\"rgb(36,36,36)\",\"ticks\":\"outside\"},\"type\":\"mesh3d\"}],\"parcoords\":[{\"line\":{\"colorbar\":{\"outlinewidth\":1,\"tickcolor\":\"rgb(36,36,36)\",\"ticks\":\"outside\"}},\"type\":\"parcoords\"}],\"pie\":[{\"automargin\":true,\"type\":\"pie\"}],\"scatter3d\":[{\"line\":{\"colorbar\":{\"outlinewidth\":1,\"tickcolor\":\"rgb(36,36,36)\",\"ticks\":\"outside\"}},\"marker\":{\"colorbar\":{\"outlinewidth\":1,\"tickcolor\":\"rgb(36,36,36)\",\"ticks\":\"outside\"}},\"type\":\"scatter3d\"}],\"scattercarpet\":[{\"marker\":{\"colorbar\":{\"outlinewidth\":1,\"tickcolor\":\"rgb(36,36,36)\",\"ticks\":\"outside\"}},\"type\":\"scattercarpet\"}],\"scattergeo\":[{\"marker\":{\"colorbar\":{\"outlinewidth\":1,\"tickcolor\":\"rgb(36,36,36)\",\"ticks\":\"outside\"}},\"type\":\"scattergeo\"}],\"scattergl\":[{\"marker\":{\"colorbar\":{\"outlinewidth\":1,\"tickcolor\":\"rgb(36,36,36)\",\"ticks\":\"outside\"}},\"type\":\"scattergl\"}],\"scattermapbox\":[{\"marker\":{\"colorbar\":{\"outlinewidth\":1,\"tickcolor\":\"rgb(36,36,36)\",\"ticks\":\"outside\"}},\"type\":\"scattermapbox\"}],\"scatterpolargl\":[{\"marker\":{\"colorbar\":{\"outlinewidth\":1,\"tickcolor\":\"rgb(36,36,36)\",\"ticks\":\"outside\"}},\"type\":\"scatterpolargl\"}],\"scatterpolar\":[{\"marker\":{\"colorbar\":{\"outlinewidth\":1,\"tickcolor\":\"rgb(36,36,36)\",\"ticks\":\"outside\"}},\"type\":\"scatterpolar\"}],\"scatter\":[{\"marker\":{\"colorbar\":{\"outlinewidth\":1,\"tickcolor\":\"rgb(36,36,36)\",\"ticks\":\"outside\"}},\"type\":\"scatter\"}],\"scatterternary\":[{\"marker\":{\"colorbar\":{\"outlinewidth\":1,\"tickcolor\":\"rgb(36,36,36)\",\"ticks\":\"outside\"}},\"type\":\"scatterternary\"}],\"surface\":[{\"colorbar\":{\"outlinewidth\":1,\"tickcolor\":\"rgb(36,36,36)\",\"ticks\":\"outside\"},\"colorscale\":[[0.0,\"#440154\"],[0.1111111111111111,\"#482878\"],[0.2222222222222222,\"#3e4989\"],[0.3333333333333333,\"#31688e\"],[0.4444444444444444,\"#26828e\"],[0.5555555555555556,\"#1f9e89\"],[0.6666666666666666,\"#35b779\"],[0.7777777777777778,\"#6ece58\"],[0.8888888888888888,\"#b5de2b\"],[1.0,\"#fde725\"]],\"type\":\"surface\"}],\"table\":[{\"cells\":{\"fill\":{\"color\":\"rgb(237,237,237)\"},\"line\":{\"color\":\"white\"}},\"header\":{\"fill\":{\"color\":\"rgb(217,217,217)\"},\"line\":{\"color\":\"white\"}},\"type\":\"table\"}]},\"layout\":{\"annotationdefaults\":{\"arrowhead\":0,\"arrowwidth\":1},\"autotypenumbers\":\"strict\",\"coloraxis\":{\"colorbar\":{\"outlinewidth\":1,\"tickcolor\":\"rgb(36,36,36)\",\"ticks\":\"outside\"}},\"colorscale\":{\"diverging\":[[0.0,\"rgb(103,0,31)\"],[0.1,\"rgb(178,24,43)\"],[0.2,\"rgb(214,96,77)\"],[0.3,\"rgb(244,165,130)\"],[0.4,\"rgb(253,219,199)\"],[0.5,\"rgb(247,247,247)\"],[0.6,\"rgb(209,229,240)\"],[0.7,\"rgb(146,197,222)\"],[0.8,\"rgb(67,147,195)\"],[0.9,\"rgb(33,102,172)\"],[1.0,\"rgb(5,48,97)\"]],\"sequential\":[[0.0,\"#440154\"],[0.1111111111111111,\"#482878\"],[0.2222222222222222,\"#3e4989\"],[0.3333333333333333,\"#31688e\"],[0.4444444444444444,\"#26828e\"],[0.5555555555555556,\"#1f9e89\"],[0.6666666666666666,\"#35b779\"],[0.7777777777777778,\"#6ece58\"],[0.8888888888888888,\"#b5de2b\"],[1.0,\"#fde725\"]],\"sequentialminus\":[[0.0,\"#440154\"],[0.1111111111111111,\"#482878\"],[0.2222222222222222,\"#3e4989\"],[0.3333333333333333,\"#31688e\"],[0.4444444444444444,\"#26828e\"],[0.5555555555555556,\"#1f9e89\"],[0.6666666666666666,\"#35b779\"],[0.7777777777777778,\"#6ece58\"],[0.8888888888888888,\"#b5de2b\"],[1.0,\"#fde725\"]]},\"colorway\":[\"#1F77B4\",\"#FF7F0E\",\"#2CA02C\",\"#D62728\",\"#9467BD\",\"#8C564B\",\"#E377C2\",\"#7F7F7F\",\"#BCBD22\",\"#17BECF\"],\"font\":{\"color\":\"rgb(36,36,36)\"},\"geo\":{\"bgcolor\":\"white\",\"lakecolor\":\"white\",\"landcolor\":\"white\",\"showlakes\":true,\"showland\":true,\"subunitcolor\":\"white\"},\"hoverlabel\":{\"align\":\"left\"},\"hovermode\":\"closest\",\"mapbox\":{\"style\":\"light\"},\"paper_bgcolor\":\"white\",\"plot_bgcolor\":\"white\",\"polar\":{\"angularaxis\":{\"gridcolor\":\"rgb(232,232,232)\",\"linecolor\":\"rgb(36,36,36)\",\"showgrid\":false,\"showline\":true,\"ticks\":\"outside\"},\"bgcolor\":\"white\",\"radialaxis\":{\"gridcolor\":\"rgb(232,232,232)\",\"linecolor\":\"rgb(36,36,36)\",\"showgrid\":false,\"showline\":true,\"ticks\":\"outside\"}},\"scene\":{\"xaxis\":{\"backgroundcolor\":\"white\",\"gridcolor\":\"rgb(232,232,232)\",\"gridwidth\":2,\"linecolor\":\"rgb(36,36,36)\",\"showbackground\":true,\"showgrid\":false,\"showline\":true,\"ticks\":\"outside\",\"zeroline\":false,\"zerolinecolor\":\"rgb(36,36,36)\"},\"yaxis\":{\"backgroundcolor\":\"white\",\"gridcolor\":\"rgb(232,232,232)\",\"gridwidth\":2,\"linecolor\":\"rgb(36,36,36)\",\"showbackground\":true,\"showgrid\":false,\"showline\":true,\"ticks\":\"outside\",\"zeroline\":false,\"zerolinecolor\":\"rgb(36,36,36)\"},\"zaxis\":{\"backgroundcolor\":\"white\",\"gridcolor\":\"rgb(232,232,232)\",\"gridwidth\":2,\"linecolor\":\"rgb(36,36,36)\",\"showbackground\":true,\"showgrid\":false,\"showline\":true,\"ticks\":\"outside\",\"zeroline\":false,\"zerolinecolor\":\"rgb(36,36,36)\"}},\"shapedefaults\":{\"fillcolor\":\"black\",\"line\":{\"width\":0},\"opacity\":0.3},\"ternary\":{\"aaxis\":{\"gridcolor\":\"rgb(232,232,232)\",\"linecolor\":\"rgb(36,36,36)\",\"showgrid\":false,\"showline\":true,\"ticks\":\"outside\"},\"baxis\":{\"gridcolor\":\"rgb(232,232,232)\",\"linecolor\":\"rgb(36,36,36)\",\"showgrid\":false,\"showline\":true,\"ticks\":\"outside\"},\"bgcolor\":\"white\",\"caxis\":{\"gridcolor\":\"rgb(232,232,232)\",\"linecolor\":\"rgb(36,36,36)\",\"showgrid\":false,\"showline\":true,\"ticks\":\"outside\"}},\"title\":{\"x\":0.05},\"xaxis\":{\"automargin\":true,\"gridcolor\":\"rgb(232,232,232)\",\"linecolor\":\"rgb(36,36,36)\",\"showgrid\":false,\"showline\":true,\"ticks\":\"outside\",\"title\":{\"standoff\":15},\"zeroline\":false,\"zerolinecolor\":\"rgb(36,36,36)\"},\"yaxis\":{\"automargin\":true,\"gridcolor\":\"rgb(232,232,232)\",\"linecolor\":\"rgb(36,36,36)\",\"showgrid\":false,\"showline\":true,\"ticks\":\"outside\",\"title\":{\"standoff\":15},\"zeroline\":false,\"zerolinecolor\":\"rgb(36,36,36)\"}}},\"title\":{\"font\":{\"size\":22,\"color\":\"Black\"},\"text\":\"<b>Topic Probability Distribution\",\"y\":0.95,\"x\":0.5,\"xanchor\":\"center\",\"yanchor\":\"top\"},\"hoverlabel\":{\"font\":{\"size\":16,\"family\":\"Rockwell\"},\"bgcolor\":\"white\"},\"xaxis\":{\"title\":{\"text\":\"Probability\"}},\"width\":800,\"height\":600},                        {\"responsive\": true}                    ).then(function(){\n",
       "                            \n",
       "var gd = document.getElementById('7690d1e5-0c30-47b4-bea4-85320dbe4435');\n",
       "var x = new MutationObserver(function (mutations, observer) {{\n",
       "        var display = window.getComputedStyle(gd).display;\n",
       "        if (!display || display === 'none') {{\n",
       "            console.log([gd, 'removed!']);\n",
       "            Plotly.purge(gd);\n",
       "            observer.disconnect();\n",
       "        }}\n",
       "}});\n",
       "\n",
       "// Listen for the removal of the full notebook cells\n",
       "var notebookContainer = gd.closest('#notebook-container');\n",
       "if (notebookContainer) {{\n",
       "    x.observe(notebookContainer, {childList: true});\n",
       "}}\n",
       "\n",
       "// Listen for the clearing of the current output cell\n",
       "var outputEl = gd.closest('.output');\n",
       "if (outputEl) {{\n",
       "    x.observe(outputEl, {childList: true});\n",
       "}}\n",
       "\n",
       "                        })                };                });            </script>        </div>"
      ]
     },
     "metadata": {},
     "output_type": "display_data"
    }
   ],
   "source": [
    "topic_model.visualize_distribution(probs[200], min_probability=0.015)"
   ]
  },
  {
   "cell_type": "code",
   "execution_count": 223,
   "id": "1454f0cd",
   "metadata": {},
   "outputs": [
    {
     "data": {
      "application/vnd.plotly.v1+json": {
       "config": {
        "plotlyServerURL": "https://plot.ly"
       },
       "data": [
        {
         "marker": {
          "color": "#D55E00"
         },
         "orientation": "h",
         "type": "bar",
         "x": [
          0.03131242436749301,
          0.031482342441817586,
          0.03676673115286255,
          0.04323805470495331,
          0.04600791441856734
         ],
         "xaxis": "x",
         "y": [
          "the  ",
          "for  ",
          "am  ",
          "and  ",
          "to  "
         ],
         "yaxis": "y"
        },
        {
         "marker": {
          "color": "#0072B2"
         },
         "orientation": "h",
         "type": "bar",
         "x": [
          0.034289131376342444,
          0.034904164312254904,
          0.03783936729905632,
          0.04931213092187302,
          0.05038905347690773
         ],
         "xaxis": "x2",
         "y": [
          "it  ",
          "and  ",
          "is  ",
          "to  ",
          "the  "
         ],
         "yaxis": "y2"
        },
        {
         "marker": {
          "color": "#CC79A7"
         },
         "orientation": "h",
         "type": "bar",
         "x": [
          0.03547234453922477,
          0.03848953182894298,
          0.03950297481437328,
          0.03954209545966701,
          0.04257647644066783
         ],
         "xaxis": "x3",
         "y": [
          "and  ",
          "it  ",
          "of  ",
          "to  ",
          "the  "
         ],
         "yaxis": "y3"
        },
        {
         "marker": {
          "color": "#E69F00"
         },
         "orientation": "h",
         "type": "bar",
         "x": [
          0.04015007251954487,
          0.041263886772831444,
          0.047921922084876,
          0.05387288385273657,
          0.07828062082901129
         ],
         "xaxis": "x4",
         "y": [
          "in  ",
          "of  ",
          "is  ",
          "the  ",
          "memory  "
         ],
         "yaxis": "y4"
        },
        {
         "marker": {
          "color": "#56B4E9"
         },
         "orientation": "h",
         "type": "bar",
         "x": [
          0.04197451628097435,
          0.04541345582991784,
          0.055766812255427047,
          0.059512180449698485,
          0.06130503145922914
         ],
         "xaxis": "x5",
         "y": [
          "of  ",
          "time  ",
          "is  ",
          "the  ",
          "complexity  "
         ],
         "yaxis": "y5"
        }
       ],
       "layout": {
        "annotations": [
         {
          "font": {
           "size": 16
          },
          "showarrow": false,
          "text": "Topic 0",
          "x": 0.0875,
          "xanchor": "center",
          "xref": "paper",
          "y": 1,
          "yanchor": "bottom",
          "yref": "paper"
         },
         {
          "font": {
           "size": 16
          },
          "showarrow": false,
          "text": "Topic 1",
          "x": 0.36250000000000004,
          "xanchor": "center",
          "xref": "paper",
          "y": 1,
          "yanchor": "bottom",
          "yref": "paper"
         },
         {
          "font": {
           "size": 16
          },
          "showarrow": false,
          "text": "Topic 2",
          "x": 0.6375000000000001,
          "xanchor": "center",
          "xref": "paper",
          "y": 1,
          "yanchor": "bottom",
          "yref": "paper"
         },
         {
          "font": {
           "size": 16
          },
          "showarrow": false,
          "text": "Topic 3",
          "x": 0.9125,
          "xanchor": "center",
          "xref": "paper",
          "y": 1,
          "yanchor": "bottom",
          "yref": "paper"
         },
         {
          "font": {
           "size": 16
          },
          "showarrow": false,
          "text": "Topic 4",
          "x": 0.0875,
          "xanchor": "center",
          "xref": "paper",
          "y": 0.4,
          "yanchor": "bottom",
          "yref": "paper"
         }
        ],
        "height": 500,
        "hoverlabel": {
         "bgcolor": "white",
         "font": {
          "family": "Rockwell",
          "size": 16
         }
        },
        "showlegend": false,
        "template": {
         "data": {
          "bar": [
           {
            "error_x": {
             "color": "#2a3f5f"
            },
            "error_y": {
             "color": "#2a3f5f"
            },
            "marker": {
             "line": {
              "color": "white",
              "width": 0.5
             },
             "pattern": {
              "fillmode": "overlay",
              "size": 10,
              "solidity": 0.2
             }
            },
            "type": "bar"
           }
          ],
          "barpolar": [
           {
            "marker": {
             "line": {
              "color": "white",
              "width": 0.5
             },
             "pattern": {
              "fillmode": "overlay",
              "size": 10,
              "solidity": 0.2
             }
            },
            "type": "barpolar"
           }
          ],
          "carpet": [
           {
            "aaxis": {
             "endlinecolor": "#2a3f5f",
             "gridcolor": "#C8D4E3",
             "linecolor": "#C8D4E3",
             "minorgridcolor": "#C8D4E3",
             "startlinecolor": "#2a3f5f"
            },
            "baxis": {
             "endlinecolor": "#2a3f5f",
             "gridcolor": "#C8D4E3",
             "linecolor": "#C8D4E3",
             "minorgridcolor": "#C8D4E3",
             "startlinecolor": "#2a3f5f"
            },
            "type": "carpet"
           }
          ],
          "choropleth": [
           {
            "colorbar": {
             "outlinewidth": 0,
             "ticks": ""
            },
            "type": "choropleth"
           }
          ],
          "contour": [
           {
            "colorbar": {
             "outlinewidth": 0,
             "ticks": ""
            },
            "colorscale": [
             [
              0,
              "#0d0887"
             ],
             [
              0.1111111111111111,
              "#46039f"
             ],
             [
              0.2222222222222222,
              "#7201a8"
             ],
             [
              0.3333333333333333,
              "#9c179e"
             ],
             [
              0.4444444444444444,
              "#bd3786"
             ],
             [
              0.5555555555555556,
              "#d8576b"
             ],
             [
              0.6666666666666666,
              "#ed7953"
             ],
             [
              0.7777777777777778,
              "#fb9f3a"
             ],
             [
              0.8888888888888888,
              "#fdca26"
             ],
             [
              1,
              "#f0f921"
             ]
            ],
            "type": "contour"
           }
          ],
          "contourcarpet": [
           {
            "colorbar": {
             "outlinewidth": 0,
             "ticks": ""
            },
            "type": "contourcarpet"
           }
          ],
          "heatmap": [
           {
            "colorbar": {
             "outlinewidth": 0,
             "ticks": ""
            },
            "colorscale": [
             [
              0,
              "#0d0887"
             ],
             [
              0.1111111111111111,
              "#46039f"
             ],
             [
              0.2222222222222222,
              "#7201a8"
             ],
             [
              0.3333333333333333,
              "#9c179e"
             ],
             [
              0.4444444444444444,
              "#bd3786"
             ],
             [
              0.5555555555555556,
              "#d8576b"
             ],
             [
              0.6666666666666666,
              "#ed7953"
             ],
             [
              0.7777777777777778,
              "#fb9f3a"
             ],
             [
              0.8888888888888888,
              "#fdca26"
             ],
             [
              1,
              "#f0f921"
             ]
            ],
            "type": "heatmap"
           }
          ],
          "heatmapgl": [
           {
            "colorbar": {
             "outlinewidth": 0,
             "ticks": ""
            },
            "colorscale": [
             [
              0,
              "#0d0887"
             ],
             [
              0.1111111111111111,
              "#46039f"
             ],
             [
              0.2222222222222222,
              "#7201a8"
             ],
             [
              0.3333333333333333,
              "#9c179e"
             ],
             [
              0.4444444444444444,
              "#bd3786"
             ],
             [
              0.5555555555555556,
              "#d8576b"
             ],
             [
              0.6666666666666666,
              "#ed7953"
             ],
             [
              0.7777777777777778,
              "#fb9f3a"
             ],
             [
              0.8888888888888888,
              "#fdca26"
             ],
             [
              1,
              "#f0f921"
             ]
            ],
            "type": "heatmapgl"
           }
          ],
          "histogram": [
           {
            "marker": {
             "pattern": {
              "fillmode": "overlay",
              "size": 10,
              "solidity": 0.2
             }
            },
            "type": "histogram"
           }
          ],
          "histogram2d": [
           {
            "colorbar": {
             "outlinewidth": 0,
             "ticks": ""
            },
            "colorscale": [
             [
              0,
              "#0d0887"
             ],
             [
              0.1111111111111111,
              "#46039f"
             ],
             [
              0.2222222222222222,
              "#7201a8"
             ],
             [
              0.3333333333333333,
              "#9c179e"
             ],
             [
              0.4444444444444444,
              "#bd3786"
             ],
             [
              0.5555555555555556,
              "#d8576b"
             ],
             [
              0.6666666666666666,
              "#ed7953"
             ],
             [
              0.7777777777777778,
              "#fb9f3a"
             ],
             [
              0.8888888888888888,
              "#fdca26"
             ],
             [
              1,
              "#f0f921"
             ]
            ],
            "type": "histogram2d"
           }
          ],
          "histogram2dcontour": [
           {
            "colorbar": {
             "outlinewidth": 0,
             "ticks": ""
            },
            "colorscale": [
             [
              0,
              "#0d0887"
             ],
             [
              0.1111111111111111,
              "#46039f"
             ],
             [
              0.2222222222222222,
              "#7201a8"
             ],
             [
              0.3333333333333333,
              "#9c179e"
             ],
             [
              0.4444444444444444,
              "#bd3786"
             ],
             [
              0.5555555555555556,
              "#d8576b"
             ],
             [
              0.6666666666666666,
              "#ed7953"
             ],
             [
              0.7777777777777778,
              "#fb9f3a"
             ],
             [
              0.8888888888888888,
              "#fdca26"
             ],
             [
              1,
              "#f0f921"
             ]
            ],
            "type": "histogram2dcontour"
           }
          ],
          "mesh3d": [
           {
            "colorbar": {
             "outlinewidth": 0,
             "ticks": ""
            },
            "type": "mesh3d"
           }
          ],
          "parcoords": [
           {
            "line": {
             "colorbar": {
              "outlinewidth": 0,
              "ticks": ""
             }
            },
            "type": "parcoords"
           }
          ],
          "pie": [
           {
            "automargin": true,
            "type": "pie"
           }
          ],
          "scatter": [
           {
            "marker": {
             "colorbar": {
              "outlinewidth": 0,
              "ticks": ""
             }
            },
            "type": "scatter"
           }
          ],
          "scatter3d": [
           {
            "line": {
             "colorbar": {
              "outlinewidth": 0,
              "ticks": ""
             }
            },
            "marker": {
             "colorbar": {
              "outlinewidth": 0,
              "ticks": ""
             }
            },
            "type": "scatter3d"
           }
          ],
          "scattercarpet": [
           {
            "marker": {
             "colorbar": {
              "outlinewidth": 0,
              "ticks": ""
             }
            },
            "type": "scattercarpet"
           }
          ],
          "scattergeo": [
           {
            "marker": {
             "colorbar": {
              "outlinewidth": 0,
              "ticks": ""
             }
            },
            "type": "scattergeo"
           }
          ],
          "scattergl": [
           {
            "marker": {
             "colorbar": {
              "outlinewidth": 0,
              "ticks": ""
             }
            },
            "type": "scattergl"
           }
          ],
          "scattermapbox": [
           {
            "marker": {
             "colorbar": {
              "outlinewidth": 0,
              "ticks": ""
             }
            },
            "type": "scattermapbox"
           }
          ],
          "scatterpolar": [
           {
            "marker": {
             "colorbar": {
              "outlinewidth": 0,
              "ticks": ""
             }
            },
            "type": "scatterpolar"
           }
          ],
          "scatterpolargl": [
           {
            "marker": {
             "colorbar": {
              "outlinewidth": 0,
              "ticks": ""
             }
            },
            "type": "scatterpolargl"
           }
          ],
          "scatterternary": [
           {
            "marker": {
             "colorbar": {
              "outlinewidth": 0,
              "ticks": ""
             }
            },
            "type": "scatterternary"
           }
          ],
          "surface": [
           {
            "colorbar": {
             "outlinewidth": 0,
             "ticks": ""
            },
            "colorscale": [
             [
              0,
              "#0d0887"
             ],
             [
              0.1111111111111111,
              "#46039f"
             ],
             [
              0.2222222222222222,
              "#7201a8"
             ],
             [
              0.3333333333333333,
              "#9c179e"
             ],
             [
              0.4444444444444444,
              "#bd3786"
             ],
             [
              0.5555555555555556,
              "#d8576b"
             ],
             [
              0.6666666666666666,
              "#ed7953"
             ],
             [
              0.7777777777777778,
              "#fb9f3a"
             ],
             [
              0.8888888888888888,
              "#fdca26"
             ],
             [
              1,
              "#f0f921"
             ]
            ],
            "type": "surface"
           }
          ],
          "table": [
           {
            "cells": {
             "fill": {
              "color": "#EBF0F8"
             },
             "line": {
              "color": "white"
             }
            },
            "header": {
             "fill": {
              "color": "#C8D4E3"
             },
             "line": {
              "color": "white"
             }
            },
            "type": "table"
           }
          ]
         },
         "layout": {
          "annotationdefaults": {
           "arrowcolor": "#2a3f5f",
           "arrowhead": 0,
           "arrowwidth": 1
          },
          "autotypenumbers": "strict",
          "coloraxis": {
           "colorbar": {
            "outlinewidth": 0,
            "ticks": ""
           }
          },
          "colorscale": {
           "diverging": [
            [
             0,
             "#8e0152"
            ],
            [
             0.1,
             "#c51b7d"
            ],
            [
             0.2,
             "#de77ae"
            ],
            [
             0.3,
             "#f1b6da"
            ],
            [
             0.4,
             "#fde0ef"
            ],
            [
             0.5,
             "#f7f7f7"
            ],
            [
             0.6,
             "#e6f5d0"
            ],
            [
             0.7,
             "#b8e186"
            ],
            [
             0.8,
             "#7fbc41"
            ],
            [
             0.9,
             "#4d9221"
            ],
            [
             1,
             "#276419"
            ]
           ],
           "sequential": [
            [
             0,
             "#0d0887"
            ],
            [
             0.1111111111111111,
             "#46039f"
            ],
            [
             0.2222222222222222,
             "#7201a8"
            ],
            [
             0.3333333333333333,
             "#9c179e"
            ],
            [
             0.4444444444444444,
             "#bd3786"
            ],
            [
             0.5555555555555556,
             "#d8576b"
            ],
            [
             0.6666666666666666,
             "#ed7953"
            ],
            [
             0.7777777777777778,
             "#fb9f3a"
            ],
            [
             0.8888888888888888,
             "#fdca26"
            ],
            [
             1,
             "#f0f921"
            ]
           ],
           "sequentialminus": [
            [
             0,
             "#0d0887"
            ],
            [
             0.1111111111111111,
             "#46039f"
            ],
            [
             0.2222222222222222,
             "#7201a8"
            ],
            [
             0.3333333333333333,
             "#9c179e"
            ],
            [
             0.4444444444444444,
             "#bd3786"
            ],
            [
             0.5555555555555556,
             "#d8576b"
            ],
            [
             0.6666666666666666,
             "#ed7953"
            ],
            [
             0.7777777777777778,
             "#fb9f3a"
            ],
            [
             0.8888888888888888,
             "#fdca26"
            ],
            [
             1,
             "#f0f921"
            ]
           ]
          },
          "colorway": [
           "#636efa",
           "#EF553B",
           "#00cc96",
           "#ab63fa",
           "#FFA15A",
           "#19d3f3",
           "#FF6692",
           "#B6E880",
           "#FF97FF",
           "#FECB52"
          ],
          "font": {
           "color": "#2a3f5f"
          },
          "geo": {
           "bgcolor": "white",
           "lakecolor": "white",
           "landcolor": "white",
           "showlakes": true,
           "showland": true,
           "subunitcolor": "#C8D4E3"
          },
          "hoverlabel": {
           "align": "left"
          },
          "hovermode": "closest",
          "mapbox": {
           "style": "light"
          },
          "paper_bgcolor": "white",
          "plot_bgcolor": "white",
          "polar": {
           "angularaxis": {
            "gridcolor": "#EBF0F8",
            "linecolor": "#EBF0F8",
            "ticks": ""
           },
           "bgcolor": "white",
           "radialaxis": {
            "gridcolor": "#EBF0F8",
            "linecolor": "#EBF0F8",
            "ticks": ""
           }
          },
          "scene": {
           "xaxis": {
            "backgroundcolor": "white",
            "gridcolor": "#DFE8F3",
            "gridwidth": 2,
            "linecolor": "#EBF0F8",
            "showbackground": true,
            "ticks": "",
            "zerolinecolor": "#EBF0F8"
           },
           "yaxis": {
            "backgroundcolor": "white",
            "gridcolor": "#DFE8F3",
            "gridwidth": 2,
            "linecolor": "#EBF0F8",
            "showbackground": true,
            "ticks": "",
            "zerolinecolor": "#EBF0F8"
           },
           "zaxis": {
            "backgroundcolor": "white",
            "gridcolor": "#DFE8F3",
            "gridwidth": 2,
            "linecolor": "#EBF0F8",
            "showbackground": true,
            "ticks": "",
            "zerolinecolor": "#EBF0F8"
           }
          },
          "shapedefaults": {
           "line": {
            "color": "#2a3f5f"
           }
          },
          "ternary": {
           "aaxis": {
            "gridcolor": "#DFE8F3",
            "linecolor": "#A2B1C6",
            "ticks": ""
           },
           "baxis": {
            "gridcolor": "#DFE8F3",
            "linecolor": "#A2B1C6",
            "ticks": ""
           },
           "bgcolor": "white",
           "caxis": {
            "gridcolor": "#DFE8F3",
            "linecolor": "#A2B1C6",
            "ticks": ""
           }
          },
          "title": {
           "x": 0.05
          },
          "xaxis": {
           "automargin": true,
           "gridcolor": "#EBF0F8",
           "linecolor": "#EBF0F8",
           "ticks": "",
           "title": {
            "standoff": 15
           },
           "zerolinecolor": "#EBF0F8",
           "zerolinewidth": 2
          },
          "yaxis": {
           "automargin": true,
           "gridcolor": "#EBF0F8",
           "linecolor": "#EBF0F8",
           "ticks": "",
           "title": {
            "standoff": 15
           },
           "zerolinecolor": "#EBF0F8",
           "zerolinewidth": 2
          }
         }
        },
        "title": {
         "font": {
          "color": "Black",
          "size": 22
         },
         "text": "<b>Topic Word Scores",
         "x": 0.5,
         "xanchor": "center",
         "yanchor": "top"
        },
        "width": 1000,
        "xaxis": {
         "anchor": "y",
         "domain": [
          0,
          0.175
         ],
         "showgrid": true
        },
        "xaxis2": {
         "anchor": "y2",
         "domain": [
          0.275,
          0.45
         ],
         "showgrid": true
        },
        "xaxis3": {
         "anchor": "y3",
         "domain": [
          0.55,
          0.7250000000000001
         ],
         "showgrid": true
        },
        "xaxis4": {
         "anchor": "y4",
         "domain": [
          0.825,
          1
         ],
         "showgrid": true
        },
        "xaxis5": {
         "anchor": "y5",
         "domain": [
          0,
          0.175
         ],
         "showgrid": true
        },
        "xaxis6": {
         "anchor": "y6",
         "domain": [
          0.275,
          0.45
         ],
         "showgrid": true
        },
        "xaxis7": {
         "anchor": "y7",
         "domain": [
          0.55,
          0.7250000000000001
         ],
         "showgrid": true
        },
        "xaxis8": {
         "anchor": "y8",
         "domain": [
          0.825,
          1
         ],
         "showgrid": true
        },
        "yaxis": {
         "anchor": "x",
         "domain": [
          0.6000000000000001,
          1
         ],
         "showgrid": true
        },
        "yaxis2": {
         "anchor": "x2",
         "domain": [
          0.6000000000000001,
          1
         ],
         "showgrid": true
        },
        "yaxis3": {
         "anchor": "x3",
         "domain": [
          0.6000000000000001,
          1
         ],
         "showgrid": true
        },
        "yaxis4": {
         "anchor": "x4",
         "domain": [
          0.6000000000000001,
          1
         ],
         "showgrid": true
        },
        "yaxis5": {
         "anchor": "x5",
         "domain": [
          0,
          0.4
         ],
         "showgrid": true
        },
        "yaxis6": {
         "anchor": "x6",
         "domain": [
          0,
          0.4
         ],
         "showgrid": true
        },
        "yaxis7": {
         "anchor": "x7",
         "domain": [
          0,
          0.4
         ],
         "showgrid": true
        },
        "yaxis8": {
         "anchor": "x8",
         "domain": [
          0,
          0.4
         ],
         "showgrid": true
        }
       }
      },
      "text/html": [
       "<div>                            <div id=\"f859feae-02e3-4d36-9b40-e357508de861\" class=\"plotly-graph-div\" style=\"height:500px; width:1000px;\"></div>            <script type=\"text/javascript\">                require([\"plotly\"], function(Plotly) {                    window.PLOTLYENV=window.PLOTLYENV || {};                                    if (document.getElementById(\"f859feae-02e3-4d36-9b40-e357508de861\")) {                    Plotly.newPlot(                        \"f859feae-02e3-4d36-9b40-e357508de861\",                        [{\"marker\":{\"color\":\"#D55E00\"},\"orientation\":\"h\",\"x\":[0.03131242436749301,0.031482342441817586,0.03676673115286255,0.04323805470495331,0.04600791441856734],\"y\":[\"the  \",\"for  \",\"am  \",\"and  \",\"to  \"],\"type\":\"bar\",\"xaxis\":\"x\",\"yaxis\":\"y\"},{\"marker\":{\"color\":\"#0072B2\"},\"orientation\":\"h\",\"x\":[0.034289131376342444,0.034904164312254904,0.03783936729905632,0.04931213092187302,0.05038905347690773],\"y\":[\"it  \",\"and  \",\"is  \",\"to  \",\"the  \"],\"type\":\"bar\",\"xaxis\":\"x2\",\"yaxis\":\"y2\"},{\"marker\":{\"color\":\"#CC79A7\"},\"orientation\":\"h\",\"x\":[0.03547234453922477,0.03848953182894298,0.03950297481437328,0.03954209545966701,0.04257647644066783],\"y\":[\"and  \",\"it  \",\"of  \",\"to  \",\"the  \"],\"type\":\"bar\",\"xaxis\":\"x3\",\"yaxis\":\"y3\"},{\"marker\":{\"color\":\"#E69F00\"},\"orientation\":\"h\",\"x\":[0.04015007251954487,0.041263886772831444,0.047921922084876,0.05387288385273657,0.07828062082901129],\"y\":[\"in  \",\"of  \",\"is  \",\"the  \",\"memory  \"],\"type\":\"bar\",\"xaxis\":\"x4\",\"yaxis\":\"y4\"},{\"marker\":{\"color\":\"#56B4E9\"},\"orientation\":\"h\",\"x\":[0.04197451628097435,0.04541345582991784,0.055766812255427047,0.059512180449698485,0.06130503145922914],\"y\":[\"of  \",\"time  \",\"is  \",\"the  \",\"complexity  \"],\"type\":\"bar\",\"xaxis\":\"x5\",\"yaxis\":\"y5\"}],                        {\"template\":{\"data\":{\"barpolar\":[{\"marker\":{\"line\":{\"color\":\"white\",\"width\":0.5},\"pattern\":{\"fillmode\":\"overlay\",\"size\":10,\"solidity\":0.2}},\"type\":\"barpolar\"}],\"bar\":[{\"error_x\":{\"color\":\"#2a3f5f\"},\"error_y\":{\"color\":\"#2a3f5f\"},\"marker\":{\"line\":{\"color\":\"white\",\"width\":0.5},\"pattern\":{\"fillmode\":\"overlay\",\"size\":10,\"solidity\":0.2}},\"type\":\"bar\"}],\"carpet\":[{\"aaxis\":{\"endlinecolor\":\"#2a3f5f\",\"gridcolor\":\"#C8D4E3\",\"linecolor\":\"#C8D4E3\",\"minorgridcolor\":\"#C8D4E3\",\"startlinecolor\":\"#2a3f5f\"},\"baxis\":{\"endlinecolor\":\"#2a3f5f\",\"gridcolor\":\"#C8D4E3\",\"linecolor\":\"#C8D4E3\",\"minorgridcolor\":\"#C8D4E3\",\"startlinecolor\":\"#2a3f5f\"},\"type\":\"carpet\"}],\"choropleth\":[{\"colorbar\":{\"outlinewidth\":0,\"ticks\":\"\"},\"type\":\"choropleth\"}],\"contourcarpet\":[{\"colorbar\":{\"outlinewidth\":0,\"ticks\":\"\"},\"type\":\"contourcarpet\"}],\"contour\":[{\"colorbar\":{\"outlinewidth\":0,\"ticks\":\"\"},\"colorscale\":[[0.0,\"#0d0887\"],[0.1111111111111111,\"#46039f\"],[0.2222222222222222,\"#7201a8\"],[0.3333333333333333,\"#9c179e\"],[0.4444444444444444,\"#bd3786\"],[0.5555555555555556,\"#d8576b\"],[0.6666666666666666,\"#ed7953\"],[0.7777777777777778,\"#fb9f3a\"],[0.8888888888888888,\"#fdca26\"],[1.0,\"#f0f921\"]],\"type\":\"contour\"}],\"heatmapgl\":[{\"colorbar\":{\"outlinewidth\":0,\"ticks\":\"\"},\"colorscale\":[[0.0,\"#0d0887\"],[0.1111111111111111,\"#46039f\"],[0.2222222222222222,\"#7201a8\"],[0.3333333333333333,\"#9c179e\"],[0.4444444444444444,\"#bd3786\"],[0.5555555555555556,\"#d8576b\"],[0.6666666666666666,\"#ed7953\"],[0.7777777777777778,\"#fb9f3a\"],[0.8888888888888888,\"#fdca26\"],[1.0,\"#f0f921\"]],\"type\":\"heatmapgl\"}],\"heatmap\":[{\"colorbar\":{\"outlinewidth\":0,\"ticks\":\"\"},\"colorscale\":[[0.0,\"#0d0887\"],[0.1111111111111111,\"#46039f\"],[0.2222222222222222,\"#7201a8\"],[0.3333333333333333,\"#9c179e\"],[0.4444444444444444,\"#bd3786\"],[0.5555555555555556,\"#d8576b\"],[0.6666666666666666,\"#ed7953\"],[0.7777777777777778,\"#fb9f3a\"],[0.8888888888888888,\"#fdca26\"],[1.0,\"#f0f921\"]],\"type\":\"heatmap\"}],\"histogram2dcontour\":[{\"colorbar\":{\"outlinewidth\":0,\"ticks\":\"\"},\"colorscale\":[[0.0,\"#0d0887\"],[0.1111111111111111,\"#46039f\"],[0.2222222222222222,\"#7201a8\"],[0.3333333333333333,\"#9c179e\"],[0.4444444444444444,\"#bd3786\"],[0.5555555555555556,\"#d8576b\"],[0.6666666666666666,\"#ed7953\"],[0.7777777777777778,\"#fb9f3a\"],[0.8888888888888888,\"#fdca26\"],[1.0,\"#f0f921\"]],\"type\":\"histogram2dcontour\"}],\"histogram2d\":[{\"colorbar\":{\"outlinewidth\":0,\"ticks\":\"\"},\"colorscale\":[[0.0,\"#0d0887\"],[0.1111111111111111,\"#46039f\"],[0.2222222222222222,\"#7201a8\"],[0.3333333333333333,\"#9c179e\"],[0.4444444444444444,\"#bd3786\"],[0.5555555555555556,\"#d8576b\"],[0.6666666666666666,\"#ed7953\"],[0.7777777777777778,\"#fb9f3a\"],[0.8888888888888888,\"#fdca26\"],[1.0,\"#f0f921\"]],\"type\":\"histogram2d\"}],\"histogram\":[{\"marker\":{\"pattern\":{\"fillmode\":\"overlay\",\"size\":10,\"solidity\":0.2}},\"type\":\"histogram\"}],\"mesh3d\":[{\"colorbar\":{\"outlinewidth\":0,\"ticks\":\"\"},\"type\":\"mesh3d\"}],\"parcoords\":[{\"line\":{\"colorbar\":{\"outlinewidth\":0,\"ticks\":\"\"}},\"type\":\"parcoords\"}],\"pie\":[{\"automargin\":true,\"type\":\"pie\"}],\"scatter3d\":[{\"line\":{\"colorbar\":{\"outlinewidth\":0,\"ticks\":\"\"}},\"marker\":{\"colorbar\":{\"outlinewidth\":0,\"ticks\":\"\"}},\"type\":\"scatter3d\"}],\"scattercarpet\":[{\"marker\":{\"colorbar\":{\"outlinewidth\":0,\"ticks\":\"\"}},\"type\":\"scattercarpet\"}],\"scattergeo\":[{\"marker\":{\"colorbar\":{\"outlinewidth\":0,\"ticks\":\"\"}},\"type\":\"scattergeo\"}],\"scattergl\":[{\"marker\":{\"colorbar\":{\"outlinewidth\":0,\"ticks\":\"\"}},\"type\":\"scattergl\"}],\"scattermapbox\":[{\"marker\":{\"colorbar\":{\"outlinewidth\":0,\"ticks\":\"\"}},\"type\":\"scattermapbox\"}],\"scatterpolargl\":[{\"marker\":{\"colorbar\":{\"outlinewidth\":0,\"ticks\":\"\"}},\"type\":\"scatterpolargl\"}],\"scatterpolar\":[{\"marker\":{\"colorbar\":{\"outlinewidth\":0,\"ticks\":\"\"}},\"type\":\"scatterpolar\"}],\"scatter\":[{\"marker\":{\"colorbar\":{\"outlinewidth\":0,\"ticks\":\"\"}},\"type\":\"scatter\"}],\"scatterternary\":[{\"marker\":{\"colorbar\":{\"outlinewidth\":0,\"ticks\":\"\"}},\"type\":\"scatterternary\"}],\"surface\":[{\"colorbar\":{\"outlinewidth\":0,\"ticks\":\"\"},\"colorscale\":[[0.0,\"#0d0887\"],[0.1111111111111111,\"#46039f\"],[0.2222222222222222,\"#7201a8\"],[0.3333333333333333,\"#9c179e\"],[0.4444444444444444,\"#bd3786\"],[0.5555555555555556,\"#d8576b\"],[0.6666666666666666,\"#ed7953\"],[0.7777777777777778,\"#fb9f3a\"],[0.8888888888888888,\"#fdca26\"],[1.0,\"#f0f921\"]],\"type\":\"surface\"}],\"table\":[{\"cells\":{\"fill\":{\"color\":\"#EBF0F8\"},\"line\":{\"color\":\"white\"}},\"header\":{\"fill\":{\"color\":\"#C8D4E3\"},\"line\":{\"color\":\"white\"}},\"type\":\"table\"}]},\"layout\":{\"annotationdefaults\":{\"arrowcolor\":\"#2a3f5f\",\"arrowhead\":0,\"arrowwidth\":1},\"autotypenumbers\":\"strict\",\"coloraxis\":{\"colorbar\":{\"outlinewidth\":0,\"ticks\":\"\"}},\"colorscale\":{\"diverging\":[[0,\"#8e0152\"],[0.1,\"#c51b7d\"],[0.2,\"#de77ae\"],[0.3,\"#f1b6da\"],[0.4,\"#fde0ef\"],[0.5,\"#f7f7f7\"],[0.6,\"#e6f5d0\"],[0.7,\"#b8e186\"],[0.8,\"#7fbc41\"],[0.9,\"#4d9221\"],[1,\"#276419\"]],\"sequential\":[[0.0,\"#0d0887\"],[0.1111111111111111,\"#46039f\"],[0.2222222222222222,\"#7201a8\"],[0.3333333333333333,\"#9c179e\"],[0.4444444444444444,\"#bd3786\"],[0.5555555555555556,\"#d8576b\"],[0.6666666666666666,\"#ed7953\"],[0.7777777777777778,\"#fb9f3a\"],[0.8888888888888888,\"#fdca26\"],[1.0,\"#f0f921\"]],\"sequentialminus\":[[0.0,\"#0d0887\"],[0.1111111111111111,\"#46039f\"],[0.2222222222222222,\"#7201a8\"],[0.3333333333333333,\"#9c179e\"],[0.4444444444444444,\"#bd3786\"],[0.5555555555555556,\"#d8576b\"],[0.6666666666666666,\"#ed7953\"],[0.7777777777777778,\"#fb9f3a\"],[0.8888888888888888,\"#fdca26\"],[1.0,\"#f0f921\"]]},\"colorway\":[\"#636efa\",\"#EF553B\",\"#00cc96\",\"#ab63fa\",\"#FFA15A\",\"#19d3f3\",\"#FF6692\",\"#B6E880\",\"#FF97FF\",\"#FECB52\"],\"font\":{\"color\":\"#2a3f5f\"},\"geo\":{\"bgcolor\":\"white\",\"lakecolor\":\"white\",\"landcolor\":\"white\",\"showlakes\":true,\"showland\":true,\"subunitcolor\":\"#C8D4E3\"},\"hoverlabel\":{\"align\":\"left\"},\"hovermode\":\"closest\",\"mapbox\":{\"style\":\"light\"},\"paper_bgcolor\":\"white\",\"plot_bgcolor\":\"white\",\"polar\":{\"angularaxis\":{\"gridcolor\":\"#EBF0F8\",\"linecolor\":\"#EBF0F8\",\"ticks\":\"\"},\"bgcolor\":\"white\",\"radialaxis\":{\"gridcolor\":\"#EBF0F8\",\"linecolor\":\"#EBF0F8\",\"ticks\":\"\"}},\"scene\":{\"xaxis\":{\"backgroundcolor\":\"white\",\"gridcolor\":\"#DFE8F3\",\"gridwidth\":2,\"linecolor\":\"#EBF0F8\",\"showbackground\":true,\"ticks\":\"\",\"zerolinecolor\":\"#EBF0F8\"},\"yaxis\":{\"backgroundcolor\":\"white\",\"gridcolor\":\"#DFE8F3\",\"gridwidth\":2,\"linecolor\":\"#EBF0F8\",\"showbackground\":true,\"ticks\":\"\",\"zerolinecolor\":\"#EBF0F8\"},\"zaxis\":{\"backgroundcolor\":\"white\",\"gridcolor\":\"#DFE8F3\",\"gridwidth\":2,\"linecolor\":\"#EBF0F8\",\"showbackground\":true,\"ticks\":\"\",\"zerolinecolor\":\"#EBF0F8\"}},\"shapedefaults\":{\"line\":{\"color\":\"#2a3f5f\"}},\"ternary\":{\"aaxis\":{\"gridcolor\":\"#DFE8F3\",\"linecolor\":\"#A2B1C6\",\"ticks\":\"\"},\"baxis\":{\"gridcolor\":\"#DFE8F3\",\"linecolor\":\"#A2B1C6\",\"ticks\":\"\"},\"bgcolor\":\"white\",\"caxis\":{\"gridcolor\":\"#DFE8F3\",\"linecolor\":\"#A2B1C6\",\"ticks\":\"\"}},\"title\":{\"x\":0.05},\"xaxis\":{\"automargin\":true,\"gridcolor\":\"#EBF0F8\",\"linecolor\":\"#EBF0F8\",\"ticks\":\"\",\"title\":{\"standoff\":15},\"zerolinecolor\":\"#EBF0F8\",\"zerolinewidth\":2},\"yaxis\":{\"automargin\":true,\"gridcolor\":\"#EBF0F8\",\"linecolor\":\"#EBF0F8\",\"ticks\":\"\",\"title\":{\"standoff\":15},\"zerolinecolor\":\"#EBF0F8\",\"zerolinewidth\":2}}},\"xaxis\":{\"anchor\":\"y\",\"domain\":[0.0,0.175],\"showgrid\":true},\"yaxis\":{\"anchor\":\"x\",\"domain\":[0.6000000000000001,1.0],\"showgrid\":true},\"xaxis2\":{\"anchor\":\"y2\",\"domain\":[0.275,0.45],\"showgrid\":true},\"yaxis2\":{\"anchor\":\"x2\",\"domain\":[0.6000000000000001,1.0],\"showgrid\":true},\"xaxis3\":{\"anchor\":\"y3\",\"domain\":[0.55,0.7250000000000001],\"showgrid\":true},\"yaxis3\":{\"anchor\":\"x3\",\"domain\":[0.6000000000000001,1.0],\"showgrid\":true},\"xaxis4\":{\"anchor\":\"y4\",\"domain\":[0.825,1.0],\"showgrid\":true},\"yaxis4\":{\"anchor\":\"x4\",\"domain\":[0.6000000000000001,1.0],\"showgrid\":true},\"xaxis5\":{\"anchor\":\"y5\",\"domain\":[0.0,0.175],\"showgrid\":true},\"yaxis5\":{\"anchor\":\"x5\",\"domain\":[0.0,0.4],\"showgrid\":true},\"xaxis6\":{\"anchor\":\"y6\",\"domain\":[0.275,0.45],\"showgrid\":true},\"yaxis6\":{\"anchor\":\"x6\",\"domain\":[0.0,0.4],\"showgrid\":true},\"xaxis7\":{\"anchor\":\"y7\",\"domain\":[0.55,0.7250000000000001],\"showgrid\":true},\"yaxis7\":{\"anchor\":\"x7\",\"domain\":[0.0,0.4],\"showgrid\":true},\"xaxis8\":{\"anchor\":\"y8\",\"domain\":[0.825,1.0],\"showgrid\":true},\"yaxis8\":{\"anchor\":\"x8\",\"domain\":[0.0,0.4],\"showgrid\":true},\"annotations\":[{\"font\":{\"size\":16},\"showarrow\":false,\"text\":\"Topic 0\",\"x\":0.0875,\"xanchor\":\"center\",\"xref\":\"paper\",\"y\":1.0,\"yanchor\":\"bottom\",\"yref\":\"paper\"},{\"font\":{\"size\":16},\"showarrow\":false,\"text\":\"Topic 1\",\"x\":0.36250000000000004,\"xanchor\":\"center\",\"xref\":\"paper\",\"y\":1.0,\"yanchor\":\"bottom\",\"yref\":\"paper\"},{\"font\":{\"size\":16},\"showarrow\":false,\"text\":\"Topic 2\",\"x\":0.6375000000000001,\"xanchor\":\"center\",\"xref\":\"paper\",\"y\":1.0,\"yanchor\":\"bottom\",\"yref\":\"paper\"},{\"font\":{\"size\":16},\"showarrow\":false,\"text\":\"Topic 3\",\"x\":0.9125,\"xanchor\":\"center\",\"xref\":\"paper\",\"y\":1.0,\"yanchor\":\"bottom\",\"yref\":\"paper\"},{\"font\":{\"size\":16},\"showarrow\":false,\"text\":\"Topic 4\",\"x\":0.0875,\"xanchor\":\"center\",\"xref\":\"paper\",\"y\":0.4,\"yanchor\":\"bottom\",\"yref\":\"paper\"}],\"title\":{\"font\":{\"size\":22,\"color\":\"Black\"},\"text\":\"<b>Topic Word Scores\",\"x\":0.5,\"xanchor\":\"center\",\"yanchor\":\"top\"},\"hoverlabel\":{\"font\":{\"size\":16,\"family\":\"Rockwell\"},\"bgcolor\":\"white\"},\"showlegend\":false,\"width\":1000,\"height\":500},                        {\"responsive\": true}                    ).then(function(){\n",
       "                            \n",
       "var gd = document.getElementById('f859feae-02e3-4d36-9b40-e357508de861');\n",
       "var x = new MutationObserver(function (mutations, observer) {{\n",
       "        var display = window.getComputedStyle(gd).display;\n",
       "        if (!display || display === 'none') {{\n",
       "            console.log([gd, 'removed!']);\n",
       "            Plotly.purge(gd);\n",
       "            observer.disconnect();\n",
       "        }}\n",
       "}});\n",
       "\n",
       "// Listen for the removal of the full notebook cells\n",
       "var notebookContainer = gd.closest('#notebook-container');\n",
       "if (notebookContainer) {{\n",
       "    x.observe(notebookContainer, {childList: true});\n",
       "}}\n",
       "\n",
       "// Listen for the clearing of the current output cell\n",
       "var outputEl = gd.closest('.output');\n",
       "if (outputEl) {{\n",
       "    x.observe(outputEl, {childList: true});\n",
       "}}\n",
       "\n",
       "                        })                };                });            </script>        </div>"
      ]
     },
     "metadata": {},
     "output_type": "display_data"
    }
   ],
   "source": [
    "topic_model.visualize_barchart(top_n_topics=5)"
   ]
  },
  {
   "cell_type": "markdown",
   "id": "979d4a09",
   "metadata": {},
   "source": [
    "**The topics are meaningless and contain a lot of stopwords showing as most important, this could be due to there being less words in each post resulting in more importance for more frequent stopwords. Let's preprocess the body further before using BERTopic**"
   ]
  },
  {
   "cell_type": "code",
   "execution_count": 167,
   "id": "d4bf4d03",
   "metadata": {},
   "outputs": [
    {
     "data": {
      "text/html": [
       "<div>\n",
       "<style scoped>\n",
       "    .dataframe tbody tr th:only-of-type {\n",
       "        vertical-align: middle;\n",
       "    }\n",
       "\n",
       "    .dataframe tbody tr th {\n",
       "        vertical-align: top;\n",
       "    }\n",
       "\n",
       "    .dataframe thead th {\n",
       "        text-align: right;\n",
       "    }\n",
       "</style>\n",
       "<table border=\"1\" class=\"dataframe\">\n",
       "  <thead>\n",
       "    <tr style=\"text-align: right;\">\n",
       "      <th></th>\n",
       "      <th>index</th>\n",
       "      <th>post_id</th>\n",
       "      <th>score</th>\n",
       "      <th>upvote_ratio</th>\n",
       "      <th>num_comments</th>\n",
       "      <th>body</th>\n",
       "      <th>body_length</th>\n",
       "    </tr>\n",
       "  </thead>\n",
       "  <tbody>\n",
       "    <tr>\n",
       "      <th>0</th>\n",
       "      <td>0</td>\n",
       "      <td>sko30v</td>\n",
       "      <td>0</td>\n",
       "      <td>0.50</td>\n",
       "      <td>0</td>\n",
       "      <td>Hello! I am trying to create a dictionary appl...</td>\n",
       "      <td>56</td>\n",
       "    </tr>\n",
       "    <tr>\n",
       "      <th>1</th>\n",
       "      <td>2</td>\n",
       "      <td>skltie</td>\n",
       "      <td>8</td>\n",
       "      <td>1.00</td>\n",
       "      <td>1</td>\n",
       "      <td>I do not have a background in optimization and...</td>\n",
       "      <td>548</td>\n",
       "    </tr>\n",
       "    <tr>\n",
       "      <th>2</th>\n",
       "      <td>3</td>\n",
       "      <td>sklhet</td>\n",
       "      <td>0</td>\n",
       "      <td>0.25</td>\n",
       "      <td>9</td>\n",
       "      <td>How to I get my code to a stand-alone computer...</td>\n",
       "      <td>24</td>\n",
       "    </tr>\n",
       "    <tr>\n",
       "      <th>3</th>\n",
       "      <td>4</td>\n",
       "      <td>skkubm</td>\n",
       "      <td>0</td>\n",
       "      <td>0.33</td>\n",
       "      <td>7</td>\n",
       "      <td>I Am 26. As a candidate international student,...</td>\n",
       "      <td>34</td>\n",
       "    </tr>\n",
       "    <tr>\n",
       "      <th>4</th>\n",
       "      <td>5</td>\n",
       "      <td>skkkmf</td>\n",
       "      <td>1</td>\n",
       "      <td>1.00</td>\n",
       "      <td>4</td>\n",
       "      <td>If we ran 10,000,000 cycles would we see a mil...</td>\n",
       "      <td>19</td>\n",
       "    </tr>\n",
       "    <tr>\n",
       "      <th>...</th>\n",
       "      <td>...</td>\n",
       "      <td>...</td>\n",
       "      <td>...</td>\n",
       "      <td>...</td>\n",
       "      <td>...</td>\n",
       "      <td>...</td>\n",
       "      <td>...</td>\n",
       "    </tr>\n",
       "    <tr>\n",
       "      <th>673</th>\n",
       "      <td>834</td>\n",
       "      <td>otb7nh</td>\n",
       "      <td>25</td>\n",
       "      <td>0.93</td>\n",
       "      <td>5</td>\n",
       "      <td>In [this AWS Builder's Library post](-library/...</td>\n",
       "      <td>269</td>\n",
       "    </tr>\n",
       "    <tr>\n",
       "      <th>674</th>\n",
       "      <td>835</td>\n",
       "      <td>ot25cm</td>\n",
       "      <td>42</td>\n",
       "      <td>0.94</td>\n",
       "      <td>11</td>\n",
       "      <td>Hi all, I do not know if this is the right pla...</td>\n",
       "      <td>151</td>\n",
       "    </tr>\n",
       "    <tr>\n",
       "      <th>675</th>\n",
       "      <td>836</td>\n",
       "      <td>osxojq</td>\n",
       "      <td>0</td>\n",
       "      <td>0.44</td>\n",
       "      <td>4</td>\n",
       "      <td>I am assuming there are many ways to learn the...</td>\n",
       "      <td>106</td>\n",
       "    </tr>\n",
       "    <tr>\n",
       "      <th>676</th>\n",
       "      <td>837</td>\n",
       "      <td>osn6iv</td>\n",
       "      <td>0</td>\n",
       "      <td>0.31</td>\n",
       "      <td>6</td>\n",
       "      <td>I will soon start my graduate software enginee...</td>\n",
       "      <td>72</td>\n",
       "    </tr>\n",
       "    <tr>\n",
       "      <th>677</th>\n",
       "      <td>838</td>\n",
       "      <td>oscvji</td>\n",
       "      <td>0</td>\n",
       "      <td>0.50</td>\n",
       "      <td>2</td>\n",
       "      <td>Hey, I am a programmer. Been programming in Py...</td>\n",
       "      <td>148</td>\n",
       "    </tr>\n",
       "  </tbody>\n",
       "</table>\n",
       "<p>678 rows × 7 columns</p>\n",
       "</div>"
      ],
      "text/plain": [
       "     index post_id  score  upvote_ratio  num_comments  \\\n",
       "0        0  sko30v      0          0.50             0   \n",
       "1        2  skltie      8          1.00             1   \n",
       "2        3  sklhet      0          0.25             9   \n",
       "3        4  skkubm      0          0.33             7   \n",
       "4        5  skkkmf      1          1.00             4   \n",
       "..     ...     ...    ...           ...           ...   \n",
       "673    834  otb7nh     25          0.93             5   \n",
       "674    835  ot25cm     42          0.94            11   \n",
       "675    836  osxojq      0          0.44             4   \n",
       "676    837  osn6iv      0          0.31             6   \n",
       "677    838  oscvji      0          0.50             2   \n",
       "\n",
       "                                                  body  body_length  \n",
       "0    Hello! I am trying to create a dictionary appl...           56  \n",
       "1    I do not have a background in optimization and...          548  \n",
       "2    How to I get my code to a stand-alone computer...           24  \n",
       "3    I Am 26. As a candidate international student,...           34  \n",
       "4    If we ran 10,000,000 cycles would we see a mil...           19  \n",
       "..                                                 ...          ...  \n",
       "673  In [this AWS Builder's Library post](-library/...          269  \n",
       "674  Hi all, I do not know if this is the right pla...          151  \n",
       "675  I am assuming there are many ways to learn the...          106  \n",
       "676  I will soon start my graduate software enginee...           72  \n",
       "677  Hey, I am a programmer. Been programming in Py...          148  \n",
       "\n",
       "[678 rows x 7 columns]"
      ]
     },
     "execution_count": 167,
     "metadata": {},
     "output_type": "execute_result"
    }
   ],
   "source": [
    "body_df"
   ]
  },
  {
   "cell_type": "code",
   "execution_count": 168,
   "id": "7a51381e",
   "metadata": {},
   "outputs": [
    {
     "data": {
      "text/html": [
       "<div>\n",
       "<style scoped>\n",
       "    .dataframe tbody tr th:only-of-type {\n",
       "        vertical-align: middle;\n",
       "    }\n",
       "\n",
       "    .dataframe tbody tr th {\n",
       "        vertical-align: top;\n",
       "    }\n",
       "\n",
       "    .dataframe thead th {\n",
       "        text-align: right;\n",
       "    }\n",
       "</style>\n",
       "<table border=\"1\" class=\"dataframe\">\n",
       "  <thead>\n",
       "    <tr style=\"text-align: right;\">\n",
       "      <th></th>\n",
       "      <th>index</th>\n",
       "      <th>post_id</th>\n",
       "      <th>score</th>\n",
       "      <th>upvote_ratio</th>\n",
       "      <th>num_comments</th>\n",
       "      <th>body</th>\n",
       "      <th>body_length</th>\n",
       "      <th>body_word_token</th>\n",
       "      <th>body_tag</th>\n",
       "    </tr>\n",
       "  </thead>\n",
       "  <tbody>\n",
       "    <tr>\n",
       "      <th>0</th>\n",
       "      <td>0</td>\n",
       "      <td>sko30v</td>\n",
       "      <td>0</td>\n",
       "      <td>0.50</td>\n",
       "      <td>0</td>\n",
       "      <td>hello! i am trying to create a dictionary appl...</td>\n",
       "      <td>56</td>\n",
       "      <td>[hello, !, try, create, dictionary, applicatio...</td>\n",
       "      <td>[[(hello, NN)], [(!, .)], [(trying, VBG)], [(c...</td>\n",
       "    </tr>\n",
       "    <tr>\n",
       "      <th>1</th>\n",
       "      <td>2</td>\n",
       "      <td>skltie</td>\n",
       "      <td>8</td>\n",
       "      <td>1.00</td>\n",
       "      <td>1</td>\n",
       "      <td>i do not have a background in optimization and...</td>\n",
       "      <td>548</td>\n",
       "      <td>[background, optimization, try, teach, topic, ...</td>\n",
       "      <td>[[(background, NN)], [(optimization, NN)], [(t...</td>\n",
       "    </tr>\n",
       "    <tr>\n",
       "      <th>2</th>\n",
       "      <td>3</td>\n",
       "      <td>sklhet</td>\n",
       "      <td>0</td>\n",
       "      <td>0.25</td>\n",
       "      <td>9</td>\n",
       "      <td>how to i get my code to a stand-alone computer...</td>\n",
       "      <td>24</td>\n",
       "      <td>[get, code, stand-alone, computer, chip, ?, ch...</td>\n",
       "      <td>[[(get, VB)], [(code, NN)], [(stand-alone, NN)...</td>\n",
       "    </tr>\n",
       "    <tr>\n",
       "      <th>3</th>\n",
       "      <td>4</td>\n",
       "      <td>skkubm</td>\n",
       "      <td>0</td>\n",
       "      <td>0.33</td>\n",
       "      <td>7</td>\n",
       "      <td>i am 26. as a candidate international student,...</td>\n",
       "      <td>34</td>\n",
       "      <td>[26., candidate, international, student, ,, mi...</td>\n",
       "      <td>[[(26., CD)], [(candidate, NN)], [(internation...</td>\n",
       "    </tr>\n",
       "    <tr>\n",
       "      <th>4</th>\n",
       "      <td>5</td>\n",
       "      <td>skkkmf</td>\n",
       "      <td>1</td>\n",
       "      <td>1.00</td>\n",
       "      <td>4</td>\n",
       "      <td>if we ran 10,000,000 cycles would we see a mil...</td>\n",
       "      <td>19</td>\n",
       "      <td>[ran, 10,000,000, cycle, would, see, million, ...</td>\n",
       "      <td>[[(ran, NN)], [(10,000,000, CD)], [(cycles, NN...</td>\n",
       "    </tr>\n",
       "    <tr>\n",
       "      <th>...</th>\n",
       "      <td>...</td>\n",
       "      <td>...</td>\n",
       "      <td>...</td>\n",
       "      <td>...</td>\n",
       "      <td>...</td>\n",
       "      <td>...</td>\n",
       "      <td>...</td>\n",
       "      <td>...</td>\n",
       "      <td>...</td>\n",
       "    </tr>\n",
       "    <tr>\n",
       "      <th>673</th>\n",
       "      <td>834</td>\n",
       "      <td>otb7nh</td>\n",
       "      <td>25</td>\n",
       "      <td>0.93</td>\n",
       "      <td>5</td>\n",
       "      <td>in [this aws builder's library post](-library/...</td>\n",
       "      <td>269</td>\n",
       "      <td>[[, aws, builder, 's, library, post, ], (, -li...</td>\n",
       "      <td>[[([, NN)], [(aws, NNS)], [(builder, NN)], [('...</td>\n",
       "    </tr>\n",
       "    <tr>\n",
       "      <th>674</th>\n",
       "      <td>835</td>\n",
       "      <td>ot25cm</td>\n",
       "      <td>42</td>\n",
       "      <td>0.94</td>\n",
       "      <td>11</td>\n",
       "      <td>hi all, i do not know if this is the right pla...</td>\n",
       "      <td>151</td>\n",
       "      <td>[hi, ,, know, right, place, ask, question, ,, ...</td>\n",
       "      <td>[[(hi, NN)], [(,, ,)], [(know, VB)], [(right, ...</td>\n",
       "    </tr>\n",
       "    <tr>\n",
       "      <th>675</th>\n",
       "      <td>836</td>\n",
       "      <td>osxojq</td>\n",
       "      <td>0</td>\n",
       "      <td>0.44</td>\n",
       "      <td>4</td>\n",
       "      <td>i am assuming there are many ways to learn the...</td>\n",
       "      <td>106</td>\n",
       "      <td>[assume, many, way, learn, machine, language, ...</td>\n",
       "      <td>[[(assuming, VBG)], [(many, JJ)], [(ways, NNS)...</td>\n",
       "    </tr>\n",
       "    <tr>\n",
       "      <th>676</th>\n",
       "      <td>837</td>\n",
       "      <td>osn6iv</td>\n",
       "      <td>0</td>\n",
       "      <td>0.31</td>\n",
       "      <td>6</td>\n",
       "      <td>i will soon start my graduate software enginee...</td>\n",
       "      <td>72</td>\n",
       "      <td>[soon, start, graduate, software, engineering,...</td>\n",
       "      <td>[[(soon, RB)], [(start, NN)], [(graduate, NN)]...</td>\n",
       "    </tr>\n",
       "    <tr>\n",
       "      <th>677</th>\n",
       "      <td>838</td>\n",
       "      <td>oscvji</td>\n",
       "      <td>0</td>\n",
       "      <td>0.50</td>\n",
       "      <td>2</td>\n",
       "      <td>hey, i am a programmer. been programming in py...</td>\n",
       "      <td>148</td>\n",
       "      <td>[hey, ,, programmer, ., program, python, 3, ye...</td>\n",
       "      <td>[[(hey, NN)], [(,, ,)], [(programmer, NN)], [(...</td>\n",
       "    </tr>\n",
       "  </tbody>\n",
       "</table>\n",
       "<p>678 rows × 9 columns</p>\n",
       "</div>"
      ],
      "text/plain": [
       "     index post_id  score  upvote_ratio  num_comments  \\\n",
       "0        0  sko30v      0          0.50             0   \n",
       "1        2  skltie      8          1.00             1   \n",
       "2        3  sklhet      0          0.25             9   \n",
       "3        4  skkubm      0          0.33             7   \n",
       "4        5  skkkmf      1          1.00             4   \n",
       "..     ...     ...    ...           ...           ...   \n",
       "673    834  otb7nh     25          0.93             5   \n",
       "674    835  ot25cm     42          0.94            11   \n",
       "675    836  osxojq      0          0.44             4   \n",
       "676    837  osn6iv      0          0.31             6   \n",
       "677    838  oscvji      0          0.50             2   \n",
       "\n",
       "                                                  body  body_length  \\\n",
       "0    hello! i am trying to create a dictionary appl...           56   \n",
       "1    i do not have a background in optimization and...          548   \n",
       "2    how to i get my code to a stand-alone computer...           24   \n",
       "3    i am 26. as a candidate international student,...           34   \n",
       "4    if we ran 10,000,000 cycles would we see a mil...           19   \n",
       "..                                                 ...          ...   \n",
       "673  in [this aws builder's library post](-library/...          269   \n",
       "674  hi all, i do not know if this is the right pla...          151   \n",
       "675  i am assuming there are many ways to learn the...          106   \n",
       "676  i will soon start my graduate software enginee...           72   \n",
       "677  hey, i am a programmer. been programming in py...          148   \n",
       "\n",
       "                                       body_word_token  \\\n",
       "0    [hello, !, try, create, dictionary, applicatio...   \n",
       "1    [background, optimization, try, teach, topic, ...   \n",
       "2    [get, code, stand-alone, computer, chip, ?, ch...   \n",
       "3    [26., candidate, international, student, ,, mi...   \n",
       "4    [ran, 10,000,000, cycle, would, see, million, ...   \n",
       "..                                                 ...   \n",
       "673  [[, aws, builder, 's, library, post, ], (, -li...   \n",
       "674  [hi, ,, know, right, place, ask, question, ,, ...   \n",
       "675  [assume, many, way, learn, machine, language, ...   \n",
       "676  [soon, start, graduate, software, engineering,...   \n",
       "677  [hey, ,, programmer, ., program, python, 3, ye...   \n",
       "\n",
       "                                              body_tag  \n",
       "0    [[(hello, NN)], [(!, .)], [(trying, VBG)], [(c...  \n",
       "1    [[(background, NN)], [(optimization, NN)], [(t...  \n",
       "2    [[(get, VB)], [(code, NN)], [(stand-alone, NN)...  \n",
       "3    [[(26., CD)], [(candidate, NN)], [(internation...  \n",
       "4    [[(ran, NN)], [(10,000,000, CD)], [(cycles, NN...  \n",
       "..                                                 ...  \n",
       "673  [[([, NN)], [(aws, NNS)], [(builder, NN)], [('...  \n",
       "674  [[(hi, NN)], [(,, ,)], [(know, VB)], [(right, ...  \n",
       "675  [[(assuming, VBG)], [(many, JJ)], [(ways, NNS)...  \n",
       "676  [[(soon, RB)], [(start, NN)], [(graduate, NN)]...  \n",
       "677  [[(hey, NN)], [(,, ,)], [(programmer, NN)], [(...  \n",
       "\n",
       "[678 rows x 9 columns]"
      ]
     },
     "execution_count": 168,
     "metadata": {},
     "output_type": "execute_result"
    }
   ],
   "source": [
    "prep = PreProcess()\n",
    "prep.fill_na(body_df, 'body')\n",
    "prep.remove_urls(body_df, 'body')\n",
    "prep.expand_contractions(body_df, 'body')\n",
    "prep.to_lower(body_df, 'body')\n",
    "\n",
    "prep.tokenize(body_df, 'body')\n",
    "prep.filter_stopwords(body_df, 'body')\n",
    "prep.lemm(body_df, 'body')"
   ]
  },
  {
   "cell_type": "code",
   "execution_count": 169,
   "id": "a859d421",
   "metadata": {},
   "outputs": [
    {
     "data": {
      "text/html": [
       "<div>\n",
       "<style scoped>\n",
       "    .dataframe tbody tr th:only-of-type {\n",
       "        vertical-align: middle;\n",
       "    }\n",
       "\n",
       "    .dataframe tbody tr th {\n",
       "        vertical-align: top;\n",
       "    }\n",
       "\n",
       "    .dataframe thead th {\n",
       "        text-align: right;\n",
       "    }\n",
       "</style>\n",
       "<table border=\"1\" class=\"dataframe\">\n",
       "  <thead>\n",
       "    <tr style=\"text-align: right;\">\n",
       "      <th></th>\n",
       "      <th>index</th>\n",
       "      <th>post_id</th>\n",
       "      <th>score</th>\n",
       "      <th>upvote_ratio</th>\n",
       "      <th>num_comments</th>\n",
       "      <th>body</th>\n",
       "      <th>body_length</th>\n",
       "      <th>body_word_token</th>\n",
       "      <th>body_tag</th>\n",
       "      <th>body_string</th>\n",
       "    </tr>\n",
       "  </thead>\n",
       "  <tbody>\n",
       "    <tr>\n",
       "      <th>0</th>\n",
       "      <td>0</td>\n",
       "      <td>sko30v</td>\n",
       "      <td>0</td>\n",
       "      <td>0.50</td>\n",
       "      <td>0</td>\n",
       "      <td>hello! i am trying to create a dictionary appl...</td>\n",
       "      <td>56</td>\n",
       "      <td>[hello, !, try, create, dictionary, applicatio...</td>\n",
       "      <td>[[(hello, NN)], [(!, .)], [(trying, VBG)], [(c...</td>\n",
       "      <td>hello ! try create dictionary application ente...</td>\n",
       "    </tr>\n",
       "    <tr>\n",
       "      <th>1</th>\n",
       "      <td>2</td>\n",
       "      <td>skltie</td>\n",
       "      <td>8</td>\n",
       "      <td>1.00</td>\n",
       "      <td>1</td>\n",
       "      <td>i do not have a background in optimization and...</td>\n",
       "      <td>548</td>\n",
       "      <td>[background, optimization, try, teach, topic, ...</td>\n",
       "      <td>[[(background, NN)], [(optimization, NN)], [(t...</td>\n",
       "      <td>background optimization try teach topic . find...</td>\n",
       "    </tr>\n",
       "    <tr>\n",
       "      <th>2</th>\n",
       "      <td>3</td>\n",
       "      <td>sklhet</td>\n",
       "      <td>0</td>\n",
       "      <td>0.25</td>\n",
       "      <td>9</td>\n",
       "      <td>how to i get my code to a stand-alone computer...</td>\n",
       "      <td>24</td>\n",
       "      <td>[get, code, stand-alone, computer, chip, ?, ch...</td>\n",
       "      <td>[[(get, VB)], [(code, NN)], [(stand-alone, NN)...</td>\n",
       "      <td>get code stand-alone computer chip ? chip need...</td>\n",
       "    </tr>\n",
       "    <tr>\n",
       "      <th>3</th>\n",
       "      <td>4</td>\n",
       "      <td>skkubm</td>\n",
       "      <td>0</td>\n",
       "      <td>0.33</td>\n",
       "      <td>7</td>\n",
       "      <td>i am 26. as a candidate international student,...</td>\n",
       "      <td>34</td>\n",
       "      <td>[26., candidate, international, student, ,, mi...</td>\n",
       "      <td>[[(26., CD)], [(candidate, NN)], [(internation...</td>\n",
       "      <td>26. candidate international student , middle l...</td>\n",
       "    </tr>\n",
       "    <tr>\n",
       "      <th>4</th>\n",
       "      <td>5</td>\n",
       "      <td>skkkmf</td>\n",
       "      <td>1</td>\n",
       "      <td>1.00</td>\n",
       "      <td>4</td>\n",
       "      <td>if we ran 10,000,000 cycles would we see a mil...</td>\n",
       "      <td>19</td>\n",
       "      <td>[ran, 10,000,000, cycle, would, see, million, ...</td>\n",
       "      <td>[[(ran, NN)], [(10,000,000, CD)], [(cycles, NN...</td>\n",
       "      <td>ran 10,000,000 cycle would see million digit ,...</td>\n",
       "    </tr>\n",
       "    <tr>\n",
       "      <th>...</th>\n",
       "      <td>...</td>\n",
       "      <td>...</td>\n",
       "      <td>...</td>\n",
       "      <td>...</td>\n",
       "      <td>...</td>\n",
       "      <td>...</td>\n",
       "      <td>...</td>\n",
       "      <td>...</td>\n",
       "      <td>...</td>\n",
       "      <td>...</td>\n",
       "    </tr>\n",
       "    <tr>\n",
       "      <th>673</th>\n",
       "      <td>834</td>\n",
       "      <td>otb7nh</td>\n",
       "      <td>25</td>\n",
       "      <td>0.93</td>\n",
       "      <td>5</td>\n",
       "      <td>in [this aws builder's library post](-library/...</td>\n",
       "      <td>269</td>\n",
       "      <td>[[, aws, builder, 's, library, post, ], (, -li...</td>\n",
       "      <td>[[([, NN)], [(aws, NNS)], [(builder, NN)], [('...</td>\n",
       "      <td>[ aws builder 's library post ] ( -library/cha...</td>\n",
       "    </tr>\n",
       "    <tr>\n",
       "      <th>674</th>\n",
       "      <td>835</td>\n",
       "      <td>ot25cm</td>\n",
       "      <td>42</td>\n",
       "      <td>0.94</td>\n",
       "      <td>11</td>\n",
       "      <td>hi all, i do not know if this is the right pla...</td>\n",
       "      <td>151</td>\n",
       "      <td>[hi, ,, know, right, place, ask, question, ,, ...</td>\n",
       "      <td>[[(hi, NN)], [(,, ,)], [(know, VB)], [(right, ...</td>\n",
       "      <td>hi , know right place ask question , hope help...</td>\n",
       "    </tr>\n",
       "    <tr>\n",
       "      <th>675</th>\n",
       "      <td>836</td>\n",
       "      <td>osxojq</td>\n",
       "      <td>0</td>\n",
       "      <td>0.44</td>\n",
       "      <td>4</td>\n",
       "      <td>i am assuming there are many ways to learn the...</td>\n",
       "      <td>106</td>\n",
       "      <td>[assume, many, way, learn, machine, language, ...</td>\n",
       "      <td>[[(assuming, VBG)], [(many, JJ)], [(ways, NNS)...</td>\n",
       "      <td>assume many way learn machine language , howev...</td>\n",
       "    </tr>\n",
       "    <tr>\n",
       "      <th>676</th>\n",
       "      <td>837</td>\n",
       "      <td>osn6iv</td>\n",
       "      <td>0</td>\n",
       "      <td>0.31</td>\n",
       "      <td>6</td>\n",
       "      <td>i will soon start my graduate software enginee...</td>\n",
       "      <td>72</td>\n",
       "      <td>[soon, start, graduate, software, engineering,...</td>\n",
       "      <td>[[(soon, RB)], [(start, NN)], [(graduate, NN)]...</td>\n",
       "      <td>soon start graduate software engineering role ...</td>\n",
       "    </tr>\n",
       "    <tr>\n",
       "      <th>677</th>\n",
       "      <td>838</td>\n",
       "      <td>oscvji</td>\n",
       "      <td>0</td>\n",
       "      <td>0.50</td>\n",
       "      <td>2</td>\n",
       "      <td>hey, i am a programmer. been programming in py...</td>\n",
       "      <td>148</td>\n",
       "      <td>[hey, ,, programmer, ., program, python, 3, ye...</td>\n",
       "      <td>[[(hey, NN)], [(,, ,)], [(programmer, NN)], [(...</td>\n",
       "      <td>hey , programmer . program python 3 year . alo...</td>\n",
       "    </tr>\n",
       "  </tbody>\n",
       "</table>\n",
       "<p>678 rows × 10 columns</p>\n",
       "</div>"
      ],
      "text/plain": [
       "     index post_id  score  upvote_ratio  num_comments  \\\n",
       "0        0  sko30v      0          0.50             0   \n",
       "1        2  skltie      8          1.00             1   \n",
       "2        3  sklhet      0          0.25             9   \n",
       "3        4  skkubm      0          0.33             7   \n",
       "4        5  skkkmf      1          1.00             4   \n",
       "..     ...     ...    ...           ...           ...   \n",
       "673    834  otb7nh     25          0.93             5   \n",
       "674    835  ot25cm     42          0.94            11   \n",
       "675    836  osxojq      0          0.44             4   \n",
       "676    837  osn6iv      0          0.31             6   \n",
       "677    838  oscvji      0          0.50             2   \n",
       "\n",
       "                                                  body  body_length  \\\n",
       "0    hello! i am trying to create a dictionary appl...           56   \n",
       "1    i do not have a background in optimization and...          548   \n",
       "2    how to i get my code to a stand-alone computer...           24   \n",
       "3    i am 26. as a candidate international student,...           34   \n",
       "4    if we ran 10,000,000 cycles would we see a mil...           19   \n",
       "..                                                 ...          ...   \n",
       "673  in [this aws builder's library post](-library/...          269   \n",
       "674  hi all, i do not know if this is the right pla...          151   \n",
       "675  i am assuming there are many ways to learn the...          106   \n",
       "676  i will soon start my graduate software enginee...           72   \n",
       "677  hey, i am a programmer. been programming in py...          148   \n",
       "\n",
       "                                       body_word_token  \\\n",
       "0    [hello, !, try, create, dictionary, applicatio...   \n",
       "1    [background, optimization, try, teach, topic, ...   \n",
       "2    [get, code, stand-alone, computer, chip, ?, ch...   \n",
       "3    [26., candidate, international, student, ,, mi...   \n",
       "4    [ran, 10,000,000, cycle, would, see, million, ...   \n",
       "..                                                 ...   \n",
       "673  [[, aws, builder, 's, library, post, ], (, -li...   \n",
       "674  [hi, ,, know, right, place, ask, question, ,, ...   \n",
       "675  [assume, many, way, learn, machine, language, ...   \n",
       "676  [soon, start, graduate, software, engineering,...   \n",
       "677  [hey, ,, programmer, ., program, python, 3, ye...   \n",
       "\n",
       "                                              body_tag  \\\n",
       "0    [[(hello, NN)], [(!, .)], [(trying, VBG)], [(c...   \n",
       "1    [[(background, NN)], [(optimization, NN)], [(t...   \n",
       "2    [[(get, VB)], [(code, NN)], [(stand-alone, NN)...   \n",
       "3    [[(26., CD)], [(candidate, NN)], [(internation...   \n",
       "4    [[(ran, NN)], [(10,000,000, CD)], [(cycles, NN...   \n",
       "..                                                 ...   \n",
       "673  [[([, NN)], [(aws, NNS)], [(builder, NN)], [('...   \n",
       "674  [[(hi, NN)], [(,, ,)], [(know, VB)], [(right, ...   \n",
       "675  [[(assuming, VBG)], [(many, JJ)], [(ways, NNS)...   \n",
       "676  [[(soon, RB)], [(start, NN)], [(graduate, NN)]...   \n",
       "677  [[(hey, NN)], [(,, ,)], [(programmer, NN)], [(...   \n",
       "\n",
       "                                           body_string  \n",
       "0    hello ! try create dictionary application ente...  \n",
       "1    background optimization try teach topic . find...  \n",
       "2    get code stand-alone computer chip ? chip need...  \n",
       "3    26. candidate international student , middle l...  \n",
       "4    ran 10,000,000 cycle would see million digit ,...  \n",
       "..                                                 ...  \n",
       "673  [ aws builder 's library post ] ( -library/cha...  \n",
       "674  hi , know right place ask question , hope help...  \n",
       "675  assume many way learn machine language , howev...  \n",
       "676  soon start graduate software engineering role ...  \n",
       "677  hey , programmer . program python 3 year . alo...  \n",
       "\n",
       "[678 rows x 10 columns]"
      ]
     },
     "execution_count": 169,
     "metadata": {},
     "output_type": "execute_result"
    }
   ],
   "source": [
    "body_df['body_string'] = body_df['body_word_token'].apply(lambda x: ' '.join(map(str, x)))\n",
    "body_df"
   ]
  },
  {
   "cell_type": "code",
   "execution_count": 170,
   "id": "75a7fd6c",
   "metadata": {},
   "outputs": [
    {
     "data": {
      "text/plain": [
       "678"
      ]
     },
     "execution_count": 170,
     "metadata": {},
     "output_type": "execute_result"
    }
   ],
   "source": [
    "docs1 = list(body_df.body_string)\n",
    "len(docs1)"
   ]
  },
  {
   "cell_type": "code",
   "execution_count": 171,
   "id": "4d2a27b0",
   "metadata": {},
   "outputs": [
    {
     "data": {
      "application/vnd.jupyter.widget-view+json": {
       "model_id": "bc6d2b41ed284d6ea8a1807c42cca27e",
       "version_major": 2,
       "version_minor": 0
      },
      "text/plain": [
       "Batches:   0%|          | 0/22 [00:00<?, ?it/s]"
      ]
     },
     "metadata": {},
     "output_type": "display_data"
    },
    {
     "name": "stderr",
     "output_type": "stream",
     "text": [
      "2022-02-07 22:38:52,379 - BERTopic - Transformed documents to Embeddings\n",
      "2022-02-07 22:38:54,658 - BERTopic - Reduced dimensionality with UMAP\n",
      "2022-02-07 22:38:54,700 - BERTopic - Clustered UMAP embeddings with HDBSCAN\n"
     ]
    }
   ],
   "source": [
    "topic_model1 = BERTopic(language=\"english\", calculate_probabilities=True, verbose=True)\n",
    "topics1, probs1 = topic_model1.fit_transform(docs1)\n"
   ]
  },
  {
   "cell_type": "code",
   "execution_count": 172,
   "id": "3f37cf98",
   "metadata": {},
   "outputs": [
    {
     "data": {
      "text/html": [
       "<div>\n",
       "<style scoped>\n",
       "    .dataframe tbody tr th:only-of-type {\n",
       "        vertical-align: middle;\n",
       "    }\n",
       "\n",
       "    .dataframe tbody tr th {\n",
       "        vertical-align: top;\n",
       "    }\n",
       "\n",
       "    .dataframe thead th {\n",
       "        text-align: right;\n",
       "    }\n",
       "</style>\n",
       "<table border=\"1\" class=\"dataframe\">\n",
       "  <thead>\n",
       "    <tr style=\"text-align: right;\">\n",
       "      <th></th>\n",
       "      <th>Topic</th>\n",
       "      <th>Count</th>\n",
       "      <th>Name</th>\n",
       "    </tr>\n",
       "  </thead>\n",
       "  <tbody>\n",
       "    <tr>\n",
       "      <th>0</th>\n",
       "      <td>-1</td>\n",
       "      <td>301</td>\n",
       "      <td>-1_computer_would_like_use</td>\n",
       "    </tr>\n",
       "    <tr>\n",
       "      <th>1</th>\n",
       "      <td>0</td>\n",
       "      <td>81</td>\n",
       "      <td>0_book_learn_computer_good</td>\n",
       "    </tr>\n",
       "    <tr>\n",
       "      <th>2</th>\n",
       "      <td>1</td>\n",
       "      <td>73</td>\n",
       "      <td>1_problem_algorithm_complexity_time</td>\n",
       "    </tr>\n",
       "    <tr>\n",
       "      <th>3</th>\n",
       "      <td>2</td>\n",
       "      <td>42</td>\n",
       "      <td>2_language_compiler_program_string</td>\n",
       "    </tr>\n",
       "    <tr>\n",
       "      <th>4</th>\n",
       "      <td>3</td>\n",
       "      <td>36</td>\n",
       "      <td>3_hash_ip_server_address</td>\n",
       "    </tr>\n",
       "  </tbody>\n",
       "</table>\n",
       "</div>"
      ],
      "text/plain": [
       "   Topic  Count                                 Name\n",
       "0     -1    301           -1_computer_would_like_use\n",
       "1      0     81           0_book_learn_computer_good\n",
       "2      1     73  1_problem_algorithm_complexity_time\n",
       "3      2     42   2_language_compiler_program_string\n",
       "4      3     36             3_hash_ip_server_address"
      ]
     },
     "execution_count": 172,
     "metadata": {},
     "output_type": "execute_result"
    }
   ],
   "source": [
    "freq1 = topic_model1.get_topic_info()\n",
    "freq1.head(5)"
   ]
  },
  {
   "cell_type": "code",
   "execution_count": 173,
   "id": "f7ea3357",
   "metadata": {},
   "outputs": [
    {
     "data": {
      "application/vnd.plotly.v1+json": {
       "config": {
        "plotlyServerURL": "https://plot.ly"
       },
       "data": [
        {
         "marker": {
          "color": "#C8D2D7",
          "line": {
           "color": "#6E8484",
           "width": 1
          }
         },
         "orientation": "h",
         "type": "bar",
         "x": [
          0.06269461862492166,
          0.3693926652881698,
          0.04962272092979533,
          0.05167461996594204,
          0.04437248990808516,
          0.0418952822855755,
          0.06040180434500458,
          0.04410245812316216,
          0.05860104503531621,
          0.04122147860473418
         ],
         "y": [
          "<b>Topic 0</b>: book_learn_computer_good...",
          "<b>Topic 1</b>: problem_algorithm_comple...",
          "<b>Topic 2</b>: language_compiler_progra...",
          "<b>Topic 3</b>: hash_ip_server_address_p...",
          "<b>Topic 4</b>: memory_data_byte_address...",
          "<b>Topic 5</b>: program_computer_enginee...",
          "<b>Topic 6</b>: abazbz2abz_2cd_cdc_cpu_i...",
          "<b>Topic 7</b>: channel_title_video_some...",
          "<b>Topic 8</b>: ai_think_movie_organism_...",
          "<b>Topic 9</b>: experiment_code_project_..."
         ]
        }
       ],
       "layout": {
        "height": 600,
        "hoverlabel": {
         "bgcolor": "white",
         "font": {
          "family": "Rockwell",
          "size": 16
         }
        },
        "template": {
         "data": {
          "bar": [
           {
            "error_x": {
             "color": "rgb(36,36,36)"
            },
            "error_y": {
             "color": "rgb(36,36,36)"
            },
            "marker": {
             "line": {
              "color": "white",
              "width": 0.5
             },
             "pattern": {
              "fillmode": "overlay",
              "size": 10,
              "solidity": 0.2
             }
            },
            "type": "bar"
           }
          ],
          "barpolar": [
           {
            "marker": {
             "line": {
              "color": "white",
              "width": 0.5
             },
             "pattern": {
              "fillmode": "overlay",
              "size": 10,
              "solidity": 0.2
             }
            },
            "type": "barpolar"
           }
          ],
          "carpet": [
           {
            "aaxis": {
             "endlinecolor": "rgb(36,36,36)",
             "gridcolor": "white",
             "linecolor": "white",
             "minorgridcolor": "white",
             "startlinecolor": "rgb(36,36,36)"
            },
            "baxis": {
             "endlinecolor": "rgb(36,36,36)",
             "gridcolor": "white",
             "linecolor": "white",
             "minorgridcolor": "white",
             "startlinecolor": "rgb(36,36,36)"
            },
            "type": "carpet"
           }
          ],
          "choropleth": [
           {
            "colorbar": {
             "outlinewidth": 1,
             "tickcolor": "rgb(36,36,36)",
             "ticks": "outside"
            },
            "type": "choropleth"
           }
          ],
          "contour": [
           {
            "colorbar": {
             "outlinewidth": 1,
             "tickcolor": "rgb(36,36,36)",
             "ticks": "outside"
            },
            "colorscale": [
             [
              0,
              "#440154"
             ],
             [
              0.1111111111111111,
              "#482878"
             ],
             [
              0.2222222222222222,
              "#3e4989"
             ],
             [
              0.3333333333333333,
              "#31688e"
             ],
             [
              0.4444444444444444,
              "#26828e"
             ],
             [
              0.5555555555555556,
              "#1f9e89"
             ],
             [
              0.6666666666666666,
              "#35b779"
             ],
             [
              0.7777777777777778,
              "#6ece58"
             ],
             [
              0.8888888888888888,
              "#b5de2b"
             ],
             [
              1,
              "#fde725"
             ]
            ],
            "type": "contour"
           }
          ],
          "contourcarpet": [
           {
            "colorbar": {
             "outlinewidth": 1,
             "tickcolor": "rgb(36,36,36)",
             "ticks": "outside"
            },
            "type": "contourcarpet"
           }
          ],
          "heatmap": [
           {
            "colorbar": {
             "outlinewidth": 1,
             "tickcolor": "rgb(36,36,36)",
             "ticks": "outside"
            },
            "colorscale": [
             [
              0,
              "#440154"
             ],
             [
              0.1111111111111111,
              "#482878"
             ],
             [
              0.2222222222222222,
              "#3e4989"
             ],
             [
              0.3333333333333333,
              "#31688e"
             ],
             [
              0.4444444444444444,
              "#26828e"
             ],
             [
              0.5555555555555556,
              "#1f9e89"
             ],
             [
              0.6666666666666666,
              "#35b779"
             ],
             [
              0.7777777777777778,
              "#6ece58"
             ],
             [
              0.8888888888888888,
              "#b5de2b"
             ],
             [
              1,
              "#fde725"
             ]
            ],
            "type": "heatmap"
           }
          ],
          "heatmapgl": [
           {
            "colorbar": {
             "outlinewidth": 1,
             "tickcolor": "rgb(36,36,36)",
             "ticks": "outside"
            },
            "colorscale": [
             [
              0,
              "#440154"
             ],
             [
              0.1111111111111111,
              "#482878"
             ],
             [
              0.2222222222222222,
              "#3e4989"
             ],
             [
              0.3333333333333333,
              "#31688e"
             ],
             [
              0.4444444444444444,
              "#26828e"
             ],
             [
              0.5555555555555556,
              "#1f9e89"
             ],
             [
              0.6666666666666666,
              "#35b779"
             ],
             [
              0.7777777777777778,
              "#6ece58"
             ],
             [
              0.8888888888888888,
              "#b5de2b"
             ],
             [
              1,
              "#fde725"
             ]
            ],
            "type": "heatmapgl"
           }
          ],
          "histogram": [
           {
            "marker": {
             "line": {
              "color": "white",
              "width": 0.6
             }
            },
            "type": "histogram"
           }
          ],
          "histogram2d": [
           {
            "colorbar": {
             "outlinewidth": 1,
             "tickcolor": "rgb(36,36,36)",
             "ticks": "outside"
            },
            "colorscale": [
             [
              0,
              "#440154"
             ],
             [
              0.1111111111111111,
              "#482878"
             ],
             [
              0.2222222222222222,
              "#3e4989"
             ],
             [
              0.3333333333333333,
              "#31688e"
             ],
             [
              0.4444444444444444,
              "#26828e"
             ],
             [
              0.5555555555555556,
              "#1f9e89"
             ],
             [
              0.6666666666666666,
              "#35b779"
             ],
             [
              0.7777777777777778,
              "#6ece58"
             ],
             [
              0.8888888888888888,
              "#b5de2b"
             ],
             [
              1,
              "#fde725"
             ]
            ],
            "type": "histogram2d"
           }
          ],
          "histogram2dcontour": [
           {
            "colorbar": {
             "outlinewidth": 1,
             "tickcolor": "rgb(36,36,36)",
             "ticks": "outside"
            },
            "colorscale": [
             [
              0,
              "#440154"
             ],
             [
              0.1111111111111111,
              "#482878"
             ],
             [
              0.2222222222222222,
              "#3e4989"
             ],
             [
              0.3333333333333333,
              "#31688e"
             ],
             [
              0.4444444444444444,
              "#26828e"
             ],
             [
              0.5555555555555556,
              "#1f9e89"
             ],
             [
              0.6666666666666666,
              "#35b779"
             ],
             [
              0.7777777777777778,
              "#6ece58"
             ],
             [
              0.8888888888888888,
              "#b5de2b"
             ],
             [
              1,
              "#fde725"
             ]
            ],
            "type": "histogram2dcontour"
           }
          ],
          "mesh3d": [
           {
            "colorbar": {
             "outlinewidth": 1,
             "tickcolor": "rgb(36,36,36)",
             "ticks": "outside"
            },
            "type": "mesh3d"
           }
          ],
          "parcoords": [
           {
            "line": {
             "colorbar": {
              "outlinewidth": 1,
              "tickcolor": "rgb(36,36,36)",
              "ticks": "outside"
             }
            },
            "type": "parcoords"
           }
          ],
          "pie": [
           {
            "automargin": true,
            "type": "pie"
           }
          ],
          "scatter": [
           {
            "marker": {
             "colorbar": {
              "outlinewidth": 1,
              "tickcolor": "rgb(36,36,36)",
              "ticks": "outside"
             }
            },
            "type": "scatter"
           }
          ],
          "scatter3d": [
           {
            "line": {
             "colorbar": {
              "outlinewidth": 1,
              "tickcolor": "rgb(36,36,36)",
              "ticks": "outside"
             }
            },
            "marker": {
             "colorbar": {
              "outlinewidth": 1,
              "tickcolor": "rgb(36,36,36)",
              "ticks": "outside"
             }
            },
            "type": "scatter3d"
           }
          ],
          "scattercarpet": [
           {
            "marker": {
             "colorbar": {
              "outlinewidth": 1,
              "tickcolor": "rgb(36,36,36)",
              "ticks": "outside"
             }
            },
            "type": "scattercarpet"
           }
          ],
          "scattergeo": [
           {
            "marker": {
             "colorbar": {
              "outlinewidth": 1,
              "tickcolor": "rgb(36,36,36)",
              "ticks": "outside"
             }
            },
            "type": "scattergeo"
           }
          ],
          "scattergl": [
           {
            "marker": {
             "colorbar": {
              "outlinewidth": 1,
              "tickcolor": "rgb(36,36,36)",
              "ticks": "outside"
             }
            },
            "type": "scattergl"
           }
          ],
          "scattermapbox": [
           {
            "marker": {
             "colorbar": {
              "outlinewidth": 1,
              "tickcolor": "rgb(36,36,36)",
              "ticks": "outside"
             }
            },
            "type": "scattermapbox"
           }
          ],
          "scatterpolar": [
           {
            "marker": {
             "colorbar": {
              "outlinewidth": 1,
              "tickcolor": "rgb(36,36,36)",
              "ticks": "outside"
             }
            },
            "type": "scatterpolar"
           }
          ],
          "scatterpolargl": [
           {
            "marker": {
             "colorbar": {
              "outlinewidth": 1,
              "tickcolor": "rgb(36,36,36)",
              "ticks": "outside"
             }
            },
            "type": "scatterpolargl"
           }
          ],
          "scatterternary": [
           {
            "marker": {
             "colorbar": {
              "outlinewidth": 1,
              "tickcolor": "rgb(36,36,36)",
              "ticks": "outside"
             }
            },
            "type": "scatterternary"
           }
          ],
          "surface": [
           {
            "colorbar": {
             "outlinewidth": 1,
             "tickcolor": "rgb(36,36,36)",
             "ticks": "outside"
            },
            "colorscale": [
             [
              0,
              "#440154"
             ],
             [
              0.1111111111111111,
              "#482878"
             ],
             [
              0.2222222222222222,
              "#3e4989"
             ],
             [
              0.3333333333333333,
              "#31688e"
             ],
             [
              0.4444444444444444,
              "#26828e"
             ],
             [
              0.5555555555555556,
              "#1f9e89"
             ],
             [
              0.6666666666666666,
              "#35b779"
             ],
             [
              0.7777777777777778,
              "#6ece58"
             ],
             [
              0.8888888888888888,
              "#b5de2b"
             ],
             [
              1,
              "#fde725"
             ]
            ],
            "type": "surface"
           }
          ],
          "table": [
           {
            "cells": {
             "fill": {
              "color": "rgb(237,237,237)"
             },
             "line": {
              "color": "white"
             }
            },
            "header": {
             "fill": {
              "color": "rgb(217,217,217)"
             },
             "line": {
              "color": "white"
             }
            },
            "type": "table"
           }
          ]
         },
         "layout": {
          "annotationdefaults": {
           "arrowhead": 0,
           "arrowwidth": 1
          },
          "autotypenumbers": "strict",
          "coloraxis": {
           "colorbar": {
            "outlinewidth": 1,
            "tickcolor": "rgb(36,36,36)",
            "ticks": "outside"
           }
          },
          "colorscale": {
           "diverging": [
            [
             0,
             "rgb(103,0,31)"
            ],
            [
             0.1,
             "rgb(178,24,43)"
            ],
            [
             0.2,
             "rgb(214,96,77)"
            ],
            [
             0.3,
             "rgb(244,165,130)"
            ],
            [
             0.4,
             "rgb(253,219,199)"
            ],
            [
             0.5,
             "rgb(247,247,247)"
            ],
            [
             0.6,
             "rgb(209,229,240)"
            ],
            [
             0.7,
             "rgb(146,197,222)"
            ],
            [
             0.8,
             "rgb(67,147,195)"
            ],
            [
             0.9,
             "rgb(33,102,172)"
            ],
            [
             1,
             "rgb(5,48,97)"
            ]
           ],
           "sequential": [
            [
             0,
             "#440154"
            ],
            [
             0.1111111111111111,
             "#482878"
            ],
            [
             0.2222222222222222,
             "#3e4989"
            ],
            [
             0.3333333333333333,
             "#31688e"
            ],
            [
             0.4444444444444444,
             "#26828e"
            ],
            [
             0.5555555555555556,
             "#1f9e89"
            ],
            [
             0.6666666666666666,
             "#35b779"
            ],
            [
             0.7777777777777778,
             "#6ece58"
            ],
            [
             0.8888888888888888,
             "#b5de2b"
            ],
            [
             1,
             "#fde725"
            ]
           ],
           "sequentialminus": [
            [
             0,
             "#440154"
            ],
            [
             0.1111111111111111,
             "#482878"
            ],
            [
             0.2222222222222222,
             "#3e4989"
            ],
            [
             0.3333333333333333,
             "#31688e"
            ],
            [
             0.4444444444444444,
             "#26828e"
            ],
            [
             0.5555555555555556,
             "#1f9e89"
            ],
            [
             0.6666666666666666,
             "#35b779"
            ],
            [
             0.7777777777777778,
             "#6ece58"
            ],
            [
             0.8888888888888888,
             "#b5de2b"
            ],
            [
             1,
             "#fde725"
            ]
           ]
          },
          "colorway": [
           "#1F77B4",
           "#FF7F0E",
           "#2CA02C",
           "#D62728",
           "#9467BD",
           "#8C564B",
           "#E377C2",
           "#7F7F7F",
           "#BCBD22",
           "#17BECF"
          ],
          "font": {
           "color": "rgb(36,36,36)"
          },
          "geo": {
           "bgcolor": "white",
           "lakecolor": "white",
           "landcolor": "white",
           "showlakes": true,
           "showland": true,
           "subunitcolor": "white"
          },
          "hoverlabel": {
           "align": "left"
          },
          "hovermode": "closest",
          "mapbox": {
           "style": "light"
          },
          "paper_bgcolor": "white",
          "plot_bgcolor": "white",
          "polar": {
           "angularaxis": {
            "gridcolor": "rgb(232,232,232)",
            "linecolor": "rgb(36,36,36)",
            "showgrid": false,
            "showline": true,
            "ticks": "outside"
           },
           "bgcolor": "white",
           "radialaxis": {
            "gridcolor": "rgb(232,232,232)",
            "linecolor": "rgb(36,36,36)",
            "showgrid": false,
            "showline": true,
            "ticks": "outside"
           }
          },
          "scene": {
           "xaxis": {
            "backgroundcolor": "white",
            "gridcolor": "rgb(232,232,232)",
            "gridwidth": 2,
            "linecolor": "rgb(36,36,36)",
            "showbackground": true,
            "showgrid": false,
            "showline": true,
            "ticks": "outside",
            "zeroline": false,
            "zerolinecolor": "rgb(36,36,36)"
           },
           "yaxis": {
            "backgroundcolor": "white",
            "gridcolor": "rgb(232,232,232)",
            "gridwidth": 2,
            "linecolor": "rgb(36,36,36)",
            "showbackground": true,
            "showgrid": false,
            "showline": true,
            "ticks": "outside",
            "zeroline": false,
            "zerolinecolor": "rgb(36,36,36)"
           },
           "zaxis": {
            "backgroundcolor": "white",
            "gridcolor": "rgb(232,232,232)",
            "gridwidth": 2,
            "linecolor": "rgb(36,36,36)",
            "showbackground": true,
            "showgrid": false,
            "showline": true,
            "ticks": "outside",
            "zeroline": false,
            "zerolinecolor": "rgb(36,36,36)"
           }
          },
          "shapedefaults": {
           "fillcolor": "black",
           "line": {
            "width": 0
           },
           "opacity": 0.3
          },
          "ternary": {
           "aaxis": {
            "gridcolor": "rgb(232,232,232)",
            "linecolor": "rgb(36,36,36)",
            "showgrid": false,
            "showline": true,
            "ticks": "outside"
           },
           "baxis": {
            "gridcolor": "rgb(232,232,232)",
            "linecolor": "rgb(36,36,36)",
            "showgrid": false,
            "showline": true,
            "ticks": "outside"
           },
           "bgcolor": "white",
           "caxis": {
            "gridcolor": "rgb(232,232,232)",
            "linecolor": "rgb(36,36,36)",
            "showgrid": false,
            "showline": true,
            "ticks": "outside"
           }
          },
          "title": {
           "x": 0.05
          },
          "xaxis": {
           "automargin": true,
           "gridcolor": "rgb(232,232,232)",
           "linecolor": "rgb(36,36,36)",
           "showgrid": false,
           "showline": true,
           "ticks": "outside",
           "title": {
            "standoff": 15
           },
           "zeroline": false,
           "zerolinecolor": "rgb(36,36,36)"
          },
          "yaxis": {
           "automargin": true,
           "gridcolor": "rgb(232,232,232)",
           "linecolor": "rgb(36,36,36)",
           "showgrid": false,
           "showline": true,
           "ticks": "outside",
           "title": {
            "standoff": 15
           },
           "zeroline": false,
           "zerolinecolor": "rgb(36,36,36)"
          }
         }
        },
        "title": {
         "font": {
          "color": "Black",
          "size": 22
         },
         "text": "<b>Topic Probability Distribution",
         "x": 0.5,
         "xanchor": "center",
         "y": 0.95,
         "yanchor": "top"
        },
        "width": 800,
        "xaxis": {
         "title": {
          "text": "Probability"
         }
        }
       }
      },
      "text/html": [
       "<div>                            <div id=\"863faaa0-4200-4b86-9d95-9ffe33e3d417\" class=\"plotly-graph-div\" style=\"height:600px; width:800px;\"></div>            <script type=\"text/javascript\">                require([\"plotly\"], function(Plotly) {                    window.PLOTLYENV=window.PLOTLYENV || {};                                    if (document.getElementById(\"863faaa0-4200-4b86-9d95-9ffe33e3d417\")) {                    Plotly.newPlot(                        \"863faaa0-4200-4b86-9d95-9ffe33e3d417\",                        [{\"marker\":{\"color\":\"#C8D2D7\",\"line\":{\"color\":\"#6E8484\",\"width\":1}},\"orientation\":\"h\",\"x\":[0.06269461862492166,0.3693926652881698,0.04962272092979533,0.05167461996594204,0.04437248990808516,0.0418952822855755,0.06040180434500458,0.04410245812316216,0.05860104503531621,0.04122147860473418],\"y\":[\"<b>Topic 0</b>: book_learn_computer_good...\",\"<b>Topic 1</b>: problem_algorithm_comple...\",\"<b>Topic 2</b>: language_compiler_progra...\",\"<b>Topic 3</b>: hash_ip_server_address_p...\",\"<b>Topic 4</b>: memory_data_byte_address...\",\"<b>Topic 5</b>: program_computer_enginee...\",\"<b>Topic 6</b>: abazbz2abz_2cd_cdc_cpu_i...\",\"<b>Topic 7</b>: channel_title_video_some...\",\"<b>Topic 8</b>: ai_think_movie_organism_...\",\"<b>Topic 9</b>: experiment_code_project_...\"],\"type\":\"bar\"}],                        {\"template\":{\"data\":{\"barpolar\":[{\"marker\":{\"line\":{\"color\":\"white\",\"width\":0.5},\"pattern\":{\"fillmode\":\"overlay\",\"size\":10,\"solidity\":0.2}},\"type\":\"barpolar\"}],\"bar\":[{\"error_x\":{\"color\":\"rgb(36,36,36)\"},\"error_y\":{\"color\":\"rgb(36,36,36)\"},\"marker\":{\"line\":{\"color\":\"white\",\"width\":0.5},\"pattern\":{\"fillmode\":\"overlay\",\"size\":10,\"solidity\":0.2}},\"type\":\"bar\"}],\"carpet\":[{\"aaxis\":{\"endlinecolor\":\"rgb(36,36,36)\",\"gridcolor\":\"white\",\"linecolor\":\"white\",\"minorgridcolor\":\"white\",\"startlinecolor\":\"rgb(36,36,36)\"},\"baxis\":{\"endlinecolor\":\"rgb(36,36,36)\",\"gridcolor\":\"white\",\"linecolor\":\"white\",\"minorgridcolor\":\"white\",\"startlinecolor\":\"rgb(36,36,36)\"},\"type\":\"carpet\"}],\"choropleth\":[{\"colorbar\":{\"outlinewidth\":1,\"tickcolor\":\"rgb(36,36,36)\",\"ticks\":\"outside\"},\"type\":\"choropleth\"}],\"contourcarpet\":[{\"colorbar\":{\"outlinewidth\":1,\"tickcolor\":\"rgb(36,36,36)\",\"ticks\":\"outside\"},\"type\":\"contourcarpet\"}],\"contour\":[{\"colorbar\":{\"outlinewidth\":1,\"tickcolor\":\"rgb(36,36,36)\",\"ticks\":\"outside\"},\"colorscale\":[[0.0,\"#440154\"],[0.1111111111111111,\"#482878\"],[0.2222222222222222,\"#3e4989\"],[0.3333333333333333,\"#31688e\"],[0.4444444444444444,\"#26828e\"],[0.5555555555555556,\"#1f9e89\"],[0.6666666666666666,\"#35b779\"],[0.7777777777777778,\"#6ece58\"],[0.8888888888888888,\"#b5de2b\"],[1.0,\"#fde725\"]],\"type\":\"contour\"}],\"heatmapgl\":[{\"colorbar\":{\"outlinewidth\":1,\"tickcolor\":\"rgb(36,36,36)\",\"ticks\":\"outside\"},\"colorscale\":[[0.0,\"#440154\"],[0.1111111111111111,\"#482878\"],[0.2222222222222222,\"#3e4989\"],[0.3333333333333333,\"#31688e\"],[0.4444444444444444,\"#26828e\"],[0.5555555555555556,\"#1f9e89\"],[0.6666666666666666,\"#35b779\"],[0.7777777777777778,\"#6ece58\"],[0.8888888888888888,\"#b5de2b\"],[1.0,\"#fde725\"]],\"type\":\"heatmapgl\"}],\"heatmap\":[{\"colorbar\":{\"outlinewidth\":1,\"tickcolor\":\"rgb(36,36,36)\",\"ticks\":\"outside\"},\"colorscale\":[[0.0,\"#440154\"],[0.1111111111111111,\"#482878\"],[0.2222222222222222,\"#3e4989\"],[0.3333333333333333,\"#31688e\"],[0.4444444444444444,\"#26828e\"],[0.5555555555555556,\"#1f9e89\"],[0.6666666666666666,\"#35b779\"],[0.7777777777777778,\"#6ece58\"],[0.8888888888888888,\"#b5de2b\"],[1.0,\"#fde725\"]],\"type\":\"heatmap\"}],\"histogram2dcontour\":[{\"colorbar\":{\"outlinewidth\":1,\"tickcolor\":\"rgb(36,36,36)\",\"ticks\":\"outside\"},\"colorscale\":[[0.0,\"#440154\"],[0.1111111111111111,\"#482878\"],[0.2222222222222222,\"#3e4989\"],[0.3333333333333333,\"#31688e\"],[0.4444444444444444,\"#26828e\"],[0.5555555555555556,\"#1f9e89\"],[0.6666666666666666,\"#35b779\"],[0.7777777777777778,\"#6ece58\"],[0.8888888888888888,\"#b5de2b\"],[1.0,\"#fde725\"]],\"type\":\"histogram2dcontour\"}],\"histogram2d\":[{\"colorbar\":{\"outlinewidth\":1,\"tickcolor\":\"rgb(36,36,36)\",\"ticks\":\"outside\"},\"colorscale\":[[0.0,\"#440154\"],[0.1111111111111111,\"#482878\"],[0.2222222222222222,\"#3e4989\"],[0.3333333333333333,\"#31688e\"],[0.4444444444444444,\"#26828e\"],[0.5555555555555556,\"#1f9e89\"],[0.6666666666666666,\"#35b779\"],[0.7777777777777778,\"#6ece58\"],[0.8888888888888888,\"#b5de2b\"],[1.0,\"#fde725\"]],\"type\":\"histogram2d\"}],\"histogram\":[{\"marker\":{\"line\":{\"color\":\"white\",\"width\":0.6}},\"type\":\"histogram\"}],\"mesh3d\":[{\"colorbar\":{\"outlinewidth\":1,\"tickcolor\":\"rgb(36,36,36)\",\"ticks\":\"outside\"},\"type\":\"mesh3d\"}],\"parcoords\":[{\"line\":{\"colorbar\":{\"outlinewidth\":1,\"tickcolor\":\"rgb(36,36,36)\",\"ticks\":\"outside\"}},\"type\":\"parcoords\"}],\"pie\":[{\"automargin\":true,\"type\":\"pie\"}],\"scatter3d\":[{\"line\":{\"colorbar\":{\"outlinewidth\":1,\"tickcolor\":\"rgb(36,36,36)\",\"ticks\":\"outside\"}},\"marker\":{\"colorbar\":{\"outlinewidth\":1,\"tickcolor\":\"rgb(36,36,36)\",\"ticks\":\"outside\"}},\"type\":\"scatter3d\"}],\"scattercarpet\":[{\"marker\":{\"colorbar\":{\"outlinewidth\":1,\"tickcolor\":\"rgb(36,36,36)\",\"ticks\":\"outside\"}},\"type\":\"scattercarpet\"}],\"scattergeo\":[{\"marker\":{\"colorbar\":{\"outlinewidth\":1,\"tickcolor\":\"rgb(36,36,36)\",\"ticks\":\"outside\"}},\"type\":\"scattergeo\"}],\"scattergl\":[{\"marker\":{\"colorbar\":{\"outlinewidth\":1,\"tickcolor\":\"rgb(36,36,36)\",\"ticks\":\"outside\"}},\"type\":\"scattergl\"}],\"scattermapbox\":[{\"marker\":{\"colorbar\":{\"outlinewidth\":1,\"tickcolor\":\"rgb(36,36,36)\",\"ticks\":\"outside\"}},\"type\":\"scattermapbox\"}],\"scatterpolargl\":[{\"marker\":{\"colorbar\":{\"outlinewidth\":1,\"tickcolor\":\"rgb(36,36,36)\",\"ticks\":\"outside\"}},\"type\":\"scatterpolargl\"}],\"scatterpolar\":[{\"marker\":{\"colorbar\":{\"outlinewidth\":1,\"tickcolor\":\"rgb(36,36,36)\",\"ticks\":\"outside\"}},\"type\":\"scatterpolar\"}],\"scatter\":[{\"marker\":{\"colorbar\":{\"outlinewidth\":1,\"tickcolor\":\"rgb(36,36,36)\",\"ticks\":\"outside\"}},\"type\":\"scatter\"}],\"scatterternary\":[{\"marker\":{\"colorbar\":{\"outlinewidth\":1,\"tickcolor\":\"rgb(36,36,36)\",\"ticks\":\"outside\"}},\"type\":\"scatterternary\"}],\"surface\":[{\"colorbar\":{\"outlinewidth\":1,\"tickcolor\":\"rgb(36,36,36)\",\"ticks\":\"outside\"},\"colorscale\":[[0.0,\"#440154\"],[0.1111111111111111,\"#482878\"],[0.2222222222222222,\"#3e4989\"],[0.3333333333333333,\"#31688e\"],[0.4444444444444444,\"#26828e\"],[0.5555555555555556,\"#1f9e89\"],[0.6666666666666666,\"#35b779\"],[0.7777777777777778,\"#6ece58\"],[0.8888888888888888,\"#b5de2b\"],[1.0,\"#fde725\"]],\"type\":\"surface\"}],\"table\":[{\"cells\":{\"fill\":{\"color\":\"rgb(237,237,237)\"},\"line\":{\"color\":\"white\"}},\"header\":{\"fill\":{\"color\":\"rgb(217,217,217)\"},\"line\":{\"color\":\"white\"}},\"type\":\"table\"}]},\"layout\":{\"annotationdefaults\":{\"arrowhead\":0,\"arrowwidth\":1},\"autotypenumbers\":\"strict\",\"coloraxis\":{\"colorbar\":{\"outlinewidth\":1,\"tickcolor\":\"rgb(36,36,36)\",\"ticks\":\"outside\"}},\"colorscale\":{\"diverging\":[[0.0,\"rgb(103,0,31)\"],[0.1,\"rgb(178,24,43)\"],[0.2,\"rgb(214,96,77)\"],[0.3,\"rgb(244,165,130)\"],[0.4,\"rgb(253,219,199)\"],[0.5,\"rgb(247,247,247)\"],[0.6,\"rgb(209,229,240)\"],[0.7,\"rgb(146,197,222)\"],[0.8,\"rgb(67,147,195)\"],[0.9,\"rgb(33,102,172)\"],[1.0,\"rgb(5,48,97)\"]],\"sequential\":[[0.0,\"#440154\"],[0.1111111111111111,\"#482878\"],[0.2222222222222222,\"#3e4989\"],[0.3333333333333333,\"#31688e\"],[0.4444444444444444,\"#26828e\"],[0.5555555555555556,\"#1f9e89\"],[0.6666666666666666,\"#35b779\"],[0.7777777777777778,\"#6ece58\"],[0.8888888888888888,\"#b5de2b\"],[1.0,\"#fde725\"]],\"sequentialminus\":[[0.0,\"#440154\"],[0.1111111111111111,\"#482878\"],[0.2222222222222222,\"#3e4989\"],[0.3333333333333333,\"#31688e\"],[0.4444444444444444,\"#26828e\"],[0.5555555555555556,\"#1f9e89\"],[0.6666666666666666,\"#35b779\"],[0.7777777777777778,\"#6ece58\"],[0.8888888888888888,\"#b5de2b\"],[1.0,\"#fde725\"]]},\"colorway\":[\"#1F77B4\",\"#FF7F0E\",\"#2CA02C\",\"#D62728\",\"#9467BD\",\"#8C564B\",\"#E377C2\",\"#7F7F7F\",\"#BCBD22\",\"#17BECF\"],\"font\":{\"color\":\"rgb(36,36,36)\"},\"geo\":{\"bgcolor\":\"white\",\"lakecolor\":\"white\",\"landcolor\":\"white\",\"showlakes\":true,\"showland\":true,\"subunitcolor\":\"white\"},\"hoverlabel\":{\"align\":\"left\"},\"hovermode\":\"closest\",\"mapbox\":{\"style\":\"light\"},\"paper_bgcolor\":\"white\",\"plot_bgcolor\":\"white\",\"polar\":{\"angularaxis\":{\"gridcolor\":\"rgb(232,232,232)\",\"linecolor\":\"rgb(36,36,36)\",\"showgrid\":false,\"showline\":true,\"ticks\":\"outside\"},\"bgcolor\":\"white\",\"radialaxis\":{\"gridcolor\":\"rgb(232,232,232)\",\"linecolor\":\"rgb(36,36,36)\",\"showgrid\":false,\"showline\":true,\"ticks\":\"outside\"}},\"scene\":{\"xaxis\":{\"backgroundcolor\":\"white\",\"gridcolor\":\"rgb(232,232,232)\",\"gridwidth\":2,\"linecolor\":\"rgb(36,36,36)\",\"showbackground\":true,\"showgrid\":false,\"showline\":true,\"ticks\":\"outside\",\"zeroline\":false,\"zerolinecolor\":\"rgb(36,36,36)\"},\"yaxis\":{\"backgroundcolor\":\"white\",\"gridcolor\":\"rgb(232,232,232)\",\"gridwidth\":2,\"linecolor\":\"rgb(36,36,36)\",\"showbackground\":true,\"showgrid\":false,\"showline\":true,\"ticks\":\"outside\",\"zeroline\":false,\"zerolinecolor\":\"rgb(36,36,36)\"},\"zaxis\":{\"backgroundcolor\":\"white\",\"gridcolor\":\"rgb(232,232,232)\",\"gridwidth\":2,\"linecolor\":\"rgb(36,36,36)\",\"showbackground\":true,\"showgrid\":false,\"showline\":true,\"ticks\":\"outside\",\"zeroline\":false,\"zerolinecolor\":\"rgb(36,36,36)\"}},\"shapedefaults\":{\"fillcolor\":\"black\",\"line\":{\"width\":0},\"opacity\":0.3},\"ternary\":{\"aaxis\":{\"gridcolor\":\"rgb(232,232,232)\",\"linecolor\":\"rgb(36,36,36)\",\"showgrid\":false,\"showline\":true,\"ticks\":\"outside\"},\"baxis\":{\"gridcolor\":\"rgb(232,232,232)\",\"linecolor\":\"rgb(36,36,36)\",\"showgrid\":false,\"showline\":true,\"ticks\":\"outside\"},\"bgcolor\":\"white\",\"caxis\":{\"gridcolor\":\"rgb(232,232,232)\",\"linecolor\":\"rgb(36,36,36)\",\"showgrid\":false,\"showline\":true,\"ticks\":\"outside\"}},\"title\":{\"x\":0.05},\"xaxis\":{\"automargin\":true,\"gridcolor\":\"rgb(232,232,232)\",\"linecolor\":\"rgb(36,36,36)\",\"showgrid\":false,\"showline\":true,\"ticks\":\"outside\",\"title\":{\"standoff\":15},\"zeroline\":false,\"zerolinecolor\":\"rgb(36,36,36)\"},\"yaxis\":{\"automargin\":true,\"gridcolor\":\"rgb(232,232,232)\",\"linecolor\":\"rgb(36,36,36)\",\"showgrid\":false,\"showline\":true,\"ticks\":\"outside\",\"title\":{\"standoff\":15},\"zeroline\":false,\"zerolinecolor\":\"rgb(36,36,36)\"}}},\"title\":{\"font\":{\"size\":22,\"color\":\"Black\"},\"text\":\"<b>Topic Probability Distribution\",\"y\":0.95,\"x\":0.5,\"xanchor\":\"center\",\"yanchor\":\"top\"},\"hoverlabel\":{\"font\":{\"size\":16,\"family\":\"Rockwell\"},\"bgcolor\":\"white\"},\"xaxis\":{\"title\":{\"text\":\"Probability\"}},\"width\":800,\"height\":600},                        {\"responsive\": true}                    ).then(function(){\n",
       "                            \n",
       "var gd = document.getElementById('863faaa0-4200-4b86-9d95-9ffe33e3d417');\n",
       "var x = new MutationObserver(function (mutations, observer) {{\n",
       "        var display = window.getComputedStyle(gd).display;\n",
       "        if (!display || display === 'none') {{\n",
       "            console.log([gd, 'removed!']);\n",
       "            Plotly.purge(gd);\n",
       "            observer.disconnect();\n",
       "        }}\n",
       "}});\n",
       "\n",
       "// Listen for the removal of the full notebook cells\n",
       "var notebookContainer = gd.closest('#notebook-container');\n",
       "if (notebookContainer) {{\n",
       "    x.observe(notebookContainer, {childList: true});\n",
       "}}\n",
       "\n",
       "// Listen for the clearing of the current output cell\n",
       "var outputEl = gd.closest('.output');\n",
       "if (outputEl) {{\n",
       "    x.observe(outputEl, {childList: true});\n",
       "}}\n",
       "\n",
       "                        })                };                });            </script>        </div>"
      ]
     },
     "metadata": {},
     "output_type": "display_data"
    }
   ],
   "source": [
    "topic_model1.visualize_distribution(probs1[200], min_probability=0.015)"
   ]
  },
  {
   "cell_type": "code",
   "execution_count": 174,
   "id": "6de0054a",
   "metadata": {},
   "outputs": [
    {
     "data": {
      "application/vnd.plotly.v1+json": {
       "config": {
        "plotlyServerURL": "https://plot.ly"
       },
       "data": [
        {
         "marker": {
          "color": "#D55E00"
         },
         "orientation": "h",
         "type": "bar",
         "x": [
          0.030363074218954816,
          0.040899863843725036,
          0.04189415331516505,
          0.04727096998073948,
          0.08301234170212264
         ],
         "xaxis": "x",
         "y": [
          "get  ",
          "good  ",
          "computer  ",
          "learn  ",
          "book  "
         ],
         "yaxis": "y"
        },
        {
         "marker": {
          "color": "#0072B2"
         },
         "orientation": "h",
         "type": "bar",
         "x": [
          0.0352582594295795,
          0.03869486836478,
          0.03973815030070513,
          0.04457005443666178,
          0.051993838344855194
         ],
         "xaxis": "x2",
         "y": [
          "optimization  ",
          "time  ",
          "complexity  ",
          "algorithm  ",
          "problem  "
         ],
         "yaxis": "y2"
        },
        {
         "marker": {
          "color": "#CC79A7"
         },
         "orientation": "h",
         "type": "bar",
         "x": [
          0.03833070439714641,
          0.042148444521824195,
          0.048015897493989185,
          0.050937348367578336,
          0.11109157660605158
         ],
         "xaxis": "x3",
         "y": [
          "like  ",
          "string  ",
          "program  ",
          "compiler  ",
          "language  "
         ],
         "yaxis": "y3"
        },
        {
         "marker": {
          "color": "#E69F00"
         },
         "orientation": "h",
         "type": "bar",
         "x": [
          0.05623883719961421,
          0.06156554655623732,
          0.06157693676284266,
          0.06679425646468544,
          0.07096999979097689
         ],
         "xaxis": "x4",
         "y": [
          "password  ",
          "address  ",
          "server  ",
          "ip  ",
          "hash  "
         ],
         "yaxis": "y4"
        },
        {
         "marker": {
          "color": "#56B4E9"
         },
         "orientation": "h",
         "type": "bar",
         "x": [
          0.04876572246975596,
          0.058277895286172963,
          0.07946300630909776,
          0.08125155123133286,
          0.13824749472809622
         ],
         "xaxis": "x5",
         "y": [
          "bit  ",
          "address  ",
          "byte  ",
          "data  ",
          "memory  "
         ],
         "yaxis": "y5"
        },
        {
         "marker": {
          "color": "#009E73"
         },
         "orientation": "h",
         "type": "bar",
         "x": [
          0.0399620282583347,
          0.03999113263694754,
          0.04404797860877459,
          0.046203068518598886,
          0.05670819399425157
         ],
         "xaxis": "x6",
         "y": [
          "want  ",
          "language  ",
          "engineer  ",
          "computer  ",
          "program  "
         ],
         "yaxis": "y6"
        },
        {
         "marker": {
          "color": "#F0E442"
         },
         "orientation": "h",
         "type": "bar",
         "x": [
          0.03361950275812562,
          0.06500982399216515,
          0.08667684836252317,
          0.08667684836252317,
          0.20991623937828913
         ],
         "xaxis": "x7",
         "y": [
          "instruction  ",
          "cpu  ",
          "cdc  ",
          "2cd  ",
          "abazbz2abz  "
         ],
         "yaxis": "y7"
        },
        {
         "marker": {
          "color": "#D55E00"
         },
         "orientation": "h",
         "type": "bar",
         "x": [
          0.08312805633869338,
          0.08381613763810457,
          0.09275790547801001,
          0.1007040925876165,
          0.10920793593875834
         ],
         "xaxis": "x8",
         "y": [
          "youtube  ",
          "something  ",
          "video  ",
          "title  ",
          "channel  "
         ],
         "yaxis": "y8"
        },
        {
         "marker": {
          "color": "#0072B2"
         },
         "orientation": "h",
         "type": "bar",
         "x": [
          0.030571991095669195,
          0.03644768157902777,
          0.04057710346303151,
          0.05279994457441808,
          0.0756313346985259
         ],
         "xaxis": "x9",
         "y": [
          "learn  ",
          "organism  ",
          "movie  ",
          "think  ",
          "ai  "
         ],
         "yaxis": "y9"
        },
        {
         "marker": {
          "color": "#CC79A7"
         },
         "orientation": "h",
         "type": "bar",
         "x": [
          0.055200292890013554,
          0.057169424614445,
          0.0719603203271974,
          0.07826382768934886,
          0.09783100288298216
         ],
         "xaxis": "x10",
         "y": [
          "website  ",
          "like  ",
          "project  ",
          "code  ",
          "experiment  "
         ],
         "yaxis": "y10"
        }
       ],
       "layout": {
        "annotations": [
         {
          "font": {
           "size": 16
          },
          "showarrow": false,
          "text": "Topic 0",
          "x": 0.0875,
          "xanchor": "center",
          "xref": "paper",
          "y": 1,
          "yanchor": "bottom",
          "yref": "paper"
         },
         {
          "font": {
           "size": 16
          },
          "showarrow": false,
          "text": "Topic 1",
          "x": 0.36250000000000004,
          "xanchor": "center",
          "xref": "paper",
          "y": 1,
          "yanchor": "bottom",
          "yref": "paper"
         },
         {
          "font": {
           "size": 16
          },
          "showarrow": false,
          "text": "Topic 2",
          "x": 0.6375000000000001,
          "xanchor": "center",
          "xref": "paper",
          "y": 1,
          "yanchor": "bottom",
          "yref": "paper"
         },
         {
          "font": {
           "size": 16
          },
          "showarrow": false,
          "text": "Topic 3",
          "x": 0.9125,
          "xanchor": "center",
          "xref": "paper",
          "y": 1,
          "yanchor": "bottom",
          "yref": "paper"
         },
         {
          "font": {
           "size": 16
          },
          "showarrow": false,
          "text": "Topic 4",
          "x": 0.0875,
          "xanchor": "center",
          "xref": "paper",
          "y": 0.6222222222222222,
          "yanchor": "bottom",
          "yref": "paper"
         },
         {
          "font": {
           "size": 16
          },
          "showarrow": false,
          "text": "Topic 5",
          "x": 0.36250000000000004,
          "xanchor": "center",
          "xref": "paper",
          "y": 0.6222222222222222,
          "yanchor": "bottom",
          "yref": "paper"
         },
         {
          "font": {
           "size": 16
          },
          "showarrow": false,
          "text": "Topic 6",
          "x": 0.6375000000000001,
          "xanchor": "center",
          "xref": "paper",
          "y": 0.6222222222222222,
          "yanchor": "bottom",
          "yref": "paper"
         },
         {
          "font": {
           "size": 16
          },
          "showarrow": false,
          "text": "Topic 7",
          "x": 0.9125,
          "xanchor": "center",
          "xref": "paper",
          "y": 0.6222222222222222,
          "yanchor": "bottom",
          "yref": "paper"
         },
         {
          "font": {
           "size": 16
          },
          "showarrow": false,
          "text": "Topic 8",
          "x": 0.0875,
          "xanchor": "center",
          "xref": "paper",
          "y": 0.24444444444444446,
          "yanchor": "bottom",
          "yref": "paper"
         },
         {
          "font": {
           "size": 16
          },
          "showarrow": false,
          "text": "Topic 9",
          "x": 0.36250000000000004,
          "xanchor": "center",
          "xref": "paper",
          "y": 0.24444444444444446,
          "yanchor": "bottom",
          "yref": "paper"
         }
        ],
        "height": 750,
        "hoverlabel": {
         "bgcolor": "white",
         "font": {
          "family": "Rockwell",
          "size": 16
         }
        },
        "showlegend": false,
        "template": {
         "data": {
          "bar": [
           {
            "error_x": {
             "color": "#2a3f5f"
            },
            "error_y": {
             "color": "#2a3f5f"
            },
            "marker": {
             "line": {
              "color": "white",
              "width": 0.5
             },
             "pattern": {
              "fillmode": "overlay",
              "size": 10,
              "solidity": 0.2
             }
            },
            "type": "bar"
           }
          ],
          "barpolar": [
           {
            "marker": {
             "line": {
              "color": "white",
              "width": 0.5
             },
             "pattern": {
              "fillmode": "overlay",
              "size": 10,
              "solidity": 0.2
             }
            },
            "type": "barpolar"
           }
          ],
          "carpet": [
           {
            "aaxis": {
             "endlinecolor": "#2a3f5f",
             "gridcolor": "#C8D4E3",
             "linecolor": "#C8D4E3",
             "minorgridcolor": "#C8D4E3",
             "startlinecolor": "#2a3f5f"
            },
            "baxis": {
             "endlinecolor": "#2a3f5f",
             "gridcolor": "#C8D4E3",
             "linecolor": "#C8D4E3",
             "minorgridcolor": "#C8D4E3",
             "startlinecolor": "#2a3f5f"
            },
            "type": "carpet"
           }
          ],
          "choropleth": [
           {
            "colorbar": {
             "outlinewidth": 0,
             "ticks": ""
            },
            "type": "choropleth"
           }
          ],
          "contour": [
           {
            "colorbar": {
             "outlinewidth": 0,
             "ticks": ""
            },
            "colorscale": [
             [
              0,
              "#0d0887"
             ],
             [
              0.1111111111111111,
              "#46039f"
             ],
             [
              0.2222222222222222,
              "#7201a8"
             ],
             [
              0.3333333333333333,
              "#9c179e"
             ],
             [
              0.4444444444444444,
              "#bd3786"
             ],
             [
              0.5555555555555556,
              "#d8576b"
             ],
             [
              0.6666666666666666,
              "#ed7953"
             ],
             [
              0.7777777777777778,
              "#fb9f3a"
             ],
             [
              0.8888888888888888,
              "#fdca26"
             ],
             [
              1,
              "#f0f921"
             ]
            ],
            "type": "contour"
           }
          ],
          "contourcarpet": [
           {
            "colorbar": {
             "outlinewidth": 0,
             "ticks": ""
            },
            "type": "contourcarpet"
           }
          ],
          "heatmap": [
           {
            "colorbar": {
             "outlinewidth": 0,
             "ticks": ""
            },
            "colorscale": [
             [
              0,
              "#0d0887"
             ],
             [
              0.1111111111111111,
              "#46039f"
             ],
             [
              0.2222222222222222,
              "#7201a8"
             ],
             [
              0.3333333333333333,
              "#9c179e"
             ],
             [
              0.4444444444444444,
              "#bd3786"
             ],
             [
              0.5555555555555556,
              "#d8576b"
             ],
             [
              0.6666666666666666,
              "#ed7953"
             ],
             [
              0.7777777777777778,
              "#fb9f3a"
             ],
             [
              0.8888888888888888,
              "#fdca26"
             ],
             [
              1,
              "#f0f921"
             ]
            ],
            "type": "heatmap"
           }
          ],
          "heatmapgl": [
           {
            "colorbar": {
             "outlinewidth": 0,
             "ticks": ""
            },
            "colorscale": [
             [
              0,
              "#0d0887"
             ],
             [
              0.1111111111111111,
              "#46039f"
             ],
             [
              0.2222222222222222,
              "#7201a8"
             ],
             [
              0.3333333333333333,
              "#9c179e"
             ],
             [
              0.4444444444444444,
              "#bd3786"
             ],
             [
              0.5555555555555556,
              "#d8576b"
             ],
             [
              0.6666666666666666,
              "#ed7953"
             ],
             [
              0.7777777777777778,
              "#fb9f3a"
             ],
             [
              0.8888888888888888,
              "#fdca26"
             ],
             [
              1,
              "#f0f921"
             ]
            ],
            "type": "heatmapgl"
           }
          ],
          "histogram": [
           {
            "marker": {
             "pattern": {
              "fillmode": "overlay",
              "size": 10,
              "solidity": 0.2
             }
            },
            "type": "histogram"
           }
          ],
          "histogram2d": [
           {
            "colorbar": {
             "outlinewidth": 0,
             "ticks": ""
            },
            "colorscale": [
             [
              0,
              "#0d0887"
             ],
             [
              0.1111111111111111,
              "#46039f"
             ],
             [
              0.2222222222222222,
              "#7201a8"
             ],
             [
              0.3333333333333333,
              "#9c179e"
             ],
             [
              0.4444444444444444,
              "#bd3786"
             ],
             [
              0.5555555555555556,
              "#d8576b"
             ],
             [
              0.6666666666666666,
              "#ed7953"
             ],
             [
              0.7777777777777778,
              "#fb9f3a"
             ],
             [
              0.8888888888888888,
              "#fdca26"
             ],
             [
              1,
              "#f0f921"
             ]
            ],
            "type": "histogram2d"
           }
          ],
          "histogram2dcontour": [
           {
            "colorbar": {
             "outlinewidth": 0,
             "ticks": ""
            },
            "colorscale": [
             [
              0,
              "#0d0887"
             ],
             [
              0.1111111111111111,
              "#46039f"
             ],
             [
              0.2222222222222222,
              "#7201a8"
             ],
             [
              0.3333333333333333,
              "#9c179e"
             ],
             [
              0.4444444444444444,
              "#bd3786"
             ],
             [
              0.5555555555555556,
              "#d8576b"
             ],
             [
              0.6666666666666666,
              "#ed7953"
             ],
             [
              0.7777777777777778,
              "#fb9f3a"
             ],
             [
              0.8888888888888888,
              "#fdca26"
             ],
             [
              1,
              "#f0f921"
             ]
            ],
            "type": "histogram2dcontour"
           }
          ],
          "mesh3d": [
           {
            "colorbar": {
             "outlinewidth": 0,
             "ticks": ""
            },
            "type": "mesh3d"
           }
          ],
          "parcoords": [
           {
            "line": {
             "colorbar": {
              "outlinewidth": 0,
              "ticks": ""
             }
            },
            "type": "parcoords"
           }
          ],
          "pie": [
           {
            "automargin": true,
            "type": "pie"
           }
          ],
          "scatter": [
           {
            "marker": {
             "colorbar": {
              "outlinewidth": 0,
              "ticks": ""
             }
            },
            "type": "scatter"
           }
          ],
          "scatter3d": [
           {
            "line": {
             "colorbar": {
              "outlinewidth": 0,
              "ticks": ""
             }
            },
            "marker": {
             "colorbar": {
              "outlinewidth": 0,
              "ticks": ""
             }
            },
            "type": "scatter3d"
           }
          ],
          "scattercarpet": [
           {
            "marker": {
             "colorbar": {
              "outlinewidth": 0,
              "ticks": ""
             }
            },
            "type": "scattercarpet"
           }
          ],
          "scattergeo": [
           {
            "marker": {
             "colorbar": {
              "outlinewidth": 0,
              "ticks": ""
             }
            },
            "type": "scattergeo"
           }
          ],
          "scattergl": [
           {
            "marker": {
             "colorbar": {
              "outlinewidth": 0,
              "ticks": ""
             }
            },
            "type": "scattergl"
           }
          ],
          "scattermapbox": [
           {
            "marker": {
             "colorbar": {
              "outlinewidth": 0,
              "ticks": ""
             }
            },
            "type": "scattermapbox"
           }
          ],
          "scatterpolar": [
           {
            "marker": {
             "colorbar": {
              "outlinewidth": 0,
              "ticks": ""
             }
            },
            "type": "scatterpolar"
           }
          ],
          "scatterpolargl": [
           {
            "marker": {
             "colorbar": {
              "outlinewidth": 0,
              "ticks": ""
             }
            },
            "type": "scatterpolargl"
           }
          ],
          "scatterternary": [
           {
            "marker": {
             "colorbar": {
              "outlinewidth": 0,
              "ticks": ""
             }
            },
            "type": "scatterternary"
           }
          ],
          "surface": [
           {
            "colorbar": {
             "outlinewidth": 0,
             "ticks": ""
            },
            "colorscale": [
             [
              0,
              "#0d0887"
             ],
             [
              0.1111111111111111,
              "#46039f"
             ],
             [
              0.2222222222222222,
              "#7201a8"
             ],
             [
              0.3333333333333333,
              "#9c179e"
             ],
             [
              0.4444444444444444,
              "#bd3786"
             ],
             [
              0.5555555555555556,
              "#d8576b"
             ],
             [
              0.6666666666666666,
              "#ed7953"
             ],
             [
              0.7777777777777778,
              "#fb9f3a"
             ],
             [
              0.8888888888888888,
              "#fdca26"
             ],
             [
              1,
              "#f0f921"
             ]
            ],
            "type": "surface"
           }
          ],
          "table": [
           {
            "cells": {
             "fill": {
              "color": "#EBF0F8"
             },
             "line": {
              "color": "white"
             }
            },
            "header": {
             "fill": {
              "color": "#C8D4E3"
             },
             "line": {
              "color": "white"
             }
            },
            "type": "table"
           }
          ]
         },
         "layout": {
          "annotationdefaults": {
           "arrowcolor": "#2a3f5f",
           "arrowhead": 0,
           "arrowwidth": 1
          },
          "autotypenumbers": "strict",
          "coloraxis": {
           "colorbar": {
            "outlinewidth": 0,
            "ticks": ""
           }
          },
          "colorscale": {
           "diverging": [
            [
             0,
             "#8e0152"
            ],
            [
             0.1,
             "#c51b7d"
            ],
            [
             0.2,
             "#de77ae"
            ],
            [
             0.3,
             "#f1b6da"
            ],
            [
             0.4,
             "#fde0ef"
            ],
            [
             0.5,
             "#f7f7f7"
            ],
            [
             0.6,
             "#e6f5d0"
            ],
            [
             0.7,
             "#b8e186"
            ],
            [
             0.8,
             "#7fbc41"
            ],
            [
             0.9,
             "#4d9221"
            ],
            [
             1,
             "#276419"
            ]
           ],
           "sequential": [
            [
             0,
             "#0d0887"
            ],
            [
             0.1111111111111111,
             "#46039f"
            ],
            [
             0.2222222222222222,
             "#7201a8"
            ],
            [
             0.3333333333333333,
             "#9c179e"
            ],
            [
             0.4444444444444444,
             "#bd3786"
            ],
            [
             0.5555555555555556,
             "#d8576b"
            ],
            [
             0.6666666666666666,
             "#ed7953"
            ],
            [
             0.7777777777777778,
             "#fb9f3a"
            ],
            [
             0.8888888888888888,
             "#fdca26"
            ],
            [
             1,
             "#f0f921"
            ]
           ],
           "sequentialminus": [
            [
             0,
             "#0d0887"
            ],
            [
             0.1111111111111111,
             "#46039f"
            ],
            [
             0.2222222222222222,
             "#7201a8"
            ],
            [
             0.3333333333333333,
             "#9c179e"
            ],
            [
             0.4444444444444444,
             "#bd3786"
            ],
            [
             0.5555555555555556,
             "#d8576b"
            ],
            [
             0.6666666666666666,
             "#ed7953"
            ],
            [
             0.7777777777777778,
             "#fb9f3a"
            ],
            [
             0.8888888888888888,
             "#fdca26"
            ],
            [
             1,
             "#f0f921"
            ]
           ]
          },
          "colorway": [
           "#636efa",
           "#EF553B",
           "#00cc96",
           "#ab63fa",
           "#FFA15A",
           "#19d3f3",
           "#FF6692",
           "#B6E880",
           "#FF97FF",
           "#FECB52"
          ],
          "font": {
           "color": "#2a3f5f"
          },
          "geo": {
           "bgcolor": "white",
           "lakecolor": "white",
           "landcolor": "white",
           "showlakes": true,
           "showland": true,
           "subunitcolor": "#C8D4E3"
          },
          "hoverlabel": {
           "align": "left"
          },
          "hovermode": "closest",
          "mapbox": {
           "style": "light"
          },
          "paper_bgcolor": "white",
          "plot_bgcolor": "white",
          "polar": {
           "angularaxis": {
            "gridcolor": "#EBF0F8",
            "linecolor": "#EBF0F8",
            "ticks": ""
           },
           "bgcolor": "white",
           "radialaxis": {
            "gridcolor": "#EBF0F8",
            "linecolor": "#EBF0F8",
            "ticks": ""
           }
          },
          "scene": {
           "xaxis": {
            "backgroundcolor": "white",
            "gridcolor": "#DFE8F3",
            "gridwidth": 2,
            "linecolor": "#EBF0F8",
            "showbackground": true,
            "ticks": "",
            "zerolinecolor": "#EBF0F8"
           },
           "yaxis": {
            "backgroundcolor": "white",
            "gridcolor": "#DFE8F3",
            "gridwidth": 2,
            "linecolor": "#EBF0F8",
            "showbackground": true,
            "ticks": "",
            "zerolinecolor": "#EBF0F8"
           },
           "zaxis": {
            "backgroundcolor": "white",
            "gridcolor": "#DFE8F3",
            "gridwidth": 2,
            "linecolor": "#EBF0F8",
            "showbackground": true,
            "ticks": "",
            "zerolinecolor": "#EBF0F8"
           }
          },
          "shapedefaults": {
           "line": {
            "color": "#2a3f5f"
           }
          },
          "ternary": {
           "aaxis": {
            "gridcolor": "#DFE8F3",
            "linecolor": "#A2B1C6",
            "ticks": ""
           },
           "baxis": {
            "gridcolor": "#DFE8F3",
            "linecolor": "#A2B1C6",
            "ticks": ""
           },
           "bgcolor": "white",
           "caxis": {
            "gridcolor": "#DFE8F3",
            "linecolor": "#A2B1C6",
            "ticks": ""
           }
          },
          "title": {
           "x": 0.05
          },
          "xaxis": {
           "automargin": true,
           "gridcolor": "#EBF0F8",
           "linecolor": "#EBF0F8",
           "ticks": "",
           "title": {
            "standoff": 15
           },
           "zerolinecolor": "#EBF0F8",
           "zerolinewidth": 2
          },
          "yaxis": {
           "automargin": true,
           "gridcolor": "#EBF0F8",
           "linecolor": "#EBF0F8",
           "ticks": "",
           "title": {
            "standoff": 15
           },
           "zerolinecolor": "#EBF0F8",
           "zerolinewidth": 2
          }
         }
        },
        "title": {
         "font": {
          "color": "Black",
          "size": 22
         },
         "text": "<b>Topic Word Scores",
         "x": 0.5,
         "xanchor": "center",
         "yanchor": "top"
        },
        "width": 1000,
        "xaxis": {
         "anchor": "y",
         "domain": [
          0,
          0.175
         ],
         "showgrid": true
        },
        "xaxis10": {
         "anchor": "y10",
         "domain": [
          0.275,
          0.45
         ],
         "showgrid": true
        },
        "xaxis11": {
         "anchor": "y11",
         "domain": [
          0.55,
          0.7250000000000001
         ],
         "showgrid": true
        },
        "xaxis12": {
         "anchor": "y12",
         "domain": [
          0.825,
          1
         ],
         "showgrid": true
        },
        "xaxis2": {
         "anchor": "y2",
         "domain": [
          0.275,
          0.45
         ],
         "showgrid": true
        },
        "xaxis3": {
         "anchor": "y3",
         "domain": [
          0.55,
          0.7250000000000001
         ],
         "showgrid": true
        },
        "xaxis4": {
         "anchor": "y4",
         "domain": [
          0.825,
          1
         ],
         "showgrid": true
        },
        "xaxis5": {
         "anchor": "y5",
         "domain": [
          0,
          0.175
         ],
         "showgrid": true
        },
        "xaxis6": {
         "anchor": "y6",
         "domain": [
          0.275,
          0.45
         ],
         "showgrid": true
        },
        "xaxis7": {
         "anchor": "y7",
         "domain": [
          0.55,
          0.7250000000000001
         ],
         "showgrid": true
        },
        "xaxis8": {
         "anchor": "y8",
         "domain": [
          0.825,
          1
         ],
         "showgrid": true
        },
        "xaxis9": {
         "anchor": "y9",
         "domain": [
          0,
          0.175
         ],
         "showgrid": true
        },
        "yaxis": {
         "anchor": "x",
         "domain": [
          0.7555555555555555,
          1
         ],
         "showgrid": true
        },
        "yaxis10": {
         "anchor": "x10",
         "domain": [
          0,
          0.24444444444444446
         ],
         "showgrid": true
        },
        "yaxis11": {
         "anchor": "x11",
         "domain": [
          0,
          0.24444444444444446
         ],
         "showgrid": true
        },
        "yaxis12": {
         "anchor": "x12",
         "domain": [
          0,
          0.24444444444444446
         ],
         "showgrid": true
        },
        "yaxis2": {
         "anchor": "x2",
         "domain": [
          0.7555555555555555,
          1
         ],
         "showgrid": true
        },
        "yaxis3": {
         "anchor": "x3",
         "domain": [
          0.7555555555555555,
          1
         ],
         "showgrid": true
        },
        "yaxis4": {
         "anchor": "x4",
         "domain": [
          0.7555555555555555,
          1
         ],
         "showgrid": true
        },
        "yaxis5": {
         "anchor": "x5",
         "domain": [
          0.37777777777777777,
          0.6222222222222222
         ],
         "showgrid": true
        },
        "yaxis6": {
         "anchor": "x6",
         "domain": [
          0.37777777777777777,
          0.6222222222222222
         ],
         "showgrid": true
        },
        "yaxis7": {
         "anchor": "x7",
         "domain": [
          0.37777777777777777,
          0.6222222222222222
         ],
         "showgrid": true
        },
        "yaxis8": {
         "anchor": "x8",
         "domain": [
          0.37777777777777777,
          0.6222222222222222
         ],
         "showgrid": true
        },
        "yaxis9": {
         "anchor": "x9",
         "domain": [
          0,
          0.24444444444444446
         ],
         "showgrid": true
        }
       }
      },
      "text/html": [
       "<div>                            <div id=\"1a24ad35-82b5-4ec0-bb60-df01f7babcae\" class=\"plotly-graph-div\" style=\"height:750px; width:1000px;\"></div>            <script type=\"text/javascript\">                require([\"plotly\"], function(Plotly) {                    window.PLOTLYENV=window.PLOTLYENV || {};                                    if (document.getElementById(\"1a24ad35-82b5-4ec0-bb60-df01f7babcae\")) {                    Plotly.newPlot(                        \"1a24ad35-82b5-4ec0-bb60-df01f7babcae\",                        [{\"marker\":{\"color\":\"#D55E00\"},\"orientation\":\"h\",\"x\":[0.030363074218954816,0.040899863843725036,0.04189415331516505,0.04727096998073948,0.08301234170212264],\"y\":[\"get  \",\"good  \",\"computer  \",\"learn  \",\"book  \"],\"type\":\"bar\",\"xaxis\":\"x\",\"yaxis\":\"y\"},{\"marker\":{\"color\":\"#0072B2\"},\"orientation\":\"h\",\"x\":[0.0352582594295795,0.03869486836478,0.03973815030070513,0.04457005443666178,0.051993838344855194],\"y\":[\"optimization  \",\"time  \",\"complexity  \",\"algorithm  \",\"problem  \"],\"type\":\"bar\",\"xaxis\":\"x2\",\"yaxis\":\"y2\"},{\"marker\":{\"color\":\"#CC79A7\"},\"orientation\":\"h\",\"x\":[0.03833070439714641,0.042148444521824195,0.048015897493989185,0.050937348367578336,0.11109157660605158],\"y\":[\"like  \",\"string  \",\"program  \",\"compiler  \",\"language  \"],\"type\":\"bar\",\"xaxis\":\"x3\",\"yaxis\":\"y3\"},{\"marker\":{\"color\":\"#E69F00\"},\"orientation\":\"h\",\"x\":[0.05623883719961421,0.06156554655623732,0.06157693676284266,0.06679425646468544,0.07096999979097689],\"y\":[\"password  \",\"address  \",\"server  \",\"ip  \",\"hash  \"],\"type\":\"bar\",\"xaxis\":\"x4\",\"yaxis\":\"y4\"},{\"marker\":{\"color\":\"#56B4E9\"},\"orientation\":\"h\",\"x\":[0.04876572246975596,0.058277895286172963,0.07946300630909776,0.08125155123133286,0.13824749472809622],\"y\":[\"bit  \",\"address  \",\"byte  \",\"data  \",\"memory  \"],\"type\":\"bar\",\"xaxis\":\"x5\",\"yaxis\":\"y5\"},{\"marker\":{\"color\":\"#009E73\"},\"orientation\":\"h\",\"x\":[0.0399620282583347,0.03999113263694754,0.04404797860877459,0.046203068518598886,0.05670819399425157],\"y\":[\"want  \",\"language  \",\"engineer  \",\"computer  \",\"program  \"],\"type\":\"bar\",\"xaxis\":\"x6\",\"yaxis\":\"y6\"},{\"marker\":{\"color\":\"#F0E442\"},\"orientation\":\"h\",\"x\":[0.03361950275812562,0.06500982399216515,0.08667684836252317,0.08667684836252317,0.20991623937828913],\"y\":[\"instruction  \",\"cpu  \",\"cdc  \",\"2cd  \",\"abazbz2abz  \"],\"type\":\"bar\",\"xaxis\":\"x7\",\"yaxis\":\"y7\"},{\"marker\":{\"color\":\"#D55E00\"},\"orientation\":\"h\",\"x\":[0.08312805633869338,0.08381613763810457,0.09275790547801001,0.1007040925876165,0.10920793593875834],\"y\":[\"youtube  \",\"something  \",\"video  \",\"title  \",\"channel  \"],\"type\":\"bar\",\"xaxis\":\"x8\",\"yaxis\":\"y8\"},{\"marker\":{\"color\":\"#0072B2\"},\"orientation\":\"h\",\"x\":[0.030571991095669195,0.03644768157902777,0.04057710346303151,0.05279994457441808,0.0756313346985259],\"y\":[\"learn  \",\"organism  \",\"movie  \",\"think  \",\"ai  \"],\"type\":\"bar\",\"xaxis\":\"x9\",\"yaxis\":\"y9\"},{\"marker\":{\"color\":\"#CC79A7\"},\"orientation\":\"h\",\"x\":[0.055200292890013554,0.057169424614445,0.0719603203271974,0.07826382768934886,0.09783100288298216],\"y\":[\"website  \",\"like  \",\"project  \",\"code  \",\"experiment  \"],\"type\":\"bar\",\"xaxis\":\"x10\",\"yaxis\":\"y10\"}],                        {\"template\":{\"data\":{\"barpolar\":[{\"marker\":{\"line\":{\"color\":\"white\",\"width\":0.5},\"pattern\":{\"fillmode\":\"overlay\",\"size\":10,\"solidity\":0.2}},\"type\":\"barpolar\"}],\"bar\":[{\"error_x\":{\"color\":\"#2a3f5f\"},\"error_y\":{\"color\":\"#2a3f5f\"},\"marker\":{\"line\":{\"color\":\"white\",\"width\":0.5},\"pattern\":{\"fillmode\":\"overlay\",\"size\":10,\"solidity\":0.2}},\"type\":\"bar\"}],\"carpet\":[{\"aaxis\":{\"endlinecolor\":\"#2a3f5f\",\"gridcolor\":\"#C8D4E3\",\"linecolor\":\"#C8D4E3\",\"minorgridcolor\":\"#C8D4E3\",\"startlinecolor\":\"#2a3f5f\"},\"baxis\":{\"endlinecolor\":\"#2a3f5f\",\"gridcolor\":\"#C8D4E3\",\"linecolor\":\"#C8D4E3\",\"minorgridcolor\":\"#C8D4E3\",\"startlinecolor\":\"#2a3f5f\"},\"type\":\"carpet\"}],\"choropleth\":[{\"colorbar\":{\"outlinewidth\":0,\"ticks\":\"\"},\"type\":\"choropleth\"}],\"contourcarpet\":[{\"colorbar\":{\"outlinewidth\":0,\"ticks\":\"\"},\"type\":\"contourcarpet\"}],\"contour\":[{\"colorbar\":{\"outlinewidth\":0,\"ticks\":\"\"},\"colorscale\":[[0.0,\"#0d0887\"],[0.1111111111111111,\"#46039f\"],[0.2222222222222222,\"#7201a8\"],[0.3333333333333333,\"#9c179e\"],[0.4444444444444444,\"#bd3786\"],[0.5555555555555556,\"#d8576b\"],[0.6666666666666666,\"#ed7953\"],[0.7777777777777778,\"#fb9f3a\"],[0.8888888888888888,\"#fdca26\"],[1.0,\"#f0f921\"]],\"type\":\"contour\"}],\"heatmapgl\":[{\"colorbar\":{\"outlinewidth\":0,\"ticks\":\"\"},\"colorscale\":[[0.0,\"#0d0887\"],[0.1111111111111111,\"#46039f\"],[0.2222222222222222,\"#7201a8\"],[0.3333333333333333,\"#9c179e\"],[0.4444444444444444,\"#bd3786\"],[0.5555555555555556,\"#d8576b\"],[0.6666666666666666,\"#ed7953\"],[0.7777777777777778,\"#fb9f3a\"],[0.8888888888888888,\"#fdca26\"],[1.0,\"#f0f921\"]],\"type\":\"heatmapgl\"}],\"heatmap\":[{\"colorbar\":{\"outlinewidth\":0,\"ticks\":\"\"},\"colorscale\":[[0.0,\"#0d0887\"],[0.1111111111111111,\"#46039f\"],[0.2222222222222222,\"#7201a8\"],[0.3333333333333333,\"#9c179e\"],[0.4444444444444444,\"#bd3786\"],[0.5555555555555556,\"#d8576b\"],[0.6666666666666666,\"#ed7953\"],[0.7777777777777778,\"#fb9f3a\"],[0.8888888888888888,\"#fdca26\"],[1.0,\"#f0f921\"]],\"type\":\"heatmap\"}],\"histogram2dcontour\":[{\"colorbar\":{\"outlinewidth\":0,\"ticks\":\"\"},\"colorscale\":[[0.0,\"#0d0887\"],[0.1111111111111111,\"#46039f\"],[0.2222222222222222,\"#7201a8\"],[0.3333333333333333,\"#9c179e\"],[0.4444444444444444,\"#bd3786\"],[0.5555555555555556,\"#d8576b\"],[0.6666666666666666,\"#ed7953\"],[0.7777777777777778,\"#fb9f3a\"],[0.8888888888888888,\"#fdca26\"],[1.0,\"#f0f921\"]],\"type\":\"histogram2dcontour\"}],\"histogram2d\":[{\"colorbar\":{\"outlinewidth\":0,\"ticks\":\"\"},\"colorscale\":[[0.0,\"#0d0887\"],[0.1111111111111111,\"#46039f\"],[0.2222222222222222,\"#7201a8\"],[0.3333333333333333,\"#9c179e\"],[0.4444444444444444,\"#bd3786\"],[0.5555555555555556,\"#d8576b\"],[0.6666666666666666,\"#ed7953\"],[0.7777777777777778,\"#fb9f3a\"],[0.8888888888888888,\"#fdca26\"],[1.0,\"#f0f921\"]],\"type\":\"histogram2d\"}],\"histogram\":[{\"marker\":{\"pattern\":{\"fillmode\":\"overlay\",\"size\":10,\"solidity\":0.2}},\"type\":\"histogram\"}],\"mesh3d\":[{\"colorbar\":{\"outlinewidth\":0,\"ticks\":\"\"},\"type\":\"mesh3d\"}],\"parcoords\":[{\"line\":{\"colorbar\":{\"outlinewidth\":0,\"ticks\":\"\"}},\"type\":\"parcoords\"}],\"pie\":[{\"automargin\":true,\"type\":\"pie\"}],\"scatter3d\":[{\"line\":{\"colorbar\":{\"outlinewidth\":0,\"ticks\":\"\"}},\"marker\":{\"colorbar\":{\"outlinewidth\":0,\"ticks\":\"\"}},\"type\":\"scatter3d\"}],\"scattercarpet\":[{\"marker\":{\"colorbar\":{\"outlinewidth\":0,\"ticks\":\"\"}},\"type\":\"scattercarpet\"}],\"scattergeo\":[{\"marker\":{\"colorbar\":{\"outlinewidth\":0,\"ticks\":\"\"}},\"type\":\"scattergeo\"}],\"scattergl\":[{\"marker\":{\"colorbar\":{\"outlinewidth\":0,\"ticks\":\"\"}},\"type\":\"scattergl\"}],\"scattermapbox\":[{\"marker\":{\"colorbar\":{\"outlinewidth\":0,\"ticks\":\"\"}},\"type\":\"scattermapbox\"}],\"scatterpolargl\":[{\"marker\":{\"colorbar\":{\"outlinewidth\":0,\"ticks\":\"\"}},\"type\":\"scatterpolargl\"}],\"scatterpolar\":[{\"marker\":{\"colorbar\":{\"outlinewidth\":0,\"ticks\":\"\"}},\"type\":\"scatterpolar\"}],\"scatter\":[{\"marker\":{\"colorbar\":{\"outlinewidth\":0,\"ticks\":\"\"}},\"type\":\"scatter\"}],\"scatterternary\":[{\"marker\":{\"colorbar\":{\"outlinewidth\":0,\"ticks\":\"\"}},\"type\":\"scatterternary\"}],\"surface\":[{\"colorbar\":{\"outlinewidth\":0,\"ticks\":\"\"},\"colorscale\":[[0.0,\"#0d0887\"],[0.1111111111111111,\"#46039f\"],[0.2222222222222222,\"#7201a8\"],[0.3333333333333333,\"#9c179e\"],[0.4444444444444444,\"#bd3786\"],[0.5555555555555556,\"#d8576b\"],[0.6666666666666666,\"#ed7953\"],[0.7777777777777778,\"#fb9f3a\"],[0.8888888888888888,\"#fdca26\"],[1.0,\"#f0f921\"]],\"type\":\"surface\"}],\"table\":[{\"cells\":{\"fill\":{\"color\":\"#EBF0F8\"},\"line\":{\"color\":\"white\"}},\"header\":{\"fill\":{\"color\":\"#C8D4E3\"},\"line\":{\"color\":\"white\"}},\"type\":\"table\"}]},\"layout\":{\"annotationdefaults\":{\"arrowcolor\":\"#2a3f5f\",\"arrowhead\":0,\"arrowwidth\":1},\"autotypenumbers\":\"strict\",\"coloraxis\":{\"colorbar\":{\"outlinewidth\":0,\"ticks\":\"\"}},\"colorscale\":{\"diverging\":[[0,\"#8e0152\"],[0.1,\"#c51b7d\"],[0.2,\"#de77ae\"],[0.3,\"#f1b6da\"],[0.4,\"#fde0ef\"],[0.5,\"#f7f7f7\"],[0.6,\"#e6f5d0\"],[0.7,\"#b8e186\"],[0.8,\"#7fbc41\"],[0.9,\"#4d9221\"],[1,\"#276419\"]],\"sequential\":[[0.0,\"#0d0887\"],[0.1111111111111111,\"#46039f\"],[0.2222222222222222,\"#7201a8\"],[0.3333333333333333,\"#9c179e\"],[0.4444444444444444,\"#bd3786\"],[0.5555555555555556,\"#d8576b\"],[0.6666666666666666,\"#ed7953\"],[0.7777777777777778,\"#fb9f3a\"],[0.8888888888888888,\"#fdca26\"],[1.0,\"#f0f921\"]],\"sequentialminus\":[[0.0,\"#0d0887\"],[0.1111111111111111,\"#46039f\"],[0.2222222222222222,\"#7201a8\"],[0.3333333333333333,\"#9c179e\"],[0.4444444444444444,\"#bd3786\"],[0.5555555555555556,\"#d8576b\"],[0.6666666666666666,\"#ed7953\"],[0.7777777777777778,\"#fb9f3a\"],[0.8888888888888888,\"#fdca26\"],[1.0,\"#f0f921\"]]},\"colorway\":[\"#636efa\",\"#EF553B\",\"#00cc96\",\"#ab63fa\",\"#FFA15A\",\"#19d3f3\",\"#FF6692\",\"#B6E880\",\"#FF97FF\",\"#FECB52\"],\"font\":{\"color\":\"#2a3f5f\"},\"geo\":{\"bgcolor\":\"white\",\"lakecolor\":\"white\",\"landcolor\":\"white\",\"showlakes\":true,\"showland\":true,\"subunitcolor\":\"#C8D4E3\"},\"hoverlabel\":{\"align\":\"left\"},\"hovermode\":\"closest\",\"mapbox\":{\"style\":\"light\"},\"paper_bgcolor\":\"white\",\"plot_bgcolor\":\"white\",\"polar\":{\"angularaxis\":{\"gridcolor\":\"#EBF0F8\",\"linecolor\":\"#EBF0F8\",\"ticks\":\"\"},\"bgcolor\":\"white\",\"radialaxis\":{\"gridcolor\":\"#EBF0F8\",\"linecolor\":\"#EBF0F8\",\"ticks\":\"\"}},\"scene\":{\"xaxis\":{\"backgroundcolor\":\"white\",\"gridcolor\":\"#DFE8F3\",\"gridwidth\":2,\"linecolor\":\"#EBF0F8\",\"showbackground\":true,\"ticks\":\"\",\"zerolinecolor\":\"#EBF0F8\"},\"yaxis\":{\"backgroundcolor\":\"white\",\"gridcolor\":\"#DFE8F3\",\"gridwidth\":2,\"linecolor\":\"#EBF0F8\",\"showbackground\":true,\"ticks\":\"\",\"zerolinecolor\":\"#EBF0F8\"},\"zaxis\":{\"backgroundcolor\":\"white\",\"gridcolor\":\"#DFE8F3\",\"gridwidth\":2,\"linecolor\":\"#EBF0F8\",\"showbackground\":true,\"ticks\":\"\",\"zerolinecolor\":\"#EBF0F8\"}},\"shapedefaults\":{\"line\":{\"color\":\"#2a3f5f\"}},\"ternary\":{\"aaxis\":{\"gridcolor\":\"#DFE8F3\",\"linecolor\":\"#A2B1C6\",\"ticks\":\"\"},\"baxis\":{\"gridcolor\":\"#DFE8F3\",\"linecolor\":\"#A2B1C6\",\"ticks\":\"\"},\"bgcolor\":\"white\",\"caxis\":{\"gridcolor\":\"#DFE8F3\",\"linecolor\":\"#A2B1C6\",\"ticks\":\"\"}},\"title\":{\"x\":0.05},\"xaxis\":{\"automargin\":true,\"gridcolor\":\"#EBF0F8\",\"linecolor\":\"#EBF0F8\",\"ticks\":\"\",\"title\":{\"standoff\":15},\"zerolinecolor\":\"#EBF0F8\",\"zerolinewidth\":2},\"yaxis\":{\"automargin\":true,\"gridcolor\":\"#EBF0F8\",\"linecolor\":\"#EBF0F8\",\"ticks\":\"\",\"title\":{\"standoff\":15},\"zerolinecolor\":\"#EBF0F8\",\"zerolinewidth\":2}}},\"xaxis\":{\"anchor\":\"y\",\"domain\":[0.0,0.175],\"showgrid\":true},\"yaxis\":{\"anchor\":\"x\",\"domain\":[0.7555555555555555,1.0],\"showgrid\":true},\"xaxis2\":{\"anchor\":\"y2\",\"domain\":[0.275,0.45],\"showgrid\":true},\"yaxis2\":{\"anchor\":\"x2\",\"domain\":[0.7555555555555555,1.0],\"showgrid\":true},\"xaxis3\":{\"anchor\":\"y3\",\"domain\":[0.55,0.7250000000000001],\"showgrid\":true},\"yaxis3\":{\"anchor\":\"x3\",\"domain\":[0.7555555555555555,1.0],\"showgrid\":true},\"xaxis4\":{\"anchor\":\"y4\",\"domain\":[0.825,1.0],\"showgrid\":true},\"yaxis4\":{\"anchor\":\"x4\",\"domain\":[0.7555555555555555,1.0],\"showgrid\":true},\"xaxis5\":{\"anchor\":\"y5\",\"domain\":[0.0,0.175],\"showgrid\":true},\"yaxis5\":{\"anchor\":\"x5\",\"domain\":[0.37777777777777777,0.6222222222222222],\"showgrid\":true},\"xaxis6\":{\"anchor\":\"y6\",\"domain\":[0.275,0.45],\"showgrid\":true},\"yaxis6\":{\"anchor\":\"x6\",\"domain\":[0.37777777777777777,0.6222222222222222],\"showgrid\":true},\"xaxis7\":{\"anchor\":\"y7\",\"domain\":[0.55,0.7250000000000001],\"showgrid\":true},\"yaxis7\":{\"anchor\":\"x7\",\"domain\":[0.37777777777777777,0.6222222222222222],\"showgrid\":true},\"xaxis8\":{\"anchor\":\"y8\",\"domain\":[0.825,1.0],\"showgrid\":true},\"yaxis8\":{\"anchor\":\"x8\",\"domain\":[0.37777777777777777,0.6222222222222222],\"showgrid\":true},\"xaxis9\":{\"anchor\":\"y9\",\"domain\":[0.0,0.175],\"showgrid\":true},\"yaxis9\":{\"anchor\":\"x9\",\"domain\":[0.0,0.24444444444444446],\"showgrid\":true},\"xaxis10\":{\"anchor\":\"y10\",\"domain\":[0.275,0.45],\"showgrid\":true},\"yaxis10\":{\"anchor\":\"x10\",\"domain\":[0.0,0.24444444444444446],\"showgrid\":true},\"xaxis11\":{\"anchor\":\"y11\",\"domain\":[0.55,0.7250000000000001],\"showgrid\":true},\"yaxis11\":{\"anchor\":\"x11\",\"domain\":[0.0,0.24444444444444446],\"showgrid\":true},\"xaxis12\":{\"anchor\":\"y12\",\"domain\":[0.825,1.0],\"showgrid\":true},\"yaxis12\":{\"anchor\":\"x12\",\"domain\":[0.0,0.24444444444444446],\"showgrid\":true},\"annotations\":[{\"font\":{\"size\":16},\"showarrow\":false,\"text\":\"Topic 0\",\"x\":0.0875,\"xanchor\":\"center\",\"xref\":\"paper\",\"y\":1.0,\"yanchor\":\"bottom\",\"yref\":\"paper\"},{\"font\":{\"size\":16},\"showarrow\":false,\"text\":\"Topic 1\",\"x\":0.36250000000000004,\"xanchor\":\"center\",\"xref\":\"paper\",\"y\":1.0,\"yanchor\":\"bottom\",\"yref\":\"paper\"},{\"font\":{\"size\":16},\"showarrow\":false,\"text\":\"Topic 2\",\"x\":0.6375000000000001,\"xanchor\":\"center\",\"xref\":\"paper\",\"y\":1.0,\"yanchor\":\"bottom\",\"yref\":\"paper\"},{\"font\":{\"size\":16},\"showarrow\":false,\"text\":\"Topic 3\",\"x\":0.9125,\"xanchor\":\"center\",\"xref\":\"paper\",\"y\":1.0,\"yanchor\":\"bottom\",\"yref\":\"paper\"},{\"font\":{\"size\":16},\"showarrow\":false,\"text\":\"Topic 4\",\"x\":0.0875,\"xanchor\":\"center\",\"xref\":\"paper\",\"y\":0.6222222222222222,\"yanchor\":\"bottom\",\"yref\":\"paper\"},{\"font\":{\"size\":16},\"showarrow\":false,\"text\":\"Topic 5\",\"x\":0.36250000000000004,\"xanchor\":\"center\",\"xref\":\"paper\",\"y\":0.6222222222222222,\"yanchor\":\"bottom\",\"yref\":\"paper\"},{\"font\":{\"size\":16},\"showarrow\":false,\"text\":\"Topic 6\",\"x\":0.6375000000000001,\"xanchor\":\"center\",\"xref\":\"paper\",\"y\":0.6222222222222222,\"yanchor\":\"bottom\",\"yref\":\"paper\"},{\"font\":{\"size\":16},\"showarrow\":false,\"text\":\"Topic 7\",\"x\":0.9125,\"xanchor\":\"center\",\"xref\":\"paper\",\"y\":0.6222222222222222,\"yanchor\":\"bottom\",\"yref\":\"paper\"},{\"font\":{\"size\":16},\"showarrow\":false,\"text\":\"Topic 8\",\"x\":0.0875,\"xanchor\":\"center\",\"xref\":\"paper\",\"y\":0.24444444444444446,\"yanchor\":\"bottom\",\"yref\":\"paper\"},{\"font\":{\"size\":16},\"showarrow\":false,\"text\":\"Topic 9\",\"x\":0.36250000000000004,\"xanchor\":\"center\",\"xref\":\"paper\",\"y\":0.24444444444444446,\"yanchor\":\"bottom\",\"yref\":\"paper\"}],\"title\":{\"font\":{\"size\":22,\"color\":\"Black\"},\"text\":\"<b>Topic Word Scores\",\"x\":0.5,\"xanchor\":\"center\",\"yanchor\":\"top\"},\"hoverlabel\":{\"font\":{\"size\":16,\"family\":\"Rockwell\"},\"bgcolor\":\"white\"},\"showlegend\":false,\"width\":1000,\"height\":750},                        {\"responsive\": true}                    ).then(function(){\n",
       "                            \n",
       "var gd = document.getElementById('1a24ad35-82b5-4ec0-bb60-df01f7babcae');\n",
       "var x = new MutationObserver(function (mutations, observer) {{\n",
       "        var display = window.getComputedStyle(gd).display;\n",
       "        if (!display || display === 'none') {{\n",
       "            console.log([gd, 'removed!']);\n",
       "            Plotly.purge(gd);\n",
       "            observer.disconnect();\n",
       "        }}\n",
       "}});\n",
       "\n",
       "// Listen for the removal of the full notebook cells\n",
       "var notebookContainer = gd.closest('#notebook-container');\n",
       "if (notebookContainer) {{\n",
       "    x.observe(notebookContainer, {childList: true});\n",
       "}}\n",
       "\n",
       "// Listen for the clearing of the current output cell\n",
       "var outputEl = gd.closest('.output');\n",
       "if (outputEl) {{\n",
       "    x.observe(outputEl, {childList: true});\n",
       "}}\n",
       "\n",
       "                        })                };                });            </script>        </div>"
      ]
     },
     "metadata": {},
     "output_type": "display_data"
    }
   ],
   "source": [
    "topic_model1.visualize_barchart(top_n_topics=10)"
   ]
  },
  {
   "cell_type": "code",
   "execution_count": 175,
   "id": "d039765b",
   "metadata": {},
   "outputs": [
    {
     "data": {
      "text/plain": [
       "Counter({2: 42,\n",
       "         1: 73,\n",
       "         -1: 301,\n",
       "         5: 33,\n",
       "         0: 81,\n",
       "         6: 26,\n",
       "         7: 20,\n",
       "         3: 36,\n",
       "         4: 35,\n",
       "         8: 19,\n",
       "         9: 12})"
      ]
     },
     "execution_count": 175,
     "metadata": {},
     "output_type": "execute_result"
    }
   ],
   "source": [
    "from collections import Counter\n",
    "\n",
    "Counter(topics1)"
   ]
  },
  {
   "cell_type": "markdown",
   "id": "531ae0b8",
   "metadata": {},
   "source": [
    "## Reducing the number of topics to 5"
   ]
  },
  {
   "cell_type": "code",
   "execution_count": 176,
   "id": "06b7dd3b",
   "metadata": {},
   "outputs": [
    {
     "name": "stderr",
     "output_type": "stream",
     "text": [
      "2022-02-07 22:38:55,486 - BERTopic - Reduced number of topics from 11 to 6\n"
     ]
    }
   ],
   "source": [
    "new_topics, new_probs = topic_model1.reduce_topics(docs1, topics1, probs1, nr_topics=5)"
   ]
  },
  {
   "cell_type": "code",
   "execution_count": 177,
   "id": "c529a160",
   "metadata": {},
   "outputs": [],
   "source": [
    "topic_model1.update_topics(docs1, topics1, n_gram_range=(1, 3))"
   ]
  },
  {
   "cell_type": "code",
   "execution_count": 178,
   "id": "6fd0e181",
   "metadata": {},
   "outputs": [
    {
     "data": {
      "application/vnd.plotly.v1+json": {
       "config": {
        "plotlyServerURL": "https://plot.ly"
       },
       "data": [
        {
         "marker": {
          "color": "#D55E00"
         },
         "orientation": "h",
         "type": "bar",
         "x": [
          0.014022393769278167,
          0.01797548190433544,
          0.02019989833577531,
          0.021580854601903933,
          0.03691994579431544
         ],
         "xaxis": "x",
         "y": [
          "get  ",
          "good  ",
          "computer  ",
          "learn  ",
          "book  "
         ],
         "yaxis": "y"
        },
        {
         "marker": {
          "color": "#0072B2"
         },
         "orientation": "h",
         "type": "bar",
         "x": [
          0.014721704176038665,
          0.01662604786280058,
          0.017634186443905634,
          0.020242666801255724,
          0.02367489963915418
         ],
         "xaxis": "x2",
         "y": [
          "optimization  ",
          "complexity  ",
          "time  ",
          "algorithm  ",
          "problem  "
         ],
         "yaxis": "y2"
        },
        {
         "marker": {
          "color": "#CC79A7"
         },
         "orientation": "h",
         "type": "bar",
         "x": [
          0.017943897837098547,
          0.018329050422791766,
          0.02125452574866796,
          0.022297618234795955,
          0.04900335621472238
         ],
         "xaxis": "x3",
         "y": [
          "use  ",
          "like  ",
          "compiler  ",
          "program  ",
          "language  "
         ],
         "yaxis": "y3"
        },
        {
         "marker": {
          "color": "#E69F00"
         },
         "orientation": "h",
         "type": "bar",
         "x": [
          0.02272092463937938,
          0.02537017237771811,
          0.02620948475629014,
          0.02733476149326725,
          0.029164092515554157
         ],
         "xaxis": "x4",
         "y": [
          "password  ",
          "server  ",
          "address  ",
          "ip  ",
          "hash  "
         ],
         "yaxis": "y4"
        },
        {
         "marker": {
          "color": "#56B4E9"
         },
         "orientation": "h",
         "type": "bar",
         "x": [
          0.021411345219088752,
          0.024807187494957784,
          0.03315329438430839,
          0.03691242962328582,
          0.0606645969872742
         ],
         "xaxis": "x5",
         "y": [
          "bit  ",
          "address  ",
          "byte  ",
          "data  ",
          "memory  "
         ],
         "yaxis": "y5"
        }
       ],
       "layout": {
        "annotations": [
         {
          "font": {
           "size": 16
          },
          "showarrow": false,
          "text": "Topic 0",
          "x": 0.0875,
          "xanchor": "center",
          "xref": "paper",
          "y": 1,
          "yanchor": "bottom",
          "yref": "paper"
         },
         {
          "font": {
           "size": 16
          },
          "showarrow": false,
          "text": "Topic 1",
          "x": 0.36250000000000004,
          "xanchor": "center",
          "xref": "paper",
          "y": 1,
          "yanchor": "bottom",
          "yref": "paper"
         },
         {
          "font": {
           "size": 16
          },
          "showarrow": false,
          "text": "Topic 2",
          "x": 0.6375000000000001,
          "xanchor": "center",
          "xref": "paper",
          "y": 1,
          "yanchor": "bottom",
          "yref": "paper"
         },
         {
          "font": {
           "size": 16
          },
          "showarrow": false,
          "text": "Topic 3",
          "x": 0.9125,
          "xanchor": "center",
          "xref": "paper",
          "y": 1,
          "yanchor": "bottom",
          "yref": "paper"
         },
         {
          "font": {
           "size": 16
          },
          "showarrow": false,
          "text": "Topic 4",
          "x": 0.0875,
          "xanchor": "center",
          "xref": "paper",
          "y": 0.4,
          "yanchor": "bottom",
          "yref": "paper"
         }
        ],
        "height": 500,
        "hoverlabel": {
         "bgcolor": "white",
         "font": {
          "family": "Rockwell",
          "size": 16
         }
        },
        "showlegend": false,
        "template": {
         "data": {
          "bar": [
           {
            "error_x": {
             "color": "#2a3f5f"
            },
            "error_y": {
             "color": "#2a3f5f"
            },
            "marker": {
             "line": {
              "color": "white",
              "width": 0.5
             },
             "pattern": {
              "fillmode": "overlay",
              "size": 10,
              "solidity": 0.2
             }
            },
            "type": "bar"
           }
          ],
          "barpolar": [
           {
            "marker": {
             "line": {
              "color": "white",
              "width": 0.5
             },
             "pattern": {
              "fillmode": "overlay",
              "size": 10,
              "solidity": 0.2
             }
            },
            "type": "barpolar"
           }
          ],
          "carpet": [
           {
            "aaxis": {
             "endlinecolor": "#2a3f5f",
             "gridcolor": "#C8D4E3",
             "linecolor": "#C8D4E3",
             "minorgridcolor": "#C8D4E3",
             "startlinecolor": "#2a3f5f"
            },
            "baxis": {
             "endlinecolor": "#2a3f5f",
             "gridcolor": "#C8D4E3",
             "linecolor": "#C8D4E3",
             "minorgridcolor": "#C8D4E3",
             "startlinecolor": "#2a3f5f"
            },
            "type": "carpet"
           }
          ],
          "choropleth": [
           {
            "colorbar": {
             "outlinewidth": 0,
             "ticks": ""
            },
            "type": "choropleth"
           }
          ],
          "contour": [
           {
            "colorbar": {
             "outlinewidth": 0,
             "ticks": ""
            },
            "colorscale": [
             [
              0,
              "#0d0887"
             ],
             [
              0.1111111111111111,
              "#46039f"
             ],
             [
              0.2222222222222222,
              "#7201a8"
             ],
             [
              0.3333333333333333,
              "#9c179e"
             ],
             [
              0.4444444444444444,
              "#bd3786"
             ],
             [
              0.5555555555555556,
              "#d8576b"
             ],
             [
              0.6666666666666666,
              "#ed7953"
             ],
             [
              0.7777777777777778,
              "#fb9f3a"
             ],
             [
              0.8888888888888888,
              "#fdca26"
             ],
             [
              1,
              "#f0f921"
             ]
            ],
            "type": "contour"
           }
          ],
          "contourcarpet": [
           {
            "colorbar": {
             "outlinewidth": 0,
             "ticks": ""
            },
            "type": "contourcarpet"
           }
          ],
          "heatmap": [
           {
            "colorbar": {
             "outlinewidth": 0,
             "ticks": ""
            },
            "colorscale": [
             [
              0,
              "#0d0887"
             ],
             [
              0.1111111111111111,
              "#46039f"
             ],
             [
              0.2222222222222222,
              "#7201a8"
             ],
             [
              0.3333333333333333,
              "#9c179e"
             ],
             [
              0.4444444444444444,
              "#bd3786"
             ],
             [
              0.5555555555555556,
              "#d8576b"
             ],
             [
              0.6666666666666666,
              "#ed7953"
             ],
             [
              0.7777777777777778,
              "#fb9f3a"
             ],
             [
              0.8888888888888888,
              "#fdca26"
             ],
             [
              1,
              "#f0f921"
             ]
            ],
            "type": "heatmap"
           }
          ],
          "heatmapgl": [
           {
            "colorbar": {
             "outlinewidth": 0,
             "ticks": ""
            },
            "colorscale": [
             [
              0,
              "#0d0887"
             ],
             [
              0.1111111111111111,
              "#46039f"
             ],
             [
              0.2222222222222222,
              "#7201a8"
             ],
             [
              0.3333333333333333,
              "#9c179e"
             ],
             [
              0.4444444444444444,
              "#bd3786"
             ],
             [
              0.5555555555555556,
              "#d8576b"
             ],
             [
              0.6666666666666666,
              "#ed7953"
             ],
             [
              0.7777777777777778,
              "#fb9f3a"
             ],
             [
              0.8888888888888888,
              "#fdca26"
             ],
             [
              1,
              "#f0f921"
             ]
            ],
            "type": "heatmapgl"
           }
          ],
          "histogram": [
           {
            "marker": {
             "pattern": {
              "fillmode": "overlay",
              "size": 10,
              "solidity": 0.2
             }
            },
            "type": "histogram"
           }
          ],
          "histogram2d": [
           {
            "colorbar": {
             "outlinewidth": 0,
             "ticks": ""
            },
            "colorscale": [
             [
              0,
              "#0d0887"
             ],
             [
              0.1111111111111111,
              "#46039f"
             ],
             [
              0.2222222222222222,
              "#7201a8"
             ],
             [
              0.3333333333333333,
              "#9c179e"
             ],
             [
              0.4444444444444444,
              "#bd3786"
             ],
             [
              0.5555555555555556,
              "#d8576b"
             ],
             [
              0.6666666666666666,
              "#ed7953"
             ],
             [
              0.7777777777777778,
              "#fb9f3a"
             ],
             [
              0.8888888888888888,
              "#fdca26"
             ],
             [
              1,
              "#f0f921"
             ]
            ],
            "type": "histogram2d"
           }
          ],
          "histogram2dcontour": [
           {
            "colorbar": {
             "outlinewidth": 0,
             "ticks": ""
            },
            "colorscale": [
             [
              0,
              "#0d0887"
             ],
             [
              0.1111111111111111,
              "#46039f"
             ],
             [
              0.2222222222222222,
              "#7201a8"
             ],
             [
              0.3333333333333333,
              "#9c179e"
             ],
             [
              0.4444444444444444,
              "#bd3786"
             ],
             [
              0.5555555555555556,
              "#d8576b"
             ],
             [
              0.6666666666666666,
              "#ed7953"
             ],
             [
              0.7777777777777778,
              "#fb9f3a"
             ],
             [
              0.8888888888888888,
              "#fdca26"
             ],
             [
              1,
              "#f0f921"
             ]
            ],
            "type": "histogram2dcontour"
           }
          ],
          "mesh3d": [
           {
            "colorbar": {
             "outlinewidth": 0,
             "ticks": ""
            },
            "type": "mesh3d"
           }
          ],
          "parcoords": [
           {
            "line": {
             "colorbar": {
              "outlinewidth": 0,
              "ticks": ""
             }
            },
            "type": "parcoords"
           }
          ],
          "pie": [
           {
            "automargin": true,
            "type": "pie"
           }
          ],
          "scatter": [
           {
            "marker": {
             "colorbar": {
              "outlinewidth": 0,
              "ticks": ""
             }
            },
            "type": "scatter"
           }
          ],
          "scatter3d": [
           {
            "line": {
             "colorbar": {
              "outlinewidth": 0,
              "ticks": ""
             }
            },
            "marker": {
             "colorbar": {
              "outlinewidth": 0,
              "ticks": ""
             }
            },
            "type": "scatter3d"
           }
          ],
          "scattercarpet": [
           {
            "marker": {
             "colorbar": {
              "outlinewidth": 0,
              "ticks": ""
             }
            },
            "type": "scattercarpet"
           }
          ],
          "scattergeo": [
           {
            "marker": {
             "colorbar": {
              "outlinewidth": 0,
              "ticks": ""
             }
            },
            "type": "scattergeo"
           }
          ],
          "scattergl": [
           {
            "marker": {
             "colorbar": {
              "outlinewidth": 0,
              "ticks": ""
             }
            },
            "type": "scattergl"
           }
          ],
          "scattermapbox": [
           {
            "marker": {
             "colorbar": {
              "outlinewidth": 0,
              "ticks": ""
             }
            },
            "type": "scattermapbox"
           }
          ],
          "scatterpolar": [
           {
            "marker": {
             "colorbar": {
              "outlinewidth": 0,
              "ticks": ""
             }
            },
            "type": "scatterpolar"
           }
          ],
          "scatterpolargl": [
           {
            "marker": {
             "colorbar": {
              "outlinewidth": 0,
              "ticks": ""
             }
            },
            "type": "scatterpolargl"
           }
          ],
          "scatterternary": [
           {
            "marker": {
             "colorbar": {
              "outlinewidth": 0,
              "ticks": ""
             }
            },
            "type": "scatterternary"
           }
          ],
          "surface": [
           {
            "colorbar": {
             "outlinewidth": 0,
             "ticks": ""
            },
            "colorscale": [
             [
              0,
              "#0d0887"
             ],
             [
              0.1111111111111111,
              "#46039f"
             ],
             [
              0.2222222222222222,
              "#7201a8"
             ],
             [
              0.3333333333333333,
              "#9c179e"
             ],
             [
              0.4444444444444444,
              "#bd3786"
             ],
             [
              0.5555555555555556,
              "#d8576b"
             ],
             [
              0.6666666666666666,
              "#ed7953"
             ],
             [
              0.7777777777777778,
              "#fb9f3a"
             ],
             [
              0.8888888888888888,
              "#fdca26"
             ],
             [
              1,
              "#f0f921"
             ]
            ],
            "type": "surface"
           }
          ],
          "table": [
           {
            "cells": {
             "fill": {
              "color": "#EBF0F8"
             },
             "line": {
              "color": "white"
             }
            },
            "header": {
             "fill": {
              "color": "#C8D4E3"
             },
             "line": {
              "color": "white"
             }
            },
            "type": "table"
           }
          ]
         },
         "layout": {
          "annotationdefaults": {
           "arrowcolor": "#2a3f5f",
           "arrowhead": 0,
           "arrowwidth": 1
          },
          "autotypenumbers": "strict",
          "coloraxis": {
           "colorbar": {
            "outlinewidth": 0,
            "ticks": ""
           }
          },
          "colorscale": {
           "diverging": [
            [
             0,
             "#8e0152"
            ],
            [
             0.1,
             "#c51b7d"
            ],
            [
             0.2,
             "#de77ae"
            ],
            [
             0.3,
             "#f1b6da"
            ],
            [
             0.4,
             "#fde0ef"
            ],
            [
             0.5,
             "#f7f7f7"
            ],
            [
             0.6,
             "#e6f5d0"
            ],
            [
             0.7,
             "#b8e186"
            ],
            [
             0.8,
             "#7fbc41"
            ],
            [
             0.9,
             "#4d9221"
            ],
            [
             1,
             "#276419"
            ]
           ],
           "sequential": [
            [
             0,
             "#0d0887"
            ],
            [
             0.1111111111111111,
             "#46039f"
            ],
            [
             0.2222222222222222,
             "#7201a8"
            ],
            [
             0.3333333333333333,
             "#9c179e"
            ],
            [
             0.4444444444444444,
             "#bd3786"
            ],
            [
             0.5555555555555556,
             "#d8576b"
            ],
            [
             0.6666666666666666,
             "#ed7953"
            ],
            [
             0.7777777777777778,
             "#fb9f3a"
            ],
            [
             0.8888888888888888,
             "#fdca26"
            ],
            [
             1,
             "#f0f921"
            ]
           ],
           "sequentialminus": [
            [
             0,
             "#0d0887"
            ],
            [
             0.1111111111111111,
             "#46039f"
            ],
            [
             0.2222222222222222,
             "#7201a8"
            ],
            [
             0.3333333333333333,
             "#9c179e"
            ],
            [
             0.4444444444444444,
             "#bd3786"
            ],
            [
             0.5555555555555556,
             "#d8576b"
            ],
            [
             0.6666666666666666,
             "#ed7953"
            ],
            [
             0.7777777777777778,
             "#fb9f3a"
            ],
            [
             0.8888888888888888,
             "#fdca26"
            ],
            [
             1,
             "#f0f921"
            ]
           ]
          },
          "colorway": [
           "#636efa",
           "#EF553B",
           "#00cc96",
           "#ab63fa",
           "#FFA15A",
           "#19d3f3",
           "#FF6692",
           "#B6E880",
           "#FF97FF",
           "#FECB52"
          ],
          "font": {
           "color": "#2a3f5f"
          },
          "geo": {
           "bgcolor": "white",
           "lakecolor": "white",
           "landcolor": "white",
           "showlakes": true,
           "showland": true,
           "subunitcolor": "#C8D4E3"
          },
          "hoverlabel": {
           "align": "left"
          },
          "hovermode": "closest",
          "mapbox": {
           "style": "light"
          },
          "paper_bgcolor": "white",
          "plot_bgcolor": "white",
          "polar": {
           "angularaxis": {
            "gridcolor": "#EBF0F8",
            "linecolor": "#EBF0F8",
            "ticks": ""
           },
           "bgcolor": "white",
           "radialaxis": {
            "gridcolor": "#EBF0F8",
            "linecolor": "#EBF0F8",
            "ticks": ""
           }
          },
          "scene": {
           "xaxis": {
            "backgroundcolor": "white",
            "gridcolor": "#DFE8F3",
            "gridwidth": 2,
            "linecolor": "#EBF0F8",
            "showbackground": true,
            "ticks": "",
            "zerolinecolor": "#EBF0F8"
           },
           "yaxis": {
            "backgroundcolor": "white",
            "gridcolor": "#DFE8F3",
            "gridwidth": 2,
            "linecolor": "#EBF0F8",
            "showbackground": true,
            "ticks": "",
            "zerolinecolor": "#EBF0F8"
           },
           "zaxis": {
            "backgroundcolor": "white",
            "gridcolor": "#DFE8F3",
            "gridwidth": 2,
            "linecolor": "#EBF0F8",
            "showbackground": true,
            "ticks": "",
            "zerolinecolor": "#EBF0F8"
           }
          },
          "shapedefaults": {
           "line": {
            "color": "#2a3f5f"
           }
          },
          "ternary": {
           "aaxis": {
            "gridcolor": "#DFE8F3",
            "linecolor": "#A2B1C6",
            "ticks": ""
           },
           "baxis": {
            "gridcolor": "#DFE8F3",
            "linecolor": "#A2B1C6",
            "ticks": ""
           },
           "bgcolor": "white",
           "caxis": {
            "gridcolor": "#DFE8F3",
            "linecolor": "#A2B1C6",
            "ticks": ""
           }
          },
          "title": {
           "x": 0.05
          },
          "xaxis": {
           "automargin": true,
           "gridcolor": "#EBF0F8",
           "linecolor": "#EBF0F8",
           "ticks": "",
           "title": {
            "standoff": 15
           },
           "zerolinecolor": "#EBF0F8",
           "zerolinewidth": 2
          },
          "yaxis": {
           "automargin": true,
           "gridcolor": "#EBF0F8",
           "linecolor": "#EBF0F8",
           "ticks": "",
           "title": {
            "standoff": 15
           },
           "zerolinecolor": "#EBF0F8",
           "zerolinewidth": 2
          }
         }
        },
        "title": {
         "font": {
          "color": "Black",
          "size": 22
         },
         "text": "<b>Topic Word Scores",
         "x": 0.5,
         "xanchor": "center",
         "yanchor": "top"
        },
        "width": 1000,
        "xaxis": {
         "anchor": "y",
         "domain": [
          0,
          0.175
         ],
         "showgrid": true
        },
        "xaxis2": {
         "anchor": "y2",
         "domain": [
          0.275,
          0.45
         ],
         "showgrid": true
        },
        "xaxis3": {
         "anchor": "y3",
         "domain": [
          0.55,
          0.7250000000000001
         ],
         "showgrid": true
        },
        "xaxis4": {
         "anchor": "y4",
         "domain": [
          0.825,
          1
         ],
         "showgrid": true
        },
        "xaxis5": {
         "anchor": "y5",
         "domain": [
          0,
          0.175
         ],
         "showgrid": true
        },
        "xaxis6": {
         "anchor": "y6",
         "domain": [
          0.275,
          0.45
         ],
         "showgrid": true
        },
        "xaxis7": {
         "anchor": "y7",
         "domain": [
          0.55,
          0.7250000000000001
         ],
         "showgrid": true
        },
        "xaxis8": {
         "anchor": "y8",
         "domain": [
          0.825,
          1
         ],
         "showgrid": true
        },
        "yaxis": {
         "anchor": "x",
         "domain": [
          0.6000000000000001,
          1
         ],
         "showgrid": true
        },
        "yaxis2": {
         "anchor": "x2",
         "domain": [
          0.6000000000000001,
          1
         ],
         "showgrid": true
        },
        "yaxis3": {
         "anchor": "x3",
         "domain": [
          0.6000000000000001,
          1
         ],
         "showgrid": true
        },
        "yaxis4": {
         "anchor": "x4",
         "domain": [
          0.6000000000000001,
          1
         ],
         "showgrid": true
        },
        "yaxis5": {
         "anchor": "x5",
         "domain": [
          0,
          0.4
         ],
         "showgrid": true
        },
        "yaxis6": {
         "anchor": "x6",
         "domain": [
          0,
          0.4
         ],
         "showgrid": true
        },
        "yaxis7": {
         "anchor": "x7",
         "domain": [
          0,
          0.4
         ],
         "showgrid": true
        },
        "yaxis8": {
         "anchor": "x8",
         "domain": [
          0,
          0.4
         ],
         "showgrid": true
        }
       }
      },
      "text/html": [
       "<div>                            <div id=\"15c03d9f-ae51-4ef1-8fae-ffc986d0a066\" class=\"plotly-graph-div\" style=\"height:500px; width:1000px;\"></div>            <script type=\"text/javascript\">                require([\"plotly\"], function(Plotly) {                    window.PLOTLYENV=window.PLOTLYENV || {};                                    if (document.getElementById(\"15c03d9f-ae51-4ef1-8fae-ffc986d0a066\")) {                    Plotly.newPlot(                        \"15c03d9f-ae51-4ef1-8fae-ffc986d0a066\",                        [{\"marker\":{\"color\":\"#D55E00\"},\"orientation\":\"h\",\"x\":[0.014022393769278167,0.01797548190433544,0.02019989833577531,0.021580854601903933,0.03691994579431544],\"y\":[\"get  \",\"good  \",\"computer  \",\"learn  \",\"book  \"],\"type\":\"bar\",\"xaxis\":\"x\",\"yaxis\":\"y\"},{\"marker\":{\"color\":\"#0072B2\"},\"orientation\":\"h\",\"x\":[0.014721704176038665,0.01662604786280058,0.017634186443905634,0.020242666801255724,0.02367489963915418],\"y\":[\"optimization  \",\"complexity  \",\"time  \",\"algorithm  \",\"problem  \"],\"type\":\"bar\",\"xaxis\":\"x2\",\"yaxis\":\"y2\"},{\"marker\":{\"color\":\"#CC79A7\"},\"orientation\":\"h\",\"x\":[0.017943897837098547,0.018329050422791766,0.02125452574866796,0.022297618234795955,0.04900335621472238],\"y\":[\"use  \",\"like  \",\"compiler  \",\"program  \",\"language  \"],\"type\":\"bar\",\"xaxis\":\"x3\",\"yaxis\":\"y3\"},{\"marker\":{\"color\":\"#E69F00\"},\"orientation\":\"h\",\"x\":[0.02272092463937938,0.02537017237771811,0.02620948475629014,0.02733476149326725,0.029164092515554157],\"y\":[\"password  \",\"server  \",\"address  \",\"ip  \",\"hash  \"],\"type\":\"bar\",\"xaxis\":\"x4\",\"yaxis\":\"y4\"},{\"marker\":{\"color\":\"#56B4E9\"},\"orientation\":\"h\",\"x\":[0.021411345219088752,0.024807187494957784,0.03315329438430839,0.03691242962328582,0.0606645969872742],\"y\":[\"bit  \",\"address  \",\"byte  \",\"data  \",\"memory  \"],\"type\":\"bar\",\"xaxis\":\"x5\",\"yaxis\":\"y5\"}],                        {\"template\":{\"data\":{\"barpolar\":[{\"marker\":{\"line\":{\"color\":\"white\",\"width\":0.5},\"pattern\":{\"fillmode\":\"overlay\",\"size\":10,\"solidity\":0.2}},\"type\":\"barpolar\"}],\"bar\":[{\"error_x\":{\"color\":\"#2a3f5f\"},\"error_y\":{\"color\":\"#2a3f5f\"},\"marker\":{\"line\":{\"color\":\"white\",\"width\":0.5},\"pattern\":{\"fillmode\":\"overlay\",\"size\":10,\"solidity\":0.2}},\"type\":\"bar\"}],\"carpet\":[{\"aaxis\":{\"endlinecolor\":\"#2a3f5f\",\"gridcolor\":\"#C8D4E3\",\"linecolor\":\"#C8D4E3\",\"minorgridcolor\":\"#C8D4E3\",\"startlinecolor\":\"#2a3f5f\"},\"baxis\":{\"endlinecolor\":\"#2a3f5f\",\"gridcolor\":\"#C8D4E3\",\"linecolor\":\"#C8D4E3\",\"minorgridcolor\":\"#C8D4E3\",\"startlinecolor\":\"#2a3f5f\"},\"type\":\"carpet\"}],\"choropleth\":[{\"colorbar\":{\"outlinewidth\":0,\"ticks\":\"\"},\"type\":\"choropleth\"}],\"contourcarpet\":[{\"colorbar\":{\"outlinewidth\":0,\"ticks\":\"\"},\"type\":\"contourcarpet\"}],\"contour\":[{\"colorbar\":{\"outlinewidth\":0,\"ticks\":\"\"},\"colorscale\":[[0.0,\"#0d0887\"],[0.1111111111111111,\"#46039f\"],[0.2222222222222222,\"#7201a8\"],[0.3333333333333333,\"#9c179e\"],[0.4444444444444444,\"#bd3786\"],[0.5555555555555556,\"#d8576b\"],[0.6666666666666666,\"#ed7953\"],[0.7777777777777778,\"#fb9f3a\"],[0.8888888888888888,\"#fdca26\"],[1.0,\"#f0f921\"]],\"type\":\"contour\"}],\"heatmapgl\":[{\"colorbar\":{\"outlinewidth\":0,\"ticks\":\"\"},\"colorscale\":[[0.0,\"#0d0887\"],[0.1111111111111111,\"#46039f\"],[0.2222222222222222,\"#7201a8\"],[0.3333333333333333,\"#9c179e\"],[0.4444444444444444,\"#bd3786\"],[0.5555555555555556,\"#d8576b\"],[0.6666666666666666,\"#ed7953\"],[0.7777777777777778,\"#fb9f3a\"],[0.8888888888888888,\"#fdca26\"],[1.0,\"#f0f921\"]],\"type\":\"heatmapgl\"}],\"heatmap\":[{\"colorbar\":{\"outlinewidth\":0,\"ticks\":\"\"},\"colorscale\":[[0.0,\"#0d0887\"],[0.1111111111111111,\"#46039f\"],[0.2222222222222222,\"#7201a8\"],[0.3333333333333333,\"#9c179e\"],[0.4444444444444444,\"#bd3786\"],[0.5555555555555556,\"#d8576b\"],[0.6666666666666666,\"#ed7953\"],[0.7777777777777778,\"#fb9f3a\"],[0.8888888888888888,\"#fdca26\"],[1.0,\"#f0f921\"]],\"type\":\"heatmap\"}],\"histogram2dcontour\":[{\"colorbar\":{\"outlinewidth\":0,\"ticks\":\"\"},\"colorscale\":[[0.0,\"#0d0887\"],[0.1111111111111111,\"#46039f\"],[0.2222222222222222,\"#7201a8\"],[0.3333333333333333,\"#9c179e\"],[0.4444444444444444,\"#bd3786\"],[0.5555555555555556,\"#d8576b\"],[0.6666666666666666,\"#ed7953\"],[0.7777777777777778,\"#fb9f3a\"],[0.8888888888888888,\"#fdca26\"],[1.0,\"#f0f921\"]],\"type\":\"histogram2dcontour\"}],\"histogram2d\":[{\"colorbar\":{\"outlinewidth\":0,\"ticks\":\"\"},\"colorscale\":[[0.0,\"#0d0887\"],[0.1111111111111111,\"#46039f\"],[0.2222222222222222,\"#7201a8\"],[0.3333333333333333,\"#9c179e\"],[0.4444444444444444,\"#bd3786\"],[0.5555555555555556,\"#d8576b\"],[0.6666666666666666,\"#ed7953\"],[0.7777777777777778,\"#fb9f3a\"],[0.8888888888888888,\"#fdca26\"],[1.0,\"#f0f921\"]],\"type\":\"histogram2d\"}],\"histogram\":[{\"marker\":{\"pattern\":{\"fillmode\":\"overlay\",\"size\":10,\"solidity\":0.2}},\"type\":\"histogram\"}],\"mesh3d\":[{\"colorbar\":{\"outlinewidth\":0,\"ticks\":\"\"},\"type\":\"mesh3d\"}],\"parcoords\":[{\"line\":{\"colorbar\":{\"outlinewidth\":0,\"ticks\":\"\"}},\"type\":\"parcoords\"}],\"pie\":[{\"automargin\":true,\"type\":\"pie\"}],\"scatter3d\":[{\"line\":{\"colorbar\":{\"outlinewidth\":0,\"ticks\":\"\"}},\"marker\":{\"colorbar\":{\"outlinewidth\":0,\"ticks\":\"\"}},\"type\":\"scatter3d\"}],\"scattercarpet\":[{\"marker\":{\"colorbar\":{\"outlinewidth\":0,\"ticks\":\"\"}},\"type\":\"scattercarpet\"}],\"scattergeo\":[{\"marker\":{\"colorbar\":{\"outlinewidth\":0,\"ticks\":\"\"}},\"type\":\"scattergeo\"}],\"scattergl\":[{\"marker\":{\"colorbar\":{\"outlinewidth\":0,\"ticks\":\"\"}},\"type\":\"scattergl\"}],\"scattermapbox\":[{\"marker\":{\"colorbar\":{\"outlinewidth\":0,\"ticks\":\"\"}},\"type\":\"scattermapbox\"}],\"scatterpolargl\":[{\"marker\":{\"colorbar\":{\"outlinewidth\":0,\"ticks\":\"\"}},\"type\":\"scatterpolargl\"}],\"scatterpolar\":[{\"marker\":{\"colorbar\":{\"outlinewidth\":0,\"ticks\":\"\"}},\"type\":\"scatterpolar\"}],\"scatter\":[{\"marker\":{\"colorbar\":{\"outlinewidth\":0,\"ticks\":\"\"}},\"type\":\"scatter\"}],\"scatterternary\":[{\"marker\":{\"colorbar\":{\"outlinewidth\":0,\"ticks\":\"\"}},\"type\":\"scatterternary\"}],\"surface\":[{\"colorbar\":{\"outlinewidth\":0,\"ticks\":\"\"},\"colorscale\":[[0.0,\"#0d0887\"],[0.1111111111111111,\"#46039f\"],[0.2222222222222222,\"#7201a8\"],[0.3333333333333333,\"#9c179e\"],[0.4444444444444444,\"#bd3786\"],[0.5555555555555556,\"#d8576b\"],[0.6666666666666666,\"#ed7953\"],[0.7777777777777778,\"#fb9f3a\"],[0.8888888888888888,\"#fdca26\"],[1.0,\"#f0f921\"]],\"type\":\"surface\"}],\"table\":[{\"cells\":{\"fill\":{\"color\":\"#EBF0F8\"},\"line\":{\"color\":\"white\"}},\"header\":{\"fill\":{\"color\":\"#C8D4E3\"},\"line\":{\"color\":\"white\"}},\"type\":\"table\"}]},\"layout\":{\"annotationdefaults\":{\"arrowcolor\":\"#2a3f5f\",\"arrowhead\":0,\"arrowwidth\":1},\"autotypenumbers\":\"strict\",\"coloraxis\":{\"colorbar\":{\"outlinewidth\":0,\"ticks\":\"\"}},\"colorscale\":{\"diverging\":[[0,\"#8e0152\"],[0.1,\"#c51b7d\"],[0.2,\"#de77ae\"],[0.3,\"#f1b6da\"],[0.4,\"#fde0ef\"],[0.5,\"#f7f7f7\"],[0.6,\"#e6f5d0\"],[0.7,\"#b8e186\"],[0.8,\"#7fbc41\"],[0.9,\"#4d9221\"],[1,\"#276419\"]],\"sequential\":[[0.0,\"#0d0887\"],[0.1111111111111111,\"#46039f\"],[0.2222222222222222,\"#7201a8\"],[0.3333333333333333,\"#9c179e\"],[0.4444444444444444,\"#bd3786\"],[0.5555555555555556,\"#d8576b\"],[0.6666666666666666,\"#ed7953\"],[0.7777777777777778,\"#fb9f3a\"],[0.8888888888888888,\"#fdca26\"],[1.0,\"#f0f921\"]],\"sequentialminus\":[[0.0,\"#0d0887\"],[0.1111111111111111,\"#46039f\"],[0.2222222222222222,\"#7201a8\"],[0.3333333333333333,\"#9c179e\"],[0.4444444444444444,\"#bd3786\"],[0.5555555555555556,\"#d8576b\"],[0.6666666666666666,\"#ed7953\"],[0.7777777777777778,\"#fb9f3a\"],[0.8888888888888888,\"#fdca26\"],[1.0,\"#f0f921\"]]},\"colorway\":[\"#636efa\",\"#EF553B\",\"#00cc96\",\"#ab63fa\",\"#FFA15A\",\"#19d3f3\",\"#FF6692\",\"#B6E880\",\"#FF97FF\",\"#FECB52\"],\"font\":{\"color\":\"#2a3f5f\"},\"geo\":{\"bgcolor\":\"white\",\"lakecolor\":\"white\",\"landcolor\":\"white\",\"showlakes\":true,\"showland\":true,\"subunitcolor\":\"#C8D4E3\"},\"hoverlabel\":{\"align\":\"left\"},\"hovermode\":\"closest\",\"mapbox\":{\"style\":\"light\"},\"paper_bgcolor\":\"white\",\"plot_bgcolor\":\"white\",\"polar\":{\"angularaxis\":{\"gridcolor\":\"#EBF0F8\",\"linecolor\":\"#EBF0F8\",\"ticks\":\"\"},\"bgcolor\":\"white\",\"radialaxis\":{\"gridcolor\":\"#EBF0F8\",\"linecolor\":\"#EBF0F8\",\"ticks\":\"\"}},\"scene\":{\"xaxis\":{\"backgroundcolor\":\"white\",\"gridcolor\":\"#DFE8F3\",\"gridwidth\":2,\"linecolor\":\"#EBF0F8\",\"showbackground\":true,\"ticks\":\"\",\"zerolinecolor\":\"#EBF0F8\"},\"yaxis\":{\"backgroundcolor\":\"white\",\"gridcolor\":\"#DFE8F3\",\"gridwidth\":2,\"linecolor\":\"#EBF0F8\",\"showbackground\":true,\"ticks\":\"\",\"zerolinecolor\":\"#EBF0F8\"},\"zaxis\":{\"backgroundcolor\":\"white\",\"gridcolor\":\"#DFE8F3\",\"gridwidth\":2,\"linecolor\":\"#EBF0F8\",\"showbackground\":true,\"ticks\":\"\",\"zerolinecolor\":\"#EBF0F8\"}},\"shapedefaults\":{\"line\":{\"color\":\"#2a3f5f\"}},\"ternary\":{\"aaxis\":{\"gridcolor\":\"#DFE8F3\",\"linecolor\":\"#A2B1C6\",\"ticks\":\"\"},\"baxis\":{\"gridcolor\":\"#DFE8F3\",\"linecolor\":\"#A2B1C6\",\"ticks\":\"\"},\"bgcolor\":\"white\",\"caxis\":{\"gridcolor\":\"#DFE8F3\",\"linecolor\":\"#A2B1C6\",\"ticks\":\"\"}},\"title\":{\"x\":0.05},\"xaxis\":{\"automargin\":true,\"gridcolor\":\"#EBF0F8\",\"linecolor\":\"#EBF0F8\",\"ticks\":\"\",\"title\":{\"standoff\":15},\"zerolinecolor\":\"#EBF0F8\",\"zerolinewidth\":2},\"yaxis\":{\"automargin\":true,\"gridcolor\":\"#EBF0F8\",\"linecolor\":\"#EBF0F8\",\"ticks\":\"\",\"title\":{\"standoff\":15},\"zerolinecolor\":\"#EBF0F8\",\"zerolinewidth\":2}}},\"xaxis\":{\"anchor\":\"y\",\"domain\":[0.0,0.175],\"showgrid\":true},\"yaxis\":{\"anchor\":\"x\",\"domain\":[0.6000000000000001,1.0],\"showgrid\":true},\"xaxis2\":{\"anchor\":\"y2\",\"domain\":[0.275,0.45],\"showgrid\":true},\"yaxis2\":{\"anchor\":\"x2\",\"domain\":[0.6000000000000001,1.0],\"showgrid\":true},\"xaxis3\":{\"anchor\":\"y3\",\"domain\":[0.55,0.7250000000000001],\"showgrid\":true},\"yaxis3\":{\"anchor\":\"x3\",\"domain\":[0.6000000000000001,1.0],\"showgrid\":true},\"xaxis4\":{\"anchor\":\"y4\",\"domain\":[0.825,1.0],\"showgrid\":true},\"yaxis4\":{\"anchor\":\"x4\",\"domain\":[0.6000000000000001,1.0],\"showgrid\":true},\"xaxis5\":{\"anchor\":\"y5\",\"domain\":[0.0,0.175],\"showgrid\":true},\"yaxis5\":{\"anchor\":\"x5\",\"domain\":[0.0,0.4],\"showgrid\":true},\"xaxis6\":{\"anchor\":\"y6\",\"domain\":[0.275,0.45],\"showgrid\":true},\"yaxis6\":{\"anchor\":\"x6\",\"domain\":[0.0,0.4],\"showgrid\":true},\"xaxis7\":{\"anchor\":\"y7\",\"domain\":[0.55,0.7250000000000001],\"showgrid\":true},\"yaxis7\":{\"anchor\":\"x7\",\"domain\":[0.0,0.4],\"showgrid\":true},\"xaxis8\":{\"anchor\":\"y8\",\"domain\":[0.825,1.0],\"showgrid\":true},\"yaxis8\":{\"anchor\":\"x8\",\"domain\":[0.0,0.4],\"showgrid\":true},\"annotations\":[{\"font\":{\"size\":16},\"showarrow\":false,\"text\":\"Topic 0\",\"x\":0.0875,\"xanchor\":\"center\",\"xref\":\"paper\",\"y\":1.0,\"yanchor\":\"bottom\",\"yref\":\"paper\"},{\"font\":{\"size\":16},\"showarrow\":false,\"text\":\"Topic 1\",\"x\":0.36250000000000004,\"xanchor\":\"center\",\"xref\":\"paper\",\"y\":1.0,\"yanchor\":\"bottom\",\"yref\":\"paper\"},{\"font\":{\"size\":16},\"showarrow\":false,\"text\":\"Topic 2\",\"x\":0.6375000000000001,\"xanchor\":\"center\",\"xref\":\"paper\",\"y\":1.0,\"yanchor\":\"bottom\",\"yref\":\"paper\"},{\"font\":{\"size\":16},\"showarrow\":false,\"text\":\"Topic 3\",\"x\":0.9125,\"xanchor\":\"center\",\"xref\":\"paper\",\"y\":1.0,\"yanchor\":\"bottom\",\"yref\":\"paper\"},{\"font\":{\"size\":16},\"showarrow\":false,\"text\":\"Topic 4\",\"x\":0.0875,\"xanchor\":\"center\",\"xref\":\"paper\",\"y\":0.4,\"yanchor\":\"bottom\",\"yref\":\"paper\"}],\"title\":{\"font\":{\"size\":22,\"color\":\"Black\"},\"text\":\"<b>Topic Word Scores\",\"x\":0.5,\"xanchor\":\"center\",\"yanchor\":\"top\"},\"hoverlabel\":{\"font\":{\"size\":16,\"family\":\"Rockwell\"},\"bgcolor\":\"white\"},\"showlegend\":false,\"width\":1000,\"height\":500},                        {\"responsive\": true}                    ).then(function(){\n",
       "                            \n",
       "var gd = document.getElementById('15c03d9f-ae51-4ef1-8fae-ffc986d0a066');\n",
       "var x = new MutationObserver(function (mutations, observer) {{\n",
       "        var display = window.getComputedStyle(gd).display;\n",
       "        if (!display || display === 'none') {{\n",
       "            console.log([gd, 'removed!']);\n",
       "            Plotly.purge(gd);\n",
       "            observer.disconnect();\n",
       "        }}\n",
       "}});\n",
       "\n",
       "// Listen for the removal of the full notebook cells\n",
       "var notebookContainer = gd.closest('#notebook-container');\n",
       "if (notebookContainer) {{\n",
       "    x.observe(notebookContainer, {childList: true});\n",
       "}}\n",
       "\n",
       "// Listen for the clearing of the current output cell\n",
       "var outputEl = gd.closest('.output');\n",
       "if (outputEl) {{\n",
       "    x.observe(outputEl, {childList: true});\n",
       "}}\n",
       "\n",
       "                        })                };                });            </script>        </div>"
      ]
     },
     "metadata": {},
     "output_type": "display_data"
    }
   ],
   "source": [
    "topic_model1.visualize_barchart(top_n_topics=10)"
   ]
  },
  {
   "cell_type": "code",
   "execution_count": 188,
   "id": "46f0e664",
   "metadata": {},
   "outputs": [
    {
     "data": {
      "text/plain": [
       "((678, 6), (9975, 8))"
      ]
     },
     "execution_count": 188,
     "metadata": {},
     "output_type": "execute_result"
    }
   ],
   "source": [
    "posts_df.shape, comments_df.shape"
   ]
  },
  {
   "cell_type": "markdown",
   "id": "7ee353c3",
   "metadata": {},
   "source": [
    "# 3. Topic Modeling - COMMENTS"
   ]
  },
  {
   "cell_type": "code",
   "execution_count": 185,
   "id": "c5a1b43d",
   "metadata": {},
   "outputs": [
    {
     "data": {
      "text/html": [
       "<div>\n",
       "<style scoped>\n",
       "    .dataframe tbody tr th:only-of-type {\n",
       "        vertical-align: middle;\n",
       "    }\n",
       "\n",
       "    .dataframe tbody tr th {\n",
       "        vertical-align: top;\n",
       "    }\n",
       "\n",
       "    .dataframe thead th {\n",
       "        text-align: right;\n",
       "    }\n",
       "</style>\n",
       "<table border=\"1\" class=\"dataframe\">\n",
       "  <thead>\n",
       "    <tr style=\"text-align: right;\">\n",
       "      <th></th>\n",
       "      <th>index</th>\n",
       "      <th>post_id</th>\n",
       "      <th>comment</th>\n",
       "      <th>comment_id</th>\n",
       "      <th>parent_id</th>\n",
       "      <th>created</th>\n",
       "      <th>is_submitter</th>\n",
       "      <th>body_length</th>\n",
       "      <th>body</th>\n",
       "    </tr>\n",
       "  </thead>\n",
       "  <tbody>\n",
       "    <tr>\n",
       "      <th>0</th>\n",
       "      <td>0</td>\n",
       "      <td>skltie</td>\n",
       "      <td>1) yes they are basically the same things. The...</td>\n",
       "      <td>hvlyn6o</td>\n",
       "      <td>t3_skltie</td>\n",
       "      <td>1.644007e+09</td>\n",
       "      <td>False</td>\n",
       "      <td>149</td>\n",
       "      <td>1) yes they are basically the same things. The...</td>\n",
       "    </tr>\n",
       "    <tr>\n",
       "      <th>1</th>\n",
       "      <td>1</td>\n",
       "      <td>sklhet</td>\n",
       "      <td>What language is your code in?</td>\n",
       "      <td>hvm3b74</td>\n",
       "      <td>t3_sklhet</td>\n",
       "      <td>1.644009e+09</td>\n",
       "      <td>False</td>\n",
       "      <td>6</td>\n",
       "      <td>What language is your code in?</td>\n",
       "    </tr>\n",
       "    <tr>\n",
       "      <th>2</th>\n",
       "      <td>2</td>\n",
       "      <td>sklhet</td>\n",
       "      <td>It can be in any of the common languages.</td>\n",
       "      <td>hvm5e7x</td>\n",
       "      <td>t1_hvm3b74</td>\n",
       "      <td>1.644010e+09</td>\n",
       "      <td>True</td>\n",
       "      <td>9</td>\n",
       "      <td>It can be in any of the common languages.</td>\n",
       "    </tr>\n",
       "    <tr>\n",
       "      <th>3</th>\n",
       "      <td>3</td>\n",
       "      <td>sklhet</td>\n",
       "      <td>What kind of chip? Is this an embedded device ...</td>\n",
       "      <td>hvm3sh3</td>\n",
       "      <td>t3_sklhet</td>\n",
       "      <td>1.644009e+09</td>\n",
       "      <td>False</td>\n",
       "      <td>12</td>\n",
       "      <td>What kind of chip? Is this an embedded device ...</td>\n",
       "    </tr>\n",
       "    <tr>\n",
       "      <th>4</th>\n",
       "      <td>4</td>\n",
       "      <td>sklhet</td>\n",
       "      <td>I have no idea. The usb inputs are coming from...</td>\n",
       "      <td>hvm5sqa</td>\n",
       "      <td>t1_hvm3sh3</td>\n",
       "      <td>1.644010e+09</td>\n",
       "      <td>True</td>\n",
       "      <td>25</td>\n",
       "      <td>I have no idea. The usb inputs are coming from...</td>\n",
       "    </tr>\n",
       "    <tr>\n",
       "      <th>...</th>\n",
       "      <td>...</td>\n",
       "      <td>...</td>\n",
       "      <td>...</td>\n",
       "      <td>...</td>\n",
       "      <td>...</td>\n",
       "      <td>...</td>\n",
       "      <td>...</td>\n",
       "      <td>...</td>\n",
       "      <td>...</td>\n",
       "    </tr>\n",
       "    <tr>\n",
       "      <th>9970</th>\n",
       "      <td>9970</td>\n",
       "      <td>osn6iv</td>\n",
       "      <td>Since you are just looking to do a fly by, i w...</td>\n",
       "      <td>h6r39bl</td>\n",
       "      <td>t3_osn6iv</td>\n",
       "      <td>1.627420e+09</td>\n",
       "      <td>False</td>\n",
       "      <td>66</td>\n",
       "      <td>Since you are just looking to do a fly by, i w...</td>\n",
       "    </tr>\n",
       "    <tr>\n",
       "      <th>9971</th>\n",
       "      <td>9971</td>\n",
       "      <td>osn6iv</td>\n",
       "      <td>Only “textbook” in college I read cover-to-cov...</td>\n",
       "      <td>h6r3q0o</td>\n",
       "      <td>t3_osn6iv</td>\n",
       "      <td>1.627420e+09</td>\n",
       "      <td>False</td>\n",
       "      <td>22</td>\n",
       "      <td>Only “textbook” in college I read cover-to-cov...</td>\n",
       "    </tr>\n",
       "    <tr>\n",
       "      <th>9972</th>\n",
       "      <td>9972</td>\n",
       "      <td>osn6iv</td>\n",
       "      <td>Thanks!</td>\n",
       "      <td>h6rby6c</td>\n",
       "      <td>t1_h6r3q0o</td>\n",
       "      <td>1.627424e+09</td>\n",
       "      <td>False</td>\n",
       "      <td>1</td>\n",
       "      <td>Thanks!</td>\n",
       "    </tr>\n",
       "    <tr>\n",
       "      <th>9973</th>\n",
       "      <td>9973</td>\n",
       "      <td>oscvji</td>\n",
       "      <td>Buy an Arduino starter kit and start messing a...</td>\n",
       "      <td>h6q6dsz</td>\n",
       "      <td>t3_oscvji</td>\n",
       "      <td>1.627405e+09</td>\n",
       "      <td>False</td>\n",
       "      <td>9</td>\n",
       "      <td>Buy an Arduino starter kit and start messing a...</td>\n",
       "    </tr>\n",
       "    <tr>\n",
       "      <th>9974</th>\n",
       "      <td>9974</td>\n",
       "      <td>oscvji</td>\n",
       "      <td>You need to change your mindset. Everyone was ...</td>\n",
       "      <td>h7121fj</td>\n",
       "      <td>t3_oscvji</td>\n",
       "      <td>1.627608e+09</td>\n",
       "      <td>False</td>\n",
       "      <td>150</td>\n",
       "      <td>You need to change your mindset. Everyone was ...</td>\n",
       "    </tr>\n",
       "  </tbody>\n",
       "</table>\n",
       "<p>9975 rows × 9 columns</p>\n",
       "</div>"
      ],
      "text/plain": [
       "      index post_id                                            comment  \\\n",
       "0         0  skltie  1) yes they are basically the same things. The...   \n",
       "1         1  sklhet                     What language is your code in?   \n",
       "2         2  sklhet          It can be in any of the common languages.   \n",
       "3         3  sklhet  What kind of chip? Is this an embedded device ...   \n",
       "4         4  sklhet  I have no idea. The usb inputs are coming from...   \n",
       "...     ...     ...                                                ...   \n",
       "9970   9970  osn6iv  Since you are just looking to do a fly by, i w...   \n",
       "9971   9971  osn6iv  Only “textbook” in college I read cover-to-cov...   \n",
       "9972   9972  osn6iv                                            Thanks!   \n",
       "9973   9973  oscvji  Buy an Arduino starter kit and start messing a...   \n",
       "9974   9974  oscvji  You need to change your mindset. Everyone was ...   \n",
       "\n",
       "     comment_id   parent_id       created  is_submitter  body_length  \\\n",
       "0       hvlyn6o   t3_skltie  1.644007e+09         False          149   \n",
       "1       hvm3b74   t3_sklhet  1.644009e+09         False            6   \n",
       "2       hvm5e7x  t1_hvm3b74  1.644010e+09          True            9   \n",
       "3       hvm3sh3   t3_sklhet  1.644009e+09         False           12   \n",
       "4       hvm5sqa  t1_hvm3sh3  1.644010e+09          True           25   \n",
       "...         ...         ...           ...           ...          ...   \n",
       "9970    h6r39bl   t3_osn6iv  1.627420e+09         False           66   \n",
       "9971    h6r3q0o   t3_osn6iv  1.627420e+09         False           22   \n",
       "9972    h6rby6c  t1_h6r3q0o  1.627424e+09         False            1   \n",
       "9973    h6q6dsz   t3_oscvji  1.627405e+09         False            9   \n",
       "9974    h7121fj   t3_oscvji  1.627608e+09         False          150   \n",
       "\n",
       "                                                   body  \n",
       "0     1) yes they are basically the same things. The...  \n",
       "1                        What language is your code in?  \n",
       "2             It can be in any of the common languages.  \n",
       "3     What kind of chip? Is this an embedded device ...  \n",
       "4     I have no idea. The usb inputs are coming from...  \n",
       "...                                                 ...  \n",
       "9970  Since you are just looking to do a fly by, i w...  \n",
       "9971  Only “textbook” in college I read cover-to-cov...  \n",
       "9972                                            Thanks!  \n",
       "9973  Buy an Arduino starter kit and start messing a...  \n",
       "9974  You need to change your mindset. Everyone was ...  \n",
       "\n",
       "[9975 rows x 9 columns]"
      ]
     },
     "execution_count": 185,
     "metadata": {},
     "output_type": "execute_result"
    }
   ],
   "source": [
    "comments_df['body'] = comments_df['comment'].astype(str)\n",
    "body_df = comments_df[comments_df['body'] != 'nan']\n",
    "body_df = body_df.reset_index()\n",
    "body_df"
   ]
  },
  {
   "cell_type": "markdown",
   "id": "eb74baff",
   "metadata": {},
   "source": [
    "# 4. VADER Sentiment Function"
   ]
  },
  {
   "cell_type": "code",
   "execution_count": 19,
   "id": "c315059f",
   "metadata": {},
   "outputs": [],
   "source": [
    "def find_sentiment(df, column):\n",
    "    sia = SentimentIntensityAnalyzer()\n",
    "    neg_scores = []\n",
    "    neu_scores = []\n",
    "    pos_scores = []\n",
    "    compounds = []\n",
    "    for i in range(len(df.index)):\n",
    "        neg_scores.append(sia.polarity_scores(df.at[i, column])['neg'])\n",
    "        neu_scores.append(sia.polarity_scores(df.at[i, column])['neu'])\n",
    "        pos_scores.append(sia.polarity_scores(df.at[i, column])['pos'])\n",
    "        compounds.append(sia.polarity_scores(df.at[i, column])['compound'])\n",
    "    df['neg_sentiment'] = neg_scores\n",
    "    df['neu_sentiment'] = neu_scores\n",
    "    df['pos_sentiment'] = pos_scores\n",
    "    df['compound_sentiment'] = compounds\n",
    "    return df"
   ]
  },
  {
   "cell_type": "code",
   "execution_count": 20,
   "id": "e3a0f411",
   "metadata": {},
   "outputs": [],
   "source": [
    "comment_df = find_sentiment(comment_df, 'comment')"
   ]
  },
  {
   "cell_type": "code",
   "execution_count": 21,
   "id": "9aac1614",
   "metadata": {},
   "outputs": [],
   "source": [
    "final_comment_df = comment_df[['topic_label', 'topic_name', 'neg_sentiment', 'neu_sentiment', 'pos_sentiment', 'compound_sentiment']]"
   ]
  },
  {
   "cell_type": "code",
   "execution_count": 22,
   "id": "50aefa2e",
   "metadata": {
    "scrolled": false
   },
   "outputs": [
    {
     "data": {
      "text/html": [
       "<div>\n",
       "<style scoped>\n",
       "    .dataframe tbody tr th:only-of-type {\n",
       "        vertical-align: middle;\n",
       "    }\n",
       "\n",
       "    .dataframe tbody tr th {\n",
       "        vertical-align: top;\n",
       "    }\n",
       "\n",
       "    .dataframe thead th {\n",
       "        text-align: right;\n",
       "    }\n",
       "</style>\n",
       "<table border=\"1\" class=\"dataframe\">\n",
       "  <thead>\n",
       "    <tr style=\"text-align: right;\">\n",
       "      <th></th>\n",
       "      <th>topic_label</th>\n",
       "      <th>topic_name</th>\n",
       "      <th>neg_sentiment</th>\n",
       "      <th>neu_sentiment</th>\n",
       "      <th>pos_sentiment</th>\n",
       "      <th>compound_sentiment</th>\n",
       "    </tr>\n",
       "  </thead>\n",
       "  <tbody>\n",
       "    <tr>\n",
       "      <th>0</th>\n",
       "      <td>-1</td>\n",
       "      <td>-1_the_to_and_you</td>\n",
       "      <td>0.033943</td>\n",
       "      <td>0.857044</td>\n",
       "      <td>0.109044</td>\n",
       "      <td>0.345921</td>\n",
       "    </tr>\n",
       "    <tr>\n",
       "      <th>1</th>\n",
       "      <td>0</td>\n",
       "      <td>0_love_awesome_this is_lol</td>\n",
       "      <td>0.044316</td>\n",
       "      <td>0.532816</td>\n",
       "      <td>0.422868</td>\n",
       "      <td>0.458008</td>\n",
       "    </tr>\n",
       "    <tr>\n",
       "      <th>2</th>\n",
       "      <td>1</td>\n",
       "      <td>1_algorithms_by_and_the</td>\n",
       "      <td>0.011027</td>\n",
       "      <td>0.861703</td>\n",
       "      <td>0.127270</td>\n",
       "      <td>0.346157</td>\n",
       "    </tr>\n",
       "    <tr>\n",
       "      <th>3</th>\n",
       "      <td>2</td>\n",
       "      <td>2_ai_to_human_intelligence</td>\n",
       "      <td>0.050259</td>\n",
       "      <td>0.814407</td>\n",
       "      <td>0.135370</td>\n",
       "      <td>0.314700</td>\n",
       "    </tr>\n",
       "    <tr>\n",
       "      <th>4</th>\n",
       "      <td>3</td>\n",
       "      <td>3_bit_to_cpu_the</td>\n",
       "      <td>0.016136</td>\n",
       "      <td>0.931727</td>\n",
       "      <td>0.052136</td>\n",
       "      <td>0.330873</td>\n",
       "    </tr>\n",
       "    <tr>\n",
       "      <th>5</th>\n",
       "      <td>4</td>\n",
       "      <td>4_programming pearls_jon_jon bentley_bentley</td>\n",
       "      <td>0.017190</td>\n",
       "      <td>0.931143</td>\n",
       "      <td>0.051714</td>\n",
       "      <td>0.131710</td>\n",
       "    </tr>\n",
       "    <tr>\n",
       "      <th>6</th>\n",
       "      <td>5</td>\n",
       "      <td>5_python_cs_learn_programming</td>\n",
       "      <td>0.006789</td>\n",
       "      <td>0.879421</td>\n",
       "      <td>0.113789</td>\n",
       "      <td>0.383400</td>\n",
       "    </tr>\n",
       "    <tr>\n",
       "      <th>7</th>\n",
       "      <td>6</td>\n",
       "      <td>6_nft_the_image_nfts</td>\n",
       "      <td>0.024824</td>\n",
       "      <td>0.894176</td>\n",
       "      <td>0.080941</td>\n",
       "      <td>0.379159</td>\n",
       "    </tr>\n",
       "    <tr>\n",
       "      <th>8</th>\n",
       "      <td>7</td>\n",
       "      <td>7_math_science_computer science_you</td>\n",
       "      <td>0.013412</td>\n",
       "      <td>0.918588</td>\n",
       "      <td>0.067941</td>\n",
       "      <td>0.233588</td>\n",
       "    </tr>\n",
       "    <tr>\n",
       "      <th>9</th>\n",
       "      <td>8</td>\n",
       "      <td>8_software_engineering_computer_engineer</td>\n",
       "      <td>0.013059</td>\n",
       "      <td>0.914471</td>\n",
       "      <td>0.072353</td>\n",
       "      <td>0.369388</td>\n",
       "    </tr>\n",
       "    <tr>\n",
       "      <th>10</th>\n",
       "      <td>9</td>\n",
       "      <td>9_router_protocol_packets_the</td>\n",
       "      <td>0.011143</td>\n",
       "      <td>0.961429</td>\n",
       "      <td>0.027429</td>\n",
       "      <td>0.151000</td>\n",
       "    </tr>\n",
       "    <tr>\n",
       "      <th>11</th>\n",
       "      <td>10</td>\n",
       "      <td>10_bits_bytes_bit_file</td>\n",
       "      <td>0.027714</td>\n",
       "      <td>0.905571</td>\n",
       "      <td>0.066714</td>\n",
       "      <td>0.153393</td>\n",
       "    </tr>\n",
       "    <tr>\n",
       "      <th>12</th>\n",
       "      <td>11</td>\n",
       "      <td>11_cores_the_to_processing</td>\n",
       "      <td>0.026308</td>\n",
       "      <td>0.916231</td>\n",
       "      <td>0.057538</td>\n",
       "      <td>0.101308</td>\n",
       "    </tr>\n",
       "    <tr>\n",
       "      <th>13</th>\n",
       "      <td>12</td>\n",
       "      <td>12_sci_acm_scholar_hub</td>\n",
       "      <td>0.010769</td>\n",
       "      <td>0.916692</td>\n",
       "      <td>0.072538</td>\n",
       "      <td>0.214662</td>\n",
       "    </tr>\n",
       "    <tr>\n",
       "      <th>14</th>\n",
       "      <td>13</td>\n",
       "      <td>13_guess_the_number_you</td>\n",
       "      <td>0.048000</td>\n",
       "      <td>0.855154</td>\n",
       "      <td>0.097154</td>\n",
       "      <td>0.299369</td>\n",
       "    </tr>\n",
       "    <tr>\n",
       "      <th>15</th>\n",
       "      <td>14</td>\n",
       "      <td>14_career_counselor_be_your counselor</td>\n",
       "      <td>0.082250</td>\n",
       "      <td>0.825750</td>\n",
       "      <td>0.092000</td>\n",
       "      <td>0.406425</td>\n",
       "    </tr>\n",
       "    <tr>\n",
       "      <th>16</th>\n",
       "      <td>15</td>\n",
       "      <td>15_he_videos_channel_youtube</td>\n",
       "      <td>0.007250</td>\n",
       "      <td>0.805000</td>\n",
       "      <td>0.187750</td>\n",
       "      <td>0.529458</td>\n",
       "    </tr>\n",
       "    <tr>\n",
       "      <th>17</th>\n",
       "      <td>16</td>\n",
       "      <td>16_takes_steps_the_we</td>\n",
       "      <td>0.040917</td>\n",
       "      <td>0.906000</td>\n",
       "      <td>0.053167</td>\n",
       "      <td>0.098250</td>\n",
       "    </tr>\n",
       "    <tr>\n",
       "      <th>18</th>\n",
       "      <td>17</td>\n",
       "      <td>17_effect_research_type_coeffect</td>\n",
       "      <td>0.012091</td>\n",
       "      <td>0.890364</td>\n",
       "      <td>0.097545</td>\n",
       "      <td>0.431891</td>\n",
       "    </tr>\n",
       "    <tr>\n",
       "      <th>19</th>\n",
       "      <td>18</td>\n",
       "      <td>18_compiled_written_language_implementer</td>\n",
       "      <td>0.003000</td>\n",
       "      <td>0.956500</td>\n",
       "      <td>0.040500</td>\n",
       "      <td>0.226540</td>\n",
       "    </tr>\n",
       "    <tr>\n",
       "      <th>20</th>\n",
       "      <td>19</td>\n",
       "      <td>19_science_of_the_to</td>\n",
       "      <td>0.061778</td>\n",
       "      <td>0.811000</td>\n",
       "      <td>0.127111</td>\n",
       "      <td>0.375911</td>\n",
       "    </tr>\n",
       "    <tr>\n",
       "      <th>21</th>\n",
       "      <td>20</td>\n",
       "      <td>20_the_silicon_process_chips</td>\n",
       "      <td>0.017222</td>\n",
       "      <td>0.863556</td>\n",
       "      <td>0.119111</td>\n",
       "      <td>0.665456</td>\n",
       "    </tr>\n",
       "    <tr>\n",
       "      <th>22</th>\n",
       "      <td>21</td>\n",
       "      <td>21_nand_how_logic_into</td>\n",
       "      <td>0.012111</td>\n",
       "      <td>0.905333</td>\n",
       "      <td>0.082667</td>\n",
       "      <td>0.413222</td>\n",
       "    </tr>\n",
       "    <tr>\n",
       "      <th>23</th>\n",
       "      <td>22</td>\n",
       "      <td>22_crypto_currency_believe_the</td>\n",
       "      <td>0.061571</td>\n",
       "      <td>0.819286</td>\n",
       "      <td>0.119000</td>\n",
       "      <td>0.240143</td>\n",
       "    </tr>\n",
       "    <tr>\n",
       "      <th>24</th>\n",
       "      <td>23</td>\n",
       "      <td>23_learning_methods_nature_distribution</td>\n",
       "      <td>0.045286</td>\n",
       "      <td>0.896857</td>\n",
       "      <td>0.057857</td>\n",
       "      <td>0.129957</td>\n",
       "    </tr>\n",
       "    <tr>\n",
       "      <th>25</th>\n",
       "      <td>24</td>\n",
       "      <td>24_code_developers_lowcode_experience</td>\n",
       "      <td>0.025286</td>\n",
       "      <td>0.907714</td>\n",
       "      <td>0.066857</td>\n",
       "      <td>0.143357</td>\n",
       "    </tr>\n",
       "    <tr>\n",
       "      <th>26</th>\n",
       "      <td>25</td>\n",
       "      <td>25_computer_watch_ben eaters_eaters</td>\n",
       "      <td>0.012857</td>\n",
       "      <td>0.888714</td>\n",
       "      <td>0.098286</td>\n",
       "      <td>0.450443</td>\n",
       "    </tr>\n",
       "    <tr>\n",
       "      <th>27</th>\n",
       "      <td>26</td>\n",
       "      <td>26_ce_cs_jobs_ee</td>\n",
       "      <td>0.047571</td>\n",
       "      <td>0.840714</td>\n",
       "      <td>0.111857</td>\n",
       "      <td>0.293057</td>\n",
       "    </tr>\n",
       "    <tr>\n",
       "      <th>28</th>\n",
       "      <td>27</td>\n",
       "      <td>27_book_what book_book is_know does</td>\n",
       "      <td>0.062571</td>\n",
       "      <td>0.809286</td>\n",
       "      <td>0.128143</td>\n",
       "      <td>0.202157</td>\n",
       "    </tr>\n",
       "    <tr>\n",
       "      <th>29</th>\n",
       "      <td>28</td>\n",
       "      <td>28_need_need to_for hacking_rcomputerengineering</td>\n",
       "      <td>0.037500</td>\n",
       "      <td>0.833500</td>\n",
       "      <td>0.129000</td>\n",
       "      <td>0.130033</td>\n",
       "    </tr>\n",
       "    <tr>\n",
       "      <th>30</th>\n",
       "      <td>29</td>\n",
       "      <td>29_thanks_thanks for_for sharing_thank</td>\n",
       "      <td>0.000000</td>\n",
       "      <td>0.467667</td>\n",
       "      <td>0.532333</td>\n",
       "      <td>0.720683</td>\n",
       "    </tr>\n",
       "    <tr>\n",
       "      <th>31</th>\n",
       "      <td>30</td>\n",
       "      <td>30_to_that_are_papers</td>\n",
       "      <td>0.043500</td>\n",
       "      <td>0.820333</td>\n",
       "      <td>0.136000</td>\n",
       "      <td>0.685783</td>\n",
       "    </tr>\n",
       "    <tr>\n",
       "      <th>32</th>\n",
       "      <td>31</td>\n",
       "      <td>31_languages_which_things_algorithm which</td>\n",
       "      <td>0.034600</td>\n",
       "      <td>0.911400</td>\n",
       "      <td>0.054200</td>\n",
       "      <td>0.150940</td>\n",
       "    </tr>\n",
       "    <tr>\n",
       "      <th>33</th>\n",
       "      <td>32</td>\n",
       "      <td>32_ask_rexplainlikeimfive its_on rexplainlikei...</td>\n",
       "      <td>0.155200</td>\n",
       "      <td>0.714600</td>\n",
       "      <td>0.130200</td>\n",
       "      <td>0.042920</td>\n",
       "    </tr>\n",
       "    <tr>\n",
       "      <th>34</th>\n",
       "      <td>33</td>\n",
       "      <td>33_the_node_voltages_power</td>\n",
       "      <td>0.028600</td>\n",
       "      <td>0.923400</td>\n",
       "      <td>0.048200</td>\n",
       "      <td>0.433140</td>\n",
       "    </tr>\n",
       "    <tr>\n",
       "      <th>35</th>\n",
       "      <td>34</td>\n",
       "      <td>34_infinite_loop_infinite loop_an infinite</td>\n",
       "      <td>0.031200</td>\n",
       "      <td>0.943600</td>\n",
       "      <td>0.025400</td>\n",
       "      <td>-0.059200</td>\n",
       "    </tr>\n",
       "  </tbody>\n",
       "</table>\n",
       "</div>"
      ],
      "text/plain": [
       "    topic_label                                         topic_name  \\\n",
       "0            -1                                  -1_the_to_and_you   \n",
       "1             0                         0_love_awesome_this is_lol   \n",
       "2             1                            1_algorithms_by_and_the   \n",
       "3             2                         2_ai_to_human_intelligence   \n",
       "4             3                                   3_bit_to_cpu_the   \n",
       "5             4       4_programming pearls_jon_jon bentley_bentley   \n",
       "6             5                      5_python_cs_learn_programming   \n",
       "7             6                               6_nft_the_image_nfts   \n",
       "8             7                7_math_science_computer science_you   \n",
       "9             8           8_software_engineering_computer_engineer   \n",
       "10            9                      9_router_protocol_packets_the   \n",
       "11           10                             10_bits_bytes_bit_file   \n",
       "12           11                         11_cores_the_to_processing   \n",
       "13           12                             12_sci_acm_scholar_hub   \n",
       "14           13                            13_guess_the_number_you   \n",
       "15           14              14_career_counselor_be_your counselor   \n",
       "16           15                       15_he_videos_channel_youtube   \n",
       "17           16                              16_takes_steps_the_we   \n",
       "18           17                   17_effect_research_type_coeffect   \n",
       "19           18           18_compiled_written_language_implementer   \n",
       "20           19                               19_science_of_the_to   \n",
       "21           20                       20_the_silicon_process_chips   \n",
       "22           21                             21_nand_how_logic_into   \n",
       "23           22                     22_crypto_currency_believe_the   \n",
       "24           23            23_learning_methods_nature_distribution   \n",
       "25           24              24_code_developers_lowcode_experience   \n",
       "26           25                25_computer_watch_ben eaters_eaters   \n",
       "27           26                                   26_ce_cs_jobs_ee   \n",
       "28           27                27_book_what book_book is_know does   \n",
       "29           28   28_need_need to_for hacking_rcomputerengineering   \n",
       "30           29             29_thanks_thanks for_for sharing_thank   \n",
       "31           30                              30_to_that_are_papers   \n",
       "32           31          31_languages_which_things_algorithm which   \n",
       "33           32  32_ask_rexplainlikeimfive its_on rexplainlikei...   \n",
       "34           33                         33_the_node_voltages_power   \n",
       "35           34         34_infinite_loop_infinite loop_an infinite   \n",
       "\n",
       "    neg_sentiment  neu_sentiment  pos_sentiment  compound_sentiment  \n",
       "0        0.033943       0.857044       0.109044            0.345921  \n",
       "1        0.044316       0.532816       0.422868            0.458008  \n",
       "2        0.011027       0.861703       0.127270            0.346157  \n",
       "3        0.050259       0.814407       0.135370            0.314700  \n",
       "4        0.016136       0.931727       0.052136            0.330873  \n",
       "5        0.017190       0.931143       0.051714            0.131710  \n",
       "6        0.006789       0.879421       0.113789            0.383400  \n",
       "7        0.024824       0.894176       0.080941            0.379159  \n",
       "8        0.013412       0.918588       0.067941            0.233588  \n",
       "9        0.013059       0.914471       0.072353            0.369388  \n",
       "10       0.011143       0.961429       0.027429            0.151000  \n",
       "11       0.027714       0.905571       0.066714            0.153393  \n",
       "12       0.026308       0.916231       0.057538            0.101308  \n",
       "13       0.010769       0.916692       0.072538            0.214662  \n",
       "14       0.048000       0.855154       0.097154            0.299369  \n",
       "15       0.082250       0.825750       0.092000            0.406425  \n",
       "16       0.007250       0.805000       0.187750            0.529458  \n",
       "17       0.040917       0.906000       0.053167            0.098250  \n",
       "18       0.012091       0.890364       0.097545            0.431891  \n",
       "19       0.003000       0.956500       0.040500            0.226540  \n",
       "20       0.061778       0.811000       0.127111            0.375911  \n",
       "21       0.017222       0.863556       0.119111            0.665456  \n",
       "22       0.012111       0.905333       0.082667            0.413222  \n",
       "23       0.061571       0.819286       0.119000            0.240143  \n",
       "24       0.045286       0.896857       0.057857            0.129957  \n",
       "25       0.025286       0.907714       0.066857            0.143357  \n",
       "26       0.012857       0.888714       0.098286            0.450443  \n",
       "27       0.047571       0.840714       0.111857            0.293057  \n",
       "28       0.062571       0.809286       0.128143            0.202157  \n",
       "29       0.037500       0.833500       0.129000            0.130033  \n",
       "30       0.000000       0.467667       0.532333            0.720683  \n",
       "31       0.043500       0.820333       0.136000            0.685783  \n",
       "32       0.034600       0.911400       0.054200            0.150940  \n",
       "33       0.155200       0.714600       0.130200            0.042920  \n",
       "34       0.028600       0.923400       0.048200            0.433140  \n",
       "35       0.031200       0.943600       0.025400           -0.059200  "
      ]
     },
     "execution_count": 22,
     "metadata": {},
     "output_type": "execute_result"
    }
   ],
   "source": [
    "pd.set_option('display.max_rows', None)\n",
    "final_comment_df.groupby(by=['topic_label', 'topic_name']).mean().reset_index()"
   ]
  }
 ],
 "metadata": {
  "kernelspec": {
   "display_name": "Python 3 (ipykernel)",
   "language": "python",
   "name": "python3"
  },
  "language_info": {
   "codemirror_mode": {
    "name": "ipython",
    "version": 3
   },
   "file_extension": ".py",
   "mimetype": "text/x-python",
   "name": "python",
   "nbconvert_exporter": "python",
   "pygments_lexer": "ipython3",
   "version": "3.7.12"
  }
 },
 "nbformat": 4,
 "nbformat_minor": 5
}
