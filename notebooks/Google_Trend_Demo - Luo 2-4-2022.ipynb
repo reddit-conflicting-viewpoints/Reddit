{
 "cells": [
  {
   "cell_type": "code",
   "execution_count": 1,
   "id": "1802c980",
   "metadata": {},
   "outputs": [],
   "source": [
    "import spacy\n",
    "import pandas as pd\n",
    "import numpy as np\n",
    "from functools import partial\n",
    "from collections import defaultdict\n",
    "from typing import List, Set\n",
    "from pathlib import Path\n",
    "from pytrends.request import TrendReq\n",
    "from sklearn.feature_extraction.text import CountVectorizer"
   ]
  },
  {
   "cell_type": "markdown",
   "id": "cd0e2b83",
   "metadata": {},
   "source": [
    "### Get google trending key words"
   ]
  },
  {
   "cell_type": "code",
   "execution_count": 2,
   "id": "3412a741",
   "metadata": {},
   "outputs": [],
   "source": [
    "# read more about pytrends API here: https://pypi.org/project/pytrends/\n",
    "pytrend = TrendReq()\n",
    "google_topics = (\n",
    "    pytrend.\n",
    "    trending_searches(pn='united_states').\n",
    "    rename(columns={0:'topic'}).\n",
    "    query('topic.str.split().str.len()<=3'). #only use trending topics at most 3 words\n",
    "    topic.str.lower().\n",
    "    reset_index(drop=True)\n",
    ")\n",
    "google_topics = set(google_topics.values)"
   ]
  },
  {
   "cell_type": "code",
   "execution_count": 3,
   "id": "cba1bc9b",
   "metadata": {},
   "outputs": [
    {
     "data": {
      "text/plain": [
       "{'amazon stock',\n",
       " 'athletic  real madrid',\n",
       " 'cameroon vs egypt',\n",
       " 'celtics',\n",
       " 'doug pederson',\n",
       " 'geoffrey paschel',\n",
       " 'johnny weir',\n",
       " 'keanu reeves',\n",
       " 'kim cattrall',\n",
       " 'lakers vs clippers',\n",
       " 'moonfall',\n",
       " 'murderville',\n",
       " 'pro bowl 2022',\n",
       " 'raised by wolves',\n",
       " 'real madrid',\n",
       " 'snap stock',\n",
       " 'trae young',\n",
       " 'winter olympics'}"
      ]
     },
     "execution_count": 3,
     "metadata": {},
     "output_type": "execute_result"
    }
   ],
   "source": [
    "google_topics"
   ]
  },
  {
   "cell_type": "markdown",
   "id": "fc405835",
   "metadata": {},
   "source": [
    "### get reddit post title tri-grams"
   ]
  },
  {
   "cell_type": "code",
   "execution_count": 4,
   "id": "4e5988c3",
   "metadata": {},
   "outputs": [
    {
     "name": "stdout",
     "output_type": "stream",
     "text": [
      "cats_comments.csv      russia_comments.csv    worldnews_comments.csv\r\n",
      "cats_posts.csv         russia_posts.csv       worldnews_posts.csv\r\n"
     ]
    }
   ],
   "source": [
    "!ls ./data"
   ]
  },
  {
   "cell_type": "code",
   "execution_count": 5,
   "id": "df7db07a",
   "metadata": {},
   "outputs": [],
   "source": [
    "path = Path('./data/worldnews_posts.csv')\n",
    "reddit_posts = (\n",
    "    pd.read_csv(path).\n",
    "    iloc[1:,:].\n",
    "    reset_index(drop=True) #the first title appears to be pinned post\n",
    ")"
   ]
  },
  {
   "cell_type": "code",
   "execution_count": 6,
   "id": "260dcec4",
   "metadata": {},
   "outputs": [
    {
     "data": {
      "text/html": [
       "<div>\n",
       "<style scoped>\n",
       "    .dataframe tbody tr th:only-of-type {\n",
       "        vertical-align: middle;\n",
       "    }\n",
       "\n",
       "    .dataframe tbody tr th {\n",
       "        vertical-align: top;\n",
       "    }\n",
       "\n",
       "    .dataframe thead th {\n",
       "        text-align: right;\n",
       "    }\n",
       "</style>\n",
       "<table border=\"1\" class=\"dataframe\">\n",
       "  <thead>\n",
       "    <tr style=\"text-align: right;\">\n",
       "      <th></th>\n",
       "      <th>post_id</th>\n",
       "      <th>title</th>\n",
       "      <th>score</th>\n",
       "      <th>subreddit</th>\n",
       "      <th>url</th>\n",
       "      <th>num_comments</th>\n",
       "      <th>body</th>\n",
       "      <th>created</th>\n",
       "    </tr>\n",
       "  </thead>\n",
       "  <tbody>\n",
       "    <tr>\n",
       "      <th>0</th>\n",
       "      <td>sjpwpi</td>\n",
       "      <td>Trudeau rules out negotiating with protesters,...</td>\n",
       "      <td>4454</td>\n",
       "      <td>worldnews</td>\n",
       "      <td>https://www.cbc.ca/news/politics/trudeau-prote...</td>\n",
       "      <td>1311</td>\n",
       "      <td>NaN</td>\n",
       "      <td>1.643912e+09</td>\n",
       "    </tr>\n",
       "    <tr>\n",
       "      <th>1</th>\n",
       "      <td>sju2s5</td>\n",
       "      <td>Canadian MPs vote to call GoFundMe to testify ...</td>\n",
       "      <td>588</td>\n",
       "      <td>worldnews</td>\n",
       "      <td>https://www.cbc.ca/news/politics/convoy-protes...</td>\n",
       "      <td>191</td>\n",
       "      <td>NaN</td>\n",
       "      <td>1.643922e+09</td>\n",
       "    </tr>\n",
       "    <tr>\n",
       "      <th>2</th>\n",
       "      <td>sjos5s</td>\n",
       "      <td>Putin heads to China to bolster ties amid Ukra...</td>\n",
       "      <td>1028</td>\n",
       "      <td>worldnews</td>\n",
       "      <td>https://apnews.com/article/russia-ukraine-spor...</td>\n",
       "      <td>209</td>\n",
       "      <td>NaN</td>\n",
       "      <td>1.643909e+09</td>\n",
       "    </tr>\n",
       "    <tr>\n",
       "      <th>3</th>\n",
       "      <td>sjrmgq</td>\n",
       "      <td>Police watchdog finds misogynistic, racist, di...</td>\n",
       "      <td>621</td>\n",
       "      <td>worldnews</td>\n",
       "      <td>https://thehill.com/policy/international/59263...</td>\n",
       "      <td>65</td>\n",
       "      <td>NaN</td>\n",
       "      <td>1.643916e+09</td>\n",
       "    </tr>\n",
       "    <tr>\n",
       "      <th>4</th>\n",
       "      <td>sjhegj</td>\n",
       "      <td>Civilians reported dead after US conducts coun...</td>\n",
       "      <td>1564</td>\n",
       "      <td>worldnews</td>\n",
       "      <td>https://www.cnn.com/2022/02/03/world/syria-us-...</td>\n",
       "      <td>1227</td>\n",
       "      <td>NaN</td>\n",
       "      <td>1.643889e+09</td>\n",
       "    </tr>\n",
       "    <tr>\n",
       "      <th>...</th>\n",
       "      <td>...</td>\n",
       "      <td>...</td>\n",
       "      <td>...</td>\n",
       "      <td>...</td>\n",
       "      <td>...</td>\n",
       "      <td>...</td>\n",
       "      <td>...</td>\n",
       "      <td>...</td>\n",
       "    </tr>\n",
       "    <tr>\n",
       "      <th>94</th>\n",
       "      <td>sjwgd3</td>\n",
       "      <td>South Shore school apologizes after using home...</td>\n",
       "      <td>7</td>\n",
       "      <td>worldnews</td>\n",
       "      <td>https://www.cbc.ca/news/canada/montreal/rivers...</td>\n",
       "      <td>5</td>\n",
       "      <td>NaN</td>\n",
       "      <td>1.643928e+09</td>\n",
       "    </tr>\n",
       "    <tr>\n",
       "      <th>95</th>\n",
       "      <td>sjq22e</td>\n",
       "      <td>U.S. Helicopter Downed in Military Operation t...</td>\n",
       "      <td>16</td>\n",
       "      <td>worldnews</td>\n",
       "      <td>https://beckernews.com/breaking-u-s-helicopter...</td>\n",
       "      <td>17</td>\n",
       "      <td>NaN</td>\n",
       "      <td>1.643912e+09</td>\n",
       "    </tr>\n",
       "    <tr>\n",
       "      <th>96</th>\n",
       "      <td>sjpbzc</td>\n",
       "      <td>Lithuanian president calls for more German tro...</td>\n",
       "      <td>18</td>\n",
       "      <td>worldnews</td>\n",
       "      <td>https://www.lrt.lt/en/news-in-english/19/16058...</td>\n",
       "      <td>4</td>\n",
       "      <td>NaN</td>\n",
       "      <td>1.643910e+09</td>\n",
       "    </tr>\n",
       "    <tr>\n",
       "      <th>97</th>\n",
       "      <td>sjftpz</td>\n",
       "      <td>Russia has sent some 30,000 combat troops, mod...</td>\n",
       "      <td>62</td>\n",
       "      <td>worldnews</td>\n",
       "      <td>https://www.reuters.com/world/europe/russia-ha...</td>\n",
       "      <td>7</td>\n",
       "      <td>NaN</td>\n",
       "      <td>1.643884e+09</td>\n",
       "    </tr>\n",
       "    <tr>\n",
       "      <th>98</th>\n",
       "      <td>sjk14j</td>\n",
       "      <td>New cyberattack hits North Korea after hacker ...</td>\n",
       "      <td>32</td>\n",
       "      <td>worldnews</td>\n",
       "      <td>https://www.nknews.org/2022/02/new-cyberattack...</td>\n",
       "      <td>1</td>\n",
       "      <td>NaN</td>\n",
       "      <td>1.643897e+09</td>\n",
       "    </tr>\n",
       "  </tbody>\n",
       "</table>\n",
       "<p>99 rows × 8 columns</p>\n",
       "</div>"
      ],
      "text/plain": [
       "   post_id                                              title  score  \\\n",
       "0   sjpwpi  Trudeau rules out negotiating with protesters,...   4454   \n",
       "1   sju2s5  Canadian MPs vote to call GoFundMe to testify ...    588   \n",
       "2   sjos5s  Putin heads to China to bolster ties amid Ukra...   1028   \n",
       "3   sjrmgq  Police watchdog finds misogynistic, racist, di...    621   \n",
       "4   sjhegj  Civilians reported dead after US conducts coun...   1564   \n",
       "..     ...                                                ...    ...   \n",
       "94  sjwgd3  South Shore school apologizes after using home...      7   \n",
       "95  sjq22e  U.S. Helicopter Downed in Military Operation t...     16   \n",
       "96  sjpbzc  Lithuanian president calls for more German tro...     18   \n",
       "97  sjftpz  Russia has sent some 30,000 combat troops, mod...     62   \n",
       "98  sjk14j  New cyberattack hits North Korea after hacker ...     32   \n",
       "\n",
       "    subreddit                                                url  \\\n",
       "0   worldnews  https://www.cbc.ca/news/politics/trudeau-prote...   \n",
       "1   worldnews  https://www.cbc.ca/news/politics/convoy-protes...   \n",
       "2   worldnews  https://apnews.com/article/russia-ukraine-spor...   \n",
       "3   worldnews  https://thehill.com/policy/international/59263...   \n",
       "4   worldnews  https://www.cnn.com/2022/02/03/world/syria-us-...   \n",
       "..        ...                                                ...   \n",
       "94  worldnews  https://www.cbc.ca/news/canada/montreal/rivers...   \n",
       "95  worldnews  https://beckernews.com/breaking-u-s-helicopter...   \n",
       "96  worldnews  https://www.lrt.lt/en/news-in-english/19/16058...   \n",
       "97  worldnews  https://www.reuters.com/world/europe/russia-ha...   \n",
       "98  worldnews  https://www.nknews.org/2022/02/new-cyberattack...   \n",
       "\n",
       "    num_comments body       created  \n",
       "0           1311  NaN  1.643912e+09  \n",
       "1            191  NaN  1.643922e+09  \n",
       "2            209  NaN  1.643909e+09  \n",
       "3             65  NaN  1.643916e+09  \n",
       "4           1227  NaN  1.643889e+09  \n",
       "..           ...  ...           ...  \n",
       "94             5  NaN  1.643928e+09  \n",
       "95            17  NaN  1.643912e+09  \n",
       "96             4  NaN  1.643910e+09  \n",
       "97             7  NaN  1.643884e+09  \n",
       "98             1  NaN  1.643897e+09  \n",
       "\n",
       "[99 rows x 8 columns]"
      ]
     },
     "execution_count": 6,
     "metadata": {},
     "output_type": "execute_result"
    }
   ],
   "source": [
    "reddit_posts"
   ]
  },
  {
   "cell_type": "code",
   "execution_count": 7,
   "id": "ba640ab2",
   "metadata": {},
   "outputs": [],
   "source": [
    "nlp=spacy.load('en_core_web_sm')\n",
    "trigram_vectorizer=CountVectorizer(ngram_range=(1,3))"
   ]
  },
  {
   "cell_type": "code",
   "execution_count": 8,
   "id": "e93da8e8",
   "metadata": {},
   "outputs": [],
   "source": [
    "def text_processing(text: str, processor:spacy.lang.en.English) -> str:\n",
    "    return ' '.join(i.lemma_.lower() for i in processor(text) \n",
    "                    if not (i.is_punct or i.is_stop or i.pos_ == 'VERB'))"
   ]
  },
  {
   "cell_type": "code",
   "execution_count": 9,
   "id": "eafdc9e9",
   "metadata": {},
   "outputs": [],
   "source": [
    "def get_ngram(text:str,n_gram_min:int=1, n_gram_max:int=3) -> Set[str]:\n",
    "    trigram_vectorizer = CountVectorizer(ngram_range=(n_gram_min,n_gram_max))\n",
    "    trigram_vectorizer.fit_transform([text])\n",
    "    return set(trigram_vectorizer.get_feature_names_out())"
   ]
  },
  {
   "cell_type": "code",
   "execution_count": 10,
   "id": "342a5223",
   "metadata": {},
   "outputs": [],
   "source": [
    "reddit_posts['ngram'] = (\n",
    "     reddit_posts.title.\n",
    "        apply(text_processing, args=(nlp,)).\n",
    "        apply(get_ngram)\n",
    ")"
   ]
  },
  {
   "cell_type": "markdown",
   "id": "04dafb6e",
   "metadata": {},
   "source": [
    "### Find what trending topic is mentioned in reddit post title"
   ]
  },
  {
   "cell_type": "code",
   "execution_count": 11,
   "id": "0007c155",
   "metadata": {},
   "outputs": [
    {
     "data": {
      "text/plain": [
       "{'card',\n",
       " 'deployment',\n",
       " 'deployment card',\n",
       " 'military',\n",
       " 'military deployment',\n",
       " 'military deployment card',\n",
       " 'protester',\n",
       " 'protester military',\n",
       " 'protester military deployment',\n",
       " 'trudeau',\n",
       " 'trudeau protester',\n",
       " 'trudeau protester military'}"
      ]
     },
     "execution_count": 11,
     "metadata": {},
     "output_type": "execute_result"
    }
   ],
   "source": [
    "reddit_posts.ngram[0]"
   ]
  },
  {
   "cell_type": "code",
   "execution_count": 12,
   "id": "5279d11d",
   "metadata": {},
   "outputs": [],
   "source": [
    "topic_intersect = partial(set.intersection,google_topics)"
   ]
  },
  {
   "cell_type": "code",
   "execution_count": 13,
   "id": "e89e96b6",
   "metadata": {},
   "outputs": [
    {
     "data": {
      "text/plain": [
       "{'winter olympics': 0.02}"
      ]
     },
     "execution_count": 13,
     "metadata": {},
     "output_type": "execute_result"
    }
   ],
   "source": [
    "counter = defaultdict(int)\n",
    "for i in filter(lambda x: x, reddit_posts.ngram.apply(topic_intersect)):\n",
    "    for topic in i:\n",
    "        counter[topic]+=1\n",
    "{topic:np.round(count/len(reddit_posts),3) for topic, count in counter.items()}"
   ]
  },
  {
   "cell_type": "code",
   "execution_count": null,
   "id": "d0679556",
   "metadata": {},
   "outputs": [],
   "source": []
  }
 ],
 "metadata": {
  "kernelspec": {
   "display_name": "Python 3 (ipykernel)",
   "language": "python",
   "name": "python3"
  },
  "language_info": {
   "codemirror_mode": {
    "name": "ipython",
    "version": 3
   },
   "file_extension": ".py",
   "mimetype": "text/x-python",
   "name": "python",
   "nbconvert_exporter": "python",
   "pygments_lexer": "ipython3",
   "version": "3.7.11"
  }
 },
 "nbformat": 4,
 "nbformat_minor": 5
}
