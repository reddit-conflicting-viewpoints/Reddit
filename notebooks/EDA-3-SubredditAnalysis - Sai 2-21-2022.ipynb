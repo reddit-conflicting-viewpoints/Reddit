{
 "cells": [
  {
   "cell_type": "code",
   "execution_count": 1,
   "id": "a854ee28",
   "metadata": {},
   "outputs": [
    {
     "name": "stderr",
     "output_type": "stream",
     "text": [
      "[nltk_data] Downloading package punkt to\n",
      "[nltk_data]     /Users/saimuktevi/nltk_data...\n",
      "[nltk_data]   Package punkt is already up-to-date!\n",
      "[nltk_data] Downloading package stopwords to\n",
      "[nltk_data]     /Users/saimuktevi/nltk_data...\n",
      "[nltk_data]   Package stopwords is already up-to-date!\n",
      "[nltk_data] Downloading package averaged_perceptron_tagger to\n",
      "[nltk_data]     /Users/saimuktevi/nltk_data...\n",
      "[nltk_data]   Package averaged_perceptron_tagger is already up-to-\n",
      "[nltk_data]       date!\n",
      "[nltk_data] Downloading package wordnet to\n",
      "[nltk_data]     /Users/saimuktevi/nltk_data...\n",
      "[nltk_data]   Package wordnet is already up-to-date!\n",
      "[nltk_data] Downloading package omw-1.4 to\n",
      "[nltk_data]     /Users/saimuktevi/nltk_data...\n",
      "[nltk_data]   Package omw-1.4 is already up-to-date!\n",
      "[nltk_data] Downloading package punkt to\n",
      "[nltk_data]     /Users/saimuktevi/nltk_data...\n",
      "[nltk_data]   Package punkt is already up-to-date!\n",
      "[nltk_data] Downloading package stopwords to\n",
      "[nltk_data]     /Users/saimuktevi/nltk_data...\n",
      "[nltk_data]   Package stopwords is already up-to-date!\n",
      "[nltk_data] Downloading package averaged_perceptron_tagger to\n",
      "[nltk_data]     /Users/saimuktevi/nltk_data...\n",
      "[nltk_data]   Package averaged_perceptron_tagger is already up-to-\n",
      "[nltk_data]       date!\n",
      "[nltk_data] Downloading package wordnet to\n",
      "[nltk_data]     /Users/saimuktevi/nltk_data...\n",
      "[nltk_data]   Package wordnet is already up-to-date!\n",
      "[nltk_data] Downloading package omw-1.4 to\n",
      "[nltk_data]     /Users/saimuktevi/nltk_data...\n",
      "[nltk_data]   Package omw-1.4 is already up-to-date!\n",
      "[nltk_data] Downloading package punkt to\n",
      "[nltk_data]     /Users/saimuktevi/nltk_data...\n",
      "[nltk_data]   Package punkt is already up-to-date!\n",
      "[nltk_data] Downloading package stopwords to\n",
      "[nltk_data]     /Users/saimuktevi/nltk_data...\n",
      "[nltk_data]   Package stopwords is already up-to-date!\n",
      "[nltk_data] Downloading package averaged_perceptron_tagger to\n",
      "[nltk_data]     /Users/saimuktevi/nltk_data...\n",
      "[nltk_data]   Package averaged_perceptron_tagger is already up-to-\n",
      "[nltk_data]       date!\n",
      "[nltk_data] Downloading package wordnet to\n",
      "[nltk_data]     /Users/saimuktevi/nltk_data...\n",
      "[nltk_data]   Package wordnet is already up-to-date!\n",
      "[nltk_data] Downloading package omw-1.4 to\n",
      "[nltk_data]     /Users/saimuktevi/nltk_data...\n",
      "[nltk_data]   Package omw-1.4 is already up-to-date!\n"
     ]
    }
   ],
   "source": [
    "from src.models.subreddit_analysis import SubredditAnalysis"
   ]
  },
  {
   "cell_type": "code",
   "execution_count": 2,
   "id": "6cb2b46f",
   "metadata": {},
   "outputs": [],
   "source": [
    "subreddit = ['gaming', 'computerscience', 'Music']"
   ]
  },
  {
   "cell_type": "code",
   "execution_count": 3,
   "id": "fa42ae53",
   "metadata": {
    "scrolled": true
   },
   "outputs": [
    {
     "name": "stderr",
     "output_type": "stream",
     "text": [
      "/Users/saimuktevi/Documents/UW/Capstone/reddit_capstone_repos/Reddit/src/models/subreddit_analysis.py:34: DtypeWarning: Columns (6,7,8) have mixed types.Specify dtype option on import or set low_memory=False.\n",
      "  bertmodels_obj = BertModels(subreddit=subreddit, sort_type=sort_order)\n"
     ]
    },
    {
     "name": "stdout",
     "output_type": "stream",
     "text": [
      "********Preprocessing DataFrame for Topic Modeling*********\n",
      "Fill NaNs\n",
      "Remove URLs\n",
      "Expand Contractions\n",
      "Make Lowercase\n",
      "Tokenize\n",
      "Filter Stopwords\n",
      "Lemmatization\n",
      "********DONE: Preprocessing for Topic Modeling*********\n",
      "********Topic Modeling for Posts*********\n",
      "Number of entries being modeled: 240\n",
      "Intiailizing model and training\n"
     ]
    },
    {
     "data": {
      "application/vnd.jupyter.widget-view+json": {
       "model_id": "642ebcb5066d493eb81cd09159f656ec",
       "version_major": 2,
       "version_minor": 0
      },
      "text/plain": [
       "Batches:   0%|          | 0/8 [00:00<?, ?it/s]"
      ]
     },
     "metadata": {},
     "output_type": "display_data"
    },
    {
     "name": "stderr",
     "output_type": "stream",
     "text": [
      "2022-02-21 17:29:18,629 - BERTopic - Transformed documents to Embeddings\n",
      "2022-02-21 17:29:22,722 - BERTopic - Reduced dimensionality with UMAP\n",
      "2022-02-21 17:29:22,751 - BERTopic - Clustered UMAP embeddings with HDBSCAN\n"
     ]
    },
    {
     "name": "stdout",
     "output_type": "stream",
     "text": [
      "********DONE: Topic Modeling for Posts*********\n",
      "********Preprocessing for Sentiment Analysis for Posts*********\n",
      "********Preprocessing DataFrame for Sentiment Analysis*********\n",
      "Fill NaNs\n",
      "Remove URLs\n",
      "Expand Contractions\n",
      "Remove escape characters.\n",
      "********DONE: Preprocessing for Sentiment Analysis for Posts*********\n",
      "********Sentiment Analysis*********\n",
      "********DONE: Sentiment Analysis*********\n",
      "********Preprocessing DataFrame for Topic Modeling*********\n",
      "Fill NaNs\n",
      "Remove URLs\n",
      "Expand Contractions\n",
      "Make Lowercase\n",
      "Tokenize\n",
      "Filter Stopwords\n",
      "Lemmatization\n",
      "********DONE: Preprocessing for Topic Modeling*********\n",
      "********Topic Modeling for Comments*********\n",
      "Number of entries being modeled: 10000\n",
      "Intiailizing model and training\n"
     ]
    },
    {
     "data": {
      "application/vnd.jupyter.widget-view+json": {
       "model_id": "aa3b864d1a6e4debb61b18f9104310f9",
       "version_major": 2,
       "version_minor": 0
      },
      "text/plain": [
       "Batches:   0%|          | 0/313 [00:00<?, ?it/s]"
      ]
     },
     "metadata": {},
     "output_type": "display_data"
    },
    {
     "name": "stderr",
     "output_type": "stream",
     "text": [
      "2022-02-21 18:00:55,859 - BERTopic - Transformed documents to Embeddings\n",
      "2022-02-21 18:01:12,751 - BERTopic - Reduced dimensionality with UMAP\n",
      "2022-02-21 18:01:46,919 - BERTopic - Clustered UMAP embeddings with HDBSCAN\n"
     ]
    },
    {
     "name": "stdout",
     "output_type": "stream",
     "text": [
      "********DONE: Topic Modeling for Comments*********\n",
      "********Preprocessing for Sentiment Analysis for Comments*********\n",
      "********Preprocessing DataFrame for Sentiment Analysis*********\n",
      "Fill NaNs\n",
      "Remove URLs\n",
      "Expand Contractions\n",
      "Remove escape characters.\n",
      "********DONE: Preprocessing for Sentiment Analysis for Comments*********\n",
      "********Sentiment Analysis*********\n",
      "********DONE: Sentiment Analysis*********\n",
      "********Relevance Scores*********\n",
      "********DONE: Relevance Scores*********\n",
      "********Preprocessing DataFrame for Topic Modeling*********\n",
      "Fill NaNs\n",
      "Remove URLs\n",
      "Expand Contractions\n",
      "Make Lowercase\n",
      "Tokenize\n",
      "Filter Stopwords\n",
      "Lemmatization\n",
      "********DONE: Preprocessing for Topic Modeling*********\n",
      "********Topic Modeling for Posts*********\n",
      "Number of entries being modeled: 417\n",
      "Intiailizing model and training\n"
     ]
    },
    {
     "data": {
      "application/vnd.jupyter.widget-view+json": {
       "model_id": "caac991c373a4725a5b75b5cbd863024",
       "version_major": 2,
       "version_minor": 0
      },
      "text/plain": [
       "Batches:   0%|          | 0/14 [00:00<?, ?it/s]"
      ]
     },
     "metadata": {},
     "output_type": "display_data"
    },
    {
     "name": "stderr",
     "output_type": "stream",
     "text": [
      "2022-02-21 18:21:41,413 - BERTopic - Transformed documents to Embeddings\n",
      "2022-02-21 18:21:43,313 - BERTopic - Reduced dimensionality with UMAP\n",
      "2022-02-21 18:21:43,336 - BERTopic - Clustered UMAP embeddings with HDBSCAN\n"
     ]
    },
    {
     "name": "stdout",
     "output_type": "stream",
     "text": [
      "********DONE: Topic Modeling for Posts*********\n",
      "********Preprocessing for Sentiment Analysis for Posts*********\n",
      "********Preprocessing DataFrame for Sentiment Analysis*********\n",
      "Fill NaNs\n",
      "Remove URLs\n",
      "Expand Contractions\n",
      "Remove escape characters.\n",
      "********DONE: Preprocessing for Sentiment Analysis for Posts*********\n",
      "********Sentiment Analysis*********\n",
      "********DONE: Sentiment Analysis*********\n",
      "********Preprocessing DataFrame for Topic Modeling*********\n",
      "Fill NaNs\n",
      "Remove URLs\n",
      "Expand Contractions\n",
      "Make Lowercase\n",
      "Tokenize\n",
      "Filter Stopwords\n",
      "Lemmatization\n",
      "********DONE: Preprocessing for Topic Modeling*********\n",
      "********Topic Modeling for Comments*********\n",
      "Number of entries being modeled: 5838\n",
      "Intiailizing model and training\n"
     ]
    },
    {
     "data": {
      "application/vnd.jupyter.widget-view+json": {
       "model_id": "0d036bfeb7f446e4bfb1edd088f60e0f",
       "version_major": 2,
       "version_minor": 0
      },
      "text/plain": [
       "Batches:   0%|          | 0/183 [00:00<?, ?it/s]"
      ]
     },
     "metadata": {},
     "output_type": "display_data"
    },
    {
     "name": "stderr",
     "output_type": "stream",
     "text": [
      "2022-02-21 18:29:32,130 - BERTopic - Transformed documents to Embeddings\n",
      "2022-02-21 18:29:36,967 - BERTopic - Reduced dimensionality with UMAP\n",
      "2022-02-21 18:29:38,469 - BERTopic - Clustered UMAP embeddings with HDBSCAN\n"
     ]
    },
    {
     "name": "stdout",
     "output_type": "stream",
     "text": [
      "********DONE: Topic Modeling for Comments*********\n",
      "********Preprocessing for Sentiment Analysis for Comments*********\n",
      "********Preprocessing DataFrame for Sentiment Analysis*********\n",
      "Fill NaNs\n",
      "Remove URLs\n",
      "Expand Contractions\n",
      "Remove escape characters.\n",
      "********DONE: Preprocessing for Sentiment Analysis for Comments*********\n",
      "********Sentiment Analysis*********\n",
      "********DONE: Sentiment Analysis*********\n",
      "********Relevance Scores*********\n",
      "********DONE: Relevance Scores*********\n",
      "********Preprocessing DataFrame for Topic Modeling*********\n",
      "Fill NaNs\n",
      "Remove URLs\n",
      "Expand Contractions\n",
      "Make Lowercase\n",
      "Tokenize\n",
      "Filter Stopwords\n",
      "Lemmatization\n",
      "********DONE: Preprocessing for Topic Modeling*********\n",
      "********Topic Modeling for Posts*********\n",
      "Number of entries being modeled: 287\n",
      "Intiailizing model and training\n"
     ]
    },
    {
     "data": {
      "application/vnd.jupyter.widget-view+json": {
       "model_id": "5a57fc716a1a4a1eb6667ec9fcda255c",
       "version_major": 2,
       "version_minor": 0
      },
      "text/plain": [
       "Batches:   0%|          | 0/9 [00:00<?, ?it/s]"
      ]
     },
     "metadata": {},
     "output_type": "display_data"
    },
    {
     "name": "stderr",
     "output_type": "stream",
     "text": [
      "2022-02-21 19:40:17,600 - BERTopic - Transformed documents to Embeddings\n",
      "2022-02-21 19:40:19,000 - BERTopic - Reduced dimensionality with UMAP\n",
      "2022-02-21 19:40:19,017 - BERTopic - Clustered UMAP embeddings with HDBSCAN\n"
     ]
    },
    {
     "name": "stdout",
     "output_type": "stream",
     "text": [
      "********DONE: Topic Modeling for Posts*********\n",
      "********Preprocessing for Sentiment Analysis for Posts*********\n",
      "********Preprocessing DataFrame for Sentiment Analysis*********\n",
      "Fill NaNs\n",
      "Remove URLs\n",
      "Expand Contractions\n",
      "Remove escape characters.\n",
      "********DONE: Preprocessing for Sentiment Analysis for Posts*********\n",
      "********Sentiment Analysis*********\n",
      "********DONE: Sentiment Analysis*********\n",
      "********Preprocessing DataFrame for Topic Modeling*********\n",
      "Fill NaNs\n",
      "Remove URLs\n",
      "Expand Contractions\n",
      "Make Lowercase\n",
      "Tokenize\n",
      "Filter Stopwords\n",
      "Lemmatization\n",
      "********DONE: Preprocessing for Topic Modeling*********\n",
      "********Topic Modeling for Comments*********\n",
      "Number of entries being modeled: 6606\n",
      "Intiailizing model and training\n"
     ]
    },
    {
     "data": {
      "application/vnd.jupyter.widget-view+json": {
       "model_id": "8df3efe810664e10b2cb29fd0b8a5fc5",
       "version_major": 2,
       "version_minor": 0
      },
      "text/plain": [
       "Batches:   0%|          | 0/207 [00:00<?, ?it/s]"
      ]
     },
     "metadata": {},
     "output_type": "display_data"
    },
    {
     "name": "stderr",
     "output_type": "stream",
     "text": [
      "2022-02-21 19:44:32,487 - BERTopic - Transformed documents to Embeddings\n",
      "2022-02-21 19:44:37,724 - BERTopic - Reduced dimensionality with UMAP\n",
      "2022-02-21 19:44:39,419 - BERTopic - Clustered UMAP embeddings with HDBSCAN\n"
     ]
    },
    {
     "name": "stdout",
     "output_type": "stream",
     "text": [
      "********DONE: Topic Modeling for Comments*********\n",
      "********Preprocessing for Sentiment Analysis for Comments*********\n",
      "********Preprocessing DataFrame for Sentiment Analysis*********\n",
      "Fill NaNs\n",
      "Remove URLs\n",
      "Expand Contractions\n",
      "Remove escape characters.\n",
      "********DONE: Preprocessing for Sentiment Analysis for Comments*********\n",
      "********Sentiment Analysis*********\n",
      "********DONE: Sentiment Analysis*********\n",
      "********Relevance Scores*********\n",
      "********DONE: Relevance Scores*********\n"
     ]
    }
   ],
   "source": [
    "for sub in subreddit:\n",
    "    sub_obj = SubredditAnalysis(sub, 'hot', 700, 10000)\n",
    "    path = '../data/results/SubredditAnalysisResults/subanalysis_'+sub+'_hot_'\n",
    "    sub_obj.get_processed_posts().to_csv(path+'posts')\n",
    "    sub_obj.get_processed_comments().to_csv(path+'comments')\n",
    "    sub_obj.get_result_df().to_csv(path+'results')"
   ]
  },
  {
   "cell_type": "code",
   "execution_count": null,
   "id": "944059ae",
   "metadata": {},
   "outputs": [],
   "source": []
  }
 ],
 "metadata": {
  "kernelspec": {
   "display_name": "Python 3 (ipykernel)",
   "language": "python",
   "name": "python3"
  },
  "language_info": {
   "codemirror_mode": {
    "name": "ipython",
    "version": 3
   },
   "file_extension": ".py",
   "mimetype": "text/x-python",
   "name": "python",
   "nbconvert_exporter": "python",
   "pygments_lexer": "ipython3",
   "version": "3.7.12"
  }
 },
 "nbformat": 4,
 "nbformat_minor": 5
}
