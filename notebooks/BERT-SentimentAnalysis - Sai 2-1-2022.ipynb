{
 "cells": [
  {
   "cell_type": "code",
   "execution_count": 17,
   "metadata": {},
   "outputs": [],
   "source": [
    "from notebooks.imports import *\n",
    "\n",
    "from transformers import AutoTokenizer, AutoModelForSequenceClassification\n",
    "import torch\n",
    "import requests\n",
    "from bs4 import BeautifulSoup\n"
   ]
  },
  {
   "cell_type": "code",
   "execution_count": 2,
   "metadata": {},
   "outputs": [
    {
     "name": "stdout",
     "output_type": "stream",
     "text": [
      "<class 'src.features.preprocess.PreProcess'>\n"
     ]
    }
   ],
   "source": [
    "print(PreProcess)"
   ]
  },
  {
   "cell_type": "code",
   "execution_count": 3,
   "metadata": {},
   "outputs": [],
   "source": [
    "#config\n",
    "\n",
    "subreddit = \"computerscience\""
   ]
  },
  {
   "cell_type": "code",
   "execution_count": 4,
   "metadata": {},
   "outputs": [],
   "source": [
    "world_posts = pd.read_csv('../data/raw/{}_posts.csv'.format(subreddit))\n",
    "world_comments = pd.read_csv('../data/raw/{}_comments.csv'.format(subreddit))"
   ]
  },
  {
   "cell_type": "markdown",
   "metadata": {},
   "source": [
    "# 1. Preprocess"
   ]
  },
  {
   "cell_type": "code",
   "execution_count": 5,
   "metadata": {},
   "outputs": [],
   "source": [
    "def preprocess(df, col):\n",
    "    preprocessor = PreProcess()\n",
    "    preprocessor.fill_na(df, col)\n",
    "    preprocessor.remove_urls(df, col)\n",
    "    preprocessor.expand_contractions(df, col)\n",
    "    preprocessor.remove_escape_chars(df, col)\n",
    "    return df"
   ]
  },
  {
   "cell_type": "markdown",
   "metadata": {},
   "source": [
    "### Posts"
   ]
  },
  {
   "cell_type": "code",
   "execution_count": 6,
   "metadata": {},
   "outputs": [
    {
     "data": {
      "text/html": [
       "<div>\n",
       "<style scoped>\n",
       "    .dataframe tbody tr th:only-of-type {\n",
       "        vertical-align: middle;\n",
       "    }\n",
       "\n",
       "    .dataframe tbody tr th {\n",
       "        vertical-align: top;\n",
       "    }\n",
       "\n",
       "    .dataframe thead th {\n",
       "        text-align: right;\n",
       "    }\n",
       "</style>\n",
       "<table border=\"1\" class=\"dataframe\">\n",
       "  <thead>\n",
       "    <tr style=\"text-align: right;\">\n",
       "      <th></th>\n",
       "      <th>post_id</th>\n",
       "      <th>title</th>\n",
       "      <th>score</th>\n",
       "      <th>upvote_ratio</th>\n",
       "      <th>subreddit</th>\n",
       "      <th>url</th>\n",
       "      <th>num_comments</th>\n",
       "      <th>body</th>\n",
       "      <th>created</th>\n",
       "    </tr>\n",
       "  </thead>\n",
       "  <tbody>\n",
       "    <tr>\n",
       "      <th>0</th>\n",
       "      <td>n2n0ax</td>\n",
       "      <td>New to programming or computer science? Want a...</td>\n",
       "      <td>375</td>\n",
       "      <td>1.00</td>\n",
       "      <td>computerscience</td>\n",
       "      <td>https://www.reddit.com/r/computerscience/comme...</td>\n",
       "      <td>1037</td>\n",
       "      <td>The previous thread was finally archived with ...</td>\n",
       "      <td>1.619890e+09</td>\n",
       "    </tr>\n",
       "    <tr>\n",
       "      <th>1</th>\n",
       "      <td>qb4bof</td>\n",
       "      <td>THIS IS NOT A TECH SUPPORT SUB OR A COMPUTER R...</td>\n",
       "      <td>404</td>\n",
       "      <td>0.97</td>\n",
       "      <td>computerscience</td>\n",
       "      <td>https://www.reddit.com/r/computerscience/comme...</td>\n",
       "      <td>54</td>\n",
       "      <td>Tech Support: /r/techsupport\\n\\nComputer Recom...</td>\n",
       "      <td>1.634619e+09</td>\n",
       "    </tr>\n",
       "    <tr>\n",
       "      <th>2</th>\n",
       "      <td>s8afrp</td>\n",
       "      <td>Ways to learn higher level math through CS?</td>\n",
       "      <td>12</td>\n",
       "      <td>0.88</td>\n",
       "      <td>computerscience</td>\n",
       "      <td>https://www.reddit.com/r/computerscience/comme...</td>\n",
       "      <td>3</td>\n",
       "      <td>I'm a university student, and while I've taken...</td>\n",
       "      <td>1.642654e+09</td>\n",
       "    </tr>\n",
       "    <tr>\n",
       "      <th>3</th>\n",
       "      <td>s7yrsa</td>\n",
       "      <td>Why is there nothing between 8bit and 16bit?</td>\n",
       "      <td>23</td>\n",
       "      <td>0.82</td>\n",
       "      <td>computerscience</td>\n",
       "      <td>https://www.reddit.com/r/computerscience/comme...</td>\n",
       "      <td>19</td>\n",
       "      <td>For example, if i want to change the image spe...</td>\n",
       "      <td>1.642622e+09</td>\n",
       "    </tr>\n",
       "    <tr>\n",
       "      <th>4</th>\n",
       "      <td>s7li8v</td>\n",
       "      <td>Why is Internet/transmission speed in Bit and ...</td>\n",
       "      <td>59</td>\n",
       "      <td>0.95</td>\n",
       "      <td>computerscience</td>\n",
       "      <td>https://www.reddit.com/r/computerscience/comme...</td>\n",
       "      <td>41</td>\n",
       "      <td>I am always wondering about this. Why Internet...</td>\n",
       "      <td>1.642581e+09</td>\n",
       "    </tr>\n",
       "  </tbody>\n",
       "</table>\n",
       "</div>"
      ],
      "text/plain": [
       "  post_id                                              title  score  \\\n",
       "0  n2n0ax  New to programming or computer science? Want a...    375   \n",
       "1  qb4bof  THIS IS NOT A TECH SUPPORT SUB OR A COMPUTER R...    404   \n",
       "2  s8afrp        Ways to learn higher level math through CS?     12   \n",
       "3  s7yrsa       Why is there nothing between 8bit and 16bit?     23   \n",
       "4  s7li8v  Why is Internet/transmission speed in Bit and ...     59   \n",
       "\n",
       "   upvote_ratio        subreddit  \\\n",
       "0          1.00  computerscience   \n",
       "1          0.97  computerscience   \n",
       "2          0.88  computerscience   \n",
       "3          0.82  computerscience   \n",
       "4          0.95  computerscience   \n",
       "\n",
       "                                                 url  num_comments  \\\n",
       "0  https://www.reddit.com/r/computerscience/comme...          1037   \n",
       "1  https://www.reddit.com/r/computerscience/comme...            54   \n",
       "2  https://www.reddit.com/r/computerscience/comme...             3   \n",
       "3  https://www.reddit.com/r/computerscience/comme...            19   \n",
       "4  https://www.reddit.com/r/computerscience/comme...            41   \n",
       "\n",
       "                                                body       created  \n",
       "0  The previous thread was finally archived with ...  1.619890e+09  \n",
       "1  Tech Support: /r/techsupport\\n\\nComputer Recom...  1.634619e+09  \n",
       "2  I'm a university student, and while I've taken...  1.642654e+09  \n",
       "3  For example, if i want to change the image spe...  1.642622e+09  \n",
       "4  I am always wondering about this. Why Internet...  1.642581e+09  "
      ]
     },
     "execution_count": 6,
     "metadata": {},
     "output_type": "execute_result"
    }
   ],
   "source": [
    "world_posts.head()"
   ]
  },
  {
   "cell_type": "code",
   "execution_count": 7,
   "metadata": {},
   "outputs": [
    {
     "data": {
      "text/html": [
       "<div>\n",
       "<style scoped>\n",
       "    .dataframe tbody tr th:only-of-type {\n",
       "        vertical-align: middle;\n",
       "    }\n",
       "\n",
       "    .dataframe tbody tr th {\n",
       "        vertical-align: top;\n",
       "    }\n",
       "\n",
       "    .dataframe thead th {\n",
       "        text-align: right;\n",
       "    }\n",
       "</style>\n",
       "<table border=\"1\" class=\"dataframe\">\n",
       "  <thead>\n",
       "    <tr style=\"text-align: right;\">\n",
       "      <th></th>\n",
       "      <th>post_id</th>\n",
       "      <th>score</th>\n",
       "      <th>upvote_ratio</th>\n",
       "      <th>num_comments</th>\n",
       "      <th>body</th>\n",
       "    </tr>\n",
       "  </thead>\n",
       "  <tbody>\n",
       "    <tr>\n",
       "      <th>0</th>\n",
       "      <td>n2n0ax</td>\n",
       "      <td>375</td>\n",
       "      <td>1.00</td>\n",
       "      <td>1037</td>\n",
       "      <td>The previous thread was finally archived with ...</td>\n",
       "    </tr>\n",
       "    <tr>\n",
       "      <th>1</th>\n",
       "      <td>qb4bof</td>\n",
       "      <td>404</td>\n",
       "      <td>0.97</td>\n",
       "      <td>54</td>\n",
       "      <td>Tech Support: /r/techsupport\\n\\nComputer Recom...</td>\n",
       "    </tr>\n",
       "    <tr>\n",
       "      <th>2</th>\n",
       "      <td>s8afrp</td>\n",
       "      <td>12</td>\n",
       "      <td>0.88</td>\n",
       "      <td>3</td>\n",
       "      <td>I'm a university student, and while I've taken...</td>\n",
       "    </tr>\n",
       "    <tr>\n",
       "      <th>3</th>\n",
       "      <td>s7yrsa</td>\n",
       "      <td>23</td>\n",
       "      <td>0.82</td>\n",
       "      <td>19</td>\n",
       "      <td>For example, if i want to change the image spe...</td>\n",
       "    </tr>\n",
       "    <tr>\n",
       "      <th>4</th>\n",
       "      <td>s7li8v</td>\n",
       "      <td>59</td>\n",
       "      <td>0.95</td>\n",
       "      <td>41</td>\n",
       "      <td>I am always wondering about this. Why Internet...</td>\n",
       "    </tr>\n",
       "  </tbody>\n",
       "</table>\n",
       "</div>"
      ],
      "text/plain": [
       "  post_id  score  upvote_ratio  num_comments  \\\n",
       "0  n2n0ax    375          1.00          1037   \n",
       "1  qb4bof    404          0.97            54   \n",
       "2  s8afrp     12          0.88             3   \n",
       "3  s7yrsa     23          0.82            19   \n",
       "4  s7li8v     59          0.95            41   \n",
       "\n",
       "                                                body  \n",
       "0  The previous thread was finally archived with ...  \n",
       "1  Tech Support: /r/techsupport\\n\\nComputer Recom...  \n",
       "2  I'm a university student, and while I've taken...  \n",
       "3  For example, if i want to change the image spe...  \n",
       "4  I am always wondering about this. Why Internet...  "
      ]
     },
     "execution_count": 7,
     "metadata": {},
     "output_type": "execute_result"
    }
   ],
   "source": [
    "posts_df = world_posts.drop(columns=[\"subreddit\", \"url\",\"title\", \"created\"])\n",
    "posts_df.head()"
   ]
  },
  {
   "cell_type": "code",
   "execution_count": 8,
   "metadata": {},
   "outputs": [],
   "source": [
    "# posts_pre_df = PreProcess.preprocess(posts_df, 'body')\n",
    "# for i in range(len(posts_df.index)):\n",
    "#     posts_pre_df.at[i, 'body_string'] = ' '.join([str(elem) for elem in posts_pre_df.at[i, 'body_stem']])\n",
    "# posts_pre_df.head()"
   ]
  },
  {
   "cell_type": "code",
   "execution_count": 9,
   "metadata": {},
   "outputs": [
    {
     "data": {
      "text/html": [
       "<div>\n",
       "<style scoped>\n",
       "    .dataframe tbody tr th:only-of-type {\n",
       "        vertical-align: middle;\n",
       "    }\n",
       "\n",
       "    .dataframe tbody tr th {\n",
       "        vertical-align: top;\n",
       "    }\n",
       "\n",
       "    .dataframe thead th {\n",
       "        text-align: right;\n",
       "    }\n",
       "</style>\n",
       "<table border=\"1\" class=\"dataframe\">\n",
       "  <thead>\n",
       "    <tr style=\"text-align: right;\">\n",
       "      <th></th>\n",
       "      <th>post_id</th>\n",
       "      <th>score</th>\n",
       "      <th>upvote_ratio</th>\n",
       "      <th>num_comments</th>\n",
       "      <th>body</th>\n",
       "    </tr>\n",
       "  </thead>\n",
       "  <tbody>\n",
       "    <tr>\n",
       "      <th>0</th>\n",
       "      <td>n2n0ax</td>\n",
       "      <td>375</td>\n",
       "      <td>1.00</td>\n",
       "      <td>1037</td>\n",
       "      <td>The previous thread was finally archived with ...</td>\n",
       "    </tr>\n",
       "    <tr>\n",
       "      <th>1</th>\n",
       "      <td>qb4bof</td>\n",
       "      <td>404</td>\n",
       "      <td>0.97</td>\n",
       "      <td>54</td>\n",
       "      <td>Tech Support: /r/techsupportComputer Recommend...</td>\n",
       "    </tr>\n",
       "    <tr>\n",
       "      <th>2</th>\n",
       "      <td>s8afrp</td>\n",
       "      <td>12</td>\n",
       "      <td>0.88</td>\n",
       "      <td>3</td>\n",
       "      <td>I am a university student, and while I have ta...</td>\n",
       "    </tr>\n",
       "    <tr>\n",
       "      <th>3</th>\n",
       "      <td>s7yrsa</td>\n",
       "      <td>23</td>\n",
       "      <td>0.82</td>\n",
       "      <td>19</td>\n",
       "      <td>For example, if i want to change the image spe...</td>\n",
       "    </tr>\n",
       "    <tr>\n",
       "      <th>4</th>\n",
       "      <td>s7li8v</td>\n",
       "      <td>59</td>\n",
       "      <td>0.95</td>\n",
       "      <td>41</td>\n",
       "      <td>I am always wondering about this. Why Internet...</td>\n",
       "    </tr>\n",
       "    <tr>\n",
       "      <th>...</th>\n",
       "      <td>...</td>\n",
       "      <td>...</td>\n",
       "      <td>...</td>\n",
       "      <td>...</td>\n",
       "      <td>...</td>\n",
       "    </tr>\n",
       "    <tr>\n",
       "      <th>487</th>\n",
       "      <td>q0ta23</td>\n",
       "      <td>1</td>\n",
       "      <td>1.00</td>\n",
       "      <td>1</td>\n",
       "      <td></td>\n",
       "    </tr>\n",
       "    <tr>\n",
       "      <th>488</th>\n",
       "      <td>pr5s8k</td>\n",
       "      <td>477</td>\n",
       "      <td>0.90</td>\n",
       "      <td>98</td>\n",
       "      <td>I hear lots of people think that Computer Scie...</td>\n",
       "    </tr>\n",
       "    <tr>\n",
       "      <th>489</th>\n",
       "      <td>oyunkm</td>\n",
       "      <td>997</td>\n",
       "      <td>0.99</td>\n",
       "      <td>82</td>\n",
       "      <td></td>\n",
       "    </tr>\n",
       "    <tr>\n",
       "      <th>490</th>\n",
       "      <td>nxaitf</td>\n",
       "      <td>122</td>\n",
       "      <td>0.94</td>\n",
       "      <td>43</td>\n",
       "      <td></td>\n",
       "    </tr>\n",
       "    <tr>\n",
       "      <th>491</th>\n",
       "      <td>myc3u1</td>\n",
       "      <td>99</td>\n",
       "      <td>0.97</td>\n",
       "      <td>21</td>\n",
       "      <td>Hey guys.   I have programmed for a few years ...</td>\n",
       "    </tr>\n",
       "  </tbody>\n",
       "</table>\n",
       "<p>492 rows × 5 columns</p>\n",
       "</div>"
      ],
      "text/plain": [
       "    post_id  score  upvote_ratio  num_comments  \\\n",
       "0    n2n0ax    375          1.00          1037   \n",
       "1    qb4bof    404          0.97            54   \n",
       "2    s8afrp     12          0.88             3   \n",
       "3    s7yrsa     23          0.82            19   \n",
       "4    s7li8v     59          0.95            41   \n",
       "..      ...    ...           ...           ...   \n",
       "487  q0ta23      1          1.00             1   \n",
       "488  pr5s8k    477          0.90            98   \n",
       "489  oyunkm    997          0.99            82   \n",
       "490  nxaitf    122          0.94            43   \n",
       "491  myc3u1     99          0.97            21   \n",
       "\n",
       "                                                  body  \n",
       "0    The previous thread was finally archived with ...  \n",
       "1    Tech Support: /r/techsupportComputer Recommend...  \n",
       "2    I am a university student, and while I have ta...  \n",
       "3    For example, if i want to change the image spe...  \n",
       "4    I am always wondering about this. Why Internet...  \n",
       "..                                                 ...  \n",
       "487                                                     \n",
       "488  I hear lots of people think that Computer Scie...  \n",
       "489                                                     \n",
       "490                                                     \n",
       "491  Hey guys.   I have programmed for a few years ...  \n",
       "\n",
       "[492 rows x 5 columns]"
      ]
     },
     "execution_count": 9,
     "metadata": {},
     "output_type": "execute_result"
    }
   ],
   "source": [
    "preprocess(posts_df, \"body\")"
   ]
  },
  {
   "cell_type": "markdown",
   "metadata": {},
   "source": [
    "### Comments"
   ]
  },
  {
   "cell_type": "code",
   "execution_count": 10,
   "metadata": {},
   "outputs": [
    {
     "data": {
      "text/html": [
       "<div>\n",
       "<style scoped>\n",
       "    .dataframe tbody tr th:only-of-type {\n",
       "        vertical-align: middle;\n",
       "    }\n",
       "\n",
       "    .dataframe tbody tr th {\n",
       "        vertical-align: top;\n",
       "    }\n",
       "\n",
       "    .dataframe thead th {\n",
       "        text-align: right;\n",
       "    }\n",
       "</style>\n",
       "<table border=\"1\" class=\"dataframe\">\n",
       "  <thead>\n",
       "    <tr style=\"text-align: right;\">\n",
       "      <th></th>\n",
       "      <th>post_id</th>\n",
       "      <th>comment</th>\n",
       "    </tr>\n",
       "  </thead>\n",
       "  <tbody>\n",
       "    <tr>\n",
       "      <th>0</th>\n",
       "      <td>n2n0ax</td>\n",
       "      <td>How late is too late to start a career in prog...</td>\n",
       "    </tr>\n",
       "    <tr>\n",
       "      <th>1</th>\n",
       "      <td>n2n0ax</td>\n",
       "      <td>I am a freshman at a university and haven't be...</td>\n",
       "    </tr>\n",
       "    <tr>\n",
       "      <th>2</th>\n",
       "      <td>n2n0ax</td>\n",
       "      <td>I'm still in highschool but really interested ...</td>\n",
       "    </tr>\n",
       "    <tr>\n",
       "      <th>3</th>\n",
       "      <td>n2n0ax</td>\n",
       "      <td>This is probably a common question, but how we...</td>\n",
       "    </tr>\n",
       "    <tr>\n",
       "      <th>4</th>\n",
       "      <td>n2n0ax</td>\n",
       "      <td>I am planning on starting a CS major this fall...</td>\n",
       "    </tr>\n",
       "  </tbody>\n",
       "</table>\n",
       "</div>"
      ],
      "text/plain": [
       "  post_id                                            comment\n",
       "0  n2n0ax  How late is too late to start a career in prog...\n",
       "1  n2n0ax  I am a freshman at a university and haven't be...\n",
       "2  n2n0ax  I'm still in highschool but really interested ...\n",
       "3  n2n0ax  This is probably a common question, but how we...\n",
       "4  n2n0ax  I am planning on starting a CS major this fall..."
      ]
     },
     "execution_count": 10,
     "metadata": {},
     "output_type": "execute_result"
    }
   ],
   "source": [
    "comments_df = world_comments.copy()\n",
    "comments_df.head()"
   ]
  },
  {
   "cell_type": "code",
   "execution_count": 11,
   "metadata": {},
   "outputs": [
    {
     "data": {
      "text/html": [
       "<div>\n",
       "<style scoped>\n",
       "    .dataframe tbody tr th:only-of-type {\n",
       "        vertical-align: middle;\n",
       "    }\n",
       "\n",
       "    .dataframe tbody tr th {\n",
       "        vertical-align: top;\n",
       "    }\n",
       "\n",
       "    .dataframe thead th {\n",
       "        text-align: right;\n",
       "    }\n",
       "</style>\n",
       "<table border=\"1\" class=\"dataframe\">\n",
       "  <thead>\n",
       "    <tr style=\"text-align: right;\">\n",
       "      <th></th>\n",
       "      <th>post_id</th>\n",
       "      <th>comment</th>\n",
       "    </tr>\n",
       "  </thead>\n",
       "  <tbody>\n",
       "    <tr>\n",
       "      <th>0</th>\n",
       "      <td>n2n0ax</td>\n",
       "      <td>How late is too late to start a career in prog...</td>\n",
       "    </tr>\n",
       "    <tr>\n",
       "      <th>1</th>\n",
       "      <td>n2n0ax</td>\n",
       "      <td>I am a freshman at a university and have not b...</td>\n",
       "    </tr>\n",
       "    <tr>\n",
       "      <th>2</th>\n",
       "      <td>n2n0ax</td>\n",
       "      <td>I am still in highschool but really interested...</td>\n",
       "    </tr>\n",
       "    <tr>\n",
       "      <th>3</th>\n",
       "      <td>n2n0ax</td>\n",
       "      <td>This is probably a common question, but how we...</td>\n",
       "    </tr>\n",
       "    <tr>\n",
       "      <th>4</th>\n",
       "      <td>n2n0ax</td>\n",
       "      <td>I am planning on starting a CS major this fall...</td>\n",
       "    </tr>\n",
       "    <tr>\n",
       "      <th>...</th>\n",
       "      <td>...</td>\n",
       "      <td>...</td>\n",
       "    </tr>\n",
       "    <tr>\n",
       "      <th>3174</th>\n",
       "      <td>myc3u1</td>\n",
       "      <td>Look for Ben Eater on YouTube if you are looki...</td>\n",
       "    </tr>\n",
       "    <tr>\n",
       "      <th>3175</th>\n",
       "      <td>myc3u1</td>\n",
       "      <td>I would recommend \"Structured Computer Organiz...</td>\n",
       "    </tr>\n",
       "    <tr>\n",
       "      <th>3176</th>\n",
       "      <td>myc3u1</td>\n",
       "      <td>Just to give you a very brief overview, there ...</td>\n",
       "    </tr>\n",
       "    <tr>\n",
       "      <th>3177</th>\n",
       "      <td>myc3u1</td>\n",
       "      <td>Thank you for this amazing list of resources :...</td>\n",
       "    </tr>\n",
       "    <tr>\n",
       "      <th>3178</th>\n",
       "      <td>myc3u1</td>\n",
       "      <td>There is a class called “computer organization...</td>\n",
       "    </tr>\n",
       "  </tbody>\n",
       "</table>\n",
       "<p>3179 rows × 2 columns</p>\n",
       "</div>"
      ],
      "text/plain": [
       "     post_id                                            comment\n",
       "0     n2n0ax  How late is too late to start a career in prog...\n",
       "1     n2n0ax  I am a freshman at a university and have not b...\n",
       "2     n2n0ax  I am still in highschool but really interested...\n",
       "3     n2n0ax  This is probably a common question, but how we...\n",
       "4     n2n0ax  I am planning on starting a CS major this fall...\n",
       "...      ...                                                ...\n",
       "3174  myc3u1  Look for Ben Eater on YouTube if you are looki...\n",
       "3175  myc3u1  I would recommend \"Structured Computer Organiz...\n",
       "3176  myc3u1  Just to give you a very brief overview, there ...\n",
       "3177  myc3u1  Thank you for this amazing list of resources :...\n",
       "3178  myc3u1  There is a class called “computer organization...\n",
       "\n",
       "[3179 rows x 2 columns]"
      ]
     },
     "execution_count": 11,
     "metadata": {},
     "output_type": "execute_result"
    }
   ],
   "source": [
    "preprocess(comments_df, \"comment\")"
   ]
  },
  {
   "cell_type": "markdown",
   "metadata": {},
   "source": [
    "# 2. BERT Sentiment Analysis"
   ]
  },
  {
   "cell_type": "code",
   "execution_count": 18,
   "metadata": {},
   "outputs": [],
   "source": [
    "tokenizer = AutoTokenizer.from_pretrained('nlptown/bert-base-multilingual-uncased-sentiment')\n",
    "model = AutoModelForSequenceClassification.from_pretrained('nlptown/bert-base-multilingual-uncased-sentiment')"
   ]
  },
  {
   "cell_type": "code",
   "execution_count": 19,
   "metadata": {},
   "outputs": [],
   "source": [
    "def sentiment_score(post):\n",
    "    tokens = tokenizer.encode(post, return_tensors='pt')\n",
    "    result = model(tokens)\n",
    "    return int(torch.argmax(result.logits))+1"
   ]
  },
  {
   "cell_type": "code",
   "execution_count": 20,
   "metadata": {},
   "outputs": [
    {
     "data": {
      "text/html": [
       "<div>\n",
       "<style scoped>\n",
       "    .dataframe tbody tr th:only-of-type {\n",
       "        vertical-align: middle;\n",
       "    }\n",
       "\n",
       "    .dataframe tbody tr th {\n",
       "        vertical-align: top;\n",
       "    }\n",
       "\n",
       "    .dataframe thead th {\n",
       "        text-align: right;\n",
       "    }\n",
       "</style>\n",
       "<table border=\"1\" class=\"dataframe\">\n",
       "  <thead>\n",
       "    <tr style=\"text-align: right;\">\n",
       "      <th></th>\n",
       "      <th>post_id</th>\n",
       "      <th>score</th>\n",
       "      <th>upvote_ratio</th>\n",
       "      <th>num_comments</th>\n",
       "      <th>body</th>\n",
       "      <th>sentiment</th>\n",
       "    </tr>\n",
       "  </thead>\n",
       "  <tbody>\n",
       "    <tr>\n",
       "      <th>0</th>\n",
       "      <td>n2n0ax</td>\n",
       "      <td>375</td>\n",
       "      <td>1.00</td>\n",
       "      <td>1037</td>\n",
       "      <td>The previous thread was finally archived with ...</td>\n",
       "      <td>5</td>\n",
       "    </tr>\n",
       "    <tr>\n",
       "      <th>1</th>\n",
       "      <td>qb4bof</td>\n",
       "      <td>404</td>\n",
       "      <td>0.97</td>\n",
       "      <td>54</td>\n",
       "      <td>Tech Support: /r/techsupportComputer Recommend...</td>\n",
       "      <td>2</td>\n",
       "    </tr>\n",
       "    <tr>\n",
       "      <th>2</th>\n",
       "      <td>s8afrp</td>\n",
       "      <td>12</td>\n",
       "      <td>0.88</td>\n",
       "      <td>3</td>\n",
       "      <td>I am a university student, and while I have ta...</td>\n",
       "      <td>2</td>\n",
       "    </tr>\n",
       "    <tr>\n",
       "      <th>3</th>\n",
       "      <td>s7yrsa</td>\n",
       "      <td>23</td>\n",
       "      <td>0.82</td>\n",
       "      <td>19</td>\n",
       "      <td>For example, if i want to change the image spe...</td>\n",
       "      <td>3</td>\n",
       "    </tr>\n",
       "    <tr>\n",
       "      <th>4</th>\n",
       "      <td>s7li8v</td>\n",
       "      <td>59</td>\n",
       "      <td>0.95</td>\n",
       "      <td>41</td>\n",
       "      <td>I am always wondering about this. Why Internet...</td>\n",
       "      <td>2</td>\n",
       "    </tr>\n",
       "  </tbody>\n",
       "</table>\n",
       "</div>"
      ],
      "text/plain": [
       "  post_id  score  upvote_ratio  num_comments  \\\n",
       "0  n2n0ax    375          1.00          1037   \n",
       "1  qb4bof    404          0.97            54   \n",
       "2  s8afrp     12          0.88             3   \n",
       "3  s7yrsa     23          0.82            19   \n",
       "4  s7li8v     59          0.95            41   \n",
       "\n",
       "                                                body  sentiment  \n",
       "0  The previous thread was finally archived with ...          5  \n",
       "1  Tech Support: /r/techsupportComputer Recommend...          2  \n",
       "2  I am a university student, and while I have ta...          2  \n",
       "3  For example, if i want to change the image spe...          3  \n",
       "4  I am always wondering about this. Why Internet...          2  "
      ]
     },
     "execution_count": 20,
     "metadata": {},
     "output_type": "execute_result"
    }
   ],
   "source": [
    "posts_df['sentiment'] = posts_df['body'].apply(lambda x: sentiment_score(x[:512]))\n",
    "posts_df.head()"
   ]
  },
  {
   "cell_type": "code",
   "execution_count": 22,
   "metadata": {},
   "outputs": [
    {
     "data": {
      "text/html": [
       "<div>\n",
       "<style scoped>\n",
       "    .dataframe tbody tr th:only-of-type {\n",
       "        vertical-align: middle;\n",
       "    }\n",
       "\n",
       "    .dataframe tbody tr th {\n",
       "        vertical-align: top;\n",
       "    }\n",
       "\n",
       "    .dataframe thead th {\n",
       "        text-align: right;\n",
       "    }\n",
       "</style>\n",
       "<table border=\"1\" class=\"dataframe\">\n",
       "  <thead>\n",
       "    <tr style=\"text-align: right;\">\n",
       "      <th></th>\n",
       "      <th>post_id</th>\n",
       "      <th>comment</th>\n",
       "      <th>sentiment</th>\n",
       "    </tr>\n",
       "  </thead>\n",
       "  <tbody>\n",
       "    <tr>\n",
       "      <th>0</th>\n",
       "      <td>n2n0ax</td>\n",
       "      <td>How late is too late to start a career in prog...</td>\n",
       "      <td>1</td>\n",
       "    </tr>\n",
       "    <tr>\n",
       "      <th>1</th>\n",
       "      <td>n2n0ax</td>\n",
       "      <td>I am a freshman at a university and have not b...</td>\n",
       "      <td>3</td>\n",
       "    </tr>\n",
       "    <tr>\n",
       "      <th>2</th>\n",
       "      <td>n2n0ax</td>\n",
       "      <td>I am still in highschool but really interested...</td>\n",
       "      <td>4</td>\n",
       "    </tr>\n",
       "    <tr>\n",
       "      <th>3</th>\n",
       "      <td>n2n0ax</td>\n",
       "      <td>This is probably a common question, but how we...</td>\n",
       "      <td>3</td>\n",
       "    </tr>\n",
       "    <tr>\n",
       "      <th>4</th>\n",
       "      <td>n2n0ax</td>\n",
       "      <td>I am planning on starting a CS major this fall...</td>\n",
       "      <td>3</td>\n",
       "    </tr>\n",
       "  </tbody>\n",
       "</table>\n",
       "</div>"
      ],
      "text/plain": [
       "  post_id                                            comment  sentiment\n",
       "0  n2n0ax  How late is too late to start a career in prog...          1\n",
       "1  n2n0ax  I am a freshman at a university and have not b...          3\n",
       "2  n2n0ax  I am still in highschool but really interested...          4\n",
       "3  n2n0ax  This is probably a common question, but how we...          3\n",
       "4  n2n0ax  I am planning on starting a CS major this fall...          3"
      ]
     },
     "execution_count": 22,
     "metadata": {},
     "output_type": "execute_result"
    }
   ],
   "source": [
    "comments_df['sentiment'] = comments_df['comment'].apply(lambda x: sentiment_score(x[:512]))\n",
    "comments_df.head()"
   ]
  },
  {
   "cell_type": "markdown",
   "metadata": {},
   "source": [
    "# 3. EDA sentiments of Posts and Comments"
   ]
  },
  {
   "cell_type": "code",
   "execution_count": 25,
   "metadata": {},
   "outputs": [
    {
     "data": {
      "text/html": [
       "<div>\n",
       "<style scoped>\n",
       "    .dataframe tbody tr th:only-of-type {\n",
       "        vertical-align: middle;\n",
       "    }\n",
       "\n",
       "    .dataframe tbody tr th {\n",
       "        vertical-align: top;\n",
       "    }\n",
       "\n",
       "    .dataframe thead th {\n",
       "        text-align: right;\n",
       "    }\n",
       "</style>\n",
       "<table border=\"1\" class=\"dataframe\">\n",
       "  <thead>\n",
       "    <tr style=\"text-align: right;\">\n",
       "      <th></th>\n",
       "      <th>score</th>\n",
       "      <th>upvote_ratio</th>\n",
       "      <th>num_comments</th>\n",
       "      <th>sentiment</th>\n",
       "    </tr>\n",
       "  </thead>\n",
       "  <tbody>\n",
       "    <tr>\n",
       "      <th>score</th>\n",
       "      <td>1.000000</td>\n",
       "      <td>0.251304</td>\n",
       "      <td>0.270162</td>\n",
       "      <td>0.125229</td>\n",
       "    </tr>\n",
       "    <tr>\n",
       "      <th>upvote_ratio</th>\n",
       "      <td>0.251304</td>\n",
       "      <td>1.000000</td>\n",
       "      <td>0.116940</td>\n",
       "      <td>0.115457</td>\n",
       "    </tr>\n",
       "    <tr>\n",
       "      <th>num_comments</th>\n",
       "      <td>0.270162</td>\n",
       "      <td>0.116940</td>\n",
       "      <td>1.000000</td>\n",
       "      <td>0.060817</td>\n",
       "    </tr>\n",
       "    <tr>\n",
       "      <th>sentiment</th>\n",
       "      <td>0.125229</td>\n",
       "      <td>0.115457</td>\n",
       "      <td>0.060817</td>\n",
       "      <td>1.000000</td>\n",
       "    </tr>\n",
       "  </tbody>\n",
       "</table>\n",
       "</div>"
      ],
      "text/plain": [
       "                 score  upvote_ratio  num_comments  sentiment\n",
       "score         1.000000      0.251304      0.270162   0.125229\n",
       "upvote_ratio  0.251304      1.000000      0.116940   0.115457\n",
       "num_comments  0.270162      0.116940      1.000000   0.060817\n",
       "sentiment     0.125229      0.115457      0.060817   1.000000"
      ]
     },
     "execution_count": 25,
     "metadata": {},
     "output_type": "execute_result"
    }
   ],
   "source": [
    "posts_df.corr()"
   ]
  },
  {
   "cell_type": "code",
   "execution_count": 37,
   "metadata": {},
   "outputs": [
    {
     "name": "stdout",
     "output_type": "stream",
     "text": [
      "1     61\n",
      "2     92\n",
      "3    142\n",
      "4    167\n",
      "5     30\n",
      "Name: sentiment, dtype: int64\n"
     ]
    },
    {
     "data": {
      "image/png": "[encoded data removed]",
      "text/plain": [
       "<Figure size 432x288 with 1 Axes>"
      ]
     },
     "metadata": {
      "needs_background": "light"
     },
     "output_type": "display_data"
    }
   ],
   "source": [
    "posts_df.sentiment.value_counts().loc[[1, 2, 3, 4, 5]].plot(kind='bar', xlabel='sentiment', ylabel='frequency')\n",
    "pprint(posts_df.sentiment.value_counts().loc[[1, 2, 3, 4, 5]])\n",
    "plt.show()"
   ]
  },
  {
   "cell_type": "code",
   "execution_count": 52,
   "metadata": {},
   "outputs": [
    {
     "name": "stdout",
     "output_type": "stream",
     "text": [
      "Looking at one post with id: n2n0ax\n"
     ]
    },
    {
     "data": {
      "text/html": [
       "<div>\n",
       "<style scoped>\n",
       "    .dataframe tbody tr th:only-of-type {\n",
       "        vertical-align: middle;\n",
       "    }\n",
       "\n",
       "    .dataframe tbody tr th {\n",
       "        vertical-align: top;\n",
       "    }\n",
       "\n",
       "    .dataframe thead th {\n",
       "        text-align: right;\n",
       "    }\n",
       "</style>\n",
       "<table border=\"1\" class=\"dataframe\">\n",
       "  <thead>\n",
       "    <tr style=\"text-align: right;\">\n",
       "      <th></th>\n",
       "      <th>post_id</th>\n",
       "      <th>score</th>\n",
       "      <th>upvote_ratio</th>\n",
       "      <th>num_comments</th>\n",
       "      <th>body</th>\n",
       "      <th>sentiment</th>\n",
       "    </tr>\n",
       "  </thead>\n",
       "  <tbody>\n",
       "    <tr>\n",
       "      <th>0</th>\n",
       "      <td>n2n0ax</td>\n",
       "      <td>375</td>\n",
       "      <td>1.0</td>\n",
       "      <td>1037</td>\n",
       "      <td>The previous thread was finally archived with ...</td>\n",
       "      <td>5</td>\n",
       "    </tr>\n",
       "  </tbody>\n",
       "</table>\n",
       "</div>"
      ],
      "text/plain": [
       "  post_id  score  upvote_ratio  num_comments  \\\n",
       "0  n2n0ax    375           1.0          1037   \n",
       "\n",
       "                                                body  sentiment  \n",
       "0  The previous thread was finally archived with ...          5  "
      ]
     },
     "execution_count": 52,
     "metadata": {},
     "output_type": "execute_result"
    }
   ],
   "source": [
    "temp_id = posts_df.post_id[0]\n",
    "print(\"Looking at one post with id:\",temp_id)\n",
    "posts_df.head(1)"
   ]
  },
  {
   "cell_type": "code",
   "execution_count": 56,
   "metadata": {},
   "outputs": [
    {
     "name": "stderr",
     "output_type": "stream",
     "text": [
      "/Users/saimuktevi/opt/anaconda3/lib/python3.8/site-packages/numpy/core/fromnumeric.py:3474: RuntimeWarning: Mean of empty slice.\n",
      "  return _methods._mean(a, axis=axis, dtype=dtype,\n",
      "/Users/saimuktevi/opt/anaconda3/lib/python3.8/site-packages/numpy/core/_methods.py:189: RuntimeWarning: invalid value encountered in double_scalars\n",
      "  ret = ret.dtype.type(ret / rcount)\n"
     ]
    }
   ],
   "source": [
    "median_sentiment_list=[]\n",
    "for i in posts_df.post_id:\n",
    "    median_sentiment_list.append(np.median(comments_df[comments_df.post_id==i].sentiment))\n",
    "posts_df['median_comments_sentiment'] = median_sentiment_list"
   ]
  },
  {
   "cell_type": "code",
   "execution_count": 58,
   "metadata": {},
   "outputs": [
    {
     "data": {
      "text/html": [
       "<div>\n",
       "<style scoped>\n",
       "    .dataframe tbody tr th:only-of-type {\n",
       "        vertical-align: middle;\n",
       "    }\n",
       "\n",
       "    .dataframe tbody tr th {\n",
       "        vertical-align: top;\n",
       "    }\n",
       "\n",
       "    .dataframe thead th {\n",
       "        text-align: right;\n",
       "    }\n",
       "</style>\n",
       "<table border=\"1\" class=\"dataframe\">\n",
       "  <thead>\n",
       "    <tr style=\"text-align: right;\">\n",
       "      <th></th>\n",
       "      <th>post_id</th>\n",
       "      <th>score</th>\n",
       "      <th>upvote_ratio</th>\n",
       "      <th>num_comments</th>\n",
       "      <th>body</th>\n",
       "      <th>sentiment</th>\n",
       "      <th>median_comments_sentiment</th>\n",
       "    </tr>\n",
       "  </thead>\n",
       "  <tbody>\n",
       "    <tr>\n",
       "      <th>0</th>\n",
       "      <td>n2n0ax</td>\n",
       "      <td>375</td>\n",
       "      <td>1.00</td>\n",
       "      <td>1037</td>\n",
       "      <td>The previous thread was finally archived with ...</td>\n",
       "      <td>5</td>\n",
       "      <td>3.0</td>\n",
       "    </tr>\n",
       "    <tr>\n",
       "      <th>1</th>\n",
       "      <td>qb4bof</td>\n",
       "      <td>404</td>\n",
       "      <td>0.97</td>\n",
       "      <td>54</td>\n",
       "      <td>Tech Support: /r/techsupportComputer Recommend...</td>\n",
       "      <td>2</td>\n",
       "      <td>3.0</td>\n",
       "    </tr>\n",
       "    <tr>\n",
       "      <th>2</th>\n",
       "      <td>s8afrp</td>\n",
       "      <td>12</td>\n",
       "      <td>0.88</td>\n",
       "      <td>3</td>\n",
       "      <td>I am a university student, and while I have ta...</td>\n",
       "      <td>2</td>\n",
       "      <td>2.0</td>\n",
       "    </tr>\n",
       "    <tr>\n",
       "      <th>3</th>\n",
       "      <td>s7yrsa</td>\n",
       "      <td>23</td>\n",
       "      <td>0.82</td>\n",
       "      <td>19</td>\n",
       "      <td>For example, if i want to change the image spe...</td>\n",
       "      <td>3</td>\n",
       "      <td>2.5</td>\n",
       "    </tr>\n",
       "    <tr>\n",
       "      <th>4</th>\n",
       "      <td>s7li8v</td>\n",
       "      <td>59</td>\n",
       "      <td>0.95</td>\n",
       "      <td>41</td>\n",
       "      <td>I am always wondering about this. Why Internet...</td>\n",
       "      <td>2</td>\n",
       "      <td>3.0</td>\n",
       "    </tr>\n",
       "  </tbody>\n",
       "</table>\n",
       "</div>"
      ],
      "text/plain": [
       "  post_id  score  upvote_ratio  num_comments  \\\n",
       "0  n2n0ax    375          1.00          1037   \n",
       "1  qb4bof    404          0.97            54   \n",
       "2  s8afrp     12          0.88             3   \n",
       "3  s7yrsa     23          0.82            19   \n",
       "4  s7li8v     59          0.95            41   \n",
       "\n",
       "                                                body  sentiment  \\\n",
       "0  The previous thread was finally archived with ...          5   \n",
       "1  Tech Support: /r/techsupportComputer Recommend...          2   \n",
       "2  I am a university student, and while I have ta...          2   \n",
       "3  For example, if i want to change the image spe...          3   \n",
       "4  I am always wondering about this. Why Internet...          2   \n",
       "\n",
       "   median_comments_sentiment  \n",
       "0                        3.0  \n",
       "1                        3.0  \n",
       "2                        2.0  \n",
       "3                        2.5  \n",
       "4                        3.0  "
      ]
     },
     "execution_count": 58,
     "metadata": {},
     "output_type": "execute_result"
    }
   ],
   "source": [
    "posts_df.head()"
   ]
  },
  {
   "cell_type": "code",
   "execution_count": 63,
   "metadata": {},
   "outputs": [
    {
     "data": {
      "image/png": "[encoded data removed]",
      "text/plain": [
       "<Figure size 432x288 with 1 Axes>"
      ]
     },
     "metadata": {
      "needs_background": "light"
     },
     "output_type": "display_data"
    },
    {
     "data": {
      "image/png": "[encoded data removed]",
      "text/plain": [
       "<Figure size 432x288 with 1 Axes>"
      ]
     },
     "metadata": {
      "needs_background": "light"
     },
     "output_type": "display_data"
    }
   ],
   "source": [
    "posts_df.sentiment.value_counts().loc[[1, 2, 3, 4, 5]].plot(kind='bar', xlabel='sentiment', ylabel='frequency')\n",
    "plt.show()\n",
    "posts_df.median_comments_sentiment.value_counts().loc[[1, 2, 3, 4, 5]].plot(kind='bar', xlabel='median_sentiment', ylabel='frequency')\n",
    "plt.show()"
   ]
  },
  {
   "cell_type": "markdown",
   "metadata": {},
   "source": [
    "# 4. Observing with post Metadata"
   ]
  },
  {
   "cell_type": "code",
   "execution_count": 93,
   "metadata": {},
   "outputs": [
    {
     "data": {
      "text/html": [
       "<div>\n",
       "<style scoped>\n",
       "    .dataframe tbody tr th:only-of-type {\n",
       "        vertical-align: middle;\n",
       "    }\n",
       "\n",
       "    .dataframe tbody tr th {\n",
       "        vertical-align: top;\n",
       "    }\n",
       "\n",
       "    .dataframe thead th {\n",
       "        text-align: right;\n",
       "    }\n",
       "</style>\n",
       "<table border=\"1\" class=\"dataframe\">\n",
       "  <thead>\n",
       "    <tr style=\"text-align: right;\">\n",
       "      <th></th>\n",
       "      <th>post_id</th>\n",
       "      <th>score</th>\n",
       "      <th>upvote_ratio</th>\n",
       "      <th>num_comments</th>\n",
       "      <th>sentiment</th>\n",
       "    </tr>\n",
       "  </thead>\n",
       "  <tbody>\n",
       "    <tr>\n",
       "      <th>0</th>\n",
       "      <td>n2n0ax</td>\n",
       "      <td>375</td>\n",
       "      <td>1.00</td>\n",
       "      <td>1037</td>\n",
       "      <td>5</td>\n",
       "    </tr>\n",
       "    <tr>\n",
       "      <th>1</th>\n",
       "      <td>qb4bof</td>\n",
       "      <td>404</td>\n",
       "      <td>0.97</td>\n",
       "      <td>54</td>\n",
       "      <td>2</td>\n",
       "    </tr>\n",
       "    <tr>\n",
       "      <th>2</th>\n",
       "      <td>s8afrp</td>\n",
       "      <td>12</td>\n",
       "      <td>0.88</td>\n",
       "      <td>3</td>\n",
       "      <td>2</td>\n",
       "    </tr>\n",
       "    <tr>\n",
       "      <th>3</th>\n",
       "      <td>s7yrsa</td>\n",
       "      <td>23</td>\n",
       "      <td>0.82</td>\n",
       "      <td>19</td>\n",
       "      <td>3</td>\n",
       "    </tr>\n",
       "    <tr>\n",
       "      <th>4</th>\n",
       "      <td>s7li8v</td>\n",
       "      <td>59</td>\n",
       "      <td>0.95</td>\n",
       "      <td>41</td>\n",
       "      <td>2</td>\n",
       "    </tr>\n",
       "    <tr>\n",
       "      <th>...</th>\n",
       "      <td>...</td>\n",
       "      <td>...</td>\n",
       "      <td>...</td>\n",
       "      <td>...</td>\n",
       "      <td>...</td>\n",
       "    </tr>\n",
       "    <tr>\n",
       "      <th>487</th>\n",
       "      <td>q0ta23</td>\n",
       "      <td>1</td>\n",
       "      <td>1.00</td>\n",
       "      <td>1</td>\n",
       "      <td>4</td>\n",
       "    </tr>\n",
       "    <tr>\n",
       "      <th>488</th>\n",
       "      <td>pr5s8k</td>\n",
       "      <td>477</td>\n",
       "      <td>0.90</td>\n",
       "      <td>98</td>\n",
       "      <td>2</td>\n",
       "    </tr>\n",
       "    <tr>\n",
       "      <th>489</th>\n",
       "      <td>oyunkm</td>\n",
       "      <td>997</td>\n",
       "      <td>0.99</td>\n",
       "      <td>82</td>\n",
       "      <td>4</td>\n",
       "    </tr>\n",
       "    <tr>\n",
       "      <th>490</th>\n",
       "      <td>nxaitf</td>\n",
       "      <td>122</td>\n",
       "      <td>0.94</td>\n",
       "      <td>43</td>\n",
       "      <td>4</td>\n",
       "    </tr>\n",
       "    <tr>\n",
       "      <th>491</th>\n",
       "      <td>myc3u1</td>\n",
       "      <td>99</td>\n",
       "      <td>0.97</td>\n",
       "      <td>21</td>\n",
       "      <td>4</td>\n",
       "    </tr>\n",
       "  </tbody>\n",
       "</table>\n",
       "<p>492 rows × 5 columns</p>\n",
       "</div>"
      ],
      "text/plain": [
       "    post_id  score  upvote_ratio  num_comments  sentiment\n",
       "0    n2n0ax    375          1.00          1037          5\n",
       "1    qb4bof    404          0.97            54          2\n",
       "2    s8afrp     12          0.88             3          2\n",
       "3    s7yrsa     23          0.82            19          3\n",
       "4    s7li8v     59          0.95            41          2\n",
       "..      ...    ...           ...           ...        ...\n",
       "487  q0ta23      1          1.00             1          4\n",
       "488  pr5s8k    477          0.90            98          2\n",
       "489  oyunkm    997          0.99            82          4\n",
       "490  nxaitf    122          0.94            43          4\n",
       "491  myc3u1     99          0.97            21          4\n",
       "\n",
       "[492 rows x 5 columns]"
      ]
     },
     "execution_count": 93,
     "metadata": {},
     "output_type": "execute_result"
    }
   ],
   "source": [
    "df = posts_df[['post_id','score','upvote_ratio','num_comments', 'sentiment']]\n",
    "df"
   ]
  },
  {
   "cell_type": "code",
   "execution_count": 104,
   "metadata": {},
   "outputs": [
    {
     "data": {
      "image/png": "[encoded data removed]",
      "text/plain": [
       "<Figure size 1440x216 with 1 Axes>"
      ]
     },
     "metadata": {
      "needs_background": "light"
     },
     "output_type": "display_data"
    }
   ],
   "source": [
    "plt.rcParams[\"figure.figsize\"] = (20,3)\n",
    "\n",
    "plt.scatter(df.score, df.num_comments)\n",
    "plt.show()"
   ]
  },
  {
   "cell_type": "code",
   "execution_count": 90,
   "metadata": {},
   "outputs": [
    {
     "data": {
      "text/plain": [
       "array([[0.24038462, 1.        , 1.        ],\n",
       "       [0.25897436, 0.96470588, 0.05207329],\n",
       "       [0.00769231, 0.85882353, 0.00289296],\n",
       "       ...,\n",
       "       [0.63910256, 0.98823529, 0.07907425],\n",
       "       [0.07820513, 0.92941176, 0.04146577],\n",
       "       [0.06346154, 0.96470588, 0.02025072]])"
      ]
     },
     "execution_count": 90,
     "metadata": {},
     "output_type": "execute_result"
    }
   ],
   "source": [
    "from sklearn.preprocessing import MinMaxScaler\n",
    "df = posts_df[['post_id','score','upvote_ratio','num_comments', 'sentiment']]\n",
    "sc = MinMaxScaler()\n",
    "df = sc.fit_transform(df[['score','upvote_ratio','num_comments']])\n",
    "df"
   ]
  },
  {
   "cell_type": "code",
   "execution_count": 91,
   "metadata": {},
   "outputs": [],
   "source": [
    "from mpl_toolkits import mplot3d\n",
    "from mpl_toolkits.mplot3d import Axes3D"
   ]
  },
  {
   "cell_type": "code",
   "execution_count": 92,
   "metadata": {},
   "outputs": [
    {
     "data": {
      "image/png": "[encoded data removed]",
      "text/plain": [
       "<Figure size 432x288 with 1 Axes>"
      ]
     },
     "metadata": {
      "needs_background": "light"
     },
     "output_type": "display_data"
    }
   ],
   "source": [
    "fig = plt.figure()\n",
    "ax = fig.add_subplot(111, projection='3d')\n",
    "# ax.scatter(df['score'], df['upvote_ratio'], df['num_comments'], c=df['sentiment'])\n",
    "ax.scatter(df[:, 0], df[:, 1], df[:, 2])\n",
    "plt.show()"
   ]
  },
  {
   "cell_type": "code",
   "execution_count": 23,
   "metadata": {},
   "outputs": [],
   "source": [
    "#also try with another subreddit"
   ]
  },
  {
   "cell_type": "markdown",
   "metadata": {},
   "source": [
    "# 5. Fine-Tuning BERT Sentiment Analysis for our Case"
   ]
  },
  {
   "cell_type": "code",
   "execution_count": null,
   "metadata": {},
   "outputs": [],
   "source": []
  }
 ],
 "metadata": {
  "kernelspec": {
   "display_name": "Python 3",
   "language": "python",
   "name": "python3"
  },
  "language_info": {
   "codemirror_mode": {
    "name": "ipython",
    "version": 3
   },
   "file_extension": ".py",
   "mimetype": "text/x-python",
   "name": "python",
   "nbconvert_exporter": "python",
   "pygments_lexer": "ipython3",
   "version": "3.9.7"
  }
 },
 "nbformat": 4,
 "nbformat_minor": 4
}
